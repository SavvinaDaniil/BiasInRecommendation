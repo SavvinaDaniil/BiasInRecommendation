{
  "nbformat": 4,
  "nbformat_minor": 0,
  "metadata": {
    "colab": {
      "provenance": [],
      "authorship_tag": "ABX9TyOWBp1EPNqw4sZAFKrjjTTD"
    },
    "kernelspec": {
      "name": "python3",
      "display_name": "Python 3"
    },
    "language_info": {
      "name": "python"
    },
    "widgets": {
      "application/vnd.jupyter.widget-state+json": {
        "43d9b0ab7c244241aff473ee10121852": {
          "model_module": "@jupyter-widgets/controls",
          "model_name": "HBoxModel",
          "model_module_version": "1.5.0",
          "state": {
            "_dom_classes": [],
            "_model_module": "@jupyter-widgets/controls",
            "_model_module_version": "1.5.0",
            "_model_name": "HBoxModel",
            "_view_count": null,
            "_view_module": "@jupyter-widgets/controls",
            "_view_module_version": "1.5.0",
            "_view_name": "HBoxView",
            "box_style": "",
            "children": [
              "IPY_MODEL_58242ee802174df9bd584927137a7539",
              "IPY_MODEL_bae76bf31e6b4ca1a7ab8a845b7a8c5d",
              "IPY_MODEL_66d526551949400f93f47e7775c609f7"
            ],
            "layout": "IPY_MODEL_5d132311c058407e91768c02706e4aef"
          }
        },
        "58242ee802174df9bd584927137a7539": {
          "model_module": "@jupyter-widgets/controls",
          "model_name": "HTMLModel",
          "model_module_version": "1.5.0",
          "state": {
            "_dom_classes": [],
            "_model_module": "@jupyter-widgets/controls",
            "_model_module_version": "1.5.0",
            "_model_name": "HTMLModel",
            "_view_count": null,
            "_view_module": "@jupyter-widgets/controls",
            "_view_module_version": "1.5.0",
            "_view_name": "HTMLView",
            "description": "",
            "description_tooltip": null,
            "layout": "IPY_MODEL_f9ca40adabdb4ba599e181d7db04ac7f",
            "placeholder": "​",
            "style": "IPY_MODEL_290ffe63488845b5a235bc875c53e047",
            "value": "100%"
          }
        },
        "bae76bf31e6b4ca1a7ab8a845b7a8c5d": {
          "model_module": "@jupyter-widgets/controls",
          "model_name": "FloatProgressModel",
          "model_module_version": "1.5.0",
          "state": {
            "_dom_classes": [],
            "_model_module": "@jupyter-widgets/controls",
            "_model_module_version": "1.5.0",
            "_model_name": "FloatProgressModel",
            "_view_count": null,
            "_view_module": "@jupyter-widgets/controls",
            "_view_module_version": "1.5.0",
            "_view_name": "ProgressView",
            "bar_style": "success",
            "description": "",
            "description_tooltip": null,
            "layout": "IPY_MODEL_a9bc99bc9a4c41c791f680eb96ae9671",
            "max": 50,
            "min": 0,
            "orientation": "horizontal",
            "style": "IPY_MODEL_1f2f423e4baa4237b4265f24929f203d",
            "value": 50
          }
        },
        "66d526551949400f93f47e7775c609f7": {
          "model_module": "@jupyter-widgets/controls",
          "model_name": "HTMLModel",
          "model_module_version": "1.5.0",
          "state": {
            "_dom_classes": [],
            "_model_module": "@jupyter-widgets/controls",
            "_model_module_version": "1.5.0",
            "_model_name": "HTMLModel",
            "_view_count": null,
            "_view_module": "@jupyter-widgets/controls",
            "_view_module_version": "1.5.0",
            "_view_name": "HTMLView",
            "description": "",
            "description_tooltip": null,
            "layout": "IPY_MODEL_71f4c86b842c4cda8431b98a9dc726f7",
            "placeholder": "​",
            "style": "IPY_MODEL_dd518e193fd6491c829939e75fa2c1cf",
            "value": " 50/50 [00:00&lt;00:00, 85.75it/s, loss=358527.66]"
          }
        },
        "5d132311c058407e91768c02706e4aef": {
          "model_module": "@jupyter-widgets/base",
          "model_name": "LayoutModel",
          "model_module_version": "1.2.0",
          "state": {
            "_model_module": "@jupyter-widgets/base",
            "_model_module_version": "1.2.0",
            "_model_name": "LayoutModel",
            "_view_count": null,
            "_view_module": "@jupyter-widgets/base",
            "_view_module_version": "1.2.0",
            "_view_name": "LayoutView",
            "align_content": null,
            "align_items": null,
            "align_self": null,
            "border": null,
            "bottom": null,
            "display": null,
            "flex": null,
            "flex_flow": null,
            "grid_area": null,
            "grid_auto_columns": null,
            "grid_auto_flow": null,
            "grid_auto_rows": null,
            "grid_column": null,
            "grid_gap": null,
            "grid_row": null,
            "grid_template_areas": null,
            "grid_template_columns": null,
            "grid_template_rows": null,
            "height": null,
            "justify_content": null,
            "justify_items": null,
            "left": null,
            "margin": null,
            "max_height": null,
            "max_width": null,
            "min_height": null,
            "min_width": null,
            "object_fit": null,
            "object_position": null,
            "order": null,
            "overflow": null,
            "overflow_x": null,
            "overflow_y": null,
            "padding": null,
            "right": null,
            "top": null,
            "visibility": null,
            "width": null
          }
        },
        "f9ca40adabdb4ba599e181d7db04ac7f": {
          "model_module": "@jupyter-widgets/base",
          "model_name": "LayoutModel",
          "model_module_version": "1.2.0",
          "state": {
            "_model_module": "@jupyter-widgets/base",
            "_model_module_version": "1.2.0",
            "_model_name": "LayoutModel",
            "_view_count": null,
            "_view_module": "@jupyter-widgets/base",
            "_view_module_version": "1.2.0",
            "_view_name": "LayoutView",
            "align_content": null,
            "align_items": null,
            "align_self": null,
            "border": null,
            "bottom": null,
            "display": null,
            "flex": null,
            "flex_flow": null,
            "grid_area": null,
            "grid_auto_columns": null,
            "grid_auto_flow": null,
            "grid_auto_rows": null,
            "grid_column": null,
            "grid_gap": null,
            "grid_row": null,
            "grid_template_areas": null,
            "grid_template_columns": null,
            "grid_template_rows": null,
            "height": null,
            "justify_content": null,
            "justify_items": null,
            "left": null,
            "margin": null,
            "max_height": null,
            "max_width": null,
            "min_height": null,
            "min_width": null,
            "object_fit": null,
            "object_position": null,
            "order": null,
            "overflow": null,
            "overflow_x": null,
            "overflow_y": null,
            "padding": null,
            "right": null,
            "top": null,
            "visibility": null,
            "width": null
          }
        },
        "290ffe63488845b5a235bc875c53e047": {
          "model_module": "@jupyter-widgets/controls",
          "model_name": "DescriptionStyleModel",
          "model_module_version": "1.5.0",
          "state": {
            "_model_module": "@jupyter-widgets/controls",
            "_model_module_version": "1.5.0",
            "_model_name": "DescriptionStyleModel",
            "_view_count": null,
            "_view_module": "@jupyter-widgets/base",
            "_view_module_version": "1.2.0",
            "_view_name": "StyleView",
            "description_width": ""
          }
        },
        "a9bc99bc9a4c41c791f680eb96ae9671": {
          "model_module": "@jupyter-widgets/base",
          "model_name": "LayoutModel",
          "model_module_version": "1.2.0",
          "state": {
            "_model_module": "@jupyter-widgets/base",
            "_model_module_version": "1.2.0",
            "_model_name": "LayoutModel",
            "_view_count": null,
            "_view_module": "@jupyter-widgets/base",
            "_view_module_version": "1.2.0",
            "_view_name": "LayoutView",
            "align_content": null,
            "align_items": null,
            "align_self": null,
            "border": null,
            "bottom": null,
            "display": null,
            "flex": null,
            "flex_flow": null,
            "grid_area": null,
            "grid_auto_columns": null,
            "grid_auto_flow": null,
            "grid_auto_rows": null,
            "grid_column": null,
            "grid_gap": null,
            "grid_row": null,
            "grid_template_areas": null,
            "grid_template_columns": null,
            "grid_template_rows": null,
            "height": null,
            "justify_content": null,
            "justify_items": null,
            "left": null,
            "margin": null,
            "max_height": null,
            "max_width": null,
            "min_height": null,
            "min_width": null,
            "object_fit": null,
            "object_position": null,
            "order": null,
            "overflow": null,
            "overflow_x": null,
            "overflow_y": null,
            "padding": null,
            "right": null,
            "top": null,
            "visibility": null,
            "width": null
          }
        },
        "1f2f423e4baa4237b4265f24929f203d": {
          "model_module": "@jupyter-widgets/controls",
          "model_name": "ProgressStyleModel",
          "model_module_version": "1.5.0",
          "state": {
            "_model_module": "@jupyter-widgets/controls",
            "_model_module_version": "1.5.0",
            "_model_name": "ProgressStyleModel",
            "_view_count": null,
            "_view_module": "@jupyter-widgets/base",
            "_view_module_version": "1.2.0",
            "_view_name": "StyleView",
            "bar_color": null,
            "description_width": ""
          }
        },
        "71f4c86b842c4cda8431b98a9dc726f7": {
          "model_module": "@jupyter-widgets/base",
          "model_name": "LayoutModel",
          "model_module_version": "1.2.0",
          "state": {
            "_model_module": "@jupyter-widgets/base",
            "_model_module_version": "1.2.0",
            "_model_name": "LayoutModel",
            "_view_count": null,
            "_view_module": "@jupyter-widgets/base",
            "_view_module_version": "1.2.0",
            "_view_name": "LayoutView",
            "align_content": null,
            "align_items": null,
            "align_self": null,
            "border": null,
            "bottom": null,
            "display": null,
            "flex": null,
            "flex_flow": null,
            "grid_area": null,
            "grid_auto_columns": null,
            "grid_auto_flow": null,
            "grid_auto_rows": null,
            "grid_column": null,
            "grid_gap": null,
            "grid_row": null,
            "grid_template_areas": null,
            "grid_template_columns": null,
            "grid_template_rows": null,
            "height": null,
            "justify_content": null,
            "justify_items": null,
            "left": null,
            "margin": null,
            "max_height": null,
            "max_width": null,
            "min_height": null,
            "min_width": null,
            "object_fit": null,
            "object_position": null,
            "order": null,
            "overflow": null,
            "overflow_x": null,
            "overflow_y": null,
            "padding": null,
            "right": null,
            "top": null,
            "visibility": null,
            "width": null
          }
        },
        "dd518e193fd6491c829939e75fa2c1cf": {
          "model_module": "@jupyter-widgets/controls",
          "model_name": "DescriptionStyleModel",
          "model_module_version": "1.5.0",
          "state": {
            "_model_module": "@jupyter-widgets/controls",
            "_model_module_version": "1.5.0",
            "_model_name": "DescriptionStyleModel",
            "_view_count": null,
            "_view_module": "@jupyter-widgets/base",
            "_view_module_version": "1.2.0",
            "_view_name": "StyleView",
            "description_width": ""
          }
        },
        "537fb746dd944352a0d3e1e66ddaeb0a": {
          "model_module": "@jupyter-widgets/controls",
          "model_name": "HBoxModel",
          "model_module_version": "1.5.0",
          "state": {
            "_dom_classes": [],
            "_model_module": "@jupyter-widgets/controls",
            "_model_module_version": "1.5.0",
            "_model_name": "HBoxModel",
            "_view_count": null,
            "_view_module": "@jupyter-widgets/controls",
            "_view_module_version": "1.5.0",
            "_view_name": "HBoxView",
            "box_style": "",
            "children": [
              "IPY_MODEL_36aa4270819b4d1b931965819fc312e8",
              "IPY_MODEL_affaadac3883409ca9d1bf733eba2eb2",
              "IPY_MODEL_8a0b2176880448aeac0ef32c1a052cc0"
            ],
            "layout": "IPY_MODEL_1699fe34daab485585ed7d046b2aa51b"
          }
        },
        "36aa4270819b4d1b931965819fc312e8": {
          "model_module": "@jupyter-widgets/controls",
          "model_name": "HTMLModel",
          "model_module_version": "1.5.0",
          "state": {
            "_dom_classes": [],
            "_model_module": "@jupyter-widgets/controls",
            "_model_module_version": "1.5.0",
            "_model_name": "HTMLModel",
            "_view_count": null,
            "_view_module": "@jupyter-widgets/controls",
            "_view_module_version": "1.5.0",
            "_view_name": "HTMLView",
            "description": "",
            "description_tooltip": null,
            "layout": "IPY_MODEL_4bbaf0a70aae4e529050c5f87ac34a37",
            "placeholder": "​",
            "style": "IPY_MODEL_788a3a38fa204e1981a4bd3806ba67c4",
            "value": "100%"
          }
        },
        "affaadac3883409ca9d1bf733eba2eb2": {
          "model_module": "@jupyter-widgets/controls",
          "model_name": "FloatProgressModel",
          "model_module_version": "1.5.0",
          "state": {
            "_dom_classes": [],
            "_model_module": "@jupyter-widgets/controls",
            "_model_module_version": "1.5.0",
            "_model_name": "FloatProgressModel",
            "_view_count": null,
            "_view_module": "@jupyter-widgets/controls",
            "_view_module_version": "1.5.0",
            "_view_name": "ProgressView",
            "bar_style": "success",
            "description": "",
            "description_tooltip": null,
            "layout": "IPY_MODEL_03c6dc7a6ed94aa39c87dc9493f59646",
            "max": 50,
            "min": 0,
            "orientation": "horizontal",
            "style": "IPY_MODEL_685ebf81325e420abf214da5b561f751",
            "value": 50
          }
        },
        "8a0b2176880448aeac0ef32c1a052cc0": {
          "model_module": "@jupyter-widgets/controls",
          "model_name": "HTMLModel",
          "model_module_version": "1.5.0",
          "state": {
            "_dom_classes": [],
            "_model_module": "@jupyter-widgets/controls",
            "_model_module_version": "1.5.0",
            "_model_name": "HTMLModel",
            "_view_count": null,
            "_view_module": "@jupyter-widgets/controls",
            "_view_module_version": "1.5.0",
            "_view_name": "HTMLView",
            "description": "",
            "description_tooltip": null,
            "layout": "IPY_MODEL_bd3975eed59641469e3dd929ec2eefe7",
            "placeholder": "​",
            "style": "IPY_MODEL_2918be98b6d54aa8803e11ba6f7c01ec",
            "value": " 50/50 [01:21&lt;00:00,  1.41s/it, loss=218]"
          }
        },
        "1699fe34daab485585ed7d046b2aa51b": {
          "model_module": "@jupyter-widgets/base",
          "model_name": "LayoutModel",
          "model_module_version": "1.2.0",
          "state": {
            "_model_module": "@jupyter-widgets/base",
            "_model_module_version": "1.2.0",
            "_model_name": "LayoutModel",
            "_view_count": null,
            "_view_module": "@jupyter-widgets/base",
            "_view_module_version": "1.2.0",
            "_view_name": "LayoutView",
            "align_content": null,
            "align_items": null,
            "align_self": null,
            "border": null,
            "bottom": null,
            "display": null,
            "flex": null,
            "flex_flow": null,
            "grid_area": null,
            "grid_auto_columns": null,
            "grid_auto_flow": null,
            "grid_auto_rows": null,
            "grid_column": null,
            "grid_gap": null,
            "grid_row": null,
            "grid_template_areas": null,
            "grid_template_columns": null,
            "grid_template_rows": null,
            "height": null,
            "justify_content": null,
            "justify_items": null,
            "left": null,
            "margin": null,
            "max_height": null,
            "max_width": null,
            "min_height": null,
            "min_width": null,
            "object_fit": null,
            "object_position": null,
            "order": null,
            "overflow": null,
            "overflow_x": null,
            "overflow_y": null,
            "padding": null,
            "right": null,
            "top": null,
            "visibility": null,
            "width": null
          }
        },
        "4bbaf0a70aae4e529050c5f87ac34a37": {
          "model_module": "@jupyter-widgets/base",
          "model_name": "LayoutModel",
          "model_module_version": "1.2.0",
          "state": {
            "_model_module": "@jupyter-widgets/base",
            "_model_module_version": "1.2.0",
            "_model_name": "LayoutModel",
            "_view_count": null,
            "_view_module": "@jupyter-widgets/base",
            "_view_module_version": "1.2.0",
            "_view_name": "LayoutView",
            "align_content": null,
            "align_items": null,
            "align_self": null,
            "border": null,
            "bottom": null,
            "display": null,
            "flex": null,
            "flex_flow": null,
            "grid_area": null,
            "grid_auto_columns": null,
            "grid_auto_flow": null,
            "grid_auto_rows": null,
            "grid_column": null,
            "grid_gap": null,
            "grid_row": null,
            "grid_template_areas": null,
            "grid_template_columns": null,
            "grid_template_rows": null,
            "height": null,
            "justify_content": null,
            "justify_items": null,
            "left": null,
            "margin": null,
            "max_height": null,
            "max_width": null,
            "min_height": null,
            "min_width": null,
            "object_fit": null,
            "object_position": null,
            "order": null,
            "overflow": null,
            "overflow_x": null,
            "overflow_y": null,
            "padding": null,
            "right": null,
            "top": null,
            "visibility": null,
            "width": null
          }
        },
        "788a3a38fa204e1981a4bd3806ba67c4": {
          "model_module": "@jupyter-widgets/controls",
          "model_name": "DescriptionStyleModel",
          "model_module_version": "1.5.0",
          "state": {
            "_model_module": "@jupyter-widgets/controls",
            "_model_module_version": "1.5.0",
            "_model_name": "DescriptionStyleModel",
            "_view_count": null,
            "_view_module": "@jupyter-widgets/base",
            "_view_module_version": "1.2.0",
            "_view_name": "StyleView",
            "description_width": ""
          }
        },
        "03c6dc7a6ed94aa39c87dc9493f59646": {
          "model_module": "@jupyter-widgets/base",
          "model_name": "LayoutModel",
          "model_module_version": "1.2.0",
          "state": {
            "_model_module": "@jupyter-widgets/base",
            "_model_module_version": "1.2.0",
            "_model_name": "LayoutModel",
            "_view_count": null,
            "_view_module": "@jupyter-widgets/base",
            "_view_module_version": "1.2.0",
            "_view_name": "LayoutView",
            "align_content": null,
            "align_items": null,
            "align_self": null,
            "border": null,
            "bottom": null,
            "display": null,
            "flex": null,
            "flex_flow": null,
            "grid_area": null,
            "grid_auto_columns": null,
            "grid_auto_flow": null,
            "grid_auto_rows": null,
            "grid_column": null,
            "grid_gap": null,
            "grid_row": null,
            "grid_template_areas": null,
            "grid_template_columns": null,
            "grid_template_rows": null,
            "height": null,
            "justify_content": null,
            "justify_items": null,
            "left": null,
            "margin": null,
            "max_height": null,
            "max_width": null,
            "min_height": null,
            "min_width": null,
            "object_fit": null,
            "object_position": null,
            "order": null,
            "overflow": null,
            "overflow_x": null,
            "overflow_y": null,
            "padding": null,
            "right": null,
            "top": null,
            "visibility": null,
            "width": null
          }
        },
        "685ebf81325e420abf214da5b561f751": {
          "model_module": "@jupyter-widgets/controls",
          "model_name": "ProgressStyleModel",
          "model_module_version": "1.5.0",
          "state": {
            "_model_module": "@jupyter-widgets/controls",
            "_model_module_version": "1.5.0",
            "_model_name": "ProgressStyleModel",
            "_view_count": null,
            "_view_module": "@jupyter-widgets/base",
            "_view_module_version": "1.2.0",
            "_view_name": "StyleView",
            "bar_color": null,
            "description_width": ""
          }
        },
        "bd3975eed59641469e3dd929ec2eefe7": {
          "model_module": "@jupyter-widgets/base",
          "model_name": "LayoutModel",
          "model_module_version": "1.2.0",
          "state": {
            "_model_module": "@jupyter-widgets/base",
            "_model_module_version": "1.2.0",
            "_model_name": "LayoutModel",
            "_view_count": null,
            "_view_module": "@jupyter-widgets/base",
            "_view_module_version": "1.2.0",
            "_view_name": "LayoutView",
            "align_content": null,
            "align_items": null,
            "align_self": null,
            "border": null,
            "bottom": null,
            "display": null,
            "flex": null,
            "flex_flow": null,
            "grid_area": null,
            "grid_auto_columns": null,
            "grid_auto_flow": null,
            "grid_auto_rows": null,
            "grid_column": null,
            "grid_gap": null,
            "grid_row": null,
            "grid_template_areas": null,
            "grid_template_columns": null,
            "grid_template_rows": null,
            "height": null,
            "justify_content": null,
            "justify_items": null,
            "left": null,
            "margin": null,
            "max_height": null,
            "max_width": null,
            "min_height": null,
            "min_width": null,
            "object_fit": null,
            "object_position": null,
            "order": null,
            "overflow": null,
            "overflow_x": null,
            "overflow_y": null,
            "padding": null,
            "right": null,
            "top": null,
            "visibility": null,
            "width": null
          }
        },
        "2918be98b6d54aa8803e11ba6f7c01ec": {
          "model_module": "@jupyter-widgets/controls",
          "model_name": "DescriptionStyleModel",
          "model_module_version": "1.5.0",
          "state": {
            "_model_module": "@jupyter-widgets/controls",
            "_model_module_version": "1.5.0",
            "_model_name": "DescriptionStyleModel",
            "_view_count": null,
            "_view_module": "@jupyter-widgets/base",
            "_view_module_version": "1.2.0",
            "_view_name": "StyleView",
            "description_width": ""
          }
        },
        "858c806755a342839893a55b286649c8": {
          "model_module": "@jupyter-widgets/controls",
          "model_name": "HBoxModel",
          "model_module_version": "1.5.0",
          "state": {
            "_dom_classes": [],
            "_model_module": "@jupyter-widgets/controls",
            "_model_module_version": "1.5.0",
            "_model_name": "HBoxModel",
            "_view_count": null,
            "_view_module": "@jupyter-widgets/controls",
            "_view_module_version": "1.5.0",
            "_view_name": "HBoxView",
            "box_style": "",
            "children": [
              "IPY_MODEL_96844723fc3347be999afcf3143e0083",
              "IPY_MODEL_c1bdab166cb547cbb501f4b3280e6394",
              "IPY_MODEL_7d9d921be9bb401782d6a14e61c13836"
            ],
            "layout": "IPY_MODEL_bdb64f7295424f5b810bd76d6f0b250f"
          }
        },
        "96844723fc3347be999afcf3143e0083": {
          "model_module": "@jupyter-widgets/controls",
          "model_name": "HTMLModel",
          "model_module_version": "1.5.0",
          "state": {
            "_dom_classes": [],
            "_model_module": "@jupyter-widgets/controls",
            "_model_module_version": "1.5.0",
            "_model_name": "HTMLModel",
            "_view_count": null,
            "_view_module": "@jupyter-widgets/controls",
            "_view_module_version": "1.5.0",
            "_view_name": "HTMLView",
            "description": "",
            "description_tooltip": null,
            "layout": "IPY_MODEL_01a0349e1bac4101a5b591e6f1b5b60b",
            "placeholder": "​",
            "style": "IPY_MODEL_e7c4e15f716143eebcba89fe7e8b9cae",
            "value": "100%"
          }
        },
        "c1bdab166cb547cbb501f4b3280e6394": {
          "model_module": "@jupyter-widgets/controls",
          "model_name": "FloatProgressModel",
          "model_module_version": "1.5.0",
          "state": {
            "_dom_classes": [],
            "_model_module": "@jupyter-widgets/controls",
            "_model_module_version": "1.5.0",
            "_model_name": "FloatProgressModel",
            "_view_count": null,
            "_view_module": "@jupyter-widgets/controls",
            "_view_module_version": "1.5.0",
            "_view_name": "ProgressView",
            "bar_style": "success",
            "description": "",
            "description_tooltip": null,
            "layout": "IPY_MODEL_bc585476ee6e410db1bddbb843af7197",
            "max": 1,
            "min": 0,
            "orientation": "horizontal",
            "style": "IPY_MODEL_f8c45f1b31a5415ca64fc0a62b51d397",
            "value": 1
          }
        },
        "7d9d921be9bb401782d6a14e61c13836": {
          "model_module": "@jupyter-widgets/controls",
          "model_name": "HTMLModel",
          "model_module_version": "1.5.0",
          "state": {
            "_dom_classes": [],
            "_model_module": "@jupyter-widgets/controls",
            "_model_module_version": "1.5.0",
            "_model_name": "HTMLModel",
            "_view_count": null,
            "_view_module": "@jupyter-widgets/controls",
            "_view_module_version": "1.5.0",
            "_view_name": "HTMLView",
            "description": "",
            "description_tooltip": null,
            "layout": "IPY_MODEL_b311d4b5e513489bacb2c8f9bd9df2af",
            "placeholder": "​",
            "style": "IPY_MODEL_04ddc22cb3d64d30b6715dc953cf984b",
            "value": " 1/1 [00:07&lt;00:00,  7.60s/it, loss=0.55]"
          }
        },
        "bdb64f7295424f5b810bd76d6f0b250f": {
          "model_module": "@jupyter-widgets/base",
          "model_name": "LayoutModel",
          "model_module_version": "1.2.0",
          "state": {
            "_model_module": "@jupyter-widgets/base",
            "_model_module_version": "1.2.0",
            "_model_name": "LayoutModel",
            "_view_count": null,
            "_view_module": "@jupyter-widgets/base",
            "_view_module_version": "1.2.0",
            "_view_name": "LayoutView",
            "align_content": null,
            "align_items": null,
            "align_self": null,
            "border": null,
            "bottom": null,
            "display": null,
            "flex": null,
            "flex_flow": null,
            "grid_area": null,
            "grid_auto_columns": null,
            "grid_auto_flow": null,
            "grid_auto_rows": null,
            "grid_column": null,
            "grid_gap": null,
            "grid_row": null,
            "grid_template_areas": null,
            "grid_template_columns": null,
            "grid_template_rows": null,
            "height": null,
            "justify_content": null,
            "justify_items": null,
            "left": null,
            "margin": null,
            "max_height": null,
            "max_width": null,
            "min_height": null,
            "min_width": null,
            "object_fit": null,
            "object_position": null,
            "order": null,
            "overflow": null,
            "overflow_x": null,
            "overflow_y": null,
            "padding": null,
            "right": null,
            "top": null,
            "visibility": null,
            "width": null
          }
        },
        "01a0349e1bac4101a5b591e6f1b5b60b": {
          "model_module": "@jupyter-widgets/base",
          "model_name": "LayoutModel",
          "model_module_version": "1.2.0",
          "state": {
            "_model_module": "@jupyter-widgets/base",
            "_model_module_version": "1.2.0",
            "_model_name": "LayoutModel",
            "_view_count": null,
            "_view_module": "@jupyter-widgets/base",
            "_view_module_version": "1.2.0",
            "_view_name": "LayoutView",
            "align_content": null,
            "align_items": null,
            "align_self": null,
            "border": null,
            "bottom": null,
            "display": null,
            "flex": null,
            "flex_flow": null,
            "grid_area": null,
            "grid_auto_columns": null,
            "grid_auto_flow": null,
            "grid_auto_rows": null,
            "grid_column": null,
            "grid_gap": null,
            "grid_row": null,
            "grid_template_areas": null,
            "grid_template_columns": null,
            "grid_template_rows": null,
            "height": null,
            "justify_content": null,
            "justify_items": null,
            "left": null,
            "margin": null,
            "max_height": null,
            "max_width": null,
            "min_height": null,
            "min_width": null,
            "object_fit": null,
            "object_position": null,
            "order": null,
            "overflow": null,
            "overflow_x": null,
            "overflow_y": null,
            "padding": null,
            "right": null,
            "top": null,
            "visibility": null,
            "width": null
          }
        },
        "e7c4e15f716143eebcba89fe7e8b9cae": {
          "model_module": "@jupyter-widgets/controls",
          "model_name": "DescriptionStyleModel",
          "model_module_version": "1.5.0",
          "state": {
            "_model_module": "@jupyter-widgets/controls",
            "_model_module_version": "1.5.0",
            "_model_name": "DescriptionStyleModel",
            "_view_count": null,
            "_view_module": "@jupyter-widgets/base",
            "_view_module_version": "1.2.0",
            "_view_name": "StyleView",
            "description_width": ""
          }
        },
        "bc585476ee6e410db1bddbb843af7197": {
          "model_module": "@jupyter-widgets/base",
          "model_name": "LayoutModel",
          "model_module_version": "1.2.0",
          "state": {
            "_model_module": "@jupyter-widgets/base",
            "_model_module_version": "1.2.0",
            "_model_name": "LayoutModel",
            "_view_count": null,
            "_view_module": "@jupyter-widgets/base",
            "_view_module_version": "1.2.0",
            "_view_name": "LayoutView",
            "align_content": null,
            "align_items": null,
            "align_self": null,
            "border": null,
            "bottom": null,
            "display": null,
            "flex": null,
            "flex_flow": null,
            "grid_area": null,
            "grid_auto_columns": null,
            "grid_auto_flow": null,
            "grid_auto_rows": null,
            "grid_column": null,
            "grid_gap": null,
            "grid_row": null,
            "grid_template_areas": null,
            "grid_template_columns": null,
            "grid_template_rows": null,
            "height": null,
            "justify_content": null,
            "justify_items": null,
            "left": null,
            "margin": null,
            "max_height": null,
            "max_width": null,
            "min_height": null,
            "min_width": null,
            "object_fit": null,
            "object_position": null,
            "order": null,
            "overflow": null,
            "overflow_x": null,
            "overflow_y": null,
            "padding": null,
            "right": null,
            "top": null,
            "visibility": null,
            "width": null
          }
        },
        "f8c45f1b31a5415ca64fc0a62b51d397": {
          "model_module": "@jupyter-widgets/controls",
          "model_name": "ProgressStyleModel",
          "model_module_version": "1.5.0",
          "state": {
            "_model_module": "@jupyter-widgets/controls",
            "_model_module_version": "1.5.0",
            "_model_name": "ProgressStyleModel",
            "_view_count": null,
            "_view_module": "@jupyter-widgets/base",
            "_view_module_version": "1.2.0",
            "_view_name": "StyleView",
            "bar_color": null,
            "description_width": ""
          }
        },
        "b311d4b5e513489bacb2c8f9bd9df2af": {
          "model_module": "@jupyter-widgets/base",
          "model_name": "LayoutModel",
          "model_module_version": "1.2.0",
          "state": {
            "_model_module": "@jupyter-widgets/base",
            "_model_module_version": "1.2.0",
            "_model_name": "LayoutModel",
            "_view_count": null,
            "_view_module": "@jupyter-widgets/base",
            "_view_module_version": "1.2.0",
            "_view_name": "LayoutView",
            "align_content": null,
            "align_items": null,
            "align_self": null,
            "border": null,
            "bottom": null,
            "display": null,
            "flex": null,
            "flex_flow": null,
            "grid_area": null,
            "grid_auto_columns": null,
            "grid_auto_flow": null,
            "grid_auto_rows": null,
            "grid_column": null,
            "grid_gap": null,
            "grid_row": null,
            "grid_template_areas": null,
            "grid_template_columns": null,
            "grid_template_rows": null,
            "height": null,
            "justify_content": null,
            "justify_items": null,
            "left": null,
            "margin": null,
            "max_height": null,
            "max_width": null,
            "min_height": null,
            "min_width": null,
            "object_fit": null,
            "object_position": null,
            "order": null,
            "overflow": null,
            "overflow_x": null,
            "overflow_y": null,
            "padding": null,
            "right": null,
            "top": null,
            "visibility": null,
            "width": null
          }
        },
        "04ddc22cb3d64d30b6715dc953cf984b": {
          "model_module": "@jupyter-widgets/controls",
          "model_name": "DescriptionStyleModel",
          "model_module_version": "1.5.0",
          "state": {
            "_model_module": "@jupyter-widgets/controls",
            "_model_module_version": "1.5.0",
            "_model_name": "DescriptionStyleModel",
            "_view_count": null,
            "_view_module": "@jupyter-widgets/base",
            "_view_module_version": "1.2.0",
            "_view_name": "StyleView",
            "description_width": ""
          }
        },
        "91d23a7915f4474981bf8034c7b1e548": {
          "model_module": "@jupyter-widgets/controls",
          "model_name": "HBoxModel",
          "model_module_version": "1.5.0",
          "state": {
            "_dom_classes": [],
            "_model_module": "@jupyter-widgets/controls",
            "_model_module_version": "1.5.0",
            "_model_name": "HBoxModel",
            "_view_count": null,
            "_view_module": "@jupyter-widgets/controls",
            "_view_module_version": "1.5.0",
            "_view_name": "HBoxView",
            "box_style": "",
            "children": [
              "IPY_MODEL_4c69607ce2c1444787c6bd70b205056f",
              "IPY_MODEL_9e9d03d917e449fb8a70e126b6a895dd",
              "IPY_MODEL_7486096ad87a4990a80796271f8f2a98"
            ],
            "layout": "IPY_MODEL_f51d3d9338a1472e9f080e64c44e9bea"
          }
        },
        "4c69607ce2c1444787c6bd70b205056f": {
          "model_module": "@jupyter-widgets/controls",
          "model_name": "HTMLModel",
          "model_module_version": "1.5.0",
          "state": {
            "_dom_classes": [],
            "_model_module": "@jupyter-widgets/controls",
            "_model_module_version": "1.5.0",
            "_model_name": "HTMLModel",
            "_view_count": null,
            "_view_module": "@jupyter-widgets/controls",
            "_view_module_version": "1.5.0",
            "_view_name": "HTMLView",
            "description": "",
            "description_tooltip": null,
            "layout": "IPY_MODEL_802396f25c1c4a9a80d9399a7982e610",
            "placeholder": "​",
            "style": "IPY_MODEL_9e71fc3b37aa4049aa64bc030437b186",
            "value": "100%"
          }
        },
        "9e9d03d917e449fb8a70e126b6a895dd": {
          "model_module": "@jupyter-widgets/controls",
          "model_name": "FloatProgressModel",
          "model_module_version": "1.5.0",
          "state": {
            "_dom_classes": [],
            "_model_module": "@jupyter-widgets/controls",
            "_model_module_version": "1.5.0",
            "_model_name": "FloatProgressModel",
            "_view_count": null,
            "_view_module": "@jupyter-widgets/controls",
            "_view_module_version": "1.5.0",
            "_view_name": "ProgressView",
            "bar_style": "success",
            "description": "",
            "description_tooltip": null,
            "layout": "IPY_MODEL_149ea86d5c0a4013b7f0bc4a2883ec02",
            "max": 100,
            "min": 0,
            "orientation": "horizontal",
            "style": "IPY_MODEL_539a1c82d1b443aaa681cf977c51dbb0",
            "value": 100
          }
        },
        "7486096ad87a4990a80796271f8f2a98": {
          "model_module": "@jupyter-widgets/controls",
          "model_name": "HTMLModel",
          "model_module_version": "1.5.0",
          "state": {
            "_dom_classes": [],
            "_model_module": "@jupyter-widgets/controls",
            "_model_module_version": "1.5.0",
            "_model_name": "HTMLModel",
            "_view_count": null,
            "_view_module": "@jupyter-widgets/controls",
            "_view_module_version": "1.5.0",
            "_view_name": "HTMLView",
            "description": "",
            "description_tooltip": null,
            "layout": "IPY_MODEL_fad80959c8ff4e188ef76ccab4916dbd",
            "placeholder": "​",
            "style": "IPY_MODEL_a5b793c834e543c5a37ef97a61206b70",
            "value": " 100/100 [03:59&lt;00:00,  2.37s/it, loss=0.894]"
          }
        },
        "f51d3d9338a1472e9f080e64c44e9bea": {
          "model_module": "@jupyter-widgets/base",
          "model_name": "LayoutModel",
          "model_module_version": "1.2.0",
          "state": {
            "_model_module": "@jupyter-widgets/base",
            "_model_module_version": "1.2.0",
            "_model_name": "LayoutModel",
            "_view_count": null,
            "_view_module": "@jupyter-widgets/base",
            "_view_module_version": "1.2.0",
            "_view_name": "LayoutView",
            "align_content": null,
            "align_items": null,
            "align_self": null,
            "border": null,
            "bottom": null,
            "display": null,
            "flex": null,
            "flex_flow": null,
            "grid_area": null,
            "grid_auto_columns": null,
            "grid_auto_flow": null,
            "grid_auto_rows": null,
            "grid_column": null,
            "grid_gap": null,
            "grid_row": null,
            "grid_template_areas": null,
            "grid_template_columns": null,
            "grid_template_rows": null,
            "height": null,
            "justify_content": null,
            "justify_items": null,
            "left": null,
            "margin": null,
            "max_height": null,
            "max_width": null,
            "min_height": null,
            "min_width": null,
            "object_fit": null,
            "object_position": null,
            "order": null,
            "overflow": null,
            "overflow_x": null,
            "overflow_y": null,
            "padding": null,
            "right": null,
            "top": null,
            "visibility": null,
            "width": null
          }
        },
        "802396f25c1c4a9a80d9399a7982e610": {
          "model_module": "@jupyter-widgets/base",
          "model_name": "LayoutModel",
          "model_module_version": "1.2.0",
          "state": {
            "_model_module": "@jupyter-widgets/base",
            "_model_module_version": "1.2.0",
            "_model_name": "LayoutModel",
            "_view_count": null,
            "_view_module": "@jupyter-widgets/base",
            "_view_module_version": "1.2.0",
            "_view_name": "LayoutView",
            "align_content": null,
            "align_items": null,
            "align_self": null,
            "border": null,
            "bottom": null,
            "display": null,
            "flex": null,
            "flex_flow": null,
            "grid_area": null,
            "grid_auto_columns": null,
            "grid_auto_flow": null,
            "grid_auto_rows": null,
            "grid_column": null,
            "grid_gap": null,
            "grid_row": null,
            "grid_template_areas": null,
            "grid_template_columns": null,
            "grid_template_rows": null,
            "height": null,
            "justify_content": null,
            "justify_items": null,
            "left": null,
            "margin": null,
            "max_height": null,
            "max_width": null,
            "min_height": null,
            "min_width": null,
            "object_fit": null,
            "object_position": null,
            "order": null,
            "overflow": null,
            "overflow_x": null,
            "overflow_y": null,
            "padding": null,
            "right": null,
            "top": null,
            "visibility": null,
            "width": null
          }
        },
        "9e71fc3b37aa4049aa64bc030437b186": {
          "model_module": "@jupyter-widgets/controls",
          "model_name": "DescriptionStyleModel",
          "model_module_version": "1.5.0",
          "state": {
            "_model_module": "@jupyter-widgets/controls",
            "_model_module_version": "1.5.0",
            "_model_name": "DescriptionStyleModel",
            "_view_count": null,
            "_view_module": "@jupyter-widgets/base",
            "_view_module_version": "1.2.0",
            "_view_name": "StyleView",
            "description_width": ""
          }
        },
        "149ea86d5c0a4013b7f0bc4a2883ec02": {
          "model_module": "@jupyter-widgets/base",
          "model_name": "LayoutModel",
          "model_module_version": "1.2.0",
          "state": {
            "_model_module": "@jupyter-widgets/base",
            "_model_module_version": "1.2.0",
            "_model_name": "LayoutModel",
            "_view_count": null,
            "_view_module": "@jupyter-widgets/base",
            "_view_module_version": "1.2.0",
            "_view_name": "LayoutView",
            "align_content": null,
            "align_items": null,
            "align_self": null,
            "border": null,
            "bottom": null,
            "display": null,
            "flex": null,
            "flex_flow": null,
            "grid_area": null,
            "grid_auto_columns": null,
            "grid_auto_flow": null,
            "grid_auto_rows": null,
            "grid_column": null,
            "grid_gap": null,
            "grid_row": null,
            "grid_template_areas": null,
            "grid_template_columns": null,
            "grid_template_rows": null,
            "height": null,
            "justify_content": null,
            "justify_items": null,
            "left": null,
            "margin": null,
            "max_height": null,
            "max_width": null,
            "min_height": null,
            "min_width": null,
            "object_fit": null,
            "object_position": null,
            "order": null,
            "overflow": null,
            "overflow_x": null,
            "overflow_y": null,
            "padding": null,
            "right": null,
            "top": null,
            "visibility": null,
            "width": null
          }
        },
        "539a1c82d1b443aaa681cf977c51dbb0": {
          "model_module": "@jupyter-widgets/controls",
          "model_name": "ProgressStyleModel",
          "model_module_version": "1.5.0",
          "state": {
            "_model_module": "@jupyter-widgets/controls",
            "_model_module_version": "1.5.0",
            "_model_name": "ProgressStyleModel",
            "_view_count": null,
            "_view_module": "@jupyter-widgets/base",
            "_view_module_version": "1.2.0",
            "_view_name": "StyleView",
            "bar_color": null,
            "description_width": ""
          }
        },
        "fad80959c8ff4e188ef76ccab4916dbd": {
          "model_module": "@jupyter-widgets/base",
          "model_name": "LayoutModel",
          "model_module_version": "1.2.0",
          "state": {
            "_model_module": "@jupyter-widgets/base",
            "_model_module_version": "1.2.0",
            "_model_name": "LayoutModel",
            "_view_count": null,
            "_view_module": "@jupyter-widgets/base",
            "_view_module_version": "1.2.0",
            "_view_name": "LayoutView",
            "align_content": null,
            "align_items": null,
            "align_self": null,
            "border": null,
            "bottom": null,
            "display": null,
            "flex": null,
            "flex_flow": null,
            "grid_area": null,
            "grid_auto_columns": null,
            "grid_auto_flow": null,
            "grid_auto_rows": null,
            "grid_column": null,
            "grid_gap": null,
            "grid_row": null,
            "grid_template_areas": null,
            "grid_template_columns": null,
            "grid_template_rows": null,
            "height": null,
            "justify_content": null,
            "justify_items": null,
            "left": null,
            "margin": null,
            "max_height": null,
            "max_width": null,
            "min_height": null,
            "min_width": null,
            "object_fit": null,
            "object_position": null,
            "order": null,
            "overflow": null,
            "overflow_x": null,
            "overflow_y": null,
            "padding": null,
            "right": null,
            "top": null,
            "visibility": null,
            "width": null
          }
        },
        "a5b793c834e543c5a37ef97a61206b70": {
          "model_module": "@jupyter-widgets/controls",
          "model_name": "DescriptionStyleModel",
          "model_module_version": "1.5.0",
          "state": {
            "_model_module": "@jupyter-widgets/controls",
            "_model_module_version": "1.5.0",
            "_model_name": "DescriptionStyleModel",
            "_view_count": null,
            "_view_module": "@jupyter-widgets/base",
            "_view_module_version": "1.2.0",
            "_view_name": "StyleView",
            "description_width": ""
          }
        }
      }
    }
  },
  "cells": [
    {
      "cell_type": "markdown",
      "source": [
        "This notebook should be run on Google Colab.\n",
        "<a href=\"https://colab.research.google.com/drive/1RXPpRM18gDh1KQ1ssPpPNVUwdGL7_w9H#scrollTo=6Uox52mtM8i0\" target=\"_parent\"><img src=\"https://colab.research.google.com/assets/colab-badge.svg\" alt=\"Open in Colab\"/></a>"
      ],
      "metadata": {
        "id": "6Uox52mtM8i0"
      }
    },
    {
      "cell_type": "markdown",
      "source": [
        "# Process\n",
        "In this notebook, I will train the book recommendation algorithms using two different packages: <a href=\"http://surpriselib.com/\">Surprise</a> & <a href=\"https://cornac.readthedocs.io/en/latest/\">Cornac</a>. "
      ],
      "metadata": {
        "id": "tLpIS6XyNHZW"
      }
    },
    {
      "cell_type": "markdown",
      "source": [
        "## A. Import lbraries"
      ],
      "metadata": {
        "id": "apEC7vpANPwa"
      }
    },
    {
      "cell_type": "code",
      "source": [
        "!pip uninstall tensorflow -y\n",
        "!pip install tensorflow-gpu==1.15\n",
        "!apt install --allow-change-held-packages libcudnn7=7.4.1.5-1+cuda10.0"
      ],
      "metadata": {
        "colab": {
          "base_uri": "https://localhost:8080/"
        },
        "id": "wdDcy5OnNMWR",
        "outputId": "22c77f32-270d-4576-9d07-a1334a4eca92"
      },
      "execution_count": 1,
      "outputs": [
        {
          "output_type": "stream",
          "name": "stdout",
          "text": [
            "\u001b[33mWARNING: Skipping tensorflow as it is not installed.\u001b[0m\n",
            "Looking in indexes: https://pypi.org/simple, https://us-python.pkg.dev/colab-wheels/public/simple/\n",
            "Requirement already satisfied: tensorflow-gpu==1.15 in /usr/local/lib/python3.7/dist-packages (1.15.0)\n",
            "Requirement already satisfied: astor>=0.6.0 in /usr/local/lib/python3.7/dist-packages (from tensorflow-gpu==1.15) (0.8.1)\n",
            "Requirement already satisfied: tensorflow-estimator==1.15.1 in /usr/local/lib/python3.7/dist-packages (from tensorflow-gpu==1.15) (1.15.1)\n",
            "Requirement already satisfied: tensorboard<1.16.0,>=1.15.0 in /usr/local/lib/python3.7/dist-packages (from tensorflow-gpu==1.15) (1.15.0)\n",
            "Requirement already satisfied: numpy<2.0,>=1.16.0 in /usr/local/lib/python3.7/dist-packages (from tensorflow-gpu==1.15) (1.21.6)\n",
            "Requirement already satisfied: keras-preprocessing>=1.0.5 in /usr/local/lib/python3.7/dist-packages (from tensorflow-gpu==1.15) (1.1.2)\n",
            "Requirement already satisfied: protobuf>=3.6.1 in /usr/local/lib/python3.7/dist-packages (from tensorflow-gpu==1.15) (3.17.3)\n",
            "Requirement already satisfied: opt-einsum>=2.3.2 in /usr/local/lib/python3.7/dist-packages (from tensorflow-gpu==1.15) (3.3.0)\n",
            "Requirement already satisfied: absl-py>=0.7.0 in /usr/local/lib/python3.7/dist-packages (from tensorflow-gpu==1.15) (1.3.0)\n",
            "Requirement already satisfied: keras-applications>=1.0.8 in /usr/local/lib/python3.7/dist-packages (from tensorflow-gpu==1.15) (1.0.8)\n",
            "Requirement already satisfied: wrapt>=1.11.1 in /usr/local/lib/python3.7/dist-packages (from tensorflow-gpu==1.15) (1.14.1)\n",
            "Requirement already satisfied: gast==0.2.2 in /usr/local/lib/python3.7/dist-packages (from tensorflow-gpu==1.15) (0.2.2)\n",
            "Requirement already satisfied: six>=1.10.0 in /usr/local/lib/python3.7/dist-packages (from tensorflow-gpu==1.15) (1.15.0)\n",
            "Requirement already satisfied: google-pasta>=0.1.6 in /usr/local/lib/python3.7/dist-packages (from tensorflow-gpu==1.15) (0.2.0)\n",
            "Requirement already satisfied: termcolor>=1.1.0 in /usr/local/lib/python3.7/dist-packages (from tensorflow-gpu==1.15) (2.1.0)\n",
            "Requirement already satisfied: grpcio>=1.8.6 in /usr/local/lib/python3.7/dist-packages (from tensorflow-gpu==1.15) (1.50.0)\n",
            "Requirement already satisfied: wheel>=0.26 in /usr/local/lib/python3.7/dist-packages (from tensorflow-gpu==1.15) (0.38.1)\n",
            "Requirement already satisfied: h5py in /usr/local/lib/python3.7/dist-packages (from keras-applications>=1.0.8->tensorflow-gpu==1.15) (3.1.0)\n",
            "Requirement already satisfied: werkzeug>=0.11.15 in /usr/local/lib/python3.7/dist-packages (from tensorboard<1.16.0,>=1.15.0->tensorflow-gpu==1.15) (1.0.1)\n",
            "Requirement already satisfied: markdown>=2.6.8 in /usr/local/lib/python3.7/dist-packages (from tensorboard<1.16.0,>=1.15.0->tensorflow-gpu==1.15) (3.4.1)\n",
            "Requirement already satisfied: setuptools>=41.0.0 in /usr/local/lib/python3.7/dist-packages (from tensorboard<1.16.0,>=1.15.0->tensorflow-gpu==1.15) (57.4.0)\n",
            "Requirement already satisfied: importlib-metadata>=4.4 in /usr/local/lib/python3.7/dist-packages (from markdown>=2.6.8->tensorboard<1.16.0,>=1.15.0->tensorflow-gpu==1.15) (4.13.0)\n",
            "Requirement already satisfied: typing-extensions>=3.6.4 in /usr/local/lib/python3.7/dist-packages (from importlib-metadata>=4.4->markdown>=2.6.8->tensorboard<1.16.0,>=1.15.0->tensorflow-gpu==1.15) (4.1.1)\n",
            "Requirement already satisfied: zipp>=0.5 in /usr/local/lib/python3.7/dist-packages (from importlib-metadata>=4.4->markdown>=2.6.8->tensorboard<1.16.0,>=1.15.0->tensorflow-gpu==1.15) (3.10.0)\n",
            "Requirement already satisfied: cached-property in /usr/local/lib/python3.7/dist-packages (from h5py->keras-applications>=1.0.8->tensorflow-gpu==1.15) (1.5.2)\n",
            "Reading package lists... Done\n",
            "Building dependency tree       \n",
            "Reading state information... Done\n",
            "libcudnn7 is already the newest version (7.4.1.5-1+cuda10.0).\n",
            "The following package was automatically installed and is no longer required:\n",
            "  libnvidia-common-460\n",
            "Use 'apt autoremove' to remove it.\n",
            "0 upgraded, 0 newly installed, 0 to remove and 5 not upgraded.\n"
          ]
        }
      ]
    },
    {
      "cell_type": "code",
      "source": [
        "!pip install cornac"
      ],
      "metadata": {
        "colab": {
          "base_uri": "https://localhost:8080/"
        },
        "id": "mIhMBVm4NRXq",
        "outputId": "00237e08-df3a-41d6-feb3-78eaea5db96f"
      },
      "execution_count": 2,
      "outputs": [
        {
          "output_type": "stream",
          "name": "stdout",
          "text": [
            "Looking in indexes: https://pypi.org/simple, https://us-python.pkg.dev/colab-wheels/public/simple/\n",
            "Requirement already satisfied: cornac in /usr/local/lib/python3.7/dist-packages (1.14.2)\n",
            "Requirement already satisfied: tqdm>=4.19 in /usr/local/lib/python3.7/dist-packages (from cornac) (4.64.1)\n",
            "Requirement already satisfied: powerlaw in /usr/local/lib/python3.7/dist-packages (from cornac) (1.5)\n",
            "Requirement already satisfied: scipy in /usr/local/lib/python3.7/dist-packages (from cornac) (1.7.3)\n",
            "Requirement already satisfied: numpy in /usr/local/lib/python3.7/dist-packages (from cornac) (1.21.6)\n",
            "Requirement already satisfied: matplotlib in /usr/local/lib/python3.7/dist-packages (from powerlaw->cornac) (3.2.2)\n",
            "Requirement already satisfied: mpmath in /usr/local/lib/python3.7/dist-packages (from powerlaw->cornac) (1.2.1)\n",
            "Requirement already satisfied: cycler>=0.10 in /usr/local/lib/python3.7/dist-packages (from matplotlib->powerlaw->cornac) (0.11.0)\n",
            "Requirement already satisfied: pyparsing!=2.0.4,!=2.1.2,!=2.1.6,>=2.0.1 in /usr/local/lib/python3.7/dist-packages (from matplotlib->powerlaw->cornac) (3.0.9)\n",
            "Requirement already satisfied: kiwisolver>=1.0.1 in /usr/local/lib/python3.7/dist-packages (from matplotlib->powerlaw->cornac) (1.4.4)\n",
            "Requirement already satisfied: python-dateutil>=2.1 in /usr/local/lib/python3.7/dist-packages (from matplotlib->powerlaw->cornac) (2.8.2)\n",
            "Requirement already satisfied: typing-extensions in /usr/local/lib/python3.7/dist-packages (from kiwisolver>=1.0.1->matplotlib->powerlaw->cornac) (4.1.1)\n",
            "Requirement already satisfied: six>=1.5 in /usr/local/lib/python3.7/dist-packages (from python-dateutil>=2.1->matplotlib->powerlaw->cornac) (1.15.0)\n"
          ]
        }
      ]
    },
    {
      "cell_type": "code",
      "source": [
        "!pip install surprise"
      ],
      "metadata": {
        "colab": {
          "base_uri": "https://localhost:8080/"
        },
        "id": "WhbF_bPaNUGj",
        "outputId": "9d2a8a55-b1d5-4d29-fd10-3da26405b368"
      },
      "execution_count": 3,
      "outputs": [
        {
          "output_type": "stream",
          "name": "stdout",
          "text": [
            "Looking in indexes: https://pypi.org/simple, https://us-python.pkg.dev/colab-wheels/public/simple/\n",
            "Requirement already satisfied: surprise in /usr/local/lib/python3.7/dist-packages (0.1)\n",
            "Requirement already satisfied: scikit-surprise in /usr/local/lib/python3.7/dist-packages (from surprise) (1.1.1)\n",
            "Requirement already satisfied: scipy>=1.0.0 in /usr/local/lib/python3.7/dist-packages (from scikit-surprise->surprise) (1.7.3)\n",
            "Requirement already satisfied: six>=1.10.0 in /usr/local/lib/python3.7/dist-packages (from scikit-surprise->surprise) (1.15.0)\n",
            "Requirement already satisfied: joblib>=0.11 in /usr/local/lib/python3.7/dist-packages (from scikit-surprise->surprise) (1.2.0)\n",
            "Requirement already satisfied: numpy>=1.11.2 in /usr/local/lib/python3.7/dist-packages (from scikit-surprise->surprise) (1.21.6)\n"
          ]
        }
      ]
    },
    {
      "cell_type": "code",
      "source": [
        "import warnings\n",
        "warnings.simplefilter(action='ignore', category=FutureWarning)\n",
        "import os\n",
        "import matplotlib.pyplot as plt\n",
        "import random as rd\n",
        "import pandas as pd\n",
        "import numpy as np\n",
        "from tqdm import tqdm\n",
        "import time\n",
        "\n",
        "# Cornac imports\n",
        "import cornac\n",
        "from cornac.eval_methods import RatioSplit\n",
        "from cornac.data import Reader as CornacReader #Reader exists in both packages\n",
        "from cornac.models import MostPop, MF, PMF, BPR, NeuMF, WMF, HPF, VAECF\n",
        "from cornac.models import NMF as CornacNMF #NMF exists in both packages\n",
        "from cornac.metrics import MAE, MSE, RMSE, Precision, Recall, NDCG, AUC, MAP, FMeasure, MRR\n",
        "\n",
        "# Surprise imports\n",
        "from surprise import BaselineOnly, KNNBasic, KNNWithMeans, SVDpp, SVD\n",
        "from surprise import NMF as SurpriseNMF\n",
        "from surprise import Dataset\n",
        "from surprise import Reader as SurpriseReader\n",
        "from surprise.model_selection import train_test_split\n",
        "from surprise import accuracy\n",
        "\n",
        "\n",
        "from collections import defaultdict\n",
        "from scipy import stats\n",
        "from numpy.linalg import norm\n",
        "import seaborn as sns\n",
        "from sklearn.preprocessing import MinMaxScaler\n",
        "# set plot style: grey grid in the background:\n",
        "sns.set(style=\"darkgrid\")\n",
        "pd.set_option(\"display.precision\", 8)"
      ],
      "metadata": {
        "id": "T5uMe3FlNVqk"
      },
      "execution_count": 4,
      "outputs": []
    },
    {
      "cell_type": "markdown",
      "source": [
        "## B. Set hyperparameters\n",
        "There are certain hyperparameters that need to be tuned before the run. "
      ],
      "metadata": {
        "id": "RT7573q5NccX"
      }
    },
    {
      "cell_type": "code",
      "source": [
        "# constants and initialization\n",
        "item_threshold = 1\n",
        "rating_threshold = 1.0 # needed for the cornac library\n",
        "my_seed = 0\n",
        "test_size = 0.2 # the percentage of \"hold out\" data that are used for testing\n",
        "predict_col = \"rating\"\n",
        "top_fraction = 0.2\n",
        "train_way = \"simple_split\"\n",
        "n_splits = 5\n",
        "if train_way == \"simple_split\": n_splits = 1\n",
        "\n",
        "rd.seed(my_seed) #seed for random functions\n",
        "np.random.seed(my_seed) #seed for all numpy stuff"
      ],
      "metadata": {
        "id": "wePMxGvnNZa2"
      },
      "execution_count": 5,
      "outputs": []
    },
    {
      "cell_type": "markdown",
      "source": [
        "## C. Read files"
      ],
      "metadata": {
        "id": "P4Hf5k8jNiZm"
      }
    },
    {
      "cell_type": "code",
      "source": [
        "user_events_file = 'https://raw.githubusercontent.com/SavvinaDaniil/UnfairnessOfPopularityBias/main/data/BX-Book-Ratings.csv'\n",
        "\n",
        "# read user events\n",
        "cols = ['user', 'book', 'rating']\n",
        "df_events = pd.read_csv(user_events_file, sep=\";\", encoding=\"ISO-8859–1\", names=cols, skiprows=1)\n",
        "item_col = \"book\"\n",
        "print('No. of user events: ' + str(len(df_events)))"
      ],
      "metadata": {
        "colab": {
          "base_uri": "https://localhost:8080/"
        },
        "id": "tAyKjmxeNf1X",
        "outputId": "7d4a6d34-56a9-432f-9a3d-123e01bd518f"
      },
      "execution_count": 6,
      "outputs": [
        {
          "output_type": "stream",
          "name": "stdout",
          "text": [
            "No. of user events: 1149780\n"
          ]
        }
      ]
    },
    {
      "cell_type": "code",
      "source": [
        "df_events.head()"
      ],
      "metadata": {
        "colab": {
          "base_uri": "https://localhost:8080/",
          "height": 206
        },
        "id": "SA02IGeBTzdk",
        "outputId": "13339b8c-3c75-4a04-d3d6-c268f3e537ce"
      },
      "execution_count": 7,
      "outputs": [
        {
          "output_type": "execute_result",
          "data": {
            "text/plain": [
              "     user        book  rating\n",
              "0  276725  034545104X       0\n",
              "1  276726  0155061224       5\n",
              "2  276727  0446520802       0\n",
              "3  276729  052165615X       3\n",
              "4  276729  0521795028       6"
            ],
            "text/html": [
              "\n",
              "  <div id=\"df-281a70d0-cb39-4707-9098-0cfad1f29120\">\n",
              "    <div class=\"colab-df-container\">\n",
              "      <div>\n",
              "<style scoped>\n",
              "    .dataframe tbody tr th:only-of-type {\n",
              "        vertical-align: middle;\n",
              "    }\n",
              "\n",
              "    .dataframe tbody tr th {\n",
              "        vertical-align: top;\n",
              "    }\n",
              "\n",
              "    .dataframe thead th {\n",
              "        text-align: right;\n",
              "    }\n",
              "</style>\n",
              "<table border=\"1\" class=\"dataframe\">\n",
              "  <thead>\n",
              "    <tr style=\"text-align: right;\">\n",
              "      <th></th>\n",
              "      <th>user</th>\n",
              "      <th>book</th>\n",
              "      <th>rating</th>\n",
              "    </tr>\n",
              "  </thead>\n",
              "  <tbody>\n",
              "    <tr>\n",
              "      <th>0</th>\n",
              "      <td>276725</td>\n",
              "      <td>034545104X</td>\n",
              "      <td>0</td>\n",
              "    </tr>\n",
              "    <tr>\n",
              "      <th>1</th>\n",
              "      <td>276726</td>\n",
              "      <td>0155061224</td>\n",
              "      <td>5</td>\n",
              "    </tr>\n",
              "    <tr>\n",
              "      <th>2</th>\n",
              "      <td>276727</td>\n",
              "      <td>0446520802</td>\n",
              "      <td>0</td>\n",
              "    </tr>\n",
              "    <tr>\n",
              "      <th>3</th>\n",
              "      <td>276729</td>\n",
              "      <td>052165615X</td>\n",
              "      <td>3</td>\n",
              "    </tr>\n",
              "    <tr>\n",
              "      <th>4</th>\n",
              "      <td>276729</td>\n",
              "      <td>0521795028</td>\n",
              "      <td>6</td>\n",
              "    </tr>\n",
              "  </tbody>\n",
              "</table>\n",
              "</div>\n",
              "      <button class=\"colab-df-convert\" onclick=\"convertToInteractive('df-281a70d0-cb39-4707-9098-0cfad1f29120')\"\n",
              "              title=\"Convert this dataframe to an interactive table.\"\n",
              "              style=\"display:none;\">\n",
              "        \n",
              "  <svg xmlns=\"http://www.w3.org/2000/svg\" height=\"24px\"viewBox=\"0 0 24 24\"\n",
              "       width=\"24px\">\n",
              "    <path d=\"M0 0h24v24H0V0z\" fill=\"none\"/>\n",
              "    <path d=\"M18.56 5.44l.94 2.06.94-2.06 2.06-.94-2.06-.94-.94-2.06-.94 2.06-2.06.94zm-11 1L8.5 8.5l.94-2.06 2.06-.94-2.06-.94L8.5 2.5l-.94 2.06-2.06.94zm10 10l.94 2.06.94-2.06 2.06-.94-2.06-.94-.94-2.06-.94 2.06-2.06.94z\"/><path d=\"M17.41 7.96l-1.37-1.37c-.4-.4-.92-.59-1.43-.59-.52 0-1.04.2-1.43.59L10.3 9.45l-7.72 7.72c-.78.78-.78 2.05 0 2.83L4 21.41c.39.39.9.59 1.41.59.51 0 1.02-.2 1.41-.59l7.78-7.78 2.81-2.81c.8-.78.8-2.07 0-2.86zM5.41 20L4 18.59l7.72-7.72 1.47 1.35L5.41 20z\"/>\n",
              "  </svg>\n",
              "      </button>\n",
              "      \n",
              "  <style>\n",
              "    .colab-df-container {\n",
              "      display:flex;\n",
              "      flex-wrap:wrap;\n",
              "      gap: 12px;\n",
              "    }\n",
              "\n",
              "    .colab-df-convert {\n",
              "      background-color: #E8F0FE;\n",
              "      border: none;\n",
              "      border-radius: 50%;\n",
              "      cursor: pointer;\n",
              "      display: none;\n",
              "      fill: #1967D2;\n",
              "      height: 32px;\n",
              "      padding: 0 0 0 0;\n",
              "      width: 32px;\n",
              "    }\n",
              "\n",
              "    .colab-df-convert:hover {\n",
              "      background-color: #E2EBFA;\n",
              "      box-shadow: 0px 1px 2px rgba(60, 64, 67, 0.3), 0px 1px 3px 1px rgba(60, 64, 67, 0.15);\n",
              "      fill: #174EA6;\n",
              "    }\n",
              "\n",
              "    [theme=dark] .colab-df-convert {\n",
              "      background-color: #3B4455;\n",
              "      fill: #D2E3FC;\n",
              "    }\n",
              "\n",
              "    [theme=dark] .colab-df-convert:hover {\n",
              "      background-color: #434B5C;\n",
              "      box-shadow: 0px 1px 3px 1px rgba(0, 0, 0, 0.15);\n",
              "      filter: drop-shadow(0px 1px 2px rgba(0, 0, 0, 0.3));\n",
              "      fill: #FFFFFF;\n",
              "    }\n",
              "  </style>\n",
              "\n",
              "      <script>\n",
              "        const buttonEl =\n",
              "          document.querySelector('#df-281a70d0-cb39-4707-9098-0cfad1f29120 button.colab-df-convert');\n",
              "        buttonEl.style.display =\n",
              "          google.colab.kernel.accessAllowed ? 'block' : 'none';\n",
              "\n",
              "        async function convertToInteractive(key) {\n",
              "          const element = document.querySelector('#df-281a70d0-cb39-4707-9098-0cfad1f29120');\n",
              "          const dataTable =\n",
              "            await google.colab.kernel.invokeFunction('convertToInteractive',\n",
              "                                                     [key], {});\n",
              "          if (!dataTable) return;\n",
              "\n",
              "          const docLinkHtml = 'Like what you see? Visit the ' +\n",
              "            '<a target=\"_blank\" href=https://colab.research.google.com/notebooks/data_table.ipynb>data table notebook</a>'\n",
              "            + ' to learn more about interactive tables.';\n",
              "          element.innerHTML = '';\n",
              "          dataTable['output_type'] = 'display_data';\n",
              "          await google.colab.output.renderOutput(dataTable, element);\n",
              "          const docLink = document.createElement('div');\n",
              "          docLink.innerHTML = docLinkHtml;\n",
              "          element.appendChild(docLink);\n",
              "        }\n",
              "      </script>\n",
              "    </div>\n",
              "  </div>\n",
              "  "
            ]
          },
          "metadata": {},
          "execution_count": 7
        }
      ]
    },
    {
      "cell_type": "markdown",
      "source": [
        "## D. Data analysis"
      ],
      "metadata": {
        "id": "FMcwqRl5Unz6"
      }
    },
    {
      "cell_type": "code",
      "source": [
        "def users_and_items(df_events, user_col, item_col):\n",
        "    print('No. user events: ' + str(len(df_events)))\n",
        "    print('No. items: ' + str(len(df_events[item_col].unique())))\n",
        "    print('No. users: ' + str(len(df_events[user_col].unique())))\n",
        "    print(\"\\n\")\n",
        "def user_distribution(df_events, user_col, item_col):\n",
        "    user_dist = df_events[user_col].value_counts() \n",
        "    num_users = len(user_dist)\n",
        "    print('Mean '+item_col+'s per user: ' + str(np.round(user_dist.mean(),1))) \n",
        "    print('Min '+item_col+'s per user: ' + str(np.round(user_dist.min(),1))) \n",
        "    print('Max '+item_col+'s per user: ' + str(np.round(user_dist.max(),1)))\n",
        "    print(\"\\n\")\n",
        "    return user_dist, num_users\n",
        "def item_distribution(df_events, user_col, item_col):\n",
        "    item_dist = df_events[item_col].value_counts()\n",
        "    num_items = len(item_dist)\n",
        "    print('Mean users per '+item_col+': ' + str(np.round(item_dist.mean(),1))) \n",
        "    print('Min users per '+item_col+': ' + str(np.round(item_dist.min(),1))) \n",
        "    print('Max users per '+item_col+': ' + str(np.round(item_dist.max(),1))) \n",
        "    print(\"\\n\")\n",
        "    return item_dist, num_items"
      ],
      "metadata": {
        "id": "yQMsd3hxT9ce"
      },
      "execution_count": 8,
      "outputs": []
    },
    {
      "cell_type": "code",
      "source": [
        "users_and_items(df_events, \"user\", item_col)\n",
        "user_dist, num_users = user_distribution(df_events, \"user\", item_col)\n",
        "item_dist, num_items = item_distribution(df_events, \"user\", item_col)"
      ],
      "metadata": {
        "colab": {
          "base_uri": "https://localhost:8080/"
        },
        "id": "gK4DR9IaUrWB",
        "outputId": "4987e519-1b8d-4b83-c457-dd8c4d4d16d9"
      },
      "execution_count": 9,
      "outputs": [
        {
          "output_type": "stream",
          "name": "stdout",
          "text": [
            "No. user events: 1149780\n",
            "No. items: 340556\n",
            "No. users: 105283\n",
            "\n",
            "\n",
            "Mean books per user: 10.9\n",
            "Min books per user: 1\n",
            "Max books per user: 13602\n",
            "\n",
            "\n",
            "Mean users per book: 3.4\n",
            "Min users per book: 1\n",
            "Max users per book: 2502\n",
            "\n",
            "\n"
          ]
        }
      ]
    },
    {
      "cell_type": "markdown",
      "source": [
        "FairBook cut down the dataset."
      ],
      "metadata": {
        "id": "yY78u6hJU0UZ"
      }
    },
    {
      "cell_type": "code",
      "source": [
        "# This method return a dataframe in which the specified values are removed from a specific column. We can use it to generate the implicit/explicit dataset.\n",
        "# To do this, we can remove the 0 or 1-10 values from the `Book-Rating` column.\n",
        "def filter_rows_by_values(df, col, values):\n",
        "    return df[~df[col].isin(values)]"
      ],
      "metadata": {
        "id": "lyhB0isHUs-x"
      },
      "execution_count": 10,
      "outputs": []
    },
    {
      "cell_type": "code",
      "source": [
        "df_events = filter_rows_by_values(df_events, predict_col, [0])\n",
        "\n",
        "\n",
        "# statistics on explicit dataset\n",
        "users_and_items(df_events, \"user\", item_col)\n",
        "user_dist, num_users = user_distribution(df_events, \"user\", item_col)\n",
        "item_dist, num_items = item_distribution(df_events, \"user\", item_col)"
      ],
      "metadata": {
        "colab": {
          "base_uri": "https://localhost:8080/"
        },
        "id": "8A4qppVjU4pv",
        "outputId": "f9f82355-008d-4ee1-9bab-f1beebf4f9a4"
      },
      "execution_count": 11,
      "outputs": [
        {
          "output_type": "stream",
          "name": "stdout",
          "text": [
            "No. user events: 433671\n",
            "No. items: 185973\n",
            "No. users: 77805\n",
            "\n",
            "\n",
            "Mean books per user: 5.6\n",
            "Min books per user: 1\n",
            "Max books per user: 8524\n",
            "\n",
            "\n",
            "Mean users per book: 2.3\n",
            "Min users per book: 1\n",
            "Max users per book: 707\n",
            "\n",
            "\n"
          ]
        }
      ]
    },
    {
      "cell_type": "code",
      "source": [
        "# To check if there is any user with more than toprate interaction in the preprocessed dataset\n",
        "# The correct output will be zero\n",
        "uid_value_counts = df_events['user'].value_counts()\n",
        "print(f\"The number of users with more than 200 interactions: {uid_value_counts[uid_value_counts > 200].count()}\")"
      ],
      "metadata": {
        "colab": {
          "base_uri": "https://localhost:8080/"
        },
        "id": "ZSylrtm-VLYj",
        "outputId": "6a3a741c-75a0-4fc9-e9aa-3dd829743861"
      },
      "execution_count": 12,
      "outputs": [
        {
          "output_type": "stream",
          "name": "stdout",
          "text": [
            "The number of users with more than 200 interactions: 144\n"
          ]
        }
      ]
    },
    {
      "cell_type": "code",
      "source": [
        "# To remove the users with fewer than 5 interaction we first count the number of interactino per user and add a new column (`Count`) in the dataframe.\n",
        "# This column shows the number of interaction per user in the dataset\n",
        "users_counts = uid_value_counts.to_dict() #converts to dictionary\n",
        "df_events['Count'] = df_events['user'].map(users_counts)"
      ],
      "metadata": {
        "id": "Nfzh2XdaVadU"
      },
      "execution_count": 13,
      "outputs": []
    },
    {
      "cell_type": "code",
      "source": [
        "df_events = filter_rows_by_values(df_events, \"Count\", list(range(200, max(df_events['Count']) + 1)))"
      ],
      "metadata": {
        "id": "o-j-0QBVVoxv"
      },
      "execution_count": 14,
      "outputs": []
    },
    {
      "cell_type": "code",
      "source": [
        "# new data statistics\n",
        "users_and_items(df_events, \"user\", item_col)\n",
        "user_dist, num_users = user_distribution(df_events, \"user\", item_col)\n",
        "item_dist, num_items = item_distribution(df_events, \"user\", item_col)"
      ],
      "metadata": {
        "colab": {
          "base_uri": "https://localhost:8080/"
        },
        "id": "1ApIrzcCVw9N",
        "outputId": "2e61f019-7f8d-456a-db83-dab97cbd5d16"
      },
      "execution_count": 15,
      "outputs": [
        {
          "output_type": "stream",
          "name": "stdout",
          "text": [
            "No. user events: 364245\n",
            "No. items: 156891\n",
            "No. users: 77660\n",
            "\n",
            "\n",
            "Mean books per user: 4.7\n",
            "Min books per user: 1\n",
            "Max books per user: 199\n",
            "\n",
            "\n",
            "Mean users per book: 2.3\n",
            "Min users per book: 1\n",
            "Max users per book: 683\n",
            "\n",
            "\n"
          ]
        }
      ]
    },
    {
      "cell_type": "code",
      "source": [
        "user_interaction, item_interaction = 1, 1\n",
        "\n",
        "while user_interaction != 0 or item_interaction != 0:\n",
        "    uid_value_counts = df_events[\"user\"].value_counts()\n",
        "    user_interaction = uid_value_counts[uid_value_counts < 5].count()\n",
        "\n",
        "    users_counts = df_events[\"user\"].value_counts()\n",
        "    users_counts = users_counts.to_dict() #converts to dictionary\n",
        "    df_events['Count'] = df_events[\"user\"].map(users_counts)\n",
        "\n",
        "    df_events = filter_rows_by_values(df_events, \"Count\", list(range(5)))\n",
        "\n",
        "    # item side fewer than ds_rate cheking\n",
        "    bid_value_counts = df_events[item_col].value_counts()\n",
        "    item_interaction = bid_value_counts[bid_value_counts < 5].count()\n",
        "\n",
        "    items_counts = df_events[item_col].value_counts()\n",
        "    items_counts = items_counts.to_dict() #converts to dictionary\n",
        "    df_events['Count'] = df_events[item_col].map(items_counts)\n",
        "\n",
        "    df_events = filter_rows_by_values(df_events, \"Count\", list(range(5)))"
      ],
      "metadata": {
        "colab": {
          "base_uri": "https://localhost:8080/"
        },
        "id": "qT-hW-30V2_0",
        "outputId": "30fcdc54-bb82-48e7-eaeb-1c4726d415f6"
      },
      "execution_count": 16,
      "outputs": [
        {
          "output_type": "stream",
          "name": "stderr",
          "text": [
            "/usr/local/lib/python3.7/dist-packages/ipykernel_launcher.py:9: SettingWithCopyWarning: \n",
            "A value is trying to be set on a copy of a slice from a DataFrame.\n",
            "Try using .loc[row_indexer,col_indexer] = value instead\n",
            "\n",
            "See the caveats in the documentation: https://pandas.pydata.org/pandas-docs/stable/user_guide/indexing.html#returning-a-view-versus-a-copy\n",
            "  if __name__ == '__main__':\n",
            "/usr/local/lib/python3.7/dist-packages/ipykernel_launcher.py:19: SettingWithCopyWarning: \n",
            "A value is trying to be set on a copy of a slice from a DataFrame.\n",
            "Try using .loc[row_indexer,col_indexer] = value instead\n",
            "\n",
            "See the caveats in the documentation: https://pandas.pydata.org/pandas-docs/stable/user_guide/indexing.html#returning-a-view-versus-a-copy\n"
          ]
        }
      ]
    },
    {
      "cell_type": "code",
      "source": [
        "# final data statistics\n",
        "users_and_items(df_events, \"user\", item_col)\n",
        "user_dist, num_users = user_distribution(df_events, \"user\", item_col)\n",
        "item_dist, num_items = item_distribution(df_events, \"user\", item_col)"
      ],
      "metadata": {
        "colab": {
          "base_uri": "https://localhost:8080/"
        },
        "id": "Mm4cP5FzWhIJ",
        "outputId": "3a2ee751-51d4-4edb-f74f-3f424c710361"
      },
      "execution_count": 17,
      "outputs": [
        {
          "output_type": "stream",
          "name": "stdout",
          "text": [
            "No. user events: 88552\n",
            "No. items: 6921\n",
            "No. users: 6358\n",
            "\n",
            "\n",
            "Mean books per user: 13.9\n",
            "Min books per user: 5\n",
            "Max books per user: 153\n",
            "\n",
            "\n",
            "Mean users per book: 12.8\n",
            "Min users per book: 5\n",
            "Max users per book: 350\n",
            "\n",
            "\n"
          ]
        }
      ]
    },
    {
      "cell_type": "code",
      "source": [
        "del(df_events[\"Count\"])"
      ],
      "metadata": {
        "id": "BxFkdMdCbAMj"
      },
      "execution_count": 18,
      "outputs": []
    },
    {
      "cell_type": "code",
      "source": [
        "\n",
        "# create item dataframe with normalized item counts\n",
        "df_item_dist = pd.DataFrame(item_dist) # turn the series into a dataframe\n",
        "df_item_dist.columns = ['count']\n",
        "df_item_dist['count'] /= num_users # basically the popularity of every item\n"
      ],
      "metadata": {
        "id": "Ad5vVllHWxQg"
      },
      "execution_count": 19,
      "outputs": []
    },
    {
      "cell_type": "code",
      "source": [
        "df_item_dist.head()"
      ],
      "metadata": {
        "colab": {
          "base_uri": "https://localhost:8080/",
          "height": 206
        },
        "id": "Oh_Z9gu9bGu4",
        "outputId": "96248404-8a58-4f0c-f9ca-459bb5989cf5"
      },
      "execution_count": 20,
      "outputs": [
        {
          "output_type": "execute_result",
          "data": {
            "text/plain": [
              "                 count\n",
              "0316666343  0.05504876\n",
              "0385504209  0.04356716\n",
              "0312195516  0.03129915\n",
              "0142001740  0.02956905\n",
              "0060928336  0.02831079"
            ],
            "text/html": [
              "\n",
              "  <div id=\"df-6303e765-60a1-45a0-ac97-a8781e24811d\">\n",
              "    <div class=\"colab-df-container\">\n",
              "      <div>\n",
              "<style scoped>\n",
              "    .dataframe tbody tr th:only-of-type {\n",
              "        vertical-align: middle;\n",
              "    }\n",
              "\n",
              "    .dataframe tbody tr th {\n",
              "        vertical-align: top;\n",
              "    }\n",
              "\n",
              "    .dataframe thead th {\n",
              "        text-align: right;\n",
              "    }\n",
              "</style>\n",
              "<table border=\"1\" class=\"dataframe\">\n",
              "  <thead>\n",
              "    <tr style=\"text-align: right;\">\n",
              "      <th></th>\n",
              "      <th>count</th>\n",
              "    </tr>\n",
              "  </thead>\n",
              "  <tbody>\n",
              "    <tr>\n",
              "      <th>0316666343</th>\n",
              "      <td>0.05504876</td>\n",
              "    </tr>\n",
              "    <tr>\n",
              "      <th>0385504209</th>\n",
              "      <td>0.04356716</td>\n",
              "    </tr>\n",
              "    <tr>\n",
              "      <th>0312195516</th>\n",
              "      <td>0.03129915</td>\n",
              "    </tr>\n",
              "    <tr>\n",
              "      <th>0142001740</th>\n",
              "      <td>0.02956905</td>\n",
              "    </tr>\n",
              "    <tr>\n",
              "      <th>0060928336</th>\n",
              "      <td>0.02831079</td>\n",
              "    </tr>\n",
              "  </tbody>\n",
              "</table>\n",
              "</div>\n",
              "      <button class=\"colab-df-convert\" onclick=\"convertToInteractive('df-6303e765-60a1-45a0-ac97-a8781e24811d')\"\n",
              "              title=\"Convert this dataframe to an interactive table.\"\n",
              "              style=\"display:none;\">\n",
              "        \n",
              "  <svg xmlns=\"http://www.w3.org/2000/svg\" height=\"24px\"viewBox=\"0 0 24 24\"\n",
              "       width=\"24px\">\n",
              "    <path d=\"M0 0h24v24H0V0z\" fill=\"none\"/>\n",
              "    <path d=\"M18.56 5.44l.94 2.06.94-2.06 2.06-.94-2.06-.94-.94-2.06-.94 2.06-2.06.94zm-11 1L8.5 8.5l.94-2.06 2.06-.94-2.06-.94L8.5 2.5l-.94 2.06-2.06.94zm10 10l.94 2.06.94-2.06 2.06-.94-2.06-.94-.94-2.06-.94 2.06-2.06.94z\"/><path d=\"M17.41 7.96l-1.37-1.37c-.4-.4-.92-.59-1.43-.59-.52 0-1.04.2-1.43.59L10.3 9.45l-7.72 7.72c-.78.78-.78 2.05 0 2.83L4 21.41c.39.39.9.59 1.41.59.51 0 1.02-.2 1.41-.59l7.78-7.78 2.81-2.81c.8-.78.8-2.07 0-2.86zM5.41 20L4 18.59l7.72-7.72 1.47 1.35L5.41 20z\"/>\n",
              "  </svg>\n",
              "      </button>\n",
              "      \n",
              "  <style>\n",
              "    .colab-df-container {\n",
              "      display:flex;\n",
              "      flex-wrap:wrap;\n",
              "      gap: 12px;\n",
              "    }\n",
              "\n",
              "    .colab-df-convert {\n",
              "      background-color: #E8F0FE;\n",
              "      border: none;\n",
              "      border-radius: 50%;\n",
              "      cursor: pointer;\n",
              "      display: none;\n",
              "      fill: #1967D2;\n",
              "      height: 32px;\n",
              "      padding: 0 0 0 0;\n",
              "      width: 32px;\n",
              "    }\n",
              "\n",
              "    .colab-df-convert:hover {\n",
              "      background-color: #E2EBFA;\n",
              "      box-shadow: 0px 1px 2px rgba(60, 64, 67, 0.3), 0px 1px 3px 1px rgba(60, 64, 67, 0.15);\n",
              "      fill: #174EA6;\n",
              "    }\n",
              "\n",
              "    [theme=dark] .colab-df-convert {\n",
              "      background-color: #3B4455;\n",
              "      fill: #D2E3FC;\n",
              "    }\n",
              "\n",
              "    [theme=dark] .colab-df-convert:hover {\n",
              "      background-color: #434B5C;\n",
              "      box-shadow: 0px 1px 3px 1px rgba(0, 0, 0, 0.15);\n",
              "      filter: drop-shadow(0px 1px 2px rgba(0, 0, 0, 0.3));\n",
              "      fill: #FFFFFF;\n",
              "    }\n",
              "  </style>\n",
              "\n",
              "      <script>\n",
              "        const buttonEl =\n",
              "          document.querySelector('#df-6303e765-60a1-45a0-ac97-a8781e24811d button.colab-df-convert');\n",
              "        buttonEl.style.display =\n",
              "          google.colab.kernel.accessAllowed ? 'block' : 'none';\n",
              "\n",
              "        async function convertToInteractive(key) {\n",
              "          const element = document.querySelector('#df-6303e765-60a1-45a0-ac97-a8781e24811d');\n",
              "          const dataTable =\n",
              "            await google.colab.kernel.invokeFunction('convertToInteractive',\n",
              "                                                     [key], {});\n",
              "          if (!dataTable) return;\n",
              "\n",
              "          const docLinkHtml = 'Like what you see? Visit the ' +\n",
              "            '<a target=\"_blank\" href=https://colab.research.google.com/notebooks/data_table.ipynb>data table notebook</a>'\n",
              "            + ' to learn more about interactive tables.';\n",
              "          element.innerHTML = '';\n",
              "          dataTable['output_type'] = 'display_data';\n",
              "          await google.colab.output.renderOutput(dataTable, element);\n",
              "          const docLink = document.createElement('div');\n",
              "          docLink.innerHTML = docLinkHtml;\n",
              "          element.appendChild(docLink);\n",
              "        }\n",
              "      </script>\n",
              "    </div>\n",
              "  </div>\n",
              "  "
            ]
          },
          "metadata": {},
          "execution_count": 20
        }
      ]
    },
    {
      "cell_type": "code",
      "source": [
        "def plot_data_distribution(item_dist, item_col, dividing = [False, 0], log = False, save = False, addition = \"\"):\n",
        "    plt.figure()\n",
        "    ax = plt.axes()\n",
        "    ax.spines['bottom'].set_color('w')\n",
        "    ax.spines['top'].set_color('w')\n",
        "    ax.spines['right'].set_color('w')\n",
        "    ax.spines['left'].set_color('w')\n",
        "    ax.spines['left'].set_zorder(0)\n",
        "    ax.xaxis.set_ticks_position('none') \n",
        "    ax.yaxis.set_ticks_position('none') \n",
        "    ax.set_facecolor(\"aliceblue\")\n",
        "    plt.grid(color = \"w\",linewidth = 2 )\n",
        "    if dividing[0]:\n",
        "        x0 = int(len(item_dist.values)*dividing[1])\n",
        "        y = range(len(item_dist))\n",
        "        plt.plot(y[:x0+1], item_dist.values[:x0+1], label = \"Popular \"+item_col+\"s\", linewidth = 5)\n",
        "        plt.plot(y[x0:], item_dist.values[x0:], label = \"Non Popular \"+item_col+\"s\", linewidth = 5)\n",
        "    else:\n",
        "        plt.plot(item_dist.values)\n",
        "    plt.xticks(fontsize='13')\n",
        "    plt.yticks(fontsize='13')\n",
        "    add = \"\"\n",
        "    if log:\n",
        "        plt.xscale('log')\n",
        "        plt.yscale('log')\n",
        "        add = \"_(log)\"\n",
        "    plt.xlabel(item_col+add, fontsize='14')\n",
        "    plt.ylabel('Number of users' + add, fontsize='15')\n",
        "    if save:\n",
        "        if dividing[0]:\n",
        "            plt.savefig('graphs/'+item_col+add+\"_dist_div\"+addition+\".png\", bbox_inches='tight')\n",
        "        else:\n",
        "            plt.savefig('graphs/'+item_col+add+\"_dist\"+addition+\".png\", bbox_inches='tight')\n",
        "    plt.show(block=True)\n",
        "def plot_popularity_distribution(pop_fraq, item_col, dividing = [False,0], save = False, addition = \"\"):\n",
        "    plt.figure()\n",
        "    ax = plt.axes()\n",
        "    ax.spines['bottom'].set_color('w')\n",
        "    ax.spines['top'].set_color('w')\n",
        "    ax.spines['right'].set_color('w')\n",
        "    ax.spines['left'].set_color('w')\n",
        "    ax.spines['left'].set_zorder(0)\n",
        "    ax.xaxis.set_ticks_position('none') \n",
        "    ax.yaxis.set_ticks_position('none') \n",
        "    \n",
        "    ax.set_facecolor(\"aliceblue\")\n",
        "    plt.grid(color = \"w\",linewidth = 2 )\n",
        "    if dividing[0]:\n",
        "        y = range(len(pop_fraq))\n",
        "        x0 = int(len(y)*dividing[1]) \n",
        "        x1 = int(len(y)*(1-dividing[1]))\n",
        "        x= sorted(pop_fraq)\n",
        "        plt.plot(y[:x0+1],x[:x0+1], label=\"LowMS users\", linewidth = 5)\n",
        "        plt.plot(y[x0:x1+1],x[x0:x1+1], label = \"MedMS users\", linewidth = 5)\n",
        "        plt.plot(y[x1:],x[x1:], label = \"HighMS users\", linewidth =5)\n",
        "    else:\n",
        "        plt.plot(sorted(pop_fraq))\n",
        "    plt.xlabel('User', fontsize='15')\n",
        "    plt.xticks(fontsize='13')\n",
        "    plt.ylabel('Ratio of popular '+item_col+'s', fontsize='15')\n",
        "    plt.yticks(fontsize='13')\n",
        "    plt.axhline(y=0.8, color='black', linestyle='--', label='80% ratio of popular '+item_col+'s')\n",
        "    plt.legend(fontsize='15')\n",
        "    #plt.savefig('data/ECIR/user_artist_ratio.png', dpi=300, bbox_inches='tight')\n",
        "    if save:\n",
        "        if dividing[0]:\n",
        "            plt.savefig('graphs/'+item_col+\"_pop_dist_div\"+addition+\".png\", bbox_inches='tight')\n",
        "        else:\n",
        "            plt.savefig('graphs/'+item_col+\"_pop_dist\"+addition+\".png\", bbox_inches='tight')\n",
        "    plt.show(block=True)\n"
      ],
      "metadata": {
        "id": "e7A47DCgbIjw"
      },
      "execution_count": 21,
      "outputs": []
    },
    {
      "cell_type": "code",
      "source": [
        "plot_data_distribution(item_dist, item_col)\n",
        "plot_data_distribution(item_dist, item_col, [False, 0],True)"
      ],
      "metadata": {
        "colab": {
          "base_uri": "https://localhost:8080/",
          "height": 565
        },
        "id": "EkYkK6vEbK8-",
        "outputId": "e03116c1-7a64-48de-929f-fdef7e512ea7"
      },
      "execution_count": 22,
      "outputs": [
        {
          "output_type": "display_data",
          "data": {
            "text/plain": [
              "<Figure size 432x288 with 1 Axes>"
            ],
            "image/png": "[encoded data removed]"
          },
          "metadata": {}
        },
        {
          "output_type": "display_data",
          "data": {
            "text/plain": [
              "<Figure size 432x288 with 1 Axes>"
            ],
            "image/png": "[encoded data removed]"
          },
          "metadata": {}
        }
      ]
    },
    {
      "cell_type": "markdown",
      "source": [
        "## E. Popularity in the data"
      ],
      "metadata": {
        "id": "bJtawX7Obc-b"
      }
    },
    {
      "cell_type": "code",
      "source": [
        "num_top = int(top_fraction * num_items)\n",
        "top_item_dist = item_dist[:num_top]\n",
        "print('No. top items: ' + str(len(top_item_dist)))"
      ],
      "metadata": {
        "colab": {
          "base_uri": "https://localhost:8080/"
        },
        "id": "qcPpaALQbMzd",
        "outputId": "13d3c9d1-5f2a-4d37-d0b4-105383dc3494"
      },
      "execution_count": 23,
      "outputs": [
        {
          "output_type": "stream",
          "name": "stdout",
          "text": [
            "No. top items: 1384\n"
          ]
        }
      ]
    },
    {
      "cell_type": "code",
      "source": [
        "def calculate_popularity(df_events, top_item_dist, item_dist, num_users, user_col, item_col):\n",
        "    pop_count = [] # number of top items per user\n",
        "    user_hist = [] # user history sizes\n",
        "    pop_fraq = [] # relative number of top items per user\n",
        "    pop_item_fraq = [] # average popularity of items in user profiles\n",
        "    i=0\n",
        "    for u, df in df_events.groupby(user_col):\n",
        "        no_user_items = len(set(df[item_col]))\n",
        "        no_user_pop_items = len(set(df[item_col]) & set(top_item_dist.index))\n",
        "        pop_count.append(no_user_pop_items)\n",
        "        user_hist.append(no_user_items) \n",
        "        pop_fraq.append(no_user_pop_items / no_user_items)\n",
        "        user_pop_item_fraq = sum(item_dist[df[item_col]] / num_users) / no_user_items\n",
        "        pop_item_fraq.append(user_pop_item_fraq)\n",
        "        i+=1\n",
        "        if i%1000==0:\n",
        "            print(i)\n",
        "    #output = open('data/'+item_col+'_pop_fraq.pkl', 'wb')\n",
        "    #pkl.dump(pop_fraq, output)\n",
        "    #output.close()\n",
        "\n",
        "    #output = open('data/'+item_col+'_user_hist.pkl', 'wb')\n",
        "    #pkl.dump(user_hist, output)\n",
        "    #output.close()\n",
        "\n",
        "    #output = open('data/'+item_col+'_pop_count.pkl', 'wb')\n",
        "    #pkl.dump(pop_count, output)\n",
        "    #output.close()\n",
        "\n",
        "    #output = open('data/'+item_col+'_pop_item_fraq.pkl', 'wb')\n",
        "    #pkl.dump(pop_item_fraq, output)\n",
        "    #output.close()\n",
        "\n",
        "    return pop_count,user_hist,pop_fraq, pop_item_fraq"
      ],
      "metadata": {
        "id": "heWAn1_Obep_"
      },
      "execution_count": 24,
      "outputs": []
    },
    {
      "cell_type": "code",
      "source": [
        "pop_count,user_hist,pop_fraq, pop_item_fraq = calculate_popularity(df_events, top_item_dist, item_dist, num_users, \"user\", item_col)"
      ],
      "metadata": {
        "colab": {
          "base_uri": "https://localhost:8080/"
        },
        "id": "InpEYMvSbgUu",
        "outputId": "b56d4932-cd90-443c-df91-a663f1bf49fb"
      },
      "execution_count": 25,
      "outputs": [
        {
          "output_type": "stream",
          "name": "stdout",
          "text": [
            "1000\n",
            "2000\n",
            "3000\n",
            "4000\n",
            "5000\n",
            "6000\n"
          ]
        }
      ]
    },
    {
      "cell_type": "code",
      "source": [
        "def plot_popularity_distribution(pop_fraq, item_col, dividing = [False,0], save = False, addition = \"\"):\n",
        "    plt.figure()\n",
        "    ax = plt.axes()\n",
        "    ax.spines['bottom'].set_color('w')\n",
        "    ax.spines['top'].set_color('w')\n",
        "    ax.spines['right'].set_color('w')\n",
        "    ax.spines['left'].set_color('w')\n",
        "    ax.spines['left'].set_zorder(0)\n",
        "    ax.xaxis.set_ticks_position('none') \n",
        "    ax.yaxis.set_ticks_position('none') \n",
        "    \n",
        "    ax.set_facecolor(\"aliceblue\")\n",
        "    plt.grid(color = \"w\",linewidth = 2 )\n",
        "    if dividing[0]:\n",
        "        y = range(len(pop_fraq))\n",
        "        x0 = int(len(y)*dividing[1]) \n",
        "        x1 = int(len(y)*(1-dividing[1]))\n",
        "        x= sorted(pop_fraq)\n",
        "        plt.plot(y[:x0+1],x[:x0+1], label=\"LowMS users\", linewidth = 5)\n",
        "        plt.plot(y[x0:x1+1],x[x0:x1+1], label = \"MedMS users\", linewidth = 5)\n",
        "        plt.plot(y[x1:],x[x1:], label = \"HighMS users\", linewidth =5)\n",
        "    else:\n",
        "        plt.plot(sorted(pop_fraq))\n",
        "    plt.xlabel('User', fontsize='15')\n",
        "    plt.xticks(fontsize='13')\n",
        "    plt.ylabel('Ratio of popular '+item_col+'s', fontsize='15')\n",
        "    plt.yticks(fontsize='13')\n",
        "    plt.axhline(y=0.8, color='black', linestyle='--', label='80% ratio of popular '+item_col+'s')\n",
        "    plt.legend(fontsize='15')\n",
        "    #plt.savefig('data/ECIR/user_artist_ratio.png', dpi=300, bbox_inches='tight')\n",
        "    if save:\n",
        "        if dividing[0]:\n",
        "            plt.savefig('graphs/'+item_col+\"_pop_dist_div\"+addition+\".png\", bbox_inches='tight')\n",
        "        else:\n",
        "            plt.savefig('graphs/'+item_col+\"_pop_dist\"+addition+\".png\", bbox_inches='tight')\n",
        "    plt.show(block=True)\n",
        "\n",
        "def plot_Lorenz(movs,cdf, item_col = \"movie\", save = False, addition = \"\"):\n",
        "    def f(t):\n",
        "        return t\n",
        "    plt.plot(movs*100, cdf*100, linewidth = 3, color = \"red\", label = \"L(x) actual\")\n",
        "    plt.plot(movs*100, movs*100, linewidth = 3, color = \"blue\", label = \"L(x) = x, distributional equality\")\n",
        "    plt.xlabel(\"100x% least consumed items\")\n",
        "    plt.ylabel(\"100y% of total amount of consumptions\")\n",
        "    section = movs*100\n",
        "    plt.legend()\n",
        "    plt.fill_between(section, f(section), color = \"lightgrey\")\n",
        "    plt.fill_between(movs*100, cdf*100, color = \"gray\")\n",
        "    if save:\n",
        "        plt.savefig('graphs/'+item_col+\"_data_Lorenz\"+addition+\".png\", bbox_inches='tight')\n",
        "    plt.show(block=True)\n",
        "\n",
        "def plot_profile_size_vs_popularity(pop_metric, user_hist, way, item_col, save = False, addition = \"\"):\n",
        "    plt.figure()\n",
        "    ax = plt.axes()\n",
        "    ax.spines['bottom'].set_color('w')\n",
        "    ax.spines['top'].set_color('w')\n",
        "    ax.spines['right'].set_color('w')\n",
        "    ax.spines['left'].set_color('w')\n",
        "    ax.spines['left'].set_zorder(0)\n",
        "    ax.xaxis.set_ticks_position('none') \n",
        "    ax.yaxis.set_ticks_position('none') \n",
        "    \n",
        "    ax.set_facecolor(\"aliceblue\")\n",
        "    plt.grid(color = \"w\",linewidth = 2 )\n",
        "    slope, intercept, r_value, p_value, std_err = stats.linregress(user_hist, pop_metric)\n",
        "    print('R-value: ' + str(r_value))\n",
        "    line = slope * np.array(user_hist) + intercept\n",
        "    plt.plot(user_hist, pop_metric, 'o', user_hist, line)\n",
        "    plt.xlabel('User profile size', fontsize='15')\n",
        "    plt.xticks(fontsize='13')\n",
        "    if way == \"count\":\n",
        "        ylabel = \"Number of popular \"+item_col+\"s\"\n",
        "    elif way == \"percentage\":\n",
        "        ylabel = 'Percentage of popular '+item_col+'s'\n",
        "    else:\n",
        "        ylabel = \"Average popularity of \"+item_col+\"s\"\n",
        "    plt.ylabel(ylabel, fontsize='15')\n",
        "    plt.yticks(fontsize='13')\n",
        "    #plt.savefig('data/ECIR/corr_user_pop.png', dpi=300, bbox_inches='tight')\n",
        "    if save:\n",
        "        plt.savefig('graphs/'+item_col+\"_\"+way+\"_vs_size\"+addition+\".png\", bbox_inches='tight')\n",
        "    plt.show(block=True)"
      ],
      "metadata": {
        "id": "48UGFx8SbiBr"
      },
      "execution_count": 26,
      "outputs": []
    },
    {
      "cell_type": "code",
      "source": [
        "plot_popularity_distribution(pop_fraq, item_col)\n",
        "plot_profile_size_vs_popularity(pop_count,user_hist, \"count\", item_col)\n",
        "plot_profile_size_vs_popularity(pop_fraq,user_hist, \"percentage\", item_col)\n",
        "plot_profile_size_vs_popularity(pop_item_fraq,user_hist, \"average\", item_col)"
      ],
      "metadata": {
        "colab": {
          "base_uri": "https://localhost:8080/",
          "height": 1000
        },
        "id": "k4zHOC5PbkpV",
        "outputId": "d514179e-c32a-43d0-ab29-f23cdadf5bf2"
      },
      "execution_count": 27,
      "outputs": [
        {
          "output_type": "display_data",
          "data": {
            "text/plain": [
              "<Figure size 432x288 with 1 Axes>"
            ],
            "image/png": "[encoded data removed]"
          },
          "metadata": {}
        },
        {
          "output_type": "stream",
          "name": "stdout",
          "text": [
            "R-value: 0.923043590336\n"
          ]
        },
        {
          "output_type": "display_data",
          "data": {
            "text/plain": [
              "<Figure size 432x288 with 1 Axes>"
            ],
            "image/png": "[encoded data removed]"
          },
          "metadata": {}
        },
        {
          "output_type": "stream",
          "name": "stdout",
          "text": [
            "R-value: -0.013155544625724313\n"
          ]
        },
        {
          "output_type": "display_data",
          "data": {
            "text/plain": [
              "<Figure size 432x288 with 1 Axes>"
            ],
            "image/png": "[encoded data removed]"
          },
          "metadata": {}
        },
        {
          "output_type": "stream",
          "name": "stdout",
          "text": [
            "R-value: -0.033575222226251665\n"
          ]
        },
        {
          "output_type": "display_data",
          "data": {
            "text/plain": [
              "<Figure size 432x288 with 1 Axes>"
            ],
            "image/png": "[encoded data removed]"
          },
          "metadata": {}
        }
      ]
    },
    {
      "cell_type": "markdown",
      "source": [
        "## F. User groups"
      ],
      "metadata": {
        "id": "KVUtmgmnbsfI"
      }
    },
    {
      "cell_type": "code",
      "source": [
        "def sort_user_dist(user_dist,pop_count, user_hist,pop_fraq,pop_item_fraq, by = \"pop_fraq\"):\n",
        "    user_dist = user_dist.sort_index()\n",
        "    user_dist_sorted = pd.DataFrame(data = user_dist)\n",
        "    \n",
        "    user_dist_sorted.columns = [\"count\"]\n",
        "    \n",
        "    user_dist_sorted[\"pop_count\"] = pop_count\n",
        "    user_dist_sorted[\"user_hist\"] = user_hist\n",
        "    user_dist_sorted[\"pop_fraq\"] = pop_fraq\n",
        "    user_dist_sorted[\"pop_item_fraq\"] = pop_item_fraq\n",
        "    \n",
        "    user_dist_sorted = user_dist_sorted.sort_values(by=[by])\n",
        "    return user_dist_sorted\n",
        "\n",
        "def split(user_dist_sorted, top_fraction):\n",
        "    low, med, high = np.split(user_dist_sorted, [int(top_fraction*len(user_dist_sorted)), int((1-top_fraction)*len(user_dist_sorted))])\n",
        "    return low, med, high\n",
        "def calculate_group_characteristics(low, med, high):\n",
        "    low_profile_size = low.user_hist.mean()\n",
        "    med_profile_size = med.user_hist.mean()\n",
        "    high_profile_size = high.user_hist.mean()\n",
        "    \n",
        "    low_nr_users = len(low)\n",
        "    med_nr_users = len(med)\n",
        "    high_nr_users = len(high)\n",
        "    \n",
        "    low_GAP = low.pop_item_fraq.mean()\n",
        "    med_GAP = med.pop_item_fraq.mean()\n",
        "    high_GAP = high.pop_item_fraq.mean()\n",
        "    \n",
        "    return low_profile_size, med_profile_size, high_profile_size, low_nr_users, med_nr_users, high_nr_users, low_GAP, med_GAP, high_GAP"
      ],
      "metadata": {
        "id": "WDOmJLuJbl6I"
      },
      "execution_count": 28,
      "outputs": []
    },
    {
      "cell_type": "code",
      "source": [
        "user_dist_sorted = sort_user_dist(user_dist,pop_count, user_hist,pop_fraq,pop_item_fraq)\n",
        "low, med, high = split(user_dist_sorted, top_fraction)\n",
        "low_profile_size, med_profile_size, high_profile_size, low_nr_users, med_nr_users, high_nr_users, low_GAP, med_GAP, high_GAP = calculate_group_characteristics(low, med, high)"
      ],
      "metadata": {
        "id": "1whaOUMubvu0"
      },
      "execution_count": 29,
      "outputs": []
    },
    {
      "cell_type": "code",
      "source": [
        "print('LowMS GAP: ' + str(low_GAP))\n",
        "print('MedMS GAP: ' + str(med_GAP))\n",
        "print('HighMS GAP: ' + str(high_GAP))"
      ],
      "metadata": {
        "colab": {
          "base_uri": "https://localhost:8080/"
        },
        "id": "4tnrh__Gbxda",
        "outputId": "2501cefc-9181-4081-e773-bc3dbf845598"
      },
      "execution_count": 30,
      "outputs": [
        {
          "output_type": "stream",
          "name": "stdout",
          "text": [
            "LowMS GAP: 0.0026179945388530904\n",
            "MedMS GAP: 0.005115376310090785\n",
            "HighMS GAP: 0.008074644552000724\n"
          ]
        }
      ]
    },
    {
      "cell_type": "code",
      "source": [
        "print(low.pop_fraq.mean(), med.pop_fraq.mean(), high.pop_fraq.mean())\n",
        "print(low.pop_fraq.std(), med.pop_fraq.std(), high.pop_fraq.std())"
      ],
      "metadata": {
        "colab": {
          "base_uri": "https://localhost:8080/"
        },
        "id": "6PLN3TnabywS",
        "outputId": "ad5f7708-ec9b-4fda-a7c0-9cda23089dd5"
      },
      "execution_count": 31,
      "outputs": [
        {
          "output_type": "stream",
          "name": "stdout",
          "text": [
            "0.2090561732239313 0.5270867500527463 0.828974321499183\n",
            "0.10097329694007061 0.10192456254933661 0.08864008055173113\n"
          ]
        }
      ]
    },
    {
      "cell_type": "code",
      "source": [
        "def plot_group_characteristics(low_nr, med_nr, high_nr, way, item_col, save = False, addition = \"\"):\n",
        "    plt.figure()\n",
        "    ax = plt.axes()\n",
        "    ax.spines['bottom'].set_color('w')\n",
        "    ax.spines['top'].set_color('w')\n",
        "    ax.spines['right'].set_color('w')\n",
        "    ax.spines['left'].set_color('w')\n",
        "    ax.spines['left'].set_zorder(0)\n",
        "    ax.xaxis.set_ticks_position('none') \n",
        "    ax.yaxis.set_ticks_position('none') \n",
        "    \n",
        "    ax.set_facecolor(\"aliceblue\")\n",
        "    plt.bar(np.arange(3), [low_nr, med_nr, high_nr])\n",
        "    plt.xticks(np.arange(3), ['LowMS', 'MedMS', 'HighMS'])\n",
        "    plt.xlabel('User group')\n",
        "    if way==\"size\":\n",
        "        ylabel = 'Average user profile size'\n",
        "    else:\n",
        "        ylabel = \"Number of users per group\"\n",
        "    plt.ylabel(ylabel)\n",
        "    \n",
        "    print('LowMS: ' + str(low_nr))\n",
        "    print('MedMS: ' + str(med_nr))\n",
        "    print('HighMS: ' + str(high_nr))\n",
        "    if save:\n",
        "        plt.savefig('graphs/'+item_col+\"_\"+way+\"_groups\"+addition+\".png\", bbox_inches='tight')\n",
        "    plt.show(block=True)"
      ],
      "metadata": {
        "id": "KYh9Iwq7b0hI"
      },
      "execution_count": 32,
      "outputs": []
    },
    {
      "cell_type": "code",
      "source": [
        "plot_group_characteristics(low_nr_users, med_nr_users, high_nr_users, way = \"number\", item_col = item_col)\n",
        "plot_group_characteristics(low_profile_size, med_profile_size, high_profile_size, way = \"size\", item_col = item_col)"
      ],
      "metadata": {
        "colab": {
          "base_uri": "https://localhost:8080/",
          "height": 661
        },
        "id": "UWciSGXcb2Gc",
        "outputId": "c11dab28-c726-44fa-fe6f-dd005bbf0236"
      },
      "execution_count": 33,
      "outputs": [
        {
          "output_type": "stream",
          "name": "stdout",
          "text": [
            "LowMS: 1271\n",
            "MedMS: 3815\n",
            "HighMS: 1272\n"
          ]
        },
        {
          "output_type": "display_data",
          "data": {
            "text/plain": [
              "<Figure size 432x288 with 1 Axes>"
            ],
            "image/png": "[encoded data removed]"
          },
          "metadata": {}
        },
        {
          "output_type": "stream",
          "name": "stdout",
          "text": [
            "LowMS: 10.991345397324942\n",
            "MedMS: 16.222804718217564\n",
            "HighMS: 9.977987421383649\n"
          ]
        },
        {
          "output_type": "display_data",
          "data": {
            "text/plain": [
              "<Figure size 432x288 with 1 Axes>"
            ],
            "image/png": "[encoded data removed]"
          },
          "metadata": {}
        }
      ]
    },
    {
      "cell_type": "code",
      "source": [
        "plot_data_distribution(item_dist, item_col, dividing = [True, top_fraction], log = False)\n",
        "plot_popularity_distribution(pop_fraq, item_col, dividing = [True,top_fraction])"
      ],
      "metadata": {
        "colab": {
          "base_uri": "https://localhost:8080/",
          "height": 562
        },
        "id": "LU60DqSqb3jI",
        "outputId": "d99c8c91-2d34-4922-fa09-0b3eb7b9cef1"
      },
      "execution_count": 34,
      "outputs": [
        {
          "output_type": "display_data",
          "data": {
            "text/plain": [
              "<Figure size 432x288 with 1 Axes>"
            ],
            "image/png": "[encoded data removed]"
          },
          "metadata": {}
        },
        {
          "output_type": "display_data",
          "data": {
            "text/plain": [
              "<Figure size 432x288 with 1 Axes>"
            ],
            "image/png": "[encoded data removed]"
          },
          "metadata": {}
        }
      ]
    },
    {
      "cell_type": "markdown",
      "source": [
        "## G. Recommendation"
      ],
      "metadata": {
        "id": "ntsQhW_DcAez"
      }
    },
    {
      "cell_type": "code",
      "source": [
        "df_events.head()"
      ],
      "metadata": {
        "colab": {
          "base_uri": "https://localhost:8080/",
          "height": 206
        },
        "id": "rXVXcmNab7is",
        "outputId": "37b71d32-4f27-4299-9b4e-db889366a074"
      },
      "execution_count": 35,
      "outputs": [
        {
          "output_type": "execute_result",
          "data": {
            "text/plain": [
              "       user        book  rating\n",
              "182  276847  3426029553       8\n",
              "210  276847  3551551677      10\n",
              "211  276847  3551551685      10\n",
              "212  276847  3551551693      10\n",
              "213  276847  3551551936      10"
            ],
            "text/html": [
              "\n",
              "  <div id=\"df-0ab91dcf-1296-4965-90e9-7d5bbfc71f3b\">\n",
              "    <div class=\"colab-df-container\">\n",
              "      <div>\n",
              "<style scoped>\n",
              "    .dataframe tbody tr th:only-of-type {\n",
              "        vertical-align: middle;\n",
              "    }\n",
              "\n",
              "    .dataframe tbody tr th {\n",
              "        vertical-align: top;\n",
              "    }\n",
              "\n",
              "    .dataframe thead th {\n",
              "        text-align: right;\n",
              "    }\n",
              "</style>\n",
              "<table border=\"1\" class=\"dataframe\">\n",
              "  <thead>\n",
              "    <tr style=\"text-align: right;\">\n",
              "      <th></th>\n",
              "      <th>user</th>\n",
              "      <th>book</th>\n",
              "      <th>rating</th>\n",
              "    </tr>\n",
              "  </thead>\n",
              "  <tbody>\n",
              "    <tr>\n",
              "      <th>182</th>\n",
              "      <td>276847</td>\n",
              "      <td>3426029553</td>\n",
              "      <td>8</td>\n",
              "    </tr>\n",
              "    <tr>\n",
              "      <th>210</th>\n",
              "      <td>276847</td>\n",
              "      <td>3551551677</td>\n",
              "      <td>10</td>\n",
              "    </tr>\n",
              "    <tr>\n",
              "      <th>211</th>\n",
              "      <td>276847</td>\n",
              "      <td>3551551685</td>\n",
              "      <td>10</td>\n",
              "    </tr>\n",
              "    <tr>\n",
              "      <th>212</th>\n",
              "      <td>276847</td>\n",
              "      <td>3551551693</td>\n",
              "      <td>10</td>\n",
              "    </tr>\n",
              "    <tr>\n",
              "      <th>213</th>\n",
              "      <td>276847</td>\n",
              "      <td>3551551936</td>\n",
              "      <td>10</td>\n",
              "    </tr>\n",
              "  </tbody>\n",
              "</table>\n",
              "</div>\n",
              "      <button class=\"colab-df-convert\" onclick=\"convertToInteractive('df-0ab91dcf-1296-4965-90e9-7d5bbfc71f3b')\"\n",
              "              title=\"Convert this dataframe to an interactive table.\"\n",
              "              style=\"display:none;\">\n",
              "        \n",
              "  <svg xmlns=\"http://www.w3.org/2000/svg\" height=\"24px\"viewBox=\"0 0 24 24\"\n",
              "       width=\"24px\">\n",
              "    <path d=\"M0 0h24v24H0V0z\" fill=\"none\"/>\n",
              "    <path d=\"M18.56 5.44l.94 2.06.94-2.06 2.06-.94-2.06-.94-.94-2.06-.94 2.06-2.06.94zm-11 1L8.5 8.5l.94-2.06 2.06-.94-2.06-.94L8.5 2.5l-.94 2.06-2.06.94zm10 10l.94 2.06.94-2.06 2.06-.94-2.06-.94-.94-2.06-.94 2.06-2.06.94z\"/><path d=\"M17.41 7.96l-1.37-1.37c-.4-.4-.92-.59-1.43-.59-.52 0-1.04.2-1.43.59L10.3 9.45l-7.72 7.72c-.78.78-.78 2.05 0 2.83L4 21.41c.39.39.9.59 1.41.59.51 0 1.02-.2 1.41-.59l7.78-7.78 2.81-2.81c.8-.78.8-2.07 0-2.86zM5.41 20L4 18.59l7.72-7.72 1.47 1.35L5.41 20z\"/>\n",
              "  </svg>\n",
              "      </button>\n",
              "      \n",
              "  <style>\n",
              "    .colab-df-container {\n",
              "      display:flex;\n",
              "      flex-wrap:wrap;\n",
              "      gap: 12px;\n",
              "    }\n",
              "\n",
              "    .colab-df-convert {\n",
              "      background-color: #E8F0FE;\n",
              "      border: none;\n",
              "      border-radius: 50%;\n",
              "      cursor: pointer;\n",
              "      display: none;\n",
              "      fill: #1967D2;\n",
              "      height: 32px;\n",
              "      padding: 0 0 0 0;\n",
              "      width: 32px;\n",
              "    }\n",
              "\n",
              "    .colab-df-convert:hover {\n",
              "      background-color: #E2EBFA;\n",
              "      box-shadow: 0px 1px 2px rgba(60, 64, 67, 0.3), 0px 1px 3px 1px rgba(60, 64, 67, 0.15);\n",
              "      fill: #174EA6;\n",
              "    }\n",
              "\n",
              "    [theme=dark] .colab-df-convert {\n",
              "      background-color: #3B4455;\n",
              "      fill: #D2E3FC;\n",
              "    }\n",
              "\n",
              "    [theme=dark] .colab-df-convert:hover {\n",
              "      background-color: #434B5C;\n",
              "      box-shadow: 0px 1px 3px 1px rgba(0, 0, 0, 0.15);\n",
              "      filter: drop-shadow(0px 1px 2px rgba(0, 0, 0, 0.3));\n",
              "      fill: #FFFFFF;\n",
              "    }\n",
              "  </style>\n",
              "\n",
              "      <script>\n",
              "        const buttonEl =\n",
              "          document.querySelector('#df-0ab91dcf-1296-4965-90e9-7d5bbfc71f3b button.colab-df-convert');\n",
              "        buttonEl.style.display =\n",
              "          google.colab.kernel.accessAllowed ? 'block' : 'none';\n",
              "\n",
              "        async function convertToInteractive(key) {\n",
              "          const element = document.querySelector('#df-0ab91dcf-1296-4965-90e9-7d5bbfc71f3b');\n",
              "          const dataTable =\n",
              "            await google.colab.kernel.invokeFunction('convertToInteractive',\n",
              "                                                     [key], {});\n",
              "          if (!dataTable) return;\n",
              "\n",
              "          const docLinkHtml = 'Like what you see? Visit the ' +\n",
              "            '<a target=\"_blank\" href=https://colab.research.google.com/notebooks/data_table.ipynb>data table notebook</a>'\n",
              "            + ' to learn more about interactive tables.';\n",
              "          element.innerHTML = '';\n",
              "          dataTable['output_type'] = 'display_data';\n",
              "          await google.colab.output.renderOutput(dataTable, element);\n",
              "          const docLink = document.createElement('div');\n",
              "          docLink.innerHTML = docLinkHtml;\n",
              "          element.appendChild(docLink);\n",
              "        }\n",
              "      </script>\n",
              "    </div>\n",
              "  </div>\n",
              "  "
            ]
          },
          "metadata": {},
          "execution_count": 35
        }
      ]
    },
    {
      "cell_type": "markdown",
      "source": [
        "### G.1 Cornac"
      ],
      "metadata": {
        "id": "9CnuKZqicFy4"
      }
    },
    {
      "cell_type": "code",
      "source": [
        "df_events_cornac = df_events.copy()\n",
        "mapping_dict = {} # Create a dictionary that maps each ISBN to an integer.\n",
        "i=0\n",
        "for book in df_events_cornac[item_col].unique():\n",
        "    mapping_dict[book] = i\n",
        "    i+=1\n",
        "df_events_cornac[item_col] = df_events_cornac[item_col].map(lambda x: mapping_dict.get(x,x)) # Map in the ratings file"
      ],
      "metadata": {
        "id": "8b9l5_0YcDh0"
      },
      "execution_count": 36,
      "outputs": []
    },
    {
      "cell_type": "code",
      "source": [
        "df_events_cornac.user = df_events_cornac.user.astype(\"string\")\n",
        "df_events_cornac[item_col] = df_events_cornac[item_col].astype(\"string\")"
      ],
      "metadata": {
        "id": "1S0DpfSAcJpB"
      },
      "execution_count": 37,
      "outputs": []
    },
    {
      "cell_type": "code",
      "source": [
        "df_item_dist_cornac = df_item_dist.rename(index = mapping_dict)"
      ],
      "metadata": {
        "id": "RRpiPBwycQbx"
      },
      "execution_count": 38,
      "outputs": []
    },
    {
      "cell_type": "code",
      "source": [
        "data = list(df_events_cornac[[\"user\",item_col,predict_col]].to_records(index = False))"
      ],
      "metadata": {
        "id": "AtSBD6pvcTW5"
      },
      "execution_count": 39,
      "outputs": []
    },
    {
      "cell_type": "code",
      "source": [
        "# Split the data based on ratio\n",
        "rs = RatioSplit(data=data, test_size=test_size, rating_threshold=rating_threshold, seed=0)"
      ],
      "metadata": {
        "id": "cN9s6kqxcXkH"
      },
      "execution_count": 40,
      "outputs": []
    },
    {
      "cell_type": "code",
      "source": [
        "# initialize models, here we are comparing: simple, traditional, and neural networks based models\n",
        "models = [\n",
        "          # 1: Random\n",
        "          # 2: MostPop\n",
        "          MostPop(),\n",
        "          # 3: UserKNN\n",
        "          # 4: BPR\n",
        "          BPR(k=10, max_iter=200, learning_rate=0.001, lambda_reg=0.01, seed=123),\n",
        "          # 5: MF\n",
        "          MF(k=30, max_iter=100, learning_rate=0.01, lambda_reg=0.001, seed=123),\n",
        "          # 6: PMF\n",
        "          PMF(k=10, max_iter=100, learning_rate=0.001, lambda_reg=0.001),\n",
        "          # 7: NMF\n",
        "          CornacNMF(k=15, max_iter=50, learning_rate=0.005, lambda_u=0.06, lambda_v=0.06, lambda_bu=0.02, lambda_bi=0.02, use_bias=False, verbose=True, seed=123),\n",
        "          # 8: WMF\n",
        "          WMF(k=50, max_iter=50, learning_rate=0.001, lambda_u=0.01, lambda_v=0.01, verbose=True, seed=123),\n",
        "          # 9: PF\n",
        "          HPF(k=50, seed=123, hierarchical=False, name=\"PF\"),\n",
        "          # 10: NueMF\n",
        "          NeuMF(num_factors=8, layers=[32, 16, 8], act_fn=\"tanh\", num_epochs=1, num_neg=3, batch_size=256, lr=0.001, seed=42, verbose=True),\n",
        "          # 11: VAECF\n",
        "          VAECF(k=10, autoencoder_structure=[20], act_fn=\"tanh\", likelihood=\"mult\", n_epochs=100, batch_size=100, learning_rate=0.001, beta=1.0, seed=123, use_gpu=True, verbose=True)\n",
        "          ]"
      ],
      "metadata": {
        "id": "WIUHUx7acZMW"
      },
      "execution_count": 41,
      "outputs": []
    },
    {
      "cell_type": "code",
      "source": [
        "# define metrics to evaluate the models\n",
        "metrics = [MAE(), MSE(), RMSE(), AUC(), MAP(), MRR(), \n",
        "           Precision(k=5), Precision(k=10), Precision(k=20), Precision(k=50),\n",
        "           Recall(k=5), Recall(k=10), Recall(k=20), Recall(k=50),\n",
        "           NDCG(k=5), NDCG(k=10), NDCG(k=20), NDCG(k=50),\n",
        "           FMeasure(k=5), FMeasure(k=10), FMeasure(k=20), FMeasure(k=50)]\n",
        "\n",
        "# put it together in an experiment, voilà!\n",
        "exp = cornac.Experiment(eval_method=rs, models=models, metrics=metrics, user_based=True)\n",
        "exp.run()"
      ],
      "metadata": {
        "colab": {
          "base_uri": "https://localhost:8080/",
          "height": 475,
          "referenced_widgets": [
            "43d9b0ab7c244241aff473ee10121852",
            "58242ee802174df9bd584927137a7539",
            "bae76bf31e6b4ca1a7ab8a845b7a8c5d",
            "66d526551949400f93f47e7775c609f7",
            "5d132311c058407e91768c02706e4aef",
            "f9ca40adabdb4ba599e181d7db04ac7f",
            "290ffe63488845b5a235bc875c53e047",
            "a9bc99bc9a4c41c791f680eb96ae9671",
            "1f2f423e4baa4237b4265f24929f203d",
            "71f4c86b842c4cda8431b98a9dc726f7",
            "dd518e193fd6491c829939e75fa2c1cf",
            "537fb746dd944352a0d3e1e66ddaeb0a",
            "36aa4270819b4d1b931965819fc312e8",
            "affaadac3883409ca9d1bf733eba2eb2",
            "8a0b2176880448aeac0ef32c1a052cc0",
            "1699fe34daab485585ed7d046b2aa51b",
            "4bbaf0a70aae4e529050c5f87ac34a37",
            "788a3a38fa204e1981a4bd3806ba67c4",
            "03c6dc7a6ed94aa39c87dc9493f59646",
            "685ebf81325e420abf214da5b561f751",
            "bd3975eed59641469e3dd929ec2eefe7",
            "2918be98b6d54aa8803e11ba6f7c01ec",
            "858c806755a342839893a55b286649c8",
            "96844723fc3347be999afcf3143e0083",
            "c1bdab166cb547cbb501f4b3280e6394",
            "7d9d921be9bb401782d6a14e61c13836",
            "bdb64f7295424f5b810bd76d6f0b250f",
            "01a0349e1bac4101a5b591e6f1b5b60b",
            "e7c4e15f716143eebcba89fe7e8b9cae",
            "bc585476ee6e410db1bddbb843af7197",
            "f8c45f1b31a5415ca64fc0a62b51d397",
            "b311d4b5e513489bacb2c8f9bd9df2af",
            "04ddc22cb3d64d30b6715dc953cf984b",
            "91d23a7915f4474981bf8034c7b1e548",
            "4c69607ce2c1444787c6bd70b205056f",
            "9e9d03d917e449fb8a70e126b6a895dd",
            "7486096ad87a4990a80796271f8f2a98",
            "f51d3d9338a1472e9f080e64c44e9bea",
            "802396f25c1c4a9a80d9399a7982e610",
            "9e71fc3b37aa4049aa64bc030437b186",
            "149ea86d5c0a4013b7f0bc4a2883ec02",
            "539a1c82d1b443aaa681cf977c51dbb0",
            "fad80959c8ff4e188ef76ccab4916dbd",
            "a5b793c834e543c5a37ef97a61206b70"
          ]
        },
        "id": "kho6vULvca64",
        "outputId": "a82c51aa-c55a-418d-fc70-8aa78c26cf60"
      },
      "execution_count": 42,
      "outputs": [
        {
          "output_type": "display_data",
          "data": {
            "text/plain": [
              "  0%|          | 0/50 [00:00<?, ?it/s]"
            ],
            "application/vnd.jupyter.widget-view+json": {
              "version_major": 2,
              "version_minor": 0,
              "model_id": "43d9b0ab7c244241aff473ee10121852"
            }
          },
          "metadata": {}
        },
        {
          "output_type": "stream",
          "name": "stdout",
          "text": [
            "Optimization finished!\n"
          ]
        },
        {
          "output_type": "display_data",
          "data": {
            "text/plain": [
              "  0%|          | 0/50 [00:00<?, ?it/s]"
            ],
            "application/vnd.jupyter.widget-view+json": {
              "version_major": 2,
              "version_minor": 0,
              "model_id": "537fb746dd944352a0d3e1e66ddaeb0a"
            }
          },
          "metadata": {}
        },
        {
          "output_type": "stream",
          "name": "stdout",
          "text": [
            "Learning completed!\n",
            "Learning...\n",
            "Learning completed!\n"
          ]
        },
        {
          "output_type": "display_data",
          "data": {
            "text/plain": [
              "  0%|          | 0/1 [00:00<?, ?it/s]"
            ],
            "application/vnd.jupyter.widget-view+json": {
              "version_major": 2,
              "version_minor": 0,
              "model_id": "858c806755a342839893a55b286649c8"
            }
          },
          "metadata": {}
        },
        {
          "output_type": "display_data",
          "data": {
            "text/plain": [
              "  0%|          | 0/100 [00:00<?, ?it/s]"
            ],
            "application/vnd.jupyter.widget-view+json": {
              "version_major": 2,
              "version_minor": 0,
              "model_id": "91d23a7915f4474981bf8034c7b1e548"
            }
          },
          "metadata": {}
        },
        {
          "output_type": "stream",
          "name": "stdout",
          "text": [
            "\n",
            "TEST:\n",
            "...\n",
            "        |    MAE |     MSE |   RMSE |    AUC |  F1@10 |  F1@20 |   F1@5 |  F1@50 |    MAP |    MRR | NDCG@10 | NDCG@20 | NDCG@5 | NDCG@50 | Precision@10 | Precision@20 | Precision@5 | Precision@50 | Recall@10 | Recall@20 | Recall@5 | Recall@50 | Train (s) | Test (s)\n",
            "------- + ------ + ------- + ------ + ------ + ------ + ------ + ------ + ------ + ------ + ------ + ------- + ------- + ------ + ------- + ------------ + ------------ + ----------- + ------------ + --------- + --------- + -------- + --------- + --------- + --------\n",
            "MostPop | 2.5202 | 10.0391 | 2.7988 | 0.6544 | 0.0105 | 0.0100 | 0.0099 | 0.0091 | 0.0147 | 0.0350 |  0.0175 |  0.0223 | 0.0141 |  0.0334 |       0.0076 |       0.0063 |      0.0092 |       0.0051 |    0.0253 |    0.0397 |   0.0151 |    0.0820 |    0.0135 |  17.8967\n",
            "BPR     | 6.5658 | 46.4381 | 6.6616 | 0.6775 | 0.0105 | 0.0102 | 0.0099 | 0.0092 | 0.0148 | 0.0350 |  0.0175 |  0.0226 | 0.0141 |  0.0334 |       0.0076 |       0.0064 |      0.0092 |       0.0051 |    0.0254 |    0.0408 |   0.0151 |    0.0814 |    2.6017 |  23.2951\n",
            "MF      | 1.3045 |  2.9675 | 1.4526 | 0.5170 | 0.0012 | 0.0015 | 0.0014 | 0.0015 | 0.0027 | 0.0064 |  0.0022 |  0.0030 | 0.0020 |  0.0047 |       0.0010 |       0.0010 |      0.0013 |       0.0008 |    0.0028 |    0.0050 |   0.0022 |    0.0110 |    0.6104 |  24.9756\n",
            "PMF     | 1.4752 |  3.4059 | 1.6145 | 0.6078 | 0.0041 | 0.0044 | 0.0038 | 0.0042 | 0.0063 | 0.0150 |  0.0062 |  0.0090 | 0.0047 |  0.0141 |       0.0030 |       0.0028 |      0.0036 |       0.0024 |    0.0091 |    0.0180 |   0.0052 |    0.0369 |    3.9416 |  31.0059\n",
            "NMF     | 2.2217 |  6.6668 | 2.3694 | 0.5194 | 0.0004 | 0.0005 | 0.0003 | 0.0008 | 0.0014 | 0.0028 |  0.0005 |  0.0008 | 0.0003 |  0.0020 |       0.0003 |       0.0003 |      0.0003 |       0.0004 |    0.0008 |    0.0019 |   0.0003 |    0.0064 |    0.9386 |  24.9520\n",
            "WMF     | 5.6896 | 36.6720 | 5.8563 | 0.7294 | 0.0149 | 0.0148 | 0.0114 | 0.0124 | 0.0165 | 0.0343 |  0.0205 |  0.0286 | 0.0131 |  0.0419 |       0.0107 |       0.0092 |      0.0103 |       0.0069 |    0.0372 |    0.0618 |   0.0180 |    0.1113 |   83.5905 |  29.5583\n",
            "PF      | 6.7031 | 48.2275 | 6.7973 | 0.6658 | 0.0096 | 0.0097 | 0.0081 | 0.0080 | 0.0118 | 0.0257 |  0.0141 |  0.0193 | 0.0101 |  0.0276 |       0.0071 |       0.0061 |      0.0074 |       0.0045 |    0.0222 |    0.0378 |   0.0122 |    0.0682 |  201.1339 |  34.3863\n",
            "NeuMF   | 6.7147 | 48.3790 | 6.8078 | 0.6765 | 0.0094 | 0.0103 | 0.0087 | 0.0088 | 0.0144 | 0.0341 |  0.0162 |  0.0224 | 0.0130 |  0.0322 |       0.0069 |       0.0064 |      0.0081 |       0.0049 |    0.0227 |    0.0418 |   0.0133 |    0.0786 |    9.4146 |  52.3607\n",
            "VAECF   | 6.7147 | 48.3790 | 6.8078 | 0.7846 | 0.0185 | 0.0173 | 0.0164 | 0.0141 | 0.0240 | 0.0512 |  0.0293 |  0.0381 | 0.0220 |  0.0532 |       0.0134 |       0.0107 |      0.0150 |       0.0078 |    0.0438 |    0.0712 |   0.0241 |    0.1285 |  242.0191 |  36.5565\n",
            "\n"
          ]
        }
      ]
    },
    {
      "cell_type": "code",
      "source": [
        "def compute_user_knn(C):\n",
        "  ctime = time.time()\n",
        "  print(\"Training User-based Collaborative Filtering...\", )\n",
        "\n",
        "  sim = C.dot(C.T)\n",
        "  norms = [norm(C[i]) for i in range(C.shape[0])]\n",
        "\n",
        "  for i in tqdm(range(C.shape[0])):\n",
        "    sim[i][i] = 0.0\n",
        "    for j in range(i+1, C.shape[0]):\n",
        "      sim[i][j] /= (norms[i] * norms[j])\n",
        "      sim[j][i] /= (norms[i] * norms[j])\n",
        "\n",
        "  print(\"Done. Elapsed time:\", time.time() - ctime, \"s\")\n",
        "  rec_score = sim.dot(C)\n",
        "  return rec_score"
      ],
      "metadata": {
        "id": "pcNHy-lpcchm"
      },
      "execution_count": 43,
      "outputs": []
    },
    {
      "cell_type": "code",
      "source": [
        "def read_training_data():\n",
        "  training_matrix = np.zeros((rs.train_set.matrix.shape[0], rs.train_set.matrix.shape[1]))\n",
        "  for uid in tqdm(rs.train_set.uid_map.values()):\n",
        "    for iid in rs.train_set.iid_map.values():\n",
        "      training_matrix[uid, iid] = rs.train_set.matrix[uid, iid]\n",
        "  return training_matrix"
      ],
      "metadata": {
        "id": "95O2ecRJcfD4"
      },
      "execution_count": 44,
      "outputs": []
    },
    {
      "cell_type": "code",
      "source": [
        "# creating users-books rating matrix (will be used for User-KNN algorithm)\n",
        "training_matrix = read_training_data()"
      ],
      "metadata": {
        "colab": {
          "base_uri": "https://localhost:8080/"
        },
        "id": "MdOY0_2vcgP_",
        "outputId": "399b4a37-440c-4d90-8178-b7352241123c"
      },
      "execution_count": 45,
      "outputs": [
        {
          "output_type": "stream",
          "name": "stderr",
          "text": [
            "100%|██████████| 6358/6358 [19:31<00:00,  5.43it/s]\n"
          ]
        }
      ]
    },
    {
      "cell_type": "code",
      "source": [
        "# running User-KNN algorithms and getting the user-book scores\n",
        "user_knn_scores = compute_user_knn(training_matrix)"
      ],
      "metadata": {
        "colab": {
          "base_uri": "https://localhost:8080/"
        },
        "id": "IhDJPH9IciRH",
        "outputId": "15eb96f2-0797-447b-d3e6-cb3d3d401197"
      },
      "execution_count": 46,
      "outputs": [
        {
          "output_type": "stream",
          "name": "stdout",
          "text": [
            "Training User-based Collaborative Filtering...\n"
          ]
        },
        {
          "output_type": "stream",
          "name": "stderr",
          "text": [
            "100%|██████████| 6358/6358 [00:23<00:00, 275.81it/s] \n"
          ]
        },
        {
          "output_type": "stream",
          "name": "stdout",
          "text": [
            "Done. Elapsed time: 35.24323081970215 s\n"
          ]
        }
      ]
    },
    {
      "cell_type": "code",
      "source": [
        "# UserKNN recommendation algorithm\n",
        "def get_top_n_UserKNN(n=10):\n",
        "    print(\"User-KNN model is selected:\")\n",
        "    top_n = defaultdict(list)\n",
        "    # test_items = list(rs.test_set.iid_map.keys())\n",
        "    for uid in rs.train_set.uid_map.values():\n",
        "      user_id = list(rs.train_set.user_ids)[uid]\n",
        "      top_n_items_idxs = list(reversed(user_knn_scores[uid].argsort()))[:n]\n",
        "      for iid in top_n_items_idxs:\n",
        "        item_id = list(rs.train_set.item_ids)[iid]\n",
        "        top_n[int(user_id)].append((int(item_id), user_knn_scores[uid][iid]))\n",
        "    return top_n"
      ],
      "metadata": {
        "id": "MEBZH9Gtcjvf"
      },
      "execution_count": 47,
      "outputs": []
    },
    {
      "cell_type": "code",
      "source": [
        "def get_top_n(algo_name, n=10):\n",
        "  for model in exp.models:\n",
        "    if model.name == algo_name:\n",
        "      print(model.name + \" model is selected:\")\n",
        "      top_n = defaultdict(list)\n",
        "      for uid in model.train_set.uid_map.values():\n",
        "        user_id = list(model.train_set.user_ids)[uid]\n",
        "        try:\n",
        "          item_rank = model.rank(user_idx=uid)[0] # model.rank: item rank, item_score\n",
        "        except:\n",
        "          item_rank = model.rank(user_idx=int(uid))[0]\n",
        "        # collect top N items\n",
        "        item_rank_top = item_rank[:n]\n",
        "        for iid in item_rank_top:\n",
        "          item_id = list(model.train_set.item_ids)[iid]\n",
        "          top_n[int(user_id)].append((int(item_id), model.score(uid, iid)))\n",
        "  return top_n"
      ],
      "metadata": {
        "id": "wkAtHnxZclBf"
      },
      "execution_count": 48,
      "outputs": []
    },
    {
      "cell_type": "code",
      "source": [
        "len(list(exp.models[2].train_set.uid_map.values()))"
      ],
      "metadata": {
        "colab": {
          "base_uri": "https://localhost:8080/"
        },
        "id": "Frg641b-5S5w",
        "outputId": "f061f070-892e-43ee-8d74-c0ef9ed95a63"
      },
      "execution_count": 61,
      "outputs": [
        {
          "output_type": "execute_result",
          "data": {
            "text/plain": [
              "6358"
            ]
          },
          "metadata": {},
          "execution_count": 61
        }
      ]
    },
    {
      "cell_type": "code",
      "source": [
        "len(rs.test_set.user_ids)"
      ],
      "metadata": {
        "colab": {
          "base_uri": "https://localhost:8080/"
        },
        "id": "g9ESe3cH67UJ",
        "outputId": "4fe8adab-0583-46f1-a0b0-a760b14855d9"
      },
      "execution_count": 81,
      "outputs": [
        {
          "output_type": "execute_result",
          "data": {
            "text/plain": [
              "5376"
            ]
          },
          "metadata": {},
          "execution_count": 81
        }
      ]
    },
    {
      "cell_type": "code",
      "source": [
        "for uid in range(6358): \n",
        "  nr_items = len(exp.models[3].rank(user_idx=uid)[0])\n",
        "  if nr_items!=6921:\n",
        "    print(nr_items)"
      ],
      "metadata": {
        "id": "jpB9wo5f56jK"
      },
      "execution_count": 64,
      "outputs": []
    },
    {
      "cell_type": "code",
      "source": [
        "def get_top_n_test_users(algo_name, n=10):\n",
        "  for model in exp.models:\n",
        "    if model.name == algo_name:\n",
        "      print(model.name + \" model is selected:\")\n",
        "      top_n = defaultdict(list)\n",
        "      for uid in rs.test_set.uid_map.values():\n",
        "        user_id = list(rs.train_set.user_ids)[uid]\n",
        "        try:\n",
        "          item_rank = model.rank(user_idx=uid)[0] # model.rank: item rank, item_score\n",
        "        except:\n",
        "          item_rank = model.rank(user_idx=int(uid))[0]\n",
        "        # collect top N items\n",
        "        item_rank_top = item_rank[:n]\n",
        "        for iid in item_rank_top:\n",
        "          item_id = list(model.train_set.item_ids)[iid]\n",
        "          top_n[int(user_id)].append((int(item_id), model.score(uid, iid)))\n",
        "  return top_n"
      ],
      "metadata": {
        "id": "7pcQsGfBzljm"
      },
      "execution_count": 85,
      "outputs": []
    },
    {
      "cell_type": "code",
      "source": [
        "def get_top_n_like_surprise(algo_name, n=10):\n",
        "  for model in exp.models:\n",
        "    if model.name == algo_name:\n",
        "      print(model.name + \" model is selected:\")\n",
        "      top_n = defaultdict(list)\n",
        "      for uid in rs.test_set.uid_map.values():\n",
        "        user_id = list(rs.train_set.user_ids)[uid]\n",
        "        user_items_in_the_test_set = rs.test_set.user_data[uid][0] \n",
        "        \n",
        "        item_rank = model.rank(user_idx=uid, item_indices = user_items_in_the_test_set)[0] # model.rank: item rank, item_score, with inside encoding\n",
        "        #item_rank = [x for x in item_rank if x in user_items_in_the_test_set]\n",
        "          \n",
        "\n",
        "        # except:\n",
        "        #   item_rank = model.rank(user_idx=int(uid))[0]\n",
        "        # collect top N items\n",
        "        item_rank_top = item_rank[:n]\n",
        "        # if int(user_id) == 244056:\n",
        "        #   print(user_items_in_the_test_set)\n",
        "        #   print(item_rank_top)\n",
        "        for iid in item_rank_top:\n",
        "          item_id = list(rs.train_set.item_ids)[iid] #correct\n",
        "          # if int(user_id) == 244056:\n",
        "          #   print(item_id)\n",
        "          top_n[int(user_id)].append((int(item_id), model.score(uid, iid)))\n",
        "  return top_n"
      ],
      "metadata": {
        "id": "8Ebn6hmHCopg"
      },
      "execution_count": 212,
      "outputs": []
    },
    {
      "cell_type": "code",
      "source": [
        "vaecf_sur = get_top_n_like_surprise(\"VAECF\")"
      ],
      "metadata": {
        "colab": {
          "base_uri": "https://localhost:8080/",
          "height": 374
        },
        "id": "r1rR24QSS4cY",
        "outputId": "90f0fc55-fb53-4615-f1ea-ee56193c2af5"
      },
      "execution_count": 209,
      "outputs": [
        {
          "output_type": "stream",
          "name": "stdout",
          "text": [
            "VAECF model is selected:\n",
            "[4415, 1274]\n",
            "[1274 4415]\n",
            "658\n",
            "702\n"
          ]
        },
        {
          "output_type": "error",
          "ename": "KeyboardInterrupt",
          "evalue": "ignored",
          "traceback": [
            "\u001b[0;31m---------------------------------------------------------------------------\u001b[0m",
            "\u001b[0;31mKeyboardInterrupt\u001b[0m                         Traceback (most recent call last)",
            "\u001b[0;32m<ipython-input-209-5d9977530cf1>\u001b[0m in \u001b[0;36m<module>\u001b[0;34m\u001b[0m\n\u001b[0;32m----> 1\u001b[0;31m \u001b[0mvaecf_sur\u001b[0m \u001b[0;34m=\u001b[0m \u001b[0mget_top_n_like_surprise\u001b[0m\u001b[0;34m(\u001b[0m\u001b[0;34m\"VAECF\"\u001b[0m\u001b[0;34m)\u001b[0m\u001b[0;34m\u001b[0m\u001b[0;34m\u001b[0m\u001b[0m\n\u001b[0m",
            "\u001b[0;32m<ipython-input-208-efa7b1121089>\u001b[0m in \u001b[0;36mget_top_n_like_surprise\u001b[0;34m(algo_name, n)\u001b[0m\n\u001b[1;32m     20\u001b[0m           \u001b[0mprint\u001b[0m\u001b[0;34m(\u001b[0m\u001b[0mitem_rank_top\u001b[0m\u001b[0;34m)\u001b[0m\u001b[0;34m\u001b[0m\u001b[0;34m\u001b[0m\u001b[0m\n\u001b[1;32m     21\u001b[0m         \u001b[0;32mfor\u001b[0m \u001b[0miid\u001b[0m \u001b[0;32min\u001b[0m \u001b[0mitem_rank_top\u001b[0m\u001b[0;34m:\u001b[0m\u001b[0;34m\u001b[0m\u001b[0;34m\u001b[0m\u001b[0m\n\u001b[0;32m---> 22\u001b[0;31m           \u001b[0mitem_id\u001b[0m \u001b[0;34m=\u001b[0m \u001b[0mlist\u001b[0m\u001b[0;34m(\u001b[0m\u001b[0mmodel\u001b[0m\u001b[0;34m.\u001b[0m\u001b[0mtrain_set\u001b[0m\u001b[0;34m.\u001b[0m\u001b[0mitem_ids\u001b[0m\u001b[0;34m)\u001b[0m\u001b[0;34m[\u001b[0m\u001b[0miid\u001b[0m\u001b[0;34m]\u001b[0m \u001b[0;31m#correct\u001b[0m\u001b[0;34m\u001b[0m\u001b[0;34m\u001b[0m\u001b[0m\n\u001b[0m\u001b[1;32m     23\u001b[0m           \u001b[0;32mif\u001b[0m \u001b[0mint\u001b[0m\u001b[0;34m(\u001b[0m\u001b[0muser_id\u001b[0m\u001b[0;34m)\u001b[0m \u001b[0;34m==\u001b[0m \u001b[0;36m244056\u001b[0m\u001b[0;34m:\u001b[0m\u001b[0;34m\u001b[0m\u001b[0;34m\u001b[0m\u001b[0m\n\u001b[1;32m     24\u001b[0m             \u001b[0mprint\u001b[0m\u001b[0;34m(\u001b[0m\u001b[0mitem_id\u001b[0m\u001b[0;34m)\u001b[0m\u001b[0;34m\u001b[0m\u001b[0;34m\u001b[0m\u001b[0m\n",
            "\u001b[0;31mKeyboardInterrupt\u001b[0m: "
          ]
        }
      ]
    },
    {
      "cell_type": "code",
      "source": [
        "list(exp.models[-1].train_set.item_ids)[1274]"
      ],
      "metadata": {
        "colab": {
          "base_uri": "https://localhost:8080/",
          "height": 35
        },
        "id": "5ZjKjV_dZTj2",
        "outputId": "9cab21f4-ecf3-4577-cc95-e9aaa585728e"
      },
      "execution_count": 210,
      "outputs": [
        {
          "output_type": "execute_result",
          "data": {
            "text/plain": [
              "'658'"
            ],
            "application/vnd.google.colaboratory.intrinsic+json": {
              "type": "string"
            }
          },
          "metadata": {},
          "execution_count": 210
        }
      ]
    },
    {
      "cell_type": "code",
      "source": [
        "rs.train_set.uid_map[\"244056\"]"
      ],
      "metadata": {
        "colab": {
          "base_uri": "https://localhost:8080/"
        },
        "id": "WNk1lhauUP4I",
        "outputId": "3a6931ee-f06d-40b7-a34f-f8618f3d7705"
      },
      "execution_count": 189,
      "outputs": [
        {
          "output_type": "execute_result",
          "data": {
            "text/plain": [
              "4005"
            ]
          },
          "metadata": {},
          "execution_count": 189
        }
      ]
    },
    {
      "cell_type": "code",
      "source": [
        "rs.test_set.uid_map[\"244056\"]"
      ],
      "metadata": {
        "colab": {
          "base_uri": "https://localhost:8080/"
        },
        "id": "5HfLPkLdW1E9",
        "outputId": "1d7400b1-473a-4bf1-8d43-37fdb714d7e7"
      },
      "execution_count": 190,
      "outputs": [
        {
          "output_type": "execute_result",
          "data": {
            "text/plain": [
              "4005"
            ]
          },
          "metadata": {},
          "execution_count": 190
        }
      ]
    },
    {
      "cell_type": "code",
      "source": [
        "rs.train_set.user_data[4005]"
      ],
      "metadata": {
        "colab": {
          "base_uri": "https://localhost:8080/"
        },
        "id": "yfkvG3NzW6qh",
        "outputId": "2c3026e2-8bff-4c9c-d09e-5fddd29e334b"
      },
      "execution_count": 192,
      "outputs": [
        {
          "output_type": "execute_result",
          "data": {
            "text/plain": [
              "([3548, 2060, 1897, 6677, 2270], [9.0, 8.0, 10.0, 7.0, 8.0])"
            ]
          },
          "metadata": {},
          "execution_count": 192
        }
      ]
    },
    {
      "cell_type": "code",
      "source": [
        "list(rs.train_set.item_ids)[1274]"
      ],
      "metadata": {
        "colab": {
          "base_uri": "https://localhost:8080/",
          "height": 35
        },
        "id": "ikhAuxiJXYF0",
        "outputId": "0d273d70-91d5-499e-ecd2-d26d7b101d5f"
      },
      "execution_count": 198,
      "outputs": [
        {
          "output_type": "execute_result",
          "data": {
            "text/plain": [
              "'3705'"
            ],
            "application/vnd.google.colaboratory.intrinsic+json": {
              "type": "string"
            }
          },
          "metadata": {},
          "execution_count": 198
        }
      ]
    },
    {
      "cell_type": "code",
      "source": [
        "list(rs.train_set.user_ids)[4005]"
      ],
      "metadata": {
        "colab": {
          "base_uri": "https://localhost:8080/",
          "height": 35
        },
        "id": "F4NzfI62VFha",
        "outputId": "15810497-22e5-4958-ad5f-8e737d719d8a"
      },
      "execution_count": 200,
      "outputs": [
        {
          "output_type": "execute_result",
          "data": {
            "text/plain": [
              "'244056'"
            ],
            "application/vnd.google.colaboratory.intrinsic+json": {
              "type": "string"
            }
          },
          "metadata": {},
          "execution_count": 200
        }
      ]
    },
    {
      "cell_type": "code",
      "source": [
        "vaecf_sur[244056]"
      ],
      "metadata": {
        "colab": {
          "base_uri": "https://localhost:8080/"
        },
        "id": "igdL_LHXYI6C",
        "outputId": "6851c1f4-a952-4072-cb48-da6148c06c1e"
      },
      "execution_count": 203,
      "outputs": [
        {
          "output_type": "execute_result",
          "data": {
            "text/plain": [
              "[(658, 4.5472938e-05), (702, 7.335381e-06)]"
            ]
          },
          "metadata": {},
          "execution_count": 203
        }
      ]
    },
    {
      "cell_type": "code",
      "source": [
        "df_events_cornac[df_events_cornac.user==\"244056\"]"
      ],
      "metadata": {
        "colab": {
          "base_uri": "https://localhost:8080/",
          "height": 269
        },
        "id": "r1q5xN2wWa_L",
        "outputId": "82ab45ca-7b9e-4554-e2fd-c55ab5723480"
      },
      "execution_count": 185,
      "outputs": [
        {
          "output_type": "execute_result",
          "data": {
            "text/plain": [
              "           user  book  rating\n",
              "1018131  244056  4279      10\n",
              "1018133  244056  2393       9\n",
              "1018135  244056   701      10\n",
              "1018137  244056  3396       7\n",
              "1018138  244056  3705      10\n",
              "1018142  244056  1749       8\n",
              "1018144  244056  2015       8"
            ],
            "text/html": [
              "\n",
              "  <div id=\"df-d1b3fde5-5c0b-489e-9e56-a49e417175fe\">\n",
              "    <div class=\"colab-df-container\">\n",
              "      <div>\n",
              "<style scoped>\n",
              "    .dataframe tbody tr th:only-of-type {\n",
              "        vertical-align: middle;\n",
              "    }\n",
              "\n",
              "    .dataframe tbody tr th {\n",
              "        vertical-align: top;\n",
              "    }\n",
              "\n",
              "    .dataframe thead th {\n",
              "        text-align: right;\n",
              "    }\n",
              "</style>\n",
              "<table border=\"1\" class=\"dataframe\">\n",
              "  <thead>\n",
              "    <tr style=\"text-align: right;\">\n",
              "      <th></th>\n",
              "      <th>user</th>\n",
              "      <th>book</th>\n",
              "      <th>rating</th>\n",
              "    </tr>\n",
              "  </thead>\n",
              "  <tbody>\n",
              "    <tr>\n",
              "      <th>1018131</th>\n",
              "      <td>244056</td>\n",
              "      <td>4279</td>\n",
              "      <td>10</td>\n",
              "    </tr>\n",
              "    <tr>\n",
              "      <th>1018133</th>\n",
              "      <td>244056</td>\n",
              "      <td>2393</td>\n",
              "      <td>9</td>\n",
              "    </tr>\n",
              "    <tr>\n",
              "      <th>1018135</th>\n",
              "      <td>244056</td>\n",
              "      <td>701</td>\n",
              "      <td>10</td>\n",
              "    </tr>\n",
              "    <tr>\n",
              "      <th>1018137</th>\n",
              "      <td>244056</td>\n",
              "      <td>3396</td>\n",
              "      <td>7</td>\n",
              "    </tr>\n",
              "    <tr>\n",
              "      <th>1018138</th>\n",
              "      <td>244056</td>\n",
              "      <td>3705</td>\n",
              "      <td>10</td>\n",
              "    </tr>\n",
              "    <tr>\n",
              "      <th>1018142</th>\n",
              "      <td>244056</td>\n",
              "      <td>1749</td>\n",
              "      <td>8</td>\n",
              "    </tr>\n",
              "    <tr>\n",
              "      <th>1018144</th>\n",
              "      <td>244056</td>\n",
              "      <td>2015</td>\n",
              "      <td>8</td>\n",
              "    </tr>\n",
              "  </tbody>\n",
              "</table>\n",
              "</div>\n",
              "      <button class=\"colab-df-convert\" onclick=\"convertToInteractive('df-d1b3fde5-5c0b-489e-9e56-a49e417175fe')\"\n",
              "              title=\"Convert this dataframe to an interactive table.\"\n",
              "              style=\"display:none;\">\n",
              "        \n",
              "  <svg xmlns=\"http://www.w3.org/2000/svg\" height=\"24px\"viewBox=\"0 0 24 24\"\n",
              "       width=\"24px\">\n",
              "    <path d=\"M0 0h24v24H0V0z\" fill=\"none\"/>\n",
              "    <path d=\"M18.56 5.44l.94 2.06.94-2.06 2.06-.94-2.06-.94-.94-2.06-.94 2.06-2.06.94zm-11 1L8.5 8.5l.94-2.06 2.06-.94-2.06-.94L8.5 2.5l-.94 2.06-2.06.94zm10 10l.94 2.06.94-2.06 2.06-.94-2.06-.94-.94-2.06-.94 2.06-2.06.94z\"/><path d=\"M17.41 7.96l-1.37-1.37c-.4-.4-.92-.59-1.43-.59-.52 0-1.04.2-1.43.59L10.3 9.45l-7.72 7.72c-.78.78-.78 2.05 0 2.83L4 21.41c.39.39.9.59 1.41.59.51 0 1.02-.2 1.41-.59l7.78-7.78 2.81-2.81c.8-.78.8-2.07 0-2.86zM5.41 20L4 18.59l7.72-7.72 1.47 1.35L5.41 20z\"/>\n",
              "  </svg>\n",
              "      </button>\n",
              "      \n",
              "  <style>\n",
              "    .colab-df-container {\n",
              "      display:flex;\n",
              "      flex-wrap:wrap;\n",
              "      gap: 12px;\n",
              "    }\n",
              "\n",
              "    .colab-df-convert {\n",
              "      background-color: #E8F0FE;\n",
              "      border: none;\n",
              "      border-radius: 50%;\n",
              "      cursor: pointer;\n",
              "      display: none;\n",
              "      fill: #1967D2;\n",
              "      height: 32px;\n",
              "      padding: 0 0 0 0;\n",
              "      width: 32px;\n",
              "    }\n",
              "\n",
              "    .colab-df-convert:hover {\n",
              "      background-color: #E2EBFA;\n",
              "      box-shadow: 0px 1px 2px rgba(60, 64, 67, 0.3), 0px 1px 3px 1px rgba(60, 64, 67, 0.15);\n",
              "      fill: #174EA6;\n",
              "    }\n",
              "\n",
              "    [theme=dark] .colab-df-convert {\n",
              "      background-color: #3B4455;\n",
              "      fill: #D2E3FC;\n",
              "    }\n",
              "\n",
              "    [theme=dark] .colab-df-convert:hover {\n",
              "      background-color: #434B5C;\n",
              "      box-shadow: 0px 1px 3px 1px rgba(0, 0, 0, 0.15);\n",
              "      filter: drop-shadow(0px 1px 2px rgba(0, 0, 0, 0.3));\n",
              "      fill: #FFFFFF;\n",
              "    }\n",
              "  </style>\n",
              "\n",
              "      <script>\n",
              "        const buttonEl =\n",
              "          document.querySelector('#df-d1b3fde5-5c0b-489e-9e56-a49e417175fe button.colab-df-convert');\n",
              "        buttonEl.style.display =\n",
              "          google.colab.kernel.accessAllowed ? 'block' : 'none';\n",
              "\n",
              "        async function convertToInteractive(key) {\n",
              "          const element = document.querySelector('#df-d1b3fde5-5c0b-489e-9e56-a49e417175fe');\n",
              "          const dataTable =\n",
              "            await google.colab.kernel.invokeFunction('convertToInteractive',\n",
              "                                                     [key], {});\n",
              "          if (!dataTable) return;\n",
              "\n",
              "          const docLinkHtml = 'Like what you see? Visit the ' +\n",
              "            '<a target=\"_blank\" href=https://colab.research.google.com/notebooks/data_table.ipynb>data table notebook</a>'\n",
              "            + ' to learn more about interactive tables.';\n",
              "          element.innerHTML = '';\n",
              "          dataTable['output_type'] = 'display_data';\n",
              "          await google.colab.output.renderOutput(dataTable, element);\n",
              "          const docLink = document.createElement('div');\n",
              "          docLink.innerHTML = docLinkHtml;\n",
              "          element.appendChild(docLink);\n",
              "        }\n",
              "      </script>\n",
              "    </div>\n",
              "  </div>\n",
              "  "
            ]
          },
          "metadata": {},
          "execution_count": 185
        }
      ]
    },
    {
      "cell_type": "code",
      "source": [
        "rs.train_set.user_data[4005]"
      ],
      "metadata": {
        "colab": {
          "base_uri": "https://localhost:8080/"
        },
        "id": "ap319fl8QFmU",
        "outputId": "f850dbf6-7e88-4f76-9ac7-2ad2923a07a4"
      },
      "execution_count": 167,
      "outputs": [
        {
          "output_type": "execute_result",
          "data": {
            "text/plain": [
              "([3548, 2060, 1897, 6677, 2270], [9.0, 8.0, 10.0, 7.0, 8.0])"
            ]
          },
          "metadata": {},
          "execution_count": 167
        }
      ]
    },
    {
      "cell_type": "code",
      "source": [
        "rs.test_set.user_data[4005]"
      ],
      "metadata": {
        "colab": {
          "base_uri": "https://localhost:8080/"
        },
        "id": "2ucQ57GFSJmM",
        "outputId": "211ebe3c-2c46-43dc-96cc-ff3d7952ffbc"
      },
      "execution_count": 169,
      "outputs": [
        {
          "output_type": "execute_result",
          "data": {
            "text/plain": [
              "([4415, 1274], [10.0, 10.0])"
            ]
          },
          "metadata": {},
          "execution_count": 169
        }
      ]
    },
    {
      "cell_type": "code",
      "source": [
        "top_n[244056]"
      ],
      "metadata": {
        "colab": {
          "base_uri": "https://localhost:8080/"
        },
        "id": "Y79tKCQhSKvY",
        "outputId": "589f54b1-a9b1-4712-e0fd-7aeb5e2c1f79"
      },
      "execution_count": 175,
      "outputs": [
        {
          "output_type": "execute_result",
          "data": {
            "text/plain": [
              "[(658, 21), (702, 8)]"
            ]
          },
          "metadata": {},
          "execution_count": 175
        }
      ]
    },
    {
      "cell_type": "code",
      "source": [
        "low.index[0]"
      ],
      "metadata": {
        "colab": {
          "base_uri": "https://localhost:8080/"
        },
        "id": "xt3jI4NPSYxy",
        "outputId": "2a1a698e-6657-457e-9aac-2da922d2bb48"
      },
      "execution_count": 173,
      "outputs": [
        {
          "output_type": "execute_result",
          "data": {
            "text/plain": [
              "50823"
            ]
          },
          "metadata": {},
          "execution_count": 173
        }
      ]
    },
    {
      "cell_type": "code",
      "source": [
        "# random recommendation algorithm\n",
        "def get_top_n_random(n=10):\n",
        "    print(\"Random model is selected:\")\n",
        "    top_n = defaultdict(list)\n",
        "    test_items = list(rs.test_set.iid_map.keys())\n",
        "    for uid in rs.train_set.uid_map.values():\n",
        "      if uid not in top_n.keys():\n",
        "        user_id = list(rs.train_set.user_ids)[uid]\n",
        "        for i in range(0, n):\n",
        "          top_n[int(user_id)].append((int(rd.choice(test_items)), i))\n",
        "    return top_n"
      ],
      "metadata": {
        "id": "UWdo0S--cmWf"
      },
      "execution_count": 213,
      "outputs": []
    },
    {
      "cell_type": "code",
      "source": [
        "algo_names = ['Random', 'MostPop', 'UserKNN', 'MF', 'PMF', 'BPR', 'NMF', 'WMF', 'PF', 'NeuMF', 'VAECF']\n",
        "\n",
        "i = 0\n",
        "low_rec_gap_list = [] # one entry per algorithmus\n",
        "medium_rec_gap_list = []\n",
        "high_rec_gap_list = []\n",
        "\n",
        "for i in range(0, len(algo_names)):\n",
        "    df_item_dist_cornac[algo_names[i]] = 0\n",
        "    low_rec_gap = 0\n",
        "    medium_rec_gap = 0\n",
        "    high_rec_gap = 0\n",
        "    \n",
        "    if algo_names[i] == 'Random':\n",
        "      top_n = get_top_n_random(n=10)\n",
        "    elif algo_names[i] == 'UserKNN':\n",
        "      top_n = get_top_n_UserKNN(n=10)\n",
        "    else:\n",
        "      top_n = get_top_n_like_surprise(algo_names[i], n=10)\n",
        "    low_count = 0\n",
        "    med_count = 0\n",
        "    high_count = 0\n",
        "    for uid, user_ratings in top_n.items():\n",
        "        iid_list = []\n",
        "        for (iid, _) in user_ratings:\n",
        "            df_item_dist_cornac.loc[iid, algo_names[i]] += 1\n",
        "            iid_list.append(iid)\n",
        "        gap = sum(df_item_dist_cornac[\"count\"].loc[iid_list]) / len(iid_list)\n",
        "        if uid in low.index:\n",
        "            low_rec_gap += gap\n",
        "            low_count += 1\n",
        "        elif uid in med.index:\n",
        "            medium_rec_gap += gap\n",
        "            med_count += 1\n",
        "        elif uid in high.index:\n",
        "            high_rec_gap += gap\n",
        "            high_count += 1\n",
        "        else:\n",
        "          print(\"hi\")\n",
        "    low_rec_gap_list.append(low_rec_gap / low_count)\n",
        "    medium_rec_gap_list.append(medium_rec_gap / med_count)\n",
        "    high_rec_gap_list.append(high_rec_gap / high_count)\n",
        "    i += 1 # next algorithm"
      ],
      "metadata": {
        "colab": {
          "base_uri": "https://localhost:8080/"
        },
        "id": "3OuGciSscnjd",
        "outputId": "26324d10-5dee-4971-d4cb-8d77cd2e95d6"
      },
      "execution_count": 214,
      "outputs": [
        {
          "output_type": "stream",
          "name": "stdout",
          "text": [
            "Random model is selected:\n",
            "MostPop model is selected:\n",
            "User-KNN model is selected:\n",
            "MF model is selected:\n",
            "PMF model is selected:\n",
            "BPR model is selected:\n",
            "NMF model is selected:\n",
            "WMF model is selected:\n",
            "PF model is selected:\n",
            "NeuMF model is selected:\n",
            "VAECF model is selected:\n"
          ]
        }
      ]
    },
    {
      "cell_type": "markdown",
      "source": [
        "### Cornac results."
      ],
      "metadata": {
        "id": "hJsE_rELcr3T"
      }
    },
    {
      "cell_type": "code",
      "source": [
        "sns.set(rc = {'figure.figsize':(5,4)})\n",
        "for i in range(0, len(algo_names)):\n",
        "    plt.figure()\n",
        "    x = df_item_dist_cornac[\"count\"]\n",
        "    y = df_item_dist_cornac[algo_names[i]]\n",
        "\n",
        "    plt.plot(x, y, 'o')\n",
        "    plt.title(algo_names[i])\n",
        "    plt.xlabel('Book popularity', fontsize='15')\n",
        "    plt.ylabel('Recommendation frequency', fontsize='15')\n",
        "    plt.xticks(fontsize='13')\n",
        "    plt.yticks(fontsize='13')"
      ],
      "metadata": {
        "colab": {
          "base_uri": "https://localhost:8080/",
          "height": 1000
        },
        "id": "n9DCn9OAcpI_",
        "outputId": "49713581-837c-4630-c933-c8fb1dc35636"
      },
      "execution_count": 215,
      "outputs": [
        {
          "output_type": "display_data",
          "data": {
            "text/plain": [
              "<Figure size 360x288 with 1 Axes>"
            ],
            "image/png": "[encoded data removed]"
          },
          "metadata": {}
        },
        {
          "output_type": "display_data",
          "data": {
            "text/plain": [
              "<Figure size 360x288 with 1 Axes>"
            ],
            "image/png": "[encoded data removed]"
          },
          "metadata": {}
        },
        {
          "output_type": "display_data",
          "data": {
            "text/plain": [
              "<Figure size 360x288 with 1 Axes>"
            ],
            "image/png": "[encoded data removed]"
          },
          "metadata": {}
        },
        {
          "output_type": "display_data",
          "data": {
            "text/plain": [
              "<Figure size 360x288 with 1 Axes>"
            ],
            "image/png": "[encoded data removed]"
          },
          "metadata": {}
        },
        {
          "output_type": "display_data",
          "data": {
            "text/plain": [
              "<Figure size 360x288 with 1 Axes>"
            ],
            "image/png": "[encoded data removed]"
          },
          "metadata": {}
        },
        {
          "output_type": "display_data",
          "data": {
            "text/plain": [
              "<Figure size 360x288 with 1 Axes>"
            ],
            "image/png": "[encoded data removed]"
          },
          "metadata": {}
        },
        {
          "output_type": "display_data",
          "data": {
            "text/plain": [
              "<Figure size 360x288 with 1 Axes>"
            ],
            "image/png": "[encoded data removed]"
          },
          "metadata": {}
        },
        {
          "output_type": "display_data",
          "data": {
            "text/plain": [
              "<Figure size 360x288 with 1 Axes>"
            ],
            "image/png": "[encoded data removed]"
          },
          "metadata": {}
        },
        {
          "output_type": "display_data",
          "data": {
            "text/plain": [
              "<Figure size 360x288 with 1 Axes>"
            ],
            "image/png": "[encoded data removed]"
          },
          "metadata": {}
        },
        {
          "output_type": "display_data",
          "data": {
            "text/plain": [
              "<Figure size 360x288 with 1 Axes>"
            ],
            "image/png": "[encoded data removed]"
          },
          "metadata": {}
        },
        {
          "output_type": "display_data",
          "data": {
            "text/plain": [
              "<Figure size 360x288 with 1 Axes>"
            ],
            "image/png": "[encoded data removed]"
          },
          "metadata": {}
        }
      ]
    },
    {
      "cell_type": "code",
      "source": [
        "low_gap_vals = []\n",
        "medium_gap_vals = []\n",
        "high_gap_vals = []\n",
        "\n",
        "for i in range(0, len(algo_names)):\n",
        "    low_gap_vals.append((low_rec_gap_list[i] - low_GAP) / low_GAP * 100)\n",
        "    medium_gap_vals.append((medium_rec_gap_list[i] - med_GAP) / med_GAP * 100)\n",
        "    high_gap_vals.append((high_rec_gap_list[i] - high_GAP) / high_GAP * 100)"
      ],
      "metadata": {
        "id": "98medmqCctWK"
      },
      "execution_count": 216,
      "outputs": []
    },
    {
      "cell_type": "code",
      "source": [
        "sns.set(rc = {'figure.figsize':(8,4)})\n",
        "\n",
        "# set width of bar\n",
        "barWidth = 0.07\n",
        "\n",
        "# set height of bar\n",
        "bars1 = [low_gap_vals[0], medium_gap_vals[0], high_gap_vals[0]]\n",
        "bars2 = [low_gap_vals[1], medium_gap_vals[1], high_gap_vals[1]]\n",
        "bars3 = [low_gap_vals[2], medium_gap_vals[2], high_gap_vals[2]]\n",
        "bars4 = [low_gap_vals[3], medium_gap_vals[3], high_gap_vals[3]]\n",
        "bars5 = [low_gap_vals[4], medium_gap_vals[4], high_gap_vals[4]]\n",
        "bars6 = [low_gap_vals[5], medium_gap_vals[5], high_gap_vals[5]]\n",
        "bars7 = [low_gap_vals[6], medium_gap_vals[6], high_gap_vals[6]]\n",
        "bars8 = [low_gap_vals[7], medium_gap_vals[7], high_gap_vals[7]]\n",
        "bars9 = [low_gap_vals[8], medium_gap_vals[8], high_gap_vals[8]]\n",
        "bars10 = [low_gap_vals[9], medium_gap_vals[9], high_gap_vals[9]]\n",
        "bars11 = [low_gap_vals[10], medium_gap_vals[10], high_gap_vals[10]]\n",
        "\n",
        "# Set position of bar on X axis\n",
        "r1 = np.arange(len(bars1))\n",
        "r2 = [x + barWidth for x in r1]\n",
        "r3 = [x + barWidth for x in r2]\n",
        "r4 = [x + barWidth for x in r3]\n",
        "r5 = [x + barWidth for x in r4]\n",
        "r6 = [x + barWidth for x in r5]\n",
        "r7 = [x + barWidth for x in r6]\n",
        "r8 = [x + barWidth for x in r7]\n",
        "r9 = [x + barWidth for x in r8]\n",
        "r10 = [x + barWidth for x in r9]\n",
        "r11 = [x + barWidth for x in r10]\n",
        "# r12 = [x + barWidth for x in r11]\n",
        "# r13 = [x + barWidth for x in r12]\n",
        "\n",
        "# ['Random', 'MostPop', 'UserKNN', 'MF', 'PMF', 'BPR', 'NMF', 'WMF', 'PF', 'NeuMF', 'VAECF']\n",
        "patterns = [ \"/\" , \"\\\\\" , \"|\" , \"-\" , \"+\" , \"x\", \"o\", \"O\", \".\", \"*\", \"--\"]\n",
        "# Make the plot\n",
        "plt.bar(r1, bars1, width=barWidth, label='Random', hatch=patterns[0])\n",
        "plt.bar(r2, bars2, width=barWidth, label='MostPop', hatch=patterns[1])\n",
        "plt.bar(r3, bars3, width=barWidth, label='UserKNN', hatch=patterns[2])\n",
        "plt.bar(r4, bars4, width=barWidth, label='MF', hatch=patterns[3])\n",
        "plt.bar(r5, bars5, width=barWidth, label='PMF', hatch=patterns[4])\n",
        "plt.bar(r6, bars6, width=barWidth, label='BPR', hatch=patterns[5])\n",
        "plt.bar(r7, bars7, width=barWidth, label='NMF', hatch=patterns[6])\n",
        "plt.bar(r8, bars8, width=barWidth, label='WMF', hatch=patterns[7])\n",
        "plt.bar(r9, bars9, width=barWidth, label='PF', hatch=patterns[8])\n",
        "plt.bar(r10, bars10, width=barWidth, label='NeuMF', hatch=patterns[9])\n",
        "plt.bar(r11, bars11, width=barWidth, label='VAECF', hatch=patterns[10])\n",
        "\n",
        "# Add xticks on the middle of the group bars + show legend\n",
        "plt.xlabel('User group', fontsize='14')\n",
        "plt.ylabel('% $\\Delta$ GAP', fontsize='14')\n",
        "plt.xticks([r + barWidth + 0.3 for r in range(len(bars1))], ['Niche', 'Diverse', 'BestSeller'], fontsize='13')\n",
        "plt.yticks(fontsize='10')\n",
        "plt.legend(bbox_to_anchor=(1.02, 1), loc=2, borderaxespad=0., framealpha=1, fontsize='12')\n",
        "plt.show()"
      ],
      "metadata": {
        "colab": {
          "base_uri": "https://localhost:8080/",
          "height": 289
        },
        "id": "eFLBaWGhcu7W",
        "outputId": "d38dfc59-2a36-4c0a-dd0a-491814e32f7e"
      },
      "execution_count": 217,
      "outputs": [
        {
          "output_type": "display_data",
          "data": {
            "text/plain": [
              "<Figure size 576x288 with 1 Axes>"
            ],
            "image/png": "[encoded data removed]"
          },
          "metadata": {}
        }
      ]
    },
    {
      "cell_type": "markdown",
      "source": [
        "### G.2 Surprise"
      ],
      "metadata": {
        "id": "0710EG6KoyXD"
      }
    },
    {
      "cell_type": "code",
      "source": [
        "print('Min rating: ' + str(df_events[predict_col].min()))\n",
        "print('Max rating: ' + str(df_events[predict_col].max()))"
      ],
      "metadata": {
        "colab": {
          "base_uri": "https://localhost:8080/"
        },
        "id": "WqMfFNTbcw2Y",
        "outputId": "80b32589-863c-4f87-f83f-e5c6c698a7ac"
      },
      "execution_count": 36,
      "outputs": [
        {
          "output_type": "stream",
          "name": "stdout",
          "text": [
            "Min rating: 1\n",
            "Max rating: 10\n"
          ]
        }
      ]
    },
    {
      "cell_type": "code",
      "source": [
        "df_events_surprise = df_events.copy()\n",
        "for col in df_events.columns:\n",
        "  if (col!=\"user\") and (col!=predict_col) and (col!=item_col):\n",
        "    df_events_surprise = df_events.drop(col, axis=1)"
      ],
      "metadata": {
        "id": "O0dTvuLMo0UH"
      },
      "execution_count": 37,
      "outputs": []
    },
    {
      "cell_type": "code",
      "source": [
        "df_events_surprise.head()"
      ],
      "metadata": {
        "colab": {
          "base_uri": "https://localhost:8080/",
          "height": 206
        },
        "id": "3TvhQuymo1-u",
        "outputId": "088c18ad-8bb6-404a-83ba-964658147819"
      },
      "execution_count": 38,
      "outputs": [
        {
          "output_type": "execute_result",
          "data": {
            "text/plain": [
              "       user        book  rating\n",
              "182  276847  3426029553       8\n",
              "210  276847  3551551677      10\n",
              "211  276847  3551551685      10\n",
              "212  276847  3551551693      10\n",
              "213  276847  3551551936      10"
            ],
            "text/html": [
              "\n",
              "  <div id=\"df-d5181f5e-abe6-4a64-abfa-3f0526bfa6d6\">\n",
              "    <div class=\"colab-df-container\">\n",
              "      <div>\n",
              "<style scoped>\n",
              "    .dataframe tbody tr th:only-of-type {\n",
              "        vertical-align: middle;\n",
              "    }\n",
              "\n",
              "    .dataframe tbody tr th {\n",
              "        vertical-align: top;\n",
              "    }\n",
              "\n",
              "    .dataframe thead th {\n",
              "        text-align: right;\n",
              "    }\n",
              "</style>\n",
              "<table border=\"1\" class=\"dataframe\">\n",
              "  <thead>\n",
              "    <tr style=\"text-align: right;\">\n",
              "      <th></th>\n",
              "      <th>user</th>\n",
              "      <th>book</th>\n",
              "      <th>rating</th>\n",
              "    </tr>\n",
              "  </thead>\n",
              "  <tbody>\n",
              "    <tr>\n",
              "      <th>182</th>\n",
              "      <td>276847</td>\n",
              "      <td>3426029553</td>\n",
              "      <td>8</td>\n",
              "    </tr>\n",
              "    <tr>\n",
              "      <th>210</th>\n",
              "      <td>276847</td>\n",
              "      <td>3551551677</td>\n",
              "      <td>10</td>\n",
              "    </tr>\n",
              "    <tr>\n",
              "      <th>211</th>\n",
              "      <td>276847</td>\n",
              "      <td>3551551685</td>\n",
              "      <td>10</td>\n",
              "    </tr>\n",
              "    <tr>\n",
              "      <th>212</th>\n",
              "      <td>276847</td>\n",
              "      <td>3551551693</td>\n",
              "      <td>10</td>\n",
              "    </tr>\n",
              "    <tr>\n",
              "      <th>213</th>\n",
              "      <td>276847</td>\n",
              "      <td>3551551936</td>\n",
              "      <td>10</td>\n",
              "    </tr>\n",
              "  </tbody>\n",
              "</table>\n",
              "</div>\n",
              "      <button class=\"colab-df-convert\" onclick=\"convertToInteractive('df-d5181f5e-abe6-4a64-abfa-3f0526bfa6d6')\"\n",
              "              title=\"Convert this dataframe to an interactive table.\"\n",
              "              style=\"display:none;\">\n",
              "        \n",
              "  <svg xmlns=\"http://www.w3.org/2000/svg\" height=\"24px\"viewBox=\"0 0 24 24\"\n",
              "       width=\"24px\">\n",
              "    <path d=\"M0 0h24v24H0V0z\" fill=\"none\"/>\n",
              "    <path d=\"M18.56 5.44l.94 2.06.94-2.06 2.06-.94-2.06-.94-.94-2.06-.94 2.06-2.06.94zm-11 1L8.5 8.5l.94-2.06 2.06-.94-2.06-.94L8.5 2.5l-.94 2.06-2.06.94zm10 10l.94 2.06.94-2.06 2.06-.94-2.06-.94-.94-2.06-.94 2.06-2.06.94z\"/><path d=\"M17.41 7.96l-1.37-1.37c-.4-.4-.92-.59-1.43-.59-.52 0-1.04.2-1.43.59L10.3 9.45l-7.72 7.72c-.78.78-.78 2.05 0 2.83L4 21.41c.39.39.9.59 1.41.59.51 0 1.02-.2 1.41-.59l7.78-7.78 2.81-2.81c.8-.78.8-2.07 0-2.86zM5.41 20L4 18.59l7.72-7.72 1.47 1.35L5.41 20z\"/>\n",
              "  </svg>\n",
              "      </button>\n",
              "      \n",
              "  <style>\n",
              "    .colab-df-container {\n",
              "      display:flex;\n",
              "      flex-wrap:wrap;\n",
              "      gap: 12px;\n",
              "    }\n",
              "\n",
              "    .colab-df-convert {\n",
              "      background-color: #E8F0FE;\n",
              "      border: none;\n",
              "      border-radius: 50%;\n",
              "      cursor: pointer;\n",
              "      display: none;\n",
              "      fill: #1967D2;\n",
              "      height: 32px;\n",
              "      padding: 0 0 0 0;\n",
              "      width: 32px;\n",
              "    }\n",
              "\n",
              "    .colab-df-convert:hover {\n",
              "      background-color: #E2EBFA;\n",
              "      box-shadow: 0px 1px 2px rgba(60, 64, 67, 0.3), 0px 1px 3px 1px rgba(60, 64, 67, 0.15);\n",
              "      fill: #174EA6;\n",
              "    }\n",
              "\n",
              "    [theme=dark] .colab-df-convert {\n",
              "      background-color: #3B4455;\n",
              "      fill: #D2E3FC;\n",
              "    }\n",
              "\n",
              "    [theme=dark] .colab-df-convert:hover {\n",
              "      background-color: #434B5C;\n",
              "      box-shadow: 0px 1px 3px 1px rgba(0, 0, 0, 0.15);\n",
              "      filter: drop-shadow(0px 1px 2px rgba(0, 0, 0, 0.3));\n",
              "      fill: #FFFFFF;\n",
              "    }\n",
              "  </style>\n",
              "\n",
              "      <script>\n",
              "        const buttonEl =\n",
              "          document.querySelector('#df-d5181f5e-abe6-4a64-abfa-3f0526bfa6d6 button.colab-df-convert');\n",
              "        buttonEl.style.display =\n",
              "          google.colab.kernel.accessAllowed ? 'block' : 'none';\n",
              "\n",
              "        async function convertToInteractive(key) {\n",
              "          const element = document.querySelector('#df-d5181f5e-abe6-4a64-abfa-3f0526bfa6d6');\n",
              "          const dataTable =\n",
              "            await google.colab.kernel.invokeFunction('convertToInteractive',\n",
              "                                                     [key], {});\n",
              "          if (!dataTable) return;\n",
              "\n",
              "          const docLinkHtml = 'Like what you see? Visit the ' +\n",
              "            '<a target=\"_blank\" href=https://colab.research.google.com/notebooks/data_table.ipynb>data table notebook</a>'\n",
              "            + ' to learn more about interactive tables.';\n",
              "          element.innerHTML = '';\n",
              "          dataTable['output_type'] = 'display_data';\n",
              "          await google.colab.output.renderOutput(dataTable, element);\n",
              "          const docLink = document.createElement('div');\n",
              "          docLink.innerHTML = docLinkHtml;\n",
              "          element.appendChild(docLink);\n",
              "        }\n",
              "      </script>\n",
              "    </div>\n",
              "  </div>\n",
              "  "
            ]
          },
          "metadata": {},
          "execution_count": 38
        }
      ]
    },
    {
      "cell_type": "code",
      "source": [
        "reader = SurpriseReader(rating_scale=(df_events_surprise[predict_col].min(), df_events_surprise[predict_col].max()))"
      ],
      "metadata": {
        "id": "LVCMe0clo3uP"
      },
      "execution_count": 39,
      "outputs": []
    },
    {
      "cell_type": "code",
      "source": [
        "data = Dataset.load_from_df(df_events_surprise, reader)"
      ],
      "metadata": {
        "id": "YTEDyj6yo_ju"
      },
      "execution_count": 40,
      "outputs": []
    },
    {
      "cell_type": "code",
      "source": [
        "trainset, testset = train_test_split(data, test_size = test_size, random_state = my_seed)"
      ],
      "metadata": {
        "id": "NCQ-Eq9PpBNv"
      },
      "execution_count": 41,
      "outputs": []
    },
    {
      "cell_type": "code",
      "source": [
        "#%%\n",
        "def get_top_n(predictions, n=10):\n",
        "    # First map the predictions to each user.\n",
        "    top_n = defaultdict(list)\n",
        "    for uid, iid, true_r, est, _ in predictions:\n",
        "        top_n[uid].append((iid, est))\n",
        "    # Then sort the predictions for each user and retrieve the k highest ones.\n",
        "    for uid, user_ratings in top_n.items():\n",
        "        user_ratings.sort(key=lambda x: x[1], reverse=True)\n",
        "        top_n[uid] = user_ratings[:n]\n",
        "    return top_n\n",
        "\n",
        "def get_top_n_random(testset, item_dist, n=10):\n",
        "    top_n = defaultdict(list)\n",
        "    for uid, iid, true_r in testset:\n",
        "        if len(top_n[uid]) == 0:\n",
        "            for i in range(0, 10):\n",
        "                top_n[uid].append((rd.choice(item_dist.index), i))\n",
        "    return top_n\n",
        "\n",
        "\n",
        "\n",
        "def get_top_n_mp(testset, item_dist, n=10):\n",
        "    top_n = defaultdict(list)\n",
        "    for uid, iid, true_r in testset:\n",
        "        if len(top_n[uid]) == 0:\n",
        "            for iid, count in item_dist[:n].items():\n",
        "                top_n[uid].append((iid, count))\n",
        "    return top_n"
      ],
      "metadata": {
        "id": "eCgH-6z-pCgR"
      },
      "execution_count": null,
      "outputs": []
    },
    {
      "cell_type": "code",
      "source": [
        "# def get_top_n(predictions, n=10):\n",
        "#     # First map the predictions to each user.\n",
        "#     top_n = defaultdict(list)\n",
        "#     for uid, iid, true_r, est, _ in predictions:\n",
        "#         top_n[uid].append((iid, est))\n",
        "#     # Then sort the predictions for each user and retrieve the k highest ones.\n",
        "#     for uid, user_ratings in top_n.items():\n",
        "#         user_ratings.sort(key=lambda x: x[1], reverse=True)\n",
        "#         top_n[uid] = user_ratings[:n]\n",
        "#     return top_n"
      ],
      "metadata": {
        "id": "cai9-wsMcqOC"
      },
      "execution_count": 42,
      "outputs": []
    },
    {
      "cell_type": "code",
      "source": [
        "alg = SurpriseNMF(n_factors = 15)\n",
        "alg.fit(trainset)"
      ],
      "metadata": {
        "colab": {
          "base_uri": "https://localhost:8080/"
        },
        "id": "3FAj67nFc8ry",
        "outputId": "33aa880e-338b-4bfb-8d60-82f8d1e90a3e"
      },
      "execution_count": 226,
      "outputs": [
        {
          "output_type": "execute_result",
          "data": {
            "text/plain": [
              "<surprise.prediction_algorithms.matrix_factorization.NMF at 0x7f063b42f590>"
            ]
          },
          "metadata": {},
          "execution_count": 226
        }
      ]
    },
    {
      "cell_type": "code",
      "source": [
        "anti_testset = trainset.build_anti_testset()"
      ],
      "metadata": {
        "id": "wGBtIJMRdHNd"
      },
      "execution_count": 43,
      "outputs": []
    },
    {
      "cell_type": "code",
      "source": [
        "len(anti_testset)"
      ],
      "metadata": {
        "colab": {
          "base_uri": "https://localhost:8080/"
        },
        "id": "WwkxIpYkfitQ",
        "outputId": "e0225c2f-31b0-440d-a343-08cd7171a99c"
      },
      "execution_count": 47,
      "outputs": [
        {
          "output_type": "execute_result",
          "data": {
            "text/plain": [
              "43932877"
            ]
          },
          "metadata": {},
          "execution_count": 47
        }
      ]
    },
    {
      "cell_type": "code",
      "source": [
        "len(testset)"
      ],
      "metadata": {
        "colab": {
          "base_uri": "https://localhost:8080/"
        },
        "id": "P0UjZcgCfk_D",
        "outputId": "2a2d358c-a965-4ffe-e052-9764d14103e8"
      },
      "execution_count": 49,
      "outputs": [
        {
          "output_type": "execute_result",
          "data": {
            "text/plain": [
              "17711"
            ]
          },
          "metadata": {},
          "execution_count": 49
        }
      ]
    },
    {
      "cell_type": "code",
      "source": [
        "trainset.n_ratings"
      ],
      "metadata": {
        "colab": {
          "base_uri": "https://localhost:8080/"
        },
        "id": "7QbRAOqaf633",
        "outputId": "e3a07ec7-2605-4999-c481-3596a6b38c91"
      },
      "execution_count": 53,
      "outputs": [
        {
          "output_type": "execute_result",
          "data": {
            "text/plain": [
              "70841"
            ]
          },
          "metadata": {},
          "execution_count": 53
        }
      ]
    },
    {
      "cell_type": "code",
      "source": [
        "test_users = np.unique([x[0] for x in testset])"
      ],
      "metadata": {
        "id": "Y5aSxQubfZR2"
      },
      "execution_count": 57,
      "outputs": []
    },
    {
      "cell_type": "code",
      "source": [
        "len([x for x in anti_testset if x[0] in test_users])"
      ],
      "metadata": {
        "colab": {
          "base_uri": "https://localhost:8080/"
        },
        "id": "RNrDS73vfJ97",
        "outputId": "a3857fcb-91ff-4fc8-ad7b-85f6b9c143a5"
      },
      "execution_count": 58,
      "outputs": [
        {
          "output_type": "execute_result",
          "data": {
            "text/plain": [
              "37011722"
            ]
          },
          "metadata": {},
          "execution_count": 58
        }
      ]
    },
    {
      "cell_type": "code",
      "source": [
        "def train_algorithms_surprise(df_item_dist, trainset, testset, item_dist, no_users, low_users, medium_users, high_users):\n",
        "    sim_users = {'name': 'cosine', 'user_based': True}  # compute cosine similarities between users\n",
        "    # είδος αποστασης=κοσαιν, ειδος κνν = χρηστη\n",
        "    algos = [] # Random and MostPopular is calculated by default\n",
        "    algos.append(None)#Random())\n",
        "    algos.append(None)#MostPopular())\n",
        "    algos.append(BaselineOnly()) #αυτο το UserItemAvg, τι ειναι?\n",
        "    algos.append(KNNBasic(sim_options = sim_users, k=40)) \n",
        "    algos.append(KNNBasic(sim_options = {'name': 'cosine', 'user_based': False}, k=40)) \n",
        "    algos.append(KNNWithMeans(sim_options = sim_users, k=40)) \n",
        "    algos.append(SurpriseNMF(n_factors = 15))\n",
        "    algos.append(SVDpp(n_factors = 15))\n",
        "    algo_names = ['Random',\n",
        "                  'MostPopular',\n",
        "                  'UserItemAvg',\n",
        "                  'UserKNN',\n",
        "                  #\"ItemKNN\",\n",
        "                  'UserKNNAvg',\n",
        "                  'NMF',\n",
        "                  'SVDpp']\n",
        "    \n",
        "    i = 0\n",
        "    low_rec_gap_list = [] # one entry per algorithmus\n",
        "    medium_rec_gap_list = []\n",
        "    high_rec_gap_list = []\n",
        "    start = time.time()\n",
        "    for i in range(0, len(algo_names)): #για καθε αλγοριθμο\n",
        "        print(\"~~~~~~~~~~~~~~~~NEW~~~~~~~~~~~~~~~~~\")\n",
        "        df_item_dist[algo_names[i]] = 0 #προσθετω στηλη στο ποπιουλαριτι για τον αλγοριθμο i \n",
        "        low_rec_gap = 0\n",
        "        medium_rec_gap = 0\n",
        "        high_rec_gap = 0\n",
        "        \n",
        "        # get accuracy for personalized approaches\n",
        "        if algo_names[i] != 'Random' and algo_names[i] != 'MostPopular': #για μη χαζους αλγοριθμους\n",
        "            algos[i].fit(trainset) #κανεις φιτ\n",
        "            predictions = algos[i].test(testset) #προβλεπεις\n",
        "            print(algo_names[i])#λες τελειωσε ο ταδε αλγοριθμος\n",
        "            #get_mae_of_groups(predictions, low_users, medium_users, high_users) #υπολογιζεις τα λαθη και τα τυπωνεις\n",
        "        \n",
        "        # get top-n items and calculate gaps for all algorithms\n",
        "        # κανεις προτασεις αναλογα τις προβλεψεις\n",
        "        if algo_names[i] == 'Random':\n",
        "            top_n = get_top_n_random(testset, item_dist, n=10)\n",
        "        elif algo_names[i] == 'MostPopular':\n",
        "            top_n = get_top_n_mp(testset, item_dist, n=10)\n",
        "        else:\n",
        "            top_n = get_top_n(predictions, n=10)\n",
        "        #υπολογιζεις τα gap\n",
        "        low_count = 0\n",
        "        med_count = 0\n",
        "        high_count = 0\n",
        "        for uid, user_ratings in top_n.items():\n",
        "            iid_list = []\n",
        "            for (iid, _) in user_ratings:\n",
        "                df_item_dist.loc[iid, algo_names[i]] += 1\n",
        "                iid_list.append(iid)\n",
        "            gap = sum(item_dist[iid_list] / no_users) / len(iid_list)\n",
        "            if uid in low_users.index:\n",
        "                low_rec_gap += gap\n",
        "                low_count += 1\n",
        "            elif uid in medium_users.index:\n",
        "                medium_rec_gap += gap\n",
        "                med_count += 1\n",
        "            elif uid in high_users.index:\n",
        "                high_rec_gap += gap\n",
        "                high_count += 1\n",
        "        low_rec_gap_list.append(low_rec_gap / low_count)\n",
        "        medium_rec_gap_list.append(medium_rec_gap / med_count)\n",
        "        high_rec_gap_list.append(high_rec_gap / high_count)\n",
        "        i += 1 # next algorithm\n",
        "        end = time.time()\n",
        "        print(\"It took \" + str(np.round(end-start)) + \" seconds.\")\n",
        "        start = time.time()\n",
        "    return df_item_dist, low_rec_gap_list, medium_rec_gap_list, high_rec_gap_list"
      ],
      "metadata": {
        "id": "sBKsIJNJpIMg"
      },
      "execution_count": null,
      "outputs": []
    },
    {
      "cell_type": "code",
      "source": [
        "df_item_dist_surprise, low_rec_gap_list_surprise, medium_rec_gap_list_surprise, high_rec_gap_list_surprise = train_algorithms_surprise(df_item_dist, trainset, testset, item_dist, num_users, low, med, high)"
      ],
      "metadata": {
        "colab": {
          "base_uri": "https://localhost:8080/"
        },
        "id": "_98wtmBMpEPz",
        "outputId": "72861ec1-6524-48f9-c211-cc61a4a233b2"
      },
      "execution_count": null,
      "outputs": [
        {
          "output_type": "stream",
          "name": "stdout",
          "text": [
            "~~~~~~~~~~~~~~~~NEW~~~~~~~~~~~~~~~~~\n",
            "It took 23.0 seconds.\n",
            "~~~~~~~~~~~~~~~~NEW~~~~~~~~~~~~~~~~~\n",
            "It took 29.0 seconds.\n",
            "~~~~~~~~~~~~~~~~NEW~~~~~~~~~~~~~~~~~\n",
            "Estimating biases using als...\n",
            "UserItemAvg\n",
            "It took 11.0 seconds.\n",
            "~~~~~~~~~~~~~~~~NEW~~~~~~~~~~~~~~~~~\n",
            "Computing the cosine similarity matrix...\n",
            "Done computing similarity matrix.\n",
            "UserKNN\n",
            "It took 14.0 seconds.\n",
            "~~~~~~~~~~~~~~~~NEW~~~~~~~~~~~~~~~~~\n",
            "Computing the cosine similarity matrix...\n",
            "Done computing similarity matrix.\n",
            "UserKNNAvg\n",
            "It took 15.0 seconds.\n",
            "~~~~~~~~~~~~~~~~NEW~~~~~~~~~~~~~~~~~\n",
            "Computing the cosine similarity matrix...\n",
            "Done computing similarity matrix.\n",
            "NMF\n",
            "It took 11.0 seconds.\n",
            "~~~~~~~~~~~~~~~~NEW~~~~~~~~~~~~~~~~~\n",
            "SVDpp\n",
            "It took 16.0 seconds.\n"
          ]
        }
      ]
    },
    {
      "cell_type": "code",
      "source": [
        "#%%\n",
        "algo_names = ['Random',\n",
        "                  'MostPopular',\n",
        "                  'UserItemAvg',\n",
        "                  'UserKNN',\n",
        "                  #\"ItemKNN\",\n",
        "                  'UserKNNAvg',\n",
        "                  'NMF',\n",
        "                  'SVDpp']\n",
        "for alg in algo_names:\n",
        "    df_item_dist_surprise[alg] = df_item_dist_surprise[alg]/n_splits"
      ],
      "metadata": {
        "id": "jRAuNIM2pO-t"
      },
      "execution_count": null,
      "outputs": []
    },
    {
      "cell_type": "code",
      "source": [
        "sns.set(rc = {'figure.figsize':(5,4)})\n",
        "for i in range(0, len(algo_names)):\n",
        "    plt.figure()\n",
        "    x = df_item_dist_surprise[\"count\"]\n",
        "    y = df_item_dist_surprise[algo_names[i]]\n",
        "\n",
        "    plt.plot(x, y, 'o')\n",
        "    plt.title(algo_names[i])\n",
        "    plt.xlabel('Book popularity', fontsize='15')\n",
        "    plt.ylabel('Recommendation frequency', fontsize='15')\n",
        "    plt.xticks(fontsize='13')\n",
        "    plt.yticks(fontsize='13')"
      ],
      "metadata": {
        "colab": {
          "base_uri": "https://localhost:8080/",
          "height": 1000
        },
        "id": "eg8a5ubPpS01",
        "outputId": "66df1497-e358-49aa-dd57-5c0384aa7273"
      },
      "execution_count": null,
      "outputs": [
        {
          "output_type": "display_data",
          "data": {
            "text/plain": [
              "<Figure size 360x288 with 1 Axes>"
            ],
            "image/png": "[encoded data removed]"
          },
          "metadata": {}
        },
        {
          "output_type": "display_data",
          "data": {
            "text/plain": [
              "<Figure size 360x288 with 1 Axes>"
            ],
            "image/png": "[encoded data removed]"
          },
          "metadata": {}
        },
        {
          "output_type": "display_data",
          "data": {
            "text/plain": [
              "<Figure size 360x288 with 1 Axes>"
            ],
            "image/png": "[encoded data removed]"
          },
          "metadata": {}
        },
        {
          "output_type": "display_data",
          "data": {
            "text/plain": [
              "<Figure size 360x288 with 1 Axes>"
            ],
            "image/png": "[encoded data removed]"
          },
          "metadata": {}
        },
        {
          "output_type": "display_data",
          "data": {
            "text/plain": [
              "<Figure size 360x288 with 1 Axes>"
            ],
            "image/png": "[encoded data removed]"
          },
          "metadata": {}
        },
        {
          "output_type": "display_data",
          "data": {
            "text/plain": [
              "<Figure size 360x288 with 1 Axes>"
            ],
            "image/png": "[encoded data removed]"
          },
          "metadata": {}
        },
        {
          "output_type": "display_data",
          "data": {
            "text/plain": [
              "<Figure size 360x288 with 1 Axes>"
            ],
            "image/png": "[encoded data removed]"
          },
          "metadata": {}
        }
      ]
    },
    {
      "cell_type": "code",
      "source": [
        "low_gap_vals = []\n",
        "medium_gap_vals = []\n",
        "high_gap_vals = []\n",
        "\n",
        "for i in range(0, len(algo_names)):\n",
        "    low_gap_vals.append((low_rec_gap_list_surprise[i] - low_GAP) / low_GAP * 100)\n",
        "    medium_gap_vals.append((medium_rec_gap_list_surprise[i] - med_GAP) / med_GAP * 100)\n",
        "    high_gap_vals.append((high_rec_gap_list_surprise[i] - high_GAP) / high_GAP * 100)"
      ],
      "metadata": {
        "id": "edsPEs6HpUxH"
      },
      "execution_count": null,
      "outputs": []
    },
    {
      "cell_type": "code",
      "source": [
        "sns.set(rc = {'figure.figsize':(8,4)})\n",
        "\n",
        "# set width of bar\n",
        "barWidth = 0.07\n",
        "\n",
        "# set height of bar\n",
        "bars1 = [low_gap_vals[0], medium_gap_vals[0], high_gap_vals[0]]\n",
        "bars2 = [low_gap_vals[1], medium_gap_vals[1], high_gap_vals[1]]\n",
        "bars3 = [low_gap_vals[2], medium_gap_vals[2], high_gap_vals[2]]\n",
        "bars4 = [low_gap_vals[3], medium_gap_vals[3], high_gap_vals[3]]\n",
        "bars5 = [low_gap_vals[4], medium_gap_vals[4], high_gap_vals[4]]\n",
        "bars6 = [low_gap_vals[5], medium_gap_vals[5], high_gap_vals[5]]\n",
        "bars7 = [low_gap_vals[6], medium_gap_vals[6], high_gap_vals[6]]\n",
        "\n",
        "\n",
        "# Set position of bar on X axis\n",
        "r1 = np.arange(len(bars1))\n",
        "r2 = [x + barWidth for x in r1]\n",
        "r3 = [x + barWidth for x in r2]\n",
        "r4 = [x + barWidth for x in r3]\n",
        "r5 = [x + barWidth for x in r4]\n",
        "r6 = [x + barWidth for x in r5]\n",
        "r7 = [x + barWidth for x in r6]\n",
        "\n",
        "\n",
        "# algo_names = ['Random',\n",
        "#                   'MostPopular',\n",
        "#                   'UserItemAvg',\n",
        "#                   'UserKNN',\n",
        "#                   #\"ItemKNN\",\n",
        "#                   'UserKNNAvg',\n",
        "#                   'NMF',\n",
        "#                   'SVDpp']\n",
        "patterns = [ \"/\" , \"\\\\\" , \"|\" , \"-\" , \"+\" , \"x\", \"o\", \"O\", \".\", \"*\", \"--\"]\n",
        "# Make the plot\n",
        "plt.bar(r1, bars1, width=barWidth, label='Random', hatch=patterns[0])\n",
        "plt.bar(r2, bars2, width=barWidth, label='MostPop', hatch=patterns[1])\n",
        "plt.bar(r3, bars3, width=barWidth, label='UserItemAvg', hatch=patterns[2])\n",
        "plt.bar(r4, bars4, width=barWidth, label='UserKNN', hatch=patterns[3])\n",
        "plt.bar(r5, bars5, width=barWidth, label='UserKNNAvg', hatch=patterns[4])\n",
        "plt.bar(r6, bars6, width=barWidth, label='NMF', hatch=patterns[5])\n",
        "plt.bar(r7, bars7, width=barWidth, label='SVDpp', hatch=patterns[6])\n",
        "\n",
        "\n",
        "# Add xticks on the middle of the group bars + show legend\n",
        "plt.xlabel('User group', fontsize='14')\n",
        "plt.ylabel('% $\\Delta$ GAP', fontsize='14')\n",
        "plt.xticks([r + barWidth + 0.3 for r in range(len(bars1))], ['Niche', 'Diverse', 'BestSeller'], fontsize='13')\n",
        "plt.yticks(fontsize='10')\n",
        "plt.legend(bbox_to_anchor=(1.02, 1), loc=2, borderaxespad=0., framealpha=1, fontsize='12')\n",
        "plt.show()"
      ],
      "metadata": {
        "colab": {
          "base_uri": "https://localhost:8080/",
          "height": 289
        },
        "id": "DmIJGR5ppWYM",
        "outputId": "80906e6e-6137-43be-9d97-8973c814e5f6"
      },
      "execution_count": null,
      "outputs": [
        {
          "output_type": "display_data",
          "data": {
            "text/plain": [
              "<Figure size 576x288 with 1 Axes>"
            ],
            "image/png": "[encoded data removed]"
          },
          "metadata": {}
        }
      ]
    }
  ]
}