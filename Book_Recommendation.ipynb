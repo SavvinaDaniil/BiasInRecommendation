{
  "nbformat": 4,
  "nbformat_minor": 0,
  "metadata": {
    "colab": {
      "provenance": [],
      "authorship_tag": "ABX9TyP5ne1gMa4P3leZ6YaeEcbp"
    },
    "kernelspec": {
      "name": "python3",
      "display_name": "Python 3"
    },
    "language_info": {
      "name": "python"
    },
    "widgets": {
      "application/vnd.jupyter.widget-state+json": {
        "eac9bab112674403b837a58b5379d715": {
          "model_module": "@jupyter-widgets/controls",
          "model_name": "HBoxModel",
          "model_module_version": "1.5.0",
          "state": {
            "_dom_classes": [],
            "_model_module": "@jupyter-widgets/controls",
            "_model_module_version": "1.5.0",
            "_model_name": "HBoxModel",
            "_view_count": null,
            "_view_module": "@jupyter-widgets/controls",
            "_view_module_version": "1.5.0",
            "_view_name": "HBoxView",
            "box_style": "",
            "children": [
              "IPY_MODEL_5e9c2b1afbca49e896e9fb484ab23f5f",
              "IPY_MODEL_4ffcc740375b472c84b5e0870beaaf12",
              "IPY_MODEL_569eda68965849268fbadfa5c67e09c8"
            ],
            "layout": "IPY_MODEL_5927f00fb44f4558937ad561fe9f3394"
          }
        },
        "5e9c2b1afbca49e896e9fb484ab23f5f": {
          "model_module": "@jupyter-widgets/controls",
          "model_name": "HTMLModel",
          "model_module_version": "1.5.0",
          "state": {
            "_dom_classes": [],
            "_model_module": "@jupyter-widgets/controls",
            "_model_module_version": "1.5.0",
            "_model_name": "HTMLModel",
            "_view_count": null,
            "_view_module": "@jupyter-widgets/controls",
            "_view_module_version": "1.5.0",
            "_view_name": "HTMLView",
            "description": "",
            "description_tooltip": null,
            "layout": "IPY_MODEL_a626c4ae1e474ab38d9a7134422192fd",
            "placeholder": "​",
            "style": "IPY_MODEL_45c6a8a6189442bfafbc2f4333fdd9e0",
            "value": "100%"
          }
        },
        "4ffcc740375b472c84b5e0870beaaf12": {
          "model_module": "@jupyter-widgets/controls",
          "model_name": "FloatProgressModel",
          "model_module_version": "1.5.0",
          "state": {
            "_dom_classes": [],
            "_model_module": "@jupyter-widgets/controls",
            "_model_module_version": "1.5.0",
            "_model_name": "FloatProgressModel",
            "_view_count": null,
            "_view_module": "@jupyter-widgets/controls",
            "_view_module_version": "1.5.0",
            "_view_name": "ProgressView",
            "bar_style": "success",
            "description": "",
            "description_tooltip": null,
            "layout": "IPY_MODEL_0282bde2a721432d911e74c47e45d8ed",
            "max": 50,
            "min": 0,
            "orientation": "horizontal",
            "style": "IPY_MODEL_43c12f99541a4a0bb1be4164b95186de",
            "value": 50
          }
        },
        "569eda68965849268fbadfa5c67e09c8": {
          "model_module": "@jupyter-widgets/controls",
          "model_name": "HTMLModel",
          "model_module_version": "1.5.0",
          "state": {
            "_dom_classes": [],
            "_model_module": "@jupyter-widgets/controls",
            "_model_module_version": "1.5.0",
            "_model_name": "HTMLModel",
            "_view_count": null,
            "_view_module": "@jupyter-widgets/controls",
            "_view_module_version": "1.5.0",
            "_view_name": "HTMLView",
            "description": "",
            "description_tooltip": null,
            "layout": "IPY_MODEL_5ef5154a091f4f2bbc2a9c46d7501a0d",
            "placeholder": "​",
            "style": "IPY_MODEL_a010eb641b484632948f4eb0ed503d7f",
            "value": " 50/50 [00:00&lt;00:00, 89.24it/s, loss=358527.66]"
          }
        },
        "5927f00fb44f4558937ad561fe9f3394": {
          "model_module": "@jupyter-widgets/base",
          "model_name": "LayoutModel",
          "model_module_version": "1.2.0",
          "state": {
            "_model_module": "@jupyter-widgets/base",
            "_model_module_version": "1.2.0",
            "_model_name": "LayoutModel",
            "_view_count": null,
            "_view_module": "@jupyter-widgets/base",
            "_view_module_version": "1.2.0",
            "_view_name": "LayoutView",
            "align_content": null,
            "align_items": null,
            "align_self": null,
            "border": null,
            "bottom": null,
            "display": null,
            "flex": null,
            "flex_flow": null,
            "grid_area": null,
            "grid_auto_columns": null,
            "grid_auto_flow": null,
            "grid_auto_rows": null,
            "grid_column": null,
            "grid_gap": null,
            "grid_row": null,
            "grid_template_areas": null,
            "grid_template_columns": null,
            "grid_template_rows": null,
            "height": null,
            "justify_content": null,
            "justify_items": null,
            "left": null,
            "margin": null,
            "max_height": null,
            "max_width": null,
            "min_height": null,
            "min_width": null,
            "object_fit": null,
            "object_position": null,
            "order": null,
            "overflow": null,
            "overflow_x": null,
            "overflow_y": null,
            "padding": null,
            "right": null,
            "top": null,
            "visibility": null,
            "width": null
          }
        },
        "a626c4ae1e474ab38d9a7134422192fd": {
          "model_module": "@jupyter-widgets/base",
          "model_name": "LayoutModel",
          "model_module_version": "1.2.0",
          "state": {
            "_model_module": "@jupyter-widgets/base",
            "_model_module_version": "1.2.0",
            "_model_name": "LayoutModel",
            "_view_count": null,
            "_view_module": "@jupyter-widgets/base",
            "_view_module_version": "1.2.0",
            "_view_name": "LayoutView",
            "align_content": null,
            "align_items": null,
            "align_self": null,
            "border": null,
            "bottom": null,
            "display": null,
            "flex": null,
            "flex_flow": null,
            "grid_area": null,
            "grid_auto_columns": null,
            "grid_auto_flow": null,
            "grid_auto_rows": null,
            "grid_column": null,
            "grid_gap": null,
            "grid_row": null,
            "grid_template_areas": null,
            "grid_template_columns": null,
            "grid_template_rows": null,
            "height": null,
            "justify_content": null,
            "justify_items": null,
            "left": null,
            "margin": null,
            "max_height": null,
            "max_width": null,
            "min_height": null,
            "min_width": null,
            "object_fit": null,
            "object_position": null,
            "order": null,
            "overflow": null,
            "overflow_x": null,
            "overflow_y": null,
            "padding": null,
            "right": null,
            "top": null,
            "visibility": null,
            "width": null
          }
        },
        "45c6a8a6189442bfafbc2f4333fdd9e0": {
          "model_module": "@jupyter-widgets/controls",
          "model_name": "DescriptionStyleModel",
          "model_module_version": "1.5.0",
          "state": {
            "_model_module": "@jupyter-widgets/controls",
            "_model_module_version": "1.5.0",
            "_model_name": "DescriptionStyleModel",
            "_view_count": null,
            "_view_module": "@jupyter-widgets/base",
            "_view_module_version": "1.2.0",
            "_view_name": "StyleView",
            "description_width": ""
          }
        },
        "0282bde2a721432d911e74c47e45d8ed": {
          "model_module": "@jupyter-widgets/base",
          "model_name": "LayoutModel",
          "model_module_version": "1.2.0",
          "state": {
            "_model_module": "@jupyter-widgets/base",
            "_model_module_version": "1.2.0",
            "_model_name": "LayoutModel",
            "_view_count": null,
            "_view_module": "@jupyter-widgets/base",
            "_view_module_version": "1.2.0",
            "_view_name": "LayoutView",
            "align_content": null,
            "align_items": null,
            "align_self": null,
            "border": null,
            "bottom": null,
            "display": null,
            "flex": null,
            "flex_flow": null,
            "grid_area": null,
            "grid_auto_columns": null,
            "grid_auto_flow": null,
            "grid_auto_rows": null,
            "grid_column": null,
            "grid_gap": null,
            "grid_row": null,
            "grid_template_areas": null,
            "grid_template_columns": null,
            "grid_template_rows": null,
            "height": null,
            "justify_content": null,
            "justify_items": null,
            "left": null,
            "margin": null,
            "max_height": null,
            "max_width": null,
            "min_height": null,
            "min_width": null,
            "object_fit": null,
            "object_position": null,
            "order": null,
            "overflow": null,
            "overflow_x": null,
            "overflow_y": null,
            "padding": null,
            "right": null,
            "top": null,
            "visibility": null,
            "width": null
          }
        },
        "43c12f99541a4a0bb1be4164b95186de": {
          "model_module": "@jupyter-widgets/controls",
          "model_name": "ProgressStyleModel",
          "model_module_version": "1.5.0",
          "state": {
            "_model_module": "@jupyter-widgets/controls",
            "_model_module_version": "1.5.0",
            "_model_name": "ProgressStyleModel",
            "_view_count": null,
            "_view_module": "@jupyter-widgets/base",
            "_view_module_version": "1.2.0",
            "_view_name": "StyleView",
            "bar_color": null,
            "description_width": ""
          }
        },
        "5ef5154a091f4f2bbc2a9c46d7501a0d": {
          "model_module": "@jupyter-widgets/base",
          "model_name": "LayoutModel",
          "model_module_version": "1.2.0",
          "state": {
            "_model_module": "@jupyter-widgets/base",
            "_model_module_version": "1.2.0",
            "_model_name": "LayoutModel",
            "_view_count": null,
            "_view_module": "@jupyter-widgets/base",
            "_view_module_version": "1.2.0",
            "_view_name": "LayoutView",
            "align_content": null,
            "align_items": null,
            "align_self": null,
            "border": null,
            "bottom": null,
            "display": null,
            "flex": null,
            "flex_flow": null,
            "grid_area": null,
            "grid_auto_columns": null,
            "grid_auto_flow": null,
            "grid_auto_rows": null,
            "grid_column": null,
            "grid_gap": null,
            "grid_row": null,
            "grid_template_areas": null,
            "grid_template_columns": null,
            "grid_template_rows": null,
            "height": null,
            "justify_content": null,
            "justify_items": null,
            "left": null,
            "margin": null,
            "max_height": null,
            "max_width": null,
            "min_height": null,
            "min_width": null,
            "object_fit": null,
            "object_position": null,
            "order": null,
            "overflow": null,
            "overflow_x": null,
            "overflow_y": null,
            "padding": null,
            "right": null,
            "top": null,
            "visibility": null,
            "width": null
          }
        },
        "a010eb641b484632948f4eb0ed503d7f": {
          "model_module": "@jupyter-widgets/controls",
          "model_name": "DescriptionStyleModel",
          "model_module_version": "1.5.0",
          "state": {
            "_model_module": "@jupyter-widgets/controls",
            "_model_module_version": "1.5.0",
            "_model_name": "DescriptionStyleModel",
            "_view_count": null,
            "_view_module": "@jupyter-widgets/base",
            "_view_module_version": "1.2.0",
            "_view_name": "StyleView",
            "description_width": ""
          }
        }
      }
    }
  },
  "cells": [
    {
      "cell_type": "markdown",
      "source": [
        "This notebook should be run on Google Colab.\n",
        "<a href=\"https://colab.research.google.com/drive/1RXPpRM18gDh1KQ1ssPpPNVUwdGL7_w9H#scrollTo=6Uox52mtM8i0\" target=\"_parent\"><img src=\"https://colab.research.google.com/assets/colab-badge.svg\" alt=\"Open in Colab\"/></a>"
      ],
      "metadata": {
        "id": "6Uox52mtM8i0"
      }
    },
    {
      "cell_type": "markdown",
      "source": [
        "# Process\n",
        "In this notebook, I will train the book recommendation algorithms using two different packages: <a href=\"http://surpriselib.com/\">Surprise</a> & <a href=\"https://cornac.readthedocs.io/en/latest/\">Cornac</a>. "
      ],
      "metadata": {
        "id": "tLpIS6XyNHZW"
      }
    },
    {
      "cell_type": "markdown",
      "source": [
        "## A. Import lbraries"
      ],
      "metadata": {
        "id": "apEC7vpANPwa"
      }
    },
    {
      "cell_type": "code",
      "source": [
        "!pip uninstall tensorflow -y\n",
        "!pip install tensorflow-gpu==1.15\n",
        "!apt install --allow-change-held-packages libcudnn7=7.4.1.5-1+cuda10.0"
      ],
      "metadata": {
        "colab": {
          "base_uri": "https://localhost:8080/"
        },
        "id": "wdDcy5OnNMWR",
        "outputId": "6c3087e2-f292-4b10-dfa2-2e856feb88cf"
      },
      "execution_count": 2,
      "outputs": [
        {
          "output_type": "stream",
          "name": "stdout",
          "text": [
            "Found existing installation: tensorflow 2.9.2\n",
            "Uninstalling tensorflow-2.9.2:\n",
            "  Successfully uninstalled tensorflow-2.9.2\n",
            "Looking in indexes: https://pypi.org/simple, https://us-python.pkg.dev/colab-wheels/public/simple/\n",
            "Collecting tensorflow-gpu==1.15\n",
            "  Downloading tensorflow_gpu-1.15.0-cp37-cp37m-manylinux2010_x86_64.whl (411.5 MB)\n",
            "\u001b[K     |████████████████████████████████| 411.5 MB 7.6 kB/s \n",
            "\u001b[?25hRequirement already satisfied: keras-preprocessing>=1.0.5 in /usr/local/lib/python3.7/dist-packages (from tensorflow-gpu==1.15) (1.1.2)\n",
            "Requirement already satisfied: six>=1.10.0 in /usr/local/lib/python3.7/dist-packages (from tensorflow-gpu==1.15) (1.15.0)\n",
            "Requirement already satisfied: opt-einsum>=2.3.2 in /usr/local/lib/python3.7/dist-packages (from tensorflow-gpu==1.15) (3.3.0)\n",
            "Requirement already satisfied: termcolor>=1.1.0 in /usr/local/lib/python3.7/dist-packages (from tensorflow-gpu==1.15) (2.0.1)\n",
            "Requirement already satisfied: numpy<2.0,>=1.16.0 in /usr/local/lib/python3.7/dist-packages (from tensorflow-gpu==1.15) (1.21.6)\n",
            "Requirement already satisfied: protobuf>=3.6.1 in /usr/local/lib/python3.7/dist-packages (from tensorflow-gpu==1.15) (3.17.3)\n",
            "Requirement already satisfied: wrapt>=1.11.1 in /usr/local/lib/python3.7/dist-packages (from tensorflow-gpu==1.15) (1.14.1)\n",
            "Collecting tensorboard<1.16.0,>=1.15.0\n",
            "  Downloading tensorboard-1.15.0-py3-none-any.whl (3.8 MB)\n",
            "\u001b[K     |████████████████████████████████| 3.8 MB 37.1 MB/s \n",
            "\u001b[?25hCollecting tensorflow-estimator==1.15.1\n",
            "  Downloading tensorflow_estimator-1.15.1-py2.py3-none-any.whl (503 kB)\n",
            "\u001b[K     |████████████████████████████████| 503 kB 66.1 MB/s \n",
            "\u001b[?25hRequirement already satisfied: google-pasta>=0.1.6 in /usr/local/lib/python3.7/dist-packages (from tensorflow-gpu==1.15) (0.2.0)\n",
            "Collecting gast==0.2.2\n",
            "  Downloading gast-0.2.2.tar.gz (10 kB)\n",
            "Requirement already satisfied: wheel>=0.26 in /usr/local/lib/python3.7/dist-packages (from tensorflow-gpu==1.15) (0.37.1)\n",
            "Requirement already satisfied: grpcio>=1.8.6 in /usr/local/lib/python3.7/dist-packages (from tensorflow-gpu==1.15) (1.50.0)\n",
            "Collecting keras-applications>=1.0.8\n",
            "  Downloading Keras_Applications-1.0.8-py3-none-any.whl (50 kB)\n",
            "\u001b[K     |████████████████████████████████| 50 kB 5.1 MB/s \n",
            "\u001b[?25hRequirement already satisfied: astor>=0.6.0 in /usr/local/lib/python3.7/dist-packages (from tensorflow-gpu==1.15) (0.8.1)\n",
            "Requirement already satisfied: absl-py>=0.7.0 in /usr/local/lib/python3.7/dist-packages (from tensorflow-gpu==1.15) (1.3.0)\n",
            "Requirement already satisfied: h5py in /usr/local/lib/python3.7/dist-packages (from keras-applications>=1.0.8->tensorflow-gpu==1.15) (3.1.0)\n",
            "Requirement already satisfied: setuptools>=41.0.0 in /usr/local/lib/python3.7/dist-packages (from tensorboard<1.16.0,>=1.15.0->tensorflow-gpu==1.15) (57.4.0)\n",
            "Requirement already satisfied: markdown>=2.6.8 in /usr/local/lib/python3.7/dist-packages (from tensorboard<1.16.0,>=1.15.0->tensorflow-gpu==1.15) (3.4.1)\n",
            "Requirement already satisfied: werkzeug>=0.11.15 in /usr/local/lib/python3.7/dist-packages (from tensorboard<1.16.0,>=1.15.0->tensorflow-gpu==1.15) (1.0.1)\n",
            "Requirement already satisfied: importlib-metadata>=4.4 in /usr/local/lib/python3.7/dist-packages (from markdown>=2.6.8->tensorboard<1.16.0,>=1.15.0->tensorflow-gpu==1.15) (4.13.0)\n",
            "Requirement already satisfied: zipp>=0.5 in /usr/local/lib/python3.7/dist-packages (from importlib-metadata>=4.4->markdown>=2.6.8->tensorboard<1.16.0,>=1.15.0->tensorflow-gpu==1.15) (3.10.0)\n",
            "Requirement already satisfied: typing-extensions>=3.6.4 in /usr/local/lib/python3.7/dist-packages (from importlib-metadata>=4.4->markdown>=2.6.8->tensorboard<1.16.0,>=1.15.0->tensorflow-gpu==1.15) (4.1.1)\n",
            "Requirement already satisfied: cached-property in /usr/local/lib/python3.7/dist-packages (from h5py->keras-applications>=1.0.8->tensorflow-gpu==1.15) (1.5.2)\n",
            "Building wheels for collected packages: gast\n",
            "  Building wheel for gast (setup.py) ... \u001b[?25l\u001b[?25hdone\n",
            "  Created wheel for gast: filename=gast-0.2.2-py3-none-any.whl size=7554 sha256=cf4e8e9b12352cc21272c4e2047325ebcbd13a5fd51a74b3d9c86b469afef662\n",
            "  Stored in directory: /root/.cache/pip/wheels/21/7f/02/420f32a803f7d0967b48dd823da3f558c5166991bfd204eef3\n",
            "Successfully built gast\n",
            "Installing collected packages: tensorflow-estimator, tensorboard, keras-applications, gast, tensorflow-gpu\n",
            "  Attempting uninstall: tensorflow-estimator\n",
            "    Found existing installation: tensorflow-estimator 2.9.0\n",
            "    Uninstalling tensorflow-estimator-2.9.0:\n",
            "      Successfully uninstalled tensorflow-estimator-2.9.0\n",
            "  Attempting uninstall: tensorboard\n",
            "    Found existing installation: tensorboard 2.9.1\n",
            "    Uninstalling tensorboard-2.9.1:\n",
            "      Successfully uninstalled tensorboard-2.9.1\n",
            "  Attempting uninstall: gast\n",
            "    Found existing installation: gast 0.4.0\n",
            "    Uninstalling gast-0.4.0:\n",
            "      Successfully uninstalled gast-0.4.0\n",
            "\u001b[31mERROR: pip's dependency resolver does not currently take into account all the packages that are installed. This behaviour is the source of the following dependency conflicts.\n",
            "tensorflow-probability 0.16.0 requires gast>=0.3.2, but you have gast 0.2.2 which is incompatible.\u001b[0m\n",
            "Successfully installed gast-0.2.2 keras-applications-1.0.8 tensorboard-1.15.0 tensorflow-estimator-1.15.1 tensorflow-gpu-1.15.0\n",
            "Reading package lists... Done\n",
            "Building dependency tree       \n",
            "Reading state information... Done\n",
            "The following package was automatically installed and is no longer required:\n",
            "  libnvidia-common-460\n",
            "Use 'apt autoremove' to remove it.\n",
            "The following NEW packages will be installed:\n",
            "  libcudnn7\n",
            "0 upgraded, 1 newly installed, 0 to remove and 4 not upgraded.\n",
            "Need to get 149 MB of archives.\n",
            "After this operation, 348 MB of additional disk space will be used.\n",
            "Get:1 https://developer.download.nvidia.com/compute/machine-learning/repos/ubuntu1804/x86_64  libcudnn7 7.4.1.5-1+cuda10.0 [149 MB]\n",
            "Fetched 149 MB in 7s (22.9 MB/s)\n",
            "Selecting previously unselected package libcudnn7.\n",
            "(Reading database ... 123942 files and directories currently installed.)\n",
            "Preparing to unpack .../libcudnn7_7.4.1.5-1+cuda10.0_amd64.deb ...\n",
            "Unpacking libcudnn7 (7.4.1.5-1+cuda10.0) ...\n",
            "Setting up libcudnn7 (7.4.1.5-1+cuda10.0) ...\n",
            "Processing triggers for libc-bin (2.27-3ubuntu1.6) ...\n"
          ]
        }
      ]
    },
    {
      "cell_type": "code",
      "source": [
        "!pip install cornac"
      ],
      "metadata": {
        "colab": {
          "base_uri": "https://localhost:8080/"
        },
        "id": "mIhMBVm4NRXq",
        "outputId": "f905a7c6-af2e-4500-b265-4d1289fe0420"
      },
      "execution_count": 3,
      "outputs": [
        {
          "output_type": "stream",
          "name": "stdout",
          "text": [
            "Looking in indexes: https://pypi.org/simple, https://us-python.pkg.dev/colab-wheels/public/simple/\n",
            "Collecting cornac\n",
            "  Downloading cornac-1.14.2-cp37-cp37m-manylinux1_x86_64.whl (12.4 MB)\n",
            "\u001b[K     |████████████████████████████████| 12.4 MB 6.6 MB/s \n",
            "\u001b[?25hRequirement already satisfied: numpy in /usr/local/lib/python3.7/dist-packages (from cornac) (1.21.6)\n",
            "Collecting powerlaw\n",
            "  Downloading powerlaw-1.5-py3-none-any.whl (24 kB)\n",
            "Requirement already satisfied: tqdm>=4.19 in /usr/local/lib/python3.7/dist-packages (from cornac) (4.64.1)\n",
            "Requirement already satisfied: scipy in /usr/local/lib/python3.7/dist-packages (from cornac) (1.7.3)\n",
            "Requirement already satisfied: mpmath in /usr/local/lib/python3.7/dist-packages (from powerlaw->cornac) (1.2.1)\n",
            "Requirement already satisfied: matplotlib in /usr/local/lib/python3.7/dist-packages (from powerlaw->cornac) (3.2.2)\n",
            "Requirement already satisfied: kiwisolver>=1.0.1 in /usr/local/lib/python3.7/dist-packages (from matplotlib->powerlaw->cornac) (1.4.4)\n",
            "Requirement already satisfied: pyparsing!=2.0.4,!=2.1.2,!=2.1.6,>=2.0.1 in /usr/local/lib/python3.7/dist-packages (from matplotlib->powerlaw->cornac) (3.0.9)\n",
            "Requirement already satisfied: python-dateutil>=2.1 in /usr/local/lib/python3.7/dist-packages (from matplotlib->powerlaw->cornac) (2.8.2)\n",
            "Requirement already satisfied: cycler>=0.10 in /usr/local/lib/python3.7/dist-packages (from matplotlib->powerlaw->cornac) (0.11.0)\n",
            "Requirement already satisfied: typing-extensions in /usr/local/lib/python3.7/dist-packages (from kiwisolver>=1.0.1->matplotlib->powerlaw->cornac) (4.1.1)\n",
            "Requirement already satisfied: six>=1.5 in /usr/local/lib/python3.7/dist-packages (from python-dateutil>=2.1->matplotlib->powerlaw->cornac) (1.15.0)\n",
            "Installing collected packages: powerlaw, cornac\n",
            "Successfully installed cornac-1.14.2 powerlaw-1.5\n"
          ]
        }
      ]
    },
    {
      "cell_type": "code",
      "source": [
        "!pip install surprise"
      ],
      "metadata": {
        "colab": {
          "base_uri": "https://localhost:8080/"
        },
        "id": "WhbF_bPaNUGj",
        "outputId": "0055a2ff-71c7-4984-a684-b5b0091fad2f"
      },
      "execution_count": 4,
      "outputs": [
        {
          "output_type": "stream",
          "name": "stdout",
          "text": [
            "Looking in indexes: https://pypi.org/simple, https://us-python.pkg.dev/colab-wheels/public/simple/\n",
            "Collecting surprise\n",
            "  Downloading surprise-0.1-py2.py3-none-any.whl (1.8 kB)\n",
            "Collecting scikit-surprise\n",
            "  Downloading scikit-surprise-1.1.1.tar.gz (11.8 MB)\n",
            "\u001b[K     |████████████████████████████████| 11.8 MB 10.4 MB/s \n",
            "\u001b[?25hRequirement already satisfied: joblib>=0.11 in /usr/local/lib/python3.7/dist-packages (from scikit-surprise->surprise) (1.2.0)\n",
            "Requirement already satisfied: numpy>=1.11.2 in /usr/local/lib/python3.7/dist-packages (from scikit-surprise->surprise) (1.21.6)\n",
            "Requirement already satisfied: scipy>=1.0.0 in /usr/local/lib/python3.7/dist-packages (from scikit-surprise->surprise) (1.7.3)\n",
            "Requirement already satisfied: six>=1.10.0 in /usr/local/lib/python3.7/dist-packages (from scikit-surprise->surprise) (1.15.0)\n",
            "Building wheels for collected packages: scikit-surprise\n",
            "  Building wheel for scikit-surprise (setup.py) ... \u001b[?25l\u001b[?25hdone\n",
            "  Created wheel for scikit-surprise: filename=scikit_surprise-1.1.1-cp37-cp37m-linux_x86_64.whl size=1634000 sha256=e1fcf773c3d45ec280713e9ca71dcd6e266113c468c9a6261f4d41d5c6759177\n",
            "  Stored in directory: /root/.cache/pip/wheels/76/44/74/b498c42be47b2406bd27994e16c5188e337c657025ab400c1c\n",
            "Successfully built scikit-surprise\n",
            "Installing collected packages: scikit-surprise, surprise\n",
            "Successfully installed scikit-surprise-1.1.1 surprise-0.1\n"
          ]
        }
      ]
    },
    {
      "cell_type": "code",
      "source": [
        "import warnings\n",
        "warnings.simplefilter(action='ignore', category=FutureWarning)\n",
        "import os\n",
        "import matplotlib.pyplot as plt\n",
        "import random as rd\n",
        "import pandas as pd\n",
        "import numpy as np\n",
        "from tqdm import tqdm\n",
        "import time\n",
        "\n",
        "# Cornac imports\n",
        "import cornac\n",
        "from cornac.eval_methods import RatioSplit\n",
        "from cornac.data import Reader as CornacReader #Reader exists in both packages\n",
        "from cornac.models import MostPop, MF, PMF, BPR, NeuMF, WMF, HPF, VAECF\n",
        "from cornac.models import NMF as CornacNMF #NMF exists in both packages\n",
        "from cornac.metrics import MAE, MSE, RMSE, Precision, Recall, NDCG, AUC, MAP, FMeasure, MRR\n",
        "\n",
        "# Surprise imports\n",
        "from surprise import BaselineOnly, KNNBasic, KNNWithMeans, SVDpp, SVD\n",
        "from surprise import NMF as SurpriseNMF\n",
        "from surprise import Dataset\n",
        "from surprise import Reader as SurpriseReader\n",
        "from surprise.model_selection import train_test_split\n",
        "from surprise import accuracy\n",
        "\n",
        "\n",
        "from collections import defaultdict\n",
        "from scipy import stats\n",
        "from numpy.linalg import norm\n",
        "import seaborn as sns\n",
        "from sklearn.preprocessing import MinMaxScaler\n",
        "# set plot style: grey grid in the background:\n",
        "sns.set(style=\"darkgrid\")\n",
        "pd.set_option(\"display.precision\", 8)"
      ],
      "metadata": {
        "id": "T5uMe3FlNVqk"
      },
      "execution_count": 5,
      "outputs": []
    },
    {
      "cell_type": "markdown",
      "source": [
        "## B. Set hyperparameters\n",
        "There are certain hyperparameters that need to be tuned before the run. "
      ],
      "metadata": {
        "id": "RT7573q5NccX"
      }
    },
    {
      "cell_type": "code",
      "source": [
        "# constants and initialization\n",
        "item_threshold = 1\n",
        "rating_threshold = 1.0 # needed for the cornac library\n",
        "my_seed = 0\n",
        "test_size = 0.2 # the percentage of \"hold out\" data that are used for testing\n",
        "predict_col = \"rating\"\n",
        "top_fraction = 0.2\n",
        "train_way = \"simple_split\"\n",
        "n_splits = 5\n",
        "if train_way == \"simple_split\": n_splits = 1\n",
        "\n",
        "rd.seed(my_seed) #seed for random functions\n",
        "np.random.seed(my_seed) #seed for all numpy stuff"
      ],
      "metadata": {
        "id": "wePMxGvnNZa2"
      },
      "execution_count": 6,
      "outputs": []
    },
    {
      "cell_type": "markdown",
      "source": [
        "## C. Read files"
      ],
      "metadata": {
        "id": "P4Hf5k8jNiZm"
      }
    },
    {
      "cell_type": "code",
      "source": [
        "user_events_file = 'https://raw.githubusercontent.com/SavvinaDaniil/UnfairnessOfPopularityBias/main/data/BX-Book-Ratings.csv'\n",
        "\n",
        "# read user events\n",
        "cols = ['user', 'book', 'rating']\n",
        "df_events = pd.read_csv(user_events_file, sep=\";\", encoding=\"ISO-8859–1\", names=cols, skiprows=1)\n",
        "item_col = \"book\"\n",
        "print('No. of user events: ' + str(len(df_events)))"
      ],
      "metadata": {
        "colab": {
          "base_uri": "https://localhost:8080/"
        },
        "id": "tAyKjmxeNf1X",
        "outputId": "b4e5309a-bc4f-47df-e4cc-153214a9f81e"
      },
      "execution_count": 16,
      "outputs": [
        {
          "output_type": "stream",
          "name": "stdout",
          "text": [
            "No. of user events: 1149780\n"
          ]
        }
      ]
    },
    {
      "cell_type": "code",
      "source": [
        "df_events.head()"
      ],
      "metadata": {
        "colab": {
          "base_uri": "https://localhost:8080/",
          "height": 206
        },
        "id": "SA02IGeBTzdk",
        "outputId": "b80e22a0-ec5c-4451-8460-444393bb584c"
      },
      "execution_count": 17,
      "outputs": [
        {
          "output_type": "execute_result",
          "data": {
            "text/plain": [
              "     user        book  rating\n",
              "0  276725  034545104X       0\n",
              "1  276726  0155061224       5\n",
              "2  276727  0446520802       0\n",
              "3  276729  052165615X       3\n",
              "4  276729  0521795028       6"
            ],
            "text/html": [
              "\n",
              "  <div id=\"df-f7067ecd-2f31-4fd2-895b-f75641f5eaec\">\n",
              "    <div class=\"colab-df-container\">\n",
              "      <div>\n",
              "<style scoped>\n",
              "    .dataframe tbody tr th:only-of-type {\n",
              "        vertical-align: middle;\n",
              "    }\n",
              "\n",
              "    .dataframe tbody tr th {\n",
              "        vertical-align: top;\n",
              "    }\n",
              "\n",
              "    .dataframe thead th {\n",
              "        text-align: right;\n",
              "    }\n",
              "</style>\n",
              "<table border=\"1\" class=\"dataframe\">\n",
              "  <thead>\n",
              "    <tr style=\"text-align: right;\">\n",
              "      <th></th>\n",
              "      <th>user</th>\n",
              "      <th>book</th>\n",
              "      <th>rating</th>\n",
              "    </tr>\n",
              "  </thead>\n",
              "  <tbody>\n",
              "    <tr>\n",
              "      <th>0</th>\n",
              "      <td>276725</td>\n",
              "      <td>034545104X</td>\n",
              "      <td>0</td>\n",
              "    </tr>\n",
              "    <tr>\n",
              "      <th>1</th>\n",
              "      <td>276726</td>\n",
              "      <td>0155061224</td>\n",
              "      <td>5</td>\n",
              "    </tr>\n",
              "    <tr>\n",
              "      <th>2</th>\n",
              "      <td>276727</td>\n",
              "      <td>0446520802</td>\n",
              "      <td>0</td>\n",
              "    </tr>\n",
              "    <tr>\n",
              "      <th>3</th>\n",
              "      <td>276729</td>\n",
              "      <td>052165615X</td>\n",
              "      <td>3</td>\n",
              "    </tr>\n",
              "    <tr>\n",
              "      <th>4</th>\n",
              "      <td>276729</td>\n",
              "      <td>0521795028</td>\n",
              "      <td>6</td>\n",
              "    </tr>\n",
              "  </tbody>\n",
              "</table>\n",
              "</div>\n",
              "      <button class=\"colab-df-convert\" onclick=\"convertToInteractive('df-f7067ecd-2f31-4fd2-895b-f75641f5eaec')\"\n",
              "              title=\"Convert this dataframe to an interactive table.\"\n",
              "              style=\"display:none;\">\n",
              "        \n",
              "  <svg xmlns=\"http://www.w3.org/2000/svg\" height=\"24px\"viewBox=\"0 0 24 24\"\n",
              "       width=\"24px\">\n",
              "    <path d=\"M0 0h24v24H0V0z\" fill=\"none\"/>\n",
              "    <path d=\"M18.56 5.44l.94 2.06.94-2.06 2.06-.94-2.06-.94-.94-2.06-.94 2.06-2.06.94zm-11 1L8.5 8.5l.94-2.06 2.06-.94-2.06-.94L8.5 2.5l-.94 2.06-2.06.94zm10 10l.94 2.06.94-2.06 2.06-.94-2.06-.94-.94-2.06-.94 2.06-2.06.94z\"/><path d=\"M17.41 7.96l-1.37-1.37c-.4-.4-.92-.59-1.43-.59-.52 0-1.04.2-1.43.59L10.3 9.45l-7.72 7.72c-.78.78-.78 2.05 0 2.83L4 21.41c.39.39.9.59 1.41.59.51 0 1.02-.2 1.41-.59l7.78-7.78 2.81-2.81c.8-.78.8-2.07 0-2.86zM5.41 20L4 18.59l7.72-7.72 1.47 1.35L5.41 20z\"/>\n",
              "  </svg>\n",
              "      </button>\n",
              "      \n",
              "  <style>\n",
              "    .colab-df-container {\n",
              "      display:flex;\n",
              "      flex-wrap:wrap;\n",
              "      gap: 12px;\n",
              "    }\n",
              "\n",
              "    .colab-df-convert {\n",
              "      background-color: #E8F0FE;\n",
              "      border: none;\n",
              "      border-radius: 50%;\n",
              "      cursor: pointer;\n",
              "      display: none;\n",
              "      fill: #1967D2;\n",
              "      height: 32px;\n",
              "      padding: 0 0 0 0;\n",
              "      width: 32px;\n",
              "    }\n",
              "\n",
              "    .colab-df-convert:hover {\n",
              "      background-color: #E2EBFA;\n",
              "      box-shadow: 0px 1px 2px rgba(60, 64, 67, 0.3), 0px 1px 3px 1px rgba(60, 64, 67, 0.15);\n",
              "      fill: #174EA6;\n",
              "    }\n",
              "\n",
              "    [theme=dark] .colab-df-convert {\n",
              "      background-color: #3B4455;\n",
              "      fill: #D2E3FC;\n",
              "    }\n",
              "\n",
              "    [theme=dark] .colab-df-convert:hover {\n",
              "      background-color: #434B5C;\n",
              "      box-shadow: 0px 1px 3px 1px rgba(0, 0, 0, 0.15);\n",
              "      filter: drop-shadow(0px 1px 2px rgba(0, 0, 0, 0.3));\n",
              "      fill: #FFFFFF;\n",
              "    }\n",
              "  </style>\n",
              "\n",
              "      <script>\n",
              "        const buttonEl =\n",
              "          document.querySelector('#df-f7067ecd-2f31-4fd2-895b-f75641f5eaec button.colab-df-convert');\n",
              "        buttonEl.style.display =\n",
              "          google.colab.kernel.accessAllowed ? 'block' : 'none';\n",
              "\n",
              "        async function convertToInteractive(key) {\n",
              "          const element = document.querySelector('#df-f7067ecd-2f31-4fd2-895b-f75641f5eaec');\n",
              "          const dataTable =\n",
              "            await google.colab.kernel.invokeFunction('convertToInteractive',\n",
              "                                                     [key], {});\n",
              "          if (!dataTable) return;\n",
              "\n",
              "          const docLinkHtml = 'Like what you see? Visit the ' +\n",
              "            '<a target=\"_blank\" href=https://colab.research.google.com/notebooks/data_table.ipynb>data table notebook</a>'\n",
              "            + ' to learn more about interactive tables.';\n",
              "          element.innerHTML = '';\n",
              "          dataTable['output_type'] = 'display_data';\n",
              "          await google.colab.output.renderOutput(dataTable, element);\n",
              "          const docLink = document.createElement('div');\n",
              "          docLink.innerHTML = docLinkHtml;\n",
              "          element.appendChild(docLink);\n",
              "        }\n",
              "      </script>\n",
              "    </div>\n",
              "  </div>\n",
              "  "
            ]
          },
          "metadata": {},
          "execution_count": 17
        }
      ]
    },
    {
      "cell_type": "markdown",
      "source": [
        "## D. Data analysis"
      ],
      "metadata": {
        "id": "FMcwqRl5Unz6"
      }
    },
    {
      "cell_type": "code",
      "source": [
        "def users_and_items(df_events, user_col, item_col):\n",
        "    print('No. user events: ' + str(len(df_events)))\n",
        "    print('No. items: ' + str(len(df_events[item_col].unique())))\n",
        "    print('No. users: ' + str(len(df_events[user_col].unique())))\n",
        "    print(\"\\n\")\n",
        "def user_distribution(df_events, user_col, item_col):\n",
        "    user_dist = df_events[user_col].value_counts() \n",
        "    num_users = len(user_dist)\n",
        "    print('Mean '+item_col+'s per user: ' + str(np.round(user_dist.mean(),1))) \n",
        "    print('Min '+item_col+'s per user: ' + str(np.round(user_dist.min(),1))) \n",
        "    print('Max '+item_col+'s per user: ' + str(np.round(user_dist.max(),1)))\n",
        "    print(\"\\n\")\n",
        "    return user_dist, num_users\n",
        "def item_distribution(df_events, user_col, item_col):\n",
        "    item_dist = df_events[item_col].value_counts()\n",
        "    num_items = len(item_dist)\n",
        "    print('Mean users per '+item_col+': ' + str(np.round(item_dist.mean(),1))) \n",
        "    print('Min users per '+item_col+': ' + str(np.round(item_dist.min(),1))) \n",
        "    print('Max users per '+item_col+': ' + str(np.round(item_dist.max(),1))) \n",
        "    print(\"\\n\")\n",
        "    return item_dist, num_items"
      ],
      "metadata": {
        "id": "yQMsd3hxT9ce"
      },
      "execution_count": 18,
      "outputs": []
    },
    {
      "cell_type": "code",
      "source": [
        "users_and_items(df_events, \"user\", item_col)\n",
        "user_dist, num_users = user_distribution(df_events, \"user\", item_col)\n",
        "item_dist, num_items = item_distribution(df_events, \"user\", item_col)"
      ],
      "metadata": {
        "colab": {
          "base_uri": "https://localhost:8080/"
        },
        "id": "gK4DR9IaUrWB",
        "outputId": "cd31f953-c858-4913-c680-dba26e08878f"
      },
      "execution_count": 19,
      "outputs": [
        {
          "output_type": "stream",
          "name": "stdout",
          "text": [
            "No. user events: 1149780\n",
            "No. items: 340556\n",
            "No. users: 105283\n",
            "\n",
            "\n",
            "Mean books per user: 10.9\n",
            "Min books per user: 1\n",
            "Max books per user: 13602\n",
            "\n",
            "\n",
            "Mean users per book: 3.4\n",
            "Min users per book: 1\n",
            "Max users per book: 2502\n",
            "\n",
            "\n"
          ]
        }
      ]
    },
    {
      "cell_type": "markdown",
      "source": [
        "FairBook cut down the dataset."
      ],
      "metadata": {
        "id": "yY78u6hJU0UZ"
      }
    },
    {
      "cell_type": "code",
      "source": [
        "# This method return a dataframe in which the specified values are removed from a specific column. We can use it to generate the implicit/explicit dataset.\n",
        "# To do this, we can remove the 0 or 1-10 values from the `Book-Rating` column.\n",
        "def filter_rows_by_values(df, col, values):\n",
        "    return df[~df[col].isin(values)]"
      ],
      "metadata": {
        "id": "lyhB0isHUs-x"
      },
      "execution_count": 20,
      "outputs": []
    },
    {
      "cell_type": "code",
      "source": [
        "df_events = filter_rows_by_values(df_events, predict_col, [0])\n",
        "\n",
        "\n",
        "# statistics on explicit dataset\n",
        "users_and_items(df_events, \"user\", item_col)\n",
        "user_dist, num_users = user_distribution(df_events, \"user\", item_col)\n",
        "item_dist, num_items = item_distribution(df_events, \"user\", item_col)"
      ],
      "metadata": {
        "colab": {
          "base_uri": "https://localhost:8080/"
        },
        "id": "8A4qppVjU4pv",
        "outputId": "3f677a43-b2c3-4d9a-afc7-887b2479fa08"
      },
      "execution_count": 21,
      "outputs": [
        {
          "output_type": "stream",
          "name": "stdout",
          "text": [
            "No. user events: 433671\n",
            "No. items: 185973\n",
            "No. users: 77805\n",
            "\n",
            "\n",
            "Mean books per user: 5.6\n",
            "Min books per user: 1\n",
            "Max books per user: 8524\n",
            "\n",
            "\n",
            "Mean users per book: 2.3\n",
            "Min users per book: 1\n",
            "Max users per book: 707\n",
            "\n",
            "\n"
          ]
        }
      ]
    },
    {
      "cell_type": "code",
      "source": [
        "# To check if there is any user with more than toprate interaction in the preprocessed dataset\n",
        "# The correct output will be zero\n",
        "uid_value_counts = df_events['user'].value_counts()\n",
        "print(f\"The number of users with more than 200 interactions: {uid_value_counts[uid_value_counts > 200].count()}\")"
      ],
      "metadata": {
        "colab": {
          "base_uri": "https://localhost:8080/"
        },
        "id": "ZSylrtm-VLYj",
        "outputId": "8b587528-0d80-4fca-b74a-2ba3e6b7f242"
      },
      "execution_count": 22,
      "outputs": [
        {
          "output_type": "stream",
          "name": "stdout",
          "text": [
            "The numebr of users with more than 200 interactions: 144\n"
          ]
        }
      ]
    },
    {
      "cell_type": "code",
      "source": [
        "# To remove the users with fewer than 5 interaction we first count the number of interactino per user and add a new column (`Count`) in the dataframe.\n",
        "# This column shows the number of interaction per user in the dataset\n",
        "users_counts = uid_value_counts.to_dict() #converts to dictionary\n",
        "df_events['Count'] = df_events['user'].map(users_counts)"
      ],
      "metadata": {
        "id": "Nfzh2XdaVadU"
      },
      "execution_count": 23,
      "outputs": []
    },
    {
      "cell_type": "code",
      "source": [
        "df_events = filter_rows_by_values(df_events, \"Count\", list(range(200, max(df_events['Count']) + 1)))"
      ],
      "metadata": {
        "id": "o-j-0QBVVoxv"
      },
      "execution_count": 24,
      "outputs": []
    },
    {
      "cell_type": "code",
      "source": [
        "# new data statistics\n",
        "users_and_items(df_events, \"user\", item_col)\n",
        "user_dist, num_users = user_distribution(df_events, \"user\", item_col)\n",
        "item_dist, num_items = item_distribution(df_events, \"user\", item_col)"
      ],
      "metadata": {
        "colab": {
          "base_uri": "https://localhost:8080/"
        },
        "id": "1ApIrzcCVw9N",
        "outputId": "bed285ce-aa5f-48e3-ce20-1af78d81e956"
      },
      "execution_count": 25,
      "outputs": [
        {
          "output_type": "stream",
          "name": "stdout",
          "text": [
            "No. user events: 364245\n",
            "No. items: 156891\n",
            "No. users: 77660\n",
            "\n",
            "\n",
            "Mean books per user: 4.7\n",
            "Min books per user: 1\n",
            "Max books per user: 199\n",
            "\n",
            "\n",
            "Mean users per book: 2.3\n",
            "Min users per book: 1\n",
            "Max users per book: 683\n",
            "\n",
            "\n"
          ]
        }
      ]
    },
    {
      "cell_type": "code",
      "source": [
        "user_interaction, item_interaction = 1, 1\n",
        "\n",
        "while user_interaction != 0 or item_interaction != 0:\n",
        "    uid_value_counts = df_events[\"user\"].value_counts()\n",
        "    user_interaction = uid_value_counts[uid_value_counts < 5].count()\n",
        "\n",
        "    users_counts = df_events[\"user\"].value_counts()\n",
        "    users_counts = users_counts.to_dict() #converts to dictionary\n",
        "    df_events['Count'] = df_events[\"user\"].map(users_counts)\n",
        "\n",
        "    df_events = filter_rows_by_values(df_events, \"Count\", list(range(5)))\n",
        "\n",
        "    # item side fewer than ds_rate cheking\n",
        "    bid_value_counts = df_events[item_col].value_counts()\n",
        "    item_interaction = bid_value_counts[bid_value_counts < 5].count()\n",
        "\n",
        "    items_counts = df_events[item_col].value_counts()\n",
        "    items_counts = items_counts.to_dict() #converts to dictionary\n",
        "    df_events['Count'] = df_events[item_col].map(items_counts)\n",
        "\n",
        "    df_events = filter_rows_by_values(df_events, \"Count\", list(range(5)))"
      ],
      "metadata": {
        "colab": {
          "base_uri": "https://localhost:8080/"
        },
        "id": "qT-hW-30V2_0",
        "outputId": "5ea7d848-3fbc-4641-8530-6f623cbfaae3"
      },
      "execution_count": 27,
      "outputs": [
        {
          "output_type": "stream",
          "name": "stderr",
          "text": [
            "/usr/local/lib/python3.7/dist-packages/ipykernel_launcher.py:9: SettingWithCopyWarning: \n",
            "A value is trying to be set on a copy of a slice from a DataFrame.\n",
            "Try using .loc[row_indexer,col_indexer] = value instead\n",
            "\n",
            "See the caveats in the documentation: https://pandas.pydata.org/pandas-docs/stable/user_guide/indexing.html#returning-a-view-versus-a-copy\n",
            "  if __name__ == '__main__':\n",
            "/usr/local/lib/python3.7/dist-packages/ipykernel_launcher.py:19: SettingWithCopyWarning: \n",
            "A value is trying to be set on a copy of a slice from a DataFrame.\n",
            "Try using .loc[row_indexer,col_indexer] = value instead\n",
            "\n",
            "See the caveats in the documentation: https://pandas.pydata.org/pandas-docs/stable/user_guide/indexing.html#returning-a-view-versus-a-copy\n"
          ]
        }
      ]
    },
    {
      "cell_type": "code",
      "source": [
        "# final data statistics\n",
        "users_and_items(df_events, \"user\", item_col)\n",
        "user_dist, num_users = user_distribution(df_events, \"user\", item_col)\n",
        "item_dist, num_items = item_distribution(df_events, \"user\", item_col)"
      ],
      "metadata": {
        "colab": {
          "base_uri": "https://localhost:8080/"
        },
        "id": "Mm4cP5FzWhIJ",
        "outputId": "3e86b9c0-1060-40e4-e2d5-42112d06a363"
      },
      "execution_count": 29,
      "outputs": [
        {
          "output_type": "stream",
          "name": "stdout",
          "text": [
            "No. user events: 88552\n",
            "No. items: 6921\n",
            "No. users: 6358\n",
            "\n",
            "\n",
            "Mean books per user: 13.9\n",
            "Min books per user: 5\n",
            "Max books per user: 153\n",
            "\n",
            "\n",
            "Mean users per book: 12.8\n",
            "Min users per book: 5\n",
            "Max users per book: 350\n",
            "\n",
            "\n"
          ]
        }
      ]
    },
    {
      "cell_type": "code",
      "source": [
        "del(df_events[\"Count\"])"
      ],
      "metadata": {
        "id": "BxFkdMdCbAMj"
      },
      "execution_count": 31,
      "outputs": []
    },
    {
      "cell_type": "code",
      "source": [
        "\n",
        "# create item dataframe with normalized item counts\n",
        "df_item_dist = pd.DataFrame(item_dist) # turn the series into a dataframe\n",
        "df_item_dist.columns = ['count']\n",
        "df_item_dist['count'] /= num_users # basically the popularity of every item\n"
      ],
      "metadata": {
        "id": "Ad5vVllHWxQg"
      },
      "execution_count": 32,
      "outputs": []
    },
    {
      "cell_type": "code",
      "source": [
        "df_item_dist.head()"
      ],
      "metadata": {
        "colab": {
          "base_uri": "https://localhost:8080/",
          "height": 206
        },
        "id": "Oh_Z9gu9bGu4",
        "outputId": "4038423f-fd90-4091-c9d3-01271d2eeae6"
      },
      "execution_count": 33,
      "outputs": [
        {
          "output_type": "execute_result",
          "data": {
            "text/plain": [
              "                 count\n",
              "0316666343  0.05504876\n",
              "0385504209  0.04356716\n",
              "0312195516  0.03129915\n",
              "0142001740  0.02956905\n",
              "0060928336  0.02831079"
            ],
            "text/html": [
              "\n",
              "  <div id=\"df-c150893a-d6d0-4098-993d-2fdb0d5d564c\">\n",
              "    <div class=\"colab-df-container\">\n",
              "      <div>\n",
              "<style scoped>\n",
              "    .dataframe tbody tr th:only-of-type {\n",
              "        vertical-align: middle;\n",
              "    }\n",
              "\n",
              "    .dataframe tbody tr th {\n",
              "        vertical-align: top;\n",
              "    }\n",
              "\n",
              "    .dataframe thead th {\n",
              "        text-align: right;\n",
              "    }\n",
              "</style>\n",
              "<table border=\"1\" class=\"dataframe\">\n",
              "  <thead>\n",
              "    <tr style=\"text-align: right;\">\n",
              "      <th></th>\n",
              "      <th>count</th>\n",
              "    </tr>\n",
              "  </thead>\n",
              "  <tbody>\n",
              "    <tr>\n",
              "      <th>0316666343</th>\n",
              "      <td>0.05504876</td>\n",
              "    </tr>\n",
              "    <tr>\n",
              "      <th>0385504209</th>\n",
              "      <td>0.04356716</td>\n",
              "    </tr>\n",
              "    <tr>\n",
              "      <th>0312195516</th>\n",
              "      <td>0.03129915</td>\n",
              "    </tr>\n",
              "    <tr>\n",
              "      <th>0142001740</th>\n",
              "      <td>0.02956905</td>\n",
              "    </tr>\n",
              "    <tr>\n",
              "      <th>0060928336</th>\n",
              "      <td>0.02831079</td>\n",
              "    </tr>\n",
              "  </tbody>\n",
              "</table>\n",
              "</div>\n",
              "      <button class=\"colab-df-convert\" onclick=\"convertToInteractive('df-c150893a-d6d0-4098-993d-2fdb0d5d564c')\"\n",
              "              title=\"Convert this dataframe to an interactive table.\"\n",
              "              style=\"display:none;\">\n",
              "        \n",
              "  <svg xmlns=\"http://www.w3.org/2000/svg\" height=\"24px\"viewBox=\"0 0 24 24\"\n",
              "       width=\"24px\">\n",
              "    <path d=\"M0 0h24v24H0V0z\" fill=\"none\"/>\n",
              "    <path d=\"M18.56 5.44l.94 2.06.94-2.06 2.06-.94-2.06-.94-.94-2.06-.94 2.06-2.06.94zm-11 1L8.5 8.5l.94-2.06 2.06-.94-2.06-.94L8.5 2.5l-.94 2.06-2.06.94zm10 10l.94 2.06.94-2.06 2.06-.94-2.06-.94-.94-2.06-.94 2.06-2.06.94z\"/><path d=\"M17.41 7.96l-1.37-1.37c-.4-.4-.92-.59-1.43-.59-.52 0-1.04.2-1.43.59L10.3 9.45l-7.72 7.72c-.78.78-.78 2.05 0 2.83L4 21.41c.39.39.9.59 1.41.59.51 0 1.02-.2 1.41-.59l7.78-7.78 2.81-2.81c.8-.78.8-2.07 0-2.86zM5.41 20L4 18.59l7.72-7.72 1.47 1.35L5.41 20z\"/>\n",
              "  </svg>\n",
              "      </button>\n",
              "      \n",
              "  <style>\n",
              "    .colab-df-container {\n",
              "      display:flex;\n",
              "      flex-wrap:wrap;\n",
              "      gap: 12px;\n",
              "    }\n",
              "\n",
              "    .colab-df-convert {\n",
              "      background-color: #E8F0FE;\n",
              "      border: none;\n",
              "      border-radius: 50%;\n",
              "      cursor: pointer;\n",
              "      display: none;\n",
              "      fill: #1967D2;\n",
              "      height: 32px;\n",
              "      padding: 0 0 0 0;\n",
              "      width: 32px;\n",
              "    }\n",
              "\n",
              "    .colab-df-convert:hover {\n",
              "      background-color: #E2EBFA;\n",
              "      box-shadow: 0px 1px 2px rgba(60, 64, 67, 0.3), 0px 1px 3px 1px rgba(60, 64, 67, 0.15);\n",
              "      fill: #174EA6;\n",
              "    }\n",
              "\n",
              "    [theme=dark] .colab-df-convert {\n",
              "      background-color: #3B4455;\n",
              "      fill: #D2E3FC;\n",
              "    }\n",
              "\n",
              "    [theme=dark] .colab-df-convert:hover {\n",
              "      background-color: #434B5C;\n",
              "      box-shadow: 0px 1px 3px 1px rgba(0, 0, 0, 0.15);\n",
              "      filter: drop-shadow(0px 1px 2px rgba(0, 0, 0, 0.3));\n",
              "      fill: #FFFFFF;\n",
              "    }\n",
              "  </style>\n",
              "\n",
              "      <script>\n",
              "        const buttonEl =\n",
              "          document.querySelector('#df-c150893a-d6d0-4098-993d-2fdb0d5d564c button.colab-df-convert');\n",
              "        buttonEl.style.display =\n",
              "          google.colab.kernel.accessAllowed ? 'block' : 'none';\n",
              "\n",
              "        async function convertToInteractive(key) {\n",
              "          const element = document.querySelector('#df-c150893a-d6d0-4098-993d-2fdb0d5d564c');\n",
              "          const dataTable =\n",
              "            await google.colab.kernel.invokeFunction('convertToInteractive',\n",
              "                                                     [key], {});\n",
              "          if (!dataTable) return;\n",
              "\n",
              "          const docLinkHtml = 'Like what you see? Visit the ' +\n",
              "            '<a target=\"_blank\" href=https://colab.research.google.com/notebooks/data_table.ipynb>data table notebook</a>'\n",
              "            + ' to learn more about interactive tables.';\n",
              "          element.innerHTML = '';\n",
              "          dataTable['output_type'] = 'display_data';\n",
              "          await google.colab.output.renderOutput(dataTable, element);\n",
              "          const docLink = document.createElement('div');\n",
              "          docLink.innerHTML = docLinkHtml;\n",
              "          element.appendChild(docLink);\n",
              "        }\n",
              "      </script>\n",
              "    </div>\n",
              "  </div>\n",
              "  "
            ]
          },
          "metadata": {},
          "execution_count": 33
        }
      ]
    },
    {
      "cell_type": "code",
      "source": [
        "def plot_data_distribution(item_dist, item_col, dividing = [False, 0], log = False, save = False, addition = \"\"):\n",
        "    plt.figure()\n",
        "    ax = plt.axes()\n",
        "    ax.spines['bottom'].set_color('w')\n",
        "    ax.spines['top'].set_color('w')\n",
        "    ax.spines['right'].set_color('w')\n",
        "    ax.spines['left'].set_color('w')\n",
        "    ax.spines['left'].set_zorder(0)\n",
        "    ax.xaxis.set_ticks_position('none') \n",
        "    ax.yaxis.set_ticks_position('none') \n",
        "    ax.set_facecolor(\"aliceblue\")\n",
        "    plt.grid(color = \"w\",linewidth = 2 )\n",
        "    if dividing[0]:\n",
        "        x0 = int(len(item_dist.values)*dividing[1])\n",
        "        y = range(len(item_dist))\n",
        "        plt.plot(y[:x0+1], item_dist.values[:x0+1], label = \"Popular \"+item_col+\"s\", linewidth = 5)\n",
        "        plt.plot(y[x0:], item_dist.values[x0:], label = \"Non Popular \"+item_col+\"s\", linewidth = 5)\n",
        "    else:\n",
        "        plt.plot(item_dist.values)\n",
        "    plt.xticks(fontsize='13')\n",
        "    plt.yticks(fontsize='13')\n",
        "    add = \"\"\n",
        "    if log:\n",
        "        plt.xscale('log')\n",
        "        plt.yscale('log')\n",
        "        add = \"_(log)\"\n",
        "    plt.xlabel(item_col+add, fontsize='14')\n",
        "    plt.ylabel('Number of users' + add, fontsize='15')\n",
        "    if save:\n",
        "        if dividing[0]:\n",
        "            plt.savefig('graphs/'+item_col+add+\"_dist_div\"+addition+\".png\", bbox_inches='tight')\n",
        "        else:\n",
        "            plt.savefig('graphs/'+item_col+add+\"_dist\"+addition+\".png\", bbox_inches='tight')\n",
        "    plt.show(block=True)\n",
        "def plot_popularity_distribution(pop_fraq, item_col, dividing = [False,0], save = False, addition = \"\"):\n",
        "    plt.figure()\n",
        "    ax = plt.axes()\n",
        "    ax.spines['bottom'].set_color('w')\n",
        "    ax.spines['top'].set_color('w')\n",
        "    ax.spines['right'].set_color('w')\n",
        "    ax.spines['left'].set_color('w')\n",
        "    ax.spines['left'].set_zorder(0)\n",
        "    ax.xaxis.set_ticks_position('none') \n",
        "    ax.yaxis.set_ticks_position('none') \n",
        "    \n",
        "    ax.set_facecolor(\"aliceblue\")\n",
        "    plt.grid(color = \"w\",linewidth = 2 )\n",
        "    if dividing[0]:\n",
        "        y = range(len(pop_fraq))\n",
        "        x0 = int(len(y)*dividing[1]) \n",
        "        x1 = int(len(y)*(1-dividing[1]))\n",
        "        x= sorted(pop_fraq)\n",
        "        plt.plot(y[:x0+1],x[:x0+1], label=\"LowMS users\", linewidth = 5)\n",
        "        plt.plot(y[x0:x1+1],x[x0:x1+1], label = \"MedMS users\", linewidth = 5)\n",
        "        plt.plot(y[x1:],x[x1:], label = \"HighMS users\", linewidth =5)\n",
        "    else:\n",
        "        plt.plot(sorted(pop_fraq))\n",
        "    plt.xlabel('User', fontsize='15')\n",
        "    plt.xticks(fontsize='13')\n",
        "    plt.ylabel('Ratio of popular '+item_col+'s', fontsize='15')\n",
        "    plt.yticks(fontsize='13')\n",
        "    plt.axhline(y=0.8, color='black', linestyle='--', label='80% ratio of popular '+item_col+'s')\n",
        "    plt.legend(fontsize='15')\n",
        "    #plt.savefig('data/ECIR/user_artist_ratio.png', dpi=300, bbox_inches='tight')\n",
        "    if save:\n",
        "        if dividing[0]:\n",
        "            plt.savefig('graphs/'+item_col+\"_pop_dist_div\"+addition+\".png\", bbox_inches='tight')\n",
        "        else:\n",
        "            plt.savefig('graphs/'+item_col+\"_pop_dist\"+addition+\".png\", bbox_inches='tight')\n",
        "    plt.show(block=True)\n"
      ],
      "metadata": {
        "id": "e7A47DCgbIjw"
      },
      "execution_count": 34,
      "outputs": []
    },
    {
      "cell_type": "code",
      "source": [
        "plot_data_distribution(item_dist, item_col)\n",
        "plot_data_distribution(item_dist, item_col, [False, 0],True)"
      ],
      "metadata": {
        "colab": {
          "base_uri": "https://localhost:8080/",
          "height": 565
        },
        "id": "EkYkK6vEbK8-",
        "outputId": "25301a71-e212-4154-d241-79ab93c97d64"
      },
      "execution_count": 35,
      "outputs": [
        {
          "output_type": "display_data",
          "data": {
            "text/plain": [
              "<Figure size 432x288 with 1 Axes>"
            ],
            "image/png": "[encoded data removed]"
          },
          "metadata": {}
        },
        {
          "output_type": "display_data",
          "data": {
            "text/plain": [
              "<Figure size 432x288 with 1 Axes>"
            ],
            "image/png": "[encoded data removed]"
          },
          "metadata": {}
        }
      ]
    },
    {
      "cell_type": "markdown",
      "source": [
        "## E. Popularity in the data"
      ],
      "metadata": {
        "id": "bJtawX7Obc-b"
      }
    },
    {
      "cell_type": "code",
      "source": [
        "num_top = int(top_fraction * num_items)\n",
        "top_item_dist = item_dist[:num_top]\n",
        "print('No. top items: ' + str(len(top_item_dist)))"
      ],
      "metadata": {
        "colab": {
          "base_uri": "https://localhost:8080/"
        },
        "id": "qcPpaALQbMzd",
        "outputId": "8ea17ebb-cc0c-45c1-fc01-1867c3f1ac91"
      },
      "execution_count": 36,
      "outputs": [
        {
          "output_type": "stream",
          "name": "stdout",
          "text": [
            "No. top items: 1384\n"
          ]
        }
      ]
    },
    {
      "cell_type": "code",
      "source": [
        "def calculate_popularity(df_events, top_item_dist, item_dist, num_users, user_col, item_col):\n",
        "    pop_count = [] # number of top items per user\n",
        "    user_hist = [] # user history sizes\n",
        "    pop_fraq = [] # relative number of top items per user\n",
        "    pop_item_fraq = [] # average popularity of items in user profiles\n",
        "    i=0\n",
        "    for u, df in df_events.groupby(user_col):\n",
        "        no_user_items = len(set(df[item_col]))\n",
        "        no_user_pop_items = len(set(df[item_col]) & set(top_item_dist.index))\n",
        "        pop_count.append(no_user_pop_items)\n",
        "        user_hist.append(no_user_items) \n",
        "        pop_fraq.append(no_user_pop_items / no_user_items)\n",
        "        user_pop_item_fraq = sum(item_dist[df[item_col]] / num_users) / no_user_items\n",
        "        pop_item_fraq.append(user_pop_item_fraq)\n",
        "        i+=1\n",
        "        if i%1000==0:\n",
        "            print(i)\n",
        "    #output = open('data/'+item_col+'_pop_fraq.pkl', 'wb')\n",
        "    #pkl.dump(pop_fraq, output)\n",
        "    #output.close()\n",
        "\n",
        "    #output = open('data/'+item_col+'_user_hist.pkl', 'wb')\n",
        "    #pkl.dump(user_hist, output)\n",
        "    #output.close()\n",
        "\n",
        "    #output = open('data/'+item_col+'_pop_count.pkl', 'wb')\n",
        "    #pkl.dump(pop_count, output)\n",
        "    #output.close()\n",
        "\n",
        "    #output = open('data/'+item_col+'_pop_item_fraq.pkl', 'wb')\n",
        "    #pkl.dump(pop_item_fraq, output)\n",
        "    #output.close()\n",
        "\n",
        "    return pop_count,user_hist,pop_fraq, pop_item_fraq"
      ],
      "metadata": {
        "id": "heWAn1_Obep_"
      },
      "execution_count": 37,
      "outputs": []
    },
    {
      "cell_type": "code",
      "source": [
        "pop_count,user_hist,pop_fraq, pop_item_fraq = calculate_popularity(df_events, top_item_dist, item_dist, num_users, \"user\", item_col)"
      ],
      "metadata": {
        "colab": {
          "base_uri": "https://localhost:8080/"
        },
        "id": "InpEYMvSbgUu",
        "outputId": "1d3f407b-a317-4d1a-9bc3-c2145fedec7e"
      },
      "execution_count": 38,
      "outputs": [
        {
          "output_type": "stream",
          "name": "stdout",
          "text": [
            "1000\n",
            "2000\n",
            "3000\n",
            "4000\n",
            "5000\n",
            "6000\n"
          ]
        }
      ]
    },
    {
      "cell_type": "code",
      "source": [
        "def plot_popularity_distribution(pop_fraq, item_col, dividing = [False,0], save = False, addition = \"\"):\n",
        "    plt.figure()\n",
        "    ax = plt.axes()\n",
        "    ax.spines['bottom'].set_color('w')\n",
        "    ax.spines['top'].set_color('w')\n",
        "    ax.spines['right'].set_color('w')\n",
        "    ax.spines['left'].set_color('w')\n",
        "    ax.spines['left'].set_zorder(0)\n",
        "    ax.xaxis.set_ticks_position('none') \n",
        "    ax.yaxis.set_ticks_position('none') \n",
        "    \n",
        "    ax.set_facecolor(\"aliceblue\")\n",
        "    plt.grid(color = \"w\",linewidth = 2 )\n",
        "    if dividing[0]:\n",
        "        y = range(len(pop_fraq))\n",
        "        x0 = int(len(y)*dividing[1]) \n",
        "        x1 = int(len(y)*(1-dividing[1]))\n",
        "        x= sorted(pop_fraq)\n",
        "        plt.plot(y[:x0+1],x[:x0+1], label=\"LowMS users\", linewidth = 5)\n",
        "        plt.plot(y[x0:x1+1],x[x0:x1+1], label = \"MedMS users\", linewidth = 5)\n",
        "        plt.plot(y[x1:],x[x1:], label = \"HighMS users\", linewidth =5)\n",
        "    else:\n",
        "        plt.plot(sorted(pop_fraq))\n",
        "    plt.xlabel('User', fontsize='15')\n",
        "    plt.xticks(fontsize='13')\n",
        "    plt.ylabel('Ratio of popular '+item_col+'s', fontsize='15')\n",
        "    plt.yticks(fontsize='13')\n",
        "    plt.axhline(y=0.8, color='black', linestyle='--', label='80% ratio of popular '+item_col+'s')\n",
        "    plt.legend(fontsize='15')\n",
        "    #plt.savefig('data/ECIR/user_artist_ratio.png', dpi=300, bbox_inches='tight')\n",
        "    if save:\n",
        "        if dividing[0]:\n",
        "            plt.savefig('graphs/'+item_col+\"_pop_dist_div\"+addition+\".png\", bbox_inches='tight')\n",
        "        else:\n",
        "            plt.savefig('graphs/'+item_col+\"_pop_dist\"+addition+\".png\", bbox_inches='tight')\n",
        "    plt.show(block=True)\n",
        "\n",
        "def plot_Lorenz(movs,cdf, item_col = \"movie\", save = False, addition = \"\"):\n",
        "    def f(t):\n",
        "        return t\n",
        "    plt.plot(movs*100, cdf*100, linewidth = 3, color = \"red\", label = \"L(x) actual\")\n",
        "    plt.plot(movs*100, movs*100, linewidth = 3, color = \"blue\", label = \"L(x) = x, distributional equality\")\n",
        "    plt.xlabel(\"100x% least consumed items\")\n",
        "    plt.ylabel(\"100y% of total amount of consumptions\")\n",
        "    section = movs*100\n",
        "    plt.legend()\n",
        "    plt.fill_between(section, f(section), color = \"lightgrey\")\n",
        "    plt.fill_between(movs*100, cdf*100, color = \"gray\")\n",
        "    if save:\n",
        "        plt.savefig('graphs/'+item_col+\"_data_Lorenz\"+addition+\".png\", bbox_inches='tight')\n",
        "    plt.show(block=True)\n",
        "\n",
        "def plot_profile_size_vs_popularity(pop_metric, user_hist, way, item_col, save = False, addition = \"\"):\n",
        "    plt.figure()\n",
        "    ax = plt.axes()\n",
        "    ax.spines['bottom'].set_color('w')\n",
        "    ax.spines['top'].set_color('w')\n",
        "    ax.spines['right'].set_color('w')\n",
        "    ax.spines['left'].set_color('w')\n",
        "    ax.spines['left'].set_zorder(0)\n",
        "    ax.xaxis.set_ticks_position('none') \n",
        "    ax.yaxis.set_ticks_position('none') \n",
        "    \n",
        "    ax.set_facecolor(\"aliceblue\")\n",
        "    plt.grid(color = \"w\",linewidth = 2 )\n",
        "    slope, intercept, r_value, p_value, std_err = stats.linregress(user_hist, pop_metric)\n",
        "    print('R-value: ' + str(r_value))\n",
        "    line = slope * np.array(user_hist) + intercept\n",
        "    plt.plot(user_hist, pop_metric, 'o', user_hist, line)\n",
        "    plt.xlabel('User profile size', fontsize='15')\n",
        "    plt.xticks(fontsize='13')\n",
        "    if way == \"count\":\n",
        "        ylabel = \"Number of popular \"+item_col+\"s\"\n",
        "    elif way == \"percentage\":\n",
        "        ylabel = 'Percentage of popular '+item_col+'s'\n",
        "    else:\n",
        "        ylabel = \"Average popularity of \"+item_col+\"s\"\n",
        "    plt.ylabel(ylabel, fontsize='15')\n",
        "    plt.yticks(fontsize='13')\n",
        "    #plt.savefig('data/ECIR/corr_user_pop.png', dpi=300, bbox_inches='tight')\n",
        "    if save:\n",
        "        plt.savefig('graphs/'+item_col+\"_\"+way+\"_vs_size\"+addition+\".png\", bbox_inches='tight')\n",
        "    plt.show(block=True)"
      ],
      "metadata": {
        "id": "48UGFx8SbiBr"
      },
      "execution_count": 39,
      "outputs": []
    },
    {
      "cell_type": "code",
      "source": [
        "plot_popularity_distribution(pop_fraq, item_col)\n",
        "plot_profile_size_vs_popularity(pop_count,user_hist, \"count\", item_col)\n",
        "plot_profile_size_vs_popularity(pop_fraq,user_hist, \"percentage\", item_col)\n",
        "plot_profile_size_vs_popularity(pop_item_fraq,user_hist, \"average\", item_col)"
      ],
      "metadata": {
        "colab": {
          "base_uri": "https://localhost:8080/",
          "height": 1000
        },
        "id": "k4zHOC5PbkpV",
        "outputId": "50fd6a27-b335-422f-ccaa-127059f3b112"
      },
      "execution_count": 40,
      "outputs": [
        {
          "output_type": "display_data",
          "data": {
            "text/plain": [
              "<Figure size 432x288 with 1 Axes>"
            ],
            "image/png": "[encoded data removed]"
          },
          "metadata": {}
        },
        {
          "output_type": "stream",
          "name": "stdout",
          "text": [
            "R-value: 0.923043590336\n"
          ]
        },
        {
          "output_type": "display_data",
          "data": {
            "text/plain": [
              "<Figure size 432x288 with 1 Axes>"
            ],
            "image/png": "[encoded data removed]"
          },
          "metadata": {}
        },
        {
          "output_type": "stream",
          "name": "stdout",
          "text": [
            "R-value: -0.013155544625724313\n"
          ]
        },
        {
          "output_type": "display_data",
          "data": {
            "text/plain": [
              "<Figure size 432x288 with 1 Axes>"
            ],
            "image/png": "[encoded data removed]"
          },
          "metadata": {}
        },
        {
          "output_type": "stream",
          "name": "stdout",
          "text": [
            "R-value: -0.033575222226251665\n"
          ]
        },
        {
          "output_type": "display_data",
          "data": {
            "text/plain": [
              "<Figure size 432x288 with 1 Axes>"
            ],
            "image/png": "[encoded data removed]"
          },
          "metadata": {}
        }
      ]
    },
    {
      "cell_type": "markdown",
      "source": [
        "## F. User groups"
      ],
      "metadata": {
        "id": "KVUtmgmnbsfI"
      }
    },
    {
      "cell_type": "code",
      "source": [
        "def sort_user_dist(user_dist,pop_count, user_hist,pop_fraq,pop_item_fraq, by = \"pop_fraq\"):\n",
        "    user_dist = user_dist.sort_index()\n",
        "    user_dist_sorted = pd.DataFrame(data = user_dist)\n",
        "    \n",
        "    user_dist_sorted.columns = [\"count\"]\n",
        "    \n",
        "    user_dist_sorted[\"pop_count\"] = pop_count\n",
        "    user_dist_sorted[\"user_hist\"] = user_hist\n",
        "    user_dist_sorted[\"pop_fraq\"] = pop_fraq\n",
        "    user_dist_sorted[\"pop_item_fraq\"] = pop_item_fraq\n",
        "    \n",
        "    user_dist_sorted = user_dist_sorted.sort_values(by=[by])\n",
        "    return user_dist_sorted\n",
        "\n",
        "def split(user_dist_sorted, top_fraction):\n",
        "    low, med, high = np.split(user_dist_sorted, [int(top_fraction*len(user_dist_sorted)), int((1-top_fraction)*len(user_dist_sorted))])\n",
        "    return low, med, high\n",
        "def calculate_group_characteristics(low, med, high):\n",
        "    low_profile_size = low.user_hist.mean()\n",
        "    med_profile_size = med.user_hist.mean()\n",
        "    high_profile_size = high.user_hist.mean()\n",
        "    \n",
        "    low_nr_users = len(low)\n",
        "    med_nr_users = len(med)\n",
        "    high_nr_users = len(high)\n",
        "    \n",
        "    low_GAP = low.pop_item_fraq.mean()\n",
        "    med_GAP = med.pop_item_fraq.mean()\n",
        "    high_GAP = high.pop_item_fraq.mean()\n",
        "    \n",
        "    return low_profile_size, med_profile_size, high_profile_size, low_nr_users, med_nr_users, high_nr_users, low_GAP, med_GAP, high_GAP"
      ],
      "metadata": {
        "id": "WDOmJLuJbl6I"
      },
      "execution_count": 41,
      "outputs": []
    },
    {
      "cell_type": "code",
      "source": [
        "user_dist_sorted = sort_user_dist(user_dist,pop_count, user_hist,pop_fraq,pop_item_fraq)\n",
        "low, med, high = split(user_dist_sorted, top_fraction)\n",
        "low_profile_size, med_profile_size, high_profile_size, low_nr_users, med_nr_users, high_nr_users, low_GAP, med_GAP, high_GAP = calculate_group_characteristics(low, med, high)"
      ],
      "metadata": {
        "id": "1whaOUMubvu0"
      },
      "execution_count": 42,
      "outputs": []
    },
    {
      "cell_type": "code",
      "source": [
        "print('LowMS GAP: ' + str(low_GAP))\n",
        "print('MedMS GAP: ' + str(med_GAP))\n",
        "print('HighMS GAP: ' + str(high_GAP))"
      ],
      "metadata": {
        "colab": {
          "base_uri": "https://localhost:8080/"
        },
        "id": "4tnrh__Gbxda",
        "outputId": "5c981472-8963-4755-b5fe-6d12eb58685d"
      },
      "execution_count": 43,
      "outputs": [
        {
          "output_type": "stream",
          "name": "stdout",
          "text": [
            "LowMS GAP: 0.0026179945388530904\n",
            "MedMS GAP: 0.005115376310090785\n",
            "HighMS GAP: 0.008074644552000724\n"
          ]
        }
      ]
    },
    {
      "cell_type": "code",
      "source": [
        "print(low.pop_fraq.mean(), med.pop_fraq.mean(), high.pop_fraq.mean())\n",
        "print(low.pop_fraq.std(), med.pop_fraq.std(), high.pop_fraq.std())"
      ],
      "metadata": {
        "colab": {
          "base_uri": "https://localhost:8080/"
        },
        "id": "6PLN3TnabywS",
        "outputId": "e683dd15-5b06-45c0-e67a-94ccdaaf78fc"
      },
      "execution_count": 44,
      "outputs": [
        {
          "output_type": "stream",
          "name": "stdout",
          "text": [
            "0.2090561732239313 0.5270867500527463 0.828974321499183\n",
            "0.10097329694007061 0.10192456254933661 0.08864008055173113\n"
          ]
        }
      ]
    },
    {
      "cell_type": "code",
      "source": [
        "def plot_group_characteristics(low_nr, med_nr, high_nr, way, item_col, save = False, addition = \"\"):\n",
        "    plt.figure()\n",
        "    ax = plt.axes()\n",
        "    ax.spines['bottom'].set_color('w')\n",
        "    ax.spines['top'].set_color('w')\n",
        "    ax.spines['right'].set_color('w')\n",
        "    ax.spines['left'].set_color('w')\n",
        "    ax.spines['left'].set_zorder(0)\n",
        "    ax.xaxis.set_ticks_position('none') \n",
        "    ax.yaxis.set_ticks_position('none') \n",
        "    \n",
        "    ax.set_facecolor(\"aliceblue\")\n",
        "    plt.bar(np.arange(3), [low_nr, med_nr, high_nr])\n",
        "    plt.xticks(np.arange(3), ['LowMS', 'MedMS', 'HighMS'])\n",
        "    plt.xlabel('User group')\n",
        "    if way==\"size\":\n",
        "        ylabel = 'Average user profile size'\n",
        "    else:\n",
        "        ylabel = \"Number of users per group\"\n",
        "    plt.ylabel(ylabel)\n",
        "    \n",
        "    print('LowMS: ' + str(low_nr))\n",
        "    print('MedMS: ' + str(med_nr))\n",
        "    print('HighMS: ' + str(high_nr))\n",
        "    if save:\n",
        "        plt.savefig('graphs/'+item_col+\"_\"+way+\"_groups\"+addition+\".png\", bbox_inches='tight')\n",
        "    plt.show(block=True)"
      ],
      "metadata": {
        "id": "KYh9Iwq7b0hI"
      },
      "execution_count": 45,
      "outputs": []
    },
    {
      "cell_type": "code",
      "source": [
        "plot_group_characteristics(low_nr_users, med_nr_users, high_nr_users, way = \"number\", item_col = item_col)\n",
        "plot_group_characteristics(low_profile_size, med_profile_size, high_profile_size, way = \"size\", item_col = item_col)"
      ],
      "metadata": {
        "colab": {
          "base_uri": "https://localhost:8080/",
          "height": 661
        },
        "id": "UWciSGXcb2Gc",
        "outputId": "731c95ca-9f13-4b9f-e2e8-efde1a66e1aa"
      },
      "execution_count": 46,
      "outputs": [
        {
          "output_type": "stream",
          "name": "stdout",
          "text": [
            "LowMS: 1271\n",
            "MedMS: 3815\n",
            "HighMS: 1272\n"
          ]
        },
        {
          "output_type": "display_data",
          "data": {
            "text/plain": [
              "<Figure size 432x288 with 1 Axes>"
            ],
            "image/png": "[encoded data removed]"
          },
          "metadata": {}
        },
        {
          "output_type": "stream",
          "name": "stdout",
          "text": [
            "LowMS: 10.991345397324942\n",
            "MedMS: 16.222804718217564\n",
            "HighMS: 9.977987421383649\n"
          ]
        },
        {
          "output_type": "display_data",
          "data": {
            "text/plain": [
              "<Figure size 432x288 with 1 Axes>"
            ],
            "image/png": "[encoded data removed]"
          },
          "metadata": {}
        }
      ]
    },
    {
      "cell_type": "code",
      "source": [
        "plot_data_distribution(item_dist, item_col, dividing = [True, top_fraction], log = False)\n",
        "plot_popularity_distribution(pop_fraq, item_col, dividing = [True,top_fraction])"
      ],
      "metadata": {
        "colab": {
          "base_uri": "https://localhost:8080/",
          "height": 562
        },
        "id": "LU60DqSqb3jI",
        "outputId": "a30d92f4-b38d-489c-d1a4-892280e0694b"
      },
      "execution_count": 47,
      "outputs": [
        {
          "output_type": "display_data",
          "data": {
            "text/plain": [
              "<Figure size 432x288 with 1 Axes>"
            ],
            "image/png": "[encoded data removed]"
          },
          "metadata": {}
        },
        {
          "output_type": "display_data",
          "data": {
            "text/plain": [
              "<Figure size 432x288 with 1 Axes>"
            ],
            "image/png": "[encoded data removed]"
          },
          "metadata": {}
        }
      ]
    },
    {
      "cell_type": "markdown",
      "source": [
        "## G. Recommendation"
      ],
      "metadata": {
        "id": "ntsQhW_DcAez"
      }
    },
    {
      "cell_type": "code",
      "source": [
        "df_events.head()"
      ],
      "metadata": {
        "colab": {
          "base_uri": "https://localhost:8080/",
          "height": 206
        },
        "id": "rXVXcmNab7is",
        "outputId": "ff2bf49c-b9ea-44a1-e2c1-cc8011504ae7"
      },
      "execution_count": 48,
      "outputs": [
        {
          "output_type": "execute_result",
          "data": {
            "text/plain": [
              "       user        book  rating\n",
              "182  276847  3426029553       8\n",
              "210  276847  3551551677      10\n",
              "211  276847  3551551685      10\n",
              "212  276847  3551551693      10\n",
              "213  276847  3551551936      10"
            ],
            "text/html": [
              "\n",
              "  <div id=\"df-a070b6bb-2518-451d-966c-5abc476027f8\">\n",
              "    <div class=\"colab-df-container\">\n",
              "      <div>\n",
              "<style scoped>\n",
              "    .dataframe tbody tr th:only-of-type {\n",
              "        vertical-align: middle;\n",
              "    }\n",
              "\n",
              "    .dataframe tbody tr th {\n",
              "        vertical-align: top;\n",
              "    }\n",
              "\n",
              "    .dataframe thead th {\n",
              "        text-align: right;\n",
              "    }\n",
              "</style>\n",
              "<table border=\"1\" class=\"dataframe\">\n",
              "  <thead>\n",
              "    <tr style=\"text-align: right;\">\n",
              "      <th></th>\n",
              "      <th>user</th>\n",
              "      <th>book</th>\n",
              "      <th>rating</th>\n",
              "    </tr>\n",
              "  </thead>\n",
              "  <tbody>\n",
              "    <tr>\n",
              "      <th>182</th>\n",
              "      <td>276847</td>\n",
              "      <td>3426029553</td>\n",
              "      <td>8</td>\n",
              "    </tr>\n",
              "    <tr>\n",
              "      <th>210</th>\n",
              "      <td>276847</td>\n",
              "      <td>3551551677</td>\n",
              "      <td>10</td>\n",
              "    </tr>\n",
              "    <tr>\n",
              "      <th>211</th>\n",
              "      <td>276847</td>\n",
              "      <td>3551551685</td>\n",
              "      <td>10</td>\n",
              "    </tr>\n",
              "    <tr>\n",
              "      <th>212</th>\n",
              "      <td>276847</td>\n",
              "      <td>3551551693</td>\n",
              "      <td>10</td>\n",
              "    </tr>\n",
              "    <tr>\n",
              "      <th>213</th>\n",
              "      <td>276847</td>\n",
              "      <td>3551551936</td>\n",
              "      <td>10</td>\n",
              "    </tr>\n",
              "  </tbody>\n",
              "</table>\n",
              "</div>\n",
              "      <button class=\"colab-df-convert\" onclick=\"convertToInteractive('df-a070b6bb-2518-451d-966c-5abc476027f8')\"\n",
              "              title=\"Convert this dataframe to an interactive table.\"\n",
              "              style=\"display:none;\">\n",
              "        \n",
              "  <svg xmlns=\"http://www.w3.org/2000/svg\" height=\"24px\"viewBox=\"0 0 24 24\"\n",
              "       width=\"24px\">\n",
              "    <path d=\"M0 0h24v24H0V0z\" fill=\"none\"/>\n",
              "    <path d=\"M18.56 5.44l.94 2.06.94-2.06 2.06-.94-2.06-.94-.94-2.06-.94 2.06-2.06.94zm-11 1L8.5 8.5l.94-2.06 2.06-.94-2.06-.94L8.5 2.5l-.94 2.06-2.06.94zm10 10l.94 2.06.94-2.06 2.06-.94-2.06-.94-.94-2.06-.94 2.06-2.06.94z\"/><path d=\"M17.41 7.96l-1.37-1.37c-.4-.4-.92-.59-1.43-.59-.52 0-1.04.2-1.43.59L10.3 9.45l-7.72 7.72c-.78.78-.78 2.05 0 2.83L4 21.41c.39.39.9.59 1.41.59.51 0 1.02-.2 1.41-.59l7.78-7.78 2.81-2.81c.8-.78.8-2.07 0-2.86zM5.41 20L4 18.59l7.72-7.72 1.47 1.35L5.41 20z\"/>\n",
              "  </svg>\n",
              "      </button>\n",
              "      \n",
              "  <style>\n",
              "    .colab-df-container {\n",
              "      display:flex;\n",
              "      flex-wrap:wrap;\n",
              "      gap: 12px;\n",
              "    }\n",
              "\n",
              "    .colab-df-convert {\n",
              "      background-color: #E8F0FE;\n",
              "      border: none;\n",
              "      border-radius: 50%;\n",
              "      cursor: pointer;\n",
              "      display: none;\n",
              "      fill: #1967D2;\n",
              "      height: 32px;\n",
              "      padding: 0 0 0 0;\n",
              "      width: 32px;\n",
              "    }\n",
              "\n",
              "    .colab-df-convert:hover {\n",
              "      background-color: #E2EBFA;\n",
              "      box-shadow: 0px 1px 2px rgba(60, 64, 67, 0.3), 0px 1px 3px 1px rgba(60, 64, 67, 0.15);\n",
              "      fill: #174EA6;\n",
              "    }\n",
              "\n",
              "    [theme=dark] .colab-df-convert {\n",
              "      background-color: #3B4455;\n",
              "      fill: #D2E3FC;\n",
              "    }\n",
              "\n",
              "    [theme=dark] .colab-df-convert:hover {\n",
              "      background-color: #434B5C;\n",
              "      box-shadow: 0px 1px 3px 1px rgba(0, 0, 0, 0.15);\n",
              "      filter: drop-shadow(0px 1px 2px rgba(0, 0, 0, 0.3));\n",
              "      fill: #FFFFFF;\n",
              "    }\n",
              "  </style>\n",
              "\n",
              "      <script>\n",
              "        const buttonEl =\n",
              "          document.querySelector('#df-a070b6bb-2518-451d-966c-5abc476027f8 button.colab-df-convert');\n",
              "        buttonEl.style.display =\n",
              "          google.colab.kernel.accessAllowed ? 'block' : 'none';\n",
              "\n",
              "        async function convertToInteractive(key) {\n",
              "          const element = document.querySelector('#df-a070b6bb-2518-451d-966c-5abc476027f8');\n",
              "          const dataTable =\n",
              "            await google.colab.kernel.invokeFunction('convertToInteractive',\n",
              "                                                     [key], {});\n",
              "          if (!dataTable) return;\n",
              "\n",
              "          const docLinkHtml = 'Like what you see? Visit the ' +\n",
              "            '<a target=\"_blank\" href=https://colab.research.google.com/notebooks/data_table.ipynb>data table notebook</a>'\n",
              "            + ' to learn more about interactive tables.';\n",
              "          element.innerHTML = '';\n",
              "          dataTable['output_type'] = 'display_data';\n",
              "          await google.colab.output.renderOutput(dataTable, element);\n",
              "          const docLink = document.createElement('div');\n",
              "          docLink.innerHTML = docLinkHtml;\n",
              "          element.appendChild(docLink);\n",
              "        }\n",
              "      </script>\n",
              "    </div>\n",
              "  </div>\n",
              "  "
            ]
          },
          "metadata": {},
          "execution_count": 48
        }
      ]
    },
    {
      "cell_type": "markdown",
      "source": [
        "### G.1 Cornac"
      ],
      "metadata": {
        "id": "9CnuKZqicFy4"
      }
    },
    {
      "cell_type": "code",
      "source": [
        "df_events_cornac = df_events.copy()\n",
        "mapping_dict = {} # Create a dictionary that maps each ISBN to an integer.\n",
        "i=0\n",
        "for book in df_events_cornac[item_col].unique():\n",
        "    mapping_dict[book] = i\n",
        "    i+=1\n",
        "df_events_cornac[item_col] = df_events_cornac[item_col].map(lambda x: mapping_dict.get(x,x)) # Map in the ratings file"
      ],
      "metadata": {
        "id": "8b9l5_0YcDh0"
      },
      "execution_count": 49,
      "outputs": []
    },
    {
      "cell_type": "code",
      "source": [
        "df_events_cornac.user = df_events_cornac.user.astype(\"string\")\n",
        "df_events_cornac[item_col] = df_events_cornac[item_col].astype(\"string\")"
      ],
      "metadata": {
        "id": "1S0DpfSAcJpB"
      },
      "execution_count": 50,
      "outputs": []
    },
    {
      "cell_type": "code",
      "source": [
        "df_item_dist_cornac = df_item_dist.rename(index = mapping_dict)"
      ],
      "metadata": {
        "id": "RRpiPBwycQbx"
      },
      "execution_count": 51,
      "outputs": []
    },
    {
      "cell_type": "code",
      "source": [
        "data = list(df_events_cornac[[\"user\",item_col,predict_col]].to_records(index = False))"
      ],
      "metadata": {
        "id": "AtSBD6pvcTW5"
      },
      "execution_count": 52,
      "outputs": []
    },
    {
      "cell_type": "code",
      "source": [
        "# Split the data based on ratio\n",
        "rs = RatioSplit(data=data, test_size=test_size, rating_threshold=rating_threshold, seed=0)"
      ],
      "metadata": {
        "id": "cN9s6kqxcXkH"
      },
      "execution_count": 53,
      "outputs": []
    },
    {
      "cell_type": "code",
      "source": [
        "# initialize models, here we are comparing: simple, traditional, and neural networks based models\n",
        "models = [\n",
        "          # 1: Random\n",
        "          # 2: MostPop\n",
        "          MostPop(),\n",
        "          # 3: UserKNN\n",
        "          # 4: BPR\n",
        "          BPR(k=10, max_iter=200, learning_rate=0.001, lambda_reg=0.01, seed=123),\n",
        "          # 5: MF\n",
        "          MF(k=30, max_iter=100, learning_rate=0.01, lambda_reg=0.001, seed=123),\n",
        "          # 6: PMF\n",
        "          PMF(k=10, max_iter=100, learning_rate=0.001, lambda_reg=0.001),\n",
        "          # 7: NMF\n",
        "          CornacNMF(k=15, max_iter=50, learning_rate=0.005, lambda_u=0.06, lambda_v=0.06, lambda_bu=0.02, lambda_bi=0.02, use_bias=False, verbose=True, seed=123),\n",
        "          # 8: WMF\n",
        "          WMF(k=50, max_iter=50, learning_rate=0.001, lambda_u=0.01, lambda_v=0.01, verbose=True, seed=123),\n",
        "          # 9: PF\n",
        "          HPF(k=50, seed=123, hierarchical=False, name=\"PF\"),\n",
        "          # 10: NueMF\n",
        "          NeuMF(num_factors=8, layers=[32, 16, 8], act_fn=\"tanh\", num_epochs=1, num_neg=3, batch_size=256, lr=0.001, seed=42, verbose=True),\n",
        "          # 11: VAECF\n",
        "          VAECF(k=10, autoencoder_structure=[20], act_fn=\"tanh\", likelihood=\"mult\", n_epochs=100, batch_size=100, learning_rate=0.001, beta=1.0, seed=123, use_gpu=True, verbose=True)\n",
        "          ]"
      ],
      "metadata": {
        "id": "WIUHUx7acZMW"
      },
      "execution_count": 54,
      "outputs": []
    },
    {
      "cell_type": "code",
      "source": [
        "# define metrics to evaluate the models\n",
        "metrics = [MAE(), MSE(), RMSE(), AUC(), MAP(), MRR(), \n",
        "           Precision(k=5), Precision(k=10), Precision(k=20), Precision(k=50),\n",
        "           Recall(k=5), Recall(k=10), Recall(k=20), Recall(k=50),\n",
        "           NDCG(k=5), NDCG(k=10), NDCG(k=20), NDCG(k=50),\n",
        "           FMeasure(k=5), FMeasure(k=10), FMeasure(k=20), FMeasure(k=50)]\n",
        "\n",
        "# put it together in an experiment, voilà!\n",
        "exp = cornac.Experiment(eval_method=rs, models=models, metrics=metrics, user_based=True)\n",
        "exp.run()"
      ],
      "metadata": {
        "colab": {
          "base_uri": "https://localhost:8080/",
          "height": 66,
          "referenced_widgets": [
            "eac9bab112674403b837a58b5379d715",
            "5e9c2b1afbca49e896e9fb484ab23f5f",
            "4ffcc740375b472c84b5e0870beaaf12",
            "569eda68965849268fbadfa5c67e09c8",
            "5927f00fb44f4558937ad561fe9f3394",
            "a626c4ae1e474ab38d9a7134422192fd",
            "45c6a8a6189442bfafbc2f4333fdd9e0",
            "0282bde2a721432d911e74c47e45d8ed",
            "43c12f99541a4a0bb1be4164b95186de",
            "5ef5154a091f4f2bbc2a9c46d7501a0d",
            "a010eb641b484632948f4eb0ed503d7f"
          ]
        },
        "id": "kho6vULvca64",
        "outputId": "0d16f42b-5668-4fc9-83d2-169e49f5d9d9"
      },
      "execution_count": null,
      "outputs": [
        {
          "output_type": "display_data",
          "data": {
            "text/plain": [
              "  0%|          | 0/50 [00:00<?, ?it/s]"
            ],
            "application/vnd.jupyter.widget-view+json": {
              "version_major": 2,
              "version_minor": 0,
              "model_id": "eac9bab112674403b837a58b5379d715"
            }
          },
          "metadata": {}
        },
        {
          "output_type": "stream",
          "name": "stdout",
          "text": [
            "Optimization finished!\n"
          ]
        }
      ]
    },
    {
      "cell_type": "code",
      "source": [
        "def compute_user_knn(C):\n",
        "  ctime = time.time()\n",
        "  print(\"Training User-based Collaborative Filtering...\", )\n",
        "\n",
        "  sim = C.dot(C.T)\n",
        "  norms = [norm(C[i]) for i in range(C.shape[0])]\n",
        "\n",
        "  for i in tqdm(range(C.shape[0])):\n",
        "    sim[i][i] = 0.0\n",
        "    for j in range(i+1, C.shape[0]):\n",
        "      sim[i][j] /= (norms[i] * norms[j])\n",
        "      sim[j][i] /= (norms[i] * norms[j])\n",
        "\n",
        "  print(\"Done. Elapsed time:\", time.time() - ctime, \"s\")\n",
        "  rec_score = sim.dot(C)\n",
        "  return rec_score"
      ],
      "metadata": {
        "id": "pcNHy-lpcchm"
      },
      "execution_count": null,
      "outputs": []
    },
    {
      "cell_type": "code",
      "source": [
        "def read_training_data():\n",
        "  training_matrix = np.zeros((rs.train_set.matrix.shape[0], rs.train_set.matrix.shape[1]))\n",
        "  for uid in tqdm(rs.train_set.uid_map.values()):\n",
        "    for iid in rs.train_set.iid_map.values():\n",
        "      training_matrix[uid, iid] = rs.train_set.matrix[uid, iid]\n",
        "  return training_matrix"
      ],
      "metadata": {
        "id": "95O2ecRJcfD4"
      },
      "execution_count": null,
      "outputs": []
    },
    {
      "cell_type": "code",
      "source": [
        "# creating users-books rating matrix (will be used for User-KNN algorithm)\n",
        "training_matrix = read_training_data()"
      ],
      "metadata": {
        "id": "MdOY0_2vcgP_"
      },
      "execution_count": null,
      "outputs": []
    },
    {
      "cell_type": "code",
      "source": [
        "# running User-KNN algorithms and getting the user-book scores\n",
        "user_knn_scores = compute_user_knn(training_matrix)"
      ],
      "metadata": {
        "id": "IhDJPH9IciRH"
      },
      "execution_count": null,
      "outputs": []
    },
    {
      "cell_type": "code",
      "source": [
        "# UserKNN recommendation algorithm\n",
        "def get_top_n_UserKNN(n=10):\n",
        "    print(\"User-KNN model is selected:\")\n",
        "    top_n = defaultdict(list)\n",
        "    # test_items = list(rs.test_set.iid_map.keys())\n",
        "    for uid in rs.train_set.uid_map.values():\n",
        "      user_id = list(rs.train_set.user_ids)[uid]\n",
        "      top_n_items_idxs = list(reversed(user_knn_scores[uid].argsort()))[:n]\n",
        "      for iid in top_n_items_idxs:\n",
        "        item_id = list(rs.train_set.item_ids)[iid]\n",
        "        top_n[int(user_id)].append((int(item_id), user_knn_scores[uid][iid]))\n",
        "    return top_n"
      ],
      "metadata": {
        "id": "MEBZH9Gtcjvf"
      },
      "execution_count": null,
      "outputs": []
    },
    {
      "cell_type": "code",
      "source": [
        "def get_top_n(algo_name, n=10):\n",
        "  for model in exp.models:\n",
        "    if model.name == algo_name:\n",
        "      print(model.name + \" model is selected:\")\n",
        "      top_n = defaultdict(list)\n",
        "      for uid in model.train_set.uid_map.values():\n",
        "        user_id = list(model.train_set.user_ids)[uid]\n",
        "        try:\n",
        "          item_rank = model.rank(user_idx=uid)[0] # model.rank: item rank, item_score\n",
        "        except:\n",
        "          item_rank = model.rank(user_idx=int(uid))[0]\n",
        "        # collect top N items\n",
        "        item_rank_top = item_rank[:n]\n",
        "        for iid in item_rank_top:\n",
        "          item_id = list(model.train_set.item_ids)[iid]\n",
        "          top_n[int(user_id)].append((int(item_id), model.score(uid, iid)))\n",
        "  return top_n"
      ],
      "metadata": {
        "id": "wkAtHnxZclBf"
      },
      "execution_count": null,
      "outputs": []
    },
    {
      "cell_type": "code",
      "source": [
        "# random recommendation algorithm\n",
        "def get_top_n_random(n=10):\n",
        "    print(\"Random model is selected:\")\n",
        "    top_n = defaultdict(list)\n",
        "    test_items = list(rs.test_set.iid_map.keys())\n",
        "    for uid in rs.train_set.uid_map.values():\n",
        "      if uid not in top_n.keys():\n",
        "        user_id = list(rs.train_set.user_ids)[uid]\n",
        "        for i in range(0, n):\n",
        "          top_n[int(user_id)].append((int(rd.choice(test_items)), i))\n",
        "    return top_n"
      ],
      "metadata": {
        "id": "UWdo0S--cmWf"
      },
      "execution_count": null,
      "outputs": []
    },
    {
      "cell_type": "code",
      "source": [
        "algo_names = ['Random', 'MostPop', 'UserKNN', 'MF', 'PMF', 'BPR', 'NMF', 'WMF', 'PF', 'NeuMF', 'VAECF']\n",
        "\n",
        "i = 0\n",
        "low_rec_gap_list = [] # one entry per algorithmus\n",
        "medium_rec_gap_list = []\n",
        "high_rec_gap_list = []\n",
        "\n",
        "for i in range(0, len(algo_names)):\n",
        "    df_item_dist_cornac[algo_names[i]] = 0\n",
        "    low_rec_gap = 0\n",
        "    medium_rec_gap = 0\n",
        "    high_rec_gap = 0\n",
        "    \n",
        "    if algo_names[i] == 'Random':\n",
        "      top_n = get_top_n_random(n=10)\n",
        "    elif algo_names[i] == 'UserKNN':\n",
        "      top_n = get_top_n_UserKNN(n=10)\n",
        "    else:\n",
        "      top_n = get_top_n(algo_names[i], n=10)\n",
        "    low_count = 0\n",
        "    med_count = 0\n",
        "    high_count = 0\n",
        "    for uid, user_ratings in top_n.items():\n",
        "        iid_list = []\n",
        "        for (iid, _) in user_ratings:\n",
        "            df_item_dist_cornac.loc[iid, algo_names[i]] += 1\n",
        "            iid_list.append(iid)\n",
        "        gap = sum(df_item_dist_cornac[\"count\"].loc[iid_list]) / len(iid_list)\n",
        "        if uid in low.index:\n",
        "            low_rec_gap += gap\n",
        "            low_count += 1\n",
        "        elif uid in med.index:\n",
        "            medium_rec_gap += gap\n",
        "            med_count += 1\n",
        "        elif uid in high.index:\n",
        "            high_rec_gap += gap\n",
        "            high_count += 1\n",
        "    low_rec_gap_list.append(low_rec_gap / low_count)\n",
        "    medium_rec_gap_list.append(medium_rec_gap / med_count)\n",
        "    high_rec_gap_list.append(high_rec_gap / high_count)\n",
        "    i += 1 # next algorithm"
      ],
      "metadata": {
        "id": "3OuGciSscnjd"
      },
      "execution_count": null,
      "outputs": []
    },
    {
      "cell_type": "markdown",
      "source": [
        "### Cornac results."
      ],
      "metadata": {
        "id": "hJsE_rELcr3T"
      }
    },
    {
      "cell_type": "code",
      "source": [
        "sns.set(rc = {'figure.figsize':(5,4)})\n",
        "for i in range(0, len(algo_names)):\n",
        "    plt.figure()\n",
        "    x = df_item_dist_cornac[\"count\"]\n",
        "    y = df_item_dist_cornac[algo_names[i]]\n",
        "\n",
        "    plt.plot(x, y, 'o')\n",
        "    plt.title(algo_names[i])\n",
        "    plt.xlabel('Book popularity', fontsize='15')\n",
        "    plt.ylabel('Recommendation frequency', fontsize='15')\n",
        "    plt.xticks(fontsize='13')\n",
        "    plt.yticks(fontsize='13')"
      ],
      "metadata": {
        "id": "n9DCn9OAcpI_"
      },
      "execution_count": null,
      "outputs": []
    },
    {
      "cell_type": "code",
      "source": [
        "low_gap_vals = []\n",
        "medium_gap_vals = []\n",
        "high_gap_vals = []\n",
        "\n",
        "for i in range(0, len(algo_names)):\n",
        "    low_gap_vals.append((low_rec_gap_list[i] - low_GAP) / low_GAP * 100)\n",
        "    medium_gap_vals.append((medium_rec_gap_list[i] - med_GAP) / med_GAP * 100)\n",
        "    high_gap_vals.append((high_rec_gap_list[i] - high_GAP) / high_GAP * 100)"
      ],
      "metadata": {
        "id": "98medmqCctWK"
      },
      "execution_count": null,
      "outputs": []
    },
    {
      "cell_type": "code",
      "source": [
        "sns.set(rc = {'figure.figsize':(8,4)})\n",
        "\n",
        "# set width of bar\n",
        "barWidth = 0.07\n",
        "\n",
        "# set height of bar\n",
        "bars1 = [low_gap_vals[0], medium_gap_vals[0], high_gap_vals[0]]\n",
        "bars2 = [low_gap_vals[1], medium_gap_vals[1], high_gap_vals[1]]\n",
        "bars3 = [low_gap_vals[2], medium_gap_vals[2], high_gap_vals[2]]\n",
        "bars4 = [low_gap_vals[3], medium_gap_vals[3], high_gap_vals[3]]\n",
        "bars5 = [low_gap_vals[4], medium_gap_vals[4], high_gap_vals[4]]\n",
        "bars6 = [low_gap_vals[5], medium_gap_vals[5], high_gap_vals[5]]\n",
        "bars7 = [low_gap_vals[6], medium_gap_vals[6], high_gap_vals[6]]\n",
        "bars8 = [low_gap_vals[7], medium_gap_vals[7], high_gap_vals[7]]\n",
        "bars9 = [low_gap_vals[8], medium_gap_vals[8], high_gap_vals[8]]\n",
        "bars10 = [low_gap_vals[9], medium_gap_vals[9], high_gap_vals[9]]\n",
        "bars11 = [low_gap_vals[10], medium_gap_vals[10], high_gap_vals[10]]\n",
        "\n",
        "# Set position of bar on X axis\n",
        "r1 = np.arange(len(bars1))\n",
        "r2 = [x + barWidth for x in r1]\n",
        "r3 = [x + barWidth for x in r2]\n",
        "r4 = [x + barWidth for x in r3]\n",
        "r5 = [x + barWidth for x in r4]\n",
        "r6 = [x + barWidth for x in r5]\n",
        "r7 = [x + barWidth for x in r6]\n",
        "r8 = [x + barWidth for x in r7]\n",
        "r9 = [x + barWidth for x in r8]\n",
        "r10 = [x + barWidth for x in r9]\n",
        "r11 = [x + barWidth for x in r10]\n",
        "# r12 = [x + barWidth for x in r11]\n",
        "# r13 = [x + barWidth for x in r12]\n",
        "\n",
        "# ['Random', 'MostPop', 'UserKNN', 'MF', 'PMF', 'BPR', 'NMF', 'WMF', 'PF', 'NeuMF', 'VAECF']\n",
        "patterns = [ \"/\" , \"\\\\\" , \"|\" , \"-\" , \"+\" , \"x\", \"o\", \"O\", \".\", \"*\", \"--\"]\n",
        "# Make the plot\n",
        "plt.bar(r1, bars1, width=barWidth, label='Random', hatch=patterns[0])\n",
        "plt.bar(r2, bars2, width=barWidth, label='MostPop', hatch=patterns[1])\n",
        "plt.bar(r3, bars3, width=barWidth, label='UserKNN', hatch=patterns[2])\n",
        "plt.bar(r4, bars4, width=barWidth, label='MF', hatch=patterns[3])\n",
        "plt.bar(r5, bars5, width=barWidth, label='PMF', hatch=patterns[4])\n",
        "plt.bar(r6, bars6, width=barWidth, label='BPR', hatch=patterns[5])\n",
        "plt.bar(r7, bars7, width=barWidth, label='NMF', hatch=patterns[6])\n",
        "plt.bar(r8, bars8, width=barWidth, label='WMF', hatch=patterns[7])\n",
        "plt.bar(r9, bars9, width=barWidth, label='PF', hatch=patterns[8])\n",
        "plt.bar(r10, bars10, width=barWidth, label='NeuMF', hatch=patterns[9])\n",
        "plt.bar(r11, bars11, width=barWidth, label='VAECF', hatch=patterns[10])\n",
        "\n",
        "# Add xticks on the middle of the group bars + show legend\n",
        "plt.xlabel('User group', fontsize='14')\n",
        "plt.ylabel('% $\\Delta$ GAP', fontsize='14')\n",
        "plt.xticks([r + barWidth + 0.3 for r in range(len(bars1))], ['Niche', 'Diverse', 'BestSeller'], fontsize='13')\n",
        "plt.yticks(fontsize='10')\n",
        "plt.legend(bbox_to_anchor=(1.02, 1), loc=2, borderaxespad=0., framealpha=1, fontsize='12')\n",
        "plt.show()"
      ],
      "metadata": {
        "id": "eFLBaWGhcu7W"
      },
      "execution_count": null,
      "outputs": []
    },
    {
      "cell_type": "code",
      "source": [],
      "metadata": {
        "id": "WqMfFNTbcw2Y"
      },
      "execution_count": null,
      "outputs": []
    }
  ]
}