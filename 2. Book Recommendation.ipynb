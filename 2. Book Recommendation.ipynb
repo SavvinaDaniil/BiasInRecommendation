{
 "cells": [
  {
   "cell_type": "markdown",
   "metadata": {
    "id": "GdmWUJCl6USJ"
   },
   "source": [
    "<a href=\"https://colab.research.google.com/github/SavvinaDaniil/BiasInRecommendation/blob/main/2.%20Book%20Recommendation.ipynb\" target=\"_parent\"><img src=\"https://colab.research.google.com/assets/colab-badge.svg\" alt=\"Open in Colab\"/></a>"
   ]
  },
  {
   "cell_type": "markdown",
   "metadata": {
    "id": "UZEwzP5d6USR"
   },
   "source": [
    "This notebook should be run on Google Colab."
   ]
  },
  {
   "cell_type": "markdown",
   "metadata": {
    "id": "FCeSb4Vu6USS"
   },
   "source": [
    "# Process\n",
    "In this notebook, I will train the book recommendation algorithms using two different packages: <a href=\"http://surpriselib.com/\">Surprise</a> & <a href=\"https://cornac.readthedocs.io/en/latest/\">Cornac</a>. "
   ]
  },
  {
   "cell_type": "markdown",
   "metadata": {
    "id": "Q7QlcgcE6USU"
   },
   "source": [
    "## A. Import libraries"
   ]
  },
  {
   "cell_type": "code",
   "execution_count": 1,
   "metadata": {
    "colab": {
     "base_uri": "https://localhost:8080/"
    },
    "id": "VPmwTeS66USV",
    "outputId": "7f18a8f0-2bc6-42d6-c3de-3d1ed0eecf1d",
    "scrolled": true
   },
   "outputs": [
    {
     "name": "stdout",
     "output_type": "stream",
     "text": [
      "Collecting cornac\n",
      "  Downloading cornac-1.14.2-cp37-cp37m-manylinux1_x86_64.whl (12.4 MB)\n",
      "\u001b[K     |████████████████████████████████| 12.4 MB 4.5 MB/s \n",
      "\u001b[?25hRequirement already satisfied: tqdm>=4.19 in /usr/local/lib/python3.7/dist-packages (from cornac) (4.64.0)\n",
      "Collecting powerlaw\n",
      "  Downloading powerlaw-1.5-py3-none-any.whl (24 kB)\n",
      "Requirement already satisfied: scipy in /usr/local/lib/python3.7/dist-packages (from cornac) (1.4.1)\n",
      "Requirement already satisfied: numpy in /usr/local/lib/python3.7/dist-packages (from cornac) (1.21.6)\n",
      "Requirement already satisfied: matplotlib in /usr/local/lib/python3.7/dist-packages (from powerlaw->cornac) (3.2.2)\n",
      "Requirement already satisfied: mpmath in /usr/local/lib/python3.7/dist-packages (from powerlaw->cornac) (1.2.1)\n",
      "Requirement already satisfied: kiwisolver>=1.0.1 in /usr/local/lib/python3.7/dist-packages (from matplotlib->powerlaw->cornac) (1.4.2)\n",
      "Requirement already satisfied: cycler>=0.10 in /usr/local/lib/python3.7/dist-packages (from matplotlib->powerlaw->cornac) (0.11.0)\n",
      "Requirement already satisfied: pyparsing!=2.0.4,!=2.1.2,!=2.1.6,>=2.0.1 in /usr/local/lib/python3.7/dist-packages (from matplotlib->powerlaw->cornac) (3.0.8)\n",
      "Requirement already satisfied: python-dateutil>=2.1 in /usr/local/lib/python3.7/dist-packages (from matplotlib->powerlaw->cornac) (2.8.2)\n",
      "Requirement already satisfied: typing-extensions in /usr/local/lib/python3.7/dist-packages (from kiwisolver>=1.0.1->matplotlib->powerlaw->cornac) (4.2.0)\n",
      "Requirement already satisfied: six>=1.5 in /usr/local/lib/python3.7/dist-packages (from python-dateutil>=2.1->matplotlib->powerlaw->cornac) (1.15.0)\n",
      "Installing collected packages: powerlaw, cornac\n",
      "Successfully installed cornac-1.14.2 powerlaw-1.5\n",
      "Collecting surprise\n",
      "  Downloading surprise-0.1-py2.py3-none-any.whl (1.8 kB)\n",
      "Collecting scikit-surprise\n",
      "  Downloading scikit-surprise-1.1.1.tar.gz (11.8 MB)\n",
      "\u001b[K     |████████████████████████████████| 11.8 MB 6.6 MB/s \n",
      "\u001b[?25hRequirement already satisfied: joblib>=0.11 in /usr/local/lib/python3.7/dist-packages (from scikit-surprise->surprise) (1.1.0)\n",
      "Requirement already satisfied: numpy>=1.11.2 in /usr/local/lib/python3.7/dist-packages (from scikit-surprise->surprise) (1.21.6)\n",
      "Requirement already satisfied: scipy>=1.0.0 in /usr/local/lib/python3.7/dist-packages (from scikit-surprise->surprise) (1.4.1)\n",
      "Requirement already satisfied: six>=1.10.0 in /usr/local/lib/python3.7/dist-packages (from scikit-surprise->surprise) (1.15.0)\n",
      "Building wheels for collected packages: scikit-surprise\n",
      "  Building wheel for scikit-surprise (setup.py) ... \u001b[?25l\u001b[?25hdone\n",
      "  Created wheel for scikit-surprise: filename=scikit_surprise-1.1.1-cp37-cp37m-linux_x86_64.whl size=1630167 sha256=987c8ebc8475b4c94f578432e2708fb0a4931c322c2f32d98b31c578ced3c9c9\n",
      "  Stored in directory: /root/.cache/pip/wheels/76/44/74/b498c42be47b2406bd27994e16c5188e337c657025ab400c1c\n",
      "Successfully built scikit-surprise\n",
      "Installing collected packages: scikit-surprise, surprise\n",
      "Successfully installed scikit-surprise-1.1.1 surprise-0.1\n"
     ]
    }
   ],
   "source": [
    "!pip install cornac\n",
    "!pip install surprise"
   ]
  },
  {
   "cell_type": "code",
   "execution_count": 52,
   "metadata": {
    "id": "47V5DR7s6USa"
   },
   "outputs": [],
   "source": [
    "%tensorflow_version 1.x\n",
    "import warnings\n",
    "warnings.simplefilter(action='ignore', category=FutureWarning)\n",
    "import os\n",
    "import matplotlib.pyplot as plt\n",
    "import random as rd\n",
    "import pandas as pd\n",
    "import numpy as np\n",
    "#from run_algorithms import train_algorithms, train_algorithms_kf, prepare_dataset, prepare_dataset_kf\n",
    "from tqdm import tqdm\n",
    "import time\n",
    "pd.set_option(\"display.precision\", 6)\n",
    "\n",
    "# Cornac imports\n",
    "import cornac\n",
    "from cornac.eval_methods import RatioSplit\n",
    "from cornac.data import Reader as CornacReader #Reader exists in both packages\n",
    "from cornac.models import MostPop, MF, PMF, BPR, NeuMF, WMF, HPF, VAECF, NMF\n",
    "from cornac.models import NMF as CornacNMF #NMF exists in both packages\n",
    "from cornac.metrics import MAE, MSE, RMSE, Precision, Recall, NDCG, AUC, MAP, FMeasure, MRR\n",
    "\n",
    "from surprise import BaselineOnly, KNNBasic, KNNWithMeans, SVDpp, SVD\n",
    "from surprise import NMF as SurpriseNMF #NMF exists in both packages\n",
    "from surprise import Dataset\n",
    "from surprise import Reader as SurpriseReader #Reader exists in both packages\n",
    "from surprise.model_selection import train_test_split, KFold, GridSearchCV\n",
    "from surprise import accuracy\n",
    "from sklearn.preprocessing import MinMaxScaler\n",
    "\n",
    "from collections import defaultdict\n",
    "from scipy import stats\n",
    "from numpy.linalg import norm\n",
    "import seaborn as sns\n",
    "# set plot style: grey grid in the background:\n",
    "sns.set(style=\"darkgrid\")\n",
    "pd.set_option(\"display.precision\", 8)"
   ]
  },
  {
   "cell_type": "markdown",
   "metadata": {
    "id": "Sxc749MS6USc"
   },
   "source": [
    "## B. Set hyperparameters\n",
    "There are certain hyperparameters that need to be tuned before the run. "
   ]
  },
  {
   "cell_type": "code",
   "execution_count": 3,
   "metadata": {
    "id": "KpDdroKt6USd"
   },
   "outputs": [],
   "source": [
    "item_threshold = 5 # remove users with less than item_threshold items\n",
    "user_threshold = 5 # remove items with less than user_threshold users\n",
    "top_threshold = 200 # remove users who have rated more than top_threshold items\n",
    "recommendation_type = \"books\" # books, music or movies\n",
    "item_col = \"book\" # the item column\n",
    "my_seed = 0 # random_seed\n",
    "top_fraction_items = 0.2 # the limit for an item to be considered popular\n",
    "top_fraction_users = 0.2# the limit for a user to be considered High Mainstriminess\n",
    "split_by = \"pop_fraq\" # sort users by fraction of popular items (pop_fraq) or by average popularity in profile (pop_item_fraq)\n",
    "test_size = 0.2 # the percentage of \"hold out\" data that are used for testing\n",
    "rating_threshold = 1.0 # needed for the cornac library\n",
    "predict_col = \"rating\" # the column we are predicting\n",
    "train_way = \"simple_split\"\n",
    "n_splits = 5 # the amount of splits\n",
    "\n",
    "if train_way == \"simple_split\": n_splits = 1\n",
    "rd.seed(my_seed)\n",
    "np.random.seed(my_seed)"
   ]
  },
  {
   "cell_type": "markdown",
   "metadata": {
    "id": "dSnYGMbb6USg"
   },
   "source": [
    "These additions will be useful so we can load and save the different files (plots and processed data) with clarity on the hyperparameters."
   ]
  },
  {
   "cell_type": "code",
   "execution_count": 4,
   "metadata": {
    "id": "oYgsM9m86USh"
   },
   "outputs": [],
   "source": [
    "addition_1 = \"_u\"+str(item_threshold)+\"_i\"+str(user_threshold)+\"_t\"+str(top_threshold)\n",
    "addition_2 = addition_1 + \"_tfi\"+str(int(100*top_fraction_items))\n",
    "addition_3 = addition_2 + \"_tfu\"+str(int(100*top_fraction_users))\n",
    "addition_4 = addition_3 + (\"_sbpf\" if (split_by==\"pop_fraq\") else \"_sbpif\")"
   ]
  },
  {
   "cell_type": "markdown",
   "metadata": {
    "id": "MbqK-CH56USj"
   },
   "source": [
    "## C. Read files"
   ]
  },
  {
   "cell_type": "code",
   "execution_count": 5,
   "metadata": {
    "id": "utMWqIUK6USk"
   },
   "outputs": [],
   "source": [
    "user_events_file = \"https://raw.githubusercontent.com/SavvinaDaniil/BiasInRecommendation/main/data/processed/\"+recommendation_type+\"/ratings\"+addition_1+\".csv\"\n",
    "high_user_file = \"https://raw.githubusercontent.com/SavvinaDaniil/BiasInRecommendation/main/data/processed/\"+recommendation_type+\"/high_users\"+addition_4+\".csv\"\n",
    "low_user_file = \"https://raw.githubusercontent.com/SavvinaDaniil/BiasInRecommendation/main/data/processed/\"+recommendation_type+\"/low_users\"+addition_4+\".csv\"\n",
    "medium_user_file = \"https://raw.githubusercontent.com/SavvinaDaniil/BiasInRecommendation/main/data/processed/\"+recommendation_type+\"/med_users\"+addition_4+\".csv\"\n",
    "df_item_dist_file = \"https://raw.githubusercontent.com/SavvinaDaniil/BiasInRecommendation/main/data/processed/\"+recommendation_type+\"/item_pop_dist\"+addition_1+\".csv\""
   ]
  },
  {
   "cell_type": "code",
   "execution_count": 6,
   "metadata": {
    "id": "_vg8t_FMIVgV"
   },
   "outputs": [],
   "source": [
    "male_oriented_file = \"https://raw.githubusercontent.com/SavvinaDaniil/BiasInRecommendation/main/data/processed/books/high_users_u5_i5_t200_tfu20_mfd.csv\"\n",
    "diverse_file = \"https://raw.githubusercontent.com/SavvinaDaniil/BiasInRecommendation/main/data/processed/books/med_users_u5_i5_t200_tfu20_mfd.csv\"\n",
    "female_oriented_file = \"https://raw.githubusercontent.com/SavvinaDaniil/BiasInRecommendation/main/data/processed/books/low_users_u5_i5_t200_tfu20_mfd.csv\""
   ]
  },
  {
   "cell_type": "code",
   "execution_count": 7,
   "metadata": {
    "id": "WsWUflDo8K25"
   },
   "outputs": [],
   "source": [
    "low = pd.read_csv(low_user_file, index_col=0)\n",
    "med = pd.read_csv(medium_user_file, index_col=0)\n",
    "high = pd.read_csv(high_user_file, index_col=0)"
   ]
  },
  {
   "cell_type": "code",
   "execution_count": 8,
   "metadata": {
    "id": "AIfIozpLI0KW"
   },
   "outputs": [],
   "source": [
    "male_oriented = pd.read_csv(male_oriented_file, index_col=0)\n",
    "diverse = pd.read_csv(diverse_file, index_col=0)\n",
    "female_oriented = pd.read_csv(female_oriented_file, index_col=0)"
   ]
  },
  {
   "cell_type": "code",
   "execution_count": 9,
   "metadata": {
    "colab": {
     "base_uri": "https://localhost:8080/"
    },
    "id": "RTH6eEdX4sw8",
    "outputId": "fdaf7c73-71cb-40b8-bfe0-4acf467d5702"
   },
   "outputs": [
    {
     "name": "stdout",
     "output_type": "stream",
     "text": [
      "6358 6358\n"
     ]
    }
   ],
   "source": [
    "num_users1 = len(low) + len(med) + len(high)\n",
    "num_users2 = len(male_oriented) + len(diverse) + len(female_oriented)\n",
    "print(num_users1, num_users2)\n",
    "num_users = num_users1"
   ]
  },
  {
   "cell_type": "code",
   "execution_count": 10,
   "metadata": {
    "id": "pUKKcoUG81fK"
   },
   "outputs": [],
   "source": [
    "df_item_dist = pd.read_csv(df_item_dist_file, index_col = 0)"
   ]
  },
  {
   "cell_type": "code",
   "execution_count": 11,
   "metadata": {
    "colab": {
     "base_uri": "https://localhost:8080/"
    },
    "id": "wVLsu75bjGga",
    "outputId": "8146bf69-f2e0-40b8-e2ff-07f5d4d3feaf"
   },
   "outputs": [
    {
     "data": {
      "text/plain": [
       "Int64Index([ 124,   70,   50,  465,  581,  192,   20,  657,  434,  127,\n",
       "            ...\n",
       "            4510, 4508, 4505, 4500, 4499, 4498, 4497, 4494, 4490, 6920],\n",
       "           dtype='int64', length=6921)"
      ]
     },
     "execution_count": 11,
     "metadata": {},
     "output_type": "execute_result"
    }
   ],
   "source": [
    "df_item_dist.index"
   ]
  },
  {
   "cell_type": "markdown",
   "metadata": {
    "id": "iH7BETV86USm"
   },
   "source": [
    "## D. Recommendation "
   ]
  },
  {
   "cell_type": "code",
   "execution_count": 12,
   "metadata": {
    "id": "Rm5kOIQMOUa2"
   },
   "outputs": [],
   "source": [
    "# we need two df_item_dist: one for Surprise, one for Cornac\n",
    "df_item_dist_Surprise = df_item_dist.copy()"
   ]
  },
  {
   "cell_type": "markdown",
   "metadata": {
    "id": "1ctrkzpEGyb0"
   },
   "source": [
    "### Surprise"
   ]
  },
  {
   "cell_type": "code",
   "execution_count": null,
   "metadata": {
    "id": "wGMFHd54JUOh"
   },
   "outputs": [],
   "source": [
    "# df_events = pd.read_csv(user_events_file, low_memory = False, header=0) # create dataframe"
   ]
  },
  {
   "cell_type": "code",
   "execution_count": null,
   "metadata": {
    "id": "rmZPcpzaG4dH"
   },
   "outputs": [],
   "source": [
    "# # load dataset in Surprise\n",
    "# reader = SurpriseReader(rating_scale=(df_events[predict_col].min(), df_events[predict_col].max()))\n",
    "# data = Dataset.load_from_df(df_events, reader)"
   ]
  },
  {
   "cell_type": "code",
   "execution_count": null,
   "metadata": {
    "id": "mxOL9xlVJ27r"
   },
   "outputs": [],
   "source": [
    "# # split in train and test set\n",
    "# trainset, testset = train_test_split(data, test_size = test_size, random_state = 0)"
   ]
  },
  {
   "cell_type": "code",
   "execution_count": null,
   "metadata": {
    "id": "g6M3o5Z8KMlO"
   },
   "outputs": [],
   "source": [
    "# # select and initialize algorithms\n",
    "# algo_names = [\"Random\",\n",
    "#               \"MostPopular\",\n",
    "#               #'UserItemAvg',\n",
    "#                   'UserKNN',\n",
    "#                   'UserKNNAvg',\n",
    "#                   'NMF', \n",
    "#                   'SVD']\n",
    "\n",
    "# # the default parameters for all algorithms\n",
    "# algos = [] \n",
    "# algos.append(None)#Random())\n",
    "# algos.append(None)#MostPopular())\n",
    "# #algos.append(BaselineOnly()) \n",
    "# algos.append(KNNBasic(sim_options = {'name': 'cosine', 'user_based': True})) \n",
    "# algos.append(KNNWithMeans(sim_options = {'name': 'cosine', 'user_based': True})) \n",
    "# algos.append(SurpriseNMF())\n",
    "# algos.append(SVD())"
   ]
  },
  {
   "cell_type": "code",
   "execution_count": null,
   "metadata": {
    "id": "v1t4g_mvPcXB"
   },
   "outputs": [],
   "source": [
    "# def get_top_n_Surprise(predictions, n=10):\n",
    "#     # First map the predictions to each user.\n",
    "#     top_n = defaultdict(list)\n",
    "#     for uid, iid, true_r, est, _ in predictions:\n",
    "#         top_n[uid].append((iid, est))\n",
    "#     # Then sort the predictions for each user and retrieve the k highest ones.\n",
    "#     for uid, user_ratings in top_n.items():\n",
    "#         user_ratings.sort(key=lambda x: x[1], reverse=True)\n",
    "#         top_n[uid] = user_ratings[:n]\n",
    "#     return top_n"
   ]
  },
  {
   "cell_type": "code",
   "execution_count": null,
   "metadata": {
    "id": "7EsIyRzKPrGD"
   },
   "outputs": [],
   "source": [
    "# def get_top_n_random_Surprise(testset, df_item_dist, n=10):\n",
    "#     top_n = defaultdict(list)\n",
    "#     for uid, iid, true_r in testset:\n",
    "#       if len(top_n[uid]) == 0:\n",
    "#         for i in range(0, 10):\n",
    "#           top_n[uid].append((rd.choice(df_item_dist.index), i))\n",
    "    \n",
    "#     return top_n"
   ]
  },
  {
   "cell_type": "code",
   "execution_count": null,
   "metadata": {
    "id": "EMJz96S5Pvja"
   },
   "outputs": [],
   "source": [
    "# def get_top_n_mp_Surprise(testset, item_dist, n=10):\n",
    "#     top_n = defaultdict(list)\n",
    "#     for uid, iid, true_r in testset:\n",
    "#         if len(top_n[uid]) == 0:\n",
    "#             for iid, count in df_item_dist[:n][\"count\"].items():\n",
    "#                 top_n[uid].append((iid, count))\n",
    "#     return top_n"
   ]
  },
  {
   "cell_type": "code",
   "execution_count": null,
   "metadata": {
    "id": "y2Y5C_k2g810"
   },
   "outputs": [],
   "source": [
    "# trainset_for_testing = trainset.build_anti_testset() + trainset.build_testset()"
   ]
  },
  {
   "cell_type": "code",
   "execution_count": null,
   "metadata": {
    "id": "4rSoQVlMASti"
   },
   "outputs": [],
   "source": [
    "# len(trainset_for_testing)"
   ]
  },
  {
   "cell_type": "code",
   "execution_count": null,
   "metadata": {
    "id": "3WARtuWfAU92"
   },
   "outputs": [],
   "source": [
    "# trainset2 = trainset.build_anti_testset()"
   ]
  },
  {
   "cell_type": "code",
   "execution_count": null,
   "metadata": {
    "id": "YSMxxqmhOJi_"
   },
   "outputs": [],
   "source": [
    "# i = 0\n",
    "# low_rec_gap_list = [] # one entry per algorithm\n",
    "# medium_rec_gap_list = []\n",
    "# high_rec_gap_list = []\n",
    "# start = time.time()\n",
    "\n",
    "# for i in tqdm(range(0, len(algo_names))): # for every algorithm\n",
    "#     print(\"~~~~~~~~~~~~~~~~NEW~~~~~~~~~~~~~~~~~\")\n",
    "#     df_item_dist_Surprise[algo_names[i]] = 0 # I am adding a column to Surprise\n",
    "#     low_rec_gap = 0\n",
    "#     medium_rec_gap = 0\n",
    "#     high_rec_gap = 0\n",
    "    \n",
    "#     # get accuracy for personalized approaches\n",
    "#     if algo_names[i] != 'Random' and algo_names[i] != 'MostPopular': # for proper algorithms\n",
    "#         algos[i].fit(trainset) # fit\n",
    "#         predictions = algos[i].test(trainset2) # predict\n",
    "#         print(algo_names[i]) # end of fitting\n",
    "\n",
    "#         #get_mae_of_groups(predictions, low, med, high) TO BE ADDED\n",
    "    \n",
    "#     # get top-n items and calculate gaps for all algorithms\n",
    "#     if algo_names[i] == 'Random':\n",
    "#         top_n = get_top_n_random_Surprise(trainset2, df_item_dist, n=10)\n",
    "#         print(algo_names[i])\n",
    "#     elif algo_names[i] == 'MostPopular':\n",
    "#         top_n = get_top_n_mp_Surprise(trainset2, df_item_dist, n=10)\n",
    "#         print(algo_names[i])\n",
    "#     else:\n",
    "#         top_n = get_top_n_Surprise(predictions, n=10)\n",
    "\n",
    "#     # calculate GAPs\n",
    "#     low_count = 0\n",
    "#     med_count = 0\n",
    "#     high_count = 0\n",
    "#     for uid, user_ratings in top_n.items():\n",
    "#         iid_list = []\n",
    "#         for (iid, _) in user_ratings:\n",
    "#             df_item_dist_Surprise.loc[iid, algo_names[i]] += 1\n",
    "#             iid_list.append(iid)\n",
    "#         gap = sum(df_item_dist_Surprise[\"count\"].loc[iid_list]) / len(iid_list)\n",
    "#         if uid in low.index:\n",
    "#             low_rec_gap += gap\n",
    "#             low_count += 1\n",
    "#         elif uid in med.index:\n",
    "#             medium_rec_gap += gap\n",
    "#             med_count += 1\n",
    "#         elif uid in high.index:\n",
    "#             high_rec_gap += gap\n",
    "#             high_count += 1\n",
    "#     low_rec_gap_list.append(low_rec_gap / low_count)\n",
    "#     medium_rec_gap_list.append(medium_rec_gap / med_count)\n",
    "#     high_rec_gap_list.append(high_rec_gap / high_count)\n",
    "#     i += 1 # next algorithm\n",
    "#     end = time.time()\n",
    "#     print(\"It took \" + str(np.round(end-start)) + \" seconds.\")\n",
    "#     start = time.time()"
   ]
  },
  {
   "cell_type": "code",
   "execution_count": null,
   "metadata": {
    "id": "OhV-OMlwYIxJ"
   },
   "outputs": [],
   "source": [
    "# Not implemented here yet.\n",
    "# if train_way == \"kfold\":\n",
    "#     for alg in algo_names:\n",
    "#         df_item_dist[alg] = df_item_dist[alg]/n_splits"
   ]
  },
  {
   "cell_type": "code",
   "execution_count": null,
   "metadata": {
    "id": "aLW_xY3dYYaN"
   },
   "outputs": [],
   "source": [
    "# #len(np.unique([x[0] for x in trainset_for_testing])),\n",
    "# len(np.unique([x[0] for x in testset]))  # unique users\n"
   ]
  },
  {
   "cell_type": "code",
   "execution_count": null,
   "metadata": {
    "id": "C5ICEtVTikmG"
   },
   "outputs": [],
   "source": [
    "# #len(np.unique([x[1] for x in trainset_for_testing])),\n",
    "# len(np.unique([x[1] for x in testset])) # unique items"
   ]
  },
  {
   "cell_type": "markdown",
   "metadata": {
    "id": "RNCXpu13bYo1"
   },
   "source": [
    "## Save files\n",
    "To save:\n",
    "1. df_item_dist\n",
    "2. low_rec_gap_list etc"
   ]
  },
  {
   "cell_type": "code",
   "execution_count": null,
   "metadata": {
    "id": "p6Z7JKwXbYpB"
   },
   "outputs": [],
   "source": [
    "# save = True"
   ]
  },
  {
   "cell_type": "code",
   "execution_count": null,
   "metadata": {
    "id": "-pGCUO7qbYpF"
   },
   "outputs": [],
   "source": [
    "# if save:\n",
    "#   from google.colab import drive\n",
    "#   import pickle as pkl\n",
    "#   drive.mount('/content/drive')\n",
    "\n",
    "#   df_item_dist_Surprise.to_csv(\"/content/drive/My Drive/item_pop_dist\"+addition_1+\"_results_Surprise.csv\")\n",
    "#   with open(\"/content/drive/My Drive/low_rec_gap_list_Surprise\"+addition_4+\".pkl\",\"wb\") as f:\n",
    "#     pkl.dump(low_rec_gap_list,f)\n",
    "#   with open(\"/content/drive/My Drive/med_rec_gap_list_Surprise\"+addition_4+\".pkl\",\"wb\") as f:\n",
    "#     pkl.dump(medium_rec_gap_list,f)\n",
    "#   with open(\"/content/drive/My Drive/high_rec_gap_list_Surprise\"+addition_4+\".pkl\",\"wb\") as f:\n",
    "#     pkl.dump(high_rec_gap_list,f)"
   ]
  },
  {
   "cell_type": "markdown",
   "metadata": {
    "id": "fe6or3ho6USn"
   },
   "source": [
    "### Cornac"
   ]
  },
  {
   "cell_type": "code",
   "execution_count": 13,
   "metadata": {
    "id": "eMpAQsgL6USo"
   },
   "outputs": [],
   "source": [
    "# load dataset in Cornac\n",
    "os.system(\"wget \"+user_events_file)\n",
    "reader = CornacReader()\n",
    "data = reader.read(user_events_file.split(\"/\")[-1],sep =\",\", skip_lines =1)"
   ]
  },
  {
   "cell_type": "code",
   "execution_count": 14,
   "metadata": {
    "id": "lZnmi5_l6USo"
   },
   "outputs": [],
   "source": [
    "# Split the data based on ratio\n",
    "rs = RatioSplit(data=data, test_size=test_size, rating_threshold=rating_threshold, seed=0)"
   ]
  },
  {
   "cell_type": "code",
   "execution_count": 15,
   "metadata": {
    "colab": {
     "base_uri": "https://localhost:8080/"
    },
    "id": "GgSd6x89ulGI",
    "outputId": "5d7588d0-4597-42ab-d16b-9c825c2f6e92"
   },
   "outputs": [
    {
     "data": {
      "text/plain": [
       "6921"
      ]
     },
     "execution_count": 15,
     "metadata": {},
     "output_type": "execute_result"
    }
   ],
   "source": [
    "len([x for x in rs.__dict__[\"train_set\"].item_data])"
   ]
  },
  {
   "cell_type": "code",
   "execution_count": 16,
   "metadata": {
    "id": "otDvr-GB6USp"
   },
   "outputs": [],
   "source": [
    "# initialize models, here we are comparing: simple, traditional, and neural networks based models\n",
    "models = [\n",
    "          # 1: Random\n",
    "          # 2: MostPop\n",
    "          MostPop(),\n",
    "          # 3: UserKNN\n",
    "          # 4: BPR\n",
    "          BPR(k=10, max_iter=200, learning_rate=0.001, lambda_reg=0.01, seed=123),\n",
    "          # 5: MF\n",
    "          MF(k=30, max_iter=100, learning_rate=0.01, lambda_reg=0.001, seed=123),\n",
    "          # 6: PMF\n",
    "          PMF(k=10, max_iter=100, learning_rate=0.001, lambda_reg=0.001),\n",
    "          # 7: NMF\n",
    "          NMF(k=15, max_iter=50, learning_rate=0.005, lambda_u=0.06, lambda_v=0.06, lambda_bu=0.02, lambda_bi=0.02, use_bias=False, verbose=True, seed=123),\n",
    "          # 8: WMF\n",
    "          WMF(k=50, max_iter=50, learning_rate=0.001, lambda_u=0.01, lambda_v=0.01, verbose=True, seed=123),\n",
    "          # 9: PF\n",
    "          HPF(k=50, seed=123, hierarchical=False, name=\"PF\"),\n",
    "          # 10: NueMF\n",
    "          NeuMF(num_factors=8, layers=[32, 16, 8], act_fn=\"tanh\", num_epochs=1, num_neg=3, batch_size=256, lr=0.001, seed=42, verbose=True),\n",
    "          # 11: VAECF\n",
    "          VAECF(k=10, autoencoder_structure=[20], act_fn=\"tanh\", likelihood=\"mult\", n_epochs=100, batch_size=100, learning_rate=0.001, beta=1.0, seed=123, use_gpu=True, verbose=True)\n",
    "          ]"
   ]
  },
  {
   "cell_type": "code",
   "execution_count": 17,
   "metadata": {
    "colab": {
     "base_uri": "https://localhost:8080/",
     "height": 475,
     "referenced_widgets": [
      "97fee9b7651e41d4b4474b7adac4bcf8",
      "293c57e19ab54e7eb4f9b2e9199b647e",
      "865f6cfdc7484ceab5a913284123f0c1",
      "8c5ce1d9f9e942e7b8f0ce3e79abcf1e",
      "0e505592a0a0479ebc262d24971674ba",
      "23287bd4f5b44bc3ab67f38ee0d20497",
      "01b64f222a334e888ed7d93e854988d0",
      "d9658950df2f49a18cfa5a8795264804",
      "1238faf77bf74275988958f9e8bb94ab",
      "2dd18156663e4020bddfee2599d5c6da",
      "031a353e8c0e4037a408910aedaabef3",
      "bc030de91e794d9ab8f3dc5a8afc40f3",
      "3d34491493844740a4fae3932b17564d",
      "13a873295cc440ba89f7776da048257e",
      "8e98e8ba599840a2a5f82a6acfef08a9",
      "1cbc9b0dbaaf4d90b444d1b2cb242f78",
      "6b47ccf2c60048ebb29475fa56ca71d9",
      "2c12b485efc9408ba6948f53d29c88a2",
      "6429dbef93a847698a4e108a5583d412",
      "3041ef1608b04cf9a13a48b31394a3eb",
      "f585f565c3904f95a8e5e3e57f6497fa",
      "637eeaa84c3647388bbb7dba1f9ee81a",
      "5807ad1d3b00465b845c82871f79956b",
      "301f731aa5a0458499880d6e777ea8cf",
      "0379d24a2da243f78c0918f8e6b65e71",
      "d3d205a87f0e46118ed5f6f39391cd42",
      "2ac96e1a639b4942aea9d11593acc76a",
      "62e7142fc2864c33a927431f16ee0ffc",
      "d7bfc137dc3241459166528af0521b12",
      "32cca4bb25ff4b0296d2fa35fe6f85ea",
      "da9dc781536f4d3a8719eab2450289e0",
      "f7eb8a2a0fa143e3b7d34c0d412eaccc",
      "5b7830dbc9b44445b5d76b2b7b645d1a",
      "1fa468519bb3481cbb9482cee7ebe71b",
      "88016feaa4434251bbcf5168ab12a1ea",
      "f45ed347976542c49df9221f203da57f",
      "1b4d542158d345a58262214903831fb9",
      "279c280d5ada46bb97e441851078c49f",
      "a3c5a98fb04343a5b70c3d5f8a8b18e1",
      "cfaaaed27a524737acf2980a93a88259",
      "927bff8995e6415598afcf9a1ee737da",
      "e2c3b9a899ce4cd2959f6eeb0c11b7b2",
      "850d4d83e2da4a6198e71dad4f1965fd",
      "8c13a658c10a4c85864e8f804d578149"
     ]
    },
    "id": "erbjctPK6USq",
    "outputId": "c769dea0-9a16-481c-c128-613fd3593562"
   },
   "outputs": [
    {
     "data": {
      "application/vnd.jupyter.widget-view+json": {
       "model_id": "97fee9b7651e41d4b4474b7adac4bcf8",
       "version_major": 2,
       "version_minor": 0
      },
      "text/plain": [
       "  0%|          | 0/50 [00:00<?, ?it/s]"
      ]
     },
     "metadata": {},
     "output_type": "display_data"
    },
    {
     "name": "stdout",
     "output_type": "stream",
     "text": [
      "Optimization finished!\n"
     ]
    },
    {
     "data": {
      "application/vnd.jupyter.widget-view+json": {
       "model_id": "bc030de91e794d9ab8f3dc5a8afc40f3",
       "version_major": 2,
       "version_minor": 0
      },
      "text/plain": [
       "  0%|          | 0/50 [00:00<?, ?it/s]"
      ]
     },
     "metadata": {},
     "output_type": "display_data"
    },
    {
     "name": "stdout",
     "output_type": "stream",
     "text": [
      "Learning completed!\n",
      "Learning...\n",
      "Learning completed!\n"
     ]
    },
    {
     "data": {
      "application/vnd.jupyter.widget-view+json": {
       "model_id": "5807ad1d3b00465b845c82871f79956b",
       "version_major": 2,
       "version_minor": 0
      },
      "text/plain": [
       "  0%|          | 0/1 [00:00<?, ?it/s]"
      ]
     },
     "metadata": {},
     "output_type": "display_data"
    },
    {
     "data": {
      "application/vnd.jupyter.widget-view+json": {
       "model_id": "1fa468519bb3481cbb9482cee7ebe71b",
       "version_major": 2,
       "version_minor": 0
      },
      "text/plain": [
       "  0%|          | 0/100 [00:00<?, ?it/s]"
      ]
     },
     "metadata": {},
     "output_type": "display_data"
    },
    {
     "name": "stdout",
     "output_type": "stream",
     "text": [
      "\n",
      "TEST:\n",
      "...\n",
      "        |    MAE |     MSE |   RMSE |    AUC |  F1@10 |  F1@20 |   F1@5 |  F1@50 |    MAP |    MRR | NDCG@10 | NDCG@20 | NDCG@5 | NDCG@50 | Precision@10 | Precision@20 | Precision@5 | Precision@50 | Recall@10 | Recall@20 | Recall@5 | Recall@50 | Train (s) | Test (s)\n",
      "------- + ------ + ------- + ------ + ------ + ------ + ------ + ------ + ------ + ------ + ------ + ------- + ------- + ------ + ------- + ------------ + ------------ + ----------- + ------------ + --------- + --------- + -------- + --------- + --------- + --------\n",
      "MostPop | 2.5202 | 10.0391 | 2.7988 | 0.6544 | 0.0105 | 0.0100 | 0.0099 | 0.0091 | 0.0147 | 0.0350 |  0.0175 |  0.0223 | 0.0141 |  0.0334 |       0.0076 |       0.0063 |      0.0092 |       0.0051 |    0.0253 |    0.0397 |   0.0151 |    0.0820 |    0.0201 |  32.7793\n",
      "BPR     | 6.5658 | 46.4381 | 6.6616 | 0.6775 | 0.0105 | 0.0102 | 0.0099 | 0.0092 | 0.0148 | 0.0350 |  0.0175 |  0.0226 | 0.0141 |  0.0334 |       0.0076 |       0.0064 |      0.0092 |       0.0051 |    0.0254 |    0.0408 |   0.0151 |    0.0814 |    2.8248 |  26.9507\n",
      "MF      | 1.3045 |  2.9675 | 1.4526 | 0.5170 | 0.0012 | 0.0015 | 0.0014 | 0.0015 | 0.0027 | 0.0064 |  0.0022 |  0.0030 | 0.0020 |  0.0047 |       0.0010 |       0.0010 |      0.0013 |       0.0008 |    0.0028 |    0.0050 |   0.0022 |    0.0110 |    0.5644 |  28.5971\n",
      "PMF     | 1.4752 |  3.4059 | 1.6145 | 0.6078 | 0.0041 | 0.0044 | 0.0038 | 0.0042 | 0.0063 | 0.0150 |  0.0062 |  0.0090 | 0.0047 |  0.0141 |       0.0030 |       0.0028 |      0.0036 |       0.0024 |    0.0091 |    0.0180 |   0.0052 |    0.0369 |    4.7483 |  32.2160\n",
      "NMF     | 2.2217 |  6.6668 | 2.3694 | 0.5194 | 0.0004 | 0.0005 | 0.0003 | 0.0008 | 0.0014 | 0.0028 |  0.0005 |  0.0008 | 0.0003 |  0.0020 |       0.0003 |       0.0003 |      0.0003 |       0.0004 |    0.0008 |    0.0019 |   0.0003 |    0.0064 |    0.9329 |  27.3534\n",
      "WMF     | 5.6896 | 36.6720 | 5.8563 | 0.7294 | 0.0149 | 0.0148 | 0.0114 | 0.0124 | 0.0165 | 0.0343 |  0.0205 |  0.0286 | 0.0131 |  0.0419 |       0.0107 |       0.0092 |      0.0103 |       0.0069 |    0.0372 |    0.0618 |   0.0180 |    0.1113 |   39.3105 |  31.2589\n",
      "PF      | 6.7031 | 48.2275 | 6.7973 | 0.6658 | 0.0096 | 0.0097 | 0.0081 | 0.0080 | 0.0118 | 0.0257 |  0.0141 |  0.0193 | 0.0101 |  0.0276 |       0.0071 |       0.0061 |      0.0074 |       0.0045 |    0.0222 |    0.0378 |   0.0122 |    0.0682 |  152.8273 |  32.4488\n",
      "NeuMF   | 6.7147 | 48.3790 | 6.8078 | 0.6765 | 0.0094 | 0.0103 | 0.0087 | 0.0088 | 0.0144 | 0.0341 |  0.0162 |  0.0224 | 0.0130 |  0.0322 |       0.0069 |       0.0064 |      0.0081 |       0.0049 |    0.0227 |    0.0418 |   0.0133 |    0.0786 |   10.4991 |  55.4584\n",
      "VAECF   | 6.7147 | 48.3790 | 6.8078 | 0.7798 | 0.0168 | 0.0163 | 0.0152 | 0.0137 | 0.0221 | 0.0474 |  0.0263 |  0.0350 | 0.0200 |  0.0500 |       0.0121 |       0.0102 |      0.0136 |       0.0076 |    0.0397 |    0.0655 |   0.0228 |    0.1221 |   67.8850 |  47.2889\n",
      "\n"
     ]
    }
   ],
   "source": [
    "# define metrics to evaluate the models\n",
    "metrics = [MAE(), MSE(), RMSE(), AUC(), MAP(), MRR(), \n",
    "           Precision(k=5), Precision(k=10), Precision(k=20), Precision(k=50),\n",
    "           Recall(k=5), Recall(k=10), Recall(k=20), Recall(k=50),\n",
    "           NDCG(k=5), NDCG(k=10), NDCG(k=20), NDCG(k=50),\n",
    "           FMeasure(k=5), FMeasure(k=10), FMeasure(k=20), FMeasure(k=50)]\n",
    "\n",
    "# put it together in an experiment, voilà!\n",
    "exp = cornac.Experiment(eval_method=rs, models=models, metrics=metrics, user_based=True)\n",
    "exp.run()"
   ]
  },
  {
   "cell_type": "code",
   "execution_count": 18,
   "metadata": {
    "id": "UnhS3ZT87sXb"
   },
   "outputs": [],
   "source": [
    "def compute_user_knn(C):\n",
    "  ctime = time.time()\n",
    "  print(\"Training User-based Collaborative Filtering...\", )\n",
    "\n",
    "  sim = C.dot(C.T)\n",
    "  norms = [norm(C[i]) for i in range(C.shape[0])]\n",
    "\n",
    "  for i in tqdm(range(C.shape[0])):\n",
    "    sim[i][i] = 0.0\n",
    "    for j in range(i+1, C.shape[0]):\n",
    "      sim[i][j] /= (norms[i] * norms[j])\n",
    "      sim[j][i] /= (norms[i] * norms[j])\n",
    "\n",
    "  print(\"Done. Elapsed time:\", time.time() - ctime, \"s\")\n",
    "  rec_score = sim.dot(C)\n",
    "  return rec_score"
   ]
  },
  {
   "cell_type": "code",
   "execution_count": 19,
   "metadata": {
    "id": "Hr55g2GF7xSl"
   },
   "outputs": [],
   "source": [
    "def read_training_data():\n",
    "  training_matrix = np.zeros((rs.train_set.matrix.shape[0], rs.train_set.matrix.shape[1]))\n",
    "  for uid in tqdm(rs.train_set.uid_map.values()):\n",
    "    for iid in rs.train_set.iid_map.values():\n",
    "      training_matrix[uid, iid] = rs.train_set.matrix[uid, iid]\n",
    "  return training_matrix"
   ]
  },
  {
   "cell_type": "code",
   "execution_count": 20,
   "metadata": {
    "colab": {
     "base_uri": "https://localhost:8080/"
    },
    "id": "V7IpeOlm70dg",
    "outputId": "a7e68d24-0316-4613-93ec-c67509ed6748"
   },
   "outputs": [
    {
     "name": "stderr",
     "output_type": "stream",
     "text": [
      "100%|██████████| 6358/6358 [29:18<00:00,  3.62it/s]\n"
     ]
    }
   ],
   "source": [
    "# creating users-books rating matrix (will be used for User-KNN algorithm)\n",
    "training_matrix = read_training_data()"
   ]
  },
  {
   "cell_type": "code",
   "execution_count": 21,
   "metadata": {
    "colab": {
     "base_uri": "https://localhost:8080/"
    },
    "id": "zw84cfLa2KiH",
    "outputId": "4b54eb15-d72b-494d-e78c-3c4b86d3f378"
   },
   "outputs": [
    {
     "data": {
      "text/plain": [
       "(6358, 6921)"
      ]
     },
     "execution_count": 21,
     "metadata": {},
     "output_type": "execute_result"
    }
   ],
   "source": [
    "len(training_matrix), len(training_matrix[0])"
   ]
  },
  {
   "cell_type": "code",
   "execution_count": 22,
   "metadata": {
    "colab": {
     "base_uri": "https://localhost:8080/"
    },
    "id": "XzkJFwrJ72Sy",
    "outputId": "eb59b8b4-9a61-47be-dacb-913da9a1175f"
   },
   "outputs": [
    {
     "name": "stdout",
     "output_type": "stream",
     "text": [
      "Training User-based Collaborative Filtering...\n"
     ]
    },
    {
     "name": "stderr",
     "output_type": "stream",
     "text": [
      "100%|██████████| 6358/6358 [00:23<00:00, 273.14it/s] \n"
     ]
    },
    {
     "name": "stdout",
     "output_type": "stream",
     "text": [
      "Done. Elapsed time: 31.670928239822388 s\n"
     ]
    }
   ],
   "source": [
    "# running User-KNN algorithms and getting the user-book scores\n",
    "user_knn_scores = compute_user_knn(training_matrix)"
   ]
  },
  {
   "cell_type": "code",
   "execution_count": 23,
   "metadata": {
    "id": "8R-5uOIt74me"
   },
   "outputs": [],
   "source": [
    "# UserKNN recommendation algorithm\n",
    "def get_top_n_UserKNN(n=10):\n",
    "    print(\"User-KNN model is selected:\")\n",
    "    top_n = defaultdict(list)\n",
    "    # test_items = list(rs.test_set.iid_map.keys())\n",
    "    for uid in rs.train_set.uid_map.values():\n",
    "      user_id = list(rs.train_set.user_ids)[uid]\n",
    "      top_n_items_idxs = list(reversed(user_knn_scores[uid].argsort()))[:n]\n",
    "      for iid in top_n_items_idxs:\n",
    "        item_id = list(rs.train_set.item_ids)[iid]\n",
    "        top_n[int(user_id)].append((int(item_id), user_knn_scores[uid][iid]))\n",
    "    return top_n"
   ]
  },
  {
   "cell_type": "code",
   "execution_count": 24,
   "metadata": {
    "id": "c8D7JzdU6PAD"
   },
   "outputs": [],
   "source": [
    "# for model in exp.models:\n",
    "#   print(model.name, len(model.rank(0)[0]))"
   ]
  },
  {
   "cell_type": "code",
   "execution_count": 25,
   "metadata": {
    "id": "awd4TmF476qI"
   },
   "outputs": [],
   "source": [
    "def get_top_n(algo_name, n=10):\n",
    "  for model in exp.models:\n",
    "    if model.name == algo_name:\n",
    "      print(model.name + \" model is selected:\")\n",
    "      top_n = defaultdict(list)\n",
    "      for uid in model.train_set.uid_map.values():\n",
    "        user_id = list(model.train_set.user_ids)[uid]\n",
    "        try:\n",
    "          item_rank = model.rank(user_idx=uid)[0] # model.rank: item rank, item_score\n",
    "        except:\n",
    "          item_rank = model.rank(user_idx=int(uid))[0]\n",
    "        # collect top N items\n",
    "        item_rank_top = item_rank[:n]\n",
    "        for iid in item_rank_top:\n",
    "          item_id = list(model.train_set.item_ids)[iid]\n",
    "          top_n[int(user_id)].append((int(item_id), model.score(uid, iid)))\n",
    "  return top_n"
   ]
  },
  {
   "cell_type": "code",
   "execution_count": 26,
   "metadata": {
    "id": "zmssLS8z7883"
   },
   "outputs": [],
   "source": [
    "# random recommendation algorithm\n",
    "def get_top_n_random(n=10):\n",
    "    print(\"Random model is selected:\")\n",
    "    top_n = defaultdict(list)\n",
    "    test_items = list(rs.test_set.iid_map.keys())\n",
    "    for uid in rs.train_set.uid_map.values():\n",
    "      if uid not in top_n.keys():\n",
    "        user_id = list(rs.train_set.user_ids)[uid]\n",
    "        for i in range(0, n):\n",
    "          top_n[int(user_id)].append((int(rd.choice(test_items)), i))\n",
    "    return top_n"
   ]
  },
  {
   "cell_type": "markdown",
   "metadata": {
    "id": "oylWDP99cUYL"
   },
   "source": [
    "# Gender"
   ]
  },
  {
   "cell_type": "code",
   "execution_count": 27,
   "metadata": {
    "id": "U_iCRmlAe5sj"
   },
   "outputs": [],
   "source": [
    "\n",
    "mapped_ratings_with_gender = pd.read_csv(\"https://raw.githubusercontent.com/SavvinaDaniil/BiasInRecommendation/main/data/processed/books/mapped_ratings.csv\", index_col=0)\n",
    "gender_dict = {}\n",
    "for isbn in mapped_ratings_with_gender.ISBN.unique():\n",
    "  gender_dict[isbn] = mapped_ratings_with_gender.gender[mapped_ratings_with_gender.ISBN == isbn].iloc[0]"
   ]
  },
  {
   "cell_type": "code",
   "execution_count": 28,
   "metadata": {
    "colab": {
     "base_uri": "https://localhost:8080/"
    },
    "id": "XdzRqPubhOoa",
    "outputId": "2c2e31e4-b719-49c2-c68a-c3cf3e977b6b"
   },
   "outputs": [
    {
     "data": {
      "text/plain": [
       "6921"
      ]
     },
     "execution_count": 28,
     "metadata": {},
     "output_type": "execute_result"
    }
   ],
   "source": [
    "len(gender_dict.keys()) #confirm"
   ]
  },
  {
   "cell_type": "code",
   "execution_count": 73,
   "metadata": {
    "id": "kXt5eyD-q5kR"
   },
   "outputs": [],
   "source": [
    "for i in range(0, len(algo_names)):\n",
    "  male_oriented[\"new_male_female_difference_\"+algo_names[i]] = 0.0\n",
    "  female_oriented[\"new_male_female_difference_\"+algo_names[i]] = 0.0\n",
    "  diverse[\"new_male_female_difference_\"+algo_names[i]] = 0.0"
   ]
  },
  {
   "cell_type": "code",
   "execution_count": 74,
   "metadata": {
    "id": "v8X61tWwtGTM"
   },
   "outputs": [],
   "source": [
    "# male_oriented.at[242118\t, \"new_male_female_difference_Random\"] = 0.3"
   ]
  },
  {
   "cell_type": "code",
   "execution_count": 76,
   "metadata": {
    "colab": {
     "base_uri": "https://localhost:8080/",
     "height": 270
    },
    "id": "90PF24FVtrd9",
    "outputId": "cf289680-9b29-47c2-e2d3-60d3738a3e83"
   },
   "outputs": [
    {
     "data": {
      "text/html": [
       "\n",
       "  <div id=\"df-566213a6-6c83-4893-b540-96480372aff6\">\n",
       "    <div class=\"colab-df-container\">\n",
       "      <div>\n",
       "<style scoped>\n",
       "    .dataframe tbody tr th:only-of-type {\n",
       "        vertical-align: middle;\n",
       "    }\n",
       "\n",
       "    .dataframe tbody tr th {\n",
       "        vertical-align: top;\n",
       "    }\n",
       "\n",
       "    .dataframe thead th {\n",
       "        text-align: right;\n",
       "    }\n",
       "</style>\n",
       "<table border=\"1\" class=\"dataframe\">\n",
       "  <thead>\n",
       "    <tr style=\"text-align: right;\">\n",
       "      <th></th>\n",
       "      <th>num_female</th>\n",
       "      <th>num_male</th>\n",
       "      <th>num_other</th>\n",
       "      <th>num_unknown</th>\n",
       "      <th>num_total</th>\n",
       "      <th>ratio_female</th>\n",
       "      <th>male_female_difference</th>\n",
       "      <th>new_male_female_difference_Random</th>\n",
       "      <th>new_male_female_difference_MostPop</th>\n",
       "      <th>new_male_female_difference_UserKNN</th>\n",
       "      <th>new_male_female_difference_MF</th>\n",
       "      <th>new_male_female_difference_PMF</th>\n",
       "      <th>new_male_female_difference_BPR</th>\n",
       "      <th>new_male_female_difference_NMF</th>\n",
       "      <th>new_male_female_difference_WMF</th>\n",
       "      <th>new_male_female_difference_PF</th>\n",
       "      <th>new_male_female_difference_NeuMF</th>\n",
       "      <th>new_male_female_difference_VAECF</th>\n",
       "    </tr>\n",
       "  </thead>\n",
       "  <tbody>\n",
       "    <tr>\n",
       "      <th>242118</th>\n",
       "      <td>1</td>\n",
       "      <td>5</td>\n",
       "      <td>0</td>\n",
       "      <td>1</td>\n",
       "      <td>7</td>\n",
       "      <td>0.14285714</td>\n",
       "      <td>0.57142857</td>\n",
       "      <td>-0.2</td>\n",
       "      <td>0.0</td>\n",
       "      <td>0.0</td>\n",
       "      <td>0.0</td>\n",
       "      <td>0.0</td>\n",
       "      <td>0.0</td>\n",
       "      <td>0.0</td>\n",
       "      <td>0.0</td>\n",
       "      <td>0.0</td>\n",
       "      <td>0.0</td>\n",
       "      <td>0.0</td>\n",
       "    </tr>\n",
       "    <tr>\n",
       "      <th>60569</th>\n",
       "      <td>1</td>\n",
       "      <td>5</td>\n",
       "      <td>0</td>\n",
       "      <td>1</td>\n",
       "      <td>7</td>\n",
       "      <td>0.14285714</td>\n",
       "      <td>0.57142857</td>\n",
       "      <td>0.5</td>\n",
       "      <td>0.0</td>\n",
       "      <td>0.0</td>\n",
       "      <td>0.0</td>\n",
       "      <td>0.0</td>\n",
       "      <td>0.0</td>\n",
       "      <td>0.0</td>\n",
       "      <td>0.0</td>\n",
       "      <td>0.0</td>\n",
       "      <td>0.0</td>\n",
       "      <td>0.0</td>\n",
       "    </tr>\n",
       "    <tr>\n",
       "      <th>96954</th>\n",
       "      <td>1</td>\n",
       "      <td>5</td>\n",
       "      <td>0</td>\n",
       "      <td>1</td>\n",
       "      <td>7</td>\n",
       "      <td>0.14285714</td>\n",
       "      <td>0.57142857</td>\n",
       "      <td>-0.1</td>\n",
       "      <td>0.0</td>\n",
       "      <td>0.0</td>\n",
       "      <td>0.0</td>\n",
       "      <td>0.0</td>\n",
       "      <td>0.0</td>\n",
       "      <td>0.0</td>\n",
       "      <td>0.0</td>\n",
       "      <td>0.0</td>\n",
       "      <td>0.0</td>\n",
       "      <td>0.0</td>\n",
       "    </tr>\n",
       "    <tr>\n",
       "      <th>177040</th>\n",
       "      <td>3</td>\n",
       "      <td>11</td>\n",
       "      <td>0</td>\n",
       "      <td>0</td>\n",
       "      <td>14</td>\n",
       "      <td>0.21428571</td>\n",
       "      <td>0.57142857</td>\n",
       "      <td>0.2</td>\n",
       "      <td>0.0</td>\n",
       "      <td>0.0</td>\n",
       "      <td>0.0</td>\n",
       "      <td>0.0</td>\n",
       "      <td>0.0</td>\n",
       "      <td>0.0</td>\n",
       "      <td>0.0</td>\n",
       "      <td>0.0</td>\n",
       "      <td>0.0</td>\n",
       "      <td>0.0</td>\n",
       "    </tr>\n",
       "    <tr>\n",
       "      <th>30985</th>\n",
       "      <td>4</td>\n",
       "      <td>16</td>\n",
       "      <td>0</td>\n",
       "      <td>1</td>\n",
       "      <td>21</td>\n",
       "      <td>0.19047619</td>\n",
       "      <td>0.57142857</td>\n",
       "      <td>0.0</td>\n",
       "      <td>0.0</td>\n",
       "      <td>0.0</td>\n",
       "      <td>0.0</td>\n",
       "      <td>0.0</td>\n",
       "      <td>0.0</td>\n",
       "      <td>0.0</td>\n",
       "      <td>0.0</td>\n",
       "      <td>0.0</td>\n",
       "      <td>0.0</td>\n",
       "      <td>0.0</td>\n",
       "    </tr>\n",
       "  </tbody>\n",
       "</table>\n",
       "</div>\n",
       "      <button class=\"colab-df-convert\" onclick=\"convertToInteractive('df-566213a6-6c83-4893-b540-96480372aff6')\"\n",
       "              title=\"Convert this dataframe to an interactive table.\"\n",
       "              style=\"display:none;\">\n",
       "        \n",
       "  <svg xmlns=\"http://www.w3.org/2000/svg\" height=\"24px\"viewBox=\"0 0 24 24\"\n",
       "       width=\"24px\">\n",
       "    <path d=\"M0 0h24v24H0V0z\" fill=\"none\"/>\n",
       "    <path d=\"M18.56 5.44l.94 2.06.94-2.06 2.06-.94-2.06-.94-.94-2.06-.94 2.06-2.06.94zm-11 1L8.5 8.5l.94-2.06 2.06-.94-2.06-.94L8.5 2.5l-.94 2.06-2.06.94zm10 10l.94 2.06.94-2.06 2.06-.94-2.06-.94-.94-2.06-.94 2.06-2.06.94z\"/><path d=\"M17.41 7.96l-1.37-1.37c-.4-.4-.92-.59-1.43-.59-.52 0-1.04.2-1.43.59L10.3 9.45l-7.72 7.72c-.78.78-.78 2.05 0 2.83L4 21.41c.39.39.9.59 1.41.59.51 0 1.02-.2 1.41-.59l7.78-7.78 2.81-2.81c.8-.78.8-2.07 0-2.86zM5.41 20L4 18.59l7.72-7.72 1.47 1.35L5.41 20z\"/>\n",
       "  </svg>\n",
       "      </button>\n",
       "      \n",
       "  <style>\n",
       "    .colab-df-container {\n",
       "      display:flex;\n",
       "      flex-wrap:wrap;\n",
       "      gap: 12px;\n",
       "    }\n",
       "\n",
       "    .colab-df-convert {\n",
       "      background-color: #E8F0FE;\n",
       "      border: none;\n",
       "      border-radius: 50%;\n",
       "      cursor: pointer;\n",
       "      display: none;\n",
       "      fill: #1967D2;\n",
       "      height: 32px;\n",
       "      padding: 0 0 0 0;\n",
       "      width: 32px;\n",
       "    }\n",
       "\n",
       "    .colab-df-convert:hover {\n",
       "      background-color: #E2EBFA;\n",
       "      box-shadow: 0px 1px 2px rgba(60, 64, 67, 0.3), 0px 1px 3px 1px rgba(60, 64, 67, 0.15);\n",
       "      fill: #174EA6;\n",
       "    }\n",
       "\n",
       "    [theme=dark] .colab-df-convert {\n",
       "      background-color: #3B4455;\n",
       "      fill: #D2E3FC;\n",
       "    }\n",
       "\n",
       "    [theme=dark] .colab-df-convert:hover {\n",
       "      background-color: #434B5C;\n",
       "      box-shadow: 0px 1px 3px 1px rgba(0, 0, 0, 0.15);\n",
       "      filter: drop-shadow(0px 1px 2px rgba(0, 0, 0, 0.3));\n",
       "      fill: #FFFFFF;\n",
       "    }\n",
       "  </style>\n",
       "\n",
       "      <script>\n",
       "        const buttonEl =\n",
       "          document.querySelector('#df-566213a6-6c83-4893-b540-96480372aff6 button.colab-df-convert');\n",
       "        buttonEl.style.display =\n",
       "          google.colab.kernel.accessAllowed ? 'block' : 'none';\n",
       "\n",
       "        async function convertToInteractive(key) {\n",
       "          const element = document.querySelector('#df-566213a6-6c83-4893-b540-96480372aff6');\n",
       "          const dataTable =\n",
       "            await google.colab.kernel.invokeFunction('convertToInteractive',\n",
       "                                                     [key], {});\n",
       "          if (!dataTable) return;\n",
       "\n",
       "          const docLinkHtml = 'Like what you see? Visit the ' +\n",
       "            '<a target=\"_blank\" href=https://colab.research.google.com/notebooks/data_table.ipynb>data table notebook</a>'\n",
       "            + ' to learn more about interactive tables.';\n",
       "          element.innerHTML = '';\n",
       "          dataTable['output_type'] = 'display_data';\n",
       "          await google.colab.output.renderOutput(dataTable, element);\n",
       "          const docLink = document.createElement('div');\n",
       "          docLink.innerHTML = docLinkHtml;\n",
       "          element.appendChild(docLink);\n",
       "        }\n",
       "      </script>\n",
       "    </div>\n",
       "  </div>\n",
       "  "
      ],
      "text/plain": [
       "        num_female  num_male  num_other  num_unknown  num_total  ratio_female  \\\n",
       "242118           1         5          0            1          7    0.14285714   \n",
       "60569            1         5          0            1          7    0.14285714   \n",
       "96954            1         5          0            1          7    0.14285714   \n",
       "177040           3        11          0            0         14    0.21428571   \n",
       "30985            4        16          0            1         21    0.19047619   \n",
       "\n",
       "        male_female_difference  new_male_female_difference_Random  \\\n",
       "242118              0.57142857                               -0.2   \n",
       "60569               0.57142857                                0.5   \n",
       "96954               0.57142857                               -0.1   \n",
       "177040              0.57142857                                0.2   \n",
       "30985               0.57142857                                0.0   \n",
       "\n",
       "        new_male_female_difference_MostPop  \\\n",
       "242118                                 0.0   \n",
       "60569                                  0.0   \n",
       "96954                                  0.0   \n",
       "177040                                 0.0   \n",
       "30985                                  0.0   \n",
       "\n",
       "        new_male_female_difference_UserKNN  new_male_female_difference_MF  \\\n",
       "242118                                 0.0                            0.0   \n",
       "60569                                  0.0                            0.0   \n",
       "96954                                  0.0                            0.0   \n",
       "177040                                 0.0                            0.0   \n",
       "30985                                  0.0                            0.0   \n",
       "\n",
       "        new_male_female_difference_PMF  new_male_female_difference_BPR  \\\n",
       "242118                             0.0                             0.0   \n",
       "60569                              0.0                             0.0   \n",
       "96954                              0.0                             0.0   \n",
       "177040                             0.0                             0.0   \n",
       "30985                              0.0                             0.0   \n",
       "\n",
       "        new_male_female_difference_NMF  new_male_female_difference_WMF  \\\n",
       "242118                             0.0                             0.0   \n",
       "60569                              0.0                             0.0   \n",
       "96954                              0.0                             0.0   \n",
       "177040                             0.0                             0.0   \n",
       "30985                              0.0                             0.0   \n",
       "\n",
       "        new_male_female_difference_PF  new_male_female_difference_NeuMF  \\\n",
       "242118                            0.0                               0.0   \n",
       "60569                             0.0                               0.0   \n",
       "96954                             0.0                               0.0   \n",
       "177040                            0.0                               0.0   \n",
       "30985                             0.0                               0.0   \n",
       "\n",
       "        new_male_female_difference_VAECF  \n",
       "242118                               0.0  \n",
       "60569                                0.0  \n",
       "96954                                0.0  \n",
       "177040                               0.0  \n",
       "30985                                0.0  "
      ]
     },
     "execution_count": 76,
     "metadata": {},
     "output_type": "execute_result"
    }
   ],
   "source": [
    "male_oriented.head()"
   ]
  },
  {
   "cell_type": "code",
   "execution_count": 77,
   "metadata": {
    "colab": {
     "base_uri": "https://localhost:8080/"
    },
    "id": "aQ1uLRRfcWHd",
    "outputId": "288414bd-763b-4841-efdc-71c16d7f3080"
   },
   "outputs": [
    {
     "name": "stdout",
     "output_type": "stream",
     "text": [
      "Random model is selected:\n",
      "MostPop model is selected:\n",
      "User-KNN model is selected:\n",
      "MF model is selected:\n",
      "PMF model is selected:\n",
      "BPR model is selected:\n",
      "NMF model is selected:\n",
      "WMF model is selected:\n",
      "PF model is selected:\n",
      "NeuMF model is selected:\n",
      "VAECF model is selected:\n"
     ]
    }
   ],
   "source": [
    "algo_names = ['Random', 'MostPop', 'UserKNN', 'MF', 'PMF', 'BPR', 'NMF', 'WMF', 'PF', 'NeuMF', 'VAECF']\n",
    "\n",
    "i = 0\n",
    "\n",
    "for i in range(0, len(algo_names)):\n",
    "    male_or_diff = 0\n",
    "    diverse_diff = 0\n",
    "    female_or_diff = 0\n",
    "    \n",
    "    if algo_names[i] == 'Random':\n",
    "      top_n = get_top_n_random(n=10)\n",
    "    elif algo_names[i] == 'UserKNN':\n",
    "      top_n = get_top_n_UserKNN(n=10)\n",
    "    else:\n",
    "      top_n = get_top_n(algo_names[i], n=10)\n",
    "\n",
    "    users = top_n.keys()\n",
    "    user_recommendations = {}\n",
    "    for user in users:\n",
    "      user_recommendations[user] = [x[0] for x in top_n[user]]\n",
    "      fem_count = 0\n",
    "      male_count = 0\n",
    "      for rec in user_recommendations[user]:\n",
    "        if gender_dict[rec] == \"male\":\n",
    "          male_count += 1\n",
    "        elif gender_dict[rec] == \"female\":\n",
    "          fem_count += 1\n",
    "      gen_dif = (male_count - fem_count)/len(user_recommendations[user])\n",
    "\n",
    "      if user in male_oriented.index:\n",
    "        male_oriented.at[user, \"new_male_female_difference_\"+algo_names[i]] = gen_dif\n",
    "      elif user in female_oriented.index:\n",
    "        female_oriented.at[user, \"new_male_female_difference_\"+algo_names[i]] = gen_dif\n",
    "      else:\n",
    "        diverse.at[user, \"new_male_female_difference_\"+algo_names[i]] = gen_dif"
   ]
  },
  {
   "cell_type": "code",
   "execution_count": 81,
   "metadata": {
    "colab": {
     "base_uri": "https://localhost:8080/",
     "height": 270
    },
    "id": "NCkGvE--xFNq",
    "outputId": "4e68ffdf-9b6c-481d-ec31-ccac7a8c2cfd"
   },
   "outputs": [
    {
     "data": {
      "text/html": [
       "\n",
       "  <div id=\"df-3f16846b-3df5-47ef-bede-034403282b3e\">\n",
       "    <div class=\"colab-df-container\">\n",
       "      <div>\n",
       "<style scoped>\n",
       "    .dataframe tbody tr th:only-of-type {\n",
       "        vertical-align: middle;\n",
       "    }\n",
       "\n",
       "    .dataframe tbody tr th {\n",
       "        vertical-align: top;\n",
       "    }\n",
       "\n",
       "    .dataframe thead th {\n",
       "        text-align: right;\n",
       "    }\n",
       "</style>\n",
       "<table border=\"1\" class=\"dataframe\">\n",
       "  <thead>\n",
       "    <tr style=\"text-align: right;\">\n",
       "      <th></th>\n",
       "      <th>num_female</th>\n",
       "      <th>num_male</th>\n",
       "      <th>num_other</th>\n",
       "      <th>num_unknown</th>\n",
       "      <th>num_total</th>\n",
       "      <th>ratio_female</th>\n",
       "      <th>male_female_difference</th>\n",
       "      <th>new_male_female_difference_Random</th>\n",
       "      <th>new_male_female_difference_MostPop</th>\n",
       "      <th>new_male_female_difference_UserKNN</th>\n",
       "      <th>new_male_female_difference_MF</th>\n",
       "      <th>new_male_female_difference_PMF</th>\n",
       "      <th>new_male_female_difference_BPR</th>\n",
       "      <th>new_male_female_difference_NMF</th>\n",
       "      <th>new_male_female_difference_WMF</th>\n",
       "      <th>new_male_female_difference_PF</th>\n",
       "      <th>new_male_female_difference_NeuMF</th>\n",
       "      <th>new_male_female_difference_VAECF</th>\n",
       "    </tr>\n",
       "  </thead>\n",
       "  <tbody>\n",
       "    <tr>\n",
       "      <th>10819</th>\n",
       "      <td>17</td>\n",
       "      <td>7</td>\n",
       "      <td>0</td>\n",
       "      <td>1</td>\n",
       "      <td>25</td>\n",
       "      <td>0.68</td>\n",
       "      <td>-0.4</td>\n",
       "      <td>-0.4</td>\n",
       "      <td>-0.5</td>\n",
       "      <td>-0.2</td>\n",
       "      <td>0.0</td>\n",
       "      <td>0.4</td>\n",
       "      <td>-0.5</td>\n",
       "      <td>0.1</td>\n",
       "      <td>0.1</td>\n",
       "      <td>-0.4</td>\n",
       "      <td>-0.4</td>\n",
       "      <td>-0.2</td>\n",
       "    </tr>\n",
       "    <tr>\n",
       "      <th>36638</th>\n",
       "      <td>3</td>\n",
       "      <td>1</td>\n",
       "      <td>0</td>\n",
       "      <td>1</td>\n",
       "      <td>5</td>\n",
       "      <td>0.60</td>\n",
       "      <td>-0.4</td>\n",
       "      <td>0.2</td>\n",
       "      <td>-0.5</td>\n",
       "      <td>-0.3</td>\n",
       "      <td>0.2</td>\n",
       "      <td>0.1</td>\n",
       "      <td>-0.5</td>\n",
       "      <td>0.1</td>\n",
       "      <td>-0.5</td>\n",
       "      <td>-0.2</td>\n",
       "      <td>-0.4</td>\n",
       "      <td>-0.2</td>\n",
       "    </tr>\n",
       "    <tr>\n",
       "      <th>36811</th>\n",
       "      <td>3</td>\n",
       "      <td>1</td>\n",
       "      <td>0</td>\n",
       "      <td>1</td>\n",
       "      <td>5</td>\n",
       "      <td>0.60</td>\n",
       "      <td>-0.4</td>\n",
       "      <td>-0.6</td>\n",
       "      <td>-0.5</td>\n",
       "      <td>-0.8</td>\n",
       "      <td>0.1</td>\n",
       "      <td>0.0</td>\n",
       "      <td>-0.5</td>\n",
       "      <td>-0.2</td>\n",
       "      <td>-0.6</td>\n",
       "      <td>1.0</td>\n",
       "      <td>-0.4</td>\n",
       "      <td>0.6</td>\n",
       "    </tr>\n",
       "    <tr>\n",
       "      <th>227327</th>\n",
       "      <td>3</td>\n",
       "      <td>1</td>\n",
       "      <td>0</td>\n",
       "      <td>1</td>\n",
       "      <td>5</td>\n",
       "      <td>0.60</td>\n",
       "      <td>-0.4</td>\n",
       "      <td>-0.1</td>\n",
       "      <td>-0.5</td>\n",
       "      <td>-0.3</td>\n",
       "      <td>0.2</td>\n",
       "      <td>-0.7</td>\n",
       "      <td>-0.5</td>\n",
       "      <td>0.5</td>\n",
       "      <td>-0.6</td>\n",
       "      <td>0.2</td>\n",
       "      <td>-0.4</td>\n",
       "      <td>-0.5</td>\n",
       "    </tr>\n",
       "    <tr>\n",
       "      <th>125039</th>\n",
       "      <td>26</td>\n",
       "      <td>10</td>\n",
       "      <td>0</td>\n",
       "      <td>4</td>\n",
       "      <td>40</td>\n",
       "      <td>0.65</td>\n",
       "      <td>-0.4</td>\n",
       "      <td>-0.4</td>\n",
       "      <td>-0.5</td>\n",
       "      <td>-0.4</td>\n",
       "      <td>-0.1</td>\n",
       "      <td>-0.3</td>\n",
       "      <td>-0.5</td>\n",
       "      <td>-0.2</td>\n",
       "      <td>0.0</td>\n",
       "      <td>0.5</td>\n",
       "      <td>-0.4</td>\n",
       "      <td>0.4</td>\n",
       "    </tr>\n",
       "  </tbody>\n",
       "</table>\n",
       "</div>\n",
       "      <button class=\"colab-df-convert\" onclick=\"convertToInteractive('df-3f16846b-3df5-47ef-bede-034403282b3e')\"\n",
       "              title=\"Convert this dataframe to an interactive table.\"\n",
       "              style=\"display:none;\">\n",
       "        \n",
       "  <svg xmlns=\"http://www.w3.org/2000/svg\" height=\"24px\"viewBox=\"0 0 24 24\"\n",
       "       width=\"24px\">\n",
       "    <path d=\"M0 0h24v24H0V0z\" fill=\"none\"/>\n",
       "    <path d=\"M18.56 5.44l.94 2.06.94-2.06 2.06-.94-2.06-.94-.94-2.06-.94 2.06-2.06.94zm-11 1L8.5 8.5l.94-2.06 2.06-.94-2.06-.94L8.5 2.5l-.94 2.06-2.06.94zm10 10l.94 2.06.94-2.06 2.06-.94-2.06-.94-.94-2.06-.94 2.06-2.06.94z\"/><path d=\"M17.41 7.96l-1.37-1.37c-.4-.4-.92-.59-1.43-.59-.52 0-1.04.2-1.43.59L10.3 9.45l-7.72 7.72c-.78.78-.78 2.05 0 2.83L4 21.41c.39.39.9.59 1.41.59.51 0 1.02-.2 1.41-.59l7.78-7.78 2.81-2.81c.8-.78.8-2.07 0-2.86zM5.41 20L4 18.59l7.72-7.72 1.47 1.35L5.41 20z\"/>\n",
       "  </svg>\n",
       "      </button>\n",
       "      \n",
       "  <style>\n",
       "    .colab-df-container {\n",
       "      display:flex;\n",
       "      flex-wrap:wrap;\n",
       "      gap: 12px;\n",
       "    }\n",
       "\n",
       "    .colab-df-convert {\n",
       "      background-color: #E8F0FE;\n",
       "      border: none;\n",
       "      border-radius: 50%;\n",
       "      cursor: pointer;\n",
       "      display: none;\n",
       "      fill: #1967D2;\n",
       "      height: 32px;\n",
       "      padding: 0 0 0 0;\n",
       "      width: 32px;\n",
       "    }\n",
       "\n",
       "    .colab-df-convert:hover {\n",
       "      background-color: #E2EBFA;\n",
       "      box-shadow: 0px 1px 2px rgba(60, 64, 67, 0.3), 0px 1px 3px 1px rgba(60, 64, 67, 0.15);\n",
       "      fill: #174EA6;\n",
       "    }\n",
       "\n",
       "    [theme=dark] .colab-df-convert {\n",
       "      background-color: #3B4455;\n",
       "      fill: #D2E3FC;\n",
       "    }\n",
       "\n",
       "    [theme=dark] .colab-df-convert:hover {\n",
       "      background-color: #434B5C;\n",
       "      box-shadow: 0px 1px 3px 1px rgba(0, 0, 0, 0.15);\n",
       "      filter: drop-shadow(0px 1px 2px rgba(0, 0, 0, 0.3));\n",
       "      fill: #FFFFFF;\n",
       "    }\n",
       "  </style>\n",
       "\n",
       "      <script>\n",
       "        const buttonEl =\n",
       "          document.querySelector('#df-3f16846b-3df5-47ef-bede-034403282b3e button.colab-df-convert');\n",
       "        buttonEl.style.display =\n",
       "          google.colab.kernel.accessAllowed ? 'block' : 'none';\n",
       "\n",
       "        async function convertToInteractive(key) {\n",
       "          const element = document.querySelector('#df-3f16846b-3df5-47ef-bede-034403282b3e');\n",
       "          const dataTable =\n",
       "            await google.colab.kernel.invokeFunction('convertToInteractive',\n",
       "                                                     [key], {});\n",
       "          if (!dataTable) return;\n",
       "\n",
       "          const docLinkHtml = 'Like what you see? Visit the ' +\n",
       "            '<a target=\"_blank\" href=https://colab.research.google.com/notebooks/data_table.ipynb>data table notebook</a>'\n",
       "            + ' to learn more about interactive tables.';\n",
       "          element.innerHTML = '';\n",
       "          dataTable['output_type'] = 'display_data';\n",
       "          await google.colab.output.renderOutput(dataTable, element);\n",
       "          const docLink = document.createElement('div');\n",
       "          docLink.innerHTML = docLinkHtml;\n",
       "          element.appendChild(docLink);\n",
       "        }\n",
       "      </script>\n",
       "    </div>\n",
       "  </div>\n",
       "  "
      ],
      "text/plain": [
       "        num_female  num_male  num_other  num_unknown  num_total  ratio_female  \\\n",
       "10819           17         7          0            1         25          0.68   \n",
       "36638            3         1          0            1          5          0.60   \n",
       "36811            3         1          0            1          5          0.60   \n",
       "227327           3         1          0            1          5          0.60   \n",
       "125039          26        10          0            4         40          0.65   \n",
       "\n",
       "        male_female_difference  new_male_female_difference_Random  \\\n",
       "10819                     -0.4                               -0.4   \n",
       "36638                     -0.4                                0.2   \n",
       "36811                     -0.4                               -0.6   \n",
       "227327                    -0.4                               -0.1   \n",
       "125039                    -0.4                               -0.4   \n",
       "\n",
       "        new_male_female_difference_MostPop  \\\n",
       "10819                                 -0.5   \n",
       "36638                                 -0.5   \n",
       "36811                                 -0.5   \n",
       "227327                                -0.5   \n",
       "125039                                -0.5   \n",
       "\n",
       "        new_male_female_difference_UserKNN  new_male_female_difference_MF  \\\n",
       "10819                                 -0.2                            0.0   \n",
       "36638                                 -0.3                            0.2   \n",
       "36811                                 -0.8                            0.1   \n",
       "227327                                -0.3                            0.2   \n",
       "125039                                -0.4                           -0.1   \n",
       "\n",
       "        new_male_female_difference_PMF  new_male_female_difference_BPR  \\\n",
       "10819                              0.4                            -0.5   \n",
       "36638                              0.1                            -0.5   \n",
       "36811                              0.0                            -0.5   \n",
       "227327                            -0.7                            -0.5   \n",
       "125039                            -0.3                            -0.5   \n",
       "\n",
       "        new_male_female_difference_NMF  new_male_female_difference_WMF  \\\n",
       "10819                              0.1                             0.1   \n",
       "36638                              0.1                            -0.5   \n",
       "36811                             -0.2                            -0.6   \n",
       "227327                             0.5                            -0.6   \n",
       "125039                            -0.2                             0.0   \n",
       "\n",
       "        new_male_female_difference_PF  new_male_female_difference_NeuMF  \\\n",
       "10819                            -0.4                              -0.4   \n",
       "36638                            -0.2                              -0.4   \n",
       "36811                             1.0                              -0.4   \n",
       "227327                            0.2                              -0.4   \n",
       "125039                            0.5                              -0.4   \n",
       "\n",
       "        new_male_female_difference_VAECF  \n",
       "10819                               -0.2  \n",
       "36638                               -0.2  \n",
       "36811                                0.6  \n",
       "227327                              -0.5  \n",
       "125039                               0.4  "
      ]
     },
     "execution_count": 81,
     "metadata": {},
     "output_type": "execute_result"
    }
   ],
   "source": [
    "female_oriented.head()"
   ]
  },
  {
   "cell_type": "markdown",
   "metadata": {
    "id": "8rZKTeVDt2Eo"
   },
   "source": [
    "# Save files"
   ]
  },
  {
   "cell_type": "code",
   "execution_count": 78,
   "metadata": {
    "id": "kK7Q2R6ft3nA"
   },
   "outputs": [],
   "source": [
    "save = True"
   ]
  },
  {
   "cell_type": "code",
   "execution_count": 79,
   "metadata": {
    "colab": {
     "base_uri": "https://localhost:8080/"
    },
    "id": "i0OntKdKt9FM",
    "outputId": "1856439f-fe0c-4919-8a2b-52872d2d4b21"
   },
   "outputs": [
    {
     "name": "stdout",
     "output_type": "stream",
     "text": [
      "Mounted at /content/drive\n"
     ]
    }
   ],
   "source": [
    "if save:\n",
    "  from google.colab import drive\n",
    "  import pickle as pkl\n",
    "  drive.mount('/content/drive')\n",
    "\n",
    "  female_oriented.to_csv(\"/content/drive/My Drive/new_female_oriented.csv\")\n",
    "  diverse.to_csv(\"/content/drive/My Drive/new_diverse.csv\")\n",
    "  male_oriented.to_csv(\"/content/drive/My Drive/new_male_oriented.csv\")\n",
    "  "
   ]
  },
  {
   "cell_type": "markdown",
   "metadata": {
    "id": "R93nJsLDt8vz"
   },
   "source": []
  },
  {
   "cell_type": "markdown",
   "metadata": {
    "id": "jAmiq9M1c-9j"
   },
   "source": [
    "# Popularity"
   ]
  },
  {
   "cell_type": "code",
   "execution_count": null,
   "metadata": {
    "colab": {
     "base_uri": "https://localhost:8080/",
     "height": 427
    },
    "id": "x3a0gJqr7-4h",
    "outputId": "1ae9f8c3-8d90-4f6a-a3b2-af3ced6ab190"
   },
   "outputs": [
    {
     "name": "stdout",
     "output_type": "stream",
     "text": [
      "0\n",
      "Random model is selected:\n",
      "1\n",
      "MostPop model is selected:\n"
     ]
    },
    {
     "ename": "KeyboardInterrupt",
     "evalue": "ignored",
     "output_type": "error",
     "traceback": [
      "\u001b[0;31m---------------------------------------------------------------------------\u001b[0m",
      "\u001b[0;31mKeyboardInterrupt\u001b[0m                         Traceback (most recent call last)",
      "\u001b[0;32m<ipython-input-28-f97d334adae0>\u001b[0m in \u001b[0;36m<module>\u001b[0;34m()\u001b[0m\n\u001b[1;32m     18\u001b[0m       \u001b[0mtop_n\u001b[0m \u001b[0;34m=\u001b[0m \u001b[0mget_top_n_UserKNN\u001b[0m\u001b[0;34m(\u001b[0m\u001b[0mn\u001b[0m\u001b[0;34m=\u001b[0m\u001b[0;36m10\u001b[0m\u001b[0;34m)\u001b[0m\u001b[0;34m\u001b[0m\u001b[0;34m\u001b[0m\u001b[0m\n\u001b[1;32m     19\u001b[0m     \u001b[0;32melse\u001b[0m\u001b[0;34m:\u001b[0m\u001b[0;34m\u001b[0m\u001b[0;34m\u001b[0m\u001b[0m\n\u001b[0;32m---> 20\u001b[0;31m       \u001b[0mtop_n\u001b[0m \u001b[0;34m=\u001b[0m \u001b[0mget_top_n\u001b[0m\u001b[0;34m(\u001b[0m\u001b[0malgo_names\u001b[0m\u001b[0;34m[\u001b[0m\u001b[0mi\u001b[0m\u001b[0;34m]\u001b[0m\u001b[0;34m,\u001b[0m \u001b[0mn\u001b[0m\u001b[0;34m=\u001b[0m\u001b[0;36m10\u001b[0m\u001b[0;34m)\u001b[0m\u001b[0;34m\u001b[0m\u001b[0;34m\u001b[0m\u001b[0m\n\u001b[0m\u001b[1;32m     21\u001b[0m     \u001b[0mlow_count\u001b[0m \u001b[0;34m=\u001b[0m \u001b[0;36m0\u001b[0m\u001b[0;34m\u001b[0m\u001b[0;34m\u001b[0m\u001b[0m\n\u001b[1;32m     22\u001b[0m     \u001b[0mmed_count\u001b[0m \u001b[0;34m=\u001b[0m \u001b[0;36m0\u001b[0m\u001b[0;34m\u001b[0m\u001b[0;34m\u001b[0m\u001b[0m\n",
      "\u001b[0;32m<ipython-input-26-6b7928b26348>\u001b[0m in \u001b[0;36mget_top_n\u001b[0;34m(algo_name, n)\u001b[0m\n\u001b[1;32m     13\u001b[0m         \u001b[0mitem_rank_top\u001b[0m \u001b[0;34m=\u001b[0m \u001b[0mitem_rank\u001b[0m\u001b[0;34m[\u001b[0m\u001b[0;34m:\u001b[0m\u001b[0mn\u001b[0m\u001b[0;34m]\u001b[0m\u001b[0;34m\u001b[0m\u001b[0;34m\u001b[0m\u001b[0m\n\u001b[1;32m     14\u001b[0m         \u001b[0;32mfor\u001b[0m \u001b[0miid\u001b[0m \u001b[0;32min\u001b[0m \u001b[0mitem_rank_top\u001b[0m\u001b[0;34m:\u001b[0m\u001b[0;34m\u001b[0m\u001b[0;34m\u001b[0m\u001b[0m\n\u001b[0;32m---> 15\u001b[0;31m           \u001b[0mitem_id\u001b[0m \u001b[0;34m=\u001b[0m \u001b[0mlist\u001b[0m\u001b[0;34m(\u001b[0m\u001b[0mmodel\u001b[0m\u001b[0;34m.\u001b[0m\u001b[0mtrain_set\u001b[0m\u001b[0;34m.\u001b[0m\u001b[0mitem_ids\u001b[0m\u001b[0;34m)\u001b[0m\u001b[0;34m[\u001b[0m\u001b[0miid\u001b[0m\u001b[0;34m]\u001b[0m\u001b[0;34m\u001b[0m\u001b[0;34m\u001b[0m\u001b[0m\n\u001b[0m\u001b[1;32m     16\u001b[0m           \u001b[0mtop_n\u001b[0m\u001b[0;34m[\u001b[0m\u001b[0mint\u001b[0m\u001b[0;34m(\u001b[0m\u001b[0muser_id\u001b[0m\u001b[0;34m)\u001b[0m\u001b[0;34m]\u001b[0m\u001b[0;34m.\u001b[0m\u001b[0mappend\u001b[0m\u001b[0;34m(\u001b[0m\u001b[0;34m(\u001b[0m\u001b[0mint\u001b[0m\u001b[0;34m(\u001b[0m\u001b[0mitem_id\u001b[0m\u001b[0;34m)\u001b[0m\u001b[0;34m,\u001b[0m \u001b[0mmodel\u001b[0m\u001b[0;34m.\u001b[0m\u001b[0mscore\u001b[0m\u001b[0;34m(\u001b[0m\u001b[0muid\u001b[0m\u001b[0;34m,\u001b[0m \u001b[0miid\u001b[0m\u001b[0;34m)\u001b[0m\u001b[0;34m)\u001b[0m\u001b[0;34m)\u001b[0m\u001b[0;34m\u001b[0m\u001b[0;34m\u001b[0m\u001b[0m\n\u001b[1;32m     17\u001b[0m   \u001b[0;32mreturn\u001b[0m \u001b[0mtop_n\u001b[0m\u001b[0;34m\u001b[0m\u001b[0;34m\u001b[0m\u001b[0m\n",
      "\u001b[0;31mKeyboardInterrupt\u001b[0m: "
     ]
    }
   ],
   "source": [
    "algo_names = ['Random', 'MostPop', 'UserKNN', 'MF', 'PMF', 'BPR', 'NMF', 'WMF', 'PF', 'NeuMF', 'VAECF']\n",
    "\n",
    "i = 0\n",
    "low_rec_gap_list = [] # one entry per algorithmus\n",
    "medium_rec_gap_list = []\n",
    "high_rec_gap_list = []\n",
    "\n",
    "for i in range(0, len(algo_names)):\n",
    "    print(i)\n",
    "    df_item_dist[algo_names[i]] = 0\n",
    "    low_rec_gap = 0\n",
    "    medium_rec_gap = 0\n",
    "    high_rec_gap = 0\n",
    "    \n",
    "    if algo_names[i] == 'Random':\n",
    "      top_n = get_top_n_random(n=10)\n",
    "    elif algo_names[i] == 'UserKNN':\n",
    "      top_n = get_top_n_UserKNN(n=10)\n",
    "    else:\n",
    "      top_n = get_top_n(algo_names[i], n=10)\n",
    "    low_count = 0\n",
    "    med_count = 0\n",
    "    high_count = 0\n",
    "    for uid, user_ratings in top_n.items():\n",
    "        iid_list = []\n",
    "        for (iid, _) in user_ratings:\n",
    "            df_item_dist.loc[iid, algo_names[i]] += 1\n",
    "            iid_list.append(iid)\n",
    "        gap = sum(df_item_dist[\"count\"].loc[iid_list]) / len(iid_list)\n",
    "        if uid in low.index:\n",
    "            low_rec_gap += gap\n",
    "            low_count += 1\n",
    "        elif uid in med.index:\n",
    "            medium_rec_gap += gap\n",
    "            med_count += 1\n",
    "        elif uid in high.index:\n",
    "            high_rec_gap += gap\n",
    "            high_count += 1\n",
    "    low_rec_gap_list.append(low_rec_gap / low_count)\n",
    "    medium_rec_gap_list.append(medium_rec_gap / med_count)\n",
    "    high_rec_gap_list.append(high_rec_gap / high_count)\n",
    "    i += 1 # next algorithm"
   ]
  },
  {
   "cell_type": "markdown",
   "metadata": {
    "id": "Buq5Z1f45DhT"
   },
   "source": [
    "## Save files\n",
    "To save:\n",
    "1. df_item_dist\n",
    "2. low_rec_gap_list etc\n",
    "3. exp.result & exp.metric\n",
    "4. training user ids"
   ]
  },
  {
   "cell_type": "code",
   "execution_count": null,
   "metadata": {
    "id": "4jM6jAdTlwUF"
   },
   "outputs": [],
   "source": [
    "save = True"
   ]
  },
  {
   "cell_type": "code",
   "execution_count": null,
   "metadata": {
    "colab": {
     "base_uri": "https://localhost:8080/"
    },
    "id": "HTXH7c-r6G5v",
    "outputId": "71b42fd9-5776-4234-a57e-9c6f92e4bff4"
   },
   "outputs": [
    {
     "name": "stdout",
     "output_type": "stream",
     "text": [
      "Mounted at /content/drive\n"
     ]
    }
   ],
   "source": [
    "if save:\n",
    "  from google.colab import drive\n",
    "  import pickle as pkl\n",
    "  drive.mount('/content/drive')\n",
    "\n",
    "  df_item_dist.to_csv(\"/content/drive/My Drive/item_pop_dist\"+addition_1+\"_results_Cornac.csv\")\n",
    "  with open(\"/content/drive/My Drive/experiment_results_cornac\"+addition_4+\".pkl\",\"wb\") as f:\n",
    "    pkl.dump(exp.result,f)\n",
    "  with open(\"/content/drive/My Drive/experiment_metrics_cornac\"+addition_4+\".pkl\",\"wb\") as f:\n",
    "    pkl.dump(exp.metrics,f)\n",
    "  with open(\"/content/drive/My Drive/low_rec_gap_list_cornac\"+addition_4+\".pkl\",\"wb\") as f:\n",
    "    pkl.dump(low_rec_gap_list,f)\n",
    "  with open(\"/content/drive/My Drive/med_rec_gap_list_cornac\"+addition_4+\".pkl\",\"wb\") as f:\n",
    "    pkl.dump(medium_rec_gap_list,f)\n",
    "  with open(\"/content/drive/My Drive/high_rec_gap_list_cornac\"+addition_4+\".pkl\",\"wb\") as f:\n",
    "    pkl.dump(high_rec_gap_list,f)\n",
    "  with open(\"/content/drive/My Drive/training_user_ids\"+addition_4+\"_cornac.pkl\",\"wb\") as f:\n",
    "    pkl.dump(list(rs.train_set.user_ids),f)"
   ]
  }
 ],
 "metadata": {
  "accelerator": "GPU",
  "colab": {
   "name": "Book recommendation.ipynb",
   "provenance": []
  },
  "kernelspec": {
   "display_name": "Python 3 (ipykernel)",
   "language": "python",
   "name": "python3"
  },
  "language_info": {
   "codemirror_mode": {
    "name": "ipython",
    "version": 3
   },
   "file_extension": ".py",
   "mimetype": "text/x-python",
   "name": "python",
   "nbconvert_exporter": "python",
   "pygments_lexer": "ipython3",
   "version": "3.8.12"
  },
  "widgets": {
   "application/vnd.jupyter.widget-state+json": {
    "01b64f222a334e888ed7d93e854988d0": {
     "model_module": "@jupyter-widgets/controls",
     "model_module_version": "1.5.0",
     "model_name": "DescriptionStyleModel",
     "state": {
      "_model_module": "@jupyter-widgets/controls",
      "_model_module_version": "1.5.0",
      "_model_name": "DescriptionStyleModel",
      "_view_count": null,
      "_view_module": "@jupyter-widgets/base",
      "_view_module_version": "1.2.0",
      "_view_name": "StyleView",
      "description_width": ""
     }
    },
    "031a353e8c0e4037a408910aedaabef3": {
     "model_module": "@jupyter-widgets/controls",
     "model_module_version": "1.5.0",
     "model_name": "DescriptionStyleModel",
     "state": {
      "_model_module": "@jupyter-widgets/controls",
      "_model_module_version": "1.5.0",
      "_model_name": "DescriptionStyleModel",
      "_view_count": null,
      "_view_module": "@jupyter-widgets/base",
      "_view_module_version": "1.2.0",
      "_view_name": "StyleView",
      "description_width": ""
     }
    },
    "0379d24a2da243f78c0918f8e6b65e71": {
     "model_module": "@jupyter-widgets/controls",
     "model_module_version": "1.5.0",
     "model_name": "FloatProgressModel",
     "state": {
      "_dom_classes": [],
      "_model_module": "@jupyter-widgets/controls",
      "_model_module_version": "1.5.0",
      "_model_name": "FloatProgressModel",
      "_view_count": null,
      "_view_module": "@jupyter-widgets/controls",
      "_view_module_version": "1.5.0",
      "_view_name": "ProgressView",
      "bar_style": "success",
      "description": "",
      "description_tooltip": null,
      "layout": "IPY_MODEL_32cca4bb25ff4b0296d2fa35fe6f85ea",
      "max": 1,
      "min": 0,
      "orientation": "horizontal",
      "style": "IPY_MODEL_da9dc781536f4d3a8719eab2450289e0",
      "value": 1
     }
    },
    "0e505592a0a0479ebc262d24971674ba": {
     "model_module": "@jupyter-widgets/base",
     "model_module_version": "1.2.0",
     "model_name": "LayoutModel",
     "state": {
      "_model_module": "@jupyter-widgets/base",
      "_model_module_version": "1.2.0",
      "_model_name": "LayoutModel",
      "_view_count": null,
      "_view_module": "@jupyter-widgets/base",
      "_view_module_version": "1.2.0",
      "_view_name": "LayoutView",
      "align_content": null,
      "align_items": null,
      "align_self": null,
      "border": null,
      "bottom": null,
      "display": null,
      "flex": null,
      "flex_flow": null,
      "grid_area": null,
      "grid_auto_columns": null,
      "grid_auto_flow": null,
      "grid_auto_rows": null,
      "grid_column": null,
      "grid_gap": null,
      "grid_row": null,
      "grid_template_areas": null,
      "grid_template_columns": null,
      "grid_template_rows": null,
      "height": null,
      "justify_content": null,
      "justify_items": null,
      "left": null,
      "margin": null,
      "max_height": null,
      "max_width": null,
      "min_height": null,
      "min_width": null,
      "object_fit": null,
      "object_position": null,
      "order": null,
      "overflow": null,
      "overflow_x": null,
      "overflow_y": null,
      "padding": null,
      "right": null,
      "top": null,
      "visibility": null,
      "width": null
     }
    },
    "1238faf77bf74275988958f9e8bb94ab": {
     "model_module": "@jupyter-widgets/controls",
     "model_module_version": "1.5.0",
     "model_name": "ProgressStyleModel",
     "state": {
      "_model_module": "@jupyter-widgets/controls",
      "_model_module_version": "1.5.0",
      "_model_name": "ProgressStyleModel",
      "_view_count": null,
      "_view_module": "@jupyter-widgets/base",
      "_view_module_version": "1.2.0",
      "_view_name": "StyleView",
      "bar_color": null,
      "description_width": ""
     }
    },
    "13a873295cc440ba89f7776da048257e": {
     "model_module": "@jupyter-widgets/controls",
     "model_module_version": "1.5.0",
     "model_name": "FloatProgressModel",
     "state": {
      "_dom_classes": [],
      "_model_module": "@jupyter-widgets/controls",
      "_model_module_version": "1.5.0",
      "_model_name": "FloatProgressModel",
      "_view_count": null,
      "_view_module": "@jupyter-widgets/controls",
      "_view_module_version": "1.5.0",
      "_view_name": "ProgressView",
      "bar_style": "success",
      "description": "",
      "description_tooltip": null,
      "layout": "IPY_MODEL_6429dbef93a847698a4e108a5583d412",
      "max": 50,
      "min": 0,
      "orientation": "horizontal",
      "style": "IPY_MODEL_3041ef1608b04cf9a13a48b31394a3eb",
      "value": 50
     }
    },
    "1b4d542158d345a58262214903831fb9": {
     "model_module": "@jupyter-widgets/controls",
     "model_module_version": "1.5.0",
     "model_name": "HTMLModel",
     "state": {
      "_dom_classes": [],
      "_model_module": "@jupyter-widgets/controls",
      "_model_module_version": "1.5.0",
      "_model_name": "HTMLModel",
      "_view_count": null,
      "_view_module": "@jupyter-widgets/controls",
      "_view_module_version": "1.5.0",
      "_view_name": "HTMLView",
      "description": "",
      "description_tooltip": null,
      "layout": "IPY_MODEL_850d4d83e2da4a6198e71dad4f1965fd",
      "placeholder": "​",
      "style": "IPY_MODEL_8c13a658c10a4c85864e8f804d578149",
      "value": " 100/100 [00:54&lt;00:00,  1.80it/s, loss=0.901]"
     }
    },
    "1cbc9b0dbaaf4d90b444d1b2cb242f78": {
     "model_module": "@jupyter-widgets/base",
     "model_module_version": "1.2.0",
     "model_name": "LayoutModel",
     "state": {
      "_model_module": "@jupyter-widgets/base",
      "_model_module_version": "1.2.0",
      "_model_name": "LayoutModel",
      "_view_count": null,
      "_view_module": "@jupyter-widgets/base",
      "_view_module_version": "1.2.0",
      "_view_name": "LayoutView",
      "align_content": null,
      "align_items": null,
      "align_self": null,
      "border": null,
      "bottom": null,
      "display": null,
      "flex": null,
      "flex_flow": null,
      "grid_area": null,
      "grid_auto_columns": null,
      "grid_auto_flow": null,
      "grid_auto_rows": null,
      "grid_column": null,
      "grid_gap": null,
      "grid_row": null,
      "grid_template_areas": null,
      "grid_template_columns": null,
      "grid_template_rows": null,
      "height": null,
      "justify_content": null,
      "justify_items": null,
      "left": null,
      "margin": null,
      "max_height": null,
      "max_width": null,
      "min_height": null,
      "min_width": null,
      "object_fit": null,
      "object_position": null,
      "order": null,
      "overflow": null,
      "overflow_x": null,
      "overflow_y": null,
      "padding": null,
      "right": null,
      "top": null,
      "visibility": null,
      "width": null
     }
    },
    "1fa468519bb3481cbb9482cee7ebe71b": {
     "model_module": "@jupyter-widgets/controls",
     "model_module_version": "1.5.0",
     "model_name": "HBoxModel",
     "state": {
      "_dom_classes": [],
      "_model_module": "@jupyter-widgets/controls",
      "_model_module_version": "1.5.0",
      "_model_name": "HBoxModel",
      "_view_count": null,
      "_view_module": "@jupyter-widgets/controls",
      "_view_module_version": "1.5.0",
      "_view_name": "HBoxView",
      "box_style": "",
      "children": [
       "IPY_MODEL_88016feaa4434251bbcf5168ab12a1ea",
       "IPY_MODEL_f45ed347976542c49df9221f203da57f",
       "IPY_MODEL_1b4d542158d345a58262214903831fb9"
      ],
      "layout": "IPY_MODEL_279c280d5ada46bb97e441851078c49f"
     }
    },
    "23287bd4f5b44bc3ab67f38ee0d20497": {
     "model_module": "@jupyter-widgets/base",
     "model_module_version": "1.2.0",
     "model_name": "LayoutModel",
     "state": {
      "_model_module": "@jupyter-widgets/base",
      "_model_module_version": "1.2.0",
      "_model_name": "LayoutModel",
      "_view_count": null,
      "_view_module": "@jupyter-widgets/base",
      "_view_module_version": "1.2.0",
      "_view_name": "LayoutView",
      "align_content": null,
      "align_items": null,
      "align_self": null,
      "border": null,
      "bottom": null,
      "display": null,
      "flex": null,
      "flex_flow": null,
      "grid_area": null,
      "grid_auto_columns": null,
      "grid_auto_flow": null,
      "grid_auto_rows": null,
      "grid_column": null,
      "grid_gap": null,
      "grid_row": null,
      "grid_template_areas": null,
      "grid_template_columns": null,
      "grid_template_rows": null,
      "height": null,
      "justify_content": null,
      "justify_items": null,
      "left": null,
      "margin": null,
      "max_height": null,
      "max_width": null,
      "min_height": null,
      "min_width": null,
      "object_fit": null,
      "object_position": null,
      "order": null,
      "overflow": null,
      "overflow_x": null,
      "overflow_y": null,
      "padding": null,
      "right": null,
      "top": null,
      "visibility": null,
      "width": null
     }
    },
    "279c280d5ada46bb97e441851078c49f": {
     "model_module": "@jupyter-widgets/base",
     "model_module_version": "1.2.0",
     "model_name": "LayoutModel",
     "state": {
      "_model_module": "@jupyter-widgets/base",
      "_model_module_version": "1.2.0",
      "_model_name": "LayoutModel",
      "_view_count": null,
      "_view_module": "@jupyter-widgets/base",
      "_view_module_version": "1.2.0",
      "_view_name": "LayoutView",
      "align_content": null,
      "align_items": null,
      "align_self": null,
      "border": null,
      "bottom": null,
      "display": null,
      "flex": null,
      "flex_flow": null,
      "grid_area": null,
      "grid_auto_columns": null,
      "grid_auto_flow": null,
      "grid_auto_rows": null,
      "grid_column": null,
      "grid_gap": null,
      "grid_row": null,
      "grid_template_areas": null,
      "grid_template_columns": null,
      "grid_template_rows": null,
      "height": null,
      "justify_content": null,
      "justify_items": null,
      "left": null,
      "margin": null,
      "max_height": null,
      "max_width": null,
      "min_height": null,
      "min_width": null,
      "object_fit": null,
      "object_position": null,
      "order": null,
      "overflow": null,
      "overflow_x": null,
      "overflow_y": null,
      "padding": null,
      "right": null,
      "top": null,
      "visibility": null,
      "width": null
     }
    },
    "293c57e19ab54e7eb4f9b2e9199b647e": {
     "model_module": "@jupyter-widgets/controls",
     "model_module_version": "1.5.0",
     "model_name": "HTMLModel",
     "state": {
      "_dom_classes": [],
      "_model_module": "@jupyter-widgets/controls",
      "_model_module_version": "1.5.0",
      "_model_name": "HTMLModel",
      "_view_count": null,
      "_view_module": "@jupyter-widgets/controls",
      "_view_module_version": "1.5.0",
      "_view_name": "HTMLView",
      "description": "",
      "description_tooltip": null,
      "layout": "IPY_MODEL_23287bd4f5b44bc3ab67f38ee0d20497",
      "placeholder": "​",
      "style": "IPY_MODEL_01b64f222a334e888ed7d93e854988d0",
      "value": "100%"
     }
    },
    "2ac96e1a639b4942aea9d11593acc76a": {
     "model_module": "@jupyter-widgets/base",
     "model_module_version": "1.2.0",
     "model_name": "LayoutModel",
     "state": {
      "_model_module": "@jupyter-widgets/base",
      "_model_module_version": "1.2.0",
      "_model_name": "LayoutModel",
      "_view_count": null,
      "_view_module": "@jupyter-widgets/base",
      "_view_module_version": "1.2.0",
      "_view_name": "LayoutView",
      "align_content": null,
      "align_items": null,
      "align_self": null,
      "border": null,
      "bottom": null,
      "display": null,
      "flex": null,
      "flex_flow": null,
      "grid_area": null,
      "grid_auto_columns": null,
      "grid_auto_flow": null,
      "grid_auto_rows": null,
      "grid_column": null,
      "grid_gap": null,
      "grid_row": null,
      "grid_template_areas": null,
      "grid_template_columns": null,
      "grid_template_rows": null,
      "height": null,
      "justify_content": null,
      "justify_items": null,
      "left": null,
      "margin": null,
      "max_height": null,
      "max_width": null,
      "min_height": null,
      "min_width": null,
      "object_fit": null,
      "object_position": null,
      "order": null,
      "overflow": null,
      "overflow_x": null,
      "overflow_y": null,
      "padding": null,
      "right": null,
      "top": null,
      "visibility": null,
      "width": null
     }
    },
    "2c12b485efc9408ba6948f53d29c88a2": {
     "model_module": "@jupyter-widgets/controls",
     "model_module_version": "1.5.0",
     "model_name": "DescriptionStyleModel",
     "state": {
      "_model_module": "@jupyter-widgets/controls",
      "_model_module_version": "1.5.0",
      "_model_name": "DescriptionStyleModel",
      "_view_count": null,
      "_view_module": "@jupyter-widgets/base",
      "_view_module_version": "1.2.0",
      "_view_name": "StyleView",
      "description_width": ""
     }
    },
    "2dd18156663e4020bddfee2599d5c6da": {
     "model_module": "@jupyter-widgets/base",
     "model_module_version": "1.2.0",
     "model_name": "LayoutModel",
     "state": {
      "_model_module": "@jupyter-widgets/base",
      "_model_module_version": "1.2.0",
      "_model_name": "LayoutModel",
      "_view_count": null,
      "_view_module": "@jupyter-widgets/base",
      "_view_module_version": "1.2.0",
      "_view_name": "LayoutView",
      "align_content": null,
      "align_items": null,
      "align_self": null,
      "border": null,
      "bottom": null,
      "display": null,
      "flex": null,
      "flex_flow": null,
      "grid_area": null,
      "grid_auto_columns": null,
      "grid_auto_flow": null,
      "grid_auto_rows": null,
      "grid_column": null,
      "grid_gap": null,
      "grid_row": null,
      "grid_template_areas": null,
      "grid_template_columns": null,
      "grid_template_rows": null,
      "height": null,
      "justify_content": null,
      "justify_items": null,
      "left": null,
      "margin": null,
      "max_height": null,
      "max_width": null,
      "min_height": null,
      "min_width": null,
      "object_fit": null,
      "object_position": null,
      "order": null,
      "overflow": null,
      "overflow_x": null,
      "overflow_y": null,
      "padding": null,
      "right": null,
      "top": null,
      "visibility": null,
      "width": null
     }
    },
    "301f731aa5a0458499880d6e777ea8cf": {
     "model_module": "@jupyter-widgets/controls",
     "model_module_version": "1.5.0",
     "model_name": "HTMLModel",
     "state": {
      "_dom_classes": [],
      "_model_module": "@jupyter-widgets/controls",
      "_model_module_version": "1.5.0",
      "_model_name": "HTMLModel",
      "_view_count": null,
      "_view_module": "@jupyter-widgets/controls",
      "_view_module_version": "1.5.0",
      "_view_name": "HTMLView",
      "description": "",
      "description_tooltip": null,
      "layout": "IPY_MODEL_62e7142fc2864c33a927431f16ee0ffc",
      "placeholder": "​",
      "style": "IPY_MODEL_d7bfc137dc3241459166528af0521b12",
      "value": "100%"
     }
    },
    "3041ef1608b04cf9a13a48b31394a3eb": {
     "model_module": "@jupyter-widgets/controls",
     "model_module_version": "1.5.0",
     "model_name": "ProgressStyleModel",
     "state": {
      "_model_module": "@jupyter-widgets/controls",
      "_model_module_version": "1.5.0",
      "_model_name": "ProgressStyleModel",
      "_view_count": null,
      "_view_module": "@jupyter-widgets/base",
      "_view_module_version": "1.2.0",
      "_view_name": "StyleView",
      "bar_color": null,
      "description_width": ""
     }
    },
    "32cca4bb25ff4b0296d2fa35fe6f85ea": {
     "model_module": "@jupyter-widgets/base",
     "model_module_version": "1.2.0",
     "model_name": "LayoutModel",
     "state": {
      "_model_module": "@jupyter-widgets/base",
      "_model_module_version": "1.2.0",
      "_model_name": "LayoutModel",
      "_view_count": null,
      "_view_module": "@jupyter-widgets/base",
      "_view_module_version": "1.2.0",
      "_view_name": "LayoutView",
      "align_content": null,
      "align_items": null,
      "align_self": null,
      "border": null,
      "bottom": null,
      "display": null,
      "flex": null,
      "flex_flow": null,
      "grid_area": null,
      "grid_auto_columns": null,
      "grid_auto_flow": null,
      "grid_auto_rows": null,
      "grid_column": null,
      "grid_gap": null,
      "grid_row": null,
      "grid_template_areas": null,
      "grid_template_columns": null,
      "grid_template_rows": null,
      "height": null,
      "justify_content": null,
      "justify_items": null,
      "left": null,
      "margin": null,
      "max_height": null,
      "max_width": null,
      "min_height": null,
      "min_width": null,
      "object_fit": null,
      "object_position": null,
      "order": null,
      "overflow": null,
      "overflow_x": null,
      "overflow_y": null,
      "padding": null,
      "right": null,
      "top": null,
      "visibility": null,
      "width": null
     }
    },
    "3d34491493844740a4fae3932b17564d": {
     "model_module": "@jupyter-widgets/controls",
     "model_module_version": "1.5.0",
     "model_name": "HTMLModel",
     "state": {
      "_dom_classes": [],
      "_model_module": "@jupyter-widgets/controls",
      "_model_module_version": "1.5.0",
      "_model_name": "HTMLModel",
      "_view_count": null,
      "_view_module": "@jupyter-widgets/controls",
      "_view_module_version": "1.5.0",
      "_view_name": "HTMLView",
      "description": "",
      "description_tooltip": null,
      "layout": "IPY_MODEL_6b47ccf2c60048ebb29475fa56ca71d9",
      "placeholder": "​",
      "style": "IPY_MODEL_2c12b485efc9408ba6948f53d29c88a2",
      "value": "100%"
     }
    },
    "5807ad1d3b00465b845c82871f79956b": {
     "model_module": "@jupyter-widgets/controls",
     "model_module_version": "1.5.0",
     "model_name": "HBoxModel",
     "state": {
      "_dom_classes": [],
      "_model_module": "@jupyter-widgets/controls",
      "_model_module_version": "1.5.0",
      "_model_name": "HBoxModel",
      "_view_count": null,
      "_view_module": "@jupyter-widgets/controls",
      "_view_module_version": "1.5.0",
      "_view_name": "HBoxView",
      "box_style": "",
      "children": [
       "IPY_MODEL_301f731aa5a0458499880d6e777ea8cf",
       "IPY_MODEL_0379d24a2da243f78c0918f8e6b65e71",
       "IPY_MODEL_d3d205a87f0e46118ed5f6f39391cd42"
      ],
      "layout": "IPY_MODEL_2ac96e1a639b4942aea9d11593acc76a"
     }
    },
    "5b7830dbc9b44445b5d76b2b7b645d1a": {
     "model_module": "@jupyter-widgets/controls",
     "model_module_version": "1.5.0",
     "model_name": "DescriptionStyleModel",
     "state": {
      "_model_module": "@jupyter-widgets/controls",
      "_model_module_version": "1.5.0",
      "_model_name": "DescriptionStyleModel",
      "_view_count": null,
      "_view_module": "@jupyter-widgets/base",
      "_view_module_version": "1.2.0",
      "_view_name": "StyleView",
      "description_width": ""
     }
    },
    "62e7142fc2864c33a927431f16ee0ffc": {
     "model_module": "@jupyter-widgets/base",
     "model_module_version": "1.2.0",
     "model_name": "LayoutModel",
     "state": {
      "_model_module": "@jupyter-widgets/base",
      "_model_module_version": "1.2.0",
      "_model_name": "LayoutModel",
      "_view_count": null,
      "_view_module": "@jupyter-widgets/base",
      "_view_module_version": "1.2.0",
      "_view_name": "LayoutView",
      "align_content": null,
      "align_items": null,
      "align_self": null,
      "border": null,
      "bottom": null,
      "display": null,
      "flex": null,
      "flex_flow": null,
      "grid_area": null,
      "grid_auto_columns": null,
      "grid_auto_flow": null,
      "grid_auto_rows": null,
      "grid_column": null,
      "grid_gap": null,
      "grid_row": null,
      "grid_template_areas": null,
      "grid_template_columns": null,
      "grid_template_rows": null,
      "height": null,
      "justify_content": null,
      "justify_items": null,
      "left": null,
      "margin": null,
      "max_height": null,
      "max_width": null,
      "min_height": null,
      "min_width": null,
      "object_fit": null,
      "object_position": null,
      "order": null,
      "overflow": null,
      "overflow_x": null,
      "overflow_y": null,
      "padding": null,
      "right": null,
      "top": null,
      "visibility": null,
      "width": null
     }
    },
    "637eeaa84c3647388bbb7dba1f9ee81a": {
     "model_module": "@jupyter-widgets/controls",
     "model_module_version": "1.5.0",
     "model_name": "DescriptionStyleModel",
     "state": {
      "_model_module": "@jupyter-widgets/controls",
      "_model_module_version": "1.5.0",
      "_model_name": "DescriptionStyleModel",
      "_view_count": null,
      "_view_module": "@jupyter-widgets/base",
      "_view_module_version": "1.2.0",
      "_view_name": "StyleView",
      "description_width": ""
     }
    },
    "6429dbef93a847698a4e108a5583d412": {
     "model_module": "@jupyter-widgets/base",
     "model_module_version": "1.2.0",
     "model_name": "LayoutModel",
     "state": {
      "_model_module": "@jupyter-widgets/base",
      "_model_module_version": "1.2.0",
      "_model_name": "LayoutModel",
      "_view_count": null,
      "_view_module": "@jupyter-widgets/base",
      "_view_module_version": "1.2.0",
      "_view_name": "LayoutView",
      "align_content": null,
      "align_items": null,
      "align_self": null,
      "border": null,
      "bottom": null,
      "display": null,
      "flex": null,
      "flex_flow": null,
      "grid_area": null,
      "grid_auto_columns": null,
      "grid_auto_flow": null,
      "grid_auto_rows": null,
      "grid_column": null,
      "grid_gap": null,
      "grid_row": null,
      "grid_template_areas": null,
      "grid_template_columns": null,
      "grid_template_rows": null,
      "height": null,
      "justify_content": null,
      "justify_items": null,
      "left": null,
      "margin": null,
      "max_height": null,
      "max_width": null,
      "min_height": null,
      "min_width": null,
      "object_fit": null,
      "object_position": null,
      "order": null,
      "overflow": null,
      "overflow_x": null,
      "overflow_y": null,
      "padding": null,
      "right": null,
      "top": null,
      "visibility": null,
      "width": null
     }
    },
    "6b47ccf2c60048ebb29475fa56ca71d9": {
     "model_module": "@jupyter-widgets/base",
     "model_module_version": "1.2.0",
     "model_name": "LayoutModel",
     "state": {
      "_model_module": "@jupyter-widgets/base",
      "_model_module_version": "1.2.0",
      "_model_name": "LayoutModel",
      "_view_count": null,
      "_view_module": "@jupyter-widgets/base",
      "_view_module_version": "1.2.0",
      "_view_name": "LayoutView",
      "align_content": null,
      "align_items": null,
      "align_self": null,
      "border": null,
      "bottom": null,
      "display": null,
      "flex": null,
      "flex_flow": null,
      "grid_area": null,
      "grid_auto_columns": null,
      "grid_auto_flow": null,
      "grid_auto_rows": null,
      "grid_column": null,
      "grid_gap": null,
      "grid_row": null,
      "grid_template_areas": null,
      "grid_template_columns": null,
      "grid_template_rows": null,
      "height": null,
      "justify_content": null,
      "justify_items": null,
      "left": null,
      "margin": null,
      "max_height": null,
      "max_width": null,
      "min_height": null,
      "min_width": null,
      "object_fit": null,
      "object_position": null,
      "order": null,
      "overflow": null,
      "overflow_x": null,
      "overflow_y": null,
      "padding": null,
      "right": null,
      "top": null,
      "visibility": null,
      "width": null
     }
    },
    "850d4d83e2da4a6198e71dad4f1965fd": {
     "model_module": "@jupyter-widgets/base",
     "model_module_version": "1.2.0",
     "model_name": "LayoutModel",
     "state": {
      "_model_module": "@jupyter-widgets/base",
      "_model_module_version": "1.2.0",
      "_model_name": "LayoutModel",
      "_view_count": null,
      "_view_module": "@jupyter-widgets/base",
      "_view_module_version": "1.2.0",
      "_view_name": "LayoutView",
      "align_content": null,
      "align_items": null,
      "align_self": null,
      "border": null,
      "bottom": null,
      "display": null,
      "flex": null,
      "flex_flow": null,
      "grid_area": null,
      "grid_auto_columns": null,
      "grid_auto_flow": null,
      "grid_auto_rows": null,
      "grid_column": null,
      "grid_gap": null,
      "grid_row": null,
      "grid_template_areas": null,
      "grid_template_columns": null,
      "grid_template_rows": null,
      "height": null,
      "justify_content": null,
      "justify_items": null,
      "left": null,
      "margin": null,
      "max_height": null,
      "max_width": null,
      "min_height": null,
      "min_width": null,
      "object_fit": null,
      "object_position": null,
      "order": null,
      "overflow": null,
      "overflow_x": null,
      "overflow_y": null,
      "padding": null,
      "right": null,
      "top": null,
      "visibility": null,
      "width": null
     }
    },
    "865f6cfdc7484ceab5a913284123f0c1": {
     "model_module": "@jupyter-widgets/controls",
     "model_module_version": "1.5.0",
     "model_name": "FloatProgressModel",
     "state": {
      "_dom_classes": [],
      "_model_module": "@jupyter-widgets/controls",
      "_model_module_version": "1.5.0",
      "_model_name": "FloatProgressModel",
      "_view_count": null,
      "_view_module": "@jupyter-widgets/controls",
      "_view_module_version": "1.5.0",
      "_view_name": "ProgressView",
      "bar_style": "success",
      "description": "",
      "description_tooltip": null,
      "layout": "IPY_MODEL_d9658950df2f49a18cfa5a8795264804",
      "max": 50,
      "min": 0,
      "orientation": "horizontal",
      "style": "IPY_MODEL_1238faf77bf74275988958f9e8bb94ab",
      "value": 50
     }
    },
    "88016feaa4434251bbcf5168ab12a1ea": {
     "model_module": "@jupyter-widgets/controls",
     "model_module_version": "1.5.0",
     "model_name": "HTMLModel",
     "state": {
      "_dom_classes": [],
      "_model_module": "@jupyter-widgets/controls",
      "_model_module_version": "1.5.0",
      "_model_name": "HTMLModel",
      "_view_count": null,
      "_view_module": "@jupyter-widgets/controls",
      "_view_module_version": "1.5.0",
      "_view_name": "HTMLView",
      "description": "",
      "description_tooltip": null,
      "layout": "IPY_MODEL_a3c5a98fb04343a5b70c3d5f8a8b18e1",
      "placeholder": "​",
      "style": "IPY_MODEL_cfaaaed27a524737acf2980a93a88259",
      "value": "100%"
     }
    },
    "8c13a658c10a4c85864e8f804d578149": {
     "model_module": "@jupyter-widgets/controls",
     "model_module_version": "1.5.0",
     "model_name": "DescriptionStyleModel",
     "state": {
      "_model_module": "@jupyter-widgets/controls",
      "_model_module_version": "1.5.0",
      "_model_name": "DescriptionStyleModel",
      "_view_count": null,
      "_view_module": "@jupyter-widgets/base",
      "_view_module_version": "1.2.0",
      "_view_name": "StyleView",
      "description_width": ""
     }
    },
    "8c5ce1d9f9e942e7b8f0ce3e79abcf1e": {
     "model_module": "@jupyter-widgets/controls",
     "model_module_version": "1.5.0",
     "model_name": "HTMLModel",
     "state": {
      "_dom_classes": [],
      "_model_module": "@jupyter-widgets/controls",
      "_model_module_version": "1.5.0",
      "_model_name": "HTMLModel",
      "_view_count": null,
      "_view_module": "@jupyter-widgets/controls",
      "_view_module_version": "1.5.0",
      "_view_name": "HTMLView",
      "description": "",
      "description_tooltip": null,
      "layout": "IPY_MODEL_2dd18156663e4020bddfee2599d5c6da",
      "placeholder": "​",
      "style": "IPY_MODEL_031a353e8c0e4037a408910aedaabef3",
      "value": " 50/50 [00:00&lt;00:00, 86.23it/s, loss=358527.66]"
     }
    },
    "8e98e8ba599840a2a5f82a6acfef08a9": {
     "model_module": "@jupyter-widgets/controls",
     "model_module_version": "1.5.0",
     "model_name": "HTMLModel",
     "state": {
      "_dom_classes": [],
      "_model_module": "@jupyter-widgets/controls",
      "_model_module_version": "1.5.0",
      "_model_name": "HTMLModel",
      "_view_count": null,
      "_view_module": "@jupyter-widgets/controls",
      "_view_module_version": "1.5.0",
      "_view_name": "HTMLView",
      "description": "",
      "description_tooltip": null,
      "layout": "IPY_MODEL_f585f565c3904f95a8e5e3e57f6497fa",
      "placeholder": "​",
      "style": "IPY_MODEL_637eeaa84c3647388bbb7dba1f9ee81a",
      "value": " 50/50 [00:31&lt;00:00,  1.67it/s, loss=218]"
     }
    },
    "927bff8995e6415598afcf9a1ee737da": {
     "model_module": "@jupyter-widgets/base",
     "model_module_version": "1.2.0",
     "model_name": "LayoutModel",
     "state": {
      "_model_module": "@jupyter-widgets/base",
      "_model_module_version": "1.2.0",
      "_model_name": "LayoutModel",
      "_view_count": null,
      "_view_module": "@jupyter-widgets/base",
      "_view_module_version": "1.2.0",
      "_view_name": "LayoutView",
      "align_content": null,
      "align_items": null,
      "align_self": null,
      "border": null,
      "bottom": null,
      "display": null,
      "flex": null,
      "flex_flow": null,
      "grid_area": null,
      "grid_auto_columns": null,
      "grid_auto_flow": null,
      "grid_auto_rows": null,
      "grid_column": null,
      "grid_gap": null,
      "grid_row": null,
      "grid_template_areas": null,
      "grid_template_columns": null,
      "grid_template_rows": null,
      "height": null,
      "justify_content": null,
      "justify_items": null,
      "left": null,
      "margin": null,
      "max_height": null,
      "max_width": null,
      "min_height": null,
      "min_width": null,
      "object_fit": null,
      "object_position": null,
      "order": null,
      "overflow": null,
      "overflow_x": null,
      "overflow_y": null,
      "padding": null,
      "right": null,
      "top": null,
      "visibility": null,
      "width": null
     }
    },
    "97fee9b7651e41d4b4474b7adac4bcf8": {
     "model_module": "@jupyter-widgets/controls",
     "model_module_version": "1.5.0",
     "model_name": "HBoxModel",
     "state": {
      "_dom_classes": [],
      "_model_module": "@jupyter-widgets/controls",
      "_model_module_version": "1.5.0",
      "_model_name": "HBoxModel",
      "_view_count": null,
      "_view_module": "@jupyter-widgets/controls",
      "_view_module_version": "1.5.0",
      "_view_name": "HBoxView",
      "box_style": "",
      "children": [
       "IPY_MODEL_293c57e19ab54e7eb4f9b2e9199b647e",
       "IPY_MODEL_865f6cfdc7484ceab5a913284123f0c1",
       "IPY_MODEL_8c5ce1d9f9e942e7b8f0ce3e79abcf1e"
      ],
      "layout": "IPY_MODEL_0e505592a0a0479ebc262d24971674ba"
     }
    },
    "a3c5a98fb04343a5b70c3d5f8a8b18e1": {
     "model_module": "@jupyter-widgets/base",
     "model_module_version": "1.2.0",
     "model_name": "LayoutModel",
     "state": {
      "_model_module": "@jupyter-widgets/base",
      "_model_module_version": "1.2.0",
      "_model_name": "LayoutModel",
      "_view_count": null,
      "_view_module": "@jupyter-widgets/base",
      "_view_module_version": "1.2.0",
      "_view_name": "LayoutView",
      "align_content": null,
      "align_items": null,
      "align_self": null,
      "border": null,
      "bottom": null,
      "display": null,
      "flex": null,
      "flex_flow": null,
      "grid_area": null,
      "grid_auto_columns": null,
      "grid_auto_flow": null,
      "grid_auto_rows": null,
      "grid_column": null,
      "grid_gap": null,
      "grid_row": null,
      "grid_template_areas": null,
      "grid_template_columns": null,
      "grid_template_rows": null,
      "height": null,
      "justify_content": null,
      "justify_items": null,
      "left": null,
      "margin": null,
      "max_height": null,
      "max_width": null,
      "min_height": null,
      "min_width": null,
      "object_fit": null,
      "object_position": null,
      "order": null,
      "overflow": null,
      "overflow_x": null,
      "overflow_y": null,
      "padding": null,
      "right": null,
      "top": null,
      "visibility": null,
      "width": null
     }
    },
    "bc030de91e794d9ab8f3dc5a8afc40f3": {
     "model_module": "@jupyter-widgets/controls",
     "model_module_version": "1.5.0",
     "model_name": "HBoxModel",
     "state": {
      "_dom_classes": [],
      "_model_module": "@jupyter-widgets/controls",
      "_model_module_version": "1.5.0",
      "_model_name": "HBoxModel",
      "_view_count": null,
      "_view_module": "@jupyter-widgets/controls",
      "_view_module_version": "1.5.0",
      "_view_name": "HBoxView",
      "box_style": "",
      "children": [
       "IPY_MODEL_3d34491493844740a4fae3932b17564d",
       "IPY_MODEL_13a873295cc440ba89f7776da048257e",
       "IPY_MODEL_8e98e8ba599840a2a5f82a6acfef08a9"
      ],
      "layout": "IPY_MODEL_1cbc9b0dbaaf4d90b444d1b2cb242f78"
     }
    },
    "cfaaaed27a524737acf2980a93a88259": {
     "model_module": "@jupyter-widgets/controls",
     "model_module_version": "1.5.0",
     "model_name": "DescriptionStyleModel",
     "state": {
      "_model_module": "@jupyter-widgets/controls",
      "_model_module_version": "1.5.0",
      "_model_name": "DescriptionStyleModel",
      "_view_count": null,
      "_view_module": "@jupyter-widgets/base",
      "_view_module_version": "1.2.0",
      "_view_name": "StyleView",
      "description_width": ""
     }
    },
    "d3d205a87f0e46118ed5f6f39391cd42": {
     "model_module": "@jupyter-widgets/controls",
     "model_module_version": "1.5.0",
     "model_name": "HTMLModel",
     "state": {
      "_dom_classes": [],
      "_model_module": "@jupyter-widgets/controls",
      "_model_module_version": "1.5.0",
      "_model_name": "HTMLModel",
      "_view_count": null,
      "_view_module": "@jupyter-widgets/controls",
      "_view_module_version": "1.5.0",
      "_view_name": "HTMLView",
      "description": "",
      "description_tooltip": null,
      "layout": "IPY_MODEL_f7eb8a2a0fa143e3b7d34c0d412eaccc",
      "placeholder": "​",
      "style": "IPY_MODEL_5b7830dbc9b44445b5d76b2b7b645d1a",
      "value": " 1/1 [00:08&lt;00:00,  8.39s/it, loss=0.55]"
     }
    },
    "d7bfc137dc3241459166528af0521b12": {
     "model_module": "@jupyter-widgets/controls",
     "model_module_version": "1.5.0",
     "model_name": "DescriptionStyleModel",
     "state": {
      "_model_module": "@jupyter-widgets/controls",
      "_model_module_version": "1.5.0",
      "_model_name": "DescriptionStyleModel",
      "_view_count": null,
      "_view_module": "@jupyter-widgets/base",
      "_view_module_version": "1.2.0",
      "_view_name": "StyleView",
      "description_width": ""
     }
    },
    "d9658950df2f49a18cfa5a8795264804": {
     "model_module": "@jupyter-widgets/base",
     "model_module_version": "1.2.0",
     "model_name": "LayoutModel",
     "state": {
      "_model_module": "@jupyter-widgets/base",
      "_model_module_version": "1.2.0",
      "_model_name": "LayoutModel",
      "_view_count": null,
      "_view_module": "@jupyter-widgets/base",
      "_view_module_version": "1.2.0",
      "_view_name": "LayoutView",
      "align_content": null,
      "align_items": null,
      "align_self": null,
      "border": null,
      "bottom": null,
      "display": null,
      "flex": null,
      "flex_flow": null,
      "grid_area": null,
      "grid_auto_columns": null,
      "grid_auto_flow": null,
      "grid_auto_rows": null,
      "grid_column": null,
      "grid_gap": null,
      "grid_row": null,
      "grid_template_areas": null,
      "grid_template_columns": null,
      "grid_template_rows": null,
      "height": null,
      "justify_content": null,
      "justify_items": null,
      "left": null,
      "margin": null,
      "max_height": null,
      "max_width": null,
      "min_height": null,
      "min_width": null,
      "object_fit": null,
      "object_position": null,
      "order": null,
      "overflow": null,
      "overflow_x": null,
      "overflow_y": null,
      "padding": null,
      "right": null,
      "top": null,
      "visibility": null,
      "width": null
     }
    },
    "da9dc781536f4d3a8719eab2450289e0": {
     "model_module": "@jupyter-widgets/controls",
     "model_module_version": "1.5.0",
     "model_name": "ProgressStyleModel",
     "state": {
      "_model_module": "@jupyter-widgets/controls",
      "_model_module_version": "1.5.0",
      "_model_name": "ProgressStyleModel",
      "_view_count": null,
      "_view_module": "@jupyter-widgets/base",
      "_view_module_version": "1.2.0",
      "_view_name": "StyleView",
      "bar_color": null,
      "description_width": ""
     }
    },
    "e2c3b9a899ce4cd2959f6eeb0c11b7b2": {
     "model_module": "@jupyter-widgets/controls",
     "model_module_version": "1.5.0",
     "model_name": "ProgressStyleModel",
     "state": {
      "_model_module": "@jupyter-widgets/controls",
      "_model_module_version": "1.5.0",
      "_model_name": "ProgressStyleModel",
      "_view_count": null,
      "_view_module": "@jupyter-widgets/base",
      "_view_module_version": "1.2.0",
      "_view_name": "StyleView",
      "bar_color": null,
      "description_width": ""
     }
    },
    "f45ed347976542c49df9221f203da57f": {
     "model_module": "@jupyter-widgets/controls",
     "model_module_version": "1.5.0",
     "model_name": "FloatProgressModel",
     "state": {
      "_dom_classes": [],
      "_model_module": "@jupyter-widgets/controls",
      "_model_module_version": "1.5.0",
      "_model_name": "FloatProgressModel",
      "_view_count": null,
      "_view_module": "@jupyter-widgets/controls",
      "_view_module_version": "1.5.0",
      "_view_name": "ProgressView",
      "bar_style": "success",
      "description": "",
      "description_tooltip": null,
      "layout": "IPY_MODEL_927bff8995e6415598afcf9a1ee737da",
      "max": 100,
      "min": 0,
      "orientation": "horizontal",
      "style": "IPY_MODEL_e2c3b9a899ce4cd2959f6eeb0c11b7b2",
      "value": 100
     }
    },
    "f585f565c3904f95a8e5e3e57f6497fa": {
     "model_module": "@jupyter-widgets/base",
     "model_module_version": "1.2.0",
     "model_name": "LayoutModel",
     "state": {
      "_model_module": "@jupyter-widgets/base",
      "_model_module_version": "1.2.0",
      "_model_name": "LayoutModel",
      "_view_count": null,
      "_view_module": "@jupyter-widgets/base",
      "_view_module_version": "1.2.0",
      "_view_name": "LayoutView",
      "align_content": null,
      "align_items": null,
      "align_self": null,
      "border": null,
      "bottom": null,
      "display": null,
      "flex": null,
      "flex_flow": null,
      "grid_area": null,
      "grid_auto_columns": null,
      "grid_auto_flow": null,
      "grid_auto_rows": null,
      "grid_column": null,
      "grid_gap": null,
      "grid_row": null,
      "grid_template_areas": null,
      "grid_template_columns": null,
      "grid_template_rows": null,
      "height": null,
      "justify_content": null,
      "justify_items": null,
      "left": null,
      "margin": null,
      "max_height": null,
      "max_width": null,
      "min_height": null,
      "min_width": null,
      "object_fit": null,
      "object_position": null,
      "order": null,
      "overflow": null,
      "overflow_x": null,
      "overflow_y": null,
      "padding": null,
      "right": null,
      "top": null,
      "visibility": null,
      "width": null
     }
    },
    "f7eb8a2a0fa143e3b7d34c0d412eaccc": {
     "model_module": "@jupyter-widgets/base",
     "model_module_version": "1.2.0",
     "model_name": "LayoutModel",
     "state": {
      "_model_module": "@jupyter-widgets/base",
      "_model_module_version": "1.2.0",
      "_model_name": "LayoutModel",
      "_view_count": null,
      "_view_module": "@jupyter-widgets/base",
      "_view_module_version": "1.2.0",
      "_view_name": "LayoutView",
      "align_content": null,
      "align_items": null,
      "align_self": null,
      "border": null,
      "bottom": null,
      "display": null,
      "flex": null,
      "flex_flow": null,
      "grid_area": null,
      "grid_auto_columns": null,
      "grid_auto_flow": null,
      "grid_auto_rows": null,
      "grid_column": null,
      "grid_gap": null,
      "grid_row": null,
      "grid_template_areas": null,
      "grid_template_columns": null,
      "grid_template_rows": null,
      "height": null,
      "justify_content": null,
      "justify_items": null,
      "left": null,
      "margin": null,
      "max_height": null,
      "max_width": null,
      "min_height": null,
      "min_width": null,
      "object_fit": null,
      "object_position": null,
      "order": null,
      "overflow": null,
      "overflow_x": null,
      "overflow_y": null,
      "padding": null,
      "right": null,
      "top": null,
      "visibility": null,
      "width": null
     }
    }
   }
  }
 },
 "nbformat": 4,
 "nbformat_minor": 1
}
