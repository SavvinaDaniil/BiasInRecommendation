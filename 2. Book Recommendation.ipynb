{
  "cells": [
    {
      "cell_type": "markdown",
      "metadata": {
        "id": "GdmWUJCl6USJ"
      },
      "source": [
        "<a href=\"https://colab.research.google.com/github/SavvinaDaniil/BiasInRecommendation/blob/main/2.%20Book%20Recommendation.ipynb\" target=\"_parent\"><img src=\"https://colab.research.google.com/assets/colab-badge.svg\" alt=\"Open in Colab\"/></a>"
      ]
    },
    {
      "cell_type": "markdown",
      "metadata": {
        "id": "UZEwzP5d6USR"
      },
      "source": [
        "This notebook should be run on Google Colab."
      ]
    },
    {
      "cell_type": "markdown",
      "metadata": {
        "id": "FCeSb4Vu6USS"
      },
      "source": [
        "# Process\n",
        "In this notebook, I will train the book recommendation algorithms using two different packages: <a href=\"http://surpriselib.com/\">Surprise</a> & <a href=\"https://cornac.readthedocs.io/en/latest/\">Cornac</a>. "
      ]
    },
    {
      "cell_type": "markdown",
      "metadata": {
        "id": "Q7QlcgcE6USU"
      },
      "source": [
        "## A. Import libraries"
      ]
    },
    {
      "cell_type": "code",
      "execution_count": 2,
      "metadata": {
        "colab": {
          "base_uri": "https://localhost:8080/"
        },
        "id": "VPmwTeS66USV",
        "outputId": "023fa770-966d-4c2e-be1a-82a6cf8c9aa5",
        "scrolled": true
      },
      "outputs": [
        {
          "output_type": "stream",
          "name": "stdout",
          "text": [
            "\u001b[33mWARNING: Ignoring invalid distribution -ensorflow (/usr/local/lib/python3.7/dist-packages)\u001b[0m\n",
            "\u001b[33mWARNING: Ignoring invalid distribution -ensorflow (/usr/local/lib/python3.7/dist-packages)\u001b[0m\n",
            "Looking in indexes: https://pypi.org/simple, https://us-python.pkg.dev/colab-wheels/public/simple/\n",
            "Requirement already satisfied: cornac in /usr/local/lib/python3.7/dist-packages (1.14.2)\n",
            "Requirement already satisfied: scipy in /usr/local/lib/python3.7/dist-packages (from cornac) (1.7.3)\n",
            "Requirement already satisfied: tqdm>=4.19 in /usr/local/lib/python3.7/dist-packages (from cornac) (4.64.0)\n",
            "Requirement already satisfied: numpy in /usr/local/lib/python3.7/dist-packages (from cornac) (1.21.6)\n",
            "Requirement already satisfied: powerlaw in /usr/local/lib/python3.7/dist-packages (from cornac) (1.5)\n",
            "Requirement already satisfied: matplotlib in /usr/local/lib/python3.7/dist-packages (from powerlaw->cornac) (3.2.2)\n",
            "Requirement already satisfied: mpmath in /usr/local/lib/python3.7/dist-packages (from powerlaw->cornac) (1.2.1)\n",
            "Requirement already satisfied: pyparsing!=2.0.4,!=2.1.2,!=2.1.6,>=2.0.1 in /usr/local/lib/python3.7/dist-packages (from matplotlib->powerlaw->cornac) (3.0.9)\n",
            "Requirement already satisfied: cycler>=0.10 in /usr/local/lib/python3.7/dist-packages (from matplotlib->powerlaw->cornac) (0.11.0)\n",
            "Requirement already satisfied: kiwisolver>=1.0.1 in /usr/local/lib/python3.7/dist-packages (from matplotlib->powerlaw->cornac) (1.4.4)\n",
            "Requirement already satisfied: python-dateutil>=2.1 in /usr/local/lib/python3.7/dist-packages (from matplotlib->powerlaw->cornac) (2.8.2)\n",
            "Requirement already satisfied: typing-extensions in /usr/local/lib/python3.7/dist-packages (from kiwisolver>=1.0.1->matplotlib->powerlaw->cornac) (4.1.1)\n",
            "Requirement already satisfied: six>=1.5 in /usr/local/lib/python3.7/dist-packages (from python-dateutil>=2.1->matplotlib->powerlaw->cornac) (1.15.0)\n",
            "\u001b[33mWARNING: Ignoring invalid distribution -ensorflow (/usr/local/lib/python3.7/dist-packages)\u001b[0m\n"
          ]
        }
      ],
      "source": [
        "!pip install cornac"
      ]
    },
    {
      "cell_type": "code",
      "source": [
        "!pip uninstall tensorflow -y\n",
        "!pip install tensorflow-gpu==1.15\n",
        "!apt install --allow-change-held-packages libcudnn7=7.4.1.5-1+cuda10.0"
      ],
      "metadata": {
        "id": "b_YXM1FA2LCG",
        "outputId": "4c369d10-321b-49af-fd62-df14b1274617",
        "colab": {
          "base_uri": "https://localhost:8080/"
        }
      },
      "execution_count": 1,
      "outputs": [
        {
          "output_type": "stream",
          "name": "stdout",
          "text": [
            "\u001b[33mWARNING: Ignoring invalid distribution -ensorflow (/usr/local/lib/python3.7/dist-packages)\u001b[0m\n",
            "\u001b[33mWARNING: Ignoring invalid distribution -ensorflow (/usr/local/lib/python3.7/dist-packages)\u001b[0m\n",
            "\u001b[33mWARNING: Skipping tensorflow as it is not installed.\u001b[0m\n",
            "\u001b[33mWARNING: Ignoring invalid distribution -ensorflow (/usr/local/lib/python3.7/dist-packages)\u001b[0m\n",
            "\u001b[33mWARNING: Ignoring invalid distribution -ensorflow (/usr/local/lib/python3.7/dist-packages)\u001b[0m\n",
            "Looking in indexes: https://pypi.org/simple, https://us-python.pkg.dev/colab-wheels/public/simple/\n",
            "Collecting tensorflow-gpu==1.15\n",
            "  Downloading tensorflow_gpu-1.15.0-cp37-cp37m-manylinux2010_x86_64.whl (411.5 MB)\n",
            "\u001b[K     |████████████████████████████████| 411.5 MB 7.2 kB/s \n",
            "\u001b[?25hRequirement already satisfied: termcolor>=1.1.0 in /usr/local/lib/python3.7/dist-packages (from tensorflow-gpu==1.15) (1.1.0)\n",
            "Collecting tensorboard<1.16.0,>=1.15.0\n",
            "  Downloading tensorboard-1.15.0-py3-none-any.whl (3.8 MB)\n",
            "\u001b[K     |████████████████████████████████| 3.8 MB 47.8 MB/s \n",
            "\u001b[?25hRequirement already satisfied: numpy<2.0,>=1.16.0 in /usr/local/lib/python3.7/dist-packages (from tensorflow-gpu==1.15) (1.21.6)\n",
            "Requirement already satisfied: six>=1.10.0 in /usr/local/lib/python3.7/dist-packages (from tensorflow-gpu==1.15) (1.15.0)\n",
            "Requirement already satisfied: protobuf>=3.6.1 in /usr/local/lib/python3.7/dist-packages (from tensorflow-gpu==1.15) (3.17.3)\n",
            "Requirement already satisfied: google-pasta>=0.1.6 in /usr/local/lib/python3.7/dist-packages (from tensorflow-gpu==1.15) (0.2.0)\n",
            "Requirement already satisfied: wheel>=0.26 in /usr/local/lib/python3.7/dist-packages (from tensorflow-gpu==1.15) (0.37.1)\n",
            "Collecting keras-applications>=1.0.8\n",
            "  Downloading Keras_Applications-1.0.8-py3-none-any.whl (50 kB)\n",
            "\u001b[K     |████████████████████████████████| 50 kB 7.7 MB/s \n",
            "\u001b[?25hRequirement already satisfied: grpcio>=1.8.6 in /usr/local/lib/python3.7/dist-packages (from tensorflow-gpu==1.15) (1.47.0)\n",
            "Collecting tensorflow-estimator==1.15.1\n",
            "  Downloading tensorflow_estimator-1.15.1-py2.py3-none-any.whl (503 kB)\n",
            "\u001b[K     |████████████████████████████████| 503 kB 75.6 MB/s \n",
            "\u001b[?25hRequirement already satisfied: opt-einsum>=2.3.2 in /usr/local/lib/python3.7/dist-packages (from tensorflow-gpu==1.15) (3.3.0)\n",
            "Collecting gast==0.2.2\n",
            "  Downloading gast-0.2.2.tar.gz (10 kB)\n",
            "Requirement already satisfied: astor>=0.6.0 in /usr/local/lib/python3.7/dist-packages (from tensorflow-gpu==1.15) (0.8.1)\n",
            "Requirement already satisfied: keras-preprocessing>=1.0.5 in /usr/local/lib/python3.7/dist-packages (from tensorflow-gpu==1.15) (1.1.2)\n",
            "Requirement already satisfied: wrapt>=1.11.1 in /usr/local/lib/python3.7/dist-packages (from tensorflow-gpu==1.15) (1.14.1)\n",
            "Requirement already satisfied: absl-py>=0.7.0 in /usr/local/lib/python3.7/dist-packages (from tensorflow-gpu==1.15) (1.2.0)\n",
            "Requirement already satisfied: h5py in /usr/local/lib/python3.7/dist-packages (from keras-applications>=1.0.8->tensorflow-gpu==1.15) (3.1.0)\n",
            "Requirement already satisfied: markdown>=2.6.8 in /usr/local/lib/python3.7/dist-packages (from tensorboard<1.16.0,>=1.15.0->tensorflow-gpu==1.15) (3.4.1)\n",
            "Requirement already satisfied: werkzeug>=0.11.15 in /usr/local/lib/python3.7/dist-packages (from tensorboard<1.16.0,>=1.15.0->tensorflow-gpu==1.15) (1.0.1)\n",
            "Requirement already satisfied: setuptools>=41.0.0 in /usr/local/lib/python3.7/dist-packages (from tensorboard<1.16.0,>=1.15.0->tensorflow-gpu==1.15) (57.4.0)\n",
            "Requirement already satisfied: importlib-metadata>=4.4 in /usr/local/lib/python3.7/dist-packages (from markdown>=2.6.8->tensorboard<1.16.0,>=1.15.0->tensorflow-gpu==1.15) (4.12.0)\n",
            "Requirement already satisfied: zipp>=0.5 in /usr/local/lib/python3.7/dist-packages (from importlib-metadata>=4.4->markdown>=2.6.8->tensorboard<1.16.0,>=1.15.0->tensorflow-gpu==1.15) (3.8.1)\n",
            "Requirement already satisfied: typing-extensions>=3.6.4 in /usr/local/lib/python3.7/dist-packages (from importlib-metadata>=4.4->markdown>=2.6.8->tensorboard<1.16.0,>=1.15.0->tensorflow-gpu==1.15) (4.1.1)\n",
            "Requirement already satisfied: cached-property in /usr/local/lib/python3.7/dist-packages (from h5py->keras-applications>=1.0.8->tensorflow-gpu==1.15) (1.5.2)\n",
            "Building wheels for collected packages: gast\n",
            "  Building wheel for gast (setup.py) ... \u001b[?25l\u001b[?25hdone\n",
            "  Created wheel for gast: filename=gast-0.2.2-py3-none-any.whl size=7554 sha256=4af58a6cd83ec3e26b3ba74ea59b2e54bfe4604f98aa5b0325bb3d8edb96d74d\n",
            "  Stored in directory: /root/.cache/pip/wheels/21/7f/02/420f32a803f7d0967b48dd823da3f558c5166991bfd204eef3\n",
            "Successfully built gast\n",
            "\u001b[33mWARNING: Ignoring invalid distribution -ensorflow (/usr/local/lib/python3.7/dist-packages)\u001b[0m\n",
            "Installing collected packages: tensorflow-estimator, tensorboard, keras-applications, gast, tensorflow-gpu\n",
            "  Attempting uninstall: tensorflow-estimator\n",
            "\u001b[33m    WARNING: Ignoring invalid distribution -ensorflow (/usr/local/lib/python3.7/dist-packages)\u001b[0m\n",
            "    Found existing installation: tensorflow-estimator 2.8.0\n",
            "    Uninstalling tensorflow-estimator-2.8.0:\n",
            "      Successfully uninstalled tensorflow-estimator-2.8.0\n",
            "  Attempting uninstall: tensorboard\n",
            "\u001b[33m    WARNING: Ignoring invalid distribution -ensorflow (/usr/local/lib/python3.7/dist-packages)\u001b[0m\n",
            "    Found existing installation: tensorboard 2.8.0\n",
            "    Uninstalling tensorboard-2.8.0:\n",
            "      Successfully uninstalled tensorboard-2.8.0\n",
            "  Attempting uninstall: gast\n",
            "\u001b[33m    WARNING: Ignoring invalid distribution -ensorflow (/usr/local/lib/python3.7/dist-packages)\u001b[0m\n",
            "    Found existing installation: gast 0.5.3\n",
            "    Uninstalling gast-0.5.3:\n",
            "      Successfully uninstalled gast-0.5.3\n",
            "\u001b[33mWARNING: Ignoring invalid distribution -ensorflow (/usr/local/lib/python3.7/dist-packages)\u001b[0m\n",
            "\u001b[33mWARNING: Ignoring invalid distribution -ensorflow (/usr/local/lib/python3.7/dist-packages)\u001b[0m\n",
            "\u001b[33mWARNING: Ignoring invalid distribution -ensorflow (/usr/local/lib/python3.7/dist-packages)\u001b[0m\n",
            "\u001b[33mWARNING: Ignoring invalid distribution -ensorflow (/usr/local/lib/python3.7/dist-packages)\u001b[0m\n",
            "\u001b[33mWARNING: Ignoring invalid distribution -ensorflow (/usr/local/lib/python3.7/dist-packages)\u001b[0m\n",
            "\u001b[31mERROR: pip's dependency resolver does not currently take into account all the packages that are installed. This behaviour is the source of the following dependency conflicts.\n",
            "tensorflow-probability 0.16.0 requires gast>=0.3.2, but you have gast 0.2.2 which is incompatible.\u001b[0m\n",
            "Successfully installed gast-0.2.2 keras-applications-1.0.8 tensorboard-1.15.0 tensorflow-estimator-1.15.1 tensorflow-gpu-1.15.0\n",
            "Reading package lists... Done\n",
            "Building dependency tree       \n",
            "Reading state information... Done\n",
            "The following package was automatically installed and is no longer required:\n",
            "  libnvidia-common-460\n",
            "Use 'apt autoremove' to remove it.\n",
            "The following packages will be REMOVED:\n",
            "  libcudnn7-dev\n",
            "The following packages will be DOWNGRADED:\n",
            "  libcudnn7\n",
            "0 upgraded, 0 newly installed, 1 downgraded, 1 to remove and 18 not upgraded.\n",
            "Need to get 149 MB of archives.\n",
            "After this operation, 485 MB disk space will be freed.\n",
            "Get:1 https://developer.download.nvidia.com/compute/machine-learning/repos/ubuntu1804/x86_64  libcudnn7 7.4.1.5-1+cuda10.0 [149 MB]\n",
            "Fetched 149 MB in 2s (60.5 MB/s)\n",
            "(Reading database ... 155676 files and directories currently installed.)\n",
            "Removing libcudnn7-dev (7.6.5.32-1+cuda10.1) ...\n",
            "update-alternatives: removing manually selected alternative - switching libcudnn to auto mode\n",
            "update-alternatives: using /usr/include/x86_64-linux-gnu/cudnn_v8.h to provide /usr/include/cudnn.h (libcudnn) in auto mode\n",
            "\u001b[1mdpkg:\u001b[0m \u001b[1;33mwarning:\u001b[0m downgrading libcudnn7 from 7.6.5.32-1+cuda10.1 to 7.4.1.5-1+cuda10.0\n",
            "(Reading database ... 155670 files and directories currently installed.)\n",
            "Preparing to unpack .../libcudnn7_7.4.1.5-1+cuda10.0_amd64.deb ...\n",
            "Unpacking libcudnn7 (7.4.1.5-1+cuda10.0) over (7.6.5.32-1+cuda10.1) ...\n",
            "Setting up libcudnn7 (7.4.1.5-1+cuda10.0) ...\n",
            "Processing triggers for libc-bin (2.27-3ubuntu1.5) ...\n"
          ]
        }
      ]
    },
    {
      "cell_type": "code",
      "execution_count": 6,
      "metadata": {
        "id": "47V5DR7s6USa"
      },
      "outputs": [],
      "source": [
        "#%tensorflow_version 1.x\n",
        "import warnings\n",
        "warnings.simplefilter(action='ignore', category=FutureWarning)\n",
        "import os\n",
        "import matplotlib.pyplot as plt\n",
        "import random as rd\n",
        "import pandas as pd\n",
        "import numpy as np\n",
        "#from run_algorithms import train_algorithms, train_algorithms_kf, prepare_dataset, prepare_dataset_kf\n",
        "from tqdm import tqdm\n",
        "import time\n",
        "pd.set_option(\"display.precision\", 6)\n",
        "\n",
        "# Cornac imports\n",
        "import cornac\n",
        "from cornac.eval_methods import RatioSplit\n",
        "from cornac.data import Reader as CornacReader #Reader exists in both packages\n",
        "from cornac.models import MostPop, MF, PMF, BPR, NeuMF, WMF, HPF, VAECF, NMF\n",
        "from cornac.models import NMF as CornacNMF #NMF exists in both packages\n",
        "from cornac.metrics import MAE, MSE, RMSE, Precision, Recall, NDCG, AUC, MAP, FMeasure, MRR\n",
        "\n",
        "\n",
        "from collections import defaultdict\n",
        "from scipy import stats\n",
        "from numpy.linalg import norm\n",
        "import seaborn as sns\n",
        "# set plot style: grey grid in the background:\n",
        "sns.set(style=\"darkgrid\")\n",
        "pd.set_option(\"display.precision\", 8)"
      ]
    },
    {
      "cell_type": "markdown",
      "metadata": {
        "id": "Sxc749MS6USc"
      },
      "source": [
        "## B. Set hyperparameters\n",
        "There are certain hyperparameters that need to be tuned before the run. "
      ]
    },
    {
      "cell_type": "code",
      "execution_count": 7,
      "metadata": {
        "id": "KpDdroKt6USd"
      },
      "outputs": [],
      "source": [
        "item_col = \"ISBN\" # the item column\n",
        "my_seed = 0 # random_seed\n",
        "test_size = 0.2 # the percentage of \"hold out\" data that are used for testing\n",
        "rating_threshold = 1.0 # needed for the cornac library\n",
        "predict_col = \"rating\" # the column we are predicting\n",
        "train_way = \"simple_split\"\n",
        "n_splits = 5 # the amount of splits\n",
        "\n",
        "if train_way == \"simple_split\": n_splits = 1\n",
        "rd.seed(my_seed)\n",
        "np.random.seed(my_seed)"
      ]
    },
    {
      "cell_type": "markdown",
      "metadata": {
        "id": "MbqK-CH56USj"
      },
      "source": [
        "## C. Read files"
      ]
    },
    {
      "cell_type": "markdown",
      "metadata": {
        "id": "heXv-FIr6GIR"
      },
      "source": [
        "General."
      ]
    },
    {
      "cell_type": "code",
      "execution_count": 8,
      "metadata": {
        "id": "utMWqIUK6USk"
      },
      "outputs": [],
      "source": [
        "user_events_file = \"https://raw.githubusercontent.com/SavvinaDaniil/BiasInRecommendation/main/data/processed/final_fairbook_ratings.csv\"\n",
        "high_user_file = \"https://raw.githubusercontent.com/SavvinaDaniil/BiasInRecommendation/main/data/processed/high_users.csv\"\n",
        "low_user_file = \"https://raw.githubusercontent.com/SavvinaDaniil/BiasInRecommendation/main/data/processed/low_users.csv\"\n",
        "medium_user_file = \"https://raw.githubusercontent.com/SavvinaDaniil/BiasInRecommendation/main/data/processed/med_users.csv\"\n",
        "df_item_dist_file = \"https://raw.githubusercontent.com/SavvinaDaniil/BiasInRecommendation/main/data/processed/item_pop_dist.csv\""
      ]
    },
    {
      "cell_type": "markdown",
      "metadata": {
        "id": "An_b9dDJ6eRY"
      },
      "source": [
        "Country."
      ]
    },
    {
      "cell_type": "code",
      "execution_count": null,
      "metadata": {
        "id": "fKd2M9K9u5G6"
      },
      "outputs": [],
      "source": [
        "# USA_oriented_file = \"https://raw.githubusercontent.com/SavvinaDaniil/BiasInRecommendation/main/data/processed/books/high_users_u5_i5_t200_tfu20_USAr_new.csv\"\n",
        "# midUSA_oriented_file = \"https://raw.githubusercontent.com/SavvinaDaniil/BiasInRecommendation/main/data/processed/books/med_users_u5_i5_t200_tfu20_USAr_new.csv\"\n",
        "# lowUSA_oriented_file = \"https://raw.githubusercontent.com/SavvinaDaniil/BiasInRecommendation/main/data/processed/books/low_users_u5_i5_t200_tfu20_USAr_new.csv\""
      ]
    },
    {
      "cell_type": "markdown",
      "metadata": {
        "id": "STNpdNmp6fkL"
      },
      "source": [
        "Read all files."
      ]
    },
    {
      "cell_type": "code",
      "execution_count": 10,
      "metadata": {
        "id": "WsWUflDo8K25"
      },
      "outputs": [],
      "source": [
        "low_popularity = pd.read_csv(low_user_file, index_col=0)\n",
        "med_popularity = pd.read_csv(medium_user_file, index_col=0)\n",
        "high_popularity = pd.read_csv(high_user_file, index_col=0)"
      ]
    },
    {
      "cell_type": "code",
      "execution_count": 11,
      "metadata": {
        "id": "3yQOz5sgvDZh"
      },
      "outputs": [],
      "source": [
        "# USA_oriented = pd.read_csv(USA_oriented_file, index_col=0)\n",
        "# midUSA_oriented = pd.read_csv(midUSA_oriented_file, index_col=0)\n",
        "# lowUSA_oriented = pd.read_csv(lowUSA_oriented_file, index_col=0)"
      ]
    },
    {
      "cell_type": "markdown",
      "metadata": {
        "id": "5Fp90eoS6mfL"
      },
      "source": [
        "Confirm number of users."
      ]
    },
    {
      "cell_type": "code",
      "execution_count": 12,
      "metadata": {
        "colab": {
          "base_uri": "https://localhost:8080/"
        },
        "id": "RTH6eEdX4sw8",
        "outputId": "120b7d69-cfd1-4fa0-aa89-b6612756e36e"
      },
      "outputs": [
        {
          "output_type": "stream",
          "name": "stdout",
          "text": [
            "6354\n"
          ]
        }
      ],
      "source": [
        "num_users1 = len(low_popularity) + len(med_popularity) + len(high_popularity)\n",
        "#num_users3 = len(USA_oriented) + len(midUSA_oriented) + len(lowUSA_oriented)\n",
        "print(num_users1)\n",
        "#num_users = num_users1"
      ]
    },
    {
      "cell_type": "markdown",
      "metadata": {
        "id": "RL868j5U6vbl"
      },
      "source": [
        "Distribution of items (for popularity)."
      ]
    },
    {
      "cell_type": "code",
      "execution_count": 13,
      "metadata": {
        "id": "pUKKcoUG81fK"
      },
      "outputs": [],
      "source": [
        "df_item_dist = pd.read_csv(df_item_dist_file, index_col = 0)"
      ]
    },
    {
      "cell_type": "code",
      "execution_count": 14,
      "metadata": {
        "colab": {
          "base_uri": "https://localhost:8080/",
          "height": 206
        },
        "id": "wVLsu75bjGga",
        "outputId": "15acc82f-e290-432a-855b-1f12327063f2"
      },
      "outputs": [
        {
          "output_type": "execute_result",
          "data": {
            "text/plain": [
              "          count\n",
              "121  0.05901794\n",
              "68   0.04359459\n",
              "40   0.03981744\n",
              "413  0.03903053\n",
              "443  0.03729934"
            ],
            "text/html": [
              "\n",
              "  <div id=\"df-964d95df-69fc-43a8-84b8-4fe24ab8fc19\">\n",
              "    <div class=\"colab-df-container\">\n",
              "      <div>\n",
              "<style scoped>\n",
              "    .dataframe tbody tr th:only-of-type {\n",
              "        vertical-align: middle;\n",
              "    }\n",
              "\n",
              "    .dataframe tbody tr th {\n",
              "        vertical-align: top;\n",
              "    }\n",
              "\n",
              "    .dataframe thead th {\n",
              "        text-align: right;\n",
              "    }\n",
              "</style>\n",
              "<table border=\"1\" class=\"dataframe\">\n",
              "  <thead>\n",
              "    <tr style=\"text-align: right;\">\n",
              "      <th></th>\n",
              "      <th>count</th>\n",
              "    </tr>\n",
              "  </thead>\n",
              "  <tbody>\n",
              "    <tr>\n",
              "      <th>121</th>\n",
              "      <td>0.05901794</td>\n",
              "    </tr>\n",
              "    <tr>\n",
              "      <th>68</th>\n",
              "      <td>0.04359459</td>\n",
              "    </tr>\n",
              "    <tr>\n",
              "      <th>40</th>\n",
              "      <td>0.03981744</td>\n",
              "    </tr>\n",
              "    <tr>\n",
              "      <th>413</th>\n",
              "      <td>0.03903053</td>\n",
              "    </tr>\n",
              "    <tr>\n",
              "      <th>443</th>\n",
              "      <td>0.03729934</td>\n",
              "    </tr>\n",
              "  </tbody>\n",
              "</table>\n",
              "</div>\n",
              "      <button class=\"colab-df-convert\" onclick=\"convertToInteractive('df-964d95df-69fc-43a8-84b8-4fe24ab8fc19')\"\n",
              "              title=\"Convert this dataframe to an interactive table.\"\n",
              "              style=\"display:none;\">\n",
              "        \n",
              "  <svg xmlns=\"http://www.w3.org/2000/svg\" height=\"24px\"viewBox=\"0 0 24 24\"\n",
              "       width=\"24px\">\n",
              "    <path d=\"M0 0h24v24H0V0z\" fill=\"none\"/>\n",
              "    <path d=\"M18.56 5.44l.94 2.06.94-2.06 2.06-.94-2.06-.94-.94-2.06-.94 2.06-2.06.94zm-11 1L8.5 8.5l.94-2.06 2.06-.94-2.06-.94L8.5 2.5l-.94 2.06-2.06.94zm10 10l.94 2.06.94-2.06 2.06-.94-2.06-.94-.94-2.06-.94 2.06-2.06.94z\"/><path d=\"M17.41 7.96l-1.37-1.37c-.4-.4-.92-.59-1.43-.59-.52 0-1.04.2-1.43.59L10.3 9.45l-7.72 7.72c-.78.78-.78 2.05 0 2.83L4 21.41c.39.39.9.59 1.41.59.51 0 1.02-.2 1.41-.59l7.78-7.78 2.81-2.81c.8-.78.8-2.07 0-2.86zM5.41 20L4 18.59l7.72-7.72 1.47 1.35L5.41 20z\"/>\n",
              "  </svg>\n",
              "      </button>\n",
              "      \n",
              "  <style>\n",
              "    .colab-df-container {\n",
              "      display:flex;\n",
              "      flex-wrap:wrap;\n",
              "      gap: 12px;\n",
              "    }\n",
              "\n",
              "    .colab-df-convert {\n",
              "      background-color: #E8F0FE;\n",
              "      border: none;\n",
              "      border-radius: 50%;\n",
              "      cursor: pointer;\n",
              "      display: none;\n",
              "      fill: #1967D2;\n",
              "      height: 32px;\n",
              "      padding: 0 0 0 0;\n",
              "      width: 32px;\n",
              "    }\n",
              "\n",
              "    .colab-df-convert:hover {\n",
              "      background-color: #E2EBFA;\n",
              "      box-shadow: 0px 1px 2px rgba(60, 64, 67, 0.3), 0px 1px 3px 1px rgba(60, 64, 67, 0.15);\n",
              "      fill: #174EA6;\n",
              "    }\n",
              "\n",
              "    [theme=dark] .colab-df-convert {\n",
              "      background-color: #3B4455;\n",
              "      fill: #D2E3FC;\n",
              "    }\n",
              "\n",
              "    [theme=dark] .colab-df-convert:hover {\n",
              "      background-color: #434B5C;\n",
              "      box-shadow: 0px 1px 3px 1px rgba(0, 0, 0, 0.15);\n",
              "      filter: drop-shadow(0px 1px 2px rgba(0, 0, 0, 0.3));\n",
              "      fill: #FFFFFF;\n",
              "    }\n",
              "  </style>\n",
              "\n",
              "      <script>\n",
              "        const buttonEl =\n",
              "          document.querySelector('#df-964d95df-69fc-43a8-84b8-4fe24ab8fc19 button.colab-df-convert');\n",
              "        buttonEl.style.display =\n",
              "          google.colab.kernel.accessAllowed ? 'block' : 'none';\n",
              "\n",
              "        async function convertToInteractive(key) {\n",
              "          const element = document.querySelector('#df-964d95df-69fc-43a8-84b8-4fe24ab8fc19');\n",
              "          const dataTable =\n",
              "            await google.colab.kernel.invokeFunction('convertToInteractive',\n",
              "                                                     [key], {});\n",
              "          if (!dataTable) return;\n",
              "\n",
              "          const docLinkHtml = 'Like what you see? Visit the ' +\n",
              "            '<a target=\"_blank\" href=https://colab.research.google.com/notebooks/data_table.ipynb>data table notebook</a>'\n",
              "            + ' to learn more about interactive tables.';\n",
              "          element.innerHTML = '';\n",
              "          dataTable['output_type'] = 'display_data';\n",
              "          await google.colab.output.renderOutput(dataTable, element);\n",
              "          const docLink = document.createElement('div');\n",
              "          docLink.innerHTML = docLinkHtml;\n",
              "          element.appendChild(docLink);\n",
              "        }\n",
              "      </script>\n",
              "    </div>\n",
              "  </div>\n",
              "  "
            ]
          },
          "metadata": {},
          "execution_count": 14
        }
      ],
      "source": [
        "df_item_dist.head()"
      ]
    },
    {
      "cell_type": "markdown",
      "metadata": {
        "id": "iH7BETV86USm"
      },
      "source": [
        "## D. Recommendation "
      ]
    },
    {
      "cell_type": "markdown",
      "metadata": {
        "id": "fe6or3ho6USn"
      },
      "source": [
        "### Cornac"
      ]
    },
    {
      "cell_type": "code",
      "execution_count": 15,
      "metadata": {
        "id": "eMpAQsgL6USo"
      },
      "outputs": [],
      "source": [
        "# load dataset in Cornac\n",
        "os.system(\"wget \"+user_events_file)\n",
        "reader = CornacReader()\n",
        "data = reader.read(user_events_file.split(\"/\")[-1],sep =\",\", skip_lines =1)"
      ]
    },
    {
      "cell_type": "code",
      "execution_count": 16,
      "metadata": {
        "id": "lZnmi5_l6USo"
      },
      "outputs": [],
      "source": [
        "# Split the data based on ratio\n",
        "rs = RatioSplit(data=data, test_size=test_size, rating_threshold=rating_threshold, seed=0)"
      ]
    },
    {
      "cell_type": "code",
      "execution_count": 17,
      "metadata": {
        "id": "otDvr-GB6USp"
      },
      "outputs": [],
      "source": [
        "# initialize models, here we are comparing: simple, traditional, and neural networks based models\n",
        "models = [\n",
        "          # 1: Random\n",
        "          # 2: MostPop\n",
        "          MostPop(),\n",
        "          # 3: UserKNN\n",
        "          # 4: BPR\n",
        "          BPR(k=10, max_iter=200, learning_rate=0.001, lambda_reg=0.01, seed=123),\n",
        "          # 5: MF\n",
        "          MF(k=30, max_iter=100, learning_rate=0.01, lambda_reg=0.001, seed=123),\n",
        "          # 6: PMF\n",
        "          PMF(k=10, max_iter=100, learning_rate=0.001, lambda_reg=0.001),\n",
        "          # 7: NMF\n",
        "          NMF(k=15, max_iter=50, learning_rate=0.005, lambda_u=0.06, lambda_v=0.06, lambda_bu=0.02, lambda_bi=0.02, use_bias=False, verbose=True, seed=123),\n",
        "          # 8: WMF\n",
        "          WMF(k=50, max_iter=50, learning_rate=0.001, lambda_u=0.01, lambda_v=0.01, verbose=True, seed=123),\n",
        "          # 9: PF\n",
        "          HPF(k=50, seed=123, hierarchical=False, name=\"PF\"),\n",
        "          # 10: NueMF\n",
        "          NeuMF(num_factors=8, layers=[32, 16, 8], act_fn=\"tanh\", num_epochs=1, num_neg=3, batch_size=256, lr=0.001, seed=42, verbose=True),\n",
        "          # 11: VAECF\n",
        "          VAECF(k=10, autoencoder_structure=[20], act_fn=\"tanh\", likelihood=\"mult\", n_epochs=100, batch_size=100, learning_rate=0.001, beta=1.0, seed=123, use_gpu=True, verbose=True)\n",
        "          ]"
      ]
    },
    {
      "cell_type": "code",
      "execution_count": 18,
      "metadata": {
        "colab": {
          "base_uri": "https://localhost:8080/",
          "height": 475,
          "referenced_widgets": [
            "0b421337e2dd44208545b072592a4469",
            "0ec2a51618154a46a9d308891fcd7a3f",
            "5c21853de19444f3baf2b6a8cc3ac317",
            "09d70acfc1dd410d8c3e1f1512dcb03f",
            "571efbd302784c0997b7dd9cfc992fbb",
            "f752eed09d5e4f44b76ea70382496631",
            "ffd743d7d9c74288af6469ae0de8fbde",
            "d21a2c61f1c34e5b9c402871c97c4082",
            "4f4700283d8b4450933a8e12f4c5ad8f",
            "03beb099bdb24633a5f241cc0bd6ebc7",
            "6248f5597eef46bcb1410db6e901dcf7",
            "2e91933b5a44478eace7436cf4ea665b",
            "b5b7e4d0b434451ab89fc9b84fb0e52e",
            "d7fb7bea9356430ab842eb830d708907",
            "fac4074c3a764d14abac74dd01099e8a",
            "4d97f1bdb197425c898d721e151620d6",
            "3e5b02f97e1245f6ba44f239784b4628",
            "4a55916a17794466ad5801d9d0d0d745",
            "ccc18189e527483d837cfab62da71f00",
            "f67a6b5d489e4ac197068fc785bb7ed4",
            "409ba97b8d784a44b5d72e5adc68b0a3",
            "1abc8059878d440895c8cdbc6790f31a",
            "4b9f7d4063c644bfbbfbd7cf0d2cd8c4",
            "a22144e1c99f46de9859491e628e6630",
            "774e94f0b7e847ab9b9f58ab3e5f6df9",
            "97a23b5cfa8242a391bb8aeae40f061f",
            "caea7c59fc214b69b897616f6bd71799",
            "82beead443e54f41834cbceb5524bd83",
            "990921303fe8440b9881b795dcb816e4",
            "54d48ca55fdf4a2d920c9904dc32da11",
            "72b6098ee9c5443da6022761b8126f10",
            "258f2bfea86649b7b7c3b81a7de24183",
            "63fa5b0299fd4ed0ac3ca166e8437662",
            "ebbc34901b664331ac552f54f9f51dbc",
            "c642f978160a4914abde839eca1a791e",
            "29c602fd42e04fd19f2ccc972c2e68f0",
            "e56c1ce4640442d8bbf093ca014ab97b",
            "48498efc307342b8bc43a01367ad2db6",
            "a7d3895a9d5c4a07be428c364bc6f036",
            "850d841784bc46c897d0d7f2a871a4fc",
            "4455a8f1dc3d4702a8e6aa3e2044ef5c",
            "3e76e13c3be941e589cb2fee754cb9cc",
            "5fbf2d5f553643ffbc3022da29c418eb",
            "7d0cbdd0002642d9a9ec58c1dbab2d6b"
          ]
        },
        "id": "erbjctPK6USq",
        "outputId": "99bc70ec-ba66-4b88-e9ce-a4bc543621b1"
      },
      "outputs": [
        {
          "output_type": "display_data",
          "data": {
            "text/plain": [
              "  0%|          | 0/50 [00:00<?, ?it/s]"
            ],
            "application/vnd.jupyter.widget-view+json": {
              "version_major": 2,
              "version_minor": 0,
              "model_id": "0b421337e2dd44208545b072592a4469"
            }
          },
          "metadata": {}
        },
        {
          "output_type": "stream",
          "name": "stdout",
          "text": [
            "Optimization finished!\n"
          ]
        },
        {
          "output_type": "display_data",
          "data": {
            "text/plain": [
              "  0%|          | 0/50 [00:00<?, ?it/s]"
            ],
            "application/vnd.jupyter.widget-view+json": {
              "version_major": 2,
              "version_minor": 0,
              "model_id": "2e91933b5a44478eace7436cf4ea665b"
            }
          },
          "metadata": {}
        },
        {
          "output_type": "stream",
          "name": "stdout",
          "text": [
            "Learning completed!\n",
            "Learning...\n",
            "Learning completed!\n"
          ]
        },
        {
          "output_type": "display_data",
          "data": {
            "text/plain": [
              "  0%|          | 0/1 [00:00<?, ?it/s]"
            ],
            "application/vnd.jupyter.widget-view+json": {
              "version_major": 2,
              "version_minor": 0,
              "model_id": "4b9f7d4063c644bfbbfbd7cf0d2cd8c4"
            }
          },
          "metadata": {}
        },
        {
          "output_type": "display_data",
          "data": {
            "text/plain": [
              "  0%|          | 0/100 [00:00<?, ?it/s]"
            ],
            "application/vnd.jupyter.widget-view+json": {
              "version_major": 2,
              "version_minor": 0,
              "model_id": "ebbc34901b664331ac552f54f9f51dbc"
            }
          },
          "metadata": {}
        },
        {
          "output_type": "stream",
          "name": "stdout",
          "text": [
            "\n",
            "TEST:\n",
            "...\n",
            "        |    MAE |     MSE |   RMSE |    AUC |  F1@10 |  F1@20 |   F1@5 |  F1@50 |    MAP |    MRR | NDCG@10 | NDCG@20 | NDCG@5 | NDCG@50 | Precision@10 | Precision@20 | Precision@5 | Precision@50 | Recall@10 | Recall@20 | Recall@5 | Recall@50 | Train (s) | Test (s)\n",
            "------- + ------ + ------- + ------ + ------ + ------ + ------ + ------ + ------ + ------ + ------ + ------- + ------- + ------ + ------- + ------------ + ------------ + ----------- + ------------ + --------- + --------- + -------- + --------- + --------- + --------\n",
            "MostPop | 2.4102 |  9.3176 | 2.6756 | 0.6995 | 0.0120 | 0.0118 | 0.0104 | 0.0104 | 0.0165 | 0.0389 |  0.0191 |  0.0252 | 0.0147 |  0.0370 |       0.0089 |       0.0074 |      0.0097 |       0.0058 |    0.0275 |    0.0461 |   0.0156 |    0.0901 |    0.0115 |  13.0529\n",
            "BPR     | 6.5232 | 45.8364 | 6.6137 | 0.7170 | 0.0120 | 0.0119 | 0.0104 | 0.0105 | 0.0168 | 0.0384 |  0.0191 |  0.0253 | 0.0146 |  0.0371 |       0.0089 |       0.0075 |      0.0097 |       0.0058 |    0.0277 |    0.0462 |   0.0156 |    0.0908 |    2.0768 |  20.1839\n",
            "MF      | 1.2901 |  2.8576 | 1.4347 | 0.5258 | 0.0017 | 0.0018 | 0.0016 | 0.0018 | 0.0030 | 0.0076 |  0.0025 |  0.0033 | 0.0021 |  0.0054 |       0.0014 |       0.0012 |      0.0017 |       0.0010 |    0.0037 |    0.0062 |   0.0023 |    0.0132 |    0.4414 |  17.5912\n",
            "PMF     | 1.3406 |  2.9074 | 1.4726 | 0.6267 | 0.0034 | 0.0037 | 0.0023 | 0.0038 | 0.0055 | 0.0122 |  0.0050 |  0.0070 | 0.0031 |  0.0120 |       0.0025 |       0.0023 |      0.0021 |       0.0021 |    0.0085 |    0.0148 |   0.0036 |    0.0338 |    2.9082 |  20.9694\n",
            "NMF     | 2.1967 |  6.5538 | 2.3443 | 0.5329 | 0.0005 | 0.0007 | 0.0005 | 0.0008 | 0.0019 | 0.0035 |  0.0008 |  0.0012 | 0.0006 |  0.0025 |       0.0004 |       0.0004 |      0.0004 |       0.0005 |    0.0012 |    0.0024 |   0.0008 |    0.0073 |    0.6780 |  17.3886\n",
            "WMF     | 5.4820 | 34.4923 | 5.6488 | 0.7613 | 0.0181 | 0.0175 | 0.0145 | 0.0147 | 0.0211 | 0.0425 |  0.0263 |  0.0356 | 0.0172 |  0.0508 |       0.0128 |       0.0108 |      0.0129 |       0.0081 |    0.0473 |    0.0759 |   0.0230 |    0.1318 |   22.6936 |  20.2744\n",
            "PF      | 6.7288 | 48.5058 | 6.8159 | 0.6978 | 0.0116 | 0.0115 | 0.0099 | 0.0104 | 0.0159 | 0.0343 |  0.0184 |  0.0247 | 0.0132 |  0.0368 |       0.0083 |       0.0071 |      0.0087 |       0.0058 |    0.0283 |    0.0478 |   0.0153 |    0.0927 |  102.7812 |  22.9777\n",
            "NeuMF   | 6.7421 | 48.6854 | 6.8282 | 0.7151 | 0.0121 | 0.0113 | 0.0104 | 0.0101 | 0.0166 | 0.0385 |  0.0191 |  0.0245 | 0.0147 |  0.0365 |       0.0089 |       0.0071 |      0.0097 |       0.0056 |    0.0274 |    0.0439 |   0.0156 |    0.0883 |    7.6995 |  37.0942\n",
            "VAECF   | 6.7421 | 48.6854 | 6.8282 | 0.8114 | 0.0194 | 0.0197 | 0.0174 | 0.0173 | 0.0268 | 0.0563 |  0.0309 |  0.0419 | 0.0236 |  0.0616 |       0.0141 |       0.0123 |      0.0158 |       0.0096 |    0.0463 |    0.0799 |   0.0269 |    0.1539 |   43.7828 |  29.6640\n",
            "\n"
          ]
        }
      ],
      "source": [
        "# define metrics to evaluate the models\n",
        "metrics = [MAE(), MSE(), RMSE(), AUC(), MAP(), MRR(), \n",
        "           Precision(k=5), Precision(k=10), Precision(k=20), Precision(k=50),\n",
        "           Recall(k=5), Recall(k=10), Recall(k=20), Recall(k=50),\n",
        "           NDCG(k=5), NDCG(k=10), NDCG(k=20), NDCG(k=50),\n",
        "           FMeasure(k=5), FMeasure(k=10), FMeasure(k=20), FMeasure(k=50)]\n",
        "\n",
        "# put it together in an experiment, voilà!\n",
        "exp = cornac.Experiment(eval_method=rs, models=models, metrics=metrics, user_based=True)\n",
        "exp.run()"
      ]
    },
    {
      "cell_type": "code",
      "execution_count": 19,
      "metadata": {
        "id": "UnhS3ZT87sXb"
      },
      "outputs": [],
      "source": [
        "def compute_user_knn(C):\n",
        "  ctime = time.time()\n",
        "  print(\"Training User-based Collaborative Filtering...\", )\n",
        "\n",
        "  sim = C.dot(C.T)\n",
        "  norms = [norm(C[i]) for i in range(C.shape[0])]\n",
        "\n",
        "  for i in tqdm(range(C.shape[0])):\n",
        "    sim[i][i] = 0.0\n",
        "    for j in range(i+1, C.shape[0]):\n",
        "      sim[i][j] /= (norms[i] * norms[j])\n",
        "      sim[j][i] /= (norms[i] * norms[j])\n",
        "\n",
        "  print(\"Done. Elapsed time:\", time.time() - ctime, \"s\")\n",
        "  rec_score = sim.dot(C)\n",
        "  return rec_score"
      ]
    },
    {
      "cell_type": "code",
      "execution_count": 20,
      "metadata": {
        "id": "Hr55g2GF7xSl"
      },
      "outputs": [],
      "source": [
        "def read_training_data():\n",
        "  training_matrix = np.zeros((rs.train_set.matrix.shape[0], rs.train_set.matrix.shape[1]))\n",
        "  for uid in tqdm(rs.train_set.uid_map.values()):\n",
        "    for iid in rs.train_set.iid_map.values():\n",
        "      training_matrix[uid, iid] = rs.train_set.matrix[uid, iid]\n",
        "  return training_matrix"
      ]
    },
    {
      "cell_type": "code",
      "execution_count": 21,
      "metadata": {
        "colab": {
          "base_uri": "https://localhost:8080/"
        },
        "id": "V7IpeOlm70dg",
        "outputId": "7048c540-bf29-4941-8c8a-c79c24d1018e"
      },
      "outputs": [
        {
          "output_type": "stream",
          "name": "stderr",
          "text": [
            "100%|██████████| 6350/6350 [15:49<00:00,  6.68it/s]\n"
          ]
        }
      ],
      "source": [
        "# creating users-books rating matrix (will be used for User-KNN algorithm)\n",
        "training_matrix = read_training_data()"
      ]
    },
    {
      "cell_type": "code",
      "execution_count": 23,
      "metadata": {
        "colab": {
          "base_uri": "https://localhost:8080/"
        },
        "id": "XzkJFwrJ72Sy",
        "outputId": "f1362633-855f-4afd-9473-5184861bf36c"
      },
      "outputs": [
        {
          "output_type": "stream",
          "name": "stdout",
          "text": [
            "Training User-based Collaborative Filtering...\n"
          ]
        },
        {
          "output_type": "stream",
          "name": "stderr",
          "text": [
            "100%|██████████| 6350/6350 [00:18<00:00, 339.62it/s] \n"
          ]
        },
        {
          "output_type": "stream",
          "name": "stdout",
          "text": [
            "Done. Elapsed time: 24.818676948547363 s\n"
          ]
        }
      ],
      "source": [
        "# running User-KNN algorithms and getting the user-book scores\n",
        "user_knn_scores = compute_user_knn(training_matrix)"
      ]
    },
    {
      "cell_type": "code",
      "execution_count": 24,
      "metadata": {
        "id": "8R-5uOIt74me"
      },
      "outputs": [],
      "source": [
        "# UserKNN recommendation algorithm\n",
        "def get_top_n_UserKNN(n=10):\n",
        "    print(\"User-KNN model is selected:\")\n",
        "    top_n = defaultdict(list)\n",
        "    # test_items = list(rs.test_set.iid_map.keys())\n",
        "    for uid in rs.train_set.uid_map.values():\n",
        "      user_id = list(rs.train_set.user_ids)[uid]\n",
        "      top_n_items_idxs = list(reversed(user_knn_scores[uid].argsort()))[:n]\n",
        "      for iid in top_n_items_idxs:\n",
        "        item_id = list(rs.train_set.item_ids)[iid]\n",
        "        top_n[int(user_id)].append((int(item_id), user_knn_scores[uid][iid]))\n",
        "    return top_n"
      ]
    },
    {
      "cell_type": "code",
      "execution_count": 25,
      "metadata": {
        "id": "awd4TmF476qI"
      },
      "outputs": [],
      "source": [
        "def get_top_n(algo_name, n=10):\n",
        "  for model in exp.models:\n",
        "    if model.name == algo_name:\n",
        "      print(model.name + \" model is selected:\")\n",
        "      top_n = defaultdict(list)\n",
        "      for uid in model.train_set.uid_map.values():\n",
        "        user_id = list(model.train_set.user_ids)[uid]\n",
        "        try:\n",
        "          item_rank = model.rank(user_idx=uid)[0] # model.rank: item rank, item_score\n",
        "        except:\n",
        "          item_rank = model.rank(user_idx=int(uid))[0]\n",
        "        # collect top N items\n",
        "        item_rank_top = item_rank[:n]\n",
        "        for iid in item_rank_top:\n",
        "          item_id = list(model.train_set.item_ids)[iid]\n",
        "          top_n[int(user_id)].append((int(item_id), model.score(uid, iid)))\n",
        "  return top_n"
      ]
    },
    {
      "cell_type": "code",
      "execution_count": 26,
      "metadata": {
        "id": "zmssLS8z7883"
      },
      "outputs": [],
      "source": [
        "# random recommendation algorithm\n",
        "def get_top_n_random(n=10):\n",
        "    print(\"Random model is selected:\")\n",
        "    top_n = defaultdict(list)\n",
        "    test_items = list(rs.test_set.iid_map.keys())\n",
        "    for uid in rs.train_set.uid_map.values():\n",
        "      if uid not in top_n.keys():\n",
        "        user_id = list(rs.train_set.user_ids)[uid]\n",
        "        for i in range(0, n):\n",
        "          top_n[int(user_id)].append((int(rd.choice(test_items)), i))\n",
        "    return top_n"
      ]
    },
    {
      "cell_type": "markdown",
      "metadata": {
        "id": "oylWDP99cUYL"
      },
      "source": [
        "# Properties analysis"
      ]
    },
    {
      "cell_type": "code",
      "execution_count": 27,
      "metadata": {
        "id": "U_iCRmlAe5sj"
      },
      "outputs": [],
      "source": [
        "ratings = pd.read_csv(user_events_file, index_col=0)"
      ]
    },
    {
      "cell_type": "markdown",
      "metadata": {
        "id": "PvyQz4zRBr90"
      },
      "source": [
        "Create property dictionaries."
      ]
    },
    {
      "cell_type": "code",
      "execution_count": 28,
      "metadata": {
        "id": "e261V4U3BqX_"
      },
      "outputs": [],
      "source": [
        "country_dict = {}\n",
        "for isbn in ratings[item_col].unique():\n",
        "  country_dict[isbn] = ratings.country[ratings[item_col] == isbn].iloc[0]"
      ]
    },
    {
      "cell_type": "markdown",
      "metadata": {
        "id": "oBSQc3DlCNsw"
      },
      "source": [
        "Create columns of the relevant metric in the recommendations."
      ]
    },
    {
      "cell_type": "code",
      "execution_count": 30,
      "metadata": {
        "id": "kXt5eyD-q5kR"
      },
      "outputs": [],
      "source": [
        "algo_names = ['Random', 'MostPop', 'UserKNN', 'MF', 'PMF', 'BPR', 'NMF', 'WMF', 'PF', 'NeuMF', 'VAECF']\n",
        "\n",
        "# for i in range(0, len(algo_names)):\n",
        "#   USA_oriented[\"new_ratio_USA_\"+algo_names[i]] = 0.0\n",
        "#   midUSA_oriented[\"new_ratio_USA_\"+algo_names[i]] = 0.0\n",
        "#   lowUSA_oriented[\"new_ratio_USA_\"+algo_names[i]] = 0.0"
      ]
    },
    {
      "cell_type": "markdown",
      "metadata": {
        "id": "qoK-7Nf_C7Ho"
      },
      "source": [
        "For every algorithm, calculated the metric (male-female difference and USA ratio) in the recommendations for every user."
      ]
    },
    {
      "cell_type": "code",
      "execution_count": 31,
      "metadata": {
        "id": "aQ1uLRRfcWHd"
      },
      "outputs": [],
      "source": [
        "# for i in range(0, len(algo_names)):\n",
        "#     USA_or_ratio = 0\n",
        "#     midUSA_or_ratio = 0\n",
        "#     lowUSA_or_ratio = 0\n",
        "    \n",
        "#     if algo_names[i] == 'Random':\n",
        "#       top_n = get_top_n_random(n=10)\n",
        "#     elif algo_names[i] == 'UserKNN':\n",
        "#       top_n = get_top_n_UserKNN(n=10)\n",
        "#     else:\n",
        "#       top_n = get_top_n(algo_names[i], n=10)\n",
        "#     print(\"Top n calculated for \", algo_names[i])\n",
        "#     users = top_n.keys()\n",
        "#     user_recommendations = {}\n",
        "\n",
        "#     for user in users:\n",
        "#       user_recommendations[user] = [x[0] for x in top_n[user]]\n",
        "\n",
        "#       USA_count = 0\n",
        "      \n",
        "#       for rec in user_recommendations[user]:\n",
        "#         if country_dict[rec] == \"USA\":\n",
        "#           USA_count += 1\n",
        "\n",
        "#       ratio_USA = USA_count/len(user_recommendations[user])        \n",
        "\n",
        "#       if user in USA_oriented.index:\n",
        "#         USA_oriented.at[user, \"new_ratio_USA_\"+algo_names[i]] = ratio_USA\n",
        "#       elif user in lowUSA_oriented.index:\n",
        "#         lowUSA_oriented.at[user, \"new_ratio_USA_\"+algo_names[i]] = ratio_USA\n",
        "#       else:\n",
        "#         midUSA_oriented.at[user, \"new_ratio_USA_\"+algo_names[i]] = ratio_USA"
      ]
    },
    {
      "cell_type": "markdown",
      "metadata": {
        "id": "8fyqKXRG-KX7"
      },
      "source": [
        "# Save files for properties"
      ]
    },
    {
      "cell_type": "code",
      "execution_count": 32,
      "metadata": {
        "id": "zdSjpvRY-NRm"
      },
      "outputs": [],
      "source": [
        "save = True"
      ]
    },
    {
      "cell_type": "code",
      "execution_count": null,
      "metadata": {
        "colab": {
          "base_uri": "https://localhost:8080/"
        },
        "id": "eBHdLk-V-Obj",
        "outputId": "5b04a8eb-59b7-424e-fd65-d4a2ced5b49b"
      },
      "outputs": [
        {
          "name": "stdout",
          "output_type": "stream",
          "text": [
            "Mounted at /content/drive\n"
          ]
        }
      ],
      "source": [
        "# if save:\n",
        "#   from google.colab import drive\n",
        "#   import pickle as pkl\n",
        "#   drive.mount('/content/drive')\n",
        "\n",
        "#   USA_oriented.to_csv(\"/content/drive/My Drive/new_USA_oriented_10_new.csv\")\n",
        "#   midUSA_oriented.to_csv(\"/content/drive/My Drive/new_midUSA_10_new.csv\")\n",
        "#   lowUSA_oriented.to_csv(\"/content/drive/My Drive/new_lowUSA_oriented_10_new.csv\")\n",
        "  \n"
      ]
    },
    {
      "cell_type": "markdown",
      "metadata": {
        "id": "jAmiq9M1c-9j"
      },
      "source": [
        "# Popularity analysis"
      ]
    },
    {
      "cell_type": "code",
      "execution_count": 33,
      "metadata": {
        "colab": {
          "base_uri": "https://localhost:8080/"
        },
        "id": "x3a0gJqr7-4h",
        "outputId": "823ab908-5acb-4b71-a87f-32d7f504ac12"
      },
      "outputs": [
        {
          "output_type": "stream",
          "name": "stdout",
          "text": [
            "Random model is selected:\n",
            "MostPop model is selected:\n",
            "User-KNN model is selected:\n",
            "MF model is selected:\n",
            "PMF model is selected:\n",
            "BPR model is selected:\n",
            "NMF model is selected:\n",
            "WMF model is selected:\n",
            "PF model is selected:\n",
            "NeuMF model is selected:\n",
            "VAECF model is selected:\n"
          ]
        }
      ],
      "source": [
        "algo_names = ['Random', 'MostPop', 'UserKNN', 'MF', 'PMF', 'BPR', 'NMF', 'WMF', 'PF', 'NeuMF', 'VAECF']\n",
        "\n",
        "i = 0\n",
        "low_rec_gap_list = [] # one entry per algorithmus\n",
        "medium_rec_gap_list = []\n",
        "high_rec_gap_list = []\n",
        "\n",
        "for i in range(0, len(algo_names)):\n",
        "    df_item_dist[algo_names[i]] = 0\n",
        "    low_rec_gap = 0\n",
        "    medium_rec_gap = 0\n",
        "    high_rec_gap = 0\n",
        "    \n",
        "    if algo_names[i] == 'Random':\n",
        "      top_n = get_top_n_random(n=10)\n",
        "    elif algo_names[i] == 'UserKNN':\n",
        "      top_n = get_top_n_UserKNN(n=10)\n",
        "    else:\n",
        "      top_n = get_top_n(algo_names[i], n=10)\n",
        "    low_count = 0\n",
        "    med_count = 0\n",
        "    high_count = 0\n",
        "    for uid, user_ratings in top_n.items():\n",
        "        iid_list = []\n",
        "        for (iid, _) in user_ratings:\n",
        "            df_item_dist.loc[iid, algo_names[i]] += 1\n",
        "            iid_list.append(iid)\n",
        "        gap = sum(df_item_dist[\"count\"].loc[iid_list]) / len(iid_list)\n",
        "        if uid in low_popularity.index:\n",
        "            low_rec_gap += gap\n",
        "            low_count += 1\n",
        "        elif uid in med_popularity.index:\n",
        "            medium_rec_gap += gap\n",
        "            med_count += 1\n",
        "        elif uid in high_popularity.index:\n",
        "            high_rec_gap += gap\n",
        "            high_count += 1\n",
        "    low_rec_gap_list.append(low_rec_gap / low_count)\n",
        "    medium_rec_gap_list.append(medium_rec_gap / med_count)\n",
        "    high_rec_gap_list.append(high_rec_gap / high_count)\n",
        "    i += 1 # next algorithm"
      ]
    },
    {
      "cell_type": "markdown",
      "metadata": {
        "id": "Buq5Z1f45DhT"
      },
      "source": [
        "## Save files\n",
        "To save:\n",
        "1. df_item_dist\n",
        "2. low_rec_gap_list etc\n",
        "3. exp.result & exp.metric\n",
        "4. training user ids"
      ]
    },
    {
      "cell_type": "code",
      "execution_count": 34,
      "metadata": {
        "id": "4jM6jAdTlwUF"
      },
      "outputs": [],
      "source": [
        "save = True"
      ]
    },
    {
      "cell_type": "code",
      "execution_count": 40,
      "metadata": {
        "colab": {
          "base_uri": "https://localhost:8080/"
        },
        "id": "HTXH7c-r6G5v",
        "outputId": "b8ec79d1-4f11-4139-9e27-93d54fab2275"
      },
      "outputs": [
        {
          "output_type": "stream",
          "name": "stdout",
          "text": [
            "Mounted at /content/drive\n"
          ]
        }
      ],
      "source": [
        "if save:\n",
        "  from google.colab import drive\n",
        "  import pickle as pkl\n",
        "  drive.mount('/content/drive')\n",
        "\n",
        "  df_item_dist.to_csv(\"/content/drive/My Drive/item_pop_dist.csv\")\n",
        "  with open(\"/content/drive/My Drive/experiment_results_cornac.pkl\",\"wb\") as f:\n",
        "    pkl.dump(exp.result,f)\n",
        "  with open(\"/content/drive/My Drive/experiment_metrics_cornac.pkl\",\"wb\") as f:\n",
        "    pkl.dump(exp.metrics,f)\n",
        "  with open(\"/content/drive/My Drive/low_rec_gap_list_cornac.pkl\",\"wb\") as f:\n",
        "    pkl.dump(low_rec_gap_list,f)\n",
        "  with open(\"/content/drive/My Drive/med_rec_gap_list_cornac.pkl\",\"wb\") as f:\n",
        "    pkl.dump(medium_rec_gap_list,f)\n",
        "  with open(\"/content/drive/My Drive/high_rec_gap_list_cornac.pkl\",\"wb\") as f:\n",
        "    pkl.dump(high_rec_gap_list,f)\n",
        "  with open(\"/content/drive/My Drive/training_user_ids.pkl\",\"wb\") as f:\n",
        "    pkl.dump(list(rs.train_set.user_ids),f)"
      ]
    }
  ],
  "metadata": {
    "accelerator": "GPU",
    "colab": {
      "name": "Book recommendation.ipynb",
      "provenance": []
    },
    "kernelspec": {
      "display_name": "Python 3 (ipykernel)",
      "language": "python",
      "name": "python3"
    },
    "language_info": {
      "codemirror_mode": {
        "name": "ipython",
        "version": 3
      },
      "file_extension": ".py",
      "mimetype": "text/x-python",
      "name": "python",
      "nbconvert_exporter": "python",
      "pygments_lexer": "ipython3",
      "version": "3.8.12"
    },
    "widgets": {
      "application/vnd.jupyter.widget-state+json": {
        "0b421337e2dd44208545b072592a4469": {
          "model_module": "@jupyter-widgets/controls",
          "model_name": "HBoxModel",
          "model_module_version": "1.5.0",
          "state": {
            "_dom_classes": [],
            "_model_module": "@jupyter-widgets/controls",
            "_model_module_version": "1.5.0",
            "_model_name": "HBoxModel",
            "_view_count": null,
            "_view_module": "@jupyter-widgets/controls",
            "_view_module_version": "1.5.0",
            "_view_name": "HBoxView",
            "box_style": "",
            "children": [
              "IPY_MODEL_0ec2a51618154a46a9d308891fcd7a3f",
              "IPY_MODEL_5c21853de19444f3baf2b6a8cc3ac317",
              "IPY_MODEL_09d70acfc1dd410d8c3e1f1512dcb03f"
            ],
            "layout": "IPY_MODEL_571efbd302784c0997b7dd9cfc992fbb"
          }
        },
        "0ec2a51618154a46a9d308891fcd7a3f": {
          "model_module": "@jupyter-widgets/controls",
          "model_name": "HTMLModel",
          "model_module_version": "1.5.0",
          "state": {
            "_dom_classes": [],
            "_model_module": "@jupyter-widgets/controls",
            "_model_module_version": "1.5.0",
            "_model_name": "HTMLModel",
            "_view_count": null,
            "_view_module": "@jupyter-widgets/controls",
            "_view_module_version": "1.5.0",
            "_view_name": "HTMLView",
            "description": "",
            "description_tooltip": null,
            "layout": "IPY_MODEL_f752eed09d5e4f44b76ea70382496631",
            "placeholder": "​",
            "style": "IPY_MODEL_ffd743d7d9c74288af6469ae0de8fbde",
            "value": "100%"
          }
        },
        "5c21853de19444f3baf2b6a8cc3ac317": {
          "model_module": "@jupyter-widgets/controls",
          "model_name": "FloatProgressModel",
          "model_module_version": "1.5.0",
          "state": {
            "_dom_classes": [],
            "_model_module": "@jupyter-widgets/controls",
            "_model_module_version": "1.5.0",
            "_model_name": "FloatProgressModel",
            "_view_count": null,
            "_view_module": "@jupyter-widgets/controls",
            "_view_module_version": "1.5.0",
            "_view_name": "ProgressView",
            "bar_style": "success",
            "description": "",
            "description_tooltip": null,
            "layout": "IPY_MODEL_d21a2c61f1c34e5b9c402871c97c4082",
            "max": 50,
            "min": 0,
            "orientation": "horizontal",
            "style": "IPY_MODEL_4f4700283d8b4450933a8e12f4c5ad8f",
            "value": 50
          }
        },
        "09d70acfc1dd410d8c3e1f1512dcb03f": {
          "model_module": "@jupyter-widgets/controls",
          "model_name": "HTMLModel",
          "model_module_version": "1.5.0",
          "state": {
            "_dom_classes": [],
            "_model_module": "@jupyter-widgets/controls",
            "_model_module_version": "1.5.0",
            "_model_name": "HTMLModel",
            "_view_count": null,
            "_view_module": "@jupyter-widgets/controls",
            "_view_module_version": "1.5.0",
            "_view_name": "HTMLView",
            "description": "",
            "description_tooltip": null,
            "layout": "IPY_MODEL_03beb099bdb24633a5f241cc0bd6ebc7",
            "placeholder": "​",
            "style": "IPY_MODEL_6248f5597eef46bcb1410db6e901dcf7",
            "value": " 50/50 [00:00&lt;00:00, 116.29it/s, loss=348561.44]"
          }
        },
        "571efbd302784c0997b7dd9cfc992fbb": {
          "model_module": "@jupyter-widgets/base",
          "model_name": "LayoutModel",
          "model_module_version": "1.2.0",
          "state": {
            "_model_module": "@jupyter-widgets/base",
            "_model_module_version": "1.2.0",
            "_model_name": "LayoutModel",
            "_view_count": null,
            "_view_module": "@jupyter-widgets/base",
            "_view_module_version": "1.2.0",
            "_view_name": "LayoutView",
            "align_content": null,
            "align_items": null,
            "align_self": null,
            "border": null,
            "bottom": null,
            "display": null,
            "flex": null,
            "flex_flow": null,
            "grid_area": null,
            "grid_auto_columns": null,
            "grid_auto_flow": null,
            "grid_auto_rows": null,
            "grid_column": null,
            "grid_gap": null,
            "grid_row": null,
            "grid_template_areas": null,
            "grid_template_columns": null,
            "grid_template_rows": null,
            "height": null,
            "justify_content": null,
            "justify_items": null,
            "left": null,
            "margin": null,
            "max_height": null,
            "max_width": null,
            "min_height": null,
            "min_width": null,
            "object_fit": null,
            "object_position": null,
            "order": null,
            "overflow": null,
            "overflow_x": null,
            "overflow_y": null,
            "padding": null,
            "right": null,
            "top": null,
            "visibility": null,
            "width": null
          }
        },
        "f752eed09d5e4f44b76ea70382496631": {
          "model_module": "@jupyter-widgets/base",
          "model_name": "LayoutModel",
          "model_module_version": "1.2.0",
          "state": {
            "_model_module": "@jupyter-widgets/base",
            "_model_module_version": "1.2.0",
            "_model_name": "LayoutModel",
            "_view_count": null,
            "_view_module": "@jupyter-widgets/base",
            "_view_module_version": "1.2.0",
            "_view_name": "LayoutView",
            "align_content": null,
            "align_items": null,
            "align_self": null,
            "border": null,
            "bottom": null,
            "display": null,
            "flex": null,
            "flex_flow": null,
            "grid_area": null,
            "grid_auto_columns": null,
            "grid_auto_flow": null,
            "grid_auto_rows": null,
            "grid_column": null,
            "grid_gap": null,
            "grid_row": null,
            "grid_template_areas": null,
            "grid_template_columns": null,
            "grid_template_rows": null,
            "height": null,
            "justify_content": null,
            "justify_items": null,
            "left": null,
            "margin": null,
            "max_height": null,
            "max_width": null,
            "min_height": null,
            "min_width": null,
            "object_fit": null,
            "object_position": null,
            "order": null,
            "overflow": null,
            "overflow_x": null,
            "overflow_y": null,
            "padding": null,
            "right": null,
            "top": null,
            "visibility": null,
            "width": null
          }
        },
        "ffd743d7d9c74288af6469ae0de8fbde": {
          "model_module": "@jupyter-widgets/controls",
          "model_name": "DescriptionStyleModel",
          "model_module_version": "1.5.0",
          "state": {
            "_model_module": "@jupyter-widgets/controls",
            "_model_module_version": "1.5.0",
            "_model_name": "DescriptionStyleModel",
            "_view_count": null,
            "_view_module": "@jupyter-widgets/base",
            "_view_module_version": "1.2.0",
            "_view_name": "StyleView",
            "description_width": ""
          }
        },
        "d21a2c61f1c34e5b9c402871c97c4082": {
          "model_module": "@jupyter-widgets/base",
          "model_name": "LayoutModel",
          "model_module_version": "1.2.0",
          "state": {
            "_model_module": "@jupyter-widgets/base",
            "_model_module_version": "1.2.0",
            "_model_name": "LayoutModel",
            "_view_count": null,
            "_view_module": "@jupyter-widgets/base",
            "_view_module_version": "1.2.0",
            "_view_name": "LayoutView",
            "align_content": null,
            "align_items": null,
            "align_self": null,
            "border": null,
            "bottom": null,
            "display": null,
            "flex": null,
            "flex_flow": null,
            "grid_area": null,
            "grid_auto_columns": null,
            "grid_auto_flow": null,
            "grid_auto_rows": null,
            "grid_column": null,
            "grid_gap": null,
            "grid_row": null,
            "grid_template_areas": null,
            "grid_template_columns": null,
            "grid_template_rows": null,
            "height": null,
            "justify_content": null,
            "justify_items": null,
            "left": null,
            "margin": null,
            "max_height": null,
            "max_width": null,
            "min_height": null,
            "min_width": null,
            "object_fit": null,
            "object_position": null,
            "order": null,
            "overflow": null,
            "overflow_x": null,
            "overflow_y": null,
            "padding": null,
            "right": null,
            "top": null,
            "visibility": null,
            "width": null
          }
        },
        "4f4700283d8b4450933a8e12f4c5ad8f": {
          "model_module": "@jupyter-widgets/controls",
          "model_name": "ProgressStyleModel",
          "model_module_version": "1.5.0",
          "state": {
            "_model_module": "@jupyter-widgets/controls",
            "_model_module_version": "1.5.0",
            "_model_name": "ProgressStyleModel",
            "_view_count": null,
            "_view_module": "@jupyter-widgets/base",
            "_view_module_version": "1.2.0",
            "_view_name": "StyleView",
            "bar_color": null,
            "description_width": ""
          }
        },
        "03beb099bdb24633a5f241cc0bd6ebc7": {
          "model_module": "@jupyter-widgets/base",
          "model_name": "LayoutModel",
          "model_module_version": "1.2.0",
          "state": {
            "_model_module": "@jupyter-widgets/base",
            "_model_module_version": "1.2.0",
            "_model_name": "LayoutModel",
            "_view_count": null,
            "_view_module": "@jupyter-widgets/base",
            "_view_module_version": "1.2.0",
            "_view_name": "LayoutView",
            "align_content": null,
            "align_items": null,
            "align_self": null,
            "border": null,
            "bottom": null,
            "display": null,
            "flex": null,
            "flex_flow": null,
            "grid_area": null,
            "grid_auto_columns": null,
            "grid_auto_flow": null,
            "grid_auto_rows": null,
            "grid_column": null,
            "grid_gap": null,
            "grid_row": null,
            "grid_template_areas": null,
            "grid_template_columns": null,
            "grid_template_rows": null,
            "height": null,
            "justify_content": null,
            "justify_items": null,
            "left": null,
            "margin": null,
            "max_height": null,
            "max_width": null,
            "min_height": null,
            "min_width": null,
            "object_fit": null,
            "object_position": null,
            "order": null,
            "overflow": null,
            "overflow_x": null,
            "overflow_y": null,
            "padding": null,
            "right": null,
            "top": null,
            "visibility": null,
            "width": null
          }
        },
        "6248f5597eef46bcb1410db6e901dcf7": {
          "model_module": "@jupyter-widgets/controls",
          "model_name": "DescriptionStyleModel",
          "model_module_version": "1.5.0",
          "state": {
            "_model_module": "@jupyter-widgets/controls",
            "_model_module_version": "1.5.0",
            "_model_name": "DescriptionStyleModel",
            "_view_count": null,
            "_view_module": "@jupyter-widgets/base",
            "_view_module_version": "1.2.0",
            "_view_name": "StyleView",
            "description_width": ""
          }
        },
        "2e91933b5a44478eace7436cf4ea665b": {
          "model_module": "@jupyter-widgets/controls",
          "model_name": "HBoxModel",
          "model_module_version": "1.5.0",
          "state": {
            "_dom_classes": [],
            "_model_module": "@jupyter-widgets/controls",
            "_model_module_version": "1.5.0",
            "_model_name": "HBoxModel",
            "_view_count": null,
            "_view_module": "@jupyter-widgets/controls",
            "_view_module_version": "1.5.0",
            "_view_name": "HBoxView",
            "box_style": "",
            "children": [
              "IPY_MODEL_b5b7e4d0b434451ab89fc9b84fb0e52e",
              "IPY_MODEL_d7fb7bea9356430ab842eb830d708907",
              "IPY_MODEL_fac4074c3a764d14abac74dd01099e8a"
            ],
            "layout": "IPY_MODEL_4d97f1bdb197425c898d721e151620d6"
          }
        },
        "b5b7e4d0b434451ab89fc9b84fb0e52e": {
          "model_module": "@jupyter-widgets/controls",
          "model_name": "HTMLModel",
          "model_module_version": "1.5.0",
          "state": {
            "_dom_classes": [],
            "_model_module": "@jupyter-widgets/controls",
            "_model_module_version": "1.5.0",
            "_model_name": "HTMLModel",
            "_view_count": null,
            "_view_module": "@jupyter-widgets/controls",
            "_view_module_version": "1.5.0",
            "_view_name": "HTMLView",
            "description": "",
            "description_tooltip": null,
            "layout": "IPY_MODEL_3e5b02f97e1245f6ba44f239784b4628",
            "placeholder": "​",
            "style": "IPY_MODEL_4a55916a17794466ad5801d9d0d0d745",
            "value": "100%"
          }
        },
        "d7fb7bea9356430ab842eb830d708907": {
          "model_module": "@jupyter-widgets/controls",
          "model_name": "FloatProgressModel",
          "model_module_version": "1.5.0",
          "state": {
            "_dom_classes": [],
            "_model_module": "@jupyter-widgets/controls",
            "_model_module_version": "1.5.0",
            "_model_name": "FloatProgressModel",
            "_view_count": null,
            "_view_module": "@jupyter-widgets/controls",
            "_view_module_version": "1.5.0",
            "_view_name": "ProgressView",
            "bar_style": "success",
            "description": "",
            "description_tooltip": null,
            "layout": "IPY_MODEL_ccc18189e527483d837cfab62da71f00",
            "max": 50,
            "min": 0,
            "orientation": "horizontal",
            "style": "IPY_MODEL_f67a6b5d489e4ac197068fc785bb7ed4",
            "value": 50
          }
        },
        "fac4074c3a764d14abac74dd01099e8a": {
          "model_module": "@jupyter-widgets/controls",
          "model_name": "HTMLModel",
          "model_module_version": "1.5.0",
          "state": {
            "_dom_classes": [],
            "_model_module": "@jupyter-widgets/controls",
            "_model_module_version": "1.5.0",
            "_model_name": "HTMLModel",
            "_view_count": null,
            "_view_module": "@jupyter-widgets/controls",
            "_view_module_version": "1.5.0",
            "_view_name": "HTMLView",
            "description": "",
            "description_tooltip": null,
            "layout": "IPY_MODEL_409ba97b8d784a44b5d72e5adc68b0a3",
            "placeholder": "​",
            "style": "IPY_MODEL_1abc8059878d440895c8cdbc6790f31a",
            "value": " 50/50 [00:20&lt;00:00,  2.58it/s, loss=292]"
          }
        },
        "4d97f1bdb197425c898d721e151620d6": {
          "model_module": "@jupyter-widgets/base",
          "model_name": "LayoutModel",
          "model_module_version": "1.2.0",
          "state": {
            "_model_module": "@jupyter-widgets/base",
            "_model_module_version": "1.2.0",
            "_model_name": "LayoutModel",
            "_view_count": null,
            "_view_module": "@jupyter-widgets/base",
            "_view_module_version": "1.2.0",
            "_view_name": "LayoutView",
            "align_content": null,
            "align_items": null,
            "align_self": null,
            "border": null,
            "bottom": null,
            "display": null,
            "flex": null,
            "flex_flow": null,
            "grid_area": null,
            "grid_auto_columns": null,
            "grid_auto_flow": null,
            "grid_auto_rows": null,
            "grid_column": null,
            "grid_gap": null,
            "grid_row": null,
            "grid_template_areas": null,
            "grid_template_columns": null,
            "grid_template_rows": null,
            "height": null,
            "justify_content": null,
            "justify_items": null,
            "left": null,
            "margin": null,
            "max_height": null,
            "max_width": null,
            "min_height": null,
            "min_width": null,
            "object_fit": null,
            "object_position": null,
            "order": null,
            "overflow": null,
            "overflow_x": null,
            "overflow_y": null,
            "padding": null,
            "right": null,
            "top": null,
            "visibility": null,
            "width": null
          }
        },
        "3e5b02f97e1245f6ba44f239784b4628": {
          "model_module": "@jupyter-widgets/base",
          "model_name": "LayoutModel",
          "model_module_version": "1.2.0",
          "state": {
            "_model_module": "@jupyter-widgets/base",
            "_model_module_version": "1.2.0",
            "_model_name": "LayoutModel",
            "_view_count": null,
            "_view_module": "@jupyter-widgets/base",
            "_view_module_version": "1.2.0",
            "_view_name": "LayoutView",
            "align_content": null,
            "align_items": null,
            "align_self": null,
            "border": null,
            "bottom": null,
            "display": null,
            "flex": null,
            "flex_flow": null,
            "grid_area": null,
            "grid_auto_columns": null,
            "grid_auto_flow": null,
            "grid_auto_rows": null,
            "grid_column": null,
            "grid_gap": null,
            "grid_row": null,
            "grid_template_areas": null,
            "grid_template_columns": null,
            "grid_template_rows": null,
            "height": null,
            "justify_content": null,
            "justify_items": null,
            "left": null,
            "margin": null,
            "max_height": null,
            "max_width": null,
            "min_height": null,
            "min_width": null,
            "object_fit": null,
            "object_position": null,
            "order": null,
            "overflow": null,
            "overflow_x": null,
            "overflow_y": null,
            "padding": null,
            "right": null,
            "top": null,
            "visibility": null,
            "width": null
          }
        },
        "4a55916a17794466ad5801d9d0d0d745": {
          "model_module": "@jupyter-widgets/controls",
          "model_name": "DescriptionStyleModel",
          "model_module_version": "1.5.0",
          "state": {
            "_model_module": "@jupyter-widgets/controls",
            "_model_module_version": "1.5.0",
            "_model_name": "DescriptionStyleModel",
            "_view_count": null,
            "_view_module": "@jupyter-widgets/base",
            "_view_module_version": "1.2.0",
            "_view_name": "StyleView",
            "description_width": ""
          }
        },
        "ccc18189e527483d837cfab62da71f00": {
          "model_module": "@jupyter-widgets/base",
          "model_name": "LayoutModel",
          "model_module_version": "1.2.0",
          "state": {
            "_model_module": "@jupyter-widgets/base",
            "_model_module_version": "1.2.0",
            "_model_name": "LayoutModel",
            "_view_count": null,
            "_view_module": "@jupyter-widgets/base",
            "_view_module_version": "1.2.0",
            "_view_name": "LayoutView",
            "align_content": null,
            "align_items": null,
            "align_self": null,
            "border": null,
            "bottom": null,
            "display": null,
            "flex": null,
            "flex_flow": null,
            "grid_area": null,
            "grid_auto_columns": null,
            "grid_auto_flow": null,
            "grid_auto_rows": null,
            "grid_column": null,
            "grid_gap": null,
            "grid_row": null,
            "grid_template_areas": null,
            "grid_template_columns": null,
            "grid_template_rows": null,
            "height": null,
            "justify_content": null,
            "justify_items": null,
            "left": null,
            "margin": null,
            "max_height": null,
            "max_width": null,
            "min_height": null,
            "min_width": null,
            "object_fit": null,
            "object_position": null,
            "order": null,
            "overflow": null,
            "overflow_x": null,
            "overflow_y": null,
            "padding": null,
            "right": null,
            "top": null,
            "visibility": null,
            "width": null
          }
        },
        "f67a6b5d489e4ac197068fc785bb7ed4": {
          "model_module": "@jupyter-widgets/controls",
          "model_name": "ProgressStyleModel",
          "model_module_version": "1.5.0",
          "state": {
            "_model_module": "@jupyter-widgets/controls",
            "_model_module_version": "1.5.0",
            "_model_name": "ProgressStyleModel",
            "_view_count": null,
            "_view_module": "@jupyter-widgets/base",
            "_view_module_version": "1.2.0",
            "_view_name": "StyleView",
            "bar_color": null,
            "description_width": ""
          }
        },
        "409ba97b8d784a44b5d72e5adc68b0a3": {
          "model_module": "@jupyter-widgets/base",
          "model_name": "LayoutModel",
          "model_module_version": "1.2.0",
          "state": {
            "_model_module": "@jupyter-widgets/base",
            "_model_module_version": "1.2.0",
            "_model_name": "LayoutModel",
            "_view_count": null,
            "_view_module": "@jupyter-widgets/base",
            "_view_module_version": "1.2.0",
            "_view_name": "LayoutView",
            "align_content": null,
            "align_items": null,
            "align_self": null,
            "border": null,
            "bottom": null,
            "display": null,
            "flex": null,
            "flex_flow": null,
            "grid_area": null,
            "grid_auto_columns": null,
            "grid_auto_flow": null,
            "grid_auto_rows": null,
            "grid_column": null,
            "grid_gap": null,
            "grid_row": null,
            "grid_template_areas": null,
            "grid_template_columns": null,
            "grid_template_rows": null,
            "height": null,
            "justify_content": null,
            "justify_items": null,
            "left": null,
            "margin": null,
            "max_height": null,
            "max_width": null,
            "min_height": null,
            "min_width": null,
            "object_fit": null,
            "object_position": null,
            "order": null,
            "overflow": null,
            "overflow_x": null,
            "overflow_y": null,
            "padding": null,
            "right": null,
            "top": null,
            "visibility": null,
            "width": null
          }
        },
        "1abc8059878d440895c8cdbc6790f31a": {
          "model_module": "@jupyter-widgets/controls",
          "model_name": "DescriptionStyleModel",
          "model_module_version": "1.5.0",
          "state": {
            "_model_module": "@jupyter-widgets/controls",
            "_model_module_version": "1.5.0",
            "_model_name": "DescriptionStyleModel",
            "_view_count": null,
            "_view_module": "@jupyter-widgets/base",
            "_view_module_version": "1.2.0",
            "_view_name": "StyleView",
            "description_width": ""
          }
        },
        "4b9f7d4063c644bfbbfbd7cf0d2cd8c4": {
          "model_module": "@jupyter-widgets/controls",
          "model_name": "HBoxModel",
          "model_module_version": "1.5.0",
          "state": {
            "_dom_classes": [],
            "_model_module": "@jupyter-widgets/controls",
            "_model_module_version": "1.5.0",
            "_model_name": "HBoxModel",
            "_view_count": null,
            "_view_module": "@jupyter-widgets/controls",
            "_view_module_version": "1.5.0",
            "_view_name": "HBoxView",
            "box_style": "",
            "children": [
              "IPY_MODEL_a22144e1c99f46de9859491e628e6630",
              "IPY_MODEL_774e94f0b7e847ab9b9f58ab3e5f6df9",
              "IPY_MODEL_97a23b5cfa8242a391bb8aeae40f061f"
            ],
            "layout": "IPY_MODEL_caea7c59fc214b69b897616f6bd71799"
          }
        },
        "a22144e1c99f46de9859491e628e6630": {
          "model_module": "@jupyter-widgets/controls",
          "model_name": "HTMLModel",
          "model_module_version": "1.5.0",
          "state": {
            "_dom_classes": [],
            "_model_module": "@jupyter-widgets/controls",
            "_model_module_version": "1.5.0",
            "_model_name": "HTMLModel",
            "_view_count": null,
            "_view_module": "@jupyter-widgets/controls",
            "_view_module_version": "1.5.0",
            "_view_name": "HTMLView",
            "description": "",
            "description_tooltip": null,
            "layout": "IPY_MODEL_82beead443e54f41834cbceb5524bd83",
            "placeholder": "​",
            "style": "IPY_MODEL_990921303fe8440b9881b795dcb816e4",
            "value": "100%"
          }
        },
        "774e94f0b7e847ab9b9f58ab3e5f6df9": {
          "model_module": "@jupyter-widgets/controls",
          "model_name": "FloatProgressModel",
          "model_module_version": "1.5.0",
          "state": {
            "_dom_classes": [],
            "_model_module": "@jupyter-widgets/controls",
            "_model_module_version": "1.5.0",
            "_model_name": "FloatProgressModel",
            "_view_count": null,
            "_view_module": "@jupyter-widgets/controls",
            "_view_module_version": "1.5.0",
            "_view_name": "ProgressView",
            "bar_style": "success",
            "description": "",
            "description_tooltip": null,
            "layout": "IPY_MODEL_54d48ca55fdf4a2d920c9904dc32da11",
            "max": 1,
            "min": 0,
            "orientation": "horizontal",
            "style": "IPY_MODEL_72b6098ee9c5443da6022761b8126f10",
            "value": 1
          }
        },
        "97a23b5cfa8242a391bb8aeae40f061f": {
          "model_module": "@jupyter-widgets/controls",
          "model_name": "HTMLModel",
          "model_module_version": "1.5.0",
          "state": {
            "_dom_classes": [],
            "_model_module": "@jupyter-widgets/controls",
            "_model_module_version": "1.5.0",
            "_model_name": "HTMLModel",
            "_view_count": null,
            "_view_module": "@jupyter-widgets/controls",
            "_view_module_version": "1.5.0",
            "_view_name": "HTMLView",
            "description": "",
            "description_tooltip": null,
            "layout": "IPY_MODEL_258f2bfea86649b7b7c3b81a7de24183",
            "placeholder": "​",
            "style": "IPY_MODEL_63fa5b0299fd4ed0ac3ca166e8437662",
            "value": " 1/1 [00:05&lt;00:00,  5.49s/it, loss=0.537]"
          }
        },
        "caea7c59fc214b69b897616f6bd71799": {
          "model_module": "@jupyter-widgets/base",
          "model_name": "LayoutModel",
          "model_module_version": "1.2.0",
          "state": {
            "_model_module": "@jupyter-widgets/base",
            "_model_module_version": "1.2.0",
            "_model_name": "LayoutModel",
            "_view_count": null,
            "_view_module": "@jupyter-widgets/base",
            "_view_module_version": "1.2.0",
            "_view_name": "LayoutView",
            "align_content": null,
            "align_items": null,
            "align_self": null,
            "border": null,
            "bottom": null,
            "display": null,
            "flex": null,
            "flex_flow": null,
            "grid_area": null,
            "grid_auto_columns": null,
            "grid_auto_flow": null,
            "grid_auto_rows": null,
            "grid_column": null,
            "grid_gap": null,
            "grid_row": null,
            "grid_template_areas": null,
            "grid_template_columns": null,
            "grid_template_rows": null,
            "height": null,
            "justify_content": null,
            "justify_items": null,
            "left": null,
            "margin": null,
            "max_height": null,
            "max_width": null,
            "min_height": null,
            "min_width": null,
            "object_fit": null,
            "object_position": null,
            "order": null,
            "overflow": null,
            "overflow_x": null,
            "overflow_y": null,
            "padding": null,
            "right": null,
            "top": null,
            "visibility": null,
            "width": null
          }
        },
        "82beead443e54f41834cbceb5524bd83": {
          "model_module": "@jupyter-widgets/base",
          "model_name": "LayoutModel",
          "model_module_version": "1.2.0",
          "state": {
            "_model_module": "@jupyter-widgets/base",
            "_model_module_version": "1.2.0",
            "_model_name": "LayoutModel",
            "_view_count": null,
            "_view_module": "@jupyter-widgets/base",
            "_view_module_version": "1.2.0",
            "_view_name": "LayoutView",
            "align_content": null,
            "align_items": null,
            "align_self": null,
            "border": null,
            "bottom": null,
            "display": null,
            "flex": null,
            "flex_flow": null,
            "grid_area": null,
            "grid_auto_columns": null,
            "grid_auto_flow": null,
            "grid_auto_rows": null,
            "grid_column": null,
            "grid_gap": null,
            "grid_row": null,
            "grid_template_areas": null,
            "grid_template_columns": null,
            "grid_template_rows": null,
            "height": null,
            "justify_content": null,
            "justify_items": null,
            "left": null,
            "margin": null,
            "max_height": null,
            "max_width": null,
            "min_height": null,
            "min_width": null,
            "object_fit": null,
            "object_position": null,
            "order": null,
            "overflow": null,
            "overflow_x": null,
            "overflow_y": null,
            "padding": null,
            "right": null,
            "top": null,
            "visibility": null,
            "width": null
          }
        },
        "990921303fe8440b9881b795dcb816e4": {
          "model_module": "@jupyter-widgets/controls",
          "model_name": "DescriptionStyleModel",
          "model_module_version": "1.5.0",
          "state": {
            "_model_module": "@jupyter-widgets/controls",
            "_model_module_version": "1.5.0",
            "_model_name": "DescriptionStyleModel",
            "_view_count": null,
            "_view_module": "@jupyter-widgets/base",
            "_view_module_version": "1.2.0",
            "_view_name": "StyleView",
            "description_width": ""
          }
        },
        "54d48ca55fdf4a2d920c9904dc32da11": {
          "model_module": "@jupyter-widgets/base",
          "model_name": "LayoutModel",
          "model_module_version": "1.2.0",
          "state": {
            "_model_module": "@jupyter-widgets/base",
            "_model_module_version": "1.2.0",
            "_model_name": "LayoutModel",
            "_view_count": null,
            "_view_module": "@jupyter-widgets/base",
            "_view_module_version": "1.2.0",
            "_view_name": "LayoutView",
            "align_content": null,
            "align_items": null,
            "align_self": null,
            "border": null,
            "bottom": null,
            "display": null,
            "flex": null,
            "flex_flow": null,
            "grid_area": null,
            "grid_auto_columns": null,
            "grid_auto_flow": null,
            "grid_auto_rows": null,
            "grid_column": null,
            "grid_gap": null,
            "grid_row": null,
            "grid_template_areas": null,
            "grid_template_columns": null,
            "grid_template_rows": null,
            "height": null,
            "justify_content": null,
            "justify_items": null,
            "left": null,
            "margin": null,
            "max_height": null,
            "max_width": null,
            "min_height": null,
            "min_width": null,
            "object_fit": null,
            "object_position": null,
            "order": null,
            "overflow": null,
            "overflow_x": null,
            "overflow_y": null,
            "padding": null,
            "right": null,
            "top": null,
            "visibility": null,
            "width": null
          }
        },
        "72b6098ee9c5443da6022761b8126f10": {
          "model_module": "@jupyter-widgets/controls",
          "model_name": "ProgressStyleModel",
          "model_module_version": "1.5.0",
          "state": {
            "_model_module": "@jupyter-widgets/controls",
            "_model_module_version": "1.5.0",
            "_model_name": "ProgressStyleModel",
            "_view_count": null,
            "_view_module": "@jupyter-widgets/base",
            "_view_module_version": "1.2.0",
            "_view_name": "StyleView",
            "bar_color": null,
            "description_width": ""
          }
        },
        "258f2bfea86649b7b7c3b81a7de24183": {
          "model_module": "@jupyter-widgets/base",
          "model_name": "LayoutModel",
          "model_module_version": "1.2.0",
          "state": {
            "_model_module": "@jupyter-widgets/base",
            "_model_module_version": "1.2.0",
            "_model_name": "LayoutModel",
            "_view_count": null,
            "_view_module": "@jupyter-widgets/base",
            "_view_module_version": "1.2.0",
            "_view_name": "LayoutView",
            "align_content": null,
            "align_items": null,
            "align_self": null,
            "border": null,
            "bottom": null,
            "display": null,
            "flex": null,
            "flex_flow": null,
            "grid_area": null,
            "grid_auto_columns": null,
            "grid_auto_flow": null,
            "grid_auto_rows": null,
            "grid_column": null,
            "grid_gap": null,
            "grid_row": null,
            "grid_template_areas": null,
            "grid_template_columns": null,
            "grid_template_rows": null,
            "height": null,
            "justify_content": null,
            "justify_items": null,
            "left": null,
            "margin": null,
            "max_height": null,
            "max_width": null,
            "min_height": null,
            "min_width": null,
            "object_fit": null,
            "object_position": null,
            "order": null,
            "overflow": null,
            "overflow_x": null,
            "overflow_y": null,
            "padding": null,
            "right": null,
            "top": null,
            "visibility": null,
            "width": null
          }
        },
        "63fa5b0299fd4ed0ac3ca166e8437662": {
          "model_module": "@jupyter-widgets/controls",
          "model_name": "DescriptionStyleModel",
          "model_module_version": "1.5.0",
          "state": {
            "_model_module": "@jupyter-widgets/controls",
            "_model_module_version": "1.5.0",
            "_model_name": "DescriptionStyleModel",
            "_view_count": null,
            "_view_module": "@jupyter-widgets/base",
            "_view_module_version": "1.2.0",
            "_view_name": "StyleView",
            "description_width": ""
          }
        },
        "ebbc34901b664331ac552f54f9f51dbc": {
          "model_module": "@jupyter-widgets/controls",
          "model_name": "HBoxModel",
          "model_module_version": "1.5.0",
          "state": {
            "_dom_classes": [],
            "_model_module": "@jupyter-widgets/controls",
            "_model_module_version": "1.5.0",
            "_model_name": "HBoxModel",
            "_view_count": null,
            "_view_module": "@jupyter-widgets/controls",
            "_view_module_version": "1.5.0",
            "_view_name": "HBoxView",
            "box_style": "",
            "children": [
              "IPY_MODEL_c642f978160a4914abde839eca1a791e",
              "IPY_MODEL_29c602fd42e04fd19f2ccc972c2e68f0",
              "IPY_MODEL_e56c1ce4640442d8bbf093ca014ab97b"
            ],
            "layout": "IPY_MODEL_48498efc307342b8bc43a01367ad2db6"
          }
        },
        "c642f978160a4914abde839eca1a791e": {
          "model_module": "@jupyter-widgets/controls",
          "model_name": "HTMLModel",
          "model_module_version": "1.5.0",
          "state": {
            "_dom_classes": [],
            "_model_module": "@jupyter-widgets/controls",
            "_model_module_version": "1.5.0",
            "_model_name": "HTMLModel",
            "_view_count": null,
            "_view_module": "@jupyter-widgets/controls",
            "_view_module_version": "1.5.0",
            "_view_name": "HTMLView",
            "description": "",
            "description_tooltip": null,
            "layout": "IPY_MODEL_a7d3895a9d5c4a07be428c364bc6f036",
            "placeholder": "​",
            "style": "IPY_MODEL_850d841784bc46c897d0d7f2a871a4fc",
            "value": "100%"
          }
        },
        "29c602fd42e04fd19f2ccc972c2e68f0": {
          "model_module": "@jupyter-widgets/controls",
          "model_name": "FloatProgressModel",
          "model_module_version": "1.5.0",
          "state": {
            "_dom_classes": [],
            "_model_module": "@jupyter-widgets/controls",
            "_model_module_version": "1.5.0",
            "_model_name": "FloatProgressModel",
            "_view_count": null,
            "_view_module": "@jupyter-widgets/controls",
            "_view_module_version": "1.5.0",
            "_view_name": "ProgressView",
            "bar_style": "success",
            "description": "",
            "description_tooltip": null,
            "layout": "IPY_MODEL_4455a8f1dc3d4702a8e6aa3e2044ef5c",
            "max": 100,
            "min": 0,
            "orientation": "horizontal",
            "style": "IPY_MODEL_3e76e13c3be941e589cb2fee754cb9cc",
            "value": 100
          }
        },
        "e56c1ce4640442d8bbf093ca014ab97b": {
          "model_module": "@jupyter-widgets/controls",
          "model_name": "HTMLModel",
          "model_module_version": "1.5.0",
          "state": {
            "_dom_classes": [],
            "_model_module": "@jupyter-widgets/controls",
            "_model_module_version": "1.5.0",
            "_model_name": "HTMLModel",
            "_view_count": null,
            "_view_module": "@jupyter-widgets/controls",
            "_view_module_version": "1.5.0",
            "_view_name": "HTMLView",
            "description": "",
            "description_tooltip": null,
            "layout": "IPY_MODEL_5fbf2d5f553643ffbc3022da29c418eb",
            "placeholder": "​",
            "style": "IPY_MODEL_7d0cbdd0002642d9a9ec58c1dbab2d6b",
            "value": " 100/100 [00:37&lt;00:00,  2.83it/s, loss=0.844]"
          }
        },
        "48498efc307342b8bc43a01367ad2db6": {
          "model_module": "@jupyter-widgets/base",
          "model_name": "LayoutModel",
          "model_module_version": "1.2.0",
          "state": {
            "_model_module": "@jupyter-widgets/base",
            "_model_module_version": "1.2.0",
            "_model_name": "LayoutModel",
            "_view_count": null,
            "_view_module": "@jupyter-widgets/base",
            "_view_module_version": "1.2.0",
            "_view_name": "LayoutView",
            "align_content": null,
            "align_items": null,
            "align_self": null,
            "border": null,
            "bottom": null,
            "display": null,
            "flex": null,
            "flex_flow": null,
            "grid_area": null,
            "grid_auto_columns": null,
            "grid_auto_flow": null,
            "grid_auto_rows": null,
            "grid_column": null,
            "grid_gap": null,
            "grid_row": null,
            "grid_template_areas": null,
            "grid_template_columns": null,
            "grid_template_rows": null,
            "height": null,
            "justify_content": null,
            "justify_items": null,
            "left": null,
            "margin": null,
            "max_height": null,
            "max_width": null,
            "min_height": null,
            "min_width": null,
            "object_fit": null,
            "object_position": null,
            "order": null,
            "overflow": null,
            "overflow_x": null,
            "overflow_y": null,
            "padding": null,
            "right": null,
            "top": null,
            "visibility": null,
            "width": null
          }
        },
        "a7d3895a9d5c4a07be428c364bc6f036": {
          "model_module": "@jupyter-widgets/base",
          "model_name": "LayoutModel",
          "model_module_version": "1.2.0",
          "state": {
            "_model_module": "@jupyter-widgets/base",
            "_model_module_version": "1.2.0",
            "_model_name": "LayoutModel",
            "_view_count": null,
            "_view_module": "@jupyter-widgets/base",
            "_view_module_version": "1.2.0",
            "_view_name": "LayoutView",
            "align_content": null,
            "align_items": null,
            "align_self": null,
            "border": null,
            "bottom": null,
            "display": null,
            "flex": null,
            "flex_flow": null,
            "grid_area": null,
            "grid_auto_columns": null,
            "grid_auto_flow": null,
            "grid_auto_rows": null,
            "grid_column": null,
            "grid_gap": null,
            "grid_row": null,
            "grid_template_areas": null,
            "grid_template_columns": null,
            "grid_template_rows": null,
            "height": null,
            "justify_content": null,
            "justify_items": null,
            "left": null,
            "margin": null,
            "max_height": null,
            "max_width": null,
            "min_height": null,
            "min_width": null,
            "object_fit": null,
            "object_position": null,
            "order": null,
            "overflow": null,
            "overflow_x": null,
            "overflow_y": null,
            "padding": null,
            "right": null,
            "top": null,
            "visibility": null,
            "width": null
          }
        },
        "850d841784bc46c897d0d7f2a871a4fc": {
          "model_module": "@jupyter-widgets/controls",
          "model_name": "DescriptionStyleModel",
          "model_module_version": "1.5.0",
          "state": {
            "_model_module": "@jupyter-widgets/controls",
            "_model_module_version": "1.5.0",
            "_model_name": "DescriptionStyleModel",
            "_view_count": null,
            "_view_module": "@jupyter-widgets/base",
            "_view_module_version": "1.2.0",
            "_view_name": "StyleView",
            "description_width": ""
          }
        },
        "4455a8f1dc3d4702a8e6aa3e2044ef5c": {
          "model_module": "@jupyter-widgets/base",
          "model_name": "LayoutModel",
          "model_module_version": "1.2.0",
          "state": {
            "_model_module": "@jupyter-widgets/base",
            "_model_module_version": "1.2.0",
            "_model_name": "LayoutModel",
            "_view_count": null,
            "_view_module": "@jupyter-widgets/base",
            "_view_module_version": "1.2.0",
            "_view_name": "LayoutView",
            "align_content": null,
            "align_items": null,
            "align_self": null,
            "border": null,
            "bottom": null,
            "display": null,
            "flex": null,
            "flex_flow": null,
            "grid_area": null,
            "grid_auto_columns": null,
            "grid_auto_flow": null,
            "grid_auto_rows": null,
            "grid_column": null,
            "grid_gap": null,
            "grid_row": null,
            "grid_template_areas": null,
            "grid_template_columns": null,
            "grid_template_rows": null,
            "height": null,
            "justify_content": null,
            "justify_items": null,
            "left": null,
            "margin": null,
            "max_height": null,
            "max_width": null,
            "min_height": null,
            "min_width": null,
            "object_fit": null,
            "object_position": null,
            "order": null,
            "overflow": null,
            "overflow_x": null,
            "overflow_y": null,
            "padding": null,
            "right": null,
            "top": null,
            "visibility": null,
            "width": null
          }
        },
        "3e76e13c3be941e589cb2fee754cb9cc": {
          "model_module": "@jupyter-widgets/controls",
          "model_name": "ProgressStyleModel",
          "model_module_version": "1.5.0",
          "state": {
            "_model_module": "@jupyter-widgets/controls",
            "_model_module_version": "1.5.0",
            "_model_name": "ProgressStyleModel",
            "_view_count": null,
            "_view_module": "@jupyter-widgets/base",
            "_view_module_version": "1.2.0",
            "_view_name": "StyleView",
            "bar_color": null,
            "description_width": ""
          }
        },
        "5fbf2d5f553643ffbc3022da29c418eb": {
          "model_module": "@jupyter-widgets/base",
          "model_name": "LayoutModel",
          "model_module_version": "1.2.0",
          "state": {
            "_model_module": "@jupyter-widgets/base",
            "_model_module_version": "1.2.0",
            "_model_name": "LayoutModel",
            "_view_count": null,
            "_view_module": "@jupyter-widgets/base",
            "_view_module_version": "1.2.0",
            "_view_name": "LayoutView",
            "align_content": null,
            "align_items": null,
            "align_self": null,
            "border": null,
            "bottom": null,
            "display": null,
            "flex": null,
            "flex_flow": null,
            "grid_area": null,
            "grid_auto_columns": null,
            "grid_auto_flow": null,
            "grid_auto_rows": null,
            "grid_column": null,
            "grid_gap": null,
            "grid_row": null,
            "grid_template_areas": null,
            "grid_template_columns": null,
            "grid_template_rows": null,
            "height": null,
            "justify_content": null,
            "justify_items": null,
            "left": null,
            "margin": null,
            "max_height": null,
            "max_width": null,
            "min_height": null,
            "min_width": null,
            "object_fit": null,
            "object_position": null,
            "order": null,
            "overflow": null,
            "overflow_x": null,
            "overflow_y": null,
            "padding": null,
            "right": null,
            "top": null,
            "visibility": null,
            "width": null
          }
        },
        "7d0cbdd0002642d9a9ec58c1dbab2d6b": {
          "model_module": "@jupyter-widgets/controls",
          "model_name": "DescriptionStyleModel",
          "model_module_version": "1.5.0",
          "state": {
            "_model_module": "@jupyter-widgets/controls",
            "_model_module_version": "1.5.0",
            "_model_name": "DescriptionStyleModel",
            "_view_count": null,
            "_view_module": "@jupyter-widgets/base",
            "_view_module_version": "1.2.0",
            "_view_name": "StyleView",
            "description_width": ""
          }
        }
      }
    }
  },
  "nbformat": 4,
  "nbformat_minor": 0
}