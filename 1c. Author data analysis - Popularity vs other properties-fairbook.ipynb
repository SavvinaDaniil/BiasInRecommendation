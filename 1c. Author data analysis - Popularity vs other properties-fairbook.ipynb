{
 "cells": [
  {
   "cell_type": "markdown",
   "id": "3358a1a5",
   "metadata": {},
   "source": [
    "# Process\n",
    "In this notebook, I will check whether other properties relate with popularity in the data for authors."
   ]
  },
  {
   "cell_type": "markdown",
   "id": "58fb08c9",
   "metadata": {},
   "source": [
    "# A. Import Libraries"
   ]
  },
  {
   "cell_type": "code",
   "execution_count": 1,
   "id": "65134579",
   "metadata": {},
   "outputs": [],
   "source": [
    "import warnings\n",
    "warnings.simplefilter(action='ignore', category=FutureWarning)\n",
    "import matplotlib.pyplot as plt\n",
    "import random as rd\n",
    "import pandas as pd\n",
    "import numpy as np\n",
    "from split_users import split\n",
    "from collections import Counter\n",
    "from scipy import stats\n",
    "from analyze_data import item_distribution"
   ]
  },
  {
   "cell_type": "markdown",
   "id": "16ae1d21",
   "metadata": {},
   "source": [
    "# B. Set hyperparameters\n",
    "There are certain hyperparameters that need to be tuned before the run. "
   ]
  },
  {
   "cell_type": "code",
   "execution_count": 2,
   "id": "34a33d59",
   "metadata": {},
   "outputs": [],
   "source": [
    "item_threshold = 5 # remove users with less than item_threshold items\n",
    "user_threshold = 5 # remove items with less than user_threshold users\n",
    "top_threshold = 200 # remove users who have rated more than top_threshold items\n",
    "recommendation_type = \"books\" # books, music or movies\n",
    "item_col = \"ISBN\" # the item column\n",
    "user_col = \"User-ID\"\n",
    "my_seed = 0 # random_seed\n",
    "top_fraction_users = 0.2# the limit for a user to be considered High Preference\n",
    "top_fraction_items = 0.2\n",
    "split_popularity_by = \"pop_fraq\"\n",
    "split_gender_by = \"male_female_difference\" \n",
    "split_country_by = \"ratio_USA\""
   ]
  },
  {
   "cell_type": "markdown",
   "id": "40cab4cb",
   "metadata": {},
   "source": [
    "These additions will be useful so we can save the different files (plots and processed data) with clarity on the hyperparameters."
   ]
  },
  {
   "cell_type": "code",
   "execution_count": 3,
   "id": "65808d98",
   "metadata": {},
   "outputs": [],
   "source": [
    "addition_1 = \"_u\"+str(item_threshold)+\"_i\"+str(user_threshold)+\"_t\"+str(top_threshold)\n",
    "addition_2 = addition_1 + \"_tfi\"+str(int(100*top_fraction_items))\n",
    "addition_3 = addition_2 + \"_tfu\"+str(int(100*top_fraction_users))\n",
    "addition_4 = addition_3 + (\"_sbpf\" if (split_popularity_by==\"pop_fraq\") else \"_sbpif\")\n",
    "addition_gender = addition_1 + \"_tfu\"+str(int(100*top_fraction_users))+  \"_mfd\"\n",
    "addition_country = addition_1 + \"_tfu\"+str(int(100*top_fraction_users))+ \"_USAr\""
   ]
  },
  {
   "cell_type": "code",
   "execution_count": 4,
   "id": "5fa5d3cf",
   "metadata": {},
   "outputs": [],
   "source": [
    "rd.seed(my_seed) #seed for random functions\n",
    "np.random.seed(my_seed) #seed for all numpy fuctions"
   ]
  },
  {
   "cell_type": "markdown",
   "id": "ac18d58f",
   "metadata": {},
   "source": [
    "# C. Read files"
   ]
  },
  {
   "cell_type": "code",
   "execution_count": 5,
   "id": "e541fd21",
   "metadata": {},
   "outputs": [],
   "source": [
    "processed_file_location = \"data/processed/\" # here we store the processed data files"
   ]
  },
  {
   "cell_type": "code",
   "execution_count": 6,
   "id": "00a253ca",
   "metadata": {},
   "outputs": [],
   "source": [
    "properties_file_location = \"data/files_with_properties/\" # here are stored the data files that include author properties\n",
    "\n",
    "ratings_file = properties_file_location + \"fairbook_ratings_with_readable_properties_filtered_correct_ISBNs.csv\" # the ratings file\n",
    "ratings_with_properties = pd.read_csv(ratings_file, index_col=0, header=0, low_memory=False).fillna(\"\")"
   ]
  },
  {
   "cell_type": "code",
   "execution_count": 7,
   "id": "e6977adf",
   "metadata": {},
   "outputs": [],
   "source": [
    "ratings_with_properties = ratings_with_properties[[\"User-ID\", \"Book-Rating\",\"QID\",\"country\", \"gender\"]]"
   ]
  },
  {
   "cell_type": "code",
   "execution_count": 8,
   "id": "01d90081",
   "metadata": {
    "scrolled": true
   },
   "outputs": [
    {
     "data": {
      "text/html": [
       "<div>\n",
       "<style scoped>\n",
       "    .dataframe tbody tr th:only-of-type {\n",
       "        vertical-align: middle;\n",
       "    }\n",
       "\n",
       "    .dataframe tbody tr th {\n",
       "        vertical-align: top;\n",
       "    }\n",
       "\n",
       "    .dataframe thead th {\n",
       "        text-align: right;\n",
       "    }\n",
       "</style>\n",
       "<table border=\"1\" class=\"dataframe\">\n",
       "  <thead>\n",
       "    <tr style=\"text-align: right;\">\n",
       "      <th></th>\n",
       "      <th>User-ID</th>\n",
       "      <th>Book-Rating</th>\n",
       "      <th>QID</th>\n",
       "      <th>country</th>\n",
       "      <th>gender</th>\n",
       "    </tr>\n",
       "  </thead>\n",
       "  <tbody>\n",
       "    <tr>\n",
       "      <th>1</th>\n",
       "      <td>276847</td>\n",
       "      <td>10</td>\n",
       "      <td>Q34660</td>\n",
       "      <td>United Kingdom</td>\n",
       "      <td>female</td>\n",
       "    </tr>\n",
       "    <tr>\n",
       "      <th>2</th>\n",
       "      <td>276847</td>\n",
       "      <td>10</td>\n",
       "      <td>Q34660</td>\n",
       "      <td>United Kingdom</td>\n",
       "      <td>female</td>\n",
       "    </tr>\n",
       "    <tr>\n",
       "      <th>3</th>\n",
       "      <td>276847</td>\n",
       "      <td>10</td>\n",
       "      <td>Q34660</td>\n",
       "      <td>United Kingdom</td>\n",
       "      <td>female</td>\n",
       "    </tr>\n",
       "    <tr>\n",
       "      <th>4</th>\n",
       "      <td>276847</td>\n",
       "      <td>10</td>\n",
       "      <td>Q34660</td>\n",
       "      <td>United Kingdom</td>\n",
       "      <td>female</td>\n",
       "    </tr>\n",
       "    <tr>\n",
       "      <th>5</th>\n",
       "      <td>276964</td>\n",
       "      <td>10</td>\n",
       "      <td>Q172140</td>\n",
       "      <td>United States of America</td>\n",
       "      <td>male</td>\n",
       "    </tr>\n",
       "  </tbody>\n",
       "</table>\n",
       "</div>"
      ],
      "text/plain": [
       "   User-ID  Book-Rating      QID                   country  gender\n",
       "1   276847           10   Q34660            United Kingdom  female\n",
       "2   276847           10   Q34660            United Kingdom  female\n",
       "3   276847           10   Q34660            United Kingdom  female\n",
       "4   276847           10   Q34660            United Kingdom  female\n",
       "5   276964           10  Q172140  United States of America    male"
      ]
     },
     "execution_count": 8,
     "metadata": {},
     "output_type": "execute_result"
    }
   ],
   "source": [
    "ratings_with_properties.head()"
   ]
  },
  {
   "cell_type": "markdown",
   "id": "bb606182",
   "metadata": {},
   "source": [
    "## Popularity of authors"
   ]
  },
  {
   "cell_type": "code",
   "execution_count": 9,
   "id": "fa48499e",
   "metadata": {},
   "outputs": [],
   "source": [
    "num_users = len(ratings_with_properties[\"User-ID\"].unique())"
   ]
  },
  {
   "cell_type": "code",
   "execution_count": 10,
   "id": "c268a141",
   "metadata": {},
   "outputs": [],
   "source": [
    "ratings_with_properties_test = ratings_with_properties[ratings_with_properties.QID != \"\"]"
   ]
  },
  {
   "cell_type": "code",
   "execution_count": 11,
   "id": "ae2785a8",
   "metadata": {},
   "outputs": [],
   "source": [
    "item_dist = ratings_with_properties_test[\"QID\"].value_counts()\n",
    "num_items = len(item_dist)"
   ]
  },
  {
   "cell_type": "code",
   "execution_count": 12,
   "id": "ca7f0564",
   "metadata": {},
   "outputs": [],
   "source": [
    "df_item_dist = pd.DataFrame(item_dist) # turn the series into a dataframe\n",
    "df_item_dist.columns = ['count']\n",
    "#df_item_dist['count'] /= num_users"
   ]
  },
  {
   "cell_type": "code",
   "execution_count": 13,
   "id": "215fb1c7",
   "metadata": {},
   "outputs": [
    {
     "data": {
      "text/html": [
       "<div>\n",
       "<style scoped>\n",
       "    .dataframe tbody tr th:only-of-type {\n",
       "        vertical-align: middle;\n",
       "    }\n",
       "\n",
       "    .dataframe tbody tr th {\n",
       "        vertical-align: top;\n",
       "    }\n",
       "\n",
       "    .dataframe thead th {\n",
       "        text-align: right;\n",
       "    }\n",
       "</style>\n",
       "<table border=\"1\" class=\"dataframe\">\n",
       "  <thead>\n",
       "    <tr style=\"text-align: right;\">\n",
       "      <th></th>\n",
       "      <th>count</th>\n",
       "    </tr>\n",
       "  </thead>\n",
       "  <tbody>\n",
       "    <tr>\n",
       "      <th>Q39829</th>\n",
       "      <td>2528</td>\n",
       "    </tr>\n",
       "    <tr>\n",
       "      <th>Q106465</th>\n",
       "      <td>1958</td>\n",
       "    </tr>\n",
       "    <tr>\n",
       "      <th>Q231356</th>\n",
       "      <td>1848</td>\n",
       "    </tr>\n",
       "    <tr>\n",
       "      <th>Q311671</th>\n",
       "      <td>1413</td>\n",
       "    </tr>\n",
       "    <tr>\n",
       "      <th>Q272076</th>\n",
       "      <td>1181</td>\n",
       "    </tr>\n",
       "    <tr>\n",
       "      <th>...</th>\n",
       "      <td>...</td>\n",
       "    </tr>\n",
       "    <tr>\n",
       "      <th>Q260900</th>\n",
       "      <td>5</td>\n",
       "    </tr>\n",
       "    <tr>\n",
       "      <th>Q314897</th>\n",
       "      <td>5</td>\n",
       "    </tr>\n",
       "    <tr>\n",
       "      <th>Q7344794</th>\n",
       "      <td>5</td>\n",
       "    </tr>\n",
       "    <tr>\n",
       "      <th>Q464371</th>\n",
       "      <td>5</td>\n",
       "    </tr>\n",
       "    <tr>\n",
       "      <th>Q1067</th>\n",
       "      <td>5</td>\n",
       "    </tr>\n",
       "  </tbody>\n",
       "</table>\n",
       "<p>1744 rows × 1 columns</p>\n",
       "</div>"
      ],
      "text/plain": [
       "          count\n",
       "Q39829     2528\n",
       "Q106465    1958\n",
       "Q231356    1848\n",
       "Q311671    1413\n",
       "Q272076    1181\n",
       "...         ...\n",
       "Q260900       5\n",
       "Q314897       5\n",
       "Q7344794      5\n",
       "Q464371       5\n",
       "Q1067         5\n",
       "\n",
       "[1744 rows x 1 columns]"
      ]
     },
     "execution_count": 13,
     "metadata": {},
     "output_type": "execute_result"
    }
   ],
   "source": [
    "df_item_dist"
   ]
  },
  {
   "cell_type": "markdown",
   "id": "bb5aba19",
   "metadata": {},
   "source": [
    "## Define dicts"
   ]
  },
  {
   "cell_type": "code",
   "execution_count": 14,
   "id": "9956c7f9",
   "metadata": {},
   "outputs": [],
   "source": [
    "gender_dict = {}\n",
    "country_dict = {}\n",
    "for author in ratings_with_properties_test[\"QID\"].unique():\n",
    "    gender_dict[author] = ratings_with_properties_test.gender[ratings_with_properties_test[\"QID\"] == author].iloc[0]\n",
    "    country_dict[author] = ratings_with_properties_test.country[ratings_with_properties_test[\"QID\"] == author].iloc[0]"
   ]
  },
  {
   "cell_type": "code",
   "execution_count": 15,
   "id": "7bc0243c",
   "metadata": {},
   "outputs": [],
   "source": [
    "df_item_dist[\"gender\"] = \"\"\n",
    "df_item_dist[\"country\"] = \"\"\n",
    "\n",
    "for index, row in df_item_dist.iterrows():\n",
    "    gender = gender_dict[index]\n",
    "    country = country_dict[index]\n",
    "    df_item_dist.at[index, \"gender\"] = gender\n",
    "    df_item_dist.at[index, \"country\"] = country"
   ]
  },
  {
   "cell_type": "markdown",
   "id": "c382994b",
   "metadata": {},
   "source": [
    "## Final"
   ]
  },
  {
   "cell_type": "code",
   "execution_count": 16,
   "id": "5cd11b22",
   "metadata": {},
   "outputs": [
    {
     "data": {
      "text/html": [
       "<div>\n",
       "<style scoped>\n",
       "    .dataframe tbody tr th:only-of-type {\n",
       "        vertical-align: middle;\n",
       "    }\n",
       "\n",
       "    .dataframe tbody tr th {\n",
       "        vertical-align: top;\n",
       "    }\n",
       "\n",
       "    .dataframe thead th {\n",
       "        text-align: right;\n",
       "    }\n",
       "</style>\n",
       "<table border=\"1\" class=\"dataframe\">\n",
       "  <thead>\n",
       "    <tr style=\"text-align: right;\">\n",
       "      <th></th>\n",
       "      <th>count</th>\n",
       "      <th>gender</th>\n",
       "      <th>country</th>\n",
       "    </tr>\n",
       "  </thead>\n",
       "  <tbody>\n",
       "    <tr>\n",
       "      <th>Q39829</th>\n",
       "      <td>2528</td>\n",
       "      <td>male</td>\n",
       "      <td>United States of America</td>\n",
       "    </tr>\n",
       "    <tr>\n",
       "      <th>Q106465</th>\n",
       "      <td>1958</td>\n",
       "      <td>male</td>\n",
       "      <td>United States of America</td>\n",
       "    </tr>\n",
       "    <tr>\n",
       "      <th>Q231356</th>\n",
       "      <td>1848</td>\n",
       "      <td>female</td>\n",
       "      <td>United States of America</td>\n",
       "    </tr>\n",
       "    <tr>\n",
       "      <th>Q311671</th>\n",
       "      <td>1413</td>\n",
       "      <td>male</td>\n",
       "      <td>United States of America</td>\n",
       "    </tr>\n",
       "    <tr>\n",
       "      <th>Q272076</th>\n",
       "      <td>1181</td>\n",
       "      <td>male</td>\n",
       "      <td>United States of America</td>\n",
       "    </tr>\n",
       "    <tr>\n",
       "      <th>Q184785</th>\n",
       "      <td>1029</td>\n",
       "      <td>female</td>\n",
       "      <td>United States of America</td>\n",
       "    </tr>\n",
       "    <tr>\n",
       "      <th>Q231467</th>\n",
       "      <td>996</td>\n",
       "      <td>female</td>\n",
       "      <td>United States of America</td>\n",
       "    </tr>\n",
       "    <tr>\n",
       "      <th>Q34660</th>\n",
       "      <td>970</td>\n",
       "      <td>female</td>\n",
       "      <td>United Kingdom</td>\n",
       "    </tr>\n",
       "    <tr>\n",
       "      <th>Q240547</th>\n",
       "      <td>969</td>\n",
       "      <td>female</td>\n",
       "      <td>United States of America</td>\n",
       "    </tr>\n",
       "    <tr>\n",
       "      <th>Q172140</th>\n",
       "      <td>947</td>\n",
       "      <td>male</td>\n",
       "      <td>United States of America</td>\n",
       "    </tr>\n",
       "  </tbody>\n",
       "</table>\n",
       "</div>"
      ],
      "text/plain": [
       "         count  gender                   country\n",
       "Q39829    2528    male  United States of America\n",
       "Q106465   1958    male  United States of America\n",
       "Q231356   1848  female  United States of America\n",
       "Q311671   1413    male  United States of America\n",
       "Q272076   1181    male  United States of America\n",
       "Q184785   1029  female  United States of America\n",
       "Q231467    996  female  United States of America\n",
       "Q34660     970  female            United Kingdom\n",
       "Q240547    969  female  United States of America\n",
       "Q172140    947    male  United States of America"
      ]
     },
     "execution_count": 16,
     "metadata": {},
     "output_type": "execute_result"
    }
   ],
   "source": [
    "df_item_dist.iloc[:10]"
   ]
  },
  {
   "cell_type": "code",
   "execution_count": 17,
   "id": "6267708b",
   "metadata": {},
   "outputs": [],
   "source": [
    "num_pop_items = int(top_fraction_items * len(df_item_dist))\n",
    "pop_item_dist = df_item_dist.iloc[:num_pop_items]"
   ]
  },
  {
   "cell_type": "code",
   "execution_count": 18,
   "id": "622a12d2",
   "metadata": {},
   "outputs": [
    {
     "data": {
      "image/png": "[encoded data removed]",
      "text/plain": [
       "<Figure size 432x288 with 1 Axes>"
      ]
     },
     "metadata": {},
     "output_type": "display_data"
    }
   ],
   "source": [
    "fig, ax = plt.subplots()\n",
    "df_item_dist.gender.value_counts().plot(kind=\"pie\",autopct='%.2f%%', shadow=True\n",
    "                                      , startangle=30)\n",
    "ax.tick_params(labelrotation=0)\n",
    "ax.title.set_text(\"Gender Distribution\")\n",
    "fig.tight_layout()"
   ]
  },
  {
   "cell_type": "code",
   "execution_count": 19,
   "id": "c3f5cef7",
   "metadata": {},
   "outputs": [
    {
     "data": {
      "image/png": "[encoded data removed]",
      "text/plain": [
       "<Figure size 432x288 with 1 Axes>"
      ]
     },
     "metadata": {},
     "output_type": "display_data"
    }
   ],
   "source": [
    "fig, ax = plt.subplots()\n",
    "pop_item_dist.gender.value_counts().plot(kind=\"pie\",autopct='%.2f%%', shadow=True\n",
    "                                      , startangle=30)\n",
    "ax.tick_params(labelrotation=0)\n",
    "ax.title.set_text(\"Gender Distribution in popular authors\")\n",
    "fig.tight_layout()"
   ]
  },
  {
   "cell_type": "code",
   "execution_count": 20,
   "id": "77c52d93",
   "metadata": {},
   "outputs": [
    {
     "name": "stderr",
     "output_type": "stream",
     "text": [
      "/var/folders/kh/k3tdtq_s5197cmczt3hthfc40000gn/T/ipykernel_9318/1821409258.py:6: UserWarning: Tight layout not applied. The left and right margins cannot be made large enough to accommodate all axes decorations.\n",
      "  fig.tight_layout()\n"
     ]
    },
    {
     "data": {
      "image/png": "[encoded data removed]",
      "text/plain": [
       "<Figure size 432x288 with 1 Axes>"
      ]
     },
     "metadata": {},
     "output_type": "display_data"
    }
   ],
   "source": [
    "fig, ax = plt.subplots()\n",
    "pop_item_dist.country.value_counts().plot(kind=\"pie\",autopct='%.2f%%', shadow=True\n",
    "                                      , startangle=30)\n",
    "ax.tick_params(labelrotation=0)\n",
    "ax.title.set_text(\"Country Distribution in popular authors\")\n",
    "fig.tight_layout()"
   ]
  },
  {
   "cell_type": "markdown",
   "id": "a10c508f",
   "metadata": {},
   "source": [
    "## Tests"
   ]
  },
  {
   "cell_type": "code",
   "execution_count": 21,
   "id": "37153569",
   "metadata": {},
   "outputs": [],
   "source": [
    "female_popularity = df_item_dist[\"count\"][df_item_dist.gender == \"female\"].values\n",
    "male_popularity = df_item_dist[\"count\"][df_item_dist.gender == \"male\"].values"
   ]
  },
  {
   "cell_type": "code",
   "execution_count": 22,
   "id": "52684431",
   "metadata": {
    "scrolled": true
   },
   "outputs": [
    {
     "data": {
      "text/plain": [
       "(49.871088861076345, 46.11493018259936)"
      ]
     },
     "execution_count": 22,
     "metadata": {},
     "output_type": "execute_result"
    }
   ],
   "source": [
    "female_popularity.mean(), male_popularity.mean()"
   ]
  },
  {
   "cell_type": "code",
   "execution_count": 23,
   "id": "f8b20089",
   "metadata": {},
   "outputs": [
    {
     "data": {
      "text/plain": [
       "Ttest_indResult(statistic=1.9707033108303578, pvalue=0.02451160796057814)"
      ]
     },
     "execution_count": 23,
     "metadata": {},
     "output_type": "execute_result"
    }
   ],
   "source": [
    "stats.ttest_ind(female_popularity, male_popularity, trim = 0.2, alternative=\"greater\")"
   ]
  },
  {
   "cell_type": "code",
   "execution_count": 24,
   "id": "3081ce65",
   "metadata": {},
   "outputs": [],
   "source": [
    "nonmale_popularity = df_item_dist[\"count\"][df_item_dist.gender != \"male\"].values\n",
    "male_popularity = df_item_dist[\"count\"][df_item_dist.gender == \"male\"].values"
   ]
  },
  {
   "cell_type": "code",
   "execution_count": 25,
   "id": "424c5a97",
   "metadata": {},
   "outputs": [
    {
     "data": {
      "text/plain": [
       "(49.549815498154985, 46.11493018259936)"
      ]
     },
     "execution_count": 25,
     "metadata": {},
     "output_type": "execute_result"
    }
   ],
   "source": [
    "nonmale_popularity.mean(), male_popularity.mean()"
   ]
  },
  {
   "cell_type": "code",
   "execution_count": 26,
   "id": "2506998a",
   "metadata": {},
   "outputs": [
    {
     "data": {
      "text/plain": [
       "Ttest_indResult(statistic=0.5364525014921618, pvalue=0.5917143522419857)"
      ]
     },
     "execution_count": 26,
     "metadata": {},
     "output_type": "execute_result"
    }
   ],
   "source": [
    "stats.ttest_ind(nonmale_popularity, male_popularity)"
   ]
  },
  {
   "cell_type": "code",
   "execution_count": 27,
   "id": "3c723bee",
   "metadata": {},
   "outputs": [],
   "source": [
    "USA_popularity = df_item_dist[\"count\"][df_item_dist.country == \"United States of America\"].values\n",
    "nonUSA_popularity = df_item_dist[\"count\"][df_item_dist.country != \"United States of America\"].values"
   ]
  },
  {
   "cell_type": "code",
   "execution_count": 28,
   "id": "76ab684c",
   "metadata": {},
   "outputs": [
    {
     "data": {
      "text/plain": [
       "(54.097725358045494, 34.11669658886894)"
      ]
     },
     "execution_count": 28,
     "metadata": {},
     "output_type": "execute_result"
    }
   ],
   "source": [
    "USA_popularity.mean(), nonUSA_popularity.mean()"
   ]
  },
  {
   "cell_type": "code",
   "execution_count": 29,
   "id": "9d279ec0",
   "metadata": {},
   "outputs": [
    {
     "data": {
      "text/plain": [
       "Ttest_indResult(statistic=2.923456355591377, pvalue=0.003506369850896627)"
      ]
     },
     "execution_count": 29,
     "metadata": {},
     "output_type": "execute_result"
    }
   ],
   "source": [
    "stats.ttest_ind(USA_popularity, nonUSA_popularity)"
   ]
  },
  {
   "cell_type": "markdown",
   "id": "68a0bb75",
   "metadata": {},
   "source": [
    "# X"
   ]
  },
  {
   "cell_type": "code",
   "execution_count": 30,
   "id": "afbdd0cb",
   "metadata": {},
   "outputs": [],
   "source": [
    "df_item_dist[\"count\"] = df_item_dist[\"count\"] * num_users"
   ]
  },
  {
   "cell_type": "code",
   "execution_count": 31,
   "id": "195b4d00",
   "metadata": {},
   "outputs": [
    {
     "data": {
      "text/html": [
       "<div>\n",
       "<style scoped>\n",
       "    .dataframe tbody tr th:only-of-type {\n",
       "        vertical-align: middle;\n",
       "    }\n",
       "\n",
       "    .dataframe tbody tr th {\n",
       "        vertical-align: top;\n",
       "    }\n",
       "\n",
       "    .dataframe thead th {\n",
       "        text-align: right;\n",
       "    }\n",
       "</style>\n",
       "<table border=\"1\" class=\"dataframe\">\n",
       "  <thead>\n",
       "    <tr style=\"text-align: right;\">\n",
       "      <th></th>\n",
       "      <th>count</th>\n",
       "      <th>gender</th>\n",
       "      <th>country</th>\n",
       "    </tr>\n",
       "  </thead>\n",
       "  <tbody>\n",
       "    <tr>\n",
       "      <th>Q39829</th>\n",
       "      <td>16062912</td>\n",
       "      <td>male</td>\n",
       "      <td>United States of America</td>\n",
       "    </tr>\n",
       "    <tr>\n",
       "      <th>Q106465</th>\n",
       "      <td>12441132</td>\n",
       "      <td>male</td>\n",
       "      <td>United States of America</td>\n",
       "    </tr>\n",
       "    <tr>\n",
       "      <th>Q231356</th>\n",
       "      <td>11742192</td>\n",
       "      <td>female</td>\n",
       "      <td>United States of America</td>\n",
       "    </tr>\n",
       "    <tr>\n",
       "      <th>Q311671</th>\n",
       "      <td>8978202</td>\n",
       "      <td>male</td>\n",
       "      <td>United States of America</td>\n",
       "    </tr>\n",
       "    <tr>\n",
       "      <th>Q272076</th>\n",
       "      <td>7504074</td>\n",
       "      <td>male</td>\n",
       "      <td>United States of America</td>\n",
       "    </tr>\n",
       "    <tr>\n",
       "      <th>...</th>\n",
       "      <td>...</td>\n",
       "      <td>...</td>\n",
       "      <td>...</td>\n",
       "    </tr>\n",
       "    <tr>\n",
       "      <th>Q260900</th>\n",
       "      <td>31770</td>\n",
       "      <td>female</td>\n",
       "      <td>United States of America</td>\n",
       "    </tr>\n",
       "    <tr>\n",
       "      <th>Q314897</th>\n",
       "      <td>31770</td>\n",
       "      <td>male</td>\n",
       "      <td>United Kingdom</td>\n",
       "    </tr>\n",
       "    <tr>\n",
       "      <th>Q7344794</th>\n",
       "      <td>31770</td>\n",
       "      <td>male</td>\n",
       "      <td>United States of America</td>\n",
       "    </tr>\n",
       "    <tr>\n",
       "      <th>Q464371</th>\n",
       "      <td>31770</td>\n",
       "      <td>female</td>\n",
       "      <td>France</td>\n",
       "    </tr>\n",
       "    <tr>\n",
       "      <th>Q1067</th>\n",
       "      <td>31770</td>\n",
       "      <td>male</td>\n",
       "      <td>Republic of Florence</td>\n",
       "    </tr>\n",
       "  </tbody>\n",
       "</table>\n",
       "<p>1744 rows × 3 columns</p>\n",
       "</div>"
      ],
      "text/plain": [
       "             count  gender                   country\n",
       "Q39829    16062912    male  United States of America\n",
       "Q106465   12441132    male  United States of America\n",
       "Q231356   11742192  female  United States of America\n",
       "Q311671    8978202    male  United States of America\n",
       "Q272076    7504074    male  United States of America\n",
       "...            ...     ...                       ...\n",
       "Q260900      31770  female  United States of America\n",
       "Q314897      31770    male            United Kingdom\n",
       "Q7344794     31770    male  United States of America\n",
       "Q464371      31770  female                    France\n",
       "Q1067        31770    male      Republic of Florence\n",
       "\n",
       "[1744 rows x 3 columns]"
      ]
     },
     "execution_count": 31,
     "metadata": {},
     "output_type": "execute_result"
    }
   ],
   "source": [
    "df_item_dist"
   ]
  },
  {
   "cell_type": "code",
   "execution_count": null,
   "id": "81ac52ce",
   "metadata": {},
   "outputs": [],
   "source": []
  }
 ],
 "metadata": {
  "kernelspec": {
   "display_name": "Python 3 (ipykernel)",
   "language": "python",
   "name": "python3"
  },
  "language_info": {
   "codemirror_mode": {
    "name": "ipython",
    "version": 3
   },
   "file_extension": ".py",
   "mimetype": "text/x-python",
   "name": "python",
   "nbconvert_exporter": "python",
   "pygments_lexer": "ipython3",
   "version": "3.9.12"
  }
 },
 "nbformat": 4,
 "nbformat_minor": 5
}
