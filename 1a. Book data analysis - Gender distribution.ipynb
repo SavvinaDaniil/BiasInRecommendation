{
 "cells": [
  {
   "cell_type": "markdown",
   "id": "d1c99585",
   "metadata": {},
   "source": [
    "# Process\n",
    "In this notebook, I will do a first analysis of gender distribution on the data so that I can use it later on."
   ]
  },
  {
   "cell_type": "markdown",
   "id": "3307d8bf",
   "metadata": {},
   "source": [
    "# A. Import Libraries"
   ]
  },
  {
   "cell_type": "code",
   "execution_count": 1,
   "id": "37ee5e3d",
   "metadata": {},
   "outputs": [],
   "source": [
    "import warnings\n",
    "warnings.simplefilter(action='ignore', category=FutureWarning)\n",
    "import matplotlib.pyplot as plt\n",
    "import random as rd\n",
    "import pandas as pd\n",
    "import numpy as np\n",
    "from analyze_data import users_and_items, user_distribution,user_gender_distribution, calculate_group_characteristics\n",
    "from plots import plot_data_distribution, plot_popularity_distribution, plot_profile_size_vs_popularity, plot_group_characteristics, plot_Lorenz\n",
    "import tqdm \n",
    "from split_users import sort_user_dist, split, split_differently\n",
    "import time\n",
    "import pickle as pkl\n",
    "from sklearn.model_selection import train_test_split\n",
    "pd.set_option(\"display.precision\", 5)"
   ]
  },
  {
   "cell_type": "markdown",
   "id": "ff8162d1",
   "metadata": {},
   "source": [
    "## B. Set hyperparameters\n",
    "There are certain hyperparameters that need to be tuned before the run. "
   ]
  },
  {
   "cell_type": "code",
   "execution_count": 2,
   "id": "9bf73c77",
   "metadata": {},
   "outputs": [],
   "source": [
    "item_threshold = 5 # remove users with less than item_threshold items\n",
    "user_threshold = 5 # remove items with less than user_threshold users\n",
    "top_threshold = 200 # remove users who have rated more than top_threshold items\n",
    "recommendation_type = \"books\" # books, music or movies\n",
    "item_col = \"ISBN\" # the item column\n",
    "user_col = \"User-ID\"\n",
    "my_seed = 0 # random_seed\n",
    "top_fraction_users = 0.2# the limit for a user to be considered High Male Preference\n",
    "split_by = \"male_female_difference\" "
   ]
  },
  {
   "cell_type": "markdown",
   "id": "0a197b83",
   "metadata": {},
   "source": [
    "These additions will be useful so we can save the different files (plots and processed data) with clarity on the hyperparameters."
   ]
  },
  {
   "cell_type": "code",
   "execution_count": 3,
   "id": "d6fc0c1a",
   "metadata": {},
   "outputs": [],
   "source": [
    "addition_1 = \"_u\"+str(item_threshold)+\"_i\"+str(user_threshold)+\"_t\"+str(top_threshold)\n",
    "addition_2 = addition_1 + \"_tfu\"+str(int(100*top_fraction_users))\n",
    "addition_3 = addition_2 + (\"_mfd\" if (split_by==\"male_female_difference\") else \"_unknown\")"
   ]
  },
  {
   "cell_type": "code",
   "execution_count": 4,
   "id": "d01c7b4d",
   "metadata": {},
   "outputs": [],
   "source": [
    "rd.seed(my_seed) #seed for random functions\n",
    "np.random.seed(my_seed) #seed for all numpy fuctions"
   ]
  },
  {
   "cell_type": "markdown",
   "id": "37d0e2c3",
   "metadata": {},
   "source": [
    "# C. Read files"
   ]
  },
  {
   "cell_type": "code",
   "execution_count": 5,
   "id": "5959e560",
   "metadata": {},
   "outputs": [],
   "source": [
    "properties_file_location = \"data/files_with_properties/\" # here are stored the data files that include author properties\n",
    "item_file = properties_file_location + \"fairbook_books.csv\" # the items file\n",
    "items_with_properties = pd.read_csv(item_file, index_col=0, header=0, low_memory=False).fillna(\"\")\n",
    "\n",
    "ratings_file = properties_file_location + \"fairbook_ratings.csv\" # the ratings file\n",
    "ratings_with_properties = pd.read_csv(ratings_file, index_col=0, header=0, low_memory=False).fillna(\"\")"
   ]
  },
  {
   "cell_type": "code",
   "execution_count": 6,
   "id": "3cc4fbe6",
   "metadata": {},
   "outputs": [
    {
     "data": {
      "text/html": [
       "<div>\n",
       "<style scoped>\n",
       "    .dataframe tbody tr th:only-of-type {\n",
       "        vertical-align: middle;\n",
       "    }\n",
       "\n",
       "    .dataframe tbody tr th {\n",
       "        vertical-align: top;\n",
       "    }\n",
       "\n",
       "    .dataframe thead th {\n",
       "        text-align: right;\n",
       "    }\n",
       "</style>\n",
       "<table border=\"1\" class=\"dataframe\">\n",
       "  <thead>\n",
       "    <tr style=\"text-align: right;\">\n",
       "      <th></th>\n",
       "      <th>User-ID</th>\n",
       "      <th>ISBN</th>\n",
       "      <th>Book-Rating</th>\n",
       "      <th>QID</th>\n",
       "      <th>viaf_id</th>\n",
       "      <th>sexuality</th>\n",
       "      <th>country</th>\n",
       "      <th>language</th>\n",
       "      <th>religion</th>\n",
       "      <th>gender</th>\n",
       "      <th>ethnicity</th>\n",
       "      <th>birthyear</th>\n",
       "      <th>deathyear</th>\n",
       "      <th>title</th>\n",
       "      <th>author</th>\n",
       "      <th>year</th>\n",
       "      <th>publisher</th>\n",
       "    </tr>\n",
       "  </thead>\n",
       "  <tbody>\n",
       "    <tr>\n",
       "      <th>0</th>\n",
       "      <td>276847</td>\n",
       "      <td>3426029553</td>\n",
       "      <td>8</td>\n",
       "      <td></td>\n",
       "      <td></td>\n",
       "      <td></td>\n",
       "      <td></td>\n",
       "      <td></td>\n",
       "      <td></td>\n",
       "      <td></td>\n",
       "      <td></td>\n",
       "      <td></td>\n",
       "      <td></td>\n",
       "      <td></td>\n",
       "      <td></td>\n",
       "      <td></td>\n",
       "      <td></td>\n",
       "    </tr>\n",
       "    <tr>\n",
       "      <th>1</th>\n",
       "      <td>276847</td>\n",
       "      <td>3551551677</td>\n",
       "      <td>10</td>\n",
       "      <td>Q34660</td>\n",
       "      <td>116796842</td>\n",
       "      <td></td>\n",
       "      <td>United Kingdom</td>\n",
       "      <td>English</td>\n",
       "      <td>Anglicanism</td>\n",
       "      <td>female</td>\n",
       "      <td>English people</td>\n",
       "      <td>1965.0</td>\n",
       "      <td></td>\n",
       "      <td>Harry Potter und der Stein der Weisen</td>\n",
       "      <td>Joanne K. Rowling</td>\n",
       "      <td>1999.0</td>\n",
       "      <td>Carlsen Verlag GmbH</td>\n",
       "    </tr>\n",
       "    <tr>\n",
       "      <th>2</th>\n",
       "      <td>276847</td>\n",
       "      <td>3551551685</td>\n",
       "      <td>10</td>\n",
       "      <td>Q34660</td>\n",
       "      <td>116796842</td>\n",
       "      <td></td>\n",
       "      <td>United Kingdom</td>\n",
       "      <td>English</td>\n",
       "      <td>Anglicanism</td>\n",
       "      <td>female</td>\n",
       "      <td>English people</td>\n",
       "      <td>1965.0</td>\n",
       "      <td></td>\n",
       "      <td>Harry Potter und die Kammer des Schreckens</td>\n",
       "      <td>Joanne K. Rowling</td>\n",
       "      <td>2000.0</td>\n",
       "      <td>Carlsen Verlag GmbH</td>\n",
       "    </tr>\n",
       "    <tr>\n",
       "      <th>3</th>\n",
       "      <td>276847</td>\n",
       "      <td>3551551693</td>\n",
       "      <td>10</td>\n",
       "      <td>Q34660</td>\n",
       "      <td>116796842</td>\n",
       "      <td></td>\n",
       "      <td>United Kingdom</td>\n",
       "      <td>English</td>\n",
       "      <td>Anglicanism</td>\n",
       "      <td>female</td>\n",
       "      <td>English people</td>\n",
       "      <td>1965.0</td>\n",
       "      <td></td>\n",
       "      <td>Harry Potter und der Gefangene von Azkaban</td>\n",
       "      <td>J. K. Rowling</td>\n",
       "      <td>1999.0</td>\n",
       "      <td>Carlsen Verlag GmbH</td>\n",
       "    </tr>\n",
       "    <tr>\n",
       "      <th>4</th>\n",
       "      <td>276847</td>\n",
       "      <td>3551551936</td>\n",
       "      <td>10</td>\n",
       "      <td>Q34660</td>\n",
       "      <td>116796842</td>\n",
       "      <td></td>\n",
       "      <td>United Kingdom</td>\n",
       "      <td>English</td>\n",
       "      <td>Anglicanism</td>\n",
       "      <td>female</td>\n",
       "      <td>English people</td>\n",
       "      <td>1965.0</td>\n",
       "      <td></td>\n",
       "      <td>Harry Potter Und Der Feuerkelch</td>\n",
       "      <td>Joanne K. Rowling</td>\n",
       "      <td>1999.0</td>\n",
       "      <td>Carlsen Verlag GmbH</td>\n",
       "    </tr>\n",
       "  </tbody>\n",
       "</table>\n",
       "</div>"
      ],
      "text/plain": [
       "   User-ID        ISBN  Book-Rating     QID    viaf_id sexuality  \\\n",
       "0   276847  3426029553            8                                \n",
       "1   276847  3551551677           10  Q34660  116796842             \n",
       "2   276847  3551551685           10  Q34660  116796842             \n",
       "3   276847  3551551693           10  Q34660  116796842             \n",
       "4   276847  3551551936           10  Q34660  116796842             \n",
       "\n",
       "          country language     religion  gender       ethnicity birthyear  \\\n",
       "0                                                                           \n",
       "1  United Kingdom  English  Anglicanism  female  English people    1965.0   \n",
       "2  United Kingdom  English  Anglicanism  female  English people    1965.0   \n",
       "3  United Kingdom  English  Anglicanism  female  English people    1965.0   \n",
       "4  United Kingdom  English  Anglicanism  female  English people    1965.0   \n",
       "\n",
       "  deathyear                                       title             author  \\\n",
       "0                                                                            \n",
       "1                 Harry Potter und der Stein der Weisen  Joanne K. Rowling   \n",
       "2            Harry Potter und die Kammer des Schreckens  Joanne K. Rowling   \n",
       "3            Harry Potter und der Gefangene von Azkaban      J. K. Rowling   \n",
       "4                       Harry Potter Und Der Feuerkelch  Joanne K. Rowling   \n",
       "\n",
       "     year            publisher  \n",
       "0                               \n",
       "1  1999.0  Carlsen Verlag GmbH  \n",
       "2  2000.0  Carlsen Verlag GmbH  \n",
       "3  1999.0  Carlsen Verlag GmbH  \n",
       "4  1999.0  Carlsen Verlag GmbH  "
      ]
     },
     "execution_count": 6,
     "metadata": {},
     "output_type": "execute_result"
    }
   ],
   "source": [
    "ratings_with_properties.head()"
   ]
  },
  {
   "cell_type": "markdown",
   "id": "a4e037ae",
   "metadata": {},
   "source": [
    "## D. Preprocess data\n",
    "1. Convert book IDs into numbers (needed for Cornac)."
   ]
  },
  {
   "cell_type": "code",
   "execution_count": 7,
   "id": "ae0703a3",
   "metadata": {},
   "outputs": [],
   "source": [
    "mapping_dict = {} # Create a dictionary that maps each ISBN to an integer.\n",
    "i=0\n",
    "for ISBN in ratings_with_properties.ISBN.unique():\n",
    "    mapping_dict[ISBN] = i\n",
    "    i+=1"
   ]
  },
  {
   "cell_type": "code",
   "execution_count": 8,
   "id": "52c588a9",
   "metadata": {},
   "outputs": [],
   "source": [
    "items_with_properties.ISBN = items_with_properties.ISBN.map(lambda x: mapping_dict.get(x,x)) # Map in the books file\n",
    "ratings_with_properties.ISBN = ratings_with_properties.ISBN.map(lambda x: mapping_dict.get(x,x)) # Map in the books file"
   ]
  },
  {
   "cell_type": "code",
   "execution_count": 9,
   "id": "88d9aabf",
   "metadata": {},
   "outputs": [
    {
     "data": {
      "text/html": [
       "<div>\n",
       "<style scoped>\n",
       "    .dataframe tbody tr th:only-of-type {\n",
       "        vertical-align: middle;\n",
       "    }\n",
       "\n",
       "    .dataframe tbody tr th {\n",
       "        vertical-align: top;\n",
       "    }\n",
       "\n",
       "    .dataframe thead th {\n",
       "        text-align: right;\n",
       "    }\n",
       "</style>\n",
       "<table border=\"1\" class=\"dataframe\">\n",
       "  <thead>\n",
       "    <tr style=\"text-align: right;\">\n",
       "      <th></th>\n",
       "      <th>User-ID</th>\n",
       "      <th>ISBN</th>\n",
       "      <th>Book-Rating</th>\n",
       "      <th>QID</th>\n",
       "      <th>viaf_id</th>\n",
       "      <th>sexuality</th>\n",
       "      <th>country</th>\n",
       "      <th>language</th>\n",
       "      <th>religion</th>\n",
       "      <th>gender</th>\n",
       "      <th>ethnicity</th>\n",
       "      <th>birthyear</th>\n",
       "      <th>deathyear</th>\n",
       "      <th>title</th>\n",
       "      <th>author</th>\n",
       "      <th>year</th>\n",
       "      <th>publisher</th>\n",
       "    </tr>\n",
       "  </thead>\n",
       "  <tbody>\n",
       "    <tr>\n",
       "      <th>0</th>\n",
       "      <td>276847</td>\n",
       "      <td>0</td>\n",
       "      <td>8</td>\n",
       "      <td></td>\n",
       "      <td></td>\n",
       "      <td></td>\n",
       "      <td></td>\n",
       "      <td></td>\n",
       "      <td></td>\n",
       "      <td></td>\n",
       "      <td></td>\n",
       "      <td></td>\n",
       "      <td></td>\n",
       "      <td></td>\n",
       "      <td></td>\n",
       "      <td></td>\n",
       "      <td></td>\n",
       "    </tr>\n",
       "    <tr>\n",
       "      <th>1</th>\n",
       "      <td>276847</td>\n",
       "      <td>1</td>\n",
       "      <td>10</td>\n",
       "      <td>Q34660</td>\n",
       "      <td>116796842</td>\n",
       "      <td></td>\n",
       "      <td>United Kingdom</td>\n",
       "      <td>English</td>\n",
       "      <td>Anglicanism</td>\n",
       "      <td>female</td>\n",
       "      <td>English people</td>\n",
       "      <td>1965.0</td>\n",
       "      <td></td>\n",
       "      <td>Harry Potter und der Stein der Weisen</td>\n",
       "      <td>Joanne K. Rowling</td>\n",
       "      <td>1999.0</td>\n",
       "      <td>Carlsen Verlag GmbH</td>\n",
       "    </tr>\n",
       "  </tbody>\n",
       "</table>\n",
       "</div>"
      ],
      "text/plain": [
       "   User-ID  ISBN  Book-Rating     QID    viaf_id sexuality         country  \\\n",
       "0   276847     0            8                                                \n",
       "1   276847     1           10  Q34660  116796842            United Kingdom   \n",
       "\n",
       "  language     religion  gender       ethnicity birthyear deathyear  \\\n",
       "0                                                                     \n",
       "1  English  Anglicanism  female  English people    1965.0             \n",
       "\n",
       "                                   title             author    year  \\\n",
       "0                                                                     \n",
       "1  Harry Potter und der Stein der Weisen  Joanne K. Rowling  1999.0   \n",
       "\n",
       "             publisher  \n",
       "0                       \n",
       "1  Carlsen Verlag GmbH  "
      ]
     },
     "execution_count": 9,
     "metadata": {},
     "output_type": "execute_result"
    }
   ],
   "source": [
    "ratings_with_properties.head(2)"
   ]
  },
  {
   "cell_type": "markdown",
   "id": "b6f4e993",
   "metadata": {},
   "source": [
    "## E. Gender analysis"
   ]
  },
  {
   "cell_type": "markdown",
   "id": "0df598a4",
   "metadata": {},
   "source": [
    "First, I am replacing empty gender entries with \"unknown\" and all the non male or female with \"other\"."
   ]
  },
  {
   "cell_type": "code",
   "execution_count": 10,
   "id": "58d8d929",
   "metadata": {},
   "outputs": [],
   "source": [
    "df = ratings_with_properties.copy()\n",
    "df[\"gender\"] = df[\"gender\"].apply(lambda x: \"unknown\" if x==\"\" else x)\n",
    "df[\"gender\"] = df[\"gender\"].apply(lambda x: \"other\" if (x!=\"male\") & (x!=\"female\") & (x!=\"unknown\") else x)\n"
   ]
  },
  {
   "cell_type": "markdown",
   "id": "73fae75f",
   "metadata": {},
   "source": [
    "Here is a plot of the gender distribution within the ratings."
   ]
  },
  {
   "cell_type": "code",
   "execution_count": 11,
   "id": "3a8265d4",
   "metadata": {},
   "outputs": [
    {
     "data": {
      "image/png": "[encoded data removed]",
      "text/plain": [
       "<Figure size 432x288 with 1 Axes>"
      ]
     },
     "metadata": {},
     "output_type": "display_data"
    }
   ],
   "source": [
    "fig, ax = plt.subplots()\n",
    "df.gender.value_counts().plot(kind=\"pie\",autopct='%.2f%%',explode=(0.1, 0.1, 0.1,0.8), shadow=True\n",
    "                                      , startangle=30)\n",
    "ax.tick_params(labelrotation=0)\n",
    "ax.title.set_text(\"Profile Ratings\")\n",
    "fig.tight_layout()"
   ]
  },
  {
   "cell_type": "markdown",
   "id": "e94c95ec",
   "metadata": {},
   "source": [
    "# F. Define and calculate gender odds"
   ]
  },
  {
   "cell_type": "markdown",
   "id": "bd75faa3",
   "metadata": {},
   "source": [
    "First, I will keep only the relevant columns."
   ]
  },
  {
   "cell_type": "code",
   "execution_count": 12,
   "id": "b29af5f1",
   "metadata": {},
   "outputs": [],
   "source": [
    "df = df[[\"User-ID\", \"ISBN\", \"Book-Rating\", \"gender\"]]"
   ]
  },
  {
   "cell_type": "code",
   "execution_count": 13,
   "id": "a9291043",
   "metadata": {},
   "outputs": [
    {
     "data": {
      "text/html": [
       "<div>\n",
       "<style scoped>\n",
       "    .dataframe tbody tr th:only-of-type {\n",
       "        vertical-align: middle;\n",
       "    }\n",
       "\n",
       "    .dataframe tbody tr th {\n",
       "        vertical-align: top;\n",
       "    }\n",
       "\n",
       "    .dataframe thead th {\n",
       "        text-align: right;\n",
       "    }\n",
       "</style>\n",
       "<table border=\"1\" class=\"dataframe\">\n",
       "  <thead>\n",
       "    <tr style=\"text-align: right;\">\n",
       "      <th></th>\n",
       "      <th>User-ID</th>\n",
       "      <th>ISBN</th>\n",
       "      <th>Book-Rating</th>\n",
       "      <th>gender</th>\n",
       "    </tr>\n",
       "  </thead>\n",
       "  <tbody>\n",
       "    <tr>\n",
       "      <th>0</th>\n",
       "      <td>276847</td>\n",
       "      <td>0</td>\n",
       "      <td>8</td>\n",
       "      <td>unknown</td>\n",
       "    </tr>\n",
       "    <tr>\n",
       "      <th>1</th>\n",
       "      <td>276847</td>\n",
       "      <td>1</td>\n",
       "      <td>10</td>\n",
       "      <td>female</td>\n",
       "    </tr>\n",
       "    <tr>\n",
       "      <th>2</th>\n",
       "      <td>276847</td>\n",
       "      <td>2</td>\n",
       "      <td>10</td>\n",
       "      <td>female</td>\n",
       "    </tr>\n",
       "    <tr>\n",
       "      <th>3</th>\n",
       "      <td>276847</td>\n",
       "      <td>3</td>\n",
       "      <td>10</td>\n",
       "      <td>female</td>\n",
       "    </tr>\n",
       "    <tr>\n",
       "      <th>4</th>\n",
       "      <td>276847</td>\n",
       "      <td>4</td>\n",
       "      <td>10</td>\n",
       "      <td>female</td>\n",
       "    </tr>\n",
       "  </tbody>\n",
       "</table>\n",
       "</div>"
      ],
      "text/plain": [
       "   User-ID  ISBN  Book-Rating   gender\n",
       "0   276847     0            8  unknown\n",
       "1   276847     1           10   female\n",
       "2   276847     2           10   female\n",
       "3   276847     3           10   female\n",
       "4   276847     4           10   female"
      ]
     },
     "execution_count": 13,
     "metadata": {},
     "output_type": "execute_result"
    }
   ],
   "source": [
    "df.head()"
   ]
  },
  {
   "cell_type": "code",
   "execution_count": 14,
   "id": "db750a2f",
   "metadata": {},
   "outputs": [
    {
     "name": "stdout",
     "output_type": "stream",
     "text": [
      "Mean male_female_differences per user: 0.05631\n",
      "Standard deviation of male_female_differences per user: 0.51457\n",
      "Min male_female_differences per user: -1.0\n",
      "Max male_female_differences per user: 1.0\n"
     ]
    }
   ],
   "source": [
    "user_gender_dist, num_users = user_gender_distribution(df, user_col, split_by,  prnt = True)"
   ]
  },
  {
   "cell_type": "code",
   "execution_count": 15,
   "id": "e631fb45",
   "metadata": {},
   "outputs": [
    {
     "data": {
      "text/html": [
       "<div>\n",
       "<style scoped>\n",
       "    .dataframe tbody tr th:only-of-type {\n",
       "        vertical-align: middle;\n",
       "    }\n",
       "\n",
       "    .dataframe tbody tr th {\n",
       "        vertical-align: top;\n",
       "    }\n",
       "\n",
       "    .dataframe thead th {\n",
       "        text-align: right;\n",
       "    }\n",
       "</style>\n",
       "<table border=\"1\" class=\"dataframe\">\n",
       "  <thead>\n",
       "    <tr style=\"text-align: right;\">\n",
       "      <th></th>\n",
       "      <th>num_female</th>\n",
       "      <th>num_male</th>\n",
       "      <th>num_other</th>\n",
       "      <th>num_unknown</th>\n",
       "      <th>num_total</th>\n",
       "      <th>ratio_female</th>\n",
       "      <th>male_female_difference</th>\n",
       "    </tr>\n",
       "  </thead>\n",
       "  <tbody>\n",
       "    <tr>\n",
       "      <th>258107</th>\n",
       "      <td>6</td>\n",
       "      <td>0</td>\n",
       "      <td>0</td>\n",
       "      <td>0</td>\n",
       "      <td>6</td>\n",
       "      <td>1.0</td>\n",
       "      <td>-1.0</td>\n",
       "    </tr>\n",
       "    <tr>\n",
       "      <th>177876</th>\n",
       "      <td>5</td>\n",
       "      <td>0</td>\n",
       "      <td>0</td>\n",
       "      <td>0</td>\n",
       "      <td>5</td>\n",
       "      <td>1.0</td>\n",
       "      <td>-1.0</td>\n",
       "    </tr>\n",
       "    <tr>\n",
       "      <th>178458</th>\n",
       "      <td>5</td>\n",
       "      <td>0</td>\n",
       "      <td>0</td>\n",
       "      <td>0</td>\n",
       "      <td>5</td>\n",
       "      <td>1.0</td>\n",
       "      <td>-1.0</td>\n",
       "    </tr>\n",
       "    <tr>\n",
       "      <th>86170</th>\n",
       "      <td>6</td>\n",
       "      <td>0</td>\n",
       "      <td>0</td>\n",
       "      <td>0</td>\n",
       "      <td>6</td>\n",
       "      <td>1.0</td>\n",
       "      <td>-1.0</td>\n",
       "    </tr>\n",
       "    <tr>\n",
       "      <th>179321</th>\n",
       "      <td>5</td>\n",
       "      <td>0</td>\n",
       "      <td>0</td>\n",
       "      <td>0</td>\n",
       "      <td>5</td>\n",
       "      <td>1.0</td>\n",
       "      <td>-1.0</td>\n",
       "    </tr>\n",
       "    <tr>\n",
       "      <th>...</th>\n",
       "      <td>...</td>\n",
       "      <td>...</td>\n",
       "      <td>...</td>\n",
       "      <td>...</td>\n",
       "      <td>...</td>\n",
       "      <td>...</td>\n",
       "      <td>...</td>\n",
       "    </tr>\n",
       "    <tr>\n",
       "      <th>112512</th>\n",
       "      <td>0</td>\n",
       "      <td>7</td>\n",
       "      <td>0</td>\n",
       "      <td>0</td>\n",
       "      <td>7</td>\n",
       "      <td>0.0</td>\n",
       "      <td>1.0</td>\n",
       "    </tr>\n",
       "    <tr>\n",
       "      <th>30838</th>\n",
       "      <td>0</td>\n",
       "      <td>6</td>\n",
       "      <td>0</td>\n",
       "      <td>0</td>\n",
       "      <td>6</td>\n",
       "      <td>0.0</td>\n",
       "      <td>1.0</td>\n",
       "    </tr>\n",
       "    <tr>\n",
       "      <th>148798</th>\n",
       "      <td>0</td>\n",
       "      <td>6</td>\n",
       "      <td>0</td>\n",
       "      <td>0</td>\n",
       "      <td>6</td>\n",
       "      <td>0.0</td>\n",
       "      <td>1.0</td>\n",
       "    </tr>\n",
       "    <tr>\n",
       "      <th>242639</th>\n",
       "      <td>0</td>\n",
       "      <td>16</td>\n",
       "      <td>0</td>\n",
       "      <td>0</td>\n",
       "      <td>16</td>\n",
       "      <td>0.0</td>\n",
       "      <td>1.0</td>\n",
       "    </tr>\n",
       "    <tr>\n",
       "      <th>128962</th>\n",
       "      <td>0</td>\n",
       "      <td>5</td>\n",
       "      <td>0</td>\n",
       "      <td>0</td>\n",
       "      <td>5</td>\n",
       "      <td>0.0</td>\n",
       "      <td>1.0</td>\n",
       "    </tr>\n",
       "  </tbody>\n",
       "</table>\n",
       "<p>6358 rows × 7 columns</p>\n",
       "</div>"
      ],
      "text/plain": [
       "        num_female  num_male  num_other  num_unknown  num_total  ratio_female  \\\n",
       "258107           6         0          0            0          6           1.0   \n",
       "177876           5         0          0            0          5           1.0   \n",
       "178458           5         0          0            0          5           1.0   \n",
       "86170            6         0          0            0          6           1.0   \n",
       "179321           5         0          0            0          5           1.0   \n",
       "...            ...       ...        ...          ...        ...           ...   \n",
       "112512           0         7          0            0          7           0.0   \n",
       "30838            0         6          0            0          6           0.0   \n",
       "148798           0         6          0            0          6           0.0   \n",
       "242639           0        16          0            0         16           0.0   \n",
       "128962           0         5          0            0          5           0.0   \n",
       "\n",
       "        male_female_difference  \n",
       "258107                    -1.0  \n",
       "177876                    -1.0  \n",
       "178458                    -1.0  \n",
       "86170                     -1.0  \n",
       "179321                    -1.0  \n",
       "...                        ...  \n",
       "112512                     1.0  \n",
       "30838                      1.0  \n",
       "148798                     1.0  \n",
       "242639                     1.0  \n",
       "128962                     1.0  \n",
       "\n",
       "[6358 rows x 7 columns]"
      ]
     },
     "execution_count": 15,
     "metadata": {},
     "output_type": "execute_result"
    }
   ],
   "source": [
    "user_gender_dist"
   ]
  },
  {
   "cell_type": "code",
   "execution_count": 166,
   "id": "6b41a03b",
   "metadata": {},
   "outputs": [
    {
     "data": {
      "text/plain": [
       "[<matplotlib.lines.Line2D at 0x2884126a0>]"
      ]
     },
     "execution_count": 166,
     "metadata": {},
     "output_type": "execute_result"
    },
    {
     "data": {
      "image/png": "[encoded data removed]",
      "text/plain": [
       "<Figure size 432x288 with 1 Axes>"
      ]
     },
     "metadata": {
      "needs_background": "light"
     },
     "output_type": "display_data"
    }
   ],
   "source": [
    "plt.plot(final_user_gender_dist.male_female_difference.values)"
   ]
  },
  {
   "cell_type": "code",
   "execution_count": 169,
   "id": "c2fabfe0",
   "metadata": {},
   "outputs": [
    {
     "data": {
      "text/plain": [
       "<matplotlib.collections.PathCollection at 0x28761b280>"
      ]
     },
     "execution_count": 169,
     "metadata": {},
     "output_type": "execute_result"
    },
    {
     "data": {
      "image/png": "[encoded data removed]",
      "text/plain": [
       "<Figure size 432x288 with 1 Axes>"
      ]
     },
     "metadata": {
      "needs_background": "light"
     },
     "output_type": "display_data"
    }
   ],
   "source": [
    "plt.scatter(final_user_gender_dist.num_total.values, final_user_gender_dist.male_female_difference.values)"
   ]
  },
  {
   "cell_type": "code",
   "execution_count": 173,
   "id": "8af71c8f",
   "metadata": {},
   "outputs": [],
   "source": [
    "low, med, high = split(final_user_gender_dist, top_fraction_items)"
   ]
  },
  {
   "cell_type": "code",
   "execution_count": 175,
   "id": "63f374c0",
   "metadata": {},
   "outputs": [],
   "source": [
    "low_profile_size = low.num_total.mean()\n",
    "med_profile_size = med.num_total.mean()\n",
    "high_profile_size = high.num_total.mean()"
   ]
  },
  {
   "cell_type": "code",
   "execution_count": 177,
   "id": "1705ed23",
   "metadata": {},
   "outputs": [
    {
     "name": "stdout",
     "output_type": "stream",
     "text": [
      "LowMS: 12.392604248623131\n",
      "MedMS: 15.694364351245085\n",
      "HighMS: 10.17059748427673\n"
     ]
    },
    {
     "data": {
      "image/png": "[encoded data removed]",
      "text/plain": [
       "<Figure size 432x288 with 1 Axes>"
      ]
     },
     "metadata": {
      "needs_background": "light"
     },
     "output_type": "display_data"
    }
   ],
   "source": [
    "plot_group_characteristics(low_profile_size, med_profile_size, high_profile_size, way = \"size\", item_col = item_col, addition = addition_4)"
   ]
  }
 ],
 "metadata": {
  "kernelspec": {
   "display_name": "Python 3 (ipykernel)",
   "language": "python",
   "name": "python3"
  },
  "language_info": {
   "codemirror_mode": {
    "name": "ipython",
    "version": 3
   },
   "file_extension": ".py",
   "mimetype": "text/x-python",
   "name": "python",
   "nbconvert_exporter": "python",
   "pygments_lexer": "ipython3",
   "version": "3.9.12"
  }
 },
 "nbformat": 4,
 "nbformat_minor": 5
}
