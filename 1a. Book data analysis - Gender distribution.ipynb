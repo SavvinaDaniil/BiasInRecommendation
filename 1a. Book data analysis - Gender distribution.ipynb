{
 "cells": [
  {
   "cell_type": "markdown",
   "id": "d1c99585",
   "metadata": {},
   "source": [
    "# Process\n",
    "In this notebook, I will do a first analysis of gender distribution on the data so that I can use it later on."
   ]
  },
  {
   "cell_type": "markdown",
   "id": "3307d8bf",
   "metadata": {},
   "source": [
    "# A. Import Libraries"
   ]
  },
  {
   "cell_type": "code",
   "execution_count": 1,
   "id": "37ee5e3d",
   "metadata": {},
   "outputs": [],
   "source": [
    "import warnings\n",
    "warnings.simplefilter(action='ignore', category=FutureWarning)\n",
    "import matplotlib.pyplot as plt\n",
    "import random as rd\n",
    "import pandas as pd\n",
    "import numpy as np\n",
    "from analyze_data import read_popularity, users_and_items, user_distribution,item_distribution, calculate_popularity, calculate_group_characteristics, calculate_gini_coefficient\n",
    "from plots import plot_data_distribution, plot_popularity_distribution, plot_profile_size_vs_popularity, plot_group_characteristics, plot_Lorenz\n",
    "import tqdm \n",
    "from split_users import sort_user_dist, split, split_differently\n",
    "import time\n",
    "import pickle as pkl\n",
    "from sklearn.model_selection import train_test_split\n",
    "pd.set_option(\"display.precision\", 5)"
   ]
  },
  {
   "cell_type": "markdown",
   "id": "ff8162d1",
   "metadata": {},
   "source": [
    "## B. Set hyperparameters\n",
    "There are certain hyperparameters that need to be tuned before the run. "
   ]
  },
  {
   "cell_type": "code",
   "execution_count": 16,
   "id": "9bf73c77",
   "metadata": {},
   "outputs": [],
   "source": [
    "item_threshold = 5 # remove users with less than item_threshold items\n",
    "user_threshold = 5 # remove items with less than user_threshold users\n",
    "top_threshold = 200 # remove users who have rated more than top_threshold items\n",
    "recommendation_type = \"books\" # books, music or movies\n",
    "item_col = \"ISBN\" # the item column\n",
    "my_seed = 0 # random_seed\n",
    "top_fraction_items = 0.2 # the limit for an item to be considered popular\n",
    "top_fraction_users = 0.2# the limit for a user to be considered High Mainstriminess\n",
    "split_by = \"pop_fraq\" # sort users by fraction of popular items (pop_fraq) or by average popularity in profile (pop_item_fraq)"
   ]
  },
  {
   "cell_type": "markdown",
   "id": "0a197b83",
   "metadata": {},
   "source": [
    "These additions will be useful so we can save the different files (plots and processed data) with clarity on the hyperparameters."
   ]
  },
  {
   "cell_type": "code",
   "execution_count": 17,
   "id": "d6fc0c1a",
   "metadata": {},
   "outputs": [],
   "source": [
    "addition_1 = \"_u\"+str(item_threshold)+\"_i\"+str(user_threshold)+\"_t\"+str(top_threshold)\n",
    "addition_2 = addition_1 + \"_tfi\"+str(int(100*top_fraction_items))\n",
    "addition_3 = addition_2 + \"_tfu\"+str(int(100*top_fraction_users))\n",
    "addition_4 = addition_3 + (\"_sbpf\" if (split_by==\"pop_fraq\") else \"_sbpif\")"
   ]
  },
  {
   "cell_type": "code",
   "execution_count": 18,
   "id": "d01c7b4d",
   "metadata": {},
   "outputs": [],
   "source": [
    "rd.seed(my_seed) #seed for random functions\n",
    "np.random.seed(my_seed) #seed for all numpy fuctions"
   ]
  },
  {
   "cell_type": "markdown",
   "id": "37d0e2c3",
   "metadata": {},
   "source": [
    "# C. Read files"
   ]
  },
  {
   "cell_type": "code",
   "execution_count": 19,
   "id": "5959e560",
   "metadata": {},
   "outputs": [],
   "source": [
    "properties_file_location = \"data/files_with_properties/\" # here are stored the data files that include author properties\n",
    "item_file = properties_file_location + \"fairbook_books.csv\" # the items file\n",
    "items_with_properties = pd.read_csv(item_file, index_col=0, header=0, low_memory=False).fillna(\"\")\n",
    "\n",
    "ratings_file = properties_file_location + \"fairbook_ratings.csv\" # the ratings file\n",
    "ratings_with_properties = pd.read_csv(ratings_file, index_col=0, header=0, low_memory=False).fillna(\"\")"
   ]
  },
  {
   "cell_type": "code",
   "execution_count": 20,
   "id": "3cc4fbe6",
   "metadata": {},
   "outputs": [
    {
     "data": {
      "text/html": [
       "<div>\n",
       "<style scoped>\n",
       "    .dataframe tbody tr th:only-of-type {\n",
       "        vertical-align: middle;\n",
       "    }\n",
       "\n",
       "    .dataframe tbody tr th {\n",
       "        vertical-align: top;\n",
       "    }\n",
       "\n",
       "    .dataframe thead th {\n",
       "        text-align: right;\n",
       "    }\n",
       "</style>\n",
       "<table border=\"1\" class=\"dataframe\">\n",
       "  <thead>\n",
       "    <tr style=\"text-align: right;\">\n",
       "      <th></th>\n",
       "      <th>User-ID</th>\n",
       "      <th>ISBN</th>\n",
       "      <th>Book-Rating</th>\n",
       "      <th>QID</th>\n",
       "      <th>viaf_id</th>\n",
       "      <th>sexuality</th>\n",
       "      <th>country</th>\n",
       "      <th>language</th>\n",
       "      <th>religion</th>\n",
       "      <th>gender</th>\n",
       "      <th>ethnicity</th>\n",
       "      <th>birthyear</th>\n",
       "      <th>deathyear</th>\n",
       "      <th>title</th>\n",
       "      <th>author</th>\n",
       "      <th>year</th>\n",
       "      <th>publisher</th>\n",
       "    </tr>\n",
       "  </thead>\n",
       "  <tbody>\n",
       "    <tr>\n",
       "      <th>0</th>\n",
       "      <td>276847</td>\n",
       "      <td>3426029553</td>\n",
       "      <td>8</td>\n",
       "      <td></td>\n",
       "      <td></td>\n",
       "      <td></td>\n",
       "      <td></td>\n",
       "      <td></td>\n",
       "      <td></td>\n",
       "      <td></td>\n",
       "      <td></td>\n",
       "      <td></td>\n",
       "      <td></td>\n",
       "      <td></td>\n",
       "      <td></td>\n",
       "      <td></td>\n",
       "      <td></td>\n",
       "    </tr>\n",
       "    <tr>\n",
       "      <th>1</th>\n",
       "      <td>276847</td>\n",
       "      <td>3551551677</td>\n",
       "      <td>10</td>\n",
       "      <td>Q34660</td>\n",
       "      <td>116796842</td>\n",
       "      <td></td>\n",
       "      <td>United Kingdom</td>\n",
       "      <td>English</td>\n",
       "      <td>Anglicanism</td>\n",
       "      <td>female</td>\n",
       "      <td>English people</td>\n",
       "      <td>1965.0</td>\n",
       "      <td></td>\n",
       "      <td>Harry Potter und der Stein der Weisen</td>\n",
       "      <td>Joanne K. Rowling</td>\n",
       "      <td>1999.0</td>\n",
       "      <td>Carlsen Verlag GmbH</td>\n",
       "    </tr>\n",
       "    <tr>\n",
       "      <th>2</th>\n",
       "      <td>276847</td>\n",
       "      <td>3551551685</td>\n",
       "      <td>10</td>\n",
       "      <td>Q34660</td>\n",
       "      <td>116796842</td>\n",
       "      <td></td>\n",
       "      <td>United Kingdom</td>\n",
       "      <td>English</td>\n",
       "      <td>Anglicanism</td>\n",
       "      <td>female</td>\n",
       "      <td>English people</td>\n",
       "      <td>1965.0</td>\n",
       "      <td></td>\n",
       "      <td>Harry Potter und die Kammer des Schreckens</td>\n",
       "      <td>Joanne K. Rowling</td>\n",
       "      <td>2000.0</td>\n",
       "      <td>Carlsen Verlag GmbH</td>\n",
       "    </tr>\n",
       "    <tr>\n",
       "      <th>3</th>\n",
       "      <td>276847</td>\n",
       "      <td>3551551693</td>\n",
       "      <td>10</td>\n",
       "      <td>Q34660</td>\n",
       "      <td>116796842</td>\n",
       "      <td></td>\n",
       "      <td>United Kingdom</td>\n",
       "      <td>English</td>\n",
       "      <td>Anglicanism</td>\n",
       "      <td>female</td>\n",
       "      <td>English people</td>\n",
       "      <td>1965.0</td>\n",
       "      <td></td>\n",
       "      <td>Harry Potter und der Gefangene von Azkaban</td>\n",
       "      <td>J. K. Rowling</td>\n",
       "      <td>1999.0</td>\n",
       "      <td>Carlsen Verlag GmbH</td>\n",
       "    </tr>\n",
       "    <tr>\n",
       "      <th>4</th>\n",
       "      <td>276847</td>\n",
       "      <td>3551551936</td>\n",
       "      <td>10</td>\n",
       "      <td>Q34660</td>\n",
       "      <td>116796842</td>\n",
       "      <td></td>\n",
       "      <td>United Kingdom</td>\n",
       "      <td>English</td>\n",
       "      <td>Anglicanism</td>\n",
       "      <td>female</td>\n",
       "      <td>English people</td>\n",
       "      <td>1965.0</td>\n",
       "      <td></td>\n",
       "      <td>Harry Potter Und Der Feuerkelch</td>\n",
       "      <td>Joanne K. Rowling</td>\n",
       "      <td>1999.0</td>\n",
       "      <td>Carlsen Verlag GmbH</td>\n",
       "    </tr>\n",
       "  </tbody>\n",
       "</table>\n",
       "</div>"
      ],
      "text/plain": [
       "   User-ID        ISBN  Book-Rating     QID    viaf_id sexuality  \\\n",
       "0   276847  3426029553            8                                \n",
       "1   276847  3551551677           10  Q34660  116796842             \n",
       "2   276847  3551551685           10  Q34660  116796842             \n",
       "3   276847  3551551693           10  Q34660  116796842             \n",
       "4   276847  3551551936           10  Q34660  116796842             \n",
       "\n",
       "          country language     religion  gender       ethnicity birthyear  \\\n",
       "0                                                                           \n",
       "1  United Kingdom  English  Anglicanism  female  English people    1965.0   \n",
       "2  United Kingdom  English  Anglicanism  female  English people    1965.0   \n",
       "3  United Kingdom  English  Anglicanism  female  English people    1965.0   \n",
       "4  United Kingdom  English  Anglicanism  female  English people    1965.0   \n",
       "\n",
       "  deathyear                                       title             author  \\\n",
       "0                                                                            \n",
       "1                 Harry Potter und der Stein der Weisen  Joanne K. Rowling   \n",
       "2            Harry Potter und die Kammer des Schreckens  Joanne K. Rowling   \n",
       "3            Harry Potter und der Gefangene von Azkaban      J. K. Rowling   \n",
       "4                       Harry Potter Und Der Feuerkelch  Joanne K. Rowling   \n",
       "\n",
       "     year            publisher  \n",
       "0                               \n",
       "1  1999.0  Carlsen Verlag GmbH  \n",
       "2  2000.0  Carlsen Verlag GmbH  \n",
       "3  1999.0  Carlsen Verlag GmbH  \n",
       "4  1999.0  Carlsen Verlag GmbH  "
      ]
     },
     "execution_count": 20,
     "metadata": {},
     "output_type": "execute_result"
    }
   ],
   "source": [
    "ratings_with_properties.head()"
   ]
  },
  {
   "cell_type": "markdown",
   "id": "a4e037ae",
   "metadata": {},
   "source": [
    "## D. Preprocess data\n",
    "1. Convert book IDs into numbers (needed for Cornac)."
   ]
  },
  {
   "cell_type": "code",
   "execution_count": 21,
   "id": "ae0703a3",
   "metadata": {},
   "outputs": [],
   "source": [
    "mapping_dict = {} # Create a dictionary that maps each ISBN to an integer.\n",
    "i=0\n",
    "for ISBN in ratings_with_properties.ISBN.unique():\n",
    "    mapping_dict[ISBN] = i\n",
    "    i+=1"
   ]
  },
  {
   "cell_type": "code",
   "execution_count": 22,
   "id": "52c588a9",
   "metadata": {},
   "outputs": [],
   "source": [
    "items_with_properties.ISBN = items_with_properties.ISBN.map(lambda x: mapping_dict.get(x,x)) # Map in the books file\n",
    "ratings_with_properties.ISBN = ratings_with_properties.ISBN.map(lambda x: mapping_dict.get(x,x)) # Map in the books file"
   ]
  },
  {
   "cell_type": "code",
   "execution_count": 23,
   "id": "88d9aabf",
   "metadata": {},
   "outputs": [
    {
     "data": {
      "text/html": [
       "<div>\n",
       "<style scoped>\n",
       "    .dataframe tbody tr th:only-of-type {\n",
       "        vertical-align: middle;\n",
       "    }\n",
       "\n",
       "    .dataframe tbody tr th {\n",
       "        vertical-align: top;\n",
       "    }\n",
       "\n",
       "    .dataframe thead th {\n",
       "        text-align: right;\n",
       "    }\n",
       "</style>\n",
       "<table border=\"1\" class=\"dataframe\">\n",
       "  <thead>\n",
       "    <tr style=\"text-align: right;\">\n",
       "      <th></th>\n",
       "      <th>User-ID</th>\n",
       "      <th>ISBN</th>\n",
       "      <th>Book-Rating</th>\n",
       "      <th>QID</th>\n",
       "      <th>viaf_id</th>\n",
       "      <th>sexuality</th>\n",
       "      <th>country</th>\n",
       "      <th>language</th>\n",
       "      <th>religion</th>\n",
       "      <th>gender</th>\n",
       "      <th>ethnicity</th>\n",
       "      <th>birthyear</th>\n",
       "      <th>deathyear</th>\n",
       "      <th>title</th>\n",
       "      <th>author</th>\n",
       "      <th>year</th>\n",
       "      <th>publisher</th>\n",
       "    </tr>\n",
       "  </thead>\n",
       "  <tbody>\n",
       "    <tr>\n",
       "      <th>0</th>\n",
       "      <td>276847</td>\n",
       "      <td>0</td>\n",
       "      <td>8</td>\n",
       "      <td></td>\n",
       "      <td></td>\n",
       "      <td></td>\n",
       "      <td></td>\n",
       "      <td></td>\n",
       "      <td></td>\n",
       "      <td></td>\n",
       "      <td></td>\n",
       "      <td></td>\n",
       "      <td></td>\n",
       "      <td></td>\n",
       "      <td></td>\n",
       "      <td></td>\n",
       "      <td></td>\n",
       "    </tr>\n",
       "    <tr>\n",
       "      <th>1</th>\n",
       "      <td>276847</td>\n",
       "      <td>1</td>\n",
       "      <td>10</td>\n",
       "      <td>Q34660</td>\n",
       "      <td>116796842</td>\n",
       "      <td></td>\n",
       "      <td>United Kingdom</td>\n",
       "      <td>English</td>\n",
       "      <td>Anglicanism</td>\n",
       "      <td>female</td>\n",
       "      <td>English people</td>\n",
       "      <td>1965.0</td>\n",
       "      <td></td>\n",
       "      <td>Harry Potter und der Stein der Weisen</td>\n",
       "      <td>Joanne K. Rowling</td>\n",
       "      <td>1999.0</td>\n",
       "      <td>Carlsen Verlag GmbH</td>\n",
       "    </tr>\n",
       "  </tbody>\n",
       "</table>\n",
       "</div>"
      ],
      "text/plain": [
       "   User-ID  ISBN  Book-Rating     QID    viaf_id sexuality         country  \\\n",
       "0   276847     0            8                                                \n",
       "1   276847     1           10  Q34660  116796842            United Kingdom   \n",
       "\n",
       "  language     religion  gender       ethnicity birthyear deathyear  \\\n",
       "0                                                                     \n",
       "1  English  Anglicanism  female  English people    1965.0             \n",
       "\n",
       "                                   title             author    year  \\\n",
       "0                                                                     \n",
       "1  Harry Potter und der Stein der Weisen  Joanne K. Rowling  1999.0   \n",
       "\n",
       "             publisher  \n",
       "0                       \n",
       "1  Carlsen Verlag GmbH  "
      ]
     },
     "execution_count": 23,
     "metadata": {},
     "output_type": "execute_result"
    }
   ],
   "source": [
    "ratings_with_properties.head(2)"
   ]
  },
  {
   "cell_type": "markdown",
   "id": "b6f4e993",
   "metadata": {},
   "source": [
    "## E. Gender analysis"
   ]
  },
  {
   "cell_type": "code",
   "execution_count": 24,
   "id": "58d8d929",
   "metadata": {},
   "outputs": [
    {
     "name": "stderr",
     "output_type": "stream",
     "text": [
      "/var/folders/kd/b_bt00dj1yb3ghtydwhly2gh0000gn/T/ipykernel_28664/1010661726.py:3: SettingWithCopyWarning: \n",
      "A value is trying to be set on a copy of a slice from a DataFrame\n",
      "\n",
      "See the caveats in the documentation: https://pandas.pydata.org/pandas-docs/stable/user_guide/indexing.html#returning-a-view-versus-a-copy\n",
      "  df[\"gender\"][(df.gender!=\"male\") & (df.gender!=\"female\") & (df.gender!=\"unknown\")] = \"other\"\n"
     ]
    }
   ],
   "source": [
    "df = ratings_with_properties.copy()\n",
    "df[\"gender\"] = df[\"gender\"].apply(lambda x: \"unknown\" if x==\"\" else x)\n",
    "df[\"gender\"][(df.gender!=\"male\") & (df.gender!=\"female\") & (df.gender!=\"unknown\")] = \"other\""
   ]
  },
  {
   "cell_type": "code",
   "execution_count": 25,
   "id": "3a8265d4",
   "metadata": {},
   "outputs": [
    {
     "data": {
      "image/png": "[encoded data removed]",
      "text/plain": [
       "<Figure size 432x288 with 1 Axes>"
      ]
     },
     "metadata": {},
     "output_type": "display_data"
    }
   ],
   "source": [
    "fig, ax = plt.subplots()\n",
    "df.gender.value_counts().plot(kind=\"pie\",autopct='%.2f%%',explode=(0.1, 0.1, 0.1,0.8), shadow=True\n",
    "                                      , startangle=30)\n",
    "ax.tick_params(labelrotation=0)\n",
    "ax.title.set_text(\"Profile Ratings\")\n",
    "fig.tight_layout()\n",
    "#fig.suptitle(\"Gender Distribution\")"
   ]
  },
  {
   "cell_type": "markdown",
   "id": "e94c95ec",
   "metadata": {},
   "source": [
    "# F. Define and calculate gender odds"
   ]
  },
  {
   "cell_type": "code",
   "execution_count": null,
   "id": "d48a3331",
   "metadata": {},
   "outputs": [],
   "source": []
  },
  {
   "cell_type": "code",
   "execution_count": 26,
   "id": "72f7ad8e",
   "metadata": {
    "scrolled": true
   },
   "outputs": [
    {
     "name": "stdout",
     "output_type": "stream",
     "text": [
      "No. user events: 88562\n",
      "No. items: 6921\n",
      "No. users: 6358\n",
      "\n",
      "\n",
      "Mean ISBNs per user: 13.9\n",
      "Min ISBNs per user: 5\n",
      "Max ISBNs per user: 153\n",
      "\n",
      "\n",
      "Mean users per ISBN: 12.8\n",
      "Min users per ISBN: 5\n",
      "Max users per ISBN: 350\n",
      "\n",
      "\n"
     ]
    }
   ],
   "source": [
    "users_and_items(ratings_with_properties, \"User-ID\", item_col) # print properties of the ratings set\n",
    "user_dist, num_users = user_distribution(ratings_with_properties, \"User-ID\", item_col, prnt = True) # create dataset for all users \n",
    "item_dist, num_items = item_distribution(ratings_with_properties, \"User-ID\", item_col, prnt = True) # create dataset for all items"
   ]
  },
  {
   "cell_type": "code",
   "execution_count": 28,
   "id": "3c3a6e6e",
   "metadata": {},
   "outputs": [
    {
     "data": {
      "text/plain": [
       "258534    153\n",
       "76151     129\n",
       "21014     129\n",
       "273113    114\n",
       "210485    112\n",
       "         ... \n",
       "154269      5\n",
       "154021      5\n",
       "152617      5\n",
       "152605      5\n",
       "137397      5\n",
       "Name: User-ID, Length: 6358, dtype: int64"
      ]
     },
     "execution_count": 28,
     "metadata": {},
     "output_type": "execute_result"
    }
   ],
   "source": [
    "user_dist"
   ]
  },
  {
   "cell_type": "code",
   "execution_count": null,
   "id": "5c9998f2",
   "metadata": {},
   "outputs": [],
   "source": [
    "num_top = int(top_fraction_items * num_items) # choose the top_fraction_items most female oriented items\n",
    "\n"
   ]
  }
 ],
 "metadata": {
  "kernelspec": {
   "display_name": "Python 3 (ipykernel)",
   "language": "python",
   "name": "python3"
  },
  "language_info": {
   "codemirror_mode": {
    "name": "ipython",
    "version": 3
   },
   "file_extension": ".py",
   "mimetype": "text/x-python",
   "name": "python",
   "nbconvert_exporter": "python",
   "pygments_lexer": "ipython3",
   "version": "3.8.12"
  }
 },
 "nbformat": 4,
 "nbformat_minor": 5
}
