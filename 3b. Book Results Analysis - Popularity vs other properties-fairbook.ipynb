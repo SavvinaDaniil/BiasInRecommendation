{
 "cells": [
  {
   "cell_type": "markdown",
   "metadata": {},
   "source": [
    "# Process\n",
    "In this notebook, I will analyse the results of the recommendation on the properties."
   ]
  },
  {
   "cell_type": "markdown",
   "metadata": {},
   "source": [
    "# A. Import Libraries"
   ]
  },
  {
   "cell_type": "code",
   "execution_count": 1,
   "metadata": {},
   "outputs": [
    {
     "name": "stdout",
     "output_type": "stream",
     "text": [
      "FM model is only supported on Linux.\n",
      "Windows executable can be found at http://www.libfm.org.\n"
     ]
    }
   ],
   "source": [
    "import warnings\n",
    "import pickle as pkl\n",
    "warnings.simplefilter(action='ignore', category=FutureWarning)\n",
    "import matplotlib.pyplot as plt\n",
    "import random as rd\n",
    "import pandas as pd\n",
    "import numpy as np\n",
    "pd.set_option(\"display.precision\", 6)\n",
    "from cornac.metrics import MAE, MSE, RMSE, Precision, Recall, NDCG, AUC, MAP, FMeasure, MRR\n",
    "from collections import defaultdict\n",
    "from scipy import stats\n",
    "import seaborn as sns\n",
    "# set plot style: grey grid in the background:\n",
    "sns.set(style=\"darkgrid\")"
   ]
  },
  {
   "cell_type": "markdown",
   "metadata": {},
   "source": [
    "# B. Set Hyperparameters"
   ]
  },
  {
   "cell_type": "code",
   "execution_count": 2,
   "metadata": {},
   "outputs": [],
   "source": [
    "item_threshold = 5 # remove users with less than item_threshold items\n",
    "user_threshold = 5 # remove items with less than user_threshold users\n",
    "top_threshold = 200 # remove users who have rated more than top_threshold items\n",
    "recommendation_type = \"books\" # books, music or movies\n",
    "item_col = \"book\" # the item column\n",
    "my_seed = 0 # random_seed\n",
    "top_fraction_items = 0.2 # the limit for an item to be considered popular\n",
    "top_fraction_users = 0.2# the limit for a user to be considered High Mainstriminess\n",
    "split_gender_by = \"male_female_difference\" \n",
    "split_country_by = \"ratio_USA\"\n",
    "split_by = \"pop_fraq\"\n",
    "\n",
    "rd.seed(my_seed)\n",
    "np.random.seed(my_seed)"
   ]
  },
  {
   "cell_type": "markdown",
   "metadata": {},
   "source": [
    "These additions will be useful so we can load and save the different files (plots and processed data) with clarity on the hyperparameters."
   ]
  },
  {
   "cell_type": "code",
   "execution_count": 3,
   "metadata": {},
   "outputs": [],
   "source": [
    "addition_1 = \"_u\"+str(item_threshold)+\"_i\"+str(user_threshold)+\"_t\"+str(top_threshold)\n",
    "addition_2 = addition_1 + \"_tfi\"+str(int(100*top_fraction_items))\n",
    "addition_3 = addition_2 + \"_tfu\"+str(int(100*top_fraction_users))\n",
    "addition_4 = addition_3 + (\"_sbpf\" if (split_by==\"pop_fraq\") else \"_sbpif\")\n",
    "\n",
    "addition_gender = addition_1 + \"_tfu\"+str(int(100*top_fraction_users)) + \"_mfd\"\n",
    "addition_country = addition_1 + \"_tfu\"+str(int(100*top_fraction_users)) + \"_USAr\""
   ]
  },
  {
   "cell_type": "markdown",
   "metadata": {},
   "source": [
    "# C. Read Files\n",
    "Files to read:\n",
    "1. exp_results & exp_metrics: the Cornac results & metrics\n",
    "2. training_ids: the user training ids\n",
    "3. male, female and diverse oriented users\n",
    "4. low, mid and USA oriented users"
   ]
  },
  {
   "cell_type": "code",
   "execution_count": 4,
   "metadata": {},
   "outputs": [],
   "source": [
    "raw_file_location = \"data/raw/\" # here are stored the raw data files\n",
    "processed_file_location = \"data/processed/\" # here we store the processed data files"
   ]
  },
  {
   "cell_type": "markdown",
   "metadata": {},
   "source": [
    "### C1. General results"
   ]
  },
  {
   "cell_type": "code",
   "execution_count": 6,
   "metadata": {},
   "outputs": [],
   "source": [
    "# Cornac results\n",
    "with open(processed_file_location+recommendation_type+\"/experiment_results_cornac\"+addition_4+\"10_new.pkl\", \"rb\") as f:\n",
    "    exp_results = pkl.load(f)\n",
    "with open(processed_file_location+recommendation_type+\"/experiment_metrics_cornac\"+addition_4+\"10_new.pkl\", \"rb\") as f:\n",
    "    exp_metrics = pkl.load(f)"
   ]
  },
  {
   "cell_type": "code",
   "execution_count": 9,
   "metadata": {},
   "outputs": [],
   "source": [
    "with open(processed_file_location+recommendation_type+\"/training_user_ids\"+addition_4+\"_cornac10_new.pkl\", \"rb\") as f:\n",
    "    training_ids = pkl.load(f)"
   ]
  },
  {
   "cell_type": "code",
   "execution_count": 12,
   "metadata": {},
   "outputs": [],
   "source": [
    "with open(processed_file_location+recommendation_type+\"/low_users\"+addition_4+\"_new.csv\", \"rb\") as f:\n",
    "    low_users = pd.read_csv(f, index_col=0)\n",
    "with open(processed_file_location+recommendation_type+\"/med_users\"+addition_4+\"_new.csv\", \"rb\") as f:\n",
    "    med_users =  pd.read_csv(f, index_col=0)\n",
    "with open(processed_file_location+recommendation_type+\"/high_users\"+addition_4+\"_new.csv\", \"rb\") as f:\n",
    "    high_users =  pd.read_csv(f,  index_col=0)"
   ]
  },
  {
   "cell_type": "markdown",
   "metadata": {},
   "source": [
    "### C2. Gender analysis results"
   ]
  },
  {
   "cell_type": "code",
   "execution_count": 14,
   "metadata": {},
   "outputs": [],
   "source": [
    "with open(processed_file_location+recommendation_type+\"/new_male_oriented_10_new.csv\", \"rb\") as f:\n",
    "    male_oriented_users = pd.read_csv(f, index_col=0)\n",
    "with open(processed_file_location+recommendation_type+\"/new_female_oriented_10_new.csv\", \"rb\") as f:\n",
    "    female_oriented_users =  pd.read_csv(f, index_col=0)\n",
    "with open(processed_file_location+recommendation_type+\"/new_diverse_10_new.csv\", \"rb\") as f:\n",
    "    diverse_users =  pd.read_csv(f,  index_col=0)"
   ]
  },
  {
   "cell_type": "markdown",
   "metadata": {},
   "source": [
    "### C3. Country analysis results"
   ]
  },
  {
   "cell_type": "code",
   "execution_count": 16,
   "metadata": {},
   "outputs": [],
   "source": [
    "with open(processed_file_location+recommendation_type+\"/new_USA_oriented_10_new.csv\", \"rb\") as f:\n",
    "    USA_oriented_users = pd.read_csv(f, index_col=0)\n",
    "with open(processed_file_location+recommendation_type+\"/new_midUSA_10_new.csv\", \"rb\") as f:\n",
    "    midUSA_oriented_users =  pd.read_csv(f, index_col=0)\n",
    "with open(processed_file_location+recommendation_type+\"/new_lowUSA_oriented_10_new.csv\", \"rb\") as f:\n",
    "    lowUSA_oriented_users =  pd.read_csv(f,  index_col=0)"
   ]
  },
  {
   "cell_type": "markdown",
   "metadata": {},
   "source": [
    "## D. Analyze Results"
   ]
  },
  {
   "cell_type": "code",
   "execution_count": 17,
   "metadata": {},
   "outputs": [],
   "source": [
    "algo_names = ['Random', 'MostPop', 'UserKNN', 'MF', 'PMF', 'BPR', 'NMF', 'WMF', 'PF', 'NeuMF', 'VAECF']"
   ]
  },
  {
   "cell_type": "markdown",
   "metadata": {},
   "source": [
    "## D.1 Gender"
   ]
  },
  {
   "cell_type": "code",
   "execution_count": 18,
   "metadata": {},
   "outputs": [],
   "source": [
    "full_dataset_gender = pd.concat([female_oriented_users, male_oriented_users, diverse_users])"
   ]
  },
  {
   "cell_type": "code",
   "execution_count": 19,
   "metadata": {},
   "outputs": [],
   "source": [
    "for index, row in low_users.iterrows():\n",
    "    low_users.at[index,\"male_female_difference\"] = full_dataset_gender.loc[index].male_female_difference\n",
    "    for alg in algo_names:\n",
    "        low_users.at[index, \"new_male_female_difference_\" + alg] = full_dataset_gender.loc[index][\"new_male_female_difference_\" + alg]"
   ]
  },
  {
   "cell_type": "code",
   "execution_count": 20,
   "metadata": {},
   "outputs": [],
   "source": [
    "for index, row in med_users.iterrows():\n",
    "    med_users.at[index,\"male_female_difference\"] = full_dataset_gender.loc[index].male_female_difference\n",
    "    for alg in algo_names:\n",
    "        med_users.at[index, \"new_male_female_difference_\" + alg] = full_dataset_gender.loc[index][\"new_male_female_difference_\" + alg]"
   ]
  },
  {
   "cell_type": "code",
   "execution_count": 21,
   "metadata": {},
   "outputs": [],
   "source": [
    "for index, row in high_users.iterrows():\n",
    "    high_users.at[index,\"male_female_difference\"] = full_dataset_gender.loc[index].male_female_difference\n",
    "    for alg in algo_names:\n",
    "        high_users.at[index, \"new_male_female_difference_\" + alg] = full_dataset_gender.loc[index][\"new_male_female_difference_\" + alg]"
   ]
  },
  {
   "cell_type": "markdown",
   "metadata": {},
   "source": [
    "### D.1.2 Results per user group"
   ]
  },
  {
   "cell_type": "code",
   "execution_count": 22,
   "metadata": {},
   "outputs": [],
   "source": [
    "old_avg_high = high_users.male_female_difference.mean()\n",
    "old_avg_med = med_users.male_female_difference.mean()\n",
    "old_avg_low = low_users.male_female_difference.mean()\n",
    "\n",
    "new_avg_high = []\n",
    "new_avg_med = []\n",
    "new_avg_low = []\n",
    "for alg in algo_names:\n",
    "    high_users[\"new_male_female_difference_\"+alg] = (high_users[\"new_male_female_difference_\"+alg] - high_users.male_female_difference)\n",
    "    med_users[\"new_male_female_difference_\"+alg] = (med_users[\"new_male_female_difference_\"+alg] - med_users.male_female_difference)\n",
    "    low_users[\"new_male_female_difference_\"+alg] = (low_users[\"new_male_female_difference_\"+alg] - low_users.male_female_difference)\n",
    "    \n",
    "    new_avg_high.append(high_users[\"new_male_female_difference_\"+alg].mean())\n",
    "    new_avg_low.append(low_users[\"new_male_female_difference_\"+alg].mean())\n",
    "    new_avg_med.append(med_users[\"new_male_female_difference_\"+alg].mean())"
   ]
  },
  {
   "cell_type": "code",
   "execution_count": 23,
   "metadata": {},
   "outputs": [
    {
     "data": {
      "image/png": "[encoded data removed]",
      "text/plain": [
       "<Figure size 432x288 with 1 Axes>"
      ]
     },
     "metadata": {
      "needs_background": "light"
     },
     "output_type": "display_data"
    }
   ],
   "source": [
    "sns.set(rc = {'figure.figsize':(8,4)})\n",
    "\n",
    "# set width of bar\n",
    "barWidth = 0.07\n",
    "\n",
    "# set height of bar\n",
    "bars1 = [new_avg_low[0], new_avg_med[0], new_avg_high[0]]\n",
    "bars2 = [new_avg_low[1], new_avg_med[1], new_avg_high[1]]\n",
    "bars3 = [new_avg_low[2], new_avg_med[2], new_avg_high[2]]\n",
    "bars4 = [new_avg_low[3], new_avg_med[3], new_avg_high[3]]\n",
    "bars5 = [new_avg_low[4], new_avg_med[4], new_avg_high[4]]\n",
    "bars6 = [new_avg_low[5], new_avg_med[5], new_avg_high[5]]\n",
    "bars7 = [new_avg_low[6], new_avg_med[6], new_avg_high[6]]\n",
    "bars8 = [new_avg_low[7], new_avg_med[7], new_avg_high[7]]\n",
    "bars9 = [new_avg_low[8], new_avg_med[8], new_avg_high[8]]\n",
    "bars10 = [new_avg_low[9], new_avg_med[9], new_avg_high[9]]\n",
    "bars11 = [new_avg_low[10], new_avg_med[10], new_avg_high[10]]\n",
    "\n",
    "# Set position of bar on X axis\n",
    "r1 = np.arange(len(bars1))\n",
    "r2 = [x + barWidth for x in r1]\n",
    "r3 = [x + barWidth for x in r2]\n",
    "r4 = [x + barWidth for x in r3]\n",
    "r5 = [x + barWidth for x in r4]\n",
    "r6 = [x + barWidth for x in r5]\n",
    "r7 = [x + barWidth for x in r6]\n",
    "r8 = [x + barWidth for x in r7]\n",
    "r9 = [x + barWidth for x in r8]\n",
    "r10 = [x + barWidth for x in r9]\n",
    "r11 = [x + barWidth for x in r10]\n",
    "# r12 = [x + barWidth for x in r11]\n",
    "# r13 = [x + barWidth for x in r12]\n",
    "\n",
    "# ['Random', 'MostPop', 'UserKNN', 'MF', 'PMF', 'BPR', 'NMF', 'WMF', 'PF', 'NeuMF', 'VAECF']\n",
    "patterns = [ \"/\" , \"\\\\\" , \"|\" , \"-\" , \"+\" , \"x\", \"o\", \"O\", \".\", \"*\", \"--\"]\n",
    "\n",
    "# Make the plot\n",
    "plt.bar(r1, bars1, width=barWidth, label='Random', hatch=patterns[0])\n",
    "plt.bar(r2, bars2, width=barWidth, label='MostPop', hatch=patterns[1])\n",
    "plt.bar(r3, bars3, width=barWidth, label='UserKNN', hatch=patterns[2])\n",
    "plt.bar(r4, bars4, width=barWidth, label='MF', hatch=patterns[3])\n",
    "plt.bar(r5, bars5, width=barWidth, label='PMF', hatch=patterns[4])\n",
    "plt.bar(r6, bars6, width=barWidth, label='BPR', hatch=patterns[5])\n",
    "plt.bar(r7, bars7, width=barWidth, label='NMF', hatch=patterns[6])\n",
    "plt.bar(r8, bars8, width=barWidth, label='WMF', hatch=patterns[7])\n",
    "plt.bar(r9, bars9, width=barWidth, label='PF', hatch=patterns[8])\n",
    "plt.bar(r10, bars10, width=barWidth, label='NeuMF', hatch=patterns[9])\n",
    "plt.bar(r11, bars11, width=barWidth, label='VAECF', hatch=patterns[10])\n",
    "\n",
    "# Add xticks on the middle of the group bars + show legend\n",
    "plt.xlabel('User group', fontsize='14')\n",
    "plt.ylabel('Difference of differences', fontsize='14')\n",
    "plt.xticks([r + barWidth + 0.3 for r in range(len(bars1))], ['LowMS', 'MedMS', 'HighMS'], fontsize='13')\n",
    "plt.yticks(fontsize='10')\n",
    "plt.legend(bbox_to_anchor=(1.02, 1), loc=2, borderaxespad=0., framealpha=1, fontsize='12')\n",
    "plt.show()\n",
    "#plt.savefig('gap_analysis.pdf', dpi=300, bbox_inches='tight')"
   ]
  },
  {
   "cell_type": "markdown",
   "metadata": {},
   "source": [
    "## D.2 Country"
   ]
  },
  {
   "cell_type": "code",
   "execution_count": 24,
   "metadata": {},
   "outputs": [],
   "source": [
    "full_dataset_country = pd.concat([lowUSA_oriented_users, midUSA_oriented_users, USA_oriented_users])"
   ]
  },
  {
   "cell_type": "code",
   "execution_count": 25,
   "metadata": {},
   "outputs": [],
   "source": [
    "for index, row in low_users.iterrows():\n",
    "    low_users.at[index,\"ratio_USA\"] = full_dataset_country.loc[index].ratio_USA\n",
    "    for alg in algo_names:\n",
    "        low_users.at[index, \"new_ratio_USA_\" + alg] = full_dataset_country.loc[index][\"new_ratio_USA_\" + alg]"
   ]
  },
  {
   "cell_type": "code",
   "execution_count": 26,
   "metadata": {},
   "outputs": [],
   "source": [
    "for index, row in med_users.iterrows():\n",
    "    med_users.at[index,\"ratio_USA\"] = full_dataset_country.loc[index].ratio_USA\n",
    "    for alg in algo_names:\n",
    "        med_users.at[index, \"new_ratio_USA_\" + alg] = full_dataset_country.loc[index][\"new_ratio_USA_\" + alg]"
   ]
  },
  {
   "cell_type": "code",
   "execution_count": 27,
   "metadata": {},
   "outputs": [],
   "source": [
    "for index, row in low_users.iterrows():\n",
    "    high_users.at[index,\"ratio_USA\"] = full_dataset_country.loc[index].ratio_USA\n",
    "    for alg in algo_names:\n",
    "        high_users.at[index, \"new_ratio_USA_\" + alg] = full_dataset_country.loc[index][\"new_ratio_USA_\" + alg]"
   ]
  },
  {
   "cell_type": "markdown",
   "metadata": {},
   "source": [
    "### D.1.2 Results per user group"
   ]
  },
  {
   "cell_type": "code",
   "execution_count": 28,
   "metadata": {},
   "outputs": [],
   "source": [
    "old_avg_high = high_users.ratio_USA.mean()\n",
    "old_avg_med = med_users.ratio_USA.mean()\n",
    "old_avg_low = low_users.ratio_USA.mean()\n",
    "\n",
    "new_avg_high = []\n",
    "new_avg_med = []\n",
    "new_avg_low = []\n",
    "for alg in algo_names:\n",
    "    high_users[\"new_ratio_USA_\"+alg] = (high_users[\"new_ratio_USA_\"+alg] - high_users.ratio_USA)\n",
    "    med_users[\"new_ratio_USA_\"+alg] = (med_users[\"new_ratio_USA_\"+alg] - med_users.ratio_USA)\n",
    "    low_users[\"new_ratio_USA_\"+alg] = (low_users[\"new_ratio_USA_\"+alg] - low_users.ratio_USA)\n",
    "    \n",
    "    new_avg_high.append(high_users[\"new_ratio_USA_\"+alg].mean())\n",
    "    new_avg_low.append(low_users[\"new_ratio_USA_\"+alg].mean())\n",
    "    new_avg_med.append(med_users[\"new_ratio_USA_\"+alg].mean())"
   ]
  },
  {
   "cell_type": "code",
   "execution_count": 29,
   "metadata": {},
   "outputs": [
    {
     "data": {
      "image/png": "[encoded data removed]",
      "text/plain": [
       "<Figure size 576x288 with 1 Axes>"
      ]
     },
     "metadata": {},
     "output_type": "display_data"
    }
   ],
   "source": [
    "sns.set(rc = {'figure.figsize':(8,4)})\n",
    "\n",
    "# set width of bar\n",
    "barWidth = 0.07\n",
    "\n",
    "# set height of bar\n",
    "bars1 = [new_avg_low[0], new_avg_med[0], new_avg_high[0]]\n",
    "bars2 = [new_avg_low[1], new_avg_med[1], new_avg_high[1]]\n",
    "bars3 = [new_avg_low[2], new_avg_med[2], new_avg_high[2]]\n",
    "bars4 = [new_avg_low[3], new_avg_med[3], new_avg_high[3]]\n",
    "bars5 = [new_avg_low[4], new_avg_med[4], new_avg_high[4]]\n",
    "bars6 = [new_avg_low[5], new_avg_med[5], new_avg_high[5]]\n",
    "bars7 = [new_avg_low[6], new_avg_med[6], new_avg_high[6]]\n",
    "bars8 = [new_avg_low[7], new_avg_med[7], new_avg_high[7]]\n",
    "bars9 = [new_avg_low[8], new_avg_med[8], new_avg_high[8]]\n",
    "bars10 = [new_avg_low[9], new_avg_med[9], new_avg_high[9]]\n",
    "bars11 = [new_avg_low[10], new_avg_med[10], new_avg_high[10]]\n",
    "\n",
    "# Set position of bar on X axis\n",
    "r1 = np.arange(len(bars1))\n",
    "r2 = [x + barWidth for x in r1]\n",
    "r3 = [x + barWidth for x in r2]\n",
    "r4 = [x + barWidth for x in r3]\n",
    "r5 = [x + barWidth for x in r4]\n",
    "r6 = [x + barWidth for x in r5]\n",
    "r7 = [x + barWidth for x in r6]\n",
    "r8 = [x + barWidth for x in r7]\n",
    "r9 = [x + barWidth for x in r8]\n",
    "r10 = [x + barWidth for x in r9]\n",
    "r11 = [x + barWidth for x in r10]\n",
    "# r12 = [x + barWidth for x in r11]\n",
    "# r13 = [x + barWidth for x in r12]\n",
    "\n",
    "# ['Random', 'MostPop', 'UserKNN', 'MF', 'PMF', 'BPR', 'NMF', 'WMF', 'PF', 'NeuMF', 'VAECF']\n",
    "patterns = [ \"/\" , \"\\\\\" , \"|\" , \"-\" , \"+\" , \"x\", \"o\", \"O\", \".\", \"*\", \"--\"]\n",
    "\n",
    "# Make the plot\n",
    "plt.bar(r1, bars1, width=barWidth, label='Random', hatch=patterns[0])\n",
    "plt.bar(r2, bars2, width=barWidth, label='MostPop', hatch=patterns[1])\n",
    "plt.bar(r3, bars3, width=barWidth, label='UserKNN', hatch=patterns[2])\n",
    "plt.bar(r4, bars4, width=barWidth, label='MF', hatch=patterns[3])\n",
    "plt.bar(r5, bars5, width=barWidth, label='PMF', hatch=patterns[4])\n",
    "plt.bar(r6, bars6, width=barWidth, label='BPR', hatch=patterns[5])\n",
    "plt.bar(r7, bars7, width=barWidth, label='NMF', hatch=patterns[6])\n",
    "plt.bar(r8, bars8, width=barWidth, label='WMF', hatch=patterns[7])\n",
    "plt.bar(r9, bars9, width=barWidth, label='PF', hatch=patterns[8])\n",
    "plt.bar(r10, bars10, width=barWidth, label='NeuMF', hatch=patterns[9])\n",
    "plt.bar(r11, bars11, width=barWidth, label='VAECF', hatch=patterns[10])\n",
    "\n",
    "# Add xticks on the middle of the group bars + show legend\n",
    "plt.xlabel('User group', fontsize='14')\n",
    "plt.ylabel('Difference of ratios', fontsize='14')\n",
    "plt.xticks([r + barWidth + 0.3 for r in range(len(bars1))], ['LowMS', 'MedMS', 'HighMS'], fontsize='13')\n",
    "plt.yticks(fontsize='10')\n",
    "plt.legend(bbox_to_anchor=(1.02, 1), loc=2, borderaxespad=0., framealpha=1, fontsize='12')\n",
    "plt.show()\n",
    "#plt.savefig('gap_analysis.pdf', dpi=300, bbox_inches='tight')"
   ]
  },
  {
   "cell_type": "code",
   "execution_count": null,
   "metadata": {},
   "outputs": [],
   "source": []
  }
 ],
 "metadata": {
  "kernelspec": {
   "display_name": "Python 3 (ipykernel)",
   "language": "python",
   "name": "python3"
  },
  "language_info": {
   "codemirror_mode": {
    "name": "ipython",
    "version": 3
   },
   "file_extension": ".py",
   "mimetype": "text/x-python",
   "name": "python",
   "nbconvert_exporter": "python",
   "pygments_lexer": "ipython3",
   "version": "3.9.12"
  }
 },
 "nbformat": 4,
 "nbformat_minor": 4
}
