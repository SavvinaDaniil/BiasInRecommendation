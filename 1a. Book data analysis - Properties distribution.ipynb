{
 "cells": [
  {
   "cell_type": "markdown",
   "id": "d1c99585",
   "metadata": {},
   "source": [
    "# Process\n",
    "In this notebook, I will do a first analysis of properties distribution on the data so that I can use it later on."
   ]
  },
  {
   "cell_type": "markdown",
   "id": "3307d8bf",
   "metadata": {},
   "source": [
    "# A. Import Libraries"
   ]
  },
  {
   "cell_type": "code",
   "execution_count": 1,
   "id": "37ee5e3d",
   "metadata": {},
   "outputs": [],
   "source": [
    "import warnings\n",
    "warnings.simplefilter(action='ignore', category=FutureWarning)\n",
    "import matplotlib.pyplot as plt\n",
    "import random as rd\n",
    "import pandas as pd\n",
    "import numpy as np\n",
    "from analyze_data import users_and_items, user_gender_distribution,user_birthyear_distribution,user_country_distribution, calculate_group_characteristics\n",
    "from plots import plot_gender_difference_distribution, plot_profile_size_vs_gender_difference, plot_group_characteristics\n",
    "from plots import plot_country_distribution, plot_profile_size_vs_USA_ratio, plot_birthyear_distribution, plot_profile_size_vs_1950_ratio\n",
    "from split_users import split\n",
    "from collections import Counter"
   ]
  },
  {
   "cell_type": "markdown",
   "id": "ff8162d1",
   "metadata": {},
   "source": [
    "# B. Set hyperparameters\n",
    "There are certain hyperparameters that need to be tuned before the run. "
   ]
  },
  {
   "cell_type": "code",
   "execution_count": 2,
   "id": "9bf73c77",
   "metadata": {},
   "outputs": [],
   "source": [
    "item_threshold = 5 # remove users with less than item_threshold items\n",
    "user_threshold = 5 # remove items with less than user_threshold users\n",
    "top_threshold = 200 # remove users who have rated more than top_threshold items\n",
    "recommendation_type = \"books\" # books, music or movies\n",
    "item_col = \"ISBN\" # the item column\n",
    "user_col = \"User-ID\"\n",
    "my_seed = 0 # random_seed\n",
    "top_fraction_users = 0.2# the limit for a user to be considered High Preference\n",
    "split_gender_by = \"male_female_difference\" \n",
    "split_country_by = \"ratio_USA\""
   ]
  },
  {
   "cell_type": "markdown",
   "id": "0a197b83",
   "metadata": {},
   "source": [
    "These additions will be useful so we can save the different files (plots and processed data) with clarity on the hyperparameters."
   ]
  },
  {
   "cell_type": "code",
   "execution_count": 3,
   "id": "d6fc0c1a",
   "metadata": {},
   "outputs": [],
   "source": [
    "addition_1 = \"_u\"+str(item_threshold)+\"_i\"+str(user_threshold)+\"_t\"+str(top_threshold)\n",
    "addition_2 = addition_1 + \"_tfu\"+str(int(100*top_fraction_users))\n",
    "addition_gender = addition_2 + \"_mfd\"\n",
    "addition_country = addition_2 + \"_USAr\"\n",
    "addition_birthyear = addition_2 + \"_1950r\""
   ]
  },
  {
   "cell_type": "code",
   "execution_count": 4,
   "id": "d01c7b4d",
   "metadata": {},
   "outputs": [],
   "source": [
    "rd.seed(my_seed) #seed for random functions\n",
    "np.random.seed(my_seed) #seed for all numpy fuctions"
   ]
  },
  {
   "cell_type": "markdown",
   "id": "37d0e2c3",
   "metadata": {},
   "source": [
    "# C. Read files"
   ]
  },
  {
   "cell_type": "code",
   "execution_count": 5,
   "id": "1c6c5ef3",
   "metadata": {},
   "outputs": [],
   "source": [
    "processed_file_location = \"data/processed/\" # here we store the processed data files"
   ]
  },
  {
   "cell_type": "code",
   "execution_count": 6,
   "id": "5959e560",
   "metadata": {},
   "outputs": [],
   "source": [
    "properties_file_location = \"data/files_with_properties/\" # here are stored the data files that include author properties\n",
    "item_file = properties_file_location + \"fairbook_books.csv\" # the items file\n",
    "items_with_properties = pd.read_csv(item_file, index_col=0, header=0, low_memory=False).fillna(\"\")\n",
    "\n",
    "ratings_file = properties_file_location + \"fairbook_ratings.csv\" # the ratings file\n",
    "ratings_with_properties = pd.read_csv(ratings_file, index_col=0, header=0, low_memory=False).fillna(\"\")"
   ]
  },
  {
   "cell_type": "code",
   "execution_count": 7,
   "id": "3cc4fbe6",
   "metadata": {},
   "outputs": [
    {
     "data": {
      "text/html": [
       "<div>\n",
       "<style scoped>\n",
       "    .dataframe tbody tr th:only-of-type {\n",
       "        vertical-align: middle;\n",
       "    }\n",
       "\n",
       "    .dataframe tbody tr th {\n",
       "        vertical-align: top;\n",
       "    }\n",
       "\n",
       "    .dataframe thead th {\n",
       "        text-align: right;\n",
       "    }\n",
       "</style>\n",
       "<table border=\"1\" class=\"dataframe\">\n",
       "  <thead>\n",
       "    <tr style=\"text-align: right;\">\n",
       "      <th></th>\n",
       "      <th>User-ID</th>\n",
       "      <th>ISBN</th>\n",
       "      <th>Book-Rating</th>\n",
       "      <th>QID</th>\n",
       "      <th>viaf_id</th>\n",
       "      <th>sexuality</th>\n",
       "      <th>country</th>\n",
       "      <th>language</th>\n",
       "      <th>religion</th>\n",
       "      <th>gender</th>\n",
       "      <th>ethnicity</th>\n",
       "      <th>birthyear</th>\n",
       "      <th>deathyear</th>\n",
       "      <th>title</th>\n",
       "      <th>author</th>\n",
       "      <th>year</th>\n",
       "      <th>publisher</th>\n",
       "    </tr>\n",
       "  </thead>\n",
       "  <tbody>\n",
       "    <tr>\n",
       "      <th>0</th>\n",
       "      <td>276847</td>\n",
       "      <td>3426029553</td>\n",
       "      <td>8</td>\n",
       "      <td></td>\n",
       "      <td></td>\n",
       "      <td></td>\n",
       "      <td></td>\n",
       "      <td></td>\n",
       "      <td></td>\n",
       "      <td></td>\n",
       "      <td></td>\n",
       "      <td></td>\n",
       "      <td></td>\n",
       "      <td></td>\n",
       "      <td></td>\n",
       "      <td></td>\n",
       "      <td></td>\n",
       "    </tr>\n",
       "    <tr>\n",
       "      <th>1</th>\n",
       "      <td>276847</td>\n",
       "      <td>3551551677</td>\n",
       "      <td>10</td>\n",
       "      <td>Q34660</td>\n",
       "      <td>116796842</td>\n",
       "      <td></td>\n",
       "      <td>United Kingdom</td>\n",
       "      <td>English</td>\n",
       "      <td>Anglicanism</td>\n",
       "      <td>female</td>\n",
       "      <td>English people</td>\n",
       "      <td>1965.0</td>\n",
       "      <td></td>\n",
       "      <td>Harry Potter und der Stein der Weisen</td>\n",
       "      <td>Joanne K. Rowling</td>\n",
       "      <td>1999.0</td>\n",
       "      <td>Carlsen Verlag GmbH</td>\n",
       "    </tr>\n",
       "    <tr>\n",
       "      <th>2</th>\n",
       "      <td>276847</td>\n",
       "      <td>3551551685</td>\n",
       "      <td>10</td>\n",
       "      <td>Q34660</td>\n",
       "      <td>116796842</td>\n",
       "      <td></td>\n",
       "      <td>United Kingdom</td>\n",
       "      <td>English</td>\n",
       "      <td>Anglicanism</td>\n",
       "      <td>female</td>\n",
       "      <td>English people</td>\n",
       "      <td>1965.0</td>\n",
       "      <td></td>\n",
       "      <td>Harry Potter und die Kammer des Schreckens</td>\n",
       "      <td>Joanne K. Rowling</td>\n",
       "      <td>2000.0</td>\n",
       "      <td>Carlsen Verlag GmbH</td>\n",
       "    </tr>\n",
       "    <tr>\n",
       "      <th>3</th>\n",
       "      <td>276847</td>\n",
       "      <td>3551551693</td>\n",
       "      <td>10</td>\n",
       "      <td>Q34660</td>\n",
       "      <td>116796842</td>\n",
       "      <td></td>\n",
       "      <td>United Kingdom</td>\n",
       "      <td>English</td>\n",
       "      <td>Anglicanism</td>\n",
       "      <td>female</td>\n",
       "      <td>English people</td>\n",
       "      <td>1965.0</td>\n",
       "      <td></td>\n",
       "      <td>Harry Potter und der Gefangene von Azkaban</td>\n",
       "      <td>J. K. Rowling</td>\n",
       "      <td>1999.0</td>\n",
       "      <td>Carlsen Verlag GmbH</td>\n",
       "    </tr>\n",
       "    <tr>\n",
       "      <th>4</th>\n",
       "      <td>276847</td>\n",
       "      <td>3551551936</td>\n",
       "      <td>10</td>\n",
       "      <td>Q34660</td>\n",
       "      <td>116796842</td>\n",
       "      <td></td>\n",
       "      <td>United Kingdom</td>\n",
       "      <td>English</td>\n",
       "      <td>Anglicanism</td>\n",
       "      <td>female</td>\n",
       "      <td>English people</td>\n",
       "      <td>1965.0</td>\n",
       "      <td></td>\n",
       "      <td>Harry Potter Und Der Feuerkelch</td>\n",
       "      <td>Joanne K. Rowling</td>\n",
       "      <td>1999.0</td>\n",
       "      <td>Carlsen Verlag GmbH</td>\n",
       "    </tr>\n",
       "  </tbody>\n",
       "</table>\n",
       "</div>"
      ],
      "text/plain": [
       "   User-ID        ISBN  Book-Rating     QID    viaf_id sexuality  \\\n",
       "0   276847  3426029553            8                                \n",
       "1   276847  3551551677           10  Q34660  116796842             \n",
       "2   276847  3551551685           10  Q34660  116796842             \n",
       "3   276847  3551551693           10  Q34660  116796842             \n",
       "4   276847  3551551936           10  Q34660  116796842             \n",
       "\n",
       "          country language     religion  gender       ethnicity birthyear  \\\n",
       "0                                                                           \n",
       "1  United Kingdom  English  Anglicanism  female  English people    1965.0   \n",
       "2  United Kingdom  English  Anglicanism  female  English people    1965.0   \n",
       "3  United Kingdom  English  Anglicanism  female  English people    1965.0   \n",
       "4  United Kingdom  English  Anglicanism  female  English people    1965.0   \n",
       "\n",
       "  deathyear                                       title             author  \\\n",
       "0                                                                            \n",
       "1                 Harry Potter und der Stein der Weisen  Joanne K. Rowling   \n",
       "2            Harry Potter und die Kammer des Schreckens  Joanne K. Rowling   \n",
       "3            Harry Potter und der Gefangene von Azkaban      J. K. Rowling   \n",
       "4                       Harry Potter Und Der Feuerkelch  Joanne K. Rowling   \n",
       "\n",
       "     year            publisher  \n",
       "0                               \n",
       "1  1999.0  Carlsen Verlag GmbH  \n",
       "2  2000.0  Carlsen Verlag GmbH  \n",
       "3  1999.0  Carlsen Verlag GmbH  \n",
       "4  1999.0  Carlsen Verlag GmbH  "
      ]
     },
     "execution_count": 7,
     "metadata": {},
     "output_type": "execute_result"
    }
   ],
   "source": [
    "ratings_with_properties.head()"
   ]
  },
  {
   "cell_type": "markdown",
   "id": "a4e037ae",
   "metadata": {},
   "source": [
    "# D. Preprocess data\n",
    "1. Convert book IDs into numbers (needed for Cornac)."
   ]
  },
  {
   "cell_type": "code",
   "execution_count": 8,
   "id": "ae0703a3",
   "metadata": {},
   "outputs": [],
   "source": [
    "mapping_dict = {} # Create a dictionary that maps each ISBN to an integer.\n",
    "i=0\n",
    "for ISBN in ratings_with_properties.ISBN.unique():\n",
    "    mapping_dict[ISBN] = i\n",
    "    i+=1"
   ]
  },
  {
   "cell_type": "code",
   "execution_count": 9,
   "id": "52c588a9",
   "metadata": {},
   "outputs": [],
   "source": [
    "items_with_properties.ISBN = items_with_properties.ISBN.map(lambda x: mapping_dict.get(x,x)) # Map in the books file\n",
    "ratings_with_properties.ISBN = ratings_with_properties.ISBN.map(lambda x: mapping_dict.get(x,x)) # Map in the books file"
   ]
  },
  {
   "cell_type": "code",
   "execution_count": 10,
   "id": "88d9aabf",
   "metadata": {},
   "outputs": [
    {
     "data": {
      "text/html": [
       "<div>\n",
       "<style scoped>\n",
       "    .dataframe tbody tr th:only-of-type {\n",
       "        vertical-align: middle;\n",
       "    }\n",
       "\n",
       "    .dataframe tbody tr th {\n",
       "        vertical-align: top;\n",
       "    }\n",
       "\n",
       "    .dataframe thead th {\n",
       "        text-align: right;\n",
       "    }\n",
       "</style>\n",
       "<table border=\"1\" class=\"dataframe\">\n",
       "  <thead>\n",
       "    <tr style=\"text-align: right;\">\n",
       "      <th></th>\n",
       "      <th>User-ID</th>\n",
       "      <th>ISBN</th>\n",
       "      <th>Book-Rating</th>\n",
       "      <th>QID</th>\n",
       "      <th>viaf_id</th>\n",
       "      <th>sexuality</th>\n",
       "      <th>country</th>\n",
       "      <th>language</th>\n",
       "      <th>religion</th>\n",
       "      <th>gender</th>\n",
       "      <th>ethnicity</th>\n",
       "      <th>birthyear</th>\n",
       "      <th>deathyear</th>\n",
       "      <th>title</th>\n",
       "      <th>author</th>\n",
       "      <th>year</th>\n",
       "      <th>publisher</th>\n",
       "    </tr>\n",
       "  </thead>\n",
       "  <tbody>\n",
       "    <tr>\n",
       "      <th>0</th>\n",
       "      <td>276847</td>\n",
       "      <td>0</td>\n",
       "      <td>8</td>\n",
       "      <td></td>\n",
       "      <td></td>\n",
       "      <td></td>\n",
       "      <td></td>\n",
       "      <td></td>\n",
       "      <td></td>\n",
       "      <td></td>\n",
       "      <td></td>\n",
       "      <td></td>\n",
       "      <td></td>\n",
       "      <td></td>\n",
       "      <td></td>\n",
       "      <td></td>\n",
       "      <td></td>\n",
       "    </tr>\n",
       "    <tr>\n",
       "      <th>1</th>\n",
       "      <td>276847</td>\n",
       "      <td>1</td>\n",
       "      <td>10</td>\n",
       "      <td>Q34660</td>\n",
       "      <td>116796842</td>\n",
       "      <td></td>\n",
       "      <td>United Kingdom</td>\n",
       "      <td>English</td>\n",
       "      <td>Anglicanism</td>\n",
       "      <td>female</td>\n",
       "      <td>English people</td>\n",
       "      <td>1965.0</td>\n",
       "      <td></td>\n",
       "      <td>Harry Potter und der Stein der Weisen</td>\n",
       "      <td>Joanne K. Rowling</td>\n",
       "      <td>1999.0</td>\n",
       "      <td>Carlsen Verlag GmbH</td>\n",
       "    </tr>\n",
       "  </tbody>\n",
       "</table>\n",
       "</div>"
      ],
      "text/plain": [
       "   User-ID  ISBN  Book-Rating     QID    viaf_id sexuality         country  \\\n",
       "0   276847     0            8                                                \n",
       "1   276847     1           10  Q34660  116796842            United Kingdom   \n",
       "\n",
       "  language     religion  gender       ethnicity birthyear deathyear  \\\n",
       "0                                                                     \n",
       "1  English  Anglicanism  female  English people    1965.0             \n",
       "\n",
       "                                   title             author    year  \\\n",
       "0                                                                     \n",
       "1  Harry Potter und der Stein der Weisen  Joanne K. Rowling  1999.0   \n",
       "\n",
       "             publisher  \n",
       "0                       \n",
       "1  Carlsen Verlag GmbH  "
      ]
     },
     "execution_count": 10,
     "metadata": {},
     "output_type": "execute_result"
    }
   ],
   "source": [
    "ratings_with_properties.head(2)"
   ]
  },
  {
   "cell_type": "markdown",
   "id": "b6f4e993",
   "metadata": {},
   "source": [
    "# E. Gender analysis"
   ]
  },
  {
   "cell_type": "markdown",
   "id": "eb8c8dd2",
   "metadata": {},
   "source": [
    "First, I am replacing empty gender entries with \"unknown\" and all the non male or female with \"other\"."
   ]
  },
  {
   "cell_type": "code",
   "execution_count": 11,
   "id": "58d8d929",
   "metadata": {},
   "outputs": [],
   "source": [
    "df = ratings_with_properties.copy()\n",
    "df[\"gender\"] = df[\"gender\"].apply(lambda x: \"unknown\" if x==\"\" else x)\n",
    "df[\"gender\"] = df[\"gender\"].apply(lambda x: \"other\" if (x!=\"male\") & (x!=\"female\") & (x!=\"unknown\") else x)"
   ]
  },
  {
   "cell_type": "markdown",
   "id": "4e0191fe",
   "metadata": {},
   "source": [
    "Here is a plot of the gender distribution within the ratings."
   ]
  },
  {
   "cell_type": "code",
   "execution_count": 12,
   "id": "3a8265d4",
   "metadata": {
    "scrolled": true
   },
   "outputs": [
    {
     "data": {
      "image/png": "[encoded data removed]",
      "text/plain": [
       "<Figure size 432x288 with 1 Axes>"
      ]
     },
     "metadata": {},
     "output_type": "display_data"
    }
   ],
   "source": [
    "fig, ax = plt.subplots()\n",
    "df.gender.value_counts().plot(kind=\"pie\",autopct='%.2f%%',explode=(0.1, 0.1, 0.1,0.8), shadow=True\n",
    "                                      , startangle=30)\n",
    "ax.tick_params(labelrotation=0)\n",
    "ax.title.set_text(\"Gender Distribution in ratings\")\n",
    "fig.tight_layout()"
   ]
  },
  {
   "cell_type": "markdown",
   "id": "ef98f583",
   "metadata": {},
   "source": [
    "## E1. Define and calculate gender odds"
   ]
  },
  {
   "cell_type": "markdown",
   "id": "05048bc1",
   "metadata": {},
   "source": [
    "First, I will keep only the relevant columns."
   ]
  },
  {
   "cell_type": "code",
   "execution_count": 13,
   "id": "2320e626",
   "metadata": {},
   "outputs": [],
   "source": [
    "df_gender = df[[\"User-ID\", \"ISBN\", \"Book-Rating\", \"gender\"]]"
   ]
  },
  {
   "cell_type": "code",
   "execution_count": 14,
   "id": "93b54e51",
   "metadata": {
    "scrolled": true
   },
   "outputs": [
    {
     "data": {
      "text/html": [
       "<div>\n",
       "<style scoped>\n",
       "    .dataframe tbody tr th:only-of-type {\n",
       "        vertical-align: middle;\n",
       "    }\n",
       "\n",
       "    .dataframe tbody tr th {\n",
       "        vertical-align: top;\n",
       "    }\n",
       "\n",
       "    .dataframe thead th {\n",
       "        text-align: right;\n",
       "    }\n",
       "</style>\n",
       "<table border=\"1\" class=\"dataframe\">\n",
       "  <thead>\n",
       "    <tr style=\"text-align: right;\">\n",
       "      <th></th>\n",
       "      <th>User-ID</th>\n",
       "      <th>ISBN</th>\n",
       "      <th>Book-Rating</th>\n",
       "      <th>gender</th>\n",
       "    </tr>\n",
       "  </thead>\n",
       "  <tbody>\n",
       "    <tr>\n",
       "      <th>0</th>\n",
       "      <td>276847</td>\n",
       "      <td>0</td>\n",
       "      <td>8</td>\n",
       "      <td>unknown</td>\n",
       "    </tr>\n",
       "    <tr>\n",
       "      <th>1</th>\n",
       "      <td>276847</td>\n",
       "      <td>1</td>\n",
       "      <td>10</td>\n",
       "      <td>female</td>\n",
       "    </tr>\n",
       "    <tr>\n",
       "      <th>2</th>\n",
       "      <td>276847</td>\n",
       "      <td>2</td>\n",
       "      <td>10</td>\n",
       "      <td>female</td>\n",
       "    </tr>\n",
       "    <tr>\n",
       "      <th>3</th>\n",
       "      <td>276847</td>\n",
       "      <td>3</td>\n",
       "      <td>10</td>\n",
       "      <td>female</td>\n",
       "    </tr>\n",
       "    <tr>\n",
       "      <th>4</th>\n",
       "      <td>276847</td>\n",
       "      <td>4</td>\n",
       "      <td>10</td>\n",
       "      <td>female</td>\n",
       "    </tr>\n",
       "  </tbody>\n",
       "</table>\n",
       "</div>"
      ],
      "text/plain": [
       "   User-ID  ISBN  Book-Rating   gender\n",
       "0   276847     0            8  unknown\n",
       "1   276847     1           10   female\n",
       "2   276847     2           10   female\n",
       "3   276847     3           10   female\n",
       "4   276847     4           10   female"
      ]
     },
     "execution_count": 14,
     "metadata": {},
     "output_type": "execute_result"
    }
   ],
   "source": [
    "df_gender.head()"
   ]
  },
  {
   "cell_type": "markdown",
   "id": "349bd248",
   "metadata": {},
   "source": [
    "Then, I call a function to calculate the gender distribution per user.\n",
    "\n",
    "The way I do it is by calculating: <br>\n",
    "mw = number of books in profile written by male authors<br>\n",
    "fw = number of books in profile written by female authors<br>\n",
    "tb = number of books in profile <br>\n",
    "\n",
    "<u>So for every user u, I define <i>male_female_difference</i> as:</u>\n",
    "\n",
    "male_female_difference(u) = (mw(u) - fw(u))/tb(u)\n",
    "\n",
    "<b>Basically the percentage of books written by male authors minus the percentage of books written by female authors </b>"
   ]
  },
  {
   "cell_type": "code",
   "execution_count": 15,
   "id": "a2e828ac",
   "metadata": {
    "scrolled": true
   },
   "outputs": [
    {
     "name": "stdout",
     "output_type": "stream",
     "text": [
      "Mean male_female_differences per user: 0.05631\n",
      "Standard deviation of male_female_differences per user: 0.51457\n",
      "Min male_female_differences per user: -1.0\n",
      "Max male_female_differences per user: 1.0\n"
     ]
    }
   ],
   "source": [
    "user_gender_dist, num_users = user_gender_distribution(df_gender, user_col, split_gender_by,  prnt = True)"
   ]
  },
  {
   "cell_type": "code",
   "execution_count": 16,
   "id": "5542ea0f",
   "metadata": {
    "scrolled": true
   },
   "outputs": [
    {
     "data": {
      "text/html": [
       "<div>\n",
       "<style scoped>\n",
       "    .dataframe tbody tr th:only-of-type {\n",
       "        vertical-align: middle;\n",
       "    }\n",
       "\n",
       "    .dataframe tbody tr th {\n",
       "        vertical-align: top;\n",
       "    }\n",
       "\n",
       "    .dataframe thead th {\n",
       "        text-align: right;\n",
       "    }\n",
       "</style>\n",
       "<table border=\"1\" class=\"dataframe\">\n",
       "  <thead>\n",
       "    <tr style=\"text-align: right;\">\n",
       "      <th></th>\n",
       "      <th>num_female</th>\n",
       "      <th>num_male</th>\n",
       "      <th>num_other</th>\n",
       "      <th>num_unknown</th>\n",
       "      <th>num_total</th>\n",
       "      <th>ratio_female</th>\n",
       "      <th>male_female_difference</th>\n",
       "    </tr>\n",
       "  </thead>\n",
       "  <tbody>\n",
       "    <tr>\n",
       "      <th>258107</th>\n",
       "      <td>6</td>\n",
       "      <td>0</td>\n",
       "      <td>0</td>\n",
       "      <td>0</td>\n",
       "      <td>6</td>\n",
       "      <td>1.0</td>\n",
       "      <td>-1.0</td>\n",
       "    </tr>\n",
       "    <tr>\n",
       "      <th>177876</th>\n",
       "      <td>5</td>\n",
       "      <td>0</td>\n",
       "      <td>0</td>\n",
       "      <td>0</td>\n",
       "      <td>5</td>\n",
       "      <td>1.0</td>\n",
       "      <td>-1.0</td>\n",
       "    </tr>\n",
       "    <tr>\n",
       "      <th>178458</th>\n",
       "      <td>5</td>\n",
       "      <td>0</td>\n",
       "      <td>0</td>\n",
       "      <td>0</td>\n",
       "      <td>5</td>\n",
       "      <td>1.0</td>\n",
       "      <td>-1.0</td>\n",
       "    </tr>\n",
       "    <tr>\n",
       "      <th>86170</th>\n",
       "      <td>6</td>\n",
       "      <td>0</td>\n",
       "      <td>0</td>\n",
       "      <td>0</td>\n",
       "      <td>6</td>\n",
       "      <td>1.0</td>\n",
       "      <td>-1.0</td>\n",
       "    </tr>\n",
       "    <tr>\n",
       "      <th>179321</th>\n",
       "      <td>5</td>\n",
       "      <td>0</td>\n",
       "      <td>0</td>\n",
       "      <td>0</td>\n",
       "      <td>5</td>\n",
       "      <td>1.0</td>\n",
       "      <td>-1.0</td>\n",
       "    </tr>\n",
       "  </tbody>\n",
       "</table>\n",
       "</div>"
      ],
      "text/plain": [
       "        num_female  num_male  num_other  num_unknown  num_total  ratio_female  \\\n",
       "258107           6         0          0            0          6           1.0   \n",
       "177876           5         0          0            0          5           1.0   \n",
       "178458           5         0          0            0          5           1.0   \n",
       "86170            6         0          0            0          6           1.0   \n",
       "179321           5         0          0            0          5           1.0   \n",
       "\n",
       "        male_female_difference  \n",
       "258107                    -1.0  \n",
       "177876                    -1.0  \n",
       "178458                    -1.0  \n",
       "86170                     -1.0  \n",
       "179321                    -1.0  "
      ]
     },
     "execution_count": 16,
     "metadata": {},
     "output_type": "execute_result"
    }
   ],
   "source": [
    "user_gender_dist.head()"
   ]
  },
  {
   "cell_type": "markdown",
   "id": "0dcc8c9c",
   "metadata": {},
   "source": [
    "## E2. Plot gender distribution among users "
   ]
  },
  {
   "cell_type": "markdown",
   "id": "3a603936",
   "metadata": {},
   "source": [
    "First, I will plot the sorted differences."
   ]
  },
  {
   "cell_type": "code",
   "execution_count": 17,
   "id": "844c5d68",
   "metadata": {},
   "outputs": [
    {
     "data": {
      "image/png": "[encoded data removed]",
      "text/plain": [
       "<Figure size 432x288 with 1 Axes>"
      ]
     },
     "metadata": {
      "needs_background": "light"
     },
     "output_type": "display_data"
    }
   ],
   "source": [
    "plot_gender_difference_distribution(user_gender_dist.male_female_difference.values)"
   ]
  },
  {
   "cell_type": "markdown",
   "id": "fefa9c83",
   "metadata": {},
   "source": [
    "Then I will plot if there is a relation between user profile size and difference between male and female written books in profile."
   ]
  },
  {
   "cell_type": "code",
   "execution_count": 18,
   "id": "72952940",
   "metadata": {},
   "outputs": [
    {
     "name": "stdout",
     "output_type": "stream",
     "text": [
      "R-value: -0.04365697959637796\n"
     ]
    },
    {
     "data": {
      "image/png": "[encoded data removed]",
      "text/plain": [
       "<Figure size 432x288 with 1 Axes>"
      ]
     },
     "metadata": {
      "needs_background": "light"
     },
     "output_type": "display_data"
    }
   ],
   "source": [
    "plot_profile_size_vs_gender_difference(user_gender_dist.male_female_difference.values,user_gender_dist.num_total.values)"
   ]
  },
  {
   "cell_type": "markdown",
   "id": "ebf5533d",
   "metadata": {},
   "source": [
    "## E3. Divide Users based on gender distribution"
   ]
  },
  {
   "cell_type": "markdown",
   "id": "55cb6e0f",
   "metadata": {},
   "source": [
    "First, I will divide the users into low male preference, medium male preference and high male preference."
   ]
  },
  {
   "cell_type": "code",
   "execution_count": 19,
   "id": "ffebac0c",
   "metadata": {},
   "outputs": [],
   "source": [
    "low_mp, med_mp, high_mp = split(user_gender_dist, top_fraction_users)"
   ]
  },
  {
   "cell_type": "markdown",
   "id": "933d5181",
   "metadata": {},
   "source": [
    "Then, I will calculate the characteristics of each group."
   ]
  },
  {
   "cell_type": "code",
   "execution_count": 20,
   "id": "e11fb7a7",
   "metadata": {},
   "outputs": [],
   "source": [
    "low_profile_size, med_profile_size, high_profile_size, low_nr_users, med_nr_users, high_nr_users = calculate_group_characteristics(low_mp, med_mp, high_mp, count_column = \"num_total\", way = \"gender\")"
   ]
  },
  {
   "cell_type": "code",
   "execution_count": 21,
   "id": "af3bf389",
   "metadata": {
    "scrolled": true
   },
   "outputs": [
    {
     "name": "stdout",
     "output_type": "stream",
     "text": [
      "Female Oriented: 12.39\n",
      "Diverse: 15.69\n",
      "Male Oriented: 10.17\n"
     ]
    },
    {
     "data": {
      "image/png": "[encoded data removed]",
      "text/plain": [
       "<Figure size 432x288 with 1 Axes>"
      ]
     },
     "metadata": {
      "needs_background": "light"
     },
     "output_type": "display_data"
    }
   ],
   "source": [
    "plot_group_characteristics(low_profile_size, med_profile_size, high_profile_size,analysis_type = \"gender\")"
   ]
  },
  {
   "cell_type": "code",
   "execution_count": 22,
   "id": "9fd11480",
   "metadata": {
    "scrolled": true
   },
   "outputs": [
    {
     "name": "stdout",
     "output_type": "stream",
     "text": [
      "Female Oriented: 1271\n",
      "Diverse: 3815\n",
      "Male Oriented: 1272\n"
     ]
    },
    {
     "data": {
      "image/png": "[encoded data removed]",
      "text/plain": [
       "<Figure size 432x288 with 1 Axes>"
      ]
     },
     "metadata": {
      "needs_background": "light"
     },
     "output_type": "display_data"
    }
   ],
   "source": [
    "plot_group_characteristics(low_nr_users, med_nr_users, high_nr_users,analysis_type = \"gender\", way = \"number of users\")"
   ]
  },
  {
   "cell_type": "code",
   "execution_count": 23,
   "id": "58672aa2",
   "metadata": {},
   "outputs": [
    {
     "name": "stdout",
     "output_type": "stream",
     "text": [
      "Female Oriented: -0.67\n",
      "Diverse: 0.05\n",
      "Male Oriented: 0.79\n"
     ]
    },
    {
     "data": {
      "image/png": "[encoded data removed]",
      "text/plain": [
       "<Figure size 432x288 with 1 Axes>"
      ]
     },
     "metadata": {
      "needs_background": "light"
     },
     "output_type": "display_data"
    }
   ],
   "source": [
    "low_mp_ave = low_mp.male_female_difference.mean()\n",
    "med_mp_ave = med_mp.male_female_difference.mean()\n",
    "high_mp_ave = high_mp.male_female_difference.mean()\n",
    "plot_group_characteristics(low_mp_ave, med_mp_ave, high_mp_ave,analysis_type = \"gender\", way = \"specific metric\")"
   ]
  },
  {
   "cell_type": "code",
   "execution_count": 24,
   "id": "cc2c5f70",
   "metadata": {
    "scrolled": false
   },
   "outputs": [
    {
     "data": {
      "image/png": "[encoded data removed]",
      "text/plain": [
       "<Figure size 432x288 with 1 Axes>"
      ]
     },
     "metadata": {
      "needs_background": "light"
     },
     "output_type": "display_data"
    }
   ],
   "source": [
    "plot_gender_difference_distribution(user_gender_dist.male_female_difference.values, dividing = [True,top_fraction_users])"
   ]
  },
  {
   "cell_type": "markdown",
   "id": "7c8a7ea1",
   "metadata": {},
   "source": [
    "# F. Country analysis"
   ]
  },
  {
   "cell_type": "markdown",
   "id": "3f69d135",
   "metadata": {},
   "source": [
    "First, I am replacing any empty country with \"unknown\"."
   ]
  },
  {
   "cell_type": "code",
   "execution_count": 25,
   "id": "4e307c56",
   "metadata": {},
   "outputs": [],
   "source": [
    "df[\"country\"] = df[\"country\"].apply(lambda x: \"unknown\" if x==\"\" else x)"
   ]
  },
  {
   "cell_type": "markdown",
   "id": "ea53d982",
   "metadata": {},
   "source": [
    "Then, I am calculating the 5 most common countries in the dataset."
   ]
  },
  {
   "cell_type": "code",
   "execution_count": 26,
   "id": "b6a98dc4",
   "metadata": {},
   "outputs": [
    {
     "name": "stdout",
     "output_type": "stream",
     "text": [
      "['United States of America', 'United Kingdom', 'unknown', 'Canada', 'Republic of Ireland']\n"
     ]
    }
   ],
   "source": [
    "most_common_5 = [x[0] for x in Counter(df.country).most_common()[:5]]\n",
    "print(most_common_5)"
   ]
  },
  {
   "cell_type": "markdown",
   "id": "782f87bb",
   "metadata": {},
   "source": [
    "Finally, I am naming any non most common country as \"other\"."
   ]
  },
  {
   "cell_type": "code",
   "execution_count": 27,
   "id": "9ac15f36",
   "metadata": {},
   "outputs": [],
   "source": [
    "df[\"country\"] = df[\"country\"].apply(lambda x: \"other\" if (x in most_common_5) == False else x)"
   ]
  },
  {
   "cell_type": "code",
   "execution_count": 28,
   "id": "22ac552f",
   "metadata": {},
   "outputs": [
    {
     "data": {
      "image/png": "[encoded data removed]",
      "text/plain": [
       "<Figure size 432x288 with 1 Axes>"
      ]
     },
     "metadata": {},
     "output_type": "display_data"
    }
   ],
   "source": [
    "fig, ax = plt.subplots()\n",
    "df.country = df.country.replace(\"United States of America\", \"USA\")\n",
    "df.country = df.country.replace(\"United Kingdom\", \"UK\")\n",
    "df.country = df.country.replace(\"Republic of Ireland\", \"Ireland\")\n",
    "df.country.value_counts().plot(kind=\"pie\",autopct='%.2f%%',explode=(0.1, 0.3, 0.4,0.1, 0.5,1.5), shadow=True\n",
    "                                      , startangle=30)\n",
    "ax.title.set_text(\"Country Distribution in ratings\")    \n",
    "fig.tight_layout()"
   ]
  },
  {
   "cell_type": "markdown",
   "id": "67285a0e",
   "metadata": {},
   "source": [
    "## F1. Define and calculate country odds"
   ]
  },
  {
   "cell_type": "markdown",
   "id": "763dc522",
   "metadata": {},
   "source": [
    "First, I will keep only the relevant columns"
   ]
  },
  {
   "cell_type": "code",
   "execution_count": 29,
   "id": "c956945a",
   "metadata": {},
   "outputs": [],
   "source": [
    "df_country = df[[\"User-ID\", \"ISBN\", \"Book-Rating\", \"country\"]]"
   ]
  },
  {
   "cell_type": "code",
   "execution_count": 30,
   "id": "58f936a7",
   "metadata": {},
   "outputs": [
    {
     "data": {
      "text/html": [
       "<div>\n",
       "<style scoped>\n",
       "    .dataframe tbody tr th:only-of-type {\n",
       "        vertical-align: middle;\n",
       "    }\n",
       "\n",
       "    .dataframe tbody tr th {\n",
       "        vertical-align: top;\n",
       "    }\n",
       "\n",
       "    .dataframe thead th {\n",
       "        text-align: right;\n",
       "    }\n",
       "</style>\n",
       "<table border=\"1\" class=\"dataframe\">\n",
       "  <thead>\n",
       "    <tr style=\"text-align: right;\">\n",
       "      <th></th>\n",
       "      <th>User-ID</th>\n",
       "      <th>ISBN</th>\n",
       "      <th>Book-Rating</th>\n",
       "      <th>country</th>\n",
       "    </tr>\n",
       "  </thead>\n",
       "  <tbody>\n",
       "    <tr>\n",
       "      <th>0</th>\n",
       "      <td>276847</td>\n",
       "      <td>0</td>\n",
       "      <td>8</td>\n",
       "      <td>unknown</td>\n",
       "    </tr>\n",
       "    <tr>\n",
       "      <th>1</th>\n",
       "      <td>276847</td>\n",
       "      <td>1</td>\n",
       "      <td>10</td>\n",
       "      <td>UK</td>\n",
       "    </tr>\n",
       "    <tr>\n",
       "      <th>2</th>\n",
       "      <td>276847</td>\n",
       "      <td>2</td>\n",
       "      <td>10</td>\n",
       "      <td>UK</td>\n",
       "    </tr>\n",
       "    <tr>\n",
       "      <th>3</th>\n",
       "      <td>276847</td>\n",
       "      <td>3</td>\n",
       "      <td>10</td>\n",
       "      <td>UK</td>\n",
       "    </tr>\n",
       "    <tr>\n",
       "      <th>4</th>\n",
       "      <td>276847</td>\n",
       "      <td>4</td>\n",
       "      <td>10</td>\n",
       "      <td>UK</td>\n",
       "    </tr>\n",
       "  </tbody>\n",
       "</table>\n",
       "</div>"
      ],
      "text/plain": [
       "   User-ID  ISBN  Book-Rating  country\n",
       "0   276847     0            8  unknown\n",
       "1   276847     1           10       UK\n",
       "2   276847     2           10       UK\n",
       "3   276847     3           10       UK\n",
       "4   276847     4           10       UK"
      ]
     },
     "execution_count": 30,
     "metadata": {},
     "output_type": "execute_result"
    }
   ],
   "source": [
    "df_country.head()"
   ]
  },
  {
   "cell_type": "markdown",
   "id": "47a7668b",
   "metadata": {},
   "source": [
    "Then, I call a function to calculate the country distribution per user.\n",
    "\n",
    "The way I do it is by calculating: <br>\n",
    "nUSA = number of books in profile written by USA citizens<br>\n",
    "tb = number of books in profile <br>\n",
    "\n",
    "<u>So for every user u, I define <i>ratio_USA</i> as:</u>\n",
    "\n",
    "ratio_USA(u) = nUSA(u)/tb(u)\n",
    "\n",
    "<b>Basically the percentage of books written by USA citizens</b>"
   ]
  },
  {
   "cell_type": "code",
   "execution_count": 31,
   "id": "311038f6",
   "metadata": {},
   "outputs": [
    {
     "name": "stdout",
     "output_type": "stream",
     "text": [
      "Mean ratio_USAs per user: 0.72683\n",
      "Standard deviation of ratio_USAs per user: 0.22096\n",
      "Min ratio_USAs per user: 0.0\n",
      "Max ratio_USAs per user: 1.0\n"
     ]
    }
   ],
   "source": [
    "user_country_dist, num_users = user_country_distribution(df_country, user_col, split_country_by,  prnt = True)"
   ]
  },
  {
   "cell_type": "markdown",
   "id": "d86e3e71",
   "metadata": {},
   "source": [
    "## F2. Plot country distribution among users"
   ]
  },
  {
   "cell_type": "markdown",
   "id": "bef3b4fb",
   "metadata": {},
   "source": [
    "First, I will plot the sorted ratios."
   ]
  },
  {
   "cell_type": "code",
   "execution_count": 32,
   "id": "81a94b60",
   "metadata": {
    "scrolled": true
   },
   "outputs": [
    {
     "data": {
      "image/png": "[encoded data removed]",
      "text/plain": [
       "<Figure size 432x288 with 1 Axes>"
      ]
     },
     "metadata": {
      "needs_background": "light"
     },
     "output_type": "display_data"
    }
   ],
   "source": [
    "plot_country_distribution(user_country_dist.ratio_USA.values)"
   ]
  },
  {
   "cell_type": "markdown",
   "id": "5eb58cfb",
   "metadata": {},
   "source": [
    "Then I will plot if there is a relation between user profile size and ratio of books written by USA citizens in profile."
   ]
  },
  {
   "cell_type": "code",
   "execution_count": 34,
   "id": "790d8150",
   "metadata": {},
   "outputs": [
    {
     "name": "stdout",
     "output_type": "stream",
     "text": [
      "R-value: 0.011394268611333878\n"
     ]
    },
    {
     "data": {
      "image/png": "[encoded data removed]",
      "text/plain": [
       "<Figure size 432x288 with 1 Axes>"
      ]
     },
     "metadata": {
      "needs_background": "light"
     },
     "output_type": "display_data"
    }
   ],
   "source": [
    "plot_profile_size_vs_USA_ratio(user_country_dist.ratio_USA.values,user_country_dist.num_total.values)"
   ]
  },
  {
   "cell_type": "markdown",
   "id": "1af99ae5",
   "metadata": {},
   "source": [
    "## F3. Divide Users based on country distribution"
   ]
  },
  {
   "cell_type": "markdown",
   "id": "9b3fa0f4",
   "metadata": {},
   "source": [
    "First, I will divide the users into low USA preference, medium USA preference and high USA preference."
   ]
  },
  {
   "cell_type": "code",
   "execution_count": 35,
   "id": "1c0453a0",
   "metadata": {},
   "outputs": [],
   "source": [
    "low_Up, med_Up, high_Up = split(user_country_dist, top_fraction_users)"
   ]
  },
  {
   "cell_type": "markdown",
   "id": "63158818",
   "metadata": {},
   "source": [
    "Then, I will calculate the characteristics of each group."
   ]
  },
  {
   "cell_type": "code",
   "execution_count": 36,
   "id": "f152c008",
   "metadata": {},
   "outputs": [],
   "source": [
    "low_profile_size, med_profile_size, high_profile_size, low_nr_users, med_nr_users, high_nr_users = calculate_group_characteristics(low_Up, med_Up, high_Up, count_column = \"num_total\", way = \"country\")"
   ]
  },
  {
   "cell_type": "code",
   "execution_count": 37,
   "id": "69cef672",
   "metadata": {
    "scrolled": true
   },
   "outputs": [
    {
     "name": "stdout",
     "output_type": "stream",
     "text": [
      "low USA Oriented: 11.84\n",
      "mid USA Oriented: 15.92\n",
      "USA Oriented: 10.04\n"
     ]
    },
    {
     "data": {
      "image/png": "[encoded data removed]",
      "text/plain": [
       "<Figure size 432x288 with 1 Axes>"
      ]
     },
     "metadata": {
      "needs_background": "light"
     },
     "output_type": "display_data"
    }
   ],
   "source": [
    "plot_group_characteristics(low_profile_size, med_profile_size, high_profile_size,analysis_type = \"country\")"
   ]
  },
  {
   "cell_type": "code",
   "execution_count": 38,
   "id": "a87124b4",
   "metadata": {
    "scrolled": true
   },
   "outputs": [
    {
     "name": "stdout",
     "output_type": "stream",
     "text": [
      "low USA Oriented: 1271\n",
      "mid USA Oriented: 3815\n",
      "USA Oriented: 1272\n"
     ]
    },
    {
     "data": {
      "image/png": "[encoded data removed]",
      "text/plain": [
       "<Figure size 432x288 with 1 Axes>"
      ]
     },
     "metadata": {
      "needs_background": "light"
     },
     "output_type": "display_data"
    }
   ],
   "source": [
    "plot_group_characteristics(low_nr_users, med_nr_users, high_nr_users,analysis_type = \"country\", way = \"number of users\")"
   ]
  },
  {
   "cell_type": "code",
   "execution_count": 39,
   "id": "3f43b328",
   "metadata": {
    "scrolled": true
   },
   "outputs": [
    {
     "name": "stdout",
     "output_type": "stream",
     "text": [
      "low USA Oriented: 0.38\n",
      "mid USA Oriented: 0.75\n",
      "USA Oriented: 0.99\n"
     ]
    },
    {
     "data": {
      "image/png": "[encoded data removed]",
      "text/plain": [
       "<Figure size 432x288 with 1 Axes>"
      ]
     },
     "metadata": {
      "needs_background": "light"
     },
     "output_type": "display_data"
    }
   ],
   "source": [
    "low_Up_ave = low_Up.ratio_USA.mean()\n",
    "med_Up_ave = med_Up.ratio_USA.mean()\n",
    "high_Up_ave = high_Up.ratio_USA.mean()\n",
    "plot_group_characteristics(low_Up_ave, med_Up_ave, high_Up_ave,analysis_type = \"country\", way = \"specific metric\")"
   ]
  },
  {
   "cell_type": "markdown",
   "id": "4858e3b8",
   "metadata": {},
   "source": [
    "# G. Birthyear analysis"
   ]
  },
  {
   "cell_type": "code",
   "execution_count": 40,
   "id": "8d89a943",
   "metadata": {},
   "outputs": [],
   "source": [
    "df[\"birthyear_coded\"] = df[\"birthyear\"].apply(lambda x: \"1000000\" if x==\"\" else x)\n",
    "df[\"birthyear_coded\"] = df[\"birthyear_coded\"].apply(lambda x: \"2000000\" if int(x)<0 else x)\n",
    "df[\"birthyear_coded\"] = df[\"birthyear_coded\"].apply(lambda x: \"3000000\" if (int(x)>=0)&(int(x)<1900) else x)\n",
    "df[\"birthyear_coded\"] = df[\"birthyear_coded\"].apply(lambda x: \"4000000\" if (int(x)>=1900)&(int(x)<1950) else x)\n",
    "df[\"birthyear_coded\"] = df[\"birthyear_coded\"].apply(lambda x: \"5000000\" if (int(x)>=1950)&(int(x)<2050) else x)"
   ]
  },
  {
   "cell_type": "code",
   "execution_count": 41,
   "id": "91c06629",
   "metadata": {},
   "outputs": [],
   "source": [
    "df.birthyear_coded = df.birthyear_coded.replace(\"1000000\",\"unknown\")\n",
    "df.birthyear_coded = df.birthyear_coded.replace(\"2000000\",\"B.C.\")\n",
    "df.birthyear_coded = df.birthyear_coded.replace(\"3000000\",\"0-1900\")\n",
    "df.birthyear_coded = df.birthyear_coded.replace(\"4000000\",\"1900-1950\")\n",
    "df.birthyear_coded = df.birthyear_coded.replace(\"5000000\",\"1950-2000\")"
   ]
  },
  {
   "cell_type": "code",
   "execution_count": 42,
   "id": "e6c797c2",
   "metadata": {},
   "outputs": [
    {
     "data": {
      "image/png": "[encoded data removed]",
      "text/plain": [
       "<Figure size 432x288 with 1 Axes>"
      ]
     },
     "metadata": {},
     "output_type": "display_data"
    }
   ],
   "source": [
    "fig, ax = plt.subplots()\n",
    "df.birthyear_coded.value_counts().plot(kind=\"pie\",autopct='%.2f%%',explode=(0.1, 0.3, 0.4,0.1), shadow=True\n",
    "                                      , startangle=30)\n",
    "ax.title.set_text(\"Country Distribution in ratings\")    \n",
    "fig.tight_layout()"
   ]
  },
  {
   "cell_type": "code",
   "execution_count": 43,
   "id": "a21f14a1",
   "metadata": {},
   "outputs": [],
   "source": [
    "df.birthyear = df.birthyear_coded"
   ]
  },
  {
   "cell_type": "markdown",
   "id": "e687d001",
   "metadata": {},
   "source": [
    "## G1. Define and calculate birthyear odds"
   ]
  },
  {
   "cell_type": "markdown",
   "id": "d6893ea4",
   "metadata": {},
   "source": [
    "First, I will keep only the relevant columns"
   ]
  },
  {
   "cell_type": "code",
   "execution_count": 44,
   "id": "19a89c45",
   "metadata": {},
   "outputs": [],
   "source": [
    "df_birthyear = df[[\"User-ID\", \"ISBN\", \"Book-Rating\", \"birthyear\"]]"
   ]
  },
  {
   "cell_type": "code",
   "execution_count": 45,
   "id": "49748eec",
   "metadata": {},
   "outputs": [
    {
     "data": {
      "text/html": [
       "<div>\n",
       "<style scoped>\n",
       "    .dataframe tbody tr th:only-of-type {\n",
       "        vertical-align: middle;\n",
       "    }\n",
       "\n",
       "    .dataframe tbody tr th {\n",
       "        vertical-align: top;\n",
       "    }\n",
       "\n",
       "    .dataframe thead th {\n",
       "        text-align: right;\n",
       "    }\n",
       "</style>\n",
       "<table border=\"1\" class=\"dataframe\">\n",
       "  <thead>\n",
       "    <tr style=\"text-align: right;\">\n",
       "      <th></th>\n",
       "      <th>User-ID</th>\n",
       "      <th>ISBN</th>\n",
       "      <th>Book-Rating</th>\n",
       "      <th>birthyear</th>\n",
       "    </tr>\n",
       "  </thead>\n",
       "  <tbody>\n",
       "    <tr>\n",
       "      <th>0</th>\n",
       "      <td>276847</td>\n",
       "      <td>0</td>\n",
       "      <td>8</td>\n",
       "      <td>unknown</td>\n",
       "    </tr>\n",
       "    <tr>\n",
       "      <th>1</th>\n",
       "      <td>276847</td>\n",
       "      <td>1</td>\n",
       "      <td>10</td>\n",
       "      <td>1950-2000</td>\n",
       "    </tr>\n",
       "    <tr>\n",
       "      <th>2</th>\n",
       "      <td>276847</td>\n",
       "      <td>2</td>\n",
       "      <td>10</td>\n",
       "      <td>1950-2000</td>\n",
       "    </tr>\n",
       "    <tr>\n",
       "      <th>3</th>\n",
       "      <td>276847</td>\n",
       "      <td>3</td>\n",
       "      <td>10</td>\n",
       "      <td>1950-2000</td>\n",
       "    </tr>\n",
       "    <tr>\n",
       "      <th>4</th>\n",
       "      <td>276847</td>\n",
       "      <td>4</td>\n",
       "      <td>10</td>\n",
       "      <td>1950-2000</td>\n",
       "    </tr>\n",
       "  </tbody>\n",
       "</table>\n",
       "</div>"
      ],
      "text/plain": [
       "   User-ID  ISBN  Book-Rating  birthyear\n",
       "0   276847     0            8    unknown\n",
       "1   276847     1           10  1950-2000\n",
       "2   276847     2           10  1950-2000\n",
       "3   276847     3           10  1950-2000\n",
       "4   276847     4           10  1950-2000"
      ]
     },
     "execution_count": 45,
     "metadata": {},
     "output_type": "execute_result"
    }
   ],
   "source": [
    "df_birthyear.head()"
   ]
  },
  {
   "cell_type": "markdown",
   "id": "e0e7636a",
   "metadata": {},
   "source": [
    "Then, I call a function to calculate the country distribution per user.\n",
    "\n",
    "The way I do it is by calculating: <br>\n",
    "nUSA = number of books in profile written by USA citizens<br>\n",
    "tb = number of books in profile <br>\n",
    "\n",
    "<u>So for every user u, I define <i>ratio_USA</i> as:</u>\n",
    "\n",
    "ratio_USA(u) = nUSA(u)/tb(u)\n",
    "\n",
    "<b>Basically the percentage of books written by USA citizens</b>"
   ]
  },
  {
   "cell_type": "code",
   "execution_count": 46,
   "id": "f6003399",
   "metadata": {},
   "outputs": [
    {
     "name": "stdout",
     "output_type": "stream",
     "text": [
      "Mean ratio_1950s per user: 0.49968\n",
      "Standard deviation of ratio_1950s per user: 0.23218\n",
      "Min ratio_1950s per user: 0.0\n",
      "Max ratio_1950s per user: 1.0\n"
     ]
    }
   ],
   "source": [
    "user_birthyear_dist, num_users = user_birthyear_distribution(df_birthyear, user_col, \"ratio_1950\",  prnt = True)"
   ]
  },
  {
   "cell_type": "markdown",
   "id": "1f172ed8",
   "metadata": {},
   "source": [
    "## G2. Plot birthyear distribution among users"
   ]
  },
  {
   "cell_type": "markdown",
   "id": "68a30fd8",
   "metadata": {},
   "source": [
    "First, I will plot the sorted ratios."
   ]
  },
  {
   "cell_type": "code",
   "execution_count": 47,
   "id": "3779f516",
   "metadata": {
    "scrolled": true
   },
   "outputs": [
    {
     "data": {
      "image/png": "[encoded data removed]",
      "text/plain": [
       "<Figure size 432x288 with 1 Axes>"
      ]
     },
     "metadata": {
      "needs_background": "light"
     },
     "output_type": "display_data"
    }
   ],
   "source": [
    "plot_birthyear_distribution(user_birthyear_dist.ratio_1950.values)"
   ]
  },
  {
   "cell_type": "markdown",
   "id": "f30ca7bb",
   "metadata": {},
   "source": [
    "Then I will plot if there is a relation between user profile size and ratio of books written by 1900-1950 citizens in profile."
   ]
  },
  {
   "cell_type": "code",
   "execution_count": 48,
   "id": "d3f25c37",
   "metadata": {},
   "outputs": [
    {
     "name": "stdout",
     "output_type": "stream",
     "text": [
      "R-value: -0.012276892759594546\n"
     ]
    },
    {
     "data": {
      "image/png": "[encoded data removed]",
      "text/plain": [
       "<Figure size 432x288 with 1 Axes>"
      ]
     },
     "metadata": {
      "needs_background": "light"
     },
     "output_type": "display_data"
    }
   ],
   "source": [
    "plot_profile_size_vs_1950_ratio(user_birthyear_dist.ratio_1950.values,user_birthyear_dist.num_total.values)"
   ]
  },
  {
   "cell_type": "markdown",
   "id": "00553bf8",
   "metadata": {},
   "source": [
    "## F3. Divide Users based on country distribution"
   ]
  },
  {
   "cell_type": "markdown",
   "id": "70a3feb9",
   "metadata": {},
   "source": [
    "First, I will divide the users into low USA preference, medium USA preference and high USA preference."
   ]
  },
  {
   "cell_type": "code",
   "execution_count": 49,
   "id": "ffa512e5",
   "metadata": {},
   "outputs": [],
   "source": [
    "low_1950p, med_1950p, high_1950p = split(user_birthyear_dist, top_fraction_users)"
   ]
  },
  {
   "cell_type": "markdown",
   "id": "77cf94c7",
   "metadata": {},
   "source": [
    "Then, I will calculate the characteristics of each group."
   ]
  },
  {
   "cell_type": "code",
   "execution_count": 50,
   "id": "06ae7120",
   "metadata": {},
   "outputs": [],
   "source": [
    "low_profile_size, med_profile_size, high_profile_size, low_nr_users, med_nr_users, high_nr_users = calculate_group_characteristics(low_1950p, med_1950p, high_1950p, count_column = \"num_total\", way = \"birthyear\")"
   ]
  },
  {
   "cell_type": "code",
   "execution_count": 51,
   "id": "98284905",
   "metadata": {
    "scrolled": false
   },
   "outputs": [
    {
     "name": "stdout",
     "output_type": "stream",
     "text": [
      "low 1950 Oriented: 11.16\n",
      "mid 1950 Oriented: 15.8\n",
      "1950 Oriented: 11.08\n"
     ]
    },
    {
     "data": {
      "image/png": "[encoded data removed]",
      "text/plain": [
       "<Figure size 432x288 with 1 Axes>"
      ]
     },
     "metadata": {
      "needs_background": "light"
     },
     "output_type": "display_data"
    }
   ],
   "source": [
    "plot_group_characteristics(low_profile_size, med_profile_size, high_profile_size,analysis_type = \"birthyear\")"
   ]
  },
  {
   "cell_type": "code",
   "execution_count": 52,
   "id": "4003754d",
   "metadata": {
    "scrolled": true
   },
   "outputs": [
    {
     "name": "stdout",
     "output_type": "stream",
     "text": [
      "low 1950 Oriented: 1271\n",
      "mid 1950 Oriented: 3815\n",
      "1950 Oriented: 1272\n"
     ]
    },
    {
     "data": {
      "image/png": "[encoded data removed]",
      "text/plain": [
       "<Figure size 432x288 with 1 Axes>"
      ]
     },
     "metadata": {
      "needs_background": "light"
     },
     "output_type": "display_data"
    }
   ],
   "source": [
    "plot_group_characteristics(low_nr_users, med_nr_users, high_nr_users,analysis_type = \"birthyear\", way = \"number of users\")"
   ]
  },
  {
   "cell_type": "code",
   "execution_count": 53,
   "id": "5d629e8b",
   "metadata": {
    "scrolled": true
   },
   "outputs": [
    {
     "name": "stdout",
     "output_type": "stream",
     "text": [
      "low 1950 Oriented: 0.17\n",
      "mid 1950 Oriented: 0.5\n",
      "1950 Oriented: 0.83\n"
     ]
    },
    {
     "data": {
      "image/png": "[encoded data removed]",
      "text/plain": [
       "<Figure size 432x288 with 1 Axes>"
      ]
     },
     "metadata": {
      "needs_background": "light"
     },
     "output_type": "display_data"
    }
   ],
   "source": [
    "low_1950p_ave = low_1950p.ratio_1950.mean()\n",
    "med_1950p_ave = med_1950p.ratio_1950.mean()\n",
    "high_1950p_ave = high_1950p.ratio_1950.mean()\n",
    "plot_group_characteristics(low_1950p_ave, med_1950p_ave, high_1950p_ave,analysis_type = \"birthyear\", way = \"specific metric\")"
   ]
  },
  {
   "cell_type": "markdown",
   "id": "a0742984",
   "metadata": {},
   "source": [
    "## G. Save Processed Data\n",
    "Now we will save all the files that are needed for training the Recommender Systems and analyzing the results.\n",
    "1. The Female Oriented, Diverse and Male Oriented users.\n",
    "2. The low, mid and high USA oriented users.\n",
    "3. \"Mapped\" files."
   ]
  },
  {
   "cell_type": "markdown",
   "id": "dfa8ae76",
   "metadata": {},
   "source": [
    "First, I will merge the files."
   ]
  },
  {
   "cell_type": "code",
   "execution_count": 54,
   "id": "d9aa441d",
   "metadata": {
    "scrolled": true
   },
   "outputs": [],
   "source": [
    "final_df = pd.merge(pd.merge(df_gender, df_country, on = [\"User-ID\", \"ISBN\", \"Book-Rating\"]),df_birthyear,on = [\"User-ID\", \"ISBN\", \"Book-Rating\"])"
   ]
  },
  {
   "cell_type": "code",
   "execution_count": 55,
   "id": "69ec53d1",
   "metadata": {},
   "outputs": [
    {
     "data": {
      "text/html": [
       "<div>\n",
       "<style scoped>\n",
       "    .dataframe tbody tr th:only-of-type {\n",
       "        vertical-align: middle;\n",
       "    }\n",
       "\n",
       "    .dataframe tbody tr th {\n",
       "        vertical-align: top;\n",
       "    }\n",
       "\n",
       "    .dataframe thead th {\n",
       "        text-align: right;\n",
       "    }\n",
       "</style>\n",
       "<table border=\"1\" class=\"dataframe\">\n",
       "  <thead>\n",
       "    <tr style=\"text-align: right;\">\n",
       "      <th></th>\n",
       "      <th>User-ID</th>\n",
       "      <th>ISBN</th>\n",
       "      <th>Book-Rating</th>\n",
       "      <th>gender</th>\n",
       "      <th>country</th>\n",
       "      <th>birthyear</th>\n",
       "    </tr>\n",
       "  </thead>\n",
       "  <tbody>\n",
       "    <tr>\n",
       "      <th>0</th>\n",
       "      <td>276847</td>\n",
       "      <td>0</td>\n",
       "      <td>8</td>\n",
       "      <td>unknown</td>\n",
       "      <td>unknown</td>\n",
       "      <td>unknown</td>\n",
       "    </tr>\n",
       "    <tr>\n",
       "      <th>1</th>\n",
       "      <td>276847</td>\n",
       "      <td>1</td>\n",
       "      <td>10</td>\n",
       "      <td>female</td>\n",
       "      <td>UK</td>\n",
       "      <td>1950-2000</td>\n",
       "    </tr>\n",
       "    <tr>\n",
       "      <th>2</th>\n",
       "      <td>276847</td>\n",
       "      <td>2</td>\n",
       "      <td>10</td>\n",
       "      <td>female</td>\n",
       "      <td>UK</td>\n",
       "      <td>1950-2000</td>\n",
       "    </tr>\n",
       "    <tr>\n",
       "      <th>3</th>\n",
       "      <td>276847</td>\n",
       "      <td>3</td>\n",
       "      <td>10</td>\n",
       "      <td>female</td>\n",
       "      <td>UK</td>\n",
       "      <td>1950-2000</td>\n",
       "    </tr>\n",
       "    <tr>\n",
       "      <th>4</th>\n",
       "      <td>276847</td>\n",
       "      <td>4</td>\n",
       "      <td>10</td>\n",
       "      <td>female</td>\n",
       "      <td>UK</td>\n",
       "      <td>1950-2000</td>\n",
       "    </tr>\n",
       "    <tr>\n",
       "      <th>...</th>\n",
       "      <td>...</td>\n",
       "      <td>...</td>\n",
       "      <td>...</td>\n",
       "      <td>...</td>\n",
       "      <td>...</td>\n",
       "      <td>...</td>\n",
       "    </tr>\n",
       "    <tr>\n",
       "      <th>88617</th>\n",
       "      <td>276688</td>\n",
       "      <td>6837</td>\n",
       "      <td>7</td>\n",
       "      <td>female</td>\n",
       "      <td>USA</td>\n",
       "      <td>1900-1950</td>\n",
       "    </tr>\n",
       "    <tr>\n",
       "      <th>88618</th>\n",
       "      <td>276688</td>\n",
       "      <td>1628</td>\n",
       "      <td>6</td>\n",
       "      <td>female</td>\n",
       "      <td>USA</td>\n",
       "      <td>1900-1950</td>\n",
       "    </tr>\n",
       "    <tr>\n",
       "      <th>88619</th>\n",
       "      <td>276688</td>\n",
       "      <td>4464</td>\n",
       "      <td>8</td>\n",
       "      <td>female</td>\n",
       "      <td>USA</td>\n",
       "      <td>1950-2000</td>\n",
       "    </tr>\n",
       "    <tr>\n",
       "      <th>88620</th>\n",
       "      <td>276688</td>\n",
       "      <td>5236</td>\n",
       "      <td>10</td>\n",
       "      <td>male</td>\n",
       "      <td>USA</td>\n",
       "      <td>1950-2000</td>\n",
       "    </tr>\n",
       "    <tr>\n",
       "      <th>88621</th>\n",
       "      <td>276688</td>\n",
       "      <td>117</td>\n",
       "      <td>10</td>\n",
       "      <td>male</td>\n",
       "      <td>USA</td>\n",
       "      <td>1950-2000</td>\n",
       "    </tr>\n",
       "  </tbody>\n",
       "</table>\n",
       "<p>88622 rows × 6 columns</p>\n",
       "</div>"
      ],
      "text/plain": [
       "       User-ID  ISBN  Book-Rating   gender  country  birthyear\n",
       "0       276847     0            8  unknown  unknown    unknown\n",
       "1       276847     1           10   female       UK  1950-2000\n",
       "2       276847     2           10   female       UK  1950-2000\n",
       "3       276847     3           10   female       UK  1950-2000\n",
       "4       276847     4           10   female       UK  1950-2000\n",
       "...        ...   ...          ...      ...      ...        ...\n",
       "88617   276688  6837            7   female      USA  1900-1950\n",
       "88618   276688  1628            6   female      USA  1900-1950\n",
       "88619   276688  4464            8   female      USA  1950-2000\n",
       "88620   276688  5236           10     male      USA  1950-2000\n",
       "88621   276688   117           10     male      USA  1950-2000\n",
       "\n",
       "[88622 rows x 6 columns]"
      ]
     },
     "execution_count": 55,
     "metadata": {},
     "output_type": "execute_result"
    }
   ],
   "source": [
    "final_df"
   ]
  },
  {
   "cell_type": "code",
   "execution_count": 56,
   "id": "b53954f1",
   "metadata": {},
   "outputs": [],
   "source": [
    "low_mp.to_csv(processed_file_location + recommendation_type +\"/low_users\"+addition_gender+\".csv\")\n",
    "med_mp.to_csv(processed_file_location +recommendation_type + \"/med_users\"+addition_gender+\".csv\")\n",
    "high_mp.to_csv(processed_file_location +recommendation_type + \"/high_users\"+addition_gender+\".csv\")"
   ]
  },
  {
   "cell_type": "code",
   "execution_count": 57,
   "id": "8b274849",
   "metadata": {},
   "outputs": [],
   "source": [
    "low_Up.to_csv(processed_file_location + recommendation_type +\"/low_users\"+addition_country+\".csv\")\n",
    "med_Up.to_csv(processed_file_location +recommendation_type + \"/med_users\"+addition_country+\".csv\")\n",
    "high_Up.to_csv(processed_file_location +recommendation_type + \"/high_users\"+addition_country+\".csv\")"
   ]
  },
  {
   "cell_type": "code",
   "execution_count": 58,
   "id": "7965e518",
   "metadata": {},
   "outputs": [],
   "source": [
    "low_1950p.to_csv(processed_file_location + recommendation_type +\"/low_users\"+addition_birthyear+\".csv\")\n",
    "med_1950p.to_csv(processed_file_location +recommendation_type + \"/med_users\"+addition_birthyear+\".csv\")\n",
    "high_1950p.to_csv(processed_file_location +recommendation_type + \"/high_users\"+addition_birthyear+\".csv\")"
   ]
  },
  {
   "cell_type": "code",
   "execution_count": 61,
   "id": "42302aa9",
   "metadata": {},
   "outputs": [],
   "source": [
    "final_df.to_csv(processed_file_location +recommendation_type + \"/mapped_ratings_with_properties.csv\")"
   ]
  }
 ],
 "metadata": {
  "kernelspec": {
   "display_name": "Python 3 (ipykernel)",
   "language": "python",
   "name": "python3"
  },
  "language_info": {
   "codemirror_mode": {
    "name": "ipython",
    "version": 3
   },
   "file_extension": ".py",
   "mimetype": "text/x-python",
   "name": "python",
   "nbconvert_exporter": "python",
   "pygments_lexer": "ipython3",
   "version": "3.9.12"
  }
 },
 "nbformat": 4,
 "nbformat_minor": 5
}
