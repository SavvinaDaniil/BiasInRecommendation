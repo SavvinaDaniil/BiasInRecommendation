{
 "cells": [
  {
   "cell_type": "markdown",
   "id": "d1c99585",
   "metadata": {},
   "source": [
    "# Process\n",
    "In this notebook, I will do a first analysis of country distribution on the data so that I can use it later on."
   ]
  },
  {
   "cell_type": "markdown",
   "id": "3307d8bf",
   "metadata": {},
   "source": [
    "## A. Import Libraries"
   ]
  },
  {
   "cell_type": "code",
   "execution_count": 1,
   "id": "37ee5e3d",
   "metadata": {},
   "outputs": [],
   "source": [
    "import warnings\n",
    "warnings.simplefilter(action='ignore', category=FutureWarning)\n",
    "import matplotlib.pyplot as plt\n",
    "import random as rd\n",
    "import pandas as pd\n",
    "import numpy as np\n",
    "from analyze_data import users_and_items, user_distribution,user_country_distribution, calculate_group_characteristics\n",
    "from plots import plot_group_characteristics, plot_country_distribution, plot_profile_size_vs_USA_ratio\n",
    "import tqdm \n",
    "from split_users import sort_user_dist, split, split_differently\n",
    "import time\n",
    "import pickle as pkl\n",
    "from sklearn.model_selection import train_test_split\n",
    "pd.set_option(\"display.precision\", 5)\n",
    "from collections import Counter"
   ]
  },
  {
   "cell_type": "markdown",
   "id": "ff8162d1",
   "metadata": {},
   "source": [
    "## B. Set hyperparameters\n",
    "There are certain hyperparameters that need to be tuned before the run. "
   ]
  },
  {
   "cell_type": "code",
   "execution_count": 2,
   "id": "9bf73c77",
   "metadata": {},
   "outputs": [],
   "source": [
    "item_threshold = 5 # remove users with less than item_threshold items\n",
    "user_threshold = 5 # remove items with less than user_threshold users\n",
    "top_threshold = 200 # remove users who have rated more than top_threshold items\n",
    "recommendation_type = \"books\" # books, music or movies\n",
    "item_col = \"ISBN\" # the item column\n",
    "user_col = \"User-ID\"\n",
    "my_seed = 0 # random_seed\n",
    "top_fraction_users = 0.2# the limit for a user to be considered High Male Preference\n",
    "split_by = \"ratio_USA\" "
   ]
  },
  {
   "cell_type": "markdown",
   "id": "0a197b83",
   "metadata": {},
   "source": [
    "These additions will be useful so we can save the different files (plots and processed data) with clarity on the hyperparameters."
   ]
  },
  {
   "cell_type": "code",
   "execution_count": 30,
   "id": "d6fc0c1a",
   "metadata": {},
   "outputs": [],
   "source": [
    "addition_1 = \"_u\"+str(item_threshold)+\"_i\"+str(user_threshold)+\"_t\"+str(top_threshold)\n",
    "addition_2 = addition_1 + \"_tfu\"+str(int(100*top_fraction_users))\n",
    "addition_3 = addition_2 + (\"_usa\" if (split_by==\"ratio_USA\") else \"_unknown\")"
   ]
  },
  {
   "cell_type": "code",
   "execution_count": 31,
   "id": "246da307",
   "metadata": {},
   "outputs": [
    {
     "data": {
      "text/plain": [
       "'_u5_i5_t200_tfu20_usa'"
      ]
     },
     "execution_count": 31,
     "metadata": {},
     "output_type": "execute_result"
    }
   ],
   "source": [
    "addition_3"
   ]
  },
  {
   "cell_type": "code",
   "execution_count": 5,
   "id": "d01c7b4d",
   "metadata": {},
   "outputs": [],
   "source": [
    "rd.seed(my_seed) #seed for random functions\n",
    "np.random.seed(my_seed) #seed for all numpy fuctions"
   ]
  },
  {
   "cell_type": "markdown",
   "id": "37d0e2c3",
   "metadata": {},
   "source": [
    "## C. Read files"
   ]
  },
  {
   "cell_type": "code",
   "execution_count": 6,
   "id": "1c6c5ef3",
   "metadata": {},
   "outputs": [],
   "source": [
    "processed_file_location = \"data/processed/\" # here we store the processed data files"
   ]
  },
  {
   "cell_type": "code",
   "execution_count": 7,
   "id": "5959e560",
   "metadata": {},
   "outputs": [],
   "source": [
    "properties_file_location = \"data/files_with_properties/\" # here are stored the data files that include author properties\n",
    "item_file = properties_file_location + \"fairbook_books.csv\" # the items file\n",
    "items_with_properties = pd.read_csv(item_file, index_col=0, header=0, low_memory=False).fillna(\"\")\n",
    "\n",
    "ratings_file = properties_file_location + \"fairbook_ratings.csv\" # the ratings file\n",
    "ratings_with_properties = pd.read_csv(ratings_file, index_col=0, header=0, low_memory=False).fillna(\"\")"
   ]
  },
  {
   "cell_type": "code",
   "execution_count": 8,
   "id": "3cc4fbe6",
   "metadata": {},
   "outputs": [
    {
     "data": {
      "text/html": [
       "<div>\n",
       "<style scoped>\n",
       "    .dataframe tbody tr th:only-of-type {\n",
       "        vertical-align: middle;\n",
       "    }\n",
       "\n",
       "    .dataframe tbody tr th {\n",
       "        vertical-align: top;\n",
       "    }\n",
       "\n",
       "    .dataframe thead th {\n",
       "        text-align: right;\n",
       "    }\n",
       "</style>\n",
       "<table border=\"1\" class=\"dataframe\">\n",
       "  <thead>\n",
       "    <tr style=\"text-align: right;\">\n",
       "      <th></th>\n",
       "      <th>User-ID</th>\n",
       "      <th>ISBN</th>\n",
       "      <th>Book-Rating</th>\n",
       "      <th>QID</th>\n",
       "      <th>viaf_id</th>\n",
       "      <th>sexuality</th>\n",
       "      <th>country</th>\n",
       "      <th>language</th>\n",
       "      <th>religion</th>\n",
       "      <th>gender</th>\n",
       "      <th>ethnicity</th>\n",
       "      <th>birthyear</th>\n",
       "      <th>deathyear</th>\n",
       "      <th>title</th>\n",
       "      <th>author</th>\n",
       "      <th>year</th>\n",
       "      <th>publisher</th>\n",
       "    </tr>\n",
       "  </thead>\n",
       "  <tbody>\n",
       "    <tr>\n",
       "      <th>0</th>\n",
       "      <td>276847</td>\n",
       "      <td>3426029553</td>\n",
       "      <td>8</td>\n",
       "      <td></td>\n",
       "      <td></td>\n",
       "      <td></td>\n",
       "      <td></td>\n",
       "      <td></td>\n",
       "      <td></td>\n",
       "      <td></td>\n",
       "      <td></td>\n",
       "      <td></td>\n",
       "      <td></td>\n",
       "      <td></td>\n",
       "      <td></td>\n",
       "      <td></td>\n",
       "      <td></td>\n",
       "    </tr>\n",
       "    <tr>\n",
       "      <th>1</th>\n",
       "      <td>276847</td>\n",
       "      <td>3551551677</td>\n",
       "      <td>10</td>\n",
       "      <td>Q34660</td>\n",
       "      <td>116796842</td>\n",
       "      <td></td>\n",
       "      <td>United Kingdom</td>\n",
       "      <td>English</td>\n",
       "      <td>Anglicanism</td>\n",
       "      <td>female</td>\n",
       "      <td>English people</td>\n",
       "      <td>1965.0</td>\n",
       "      <td></td>\n",
       "      <td>Harry Potter und der Stein der Weisen</td>\n",
       "      <td>Joanne K. Rowling</td>\n",
       "      <td>1999.0</td>\n",
       "      <td>Carlsen Verlag GmbH</td>\n",
       "    </tr>\n",
       "    <tr>\n",
       "      <th>2</th>\n",
       "      <td>276847</td>\n",
       "      <td>3551551685</td>\n",
       "      <td>10</td>\n",
       "      <td>Q34660</td>\n",
       "      <td>116796842</td>\n",
       "      <td></td>\n",
       "      <td>United Kingdom</td>\n",
       "      <td>English</td>\n",
       "      <td>Anglicanism</td>\n",
       "      <td>female</td>\n",
       "      <td>English people</td>\n",
       "      <td>1965.0</td>\n",
       "      <td></td>\n",
       "      <td>Harry Potter und die Kammer des Schreckens</td>\n",
       "      <td>Joanne K. Rowling</td>\n",
       "      <td>2000.0</td>\n",
       "      <td>Carlsen Verlag GmbH</td>\n",
       "    </tr>\n",
       "    <tr>\n",
       "      <th>3</th>\n",
       "      <td>276847</td>\n",
       "      <td>3551551693</td>\n",
       "      <td>10</td>\n",
       "      <td>Q34660</td>\n",
       "      <td>116796842</td>\n",
       "      <td></td>\n",
       "      <td>United Kingdom</td>\n",
       "      <td>English</td>\n",
       "      <td>Anglicanism</td>\n",
       "      <td>female</td>\n",
       "      <td>English people</td>\n",
       "      <td>1965.0</td>\n",
       "      <td></td>\n",
       "      <td>Harry Potter und der Gefangene von Azkaban</td>\n",
       "      <td>J. K. Rowling</td>\n",
       "      <td>1999.0</td>\n",
       "      <td>Carlsen Verlag GmbH</td>\n",
       "    </tr>\n",
       "    <tr>\n",
       "      <th>4</th>\n",
       "      <td>276847</td>\n",
       "      <td>3551551936</td>\n",
       "      <td>10</td>\n",
       "      <td>Q34660</td>\n",
       "      <td>116796842</td>\n",
       "      <td></td>\n",
       "      <td>United Kingdom</td>\n",
       "      <td>English</td>\n",
       "      <td>Anglicanism</td>\n",
       "      <td>female</td>\n",
       "      <td>English people</td>\n",
       "      <td>1965.0</td>\n",
       "      <td></td>\n",
       "      <td>Harry Potter Und Der Feuerkelch</td>\n",
       "      <td>Joanne K. Rowling</td>\n",
       "      <td>1999.0</td>\n",
       "      <td>Carlsen Verlag GmbH</td>\n",
       "    </tr>\n",
       "  </tbody>\n",
       "</table>\n",
       "</div>"
      ],
      "text/plain": [
       "   User-ID        ISBN  Book-Rating     QID    viaf_id sexuality  \\\n",
       "0   276847  3426029553            8                                \n",
       "1   276847  3551551677           10  Q34660  116796842             \n",
       "2   276847  3551551685           10  Q34660  116796842             \n",
       "3   276847  3551551693           10  Q34660  116796842             \n",
       "4   276847  3551551936           10  Q34660  116796842             \n",
       "\n",
       "          country language     religion  gender       ethnicity birthyear  \\\n",
       "0                                                                           \n",
       "1  United Kingdom  English  Anglicanism  female  English people    1965.0   \n",
       "2  United Kingdom  English  Anglicanism  female  English people    1965.0   \n",
       "3  United Kingdom  English  Anglicanism  female  English people    1965.0   \n",
       "4  United Kingdom  English  Anglicanism  female  English people    1965.0   \n",
       "\n",
       "  deathyear                                       title             author  \\\n",
       "0                                                                            \n",
       "1                 Harry Potter und der Stein der Weisen  Joanne K. Rowling   \n",
       "2            Harry Potter und die Kammer des Schreckens  Joanne K. Rowling   \n",
       "3            Harry Potter und der Gefangene von Azkaban      J. K. Rowling   \n",
       "4                       Harry Potter Und Der Feuerkelch  Joanne K. Rowling   \n",
       "\n",
       "     year            publisher  \n",
       "0                               \n",
       "1  1999.0  Carlsen Verlag GmbH  \n",
       "2  2000.0  Carlsen Verlag GmbH  \n",
       "3  1999.0  Carlsen Verlag GmbH  \n",
       "4  1999.0  Carlsen Verlag GmbH  "
      ]
     },
     "execution_count": 8,
     "metadata": {},
     "output_type": "execute_result"
    }
   ],
   "source": [
    "ratings_with_properties.head()"
   ]
  },
  {
   "cell_type": "markdown",
   "id": "a4e037ae",
   "metadata": {},
   "source": [
    "## D. Preprocess data\n",
    "1. Convert book IDs into numbers (needed for Cornac)."
   ]
  },
  {
   "cell_type": "code",
   "execution_count": 9,
   "id": "ae0703a3",
   "metadata": {},
   "outputs": [],
   "source": [
    "mapping_dict = {} # Create a dictionary that maps each ISBN to an integer.\n",
    "i=0\n",
    "for ISBN in ratings_with_properties.ISBN.unique():\n",
    "    mapping_dict[ISBN] = i\n",
    "    i+=1"
   ]
  },
  {
   "cell_type": "code",
   "execution_count": 10,
   "id": "52c588a9",
   "metadata": {},
   "outputs": [],
   "source": [
    "items_with_properties.ISBN = items_with_properties.ISBN.map(lambda x: mapping_dict.get(x,x)) # Map in the books file\n",
    "ratings_with_properties.ISBN = ratings_with_properties.ISBN.map(lambda x: mapping_dict.get(x,x)) # Map in the books file"
   ]
  },
  {
   "cell_type": "code",
   "execution_count": 11,
   "id": "88d9aabf",
   "metadata": {},
   "outputs": [
    {
     "data": {
      "text/html": [
       "<div>\n",
       "<style scoped>\n",
       "    .dataframe tbody tr th:only-of-type {\n",
       "        vertical-align: middle;\n",
       "    }\n",
       "\n",
       "    .dataframe tbody tr th {\n",
       "        vertical-align: top;\n",
       "    }\n",
       "\n",
       "    .dataframe thead th {\n",
       "        text-align: right;\n",
       "    }\n",
       "</style>\n",
       "<table border=\"1\" class=\"dataframe\">\n",
       "  <thead>\n",
       "    <tr style=\"text-align: right;\">\n",
       "      <th></th>\n",
       "      <th>User-ID</th>\n",
       "      <th>ISBN</th>\n",
       "      <th>Book-Rating</th>\n",
       "      <th>QID</th>\n",
       "      <th>viaf_id</th>\n",
       "      <th>sexuality</th>\n",
       "      <th>country</th>\n",
       "      <th>language</th>\n",
       "      <th>religion</th>\n",
       "      <th>gender</th>\n",
       "      <th>ethnicity</th>\n",
       "      <th>birthyear</th>\n",
       "      <th>deathyear</th>\n",
       "      <th>title</th>\n",
       "      <th>author</th>\n",
       "      <th>year</th>\n",
       "      <th>publisher</th>\n",
       "    </tr>\n",
       "  </thead>\n",
       "  <tbody>\n",
       "    <tr>\n",
       "      <th>0</th>\n",
       "      <td>276847</td>\n",
       "      <td>0</td>\n",
       "      <td>8</td>\n",
       "      <td></td>\n",
       "      <td></td>\n",
       "      <td></td>\n",
       "      <td></td>\n",
       "      <td></td>\n",
       "      <td></td>\n",
       "      <td></td>\n",
       "      <td></td>\n",
       "      <td></td>\n",
       "      <td></td>\n",
       "      <td></td>\n",
       "      <td></td>\n",
       "      <td></td>\n",
       "      <td></td>\n",
       "    </tr>\n",
       "    <tr>\n",
       "      <th>1</th>\n",
       "      <td>276847</td>\n",
       "      <td>1</td>\n",
       "      <td>10</td>\n",
       "      <td>Q34660</td>\n",
       "      <td>116796842</td>\n",
       "      <td></td>\n",
       "      <td>United Kingdom</td>\n",
       "      <td>English</td>\n",
       "      <td>Anglicanism</td>\n",
       "      <td>female</td>\n",
       "      <td>English people</td>\n",
       "      <td>1965.0</td>\n",
       "      <td></td>\n",
       "      <td>Harry Potter und der Stein der Weisen</td>\n",
       "      <td>Joanne K. Rowling</td>\n",
       "      <td>1999.0</td>\n",
       "      <td>Carlsen Verlag GmbH</td>\n",
       "    </tr>\n",
       "  </tbody>\n",
       "</table>\n",
       "</div>"
      ],
      "text/plain": [
       "   User-ID  ISBN  Book-Rating     QID    viaf_id sexuality         country  \\\n",
       "0   276847     0            8                                                \n",
       "1   276847     1           10  Q34660  116796842            United Kingdom   \n",
       "\n",
       "  language     religion  gender       ethnicity birthyear deathyear  \\\n",
       "0                                                                     \n",
       "1  English  Anglicanism  female  English people    1965.0             \n",
       "\n",
       "                                   title             author    year  \\\n",
       "0                                                                     \n",
       "1  Harry Potter und der Stein der Weisen  Joanne K. Rowling  1999.0   \n",
       "\n",
       "             publisher  \n",
       "0                       \n",
       "1  Carlsen Verlag GmbH  "
      ]
     },
     "execution_count": 11,
     "metadata": {},
     "output_type": "execute_result"
    }
   ],
   "source": [
    "ratings_with_properties.head(2)"
   ]
  },
  {
   "cell_type": "markdown",
   "id": "b6f4e993",
   "metadata": {},
   "source": [
    "## E. Country analysis"
   ]
  },
  {
   "cell_type": "markdown",
   "id": "eb8c8dd2",
   "metadata": {},
   "source": [
    "First, I am replacing empty gender entries with \"unknown\" and all the non male or female with \"other\"."
   ]
  },
  {
   "cell_type": "code",
   "execution_count": 12,
   "id": "58d8d929",
   "metadata": {},
   "outputs": [],
   "source": [
    "df = ratings_with_properties.copy()\n",
    "df[\"country\"] = df[\"country\"].apply(lambda x: \"unknown\" if x==\"\" else x)"
   ]
  },
  {
   "cell_type": "code",
   "execution_count": 13,
   "id": "a0e9b9f1",
   "metadata": {},
   "outputs": [],
   "source": [
    "most_common_5 = [x[0] for x in Counter(df.country).most_common()[:5]]"
   ]
  },
  {
   "cell_type": "code",
   "execution_count": 14,
   "id": "6a5b047d",
   "metadata": {
    "scrolled": false
   },
   "outputs": [
    {
     "data": {
      "text/plain": [
       "['United States of America',\n",
       " 'United Kingdom',\n",
       " 'unknown',\n",
       " 'Canada',\n",
       " 'Republic of Ireland']"
      ]
     },
     "execution_count": 14,
     "metadata": {},
     "output_type": "execute_result"
    }
   ],
   "source": [
    "most_common_5"
   ]
  },
  {
   "cell_type": "code",
   "execution_count": 15,
   "id": "5d3c9e44",
   "metadata": {},
   "outputs": [],
   "source": [
    "df[\"country\"] = df[\"country\"].apply(lambda x: \"other\" if (x in most_common_5) == False else x)"
   ]
  },
  {
   "cell_type": "markdown",
   "id": "4e0191fe",
   "metadata": {},
   "source": [
    "Here is a plot of the gender distribution within the ratings."
   ]
  },
  {
   "cell_type": "code",
   "execution_count": 16,
   "id": "75731225",
   "metadata": {},
   "outputs": [],
   "source": [
    "colors={'USA':'#1f77b4', \n",
    "        'UK':'#d62728',\n",
    "       \"Ireland\":\"#8c564b\",\n",
    "       \"unknown\":\"#ff7f0e\",\n",
    "       \"Canada\":\"#9467bd\",\n",
    "       \"other\":\"#2ca02c\"}"
   ]
  },
  {
   "cell_type": "code",
   "execution_count": 17,
   "id": "3a8265d4",
   "metadata": {},
   "outputs": [
    {
     "data": {
      "image/png": "[encoded data removed]",
      "text/plain": [
       "<Figure size 432x288 with 1 Axes>"
      ]
     },
     "metadata": {},
     "output_type": "display_data"
    }
   ],
   "source": [
    "fig, ax = plt.subplots()\n",
    "df.country = df.country.replace(\"United States of America\", \"USA\")\n",
    "df.country = df.country.replace(\"United Kingdom\", \"UK\")\n",
    "df.country = df.country.replace(\"Republic of Ireland\", \"Ireland\")\n",
    "df.country.value_counts().plot(kind=\"pie\",autopct='%.2f%%',explode=(0.1, 0.3, 0.4,0.1, 0.5,1.5), shadow=True\n",
    "                                      , startangle=30, \n",
    "                                   colors=[colors[v] for v in df['country'].value_counts().keys()])\n",
    "    \n",
    "fig.tight_layout()\n",
    "#fig.suptitle(\"Gender Distribution\")\n",
    "#fig.show()"
   ]
  },
  {
   "cell_type": "markdown",
   "id": "e94c95ec",
   "metadata": {},
   "source": [
    "## F. Define and calculate gender odds"
   ]
  },
  {
   "cell_type": "markdown",
   "id": "1cfca083",
   "metadata": {},
   "source": [
    "First, I will keep only the relevant columns."
   ]
  },
  {
   "cell_type": "code",
   "execution_count": 18,
   "id": "b29af5f1",
   "metadata": {},
   "outputs": [],
   "source": [
    "df = df[[\"User-ID\", \"ISBN\", \"Book-Rating\", \"country\"]]"
   ]
  },
  {
   "cell_type": "code",
   "execution_count": 19,
   "id": "a9291043",
   "metadata": {
    "scrolled": true
   },
   "outputs": [
    {
     "data": {
      "text/html": [
       "<div>\n",
       "<style scoped>\n",
       "    .dataframe tbody tr th:only-of-type {\n",
       "        vertical-align: middle;\n",
       "    }\n",
       "\n",
       "    .dataframe tbody tr th {\n",
       "        vertical-align: top;\n",
       "    }\n",
       "\n",
       "    .dataframe thead th {\n",
       "        text-align: right;\n",
       "    }\n",
       "</style>\n",
       "<table border=\"1\" class=\"dataframe\">\n",
       "  <thead>\n",
       "    <tr style=\"text-align: right;\">\n",
       "      <th></th>\n",
       "      <th>User-ID</th>\n",
       "      <th>ISBN</th>\n",
       "      <th>Book-Rating</th>\n",
       "      <th>country</th>\n",
       "    </tr>\n",
       "  </thead>\n",
       "  <tbody>\n",
       "    <tr>\n",
       "      <th>0</th>\n",
       "      <td>276847</td>\n",
       "      <td>0</td>\n",
       "      <td>8</td>\n",
       "      <td>unknown</td>\n",
       "    </tr>\n",
       "    <tr>\n",
       "      <th>1</th>\n",
       "      <td>276847</td>\n",
       "      <td>1</td>\n",
       "      <td>10</td>\n",
       "      <td>UK</td>\n",
       "    </tr>\n",
       "    <tr>\n",
       "      <th>2</th>\n",
       "      <td>276847</td>\n",
       "      <td>2</td>\n",
       "      <td>10</td>\n",
       "      <td>UK</td>\n",
       "    </tr>\n",
       "    <tr>\n",
       "      <th>3</th>\n",
       "      <td>276847</td>\n",
       "      <td>3</td>\n",
       "      <td>10</td>\n",
       "      <td>UK</td>\n",
       "    </tr>\n",
       "    <tr>\n",
       "      <th>4</th>\n",
       "      <td>276847</td>\n",
       "      <td>4</td>\n",
       "      <td>10</td>\n",
       "      <td>UK</td>\n",
       "    </tr>\n",
       "  </tbody>\n",
       "</table>\n",
       "</div>"
      ],
      "text/plain": [
       "   User-ID  ISBN  Book-Rating  country\n",
       "0   276847     0            8  unknown\n",
       "1   276847     1           10       UK\n",
       "2   276847     2           10       UK\n",
       "3   276847     3           10       UK\n",
       "4   276847     4           10       UK"
      ]
     },
     "execution_count": 19,
     "metadata": {},
     "output_type": "execute_result"
    }
   ],
   "source": [
    "df.head()"
   ]
  },
  {
   "cell_type": "markdown",
   "id": "e59b02d0",
   "metadata": {},
   "source": [
    "Then, I call a function to calculate the gender distribution per user.\n",
    "\n",
    "The way I do it is by calculating: <br>\n",
    "mw = number of books in profile written by male authors<br>\n",
    "fw = number of books in profile written by female authors<br>\n",
    "tb = number of books in profile <br>\n",
    "\n",
    "<u>So for every user u, I define <i>male_female_difference</i> as:</u>\n",
    "\n",
    "male_female_difference(u) = (mw(u) - fw(u))/tb(u)"
   ]
  },
  {
   "cell_type": "code",
   "execution_count": 20,
   "id": "219d62a8",
   "metadata": {
    "scrolled": true
   },
   "outputs": [
    {
     "name": "stdout",
     "output_type": "stream",
     "text": [
      "Mean ratio_USAs per user: 0.72683\n",
      "Standard deviation of ratio_USAs per user: 0.22096\n",
      "Min ratio_USAs per user: 0.0\n",
      "Max ratio_USAs per user: 1.0\n"
     ]
    }
   ],
   "source": [
    "user_country_dist, num_users = user_country_distribution(df, user_col, split_by,  prnt = True)"
   ]
  },
  {
   "cell_type": "markdown",
   "id": "3b85a427",
   "metadata": {},
   "source": [
    "## G. Plot gender distribution among users "
   ]
  },
  {
   "cell_type": "markdown",
   "id": "7d6b7724",
   "metadata": {},
   "source": [
    "First, I will plot the sorted differences."
   ]
  },
  {
   "cell_type": "code",
   "execution_count": 21,
   "id": "53b5a973",
   "metadata": {},
   "outputs": [
    {
     "data": {
      "image/png": "[encoded data removed]",
      "text/plain": [
       "<Figure size 432x288 with 1 Axes>"
      ]
     },
     "metadata": {
      "needs_background": "light"
     },
     "output_type": "display_data"
    }
   ],
   "source": [
    "plot_country_distribution(user_country_dist.ratio_USA.values)"
   ]
  },
  {
   "cell_type": "code",
   "execution_count": 22,
   "id": "a1edb0a3",
   "metadata": {},
   "outputs": [
    {
     "name": "stdout",
     "output_type": "stream",
     "text": [
      "R-value: 0.011394268611333878\n"
     ]
    },
    {
     "data": {
      "image/png": "[encoded data removed]",
      "text/plain": [
       "<Figure size 432x288 with 1 Axes>"
      ]
     },
     "metadata": {
      "needs_background": "light"
     },
     "output_type": "display_data"
    }
   ],
   "source": [
    "plot_profile_size_vs_USA_ratio(user_country_dist.ratio_USA.values,user_country_dist.num_total.values)"
   ]
  },
  {
   "cell_type": "markdown",
   "id": "266cb748",
   "metadata": {},
   "source": [
    "## H. Divide users"
   ]
  },
  {
   "cell_type": "markdown",
   "id": "fbd6bd0a",
   "metadata": {},
   "source": [
    "First, I will divide the users into low male preference, medium male preference and high male preference."
   ]
  },
  {
   "cell_type": "code",
   "execution_count": 23,
   "id": "8af71c8f",
   "metadata": {},
   "outputs": [],
   "source": [
    "low, med, high = split(user_country_dist, top_fraction_users)"
   ]
  },
  {
   "cell_type": "code",
   "execution_count": 24,
   "id": "0021fc81",
   "metadata": {},
   "outputs": [],
   "source": [
    "low_profile_size, med_profile_size, high_profile_size, low_nr_users, med_nr_users, high_nr_users = calculate_group_characteristics(low, med, high, count_column = \"num_total\", way = \"country\")"
   ]
  },
  {
   "cell_type": "code",
   "execution_count": 25,
   "id": "1705ed23",
   "metadata": {
    "scrolled": true
   },
   "outputs": [
    {
     "name": "stdout",
     "output_type": "stream",
     "text": [
      "Female Oriented: 11.84\n",
      "Diverse: 15.92\n",
      "Male Oriented: 10.04\n"
     ]
    },
    {
     "data": {
      "image/png": "[encoded data removed]",
      "text/plain": [
       "<Figure size 432x288 with 1 Axes>"
      ]
     },
     "metadata": {
      "needs_background": "light"
     },
     "output_type": "display_data"
    }
   ],
   "source": [
    "plot_group_characteristics(low_profile_size, med_profile_size, high_profile_size,analysis_type = \"country\")"
   ]
  },
  {
   "cell_type": "code",
   "execution_count": 26,
   "id": "a79b44d3",
   "metadata": {},
   "outputs": [
    {
     "name": "stdout",
     "output_type": "stream",
     "text": [
      "Female Oriented: 1271\n",
      "Diverse: 3815\n",
      "Male Oriented: 1272\n"
     ]
    },
    {
     "data": {
      "image/png": "[encoded data removed]",
      "text/plain": [
       "<Figure size 432x288 with 1 Axes>"
      ]
     },
     "metadata": {
      "needs_background": "light"
     },
     "output_type": "display_data"
    }
   ],
   "source": [
    "plot_group_characteristics(low_nr_users, med_nr_users, high_nr_users,analysis_type = \"country\", way = \"number of users\")"
   ]
  },
  {
   "cell_type": "code",
   "execution_count": 29,
   "id": "7cf38ad3",
   "metadata": {
    "scrolled": true
   },
   "outputs": [
    {
     "data": {
      "image/png": "[encoded data removed]",
      "text/plain": [
       "<Figure size 432x288 with 1 Axes>"
      ]
     },
     "metadata": {
      "needs_background": "light"
     },
     "output_type": "display_data"
    }
   ],
   "source": [
    "plot_country_distribution(user_country_dist.ratio_USA.values, dividing = [True,top_fraction_users])"
   ]
  },
  {
   "cell_type": "code",
   "execution_count": 33,
   "id": "cc903641",
   "metadata": {},
   "outputs": [
    {
     "data": {
      "text/plain": [
       "(0.3800503568160685, 0.7543475599776553, 0.9908253468407868)"
      ]
     },
     "execution_count": 33,
     "metadata": {},
     "output_type": "execute_result"
    }
   ],
   "source": [
    "low.ratio_USA.mean(), med.ratio_USA.mean(), high.ratio_USA.mean()"
   ]
  },
  {
   "cell_type": "markdown",
   "id": "a0742984",
   "metadata": {},
   "source": [
    "## I. Save Processed Data\n",
    "Now we will save all the files that are needed for training the Recommender Systems and analyzing the results.\n",
    "1. The Female Oriented, Diverse and Male Oriented users.\n",
    "2. \"Mapped\" files."
   ]
  },
  {
   "cell_type": "code",
   "execution_count": 32,
   "id": "b53954f1",
   "metadata": {},
   "outputs": [],
   "source": [
    "low.to_csv(processed_file_location + recommendation_type +\"/low_users\"+addition_3+\".csv\")\n",
    "med.to_csv(processed_file_location +recommendation_type + \"/med_users\"+addition_3+\".csv\")\n",
    "high.to_csv(processed_file_location +recommendation_type + \"/high_users\"+addition_3+\".csv\")"
   ]
  }
 ],
 "metadata": {
  "kernelspec": {
   "display_name": "Python 3 (ipykernel)",
   "language": "python",
   "name": "python3"
  },
  "language_info": {
   "codemirror_mode": {
    "name": "ipython",
    "version": 3
   },
   "file_extension": ".py",
   "mimetype": "text/x-python",
   "name": "python",
   "nbconvert_exporter": "python",
   "pygments_lexer": "ipython3",
   "version": "3.8.12"
  }
 },
 "nbformat": 4,
 "nbformat_minor": 5
}
