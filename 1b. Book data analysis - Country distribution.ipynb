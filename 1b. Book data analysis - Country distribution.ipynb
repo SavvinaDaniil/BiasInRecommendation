{
 "cells": [
  {
   "cell_type": "markdown",
   "id": "d1c99585",
   "metadata": {},
   "source": [
    "# Process\n",
    "In this notebook, we will do a first analysis of properties distribution on the data so that we can use it later on. Code segments taken from <a href = \"https://github.com/rahmanidashti/FairBook\"> Fairbook </a>."
   ]
  },
  {
   "cell_type": "markdown",
   "id": "3307d8bf",
   "metadata": {},
   "source": [
    "## A. Import Libraries"
   ]
  },
  {
   "cell_type": "code",
   "execution_count": 1,
   "id": "37ee5e3d",
   "metadata": {},
   "outputs": [],
   "source": [
    "import warnings\n",
    "warnings.simplefilter(action='ignore', category=FutureWarning)\n",
    "import matplotlib.pyplot as plt\n",
    "import random as rd\n",
    "import pandas as pd\n",
    "import numpy as np\n",
    "from analyze_data import users_and_items, user_country_distribution, calculate_group_characteristics\n",
    "from plots import plot_country_distribution, plot_profile_size_vs_USA_ratio, plot_group_characteristics\n",
    "from split_users import split\n",
    "from collections import Counter"
   ]
  },
  {
   "cell_type": "markdown",
   "id": "ff8162d1",
   "metadata": {},
   "source": [
    "## B. Set hyperparameters\n",
    "There are certain hyperparameters that need to be tuned before the run. "
   ]
  },
  {
   "cell_type": "code",
   "execution_count": 16,
   "id": "7ab54abc",
   "metadata": {},
   "outputs": [],
   "source": [
    "item_col = \"ISBN\" # the item column\n",
    "user_col = \"User-ID\"\n",
    "my_seed = 0 # random_seed\n",
    "split_country_by = \"ratio_USA\"\n",
    "top_fraction_users = 0.2 # the limit for a user to be considered 'High' preference"
   ]
  },
  {
   "cell_type": "code",
   "execution_count": 3,
   "id": "d01c7b4d",
   "metadata": {},
   "outputs": [],
   "source": [
    "rd.seed(my_seed) #seed for random functions\n",
    "np.random.seed(my_seed) #seed for all numpy fuctions"
   ]
  },
  {
   "cell_type": "markdown",
   "id": "37d0e2c3",
   "metadata": {},
   "source": [
    "## C. Read files"
   ]
  },
  {
   "cell_type": "code",
   "execution_count": 4,
   "id": "5959e560",
   "metadata": {},
   "outputs": [],
   "source": [
    "processed_file_location = \"data/processed/\"\n",
    "\n",
    "ratings_file = processed_file_location + \"fairbook_ratings_mapped.csv\" # the ratings file\n",
    "ratings_with_properties = pd.read_csv(ratings_file,  header=0, low_memory=False).fillna(\"\")"
   ]
  },
  {
   "cell_type": "code",
   "execution_count": 5,
   "id": "3cc4fbe6",
   "metadata": {},
   "outputs": [
    {
     "data": {
      "text/html": [
       "<div>\n",
       "<style scoped>\n",
       "    .dataframe tbody tr th:only-of-type {\n",
       "        vertical-align: middle;\n",
       "    }\n",
       "\n",
       "    .dataframe tbody tr th {\n",
       "        vertical-align: top;\n",
       "    }\n",
       "\n",
       "    .dataframe thead th {\n",
       "        text-align: right;\n",
       "    }\n",
       "</style>\n",
       "<table border=\"1\" class=\"dataframe\">\n",
       "  <thead>\n",
       "    <tr style=\"text-align: right;\">\n",
       "      <th></th>\n",
       "      <th>User-ID</th>\n",
       "      <th>ISBN</th>\n",
       "      <th>Book-Rating</th>\n",
       "      <th>title</th>\n",
       "      <th>author</th>\n",
       "      <th>year</th>\n",
       "      <th>publisher</th>\n",
       "      <th>alt_title</th>\n",
       "      <th>alt_author</th>\n",
       "      <th>correct_author</th>\n",
       "      <th>...</th>\n",
       "      <th>QID</th>\n",
       "      <th>sexuality</th>\n",
       "      <th>country</th>\n",
       "      <th>language</th>\n",
       "      <th>religion</th>\n",
       "      <th>gender</th>\n",
       "      <th>ethnicity</th>\n",
       "      <th>birthyear</th>\n",
       "      <th>deathyear</th>\n",
       "      <th>label</th>\n",
       "    </tr>\n",
       "  </thead>\n",
       "  <tbody>\n",
       "    <tr>\n",
       "      <th>0</th>\n",
       "      <td>276847</td>\n",
       "      <td>0</td>\n",
       "      <td>10</td>\n",
       "      <td>Harry Potter und der Stein der Weisen</td>\n",
       "      <td>Joanne K. Rowling</td>\n",
       "      <td>1999.0</td>\n",
       "      <td>Carlsen Verlag GmbH</td>\n",
       "      <td>Harry Potter und der Stein der Weisen</td>\n",
       "      <td>Joanne K. Rowling</td>\n",
       "      <td>Joanne K. Rowling</td>\n",
       "      <td>...</td>\n",
       "      <td>Q34660</td>\n",
       "      <td></td>\n",
       "      <td>United Kingdom</td>\n",
       "      <td>English</td>\n",
       "      <td>Anglicanism</td>\n",
       "      <td>female</td>\n",
       "      <td>English people</td>\n",
       "      <td>1965.0</td>\n",
       "      <td></td>\n",
       "      <td>J. K. Rowling</td>\n",
       "    </tr>\n",
       "    <tr>\n",
       "      <th>1</th>\n",
       "      <td>276847</td>\n",
       "      <td>1</td>\n",
       "      <td>10</td>\n",
       "      <td>Harry Potter und die Kammer des Schreckens</td>\n",
       "      <td>Joanne K. Rowling</td>\n",
       "      <td>2000.0</td>\n",
       "      <td>Carlsen Verlag GmbH</td>\n",
       "      <td>Harry Potter und die Kammer des Schreckens (Ha...</td>\n",
       "      <td>J.K. Rowling</td>\n",
       "      <td>J.K. Rowling</td>\n",
       "      <td>...</td>\n",
       "      <td>Q34660</td>\n",
       "      <td></td>\n",
       "      <td>United Kingdom</td>\n",
       "      <td>English</td>\n",
       "      <td>Anglicanism</td>\n",
       "      <td>female</td>\n",
       "      <td>English people</td>\n",
       "      <td>1965.0</td>\n",
       "      <td></td>\n",
       "      <td>J. K. Rowling</td>\n",
       "    </tr>\n",
       "    <tr>\n",
       "      <th>2</th>\n",
       "      <td>276847</td>\n",
       "      <td>2</td>\n",
       "      <td>10</td>\n",
       "      <td>Harry Potter und der Gefangene von Azkaban</td>\n",
       "      <td>J. K. Rowling</td>\n",
       "      <td>1999.0</td>\n",
       "      <td>Carlsen Verlag GmbH</td>\n",
       "      <td>Harry Potter und der Gefangene von Askaban (Ha...</td>\n",
       "      <td>J.K. Rowling</td>\n",
       "      <td>J.K. Rowling</td>\n",
       "      <td>...</td>\n",
       "      <td>Q34660</td>\n",
       "      <td></td>\n",
       "      <td>United Kingdom</td>\n",
       "      <td>English</td>\n",
       "      <td>Anglicanism</td>\n",
       "      <td>female</td>\n",
       "      <td>English people</td>\n",
       "      <td>1965.0</td>\n",
       "      <td></td>\n",
       "      <td>J. K. Rowling</td>\n",
       "    </tr>\n",
       "    <tr>\n",
       "      <th>3</th>\n",
       "      <td>276847</td>\n",
       "      <td>3</td>\n",
       "      <td>10</td>\n",
       "      <td>Harry Potter Und Der Feuerkelch</td>\n",
       "      <td>Joanne K. Rowling</td>\n",
       "      <td>1999.0</td>\n",
       "      <td>Carlsen Verlag GmbH</td>\n",
       "      <td>Harry Potter und der Feuerkelch (Harry Potter 4)</td>\n",
       "      <td>J.K. Rowling</td>\n",
       "      <td>J.K. Rowling</td>\n",
       "      <td>...</td>\n",
       "      <td>Q34660</td>\n",
       "      <td></td>\n",
       "      <td>United Kingdom</td>\n",
       "      <td>English</td>\n",
       "      <td>Anglicanism</td>\n",
       "      <td>female</td>\n",
       "      <td>English people</td>\n",
       "      <td>1965.0</td>\n",
       "      <td></td>\n",
       "      <td>J. K. Rowling</td>\n",
       "    </tr>\n",
       "    <tr>\n",
       "      <th>4</th>\n",
       "      <td>276964</td>\n",
       "      <td>4</td>\n",
       "      <td>10</td>\n",
       "      <td>The Terminal Man</td>\n",
       "      <td>Michael Crichton</td>\n",
       "      <td>1988.0</td>\n",
       "      <td>Ballantine Books</td>\n",
       "      <td>The Terminal Man</td>\n",
       "      <td>Michael Crichton</td>\n",
       "      <td>Michael Crichton</td>\n",
       "      <td>...</td>\n",
       "      <td>Q172140</td>\n",
       "      <td></td>\n",
       "      <td>United States of America</td>\n",
       "      <td></td>\n",
       "      <td>deism</td>\n",
       "      <td>male</td>\n",
       "      <td></td>\n",
       "      <td>1942.0</td>\n",
       "      <td>2008.0</td>\n",
       "      <td>Michael Crichton</td>\n",
       "    </tr>\n",
       "  </tbody>\n",
       "</table>\n",
       "<p>5 rows × 23 columns</p>\n",
       "</div>"
      ],
      "text/plain": [
       "   User-ID  ISBN  Book-Rating                                       title  \\\n",
       "0   276847     0           10       Harry Potter und der Stein der Weisen   \n",
       "1   276847     1           10  Harry Potter und die Kammer des Schreckens   \n",
       "2   276847     2           10  Harry Potter und der Gefangene von Azkaban   \n",
       "3   276847     3           10             Harry Potter Und Der Feuerkelch   \n",
       "4   276964     4           10                            The Terminal Man   \n",
       "\n",
       "              author    year            publisher  \\\n",
       "0  Joanne K. Rowling  1999.0  Carlsen Verlag GmbH   \n",
       "1  Joanne K. Rowling  2000.0  Carlsen Verlag GmbH   \n",
       "2      J. K. Rowling  1999.0  Carlsen Verlag GmbH   \n",
       "3  Joanne K. Rowling  1999.0  Carlsen Verlag GmbH   \n",
       "4   Michael Crichton  1988.0     Ballantine Books   \n",
       "\n",
       "                                           alt_title         alt_author  \\\n",
       "0              Harry Potter und der Stein der Weisen  Joanne K. Rowling   \n",
       "1  Harry Potter und die Kammer des Schreckens (Ha...       J.K. Rowling   \n",
       "2  Harry Potter und der Gefangene von Askaban (Ha...       J.K. Rowling   \n",
       "3   Harry Potter und der Feuerkelch (Harry Potter 4)       J.K. Rowling   \n",
       "4                                   The Terminal Man   Michael Crichton   \n",
       "\n",
       "      correct_author  ...      QID sexuality                   country  \\\n",
       "0  Joanne K. Rowling  ...   Q34660                      United Kingdom   \n",
       "1       J.K. Rowling  ...   Q34660                      United Kingdom   \n",
       "2       J.K. Rowling  ...   Q34660                      United Kingdom   \n",
       "3       J.K. Rowling  ...   Q34660                      United Kingdom   \n",
       "4   Michael Crichton  ...  Q172140            United States of America   \n",
       "\n",
       "  language     religion  gender       ethnicity birthyear deathyear  \\\n",
       "0  English  Anglicanism  female  English people    1965.0             \n",
       "1  English  Anglicanism  female  English people    1965.0             \n",
       "2  English  Anglicanism  female  English people    1965.0             \n",
       "3  English  Anglicanism  female  English people    1965.0             \n",
       "4                 deism    male                    1942.0    2008.0   \n",
       "\n",
       "              label  \n",
       "0     J. K. Rowling  \n",
       "1     J. K. Rowling  \n",
       "2     J. K. Rowling  \n",
       "3     J. K. Rowling  \n",
       "4  Michael Crichton  \n",
       "\n",
       "[5 rows x 23 columns]"
      ]
     },
     "execution_count": 5,
     "metadata": {},
     "output_type": "execute_result"
    }
   ],
   "source": [
    "ratings_with_properties.head()"
   ]
  },
  {
   "cell_type": "markdown",
   "id": "7c8a7ea1",
   "metadata": {},
   "source": [
    "##  D. Country analysis"
   ]
  },
  {
   "cell_type": "markdown",
   "id": "3f69d135",
   "metadata": {},
   "source": [
    "First, we are replacing any empty country with \"unknown\" and simplifying country names."
   ]
  },
  {
   "cell_type": "code",
   "execution_count": 6,
   "id": "4e307c56",
   "metadata": {},
   "outputs": [],
   "source": [
    "df = ratings_with_properties.copy()\n",
    "df[\"country\"] = df[\"country\"].apply(lambda x: \"unknown\" if x==\"\" else x)\n",
    "# simplify country names\n",
    "df[\"country\"] = df[\"country\"].apply(lambda x: \"USA\" if x==\"United States of America\" else x)\n",
    "df[\"country\"] = df[\"country\"].apply(lambda x: \"UK\" if x==\"United Kingdom\" else x)\n",
    "df[\"country\"] = df[\"country\"].apply(lambda x: \"Ireland\" if x==\"Republic of Ireland\" else x)"
   ]
  },
  {
   "cell_type": "code",
   "execution_count": 7,
   "id": "33a7be80",
   "metadata": {},
   "outputs": [],
   "source": [
    "most_common_5 = [x[0] for x in Counter(df.country).most_common()[:5]] # most common countries for this dataset"
   ]
  },
  {
   "cell_type": "code",
   "execution_count": 8,
   "id": "a89d5b17",
   "metadata": {},
   "outputs": [],
   "source": [
    "df[\"country\"] = df[\"country\"].apply(lambda x: \"other\" if x not in most_common_5 else x)"
   ]
  },
  {
   "cell_type": "markdown",
   "id": "9a9b0f2f",
   "metadata": {},
   "source": [
    "Save this version of the dataset!"
   ]
  },
  {
   "cell_type": "code",
   "execution_count": 9,
   "id": "b0958547",
   "metadata": {},
   "outputs": [],
   "source": [
    "df.to_csv(processed_file_location  +\"/final_fairbook_ratings.csv\", index=False)"
   ]
  },
  {
   "cell_type": "markdown",
   "id": "67285a0e",
   "metadata": {},
   "source": [
    "### D1. Define and calculate country odds"
   ]
  },
  {
   "cell_type": "markdown",
   "id": "763dc522",
   "metadata": {},
   "source": [
    "First, we will keep only the relevant columns."
   ]
  },
  {
   "cell_type": "code",
   "execution_count": 10,
   "id": "c956945a",
   "metadata": {},
   "outputs": [],
   "source": [
    "df_country = df[[user_col, item_col, \"Book-Rating\", \"country\"]]"
   ]
  },
  {
   "cell_type": "code",
   "execution_count": 11,
   "id": "58f936a7",
   "metadata": {},
   "outputs": [
    {
     "data": {
      "text/html": [
       "<div>\n",
       "<style scoped>\n",
       "    .dataframe tbody tr th:only-of-type {\n",
       "        vertical-align: middle;\n",
       "    }\n",
       "\n",
       "    .dataframe tbody tr th {\n",
       "        vertical-align: top;\n",
       "    }\n",
       "\n",
       "    .dataframe thead th {\n",
       "        text-align: right;\n",
       "    }\n",
       "</style>\n",
       "<table border=\"1\" class=\"dataframe\">\n",
       "  <thead>\n",
       "    <tr style=\"text-align: right;\">\n",
       "      <th></th>\n",
       "      <th>User-ID</th>\n",
       "      <th>ISBN</th>\n",
       "      <th>Book-Rating</th>\n",
       "      <th>country</th>\n",
       "    </tr>\n",
       "  </thead>\n",
       "  <tbody>\n",
       "    <tr>\n",
       "      <th>0</th>\n",
       "      <td>276847</td>\n",
       "      <td>0</td>\n",
       "      <td>10</td>\n",
       "      <td>UK</td>\n",
       "    </tr>\n",
       "    <tr>\n",
       "      <th>1</th>\n",
       "      <td>276847</td>\n",
       "      <td>1</td>\n",
       "      <td>10</td>\n",
       "      <td>UK</td>\n",
       "    </tr>\n",
       "    <tr>\n",
       "      <th>2</th>\n",
       "      <td>276847</td>\n",
       "      <td>2</td>\n",
       "      <td>10</td>\n",
       "      <td>UK</td>\n",
       "    </tr>\n",
       "    <tr>\n",
       "      <th>3</th>\n",
       "      <td>276847</td>\n",
       "      <td>3</td>\n",
       "      <td>10</td>\n",
       "      <td>UK</td>\n",
       "    </tr>\n",
       "    <tr>\n",
       "      <th>4</th>\n",
       "      <td>276964</td>\n",
       "      <td>4</td>\n",
       "      <td>10</td>\n",
       "      <td>USA</td>\n",
       "    </tr>\n",
       "  </tbody>\n",
       "</table>\n",
       "</div>"
      ],
      "text/plain": [
       "   User-ID  ISBN  Book-Rating country\n",
       "0   276847     0           10      UK\n",
       "1   276847     1           10      UK\n",
       "2   276847     2           10      UK\n",
       "3   276847     3           10      UK\n",
       "4   276964     4           10     USA"
      ]
     },
     "execution_count": 11,
     "metadata": {},
     "output_type": "execute_result"
    }
   ],
   "source": [
    "df_country.head()"
   ]
  },
  {
   "cell_type": "markdown",
   "id": "47a7668b",
   "metadata": {},
   "source": [
    "Then, we call a function to calculate the country distribution per user.\n",
    "\n",
    "The way we do it is by calculating: <br>\n",
    "nUSA = number of books in profile written by USA citizens<br>\n",
    "tb = number of books in profile <br>\n",
    "\n",
    "<u>So for every user u, we define <i>ratio_USA</i> as:</u>\n",
    "\n",
    "ratio_USA(u) = nUSA(u)/tb(u)\n",
    "\n",
    "<b>Basically the percentage of books written by USA citizens</b>"
   ]
  },
  {
   "cell_type": "code",
   "execution_count": 12,
   "id": "311038f6",
   "metadata": {},
   "outputs": [
    {
     "name": "stdout",
     "output_type": "stream",
     "text": [
      "Mean ratio_USAs per user: 0.73886\n",
      "Standard deviation of ratio_USAs per user: 0.21338\n",
      "Min ratio_USAs per user: 0.0\n",
      "Max ratio_USAs per user: 1.0\n"
     ]
    }
   ],
   "source": [
    "user_country_dist, num_users = user_country_distribution(df_country, user_col, split_country_by,  prnt = True)"
   ]
  },
  {
   "cell_type": "markdown",
   "id": "d86e3e71",
   "metadata": {},
   "source": [
    "### D2. Plot country distribution among users"
   ]
  },
  {
   "cell_type": "markdown",
   "id": "bef3b4fb",
   "metadata": {},
   "source": [
    "First, we will plot the sorted ratios."
   ]
  },
  {
   "cell_type": "code",
   "execution_count": 13,
   "id": "81a94b60",
   "metadata": {
    "scrolled": true
   },
   "outputs": [
    {
     "data": {
      "image/png": "[encoded data removed]",
      "text/plain": [
       "<Figure size 432x288 with 1 Axes>"
      ]
     },
     "metadata": {
      "needs_background": "light"
     },
     "output_type": "display_data"
    }
   ],
   "source": [
    "plot_country_distribution(user_country_dist.ratio_USA.values)"
   ]
  },
  {
   "cell_type": "markdown",
   "id": "5eb58cfb",
   "metadata": {},
   "source": [
    "Then, we will plot if there is a relation between user profile size and ratio of books written by USA citizens in profile."
   ]
  },
  {
   "cell_type": "code",
   "execution_count": 14,
   "id": "790d8150",
   "metadata": {},
   "outputs": [
    {
     "name": "stdout",
     "output_type": "stream",
     "text": [
      "R-value: 0.022143364334910338\n"
     ]
    },
    {
     "data": {
      "image/png": "[encoded data removed]",
      "text/plain": [
       "<Figure size 432x288 with 1 Axes>"
      ]
     },
     "metadata": {
      "needs_background": "light"
     },
     "output_type": "display_data"
    }
   ],
   "source": [
    "plot_profile_size_vs_USA_ratio(user_country_dist.ratio_USA.values,user_country_dist.num_total.values)"
   ]
  },
  {
   "cell_type": "markdown",
   "id": "8611d62d",
   "metadata": {},
   "source": [
    "### D3. Divide users based on country distribution"
   ]
  },
  {
   "cell_type": "markdown",
   "id": "9e8e9447",
   "metadata": {},
   "source": [
    "First, we will divide the users into low USA preference, medium USA preference, and high USA preference."
   ]
  },
  {
   "cell_type": "code",
   "execution_count": 17,
   "id": "a791230a",
   "metadata": {},
   "outputs": [],
   "source": [
    "low_Up, med_Up, high_Up = split(user_country_dist, top_fraction_users)"
   ]
  },
  {
   "cell_type": "markdown",
   "id": "3fb822e4",
   "metadata": {},
   "source": [
    "Then, we will calculate the characteristics of each group."
   ]
  },
  {
   "cell_type": "code",
   "execution_count": 18,
   "id": "4f6586a8",
   "metadata": {},
   "outputs": [],
   "source": [
    "low_profile_size, med_profile_size, high_profile_size, low_nr_users, med_nr_users, high_nr_users = calculate_group_characteristics(low_Up, med_Up, high_Up, count_column = \"num_total\", way = \"country\")"
   ]
  },
  {
   "cell_type": "code",
   "execution_count": 19,
   "id": "8c783f2b",
   "metadata": {},
   "outputs": [
    {
     "name": "stdout",
     "output_type": "stream",
     "text": [
      "low USA Oriented: 11.31\n",
      "mid USA Oriented: 15.76\n",
      "USA Oriented: 9.36\n"
     ]
    },
    {
     "data": {
      "image/png": "[encoded data removed]",
      "text/plain": [
       "<Figure size 432x288 with 1 Axes>"
      ]
     },
     "metadata": {
      "needs_background": "light"
     },
     "output_type": "display_data"
    }
   ],
   "source": [
    "plot_group_characteristics(low_profile_size, med_profile_size, high_profile_size,analysis_type = \"country\")"
   ]
  },
  {
   "cell_type": "code",
   "execution_count": 20,
   "id": "fc3962e8",
   "metadata": {},
   "outputs": [
    {
     "name": "stdout",
     "output_type": "stream",
     "text": [
      "low USA Oriented: 1270\n",
      "mid USA Oriented: 3813\n",
      "USA Oriented: 1271\n"
     ]
    },
    {
     "data": {
      "image/png": "[encoded data removed]",
      "text/plain": [
       "<Figure size 432x288 with 1 Axes>"
      ]
     },
     "metadata": {
      "needs_background": "light"
     },
     "output_type": "display_data"
    }
   ],
   "source": [
    "plot_group_characteristics(low_nr_users, med_nr_users, high_nr_users,analysis_type = \"country\", way = \"number of users\")"
   ]
  },
  {
   "cell_type": "code",
   "execution_count": 21,
   "id": "2eda9702",
   "metadata": {},
   "outputs": [
    {
     "name": "stdout",
     "output_type": "stream",
     "text": [
      "low USA Oriented: 0.41\n",
      "mid USA Oriented: 0.76\n",
      "USA Oriented: 0.99\n"
     ]
    },
    {
     "data": {
      "image/png": "[encoded data removed]",
      "text/plain": [
       "<Figure size 432x288 with 1 Axes>"
      ]
     },
     "metadata": {
      "needs_background": "light"
     },
     "output_type": "display_data"
    }
   ],
   "source": [
    "low_Up_ave = low_Up.ratio_USA.mean()\n",
    "med_Up_ave = med_Up.ratio_USA.mean()\n",
    "high_Up_ave = high_Up.ratio_USA.mean()\n",
    "plot_group_characteristics(low_Up_ave, med_Up_ave, high_Up_ave,analysis_type = \"country\", way = \"specific metric\")"
   ]
  },
  {
   "cell_type": "markdown",
   "id": "5670ad15",
   "metadata": {},
   "source": [
    "## E. Save processed data"
   ]
  },
  {
   "cell_type": "code",
   "execution_count": 23,
   "id": "2e25b4bd",
   "metadata": {},
   "outputs": [],
   "source": [
    "low_Up.to_csv(processed_file_location +\"/low_users_USA.csv\")\n",
    "med_Up.to_csv(processed_file_location  + \"/med_users_USA.csv\")\n",
    "high_Up.to_csv(processed_file_location  + \"/high_users_USA.csv\")"
   ]
  }
 ],
 "metadata": {
  "kernelspec": {
   "display_name": "Python 3 (ipykernel)",
   "language": "python",
   "name": "python3"
  },
  "language_info": {
   "codemirror_mode": {
    "name": "ipython",
    "version": 3
   },
   "file_extension": ".py",
   "mimetype": "text/x-python",
   "name": "python",
   "nbconvert_exporter": "python",
   "pygments_lexer": "ipython3",
   "version": "3.9.12"
  }
 },
 "nbformat": 4,
 "nbformat_minor": 5
}
