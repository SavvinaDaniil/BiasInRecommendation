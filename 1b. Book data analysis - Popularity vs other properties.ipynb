{
 "cells": [
  {
   "cell_type": "markdown",
   "id": "3358a1a5",
   "metadata": {},
   "source": [
    "# Process\n",
    "In this notebook, I will check whether other properties relate with popularity in the data."
   ]
  },
  {
   "cell_type": "markdown",
   "id": "58fb08c9",
   "metadata": {},
   "source": [
    "# A. Import Libraries"
   ]
  },
  {
   "cell_type": "code",
   "execution_count": 51,
   "id": "65134579",
   "metadata": {},
   "outputs": [],
   "source": [
    "import warnings\n",
    "warnings.simplefilter(action='ignore', category=FutureWarning)\n",
    "import matplotlib.pyplot as plt\n",
    "import random as rd\n",
    "import pandas as pd\n",
    "import numpy as np\n",
    "from split_users import split\n",
    "from collections import Counter"
   ]
  },
  {
   "cell_type": "markdown",
   "id": "16ae1d21",
   "metadata": {},
   "source": [
    "# B. Set hyperparameters\n",
    "There are certain hyperparameters that need to be tuned before the run. "
   ]
  },
  {
   "cell_type": "code",
   "execution_count": 52,
   "id": "34a33d59",
   "metadata": {},
   "outputs": [],
   "source": [
    "item_threshold = 5 # remove users with less than item_threshold items\n",
    "user_threshold = 5 # remove items with less than user_threshold users\n",
    "top_threshold = 200 # remove users who have rated more than top_threshold items\n",
    "recommendation_type = \"books\" # books, music or movies\n",
    "item_col = \"ISBN\" # the item column\n",
    "user_col = \"User-ID\"\n",
    "my_seed = 0 # random_seed\n",
    "top_fraction_users = 0.2# the limit for a user to be considered High Preference\n",
    "top_fraction_items = 0.2\n",
    "split_popularity_by = \"pop_fraq\"\n",
    "split_gender_by = \"male_female_difference\" \n",
    "split_country_by = \"ratio_USA\""
   ]
  },
  {
   "cell_type": "markdown",
   "id": "40cab4cb",
   "metadata": {},
   "source": [
    "These additions will be useful so we can save the different files (plots and processed data) with clarity on the hyperparameters."
   ]
  },
  {
   "cell_type": "code",
   "execution_count": 53,
   "id": "65808d98",
   "metadata": {},
   "outputs": [],
   "source": [
    "addition_1 = \"_u\"+str(item_threshold)+\"_i\"+str(user_threshold)+\"_t\"+str(top_threshold)\n",
    "addition_2 = addition_1 + \"_tfi\"+str(int(100*top_fraction_items))\n",
    "addition_3 = addition_2 + \"_tfu\"+str(int(100*top_fraction_users))\n",
    "addition_4 = addition_3 + (\"_sbpf\" if (split_popularity_by==\"pop_fraq\") else \"_sbpif\")\n",
    "addition_gender = addition_1 + \"_tfu\"+str(int(100*top_fraction_users))+  \"_mfd\"\n",
    "addition_country = addition_1 + \"_tfu\"+str(int(100*top_fraction_users))+ \"_USAr\""
   ]
  },
  {
   "cell_type": "code",
   "execution_count": 54,
   "id": "5fa5d3cf",
   "metadata": {},
   "outputs": [],
   "source": [
    "rd.seed(my_seed) #seed for random functions\n",
    "np.random.seed(my_seed) #seed for all numpy fuctions"
   ]
  },
  {
   "cell_type": "markdown",
   "id": "ac18d58f",
   "metadata": {},
   "source": [
    "# C. Read files"
   ]
  },
  {
   "cell_type": "code",
   "execution_count": 55,
   "id": "e541fd21",
   "metadata": {},
   "outputs": [],
   "source": [
    "processed_file_location = \"data/processed/\" # here we store the processed data files"
   ]
  },
  {
   "cell_type": "markdown",
   "id": "5dddadfb",
   "metadata": {},
   "source": [
    "### Gender"
   ]
  },
  {
   "cell_type": "code",
   "execution_count": 56,
   "id": "20140282",
   "metadata": {},
   "outputs": [],
   "source": [
    "low_mp = pd.read_csv(processed_file_location + recommendation_type +\"/low_users\"+addition_gender+\".csv\", index_col=0, header=0, low_memory=False).fillna(\"\")\n",
    "med_mp = pd.read_csv(processed_file_location + recommendation_type +\"/med_users\"+addition_gender+\".csv\", index_col=0, header=0, low_memory=False).fillna(\"\")\n",
    "high_mp = pd.read_csv(processed_file_location + recommendation_type +\"/high_users\"+addition_gender+\".csv\", index_col=0, header=0, low_memory=False).fillna(\"\")\n"
   ]
  },
  {
   "cell_type": "markdown",
   "id": "757234c1",
   "metadata": {},
   "source": [
    "### Country"
   ]
  },
  {
   "cell_type": "code",
   "execution_count": 57,
   "id": "2f462eb4",
   "metadata": {},
   "outputs": [],
   "source": [
    "low_Up = pd.read_csv(processed_file_location + recommendation_type +\"/low_users\"+addition_country+\".csv\", index_col=0, header=0, low_memory=False).fillna(\"\")\n",
    "med_Up = pd.read_csv(processed_file_location + recommendation_type +\"/med_users\"+addition_country+\".csv\", index_col=0, header=0, low_memory=False).fillna(\"\")\n",
    "high_Up = pd.read_csv(processed_file_location + recommendation_type +\"/high_users\"+addition_country+\".csv\", index_col=0, header=0, low_memory=False).fillna(\"\")\n"
   ]
  },
  {
   "cell_type": "markdown",
   "id": "d7725ec2",
   "metadata": {},
   "source": [
    "### Popularity"
   ]
  },
  {
   "cell_type": "code",
   "execution_count": 58,
   "id": "bc6b6fa4",
   "metadata": {},
   "outputs": [],
   "source": [
    "df_item_dist= pd.read_csv(processed_file_location +recommendation_type + \"/item_pop_dist\"+addition_1+\".csv\", index_col=0)"
   ]
  },
  {
   "cell_type": "code",
   "execution_count": 59,
   "id": "ae5aed03",
   "metadata": {},
   "outputs": [],
   "source": [
    "low_popularity = pd.read_csv(processed_file_location + recommendation_type +\"/low_users\"+addition_4+\".csv\", index_col=0)\n",
    "med_popularity = pd.read_csv(processed_file_location + recommendation_type +\"/med_users\"+addition_4+\".csv\", index_col=0)\n",
    "high_popularity = pd.read_csv(processed_file_location + recommendation_type +\"/high_users\"+addition_4+\".csv\", index_col=0)"
   ]
  },
  {
   "cell_type": "markdown",
   "id": "649256a6",
   "metadata": {},
   "source": [
    "### Mapped ratings"
   ]
  },
  {
   "cell_type": "code",
   "execution_count": 60,
   "id": "04d476ea",
   "metadata": {},
   "outputs": [],
   "source": [
    "mapped_ratings_with_properties = pd.read_csv(\"https://raw.githubusercontent.com/SavvinaDaniil/BiasInRecommendation/main/data/processed/books/mapped_ratings_with_properties.csv\", index_col=0)"
   ]
  },
  {
   "cell_type": "code",
   "execution_count": 61,
   "id": "64c5e124",
   "metadata": {},
   "outputs": [],
   "source": [
    "gender_dict = {}\n",
    "country_dict = {}\n",
    "for isbn in mapped_ratings_with_properties.ISBN.unique():\n",
    "    gender_dict[isbn] = mapped_ratings_with_properties.gender[mapped_ratings_with_properties.ISBN == isbn].iloc[0]\n",
    "    country_dict[isbn] = mapped_ratings_with_properties.country[mapped_ratings_with_properties.ISBN == isbn].iloc[0]"
   ]
  },
  {
   "cell_type": "markdown",
   "id": "2b456180",
   "metadata": {},
   "source": [
    "# D. Compare properties with 'popular' items"
   ]
  },
  {
   "cell_type": "code",
   "execution_count": 62,
   "id": "f49d7113",
   "metadata": {},
   "outputs": [],
   "source": [
    "df_item_dist[\"gender\"] = \"\"\n",
    "df_item_dist[\"country\"] = \"\"\n",
    "\n",
    "for index, row in df_item_dist.iterrows():\n",
    "    gender = gender_dict[index]\n",
    "    country = country_dict[index]\n",
    "    df_item_dist.at[index, \"gender\"] = gender\n",
    "    df_item_dist.at[index, \"country\"] = country"
   ]
  },
  {
   "cell_type": "code",
   "execution_count": 63,
   "id": "e0ce11ce",
   "metadata": {},
   "outputs": [],
   "source": [
    "num_pop_items = int(top_fraction_items * len(df_item_dist))\n"
   ]
  },
  {
   "cell_type": "markdown",
   "id": "f263bab9",
   "metadata": {},
   "source": [
    "The items that are considered popular:"
   ]
  },
  {
   "cell_type": "code",
   "execution_count": 64,
   "id": "772c0cc6",
   "metadata": {},
   "outputs": [],
   "source": [
    "pop_item_dist = df_item_dist.iloc[:num_pop_items]"
   ]
  },
  {
   "cell_type": "markdown",
   "id": "d3220848",
   "metadata": {},
   "source": [
    "### D1. Gender"
   ]
  },
  {
   "cell_type": "code",
   "execution_count": 65,
   "id": "33d08e11",
   "metadata": {},
   "outputs": [
    {
     "data": {
      "image/png": "[encoded data removed]",
      "text/plain": [
       "<Figure size 432x288 with 1 Axes>"
      ]
     },
     "metadata": {},
     "output_type": "display_data"
    }
   ],
   "source": [
    "fig, ax = plt.subplots()\n",
    "pop_item_dist.gender.value_counts().plot(kind=\"pie\",autopct='%.2f%%', shadow=True\n",
    "                                      , startangle=30)\n",
    "ax.tick_params(labelrotation=0)\n",
    "ax.title.set_text(\"Gender Distribution in popular items\")\n",
    "fig.tight_layout()"
   ]
  },
  {
   "cell_type": "markdown",
   "id": "c3b47319",
   "metadata": {},
   "source": [
    "### D2. Country"
   ]
  },
  {
   "cell_type": "code",
   "execution_count": 66,
   "id": "97613cc6",
   "metadata": {},
   "outputs": [
    {
     "data": {
      "image/png": "[encoded data removed]",
      "text/plain": [
       "<Figure size 432x288 with 1 Axes>"
      ]
     },
     "metadata": {},
     "output_type": "display_data"
    }
   ],
   "source": [
    "fig, ax = plt.subplots()\n",
    "pop_item_dist.country.value_counts().plot(kind=\"pie\",autopct='%.2f%%', shadow=True\n",
    "                                      , startangle=30)\n",
    "ax.tick_params(labelrotation=0)\n",
    "ax.title.set_text(\"Gender Distribution in popular items\")\n",
    "fig.tight_layout()"
   ]
  },
  {
   "cell_type": "markdown",
   "id": "0d56670b",
   "metadata": {},
   "source": [
    "# E. Compare properties with average popularity"
   ]
  },
  {
   "cell_type": "markdown",
   "id": "8d5d03db",
   "metadata": {},
   "source": [
    "# F. Analyze properties for every popularity user group"
   ]
  },
  {
   "cell_type": "code",
   "execution_count": 71,
   "id": "d046e11a",
   "metadata": {},
   "outputs": [],
   "source": [
    "full_gender_df = pd.concat([low_mp, med_mp, high_mp])\n",
    "full_country_df = pd.concat([low_Up, med_Up, high_Up])"
   ]
  },
  {
   "cell_type": "code",
   "execution_count": 72,
   "id": "13c2836c",
   "metadata": {},
   "outputs": [],
   "source": [
    "low_popularity[\"male_female_difference\"] = \"\"\n",
    "low_popularity[\"ratio_USA\"] = \"\"\n",
    "med_popularity[\"male_female_difference\"] = \"\"\n",
    "med_popularity[\"ratio_USA\"] = \"\"\n",
    "high_popularity[\"male_female_difference\"] = \"\"\n",
    "high_popularity[\"ratio_USA\"] = \"\""
   ]
  },
  {
   "cell_type": "code",
   "execution_count": 74,
   "id": "ba2c695d",
   "metadata": {},
   "outputs": [],
   "source": [
    "for index, row in low_popularity.iterrows():\n",
    "    mfd = full_gender_df.loc[index].male_female_difference\n",
    "    rU = full_country_df.loc[index].ratio_USA\n",
    "    \n",
    "    low_popularity.at[index, \"male_female_difference\"] = mfd\n",
    "    low_popularity.at[index, \"ratio_USA\"] = rU"
   ]
  },
  {
   "cell_type": "code",
   "execution_count": 77,
   "id": "e547748b",
   "metadata": {},
   "outputs": [],
   "source": [
    "for index, row in high_popularity.iterrows():\n",
    "    mfd = full_gender_df.loc[index].male_female_difference\n",
    "    rU = full_country_df.loc[index].ratio_USA\n",
    "    \n",
    "    high_popularity.at[index, \"male_female_difference\"] = mfd\n",
    "    high_popularity.at[index, \"ratio_USA\"] = rU"
   ]
  },
  {
   "cell_type": "markdown",
   "id": "8ec8fd46",
   "metadata": {},
   "source": [
    "Let's see!"
   ]
  },
  {
   "cell_type": "code",
   "execution_count": 79,
   "id": "7f5c525c",
   "metadata": {},
   "outputs": [
    {
     "data": {
      "text/plain": [
       "(0.029160211348427428, 0.06981698040184661, 0.04293495015522866)"
      ]
     },
     "execution_count": 79,
     "metadata": {},
     "output_type": "execute_result"
    }
   ],
   "source": [
    "low_popularity.male_female_difference.mean(),med_popularity.male_female_difference.mean(),high_popularity.male_female_difference.mean()"
   ]
  },
  {
   "cell_type": "code",
   "execution_count": 80,
   "id": "5007e99a",
   "metadata": {},
   "outputs": [
    {
     "data": {
      "text/plain": [
       "(0.673242689815528, 0.7256530296476071, 0.7839245433556618)"
      ]
     },
     "execution_count": 80,
     "metadata": {},
     "output_type": "execute_result"
    }
   ],
   "source": [
    "low_popularity.ratio_USA.mean(),med_popularity.ratio_USA.mean(),high_popularity.ratio_USA.mean()"
   ]
  },
  {
   "cell_type": "code",
   "execution_count": null,
   "id": "21e93ccd",
   "metadata": {},
   "outputs": [],
   "source": []
  }
 ],
 "metadata": {
  "kernelspec": {
   "display_name": "Python 3 (ipykernel)",
   "language": "python",
   "name": "python3"
  },
  "language_info": {
   "codemirror_mode": {
    "name": "ipython",
    "version": 3
   },
   "file_extension": ".py",
   "mimetype": "text/x-python",
   "name": "python",
   "nbconvert_exporter": "python",
   "pygments_lexer": "ipython3",
   "version": "3.8.12"
  }
 },
 "nbformat": 4,
 "nbformat_minor": 5
}
