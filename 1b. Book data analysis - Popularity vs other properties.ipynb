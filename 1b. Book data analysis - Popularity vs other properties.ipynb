{
 "cells": [
  {
   "cell_type": "markdown",
   "id": "3358a1a5",
   "metadata": {},
   "source": [
    "# Process\n",
    "In this notebook, I will check whether other properties relate with popularity in the data."
   ]
  },
  {
   "cell_type": "markdown",
   "id": "58fb08c9",
   "metadata": {},
   "source": [
    "# A. Import Libraries"
   ]
  },
  {
   "cell_type": "code",
   "execution_count": 18,
   "id": "65134579",
   "metadata": {},
   "outputs": [],
   "source": [
    "import warnings\n",
    "warnings.simplefilter(action='ignore', category=FutureWarning)\n",
    "import matplotlib.pyplot as plt\n",
    "import random as rd\n",
    "import pandas as pd\n",
    "import numpy as np\n",
    "from split_users import split\n",
    "from collections import Counter\n",
    "from scipy import stats"
   ]
  },
  {
   "cell_type": "markdown",
   "id": "16ae1d21",
   "metadata": {},
   "source": [
    "# B. Set hyperparameters\n",
    "There are certain hyperparameters that need to be tuned before the run. "
   ]
  },
  {
   "cell_type": "code",
   "execution_count": 19,
   "id": "34a33d59",
   "metadata": {},
   "outputs": [],
   "source": [
    "item_threshold = 5 # remove users with less than item_threshold items\n",
    "user_threshold = 5 # remove items with less than user_threshold users\n",
    "top_threshold = 200 # remove users who have rated more than top_threshold items\n",
    "recommendation_type = \"books\" # books, music or movies\n",
    "item_col = \"ISBN\" # the item column\n",
    "user_col = \"User-ID\"\n",
    "my_seed = 0 # random_seed\n",
    "top_fraction_users = 0.2# the limit for a user to be considered High Preference\n",
    "top_fraction_items = 0.2\n",
    "split_popularity_by = \"pop_fraq\"\n",
    "split_gender_by = \"male_female_difference\" \n",
    "split_country_by = \"ratio_USA\""
   ]
  },
  {
   "cell_type": "markdown",
   "id": "40cab4cb",
   "metadata": {},
   "source": [
    "These additions will be useful so we can save the different files (plots and processed data) with clarity on the hyperparameters."
   ]
  },
  {
   "cell_type": "code",
   "execution_count": 20,
   "id": "65808d98",
   "metadata": {},
   "outputs": [],
   "source": [
    "addition_1 = \"_u\"+str(item_threshold)+\"_i\"+str(user_threshold)+\"_t\"+str(top_threshold)\n",
    "addition_2 = addition_1 + \"_tfi\"+str(int(100*top_fraction_items))\n",
    "addition_3 = addition_2 + \"_tfu\"+str(int(100*top_fraction_users))\n",
    "addition_4 = addition_3 + (\"_sbpf\" if (split_popularity_by==\"pop_fraq\") else \"_sbpif\")\n",
    "addition_gender = addition_1 + \"_tfu\"+str(int(100*top_fraction_users))+  \"_mfd\"\n",
    "addition_country = addition_1 + \"_tfu\"+str(int(100*top_fraction_users))+ \"_USAr\""
   ]
  },
  {
   "cell_type": "code",
   "execution_count": 21,
   "id": "5fa5d3cf",
   "metadata": {},
   "outputs": [],
   "source": [
    "rd.seed(my_seed) #seed for random functions\n",
    "np.random.seed(my_seed) #seed for all numpy fuctions"
   ]
  },
  {
   "cell_type": "markdown",
   "id": "ac18d58f",
   "metadata": {},
   "source": [
    "# C. Read files"
   ]
  },
  {
   "cell_type": "code",
   "execution_count": 22,
   "id": "e541fd21",
   "metadata": {},
   "outputs": [],
   "source": [
    "processed_file_location = \"data/processed/\" # here we store the processed data files"
   ]
  },
  {
   "cell_type": "markdown",
   "id": "5dddadfb",
   "metadata": {},
   "source": [
    "### Gender"
   ]
  },
  {
   "cell_type": "code",
   "execution_count": 23,
   "id": "20140282",
   "metadata": {},
   "outputs": [],
   "source": [
    "low_mp = pd.read_csv(processed_file_location + recommendation_type +\"/low_users\"+addition_gender+\".csv\", index_col=0, header=0, low_memory=False).fillna(\"\")\n",
    "med_mp = pd.read_csv(processed_file_location + recommendation_type +\"/med_users\"+addition_gender+\".csv\", index_col=0, header=0, low_memory=False).fillna(\"\")\n",
    "high_mp = pd.read_csv(processed_file_location + recommendation_type +\"/high_users\"+addition_gender+\".csv\", index_col=0, header=0, low_memory=False).fillna(\"\")\n"
   ]
  },
  {
   "cell_type": "markdown",
   "id": "757234c1",
   "metadata": {},
   "source": [
    "### Country"
   ]
  },
  {
   "cell_type": "code",
   "execution_count": 24,
   "id": "2f462eb4",
   "metadata": {},
   "outputs": [],
   "source": [
    "low_Up = pd.read_csv(processed_file_location + recommendation_type +\"/low_users\"+addition_country+\".csv\", index_col=0, header=0, low_memory=False).fillna(\"\")\n",
    "med_Up = pd.read_csv(processed_file_location + recommendation_type +\"/med_users\"+addition_country+\".csv\", index_col=0, header=0, low_memory=False).fillna(\"\")\n",
    "high_Up = pd.read_csv(processed_file_location + recommendation_type +\"/high_users\"+addition_country+\".csv\", index_col=0, header=0, low_memory=False).fillna(\"\")\n"
   ]
  },
  {
   "cell_type": "markdown",
   "id": "d7725ec2",
   "metadata": {},
   "source": [
    "### Popularity"
   ]
  },
  {
   "cell_type": "code",
   "execution_count": 25,
   "id": "bc6b6fa4",
   "metadata": {},
   "outputs": [],
   "source": [
    "df_item_dist= pd.read_csv(processed_file_location +recommendation_type + \"/item_pop_dist\"+addition_1+\".csv\", index_col=0)"
   ]
  },
  {
   "cell_type": "code",
   "execution_count": 26,
   "id": "ae5aed03",
   "metadata": {},
   "outputs": [],
   "source": [
    "low_popularity = pd.read_csv(processed_file_location + recommendation_type +\"/low_users\"+addition_4+\".csv\", index_col=0)\n",
    "med_popularity = pd.read_csv(processed_file_location + recommendation_type +\"/med_users\"+addition_4+\".csv\", index_col=0)\n",
    "high_popularity = pd.read_csv(processed_file_location + recommendation_type +\"/high_users\"+addition_4+\".csv\", index_col=0)"
   ]
  },
  {
   "cell_type": "markdown",
   "id": "649256a6",
   "metadata": {},
   "source": [
    "### Mapped ratings"
   ]
  },
  {
   "cell_type": "code",
   "execution_count": 27,
   "id": "04d476ea",
   "metadata": {},
   "outputs": [],
   "source": [
    "mapped_ratings_with_properties = pd.read_csv(\"https://raw.githubusercontent.com/SavvinaDaniil/BiasInRecommendation/main/data/processed/books/mapped_ratings_with_properties.csv\", index_col=0)"
   ]
  },
  {
   "cell_type": "code",
   "execution_count": 28,
   "id": "64c5e124",
   "metadata": {},
   "outputs": [],
   "source": [
    "gender_dict = {}\n",
    "country_dict = {}\n",
    "for isbn in mapped_ratings_with_properties.ISBN.unique():\n",
    "    gender_dict[isbn] = mapped_ratings_with_properties.gender[mapped_ratings_with_properties.ISBN == isbn].iloc[0]\n",
    "    country_dict[isbn] = mapped_ratings_with_properties.country[mapped_ratings_with_properties.ISBN == isbn].iloc[0]"
   ]
  },
  {
   "cell_type": "markdown",
   "id": "2b456180",
   "metadata": {},
   "source": [
    "# D. Compare properties with 'popular' items"
   ]
  },
  {
   "cell_type": "code",
   "execution_count": 29,
   "id": "f49d7113",
   "metadata": {},
   "outputs": [],
   "source": [
    "df_item_dist[\"gender\"] = \"\"\n",
    "df_item_dist[\"country\"] = \"\"\n",
    "\n",
    "for index, row in df_item_dist.iterrows():\n",
    "    gender = gender_dict[index]\n",
    "    country = country_dict[index]\n",
    "    df_item_dist.at[index, \"gender\"] = gender\n",
    "    df_item_dist.at[index, \"country\"] = country"
   ]
  },
  {
   "cell_type": "code",
   "execution_count": 30,
   "id": "e0ce11ce",
   "metadata": {},
   "outputs": [],
   "source": [
    "num_pop_items = int(top_fraction_items * len(df_item_dist))\n"
   ]
  },
  {
   "cell_type": "markdown",
   "id": "f263bab9",
   "metadata": {},
   "source": [
    "The items that are considered popular:"
   ]
  },
  {
   "cell_type": "code",
   "execution_count": 31,
   "id": "772c0cc6",
   "metadata": {},
   "outputs": [],
   "source": [
    "pop_item_dist = df_item_dist.iloc[:num_pop_items]"
   ]
  },
  {
   "cell_type": "markdown",
   "id": "d3220848",
   "metadata": {},
   "source": [
    "### D1. Gender"
   ]
  },
  {
   "cell_type": "code",
   "execution_count": 32,
   "id": "33d08e11",
   "metadata": {},
   "outputs": [
    {
     "data": {
      "image/png": "[encoded data removed]",
      "text/plain": [
       "<Figure size 432x288 with 1 Axes>"
      ]
     },
     "metadata": {},
     "output_type": "display_data"
    }
   ],
   "source": [
    "fig, ax = plt.subplots()\n",
    "pop_item_dist.gender.value_counts().plot(kind=\"pie\",autopct='%.2f%%', shadow=True\n",
    "                                      , startangle=30)\n",
    "ax.tick_params(labelrotation=0)\n",
    "ax.title.set_text(\"Gender Distribution in popular items\")\n",
    "fig.tight_layout()"
   ]
  },
  {
   "cell_type": "markdown",
   "id": "c3b47319",
   "metadata": {},
   "source": [
    "### D2. Country"
   ]
  },
  {
   "cell_type": "code",
   "execution_count": 33,
   "id": "97613cc6",
   "metadata": {
    "scrolled": true
   },
   "outputs": [
    {
     "data": {
      "image/png": "[encoded data removed]",
      "text/plain": [
       "<Figure size 432x288 with 1 Axes>"
      ]
     },
     "metadata": {},
     "output_type": "display_data"
    }
   ],
   "source": [
    "fig, ax = plt.subplots()\n",
    "pop_item_dist.country.value_counts().plot(kind=\"pie\",autopct='%.2f%%', shadow=True\n",
    "                                      , startangle=30)\n",
    "ax.tick_params(labelrotation=0)\n",
    "ax.title.set_text(\"Country Distribution in popular items\")\n",
    "fig.tight_layout()"
   ]
  },
  {
   "cell_type": "markdown",
   "id": "effc8635",
   "metadata": {},
   "source": [
    "# E. Compare properties with popularity for items"
   ]
  },
  {
   "cell_type": "markdown",
   "id": "82b39c95",
   "metadata": {},
   "source": [
    "Point biserial correlation"
   ]
  },
  {
   "cell_type": "markdown",
   "id": "77fe8c5d",
   "metadata": {},
   "source": [
    "### E.1 Gender"
   ]
  },
  {
   "cell_type": "code",
   "execution_count": 34,
   "id": "87a5039b",
   "metadata": {},
   "outputs": [],
   "source": [
    "df_item_dist_test = df_item_dist.copy()"
   ]
  },
  {
   "cell_type": "code",
   "execution_count": 35,
   "id": "b734eaed",
   "metadata": {},
   "outputs": [],
   "source": [
    "df_item_dist_test.gender = df_item_dist_test.gender.apply(lambda x: 1 if x == \"male\" else 0)"
   ]
  },
  {
   "cell_type": "code",
   "execution_count": 36,
   "id": "f8574b93",
   "metadata": {
    "scrolled": true
   },
   "outputs": [
    {
     "data": {
      "text/plain": [
       "PointbiserialrResult(correlation=0.02858858067481108, pvalue=0.017387322049614615)"
      ]
     },
     "execution_count": 36,
     "metadata": {},
     "output_type": "execute_result"
    }
   ],
   "source": [
    "stats.pointbiserialr(df_item_dist_test.gender.values, df_item_dist_test[\"count\"].values)"
   ]
  },
  {
   "cell_type": "markdown",
   "id": "45d0cd24",
   "metadata": {},
   "source": [
    "### E.2 Country"
   ]
  },
  {
   "cell_type": "code",
   "execution_count": 37,
   "id": "5c60f8f1",
   "metadata": {},
   "outputs": [],
   "source": [
    "df_item_dist_test = df_item_dist.copy()"
   ]
  },
  {
   "cell_type": "code",
   "execution_count": 38,
   "id": "291131a4",
   "metadata": {},
   "outputs": [],
   "source": [
    "df_item_dist_test.country = df_item_dist_test.country.apply(lambda x: 1 if x == \"USA\" else 0)"
   ]
  },
  {
   "cell_type": "code",
   "execution_count": 39,
   "id": "79d08312",
   "metadata": {},
   "outputs": [
    {
     "data": {
      "text/plain": [
       "PointbiserialrResult(correlation=0.0935562786416678, pvalue=6.245466526952818e-15)"
      ]
     },
     "execution_count": 39,
     "metadata": {},
     "output_type": "execute_result"
    }
   ],
   "source": [
    "stats.pointbiserialr(df_item_dist_test.country.values, df_item_dist_test[\"count\"].values)"
   ]
  },
  {
   "cell_type": "markdown",
   "id": "0d56670b",
   "metadata": {},
   "source": [
    "# E. Compare properties with average popularity for users"
   ]
  },
  {
   "cell_type": "code",
   "execution_count": 40,
   "id": "ac9b6206",
   "metadata": {},
   "outputs": [],
   "source": [
    "full_gender_df = pd.concat([low_mp, med_mp, high_mp])\n",
    "full_country_df = pd.concat([low_Up, med_Up, high_Up])\n",
    "full_pop_df = pd.concat([low_popularity, med_popularity, high_popularity])"
   ]
  },
  {
   "cell_type": "code",
   "execution_count": 41,
   "id": "9b9e443a",
   "metadata": {
    "scrolled": true
   },
   "outputs": [],
   "source": [
    "final_df = pd.merge(pd.merge(full_gender_df.male_female_difference, full_country_df.ratio_USA, left_index=True, right_index=True), full_pop_df, left_index=True, right_index=True)"
   ]
  },
  {
   "cell_type": "code",
   "execution_count": 42,
   "id": "7c3d4434",
   "metadata": {},
   "outputs": [
    {
     "data": {
      "text/html": [
       "<div>\n",
       "<style scoped>\n",
       "    .dataframe tbody tr th:only-of-type {\n",
       "        vertical-align: middle;\n",
       "    }\n",
       "\n",
       "    .dataframe tbody tr th {\n",
       "        vertical-align: top;\n",
       "    }\n",
       "\n",
       "    .dataframe thead th {\n",
       "        text-align: right;\n",
       "    }\n",
       "</style>\n",
       "<table border=\"1\" class=\"dataframe\">\n",
       "  <thead>\n",
       "    <tr style=\"text-align: right;\">\n",
       "      <th></th>\n",
       "      <th>male_female_difference</th>\n",
       "      <th>ratio_USA</th>\n",
       "      <th>count</th>\n",
       "      <th>pop_count</th>\n",
       "      <th>user_hist</th>\n",
       "      <th>pop_fraq</th>\n",
       "      <th>pop_item_fraq</th>\n",
       "    </tr>\n",
       "  </thead>\n",
       "  <tbody>\n",
       "    <tr>\n",
       "      <th>258107</th>\n",
       "      <td>-1.0</td>\n",
       "      <td>0.666667</td>\n",
       "      <td>6</td>\n",
       "      <td>2</td>\n",
       "      <td>6</td>\n",
       "      <td>0.333333</td>\n",
       "      <td>0.002621</td>\n",
       "    </tr>\n",
       "    <tr>\n",
       "      <th>177876</th>\n",
       "      <td>-1.0</td>\n",
       "      <td>0.800000</td>\n",
       "      <td>5</td>\n",
       "      <td>2</td>\n",
       "      <td>5</td>\n",
       "      <td>0.400000</td>\n",
       "      <td>0.002737</td>\n",
       "    </tr>\n",
       "    <tr>\n",
       "      <th>178458</th>\n",
       "      <td>-1.0</td>\n",
       "      <td>0.800000</td>\n",
       "      <td>5</td>\n",
       "      <td>5</td>\n",
       "      <td>5</td>\n",
       "      <td>1.000000</td>\n",
       "      <td>0.004561</td>\n",
       "    </tr>\n",
       "    <tr>\n",
       "      <th>86170</th>\n",
       "      <td>-1.0</td>\n",
       "      <td>0.833333</td>\n",
       "      <td>6</td>\n",
       "      <td>1</td>\n",
       "      <td>6</td>\n",
       "      <td>0.166667</td>\n",
       "      <td>0.001494</td>\n",
       "    </tr>\n",
       "    <tr>\n",
       "      <th>179321</th>\n",
       "      <td>-1.0</td>\n",
       "      <td>0.600000</td>\n",
       "      <td>5</td>\n",
       "      <td>3</td>\n",
       "      <td>5</td>\n",
       "      <td>0.600000</td>\n",
       "      <td>0.007455</td>\n",
       "    </tr>\n",
       "  </tbody>\n",
       "</table>\n",
       "</div>"
      ],
      "text/plain": [
       "        male_female_difference  ratio_USA  count  pop_count  user_hist  \\\n",
       "258107                    -1.0   0.666667      6          2          6   \n",
       "177876                    -1.0   0.800000      5          2          5   \n",
       "178458                    -1.0   0.800000      5          5          5   \n",
       "86170                     -1.0   0.833333      6          1          6   \n",
       "179321                    -1.0   0.600000      5          3          5   \n",
       "\n",
       "        pop_fraq  pop_item_fraq  \n",
       "258107  0.333333       0.002621  \n",
       "177876  0.400000       0.002737  \n",
       "178458  1.000000       0.004561  \n",
       "86170   0.166667       0.001494  \n",
       "179321  0.600000       0.007455  "
      ]
     },
     "execution_count": 42,
     "metadata": {},
     "output_type": "execute_result"
    }
   ],
   "source": [
    "final_df.head()"
   ]
  },
  {
   "cell_type": "markdown",
   "id": "f61b1e87",
   "metadata": {},
   "source": [
    "### E.1 Country"
   ]
  },
  {
   "cell_type": "code",
   "execution_count": 48,
   "id": "69c8b839",
   "metadata": {
    "scrolled": false
   },
   "outputs": [
    {
     "data": {
      "text/plain": [
       "<matplotlib.collections.PathCollection at 0x7f93e196d8b0>"
      ]
     },
     "execution_count": 48,
     "metadata": {},
     "output_type": "execute_result"
    },
    {
     "data": {
      "image/png": "[encoded data removed]",
      "text/plain": [
       "<Figure size 432x288 with 1 Axes>"
      ]
     },
     "metadata": {
      "needs_background": "light"
     },
     "output_type": "display_data"
    }
   ],
   "source": [
    "plt.scatter(final_df.pop_item_fraq.values, final_df.ratio_USA.values)"
   ]
  },
  {
   "cell_type": "code",
   "execution_count": 45,
   "id": "aeadd291",
   "metadata": {
    "scrolled": true
   },
   "outputs": [
    {
     "data": {
      "text/plain": [
       "0.17476558921723792"
      ]
     },
     "execution_count": 45,
     "metadata": {},
     "output_type": "execute_result"
    }
   ],
   "source": [
    "stats.pearsonr(final_df.pop_fraq.values, final_df.ratio_USA.values)[0]"
   ]
  },
  {
   "cell_type": "markdown",
   "id": "0aa8aae0",
   "metadata": {},
   "source": [
    "### E.2 Gender"
   ]
  },
  {
   "cell_type": "code",
   "execution_count": 46,
   "id": "e82678ca",
   "metadata": {
    "scrolled": true
   },
   "outputs": [
    {
     "data": {
      "text/plain": [
       "<matplotlib.collections.PathCollection at 0x7f93e22bfcd0>"
      ]
     },
     "execution_count": 46,
     "metadata": {},
     "output_type": "execute_result"
    },
    {
     "data": {
      "image/png": "[encoded data removed]",
      "text/plain": [
       "<Figure size 432x288 with 1 Axes>"
      ]
     },
     "metadata": {
      "needs_background": "light"
     },
     "output_type": "display_data"
    }
   ],
   "source": [
    "plt.scatter(final_df.pop_fraq.values, final_df.male_female_difference.values)"
   ]
  },
  {
   "cell_type": "code",
   "execution_count": 47,
   "id": "e57dcfc1",
   "metadata": {},
   "outputs": [
    {
     "data": {
      "text/plain": [
       "0.014316413968774644"
      ]
     },
     "execution_count": 47,
     "metadata": {},
     "output_type": "execute_result"
    }
   ],
   "source": [
    "stats.pearsonr(final_df.pop_fraq.values, final_df.male_female_difference.values)[0]"
   ]
  },
  {
   "cell_type": "markdown",
   "id": "8d5d03db",
   "metadata": {},
   "source": [
    "# F. Analyze properties for every popularity user group"
   ]
  },
  {
   "cell_type": "code",
   "execution_count": 152,
   "id": "13c2836c",
   "metadata": {},
   "outputs": [],
   "source": [
    "low_popularity[\"male_female_difference\"] = \"\"\n",
    "low_popularity[\"ratio_USA\"] = \"\"\n",
    "med_popularity[\"male_female_difference\"] = \"\"\n",
    "med_popularity[\"ratio_USA\"] = \"\"\n",
    "high_popularity[\"male_female_difference\"] = \"\"\n",
    "high_popularity[\"ratio_USA\"] = \"\""
   ]
  },
  {
   "cell_type": "code",
   "execution_count": 153,
   "id": "ba2c695d",
   "metadata": {},
   "outputs": [],
   "source": [
    "for index, row in low_popularity.iterrows():\n",
    "    mfd = full_gender_df.loc[index].male_female_difference\n",
    "    rU = full_country_df.loc[index].ratio_USA\n",
    "    \n",
    "    low_popularity.at[index, \"male_female_difference\"] = mfd\n",
    "    low_popularity.at[index, \"ratio_USA\"] = rU"
   ]
  },
  {
   "cell_type": "code",
   "execution_count": 155,
   "id": "6bd0d6ef",
   "metadata": {},
   "outputs": [],
   "source": [
    "for index, row in med_popularity.iterrows():\n",
    "    mfd = full_gender_df.loc[index].male_female_difference\n",
    "    rU = full_country_df.loc[index].ratio_USA\n",
    "    \n",
    "    med_popularity.at[index, \"male_female_difference\"] = mfd\n",
    "    med_popularity.at[index, \"ratio_USA\"] = rU"
   ]
  },
  {
   "cell_type": "code",
   "execution_count": 154,
   "id": "e547748b",
   "metadata": {},
   "outputs": [],
   "source": [
    "for index, row in high_popularity.iterrows():\n",
    "    mfd = full_gender_df.loc[index].male_female_difference\n",
    "    rU = full_country_df.loc[index].ratio_USA\n",
    "    \n",
    "    high_popularity.at[index, \"male_female_difference\"] = mfd\n",
    "    high_popularity.at[index, \"ratio_USA\"] = rU"
   ]
  },
  {
   "cell_type": "markdown",
   "id": "8ec8fd46",
   "metadata": {},
   "source": [
    "Let's see!"
   ]
  },
  {
   "cell_type": "code",
   "execution_count": 163,
   "id": "c4a672eb",
   "metadata": {},
   "outputs": [
    {
     "data": {
      "image/png": "[encoded data removed]",
      "text/plain": [
       "<Figure size 432x288 with 1 Axes>"
      ]
     },
     "metadata": {
      "needs_background": "light"
     },
     "output_type": "display_data"
    }
   ],
   "source": [
    "plt.figure()\n",
    "ax = plt.axes()\n",
    "ax.spines['bottom'].set_color('w')\n",
    "ax.spines['top'].set_color('w')\n",
    "ax.spines['right'].set_color('w')\n",
    "ax.spines['left'].set_color('w')\n",
    "ax.spines['left'].set_zorder(0)\n",
    "ax.xaxis.set_ticks_position('none') \n",
    "ax.yaxis.set_ticks_position('none') \n",
    "plt.xticks(np.arange(3), ['LowMS', 'MedMS', 'HighMS'])\n",
    "ax.set_facecolor(\"aliceblue\")\n",
    "ylabel = 'Average male-female difference'\n",
    "plt.ylabel(ylabel)\n",
    "plt.bar(np.arange(3), [low_popularity.male_female_difference.mean(),med_popularity.male_female_difference.mean(),high_popularity.male_female_difference.mean()])\n",
    "plt.title(\"Male female difference across popularity user groups\")\n",
    "plt.show()"
   ]
  },
  {
   "cell_type": "code",
   "execution_count": 164,
   "id": "261f0a3a",
   "metadata": {},
   "outputs": [
    {
     "data": {
      "image/png": "[encoded data removed]",
      "text/plain": [
       "<Figure size 432x288 with 1 Axes>"
      ]
     },
     "metadata": {
      "needs_background": "light"
     },
     "output_type": "display_data"
    }
   ],
   "source": [
    "plt.figure()\n",
    "ax = plt.axes()\n",
    "ax.spines['bottom'].set_color('w')\n",
    "ax.spines['top'].set_color('w')\n",
    "ax.spines['right'].set_color('w')\n",
    "ax.spines['left'].set_color('w')\n",
    "ax.spines['left'].set_zorder(0)\n",
    "ax.xaxis.set_ticks_position('none') \n",
    "ax.yaxis.set_ticks_position('none') \n",
    "plt.xticks(np.arange(3), ['LowMS', 'MedMS', 'HighMS'])\n",
    "ax.set_facecolor(\"aliceblue\")\n",
    "ylabel = 'Average USA ratio'\n",
    "plt.ylabel(ylabel)\n",
    "plt.bar(np.arange(3), [low_popularity.ratio_USA.mean(),med_popularity.ratio_USA.mean(),high_popularity.ratio_USA.mean()])\n",
    "plt.title(\"USA ratio across popularity user groups\")\n",
    "plt.show()"
   ]
  }
 ],
 "metadata": {
  "kernelspec": {
   "display_name": "Python 3 (ipykernel)",
   "language": "python",
   "name": "python3"
  },
  "language_info": {
   "codemirror_mode": {
    "name": "ipython",
    "version": 3
   },
   "file_extension": ".py",
   "mimetype": "text/x-python",
   "name": "python",
   "nbconvert_exporter": "python",
   "pygments_lexer": "ipython3",
   "version": "3.9.12"
  }
 },
 "nbformat": 4,
 "nbformat_minor": 5
}
