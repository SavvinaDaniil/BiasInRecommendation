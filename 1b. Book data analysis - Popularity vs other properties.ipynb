{
 "cells": [
  {
   "cell_type": "markdown",
   "id": "3358a1a5",
   "metadata": {},
   "source": [
    "# Process\n",
    "In this notebook, I will check whether other properties relate with popularity in the data."
   ]
  },
  {
   "cell_type": "markdown",
   "id": "58fb08c9",
   "metadata": {},
   "source": [
    "# A. Import Libraries"
   ]
  },
  {
   "cell_type": "code",
   "execution_count": 1,
   "id": "65134579",
   "metadata": {},
   "outputs": [],
   "source": [
    "import warnings\n",
    "warnings.simplefilter(action='ignore', category=FutureWarning)\n",
    "import matplotlib.pyplot as plt\n",
    "import random as rd\n",
    "import pandas as pd\n",
    "import numpy as np\n",
    "from split_users import split\n",
    "from collections import Counter\n",
    "from scipy import stats"
   ]
  },
  {
   "cell_type": "markdown",
   "id": "16ae1d21",
   "metadata": {},
   "source": [
    "# B. Set hyperparameters\n",
    "There are certain hyperparameters that need to be tuned before the run. "
   ]
  },
  {
   "cell_type": "code",
   "execution_count": 2,
   "id": "34a33d59",
   "metadata": {},
   "outputs": [],
   "source": [
    "item_threshold = 5 # remove users with less than item_threshold items\n",
    "user_threshold = 5 # remove items with less than user_threshold users\n",
    "top_threshold = 200 # remove users who have rated more than top_threshold items\n",
    "recommendation_type = \"books\" # books, music or movies\n",
    "item_col = \"ISBN\" # the item column\n",
    "user_col = \"User-ID\"\n",
    "my_seed = 0 # random_seed\n",
    "top_fraction_users = 0.2# the limit for a user to be considered High Preference\n",
    "top_fraction_items = 0.2\n",
    "split_popularity_by = \"pop_fraq\"\n",
    "split_gender_by = \"male_female_difference\" \n",
    "split_country_by = \"ratio_USA\""
   ]
  },
  {
   "cell_type": "markdown",
   "id": "40cab4cb",
   "metadata": {},
   "source": [
    "These additions will be useful so we can save the different files (plots and processed data) with clarity on the hyperparameters."
   ]
  },
  {
   "cell_type": "code",
   "execution_count": 3,
   "id": "65808d98",
   "metadata": {},
   "outputs": [],
   "source": [
    "addition_1 = \"_u\"+str(item_threshold)+\"_i\"+str(user_threshold)+\"_t\"+str(top_threshold)\n",
    "addition_2 = addition_1 + \"_tfi\"+str(int(100*top_fraction_items))\n",
    "addition_3 = addition_2 + \"_tfu\"+str(int(100*top_fraction_users))\n",
    "addition_4 = addition_3 + (\"_sbpf\" if (split_popularity_by==\"pop_fraq\") else \"_sbpif\")\n",
    "addition_gender = addition_1 + \"_tfu\"+str(int(100*top_fraction_users))+  \"_mfd\"\n",
    "addition_country = addition_1 + \"_tfu\"+str(int(100*top_fraction_users))+ \"_USAr\"\n",
    "addition_birthyear = addition_1 + \"_tfu\"+str(int(100*top_fraction_users))+ \"_1950r\""
   ]
  },
  {
   "cell_type": "code",
   "execution_count": 4,
   "id": "5fa5d3cf",
   "metadata": {},
   "outputs": [],
   "source": [
    "rd.seed(my_seed) #seed for random functions\n",
    "np.random.seed(my_seed) #seed for all numpy fuctions"
   ]
  },
  {
   "cell_type": "markdown",
   "id": "ac18d58f",
   "metadata": {},
   "source": [
    "# C. Read files"
   ]
  },
  {
   "cell_type": "code",
   "execution_count": 5,
   "id": "e541fd21",
   "metadata": {},
   "outputs": [],
   "source": [
    "processed_file_location = \"data/processed/\" # here we store the processed data files"
   ]
  },
  {
   "cell_type": "markdown",
   "id": "5dddadfb",
   "metadata": {},
   "source": [
    "### Gender"
   ]
  },
  {
   "cell_type": "code",
   "execution_count": 6,
   "id": "20140282",
   "metadata": {},
   "outputs": [],
   "source": [
    "low_mp = pd.read_csv(processed_file_location + recommendation_type +\"/low_users\"+addition_gender+\".csv\", index_col=0, header=0, low_memory=False).fillna(\"\")\n",
    "med_mp = pd.read_csv(processed_file_location + recommendation_type +\"/med_users\"+addition_gender+\".csv\", index_col=0, header=0, low_memory=False).fillna(\"\")\n",
    "high_mp = pd.read_csv(processed_file_location + recommendation_type +\"/high_users\"+addition_gender+\".csv\", index_col=0, header=0, low_memory=False).fillna(\"\")\n"
   ]
  },
  {
   "cell_type": "markdown",
   "id": "757234c1",
   "metadata": {},
   "source": [
    "### Country"
   ]
  },
  {
   "cell_type": "code",
   "execution_count": 7,
   "id": "2f462eb4",
   "metadata": {},
   "outputs": [],
   "source": [
    "low_Up = pd.read_csv(processed_file_location + recommendation_type +\"/low_users\"+addition_country+\".csv\", index_col=0, header=0, low_memory=False).fillna(\"\")\n",
    "med_Up = pd.read_csv(processed_file_location + recommendation_type +\"/med_users\"+addition_country+\".csv\", index_col=0, header=0, low_memory=False).fillna(\"\")\n",
    "high_Up = pd.read_csv(processed_file_location + recommendation_type +\"/high_users\"+addition_country+\".csv\", index_col=0, header=0, low_memory=False).fillna(\"\")\n"
   ]
  },
  {
   "cell_type": "markdown",
   "id": "4b1ba7f5",
   "metadata": {},
   "source": [
    "### Birthyear"
   ]
  },
  {
   "cell_type": "code",
   "execution_count": 8,
   "id": "b6345dfd",
   "metadata": {},
   "outputs": [],
   "source": [
    "low_1950p = pd.read_csv(processed_file_location + recommendation_type +\"/low_users\"+addition_birthyear+\".csv\", index_col=0, header=0, low_memory=False).fillna(\"\")\n",
    "med_1950p = pd.read_csv(processed_file_location + recommendation_type +\"/med_users\"+addition_birthyear+\".csv\", index_col=0, header=0, low_memory=False).fillna(\"\")\n",
    "high_1950p = pd.read_csv(processed_file_location + recommendation_type +\"/high_users\"+addition_birthyear+\".csv\", index_col=0, header=0, low_memory=False).fillna(\"\")\n"
   ]
  },
  {
   "cell_type": "markdown",
   "id": "d7725ec2",
   "metadata": {},
   "source": [
    "### Popularity"
   ]
  },
  {
   "cell_type": "code",
   "execution_count": 9,
   "id": "bc6b6fa4",
   "metadata": {},
   "outputs": [],
   "source": [
    "df_item_dist= pd.read_csv(processed_file_location +recommendation_type + \"/item_pop_dist\"+addition_1+\".csv\", index_col=0)"
   ]
  },
  {
   "cell_type": "code",
   "execution_count": 10,
   "id": "ae5aed03",
   "metadata": {},
   "outputs": [],
   "source": [
    "low_popularity = pd.read_csv(processed_file_location + recommendation_type +\"/low_users\"+addition_4+\".csv\", index_col=0)\n",
    "med_popularity = pd.read_csv(processed_file_location + recommendation_type +\"/med_users\"+addition_4+\".csv\", index_col=0)\n",
    "high_popularity = pd.read_csv(processed_file_location + recommendation_type +\"/high_users\"+addition_4+\".csv\", index_col=0)"
   ]
  },
  {
   "cell_type": "markdown",
   "id": "649256a6",
   "metadata": {},
   "source": [
    "### Mapped ratings"
   ]
  },
  {
   "cell_type": "code",
   "execution_count": 11,
   "id": "04d476ea",
   "metadata": {},
   "outputs": [],
   "source": [
    "mapped_ratings_with_properties = pd.read_csv(processed_file_location +recommendation_type + \"/mapped_ratings_with_properties.csv\", index_col=0)"
   ]
  },
  {
   "cell_type": "code",
   "execution_count": 12,
   "id": "52fa572e",
   "metadata": {
    "scrolled": true
   },
   "outputs": [
    {
     "data": {
      "text/html": [
       "<div>\n",
       "<style scoped>\n",
       "    .dataframe tbody tr th:only-of-type {\n",
       "        vertical-align: middle;\n",
       "    }\n",
       "\n",
       "    .dataframe tbody tr th {\n",
       "        vertical-align: top;\n",
       "    }\n",
       "\n",
       "    .dataframe thead th {\n",
       "        text-align: right;\n",
       "    }\n",
       "</style>\n",
       "<table border=\"1\" class=\"dataframe\">\n",
       "  <thead>\n",
       "    <tr style=\"text-align: right;\">\n",
       "      <th></th>\n",
       "      <th>User-ID</th>\n",
       "      <th>ISBN</th>\n",
       "      <th>Book-Rating</th>\n",
       "      <th>gender</th>\n",
       "      <th>country</th>\n",
       "      <th>birthyear</th>\n",
       "    </tr>\n",
       "  </thead>\n",
       "  <tbody>\n",
       "    <tr>\n",
       "      <th>0</th>\n",
       "      <td>276847</td>\n",
       "      <td>0</td>\n",
       "      <td>8</td>\n",
       "      <td>unknown</td>\n",
       "      <td>unknown</td>\n",
       "      <td>unknown</td>\n",
       "    </tr>\n",
       "    <tr>\n",
       "      <th>1</th>\n",
       "      <td>276847</td>\n",
       "      <td>1</td>\n",
       "      <td>10</td>\n",
       "      <td>female</td>\n",
       "      <td>UK</td>\n",
       "      <td>1950-2000</td>\n",
       "    </tr>\n",
       "    <tr>\n",
       "      <th>2</th>\n",
       "      <td>276847</td>\n",
       "      <td>2</td>\n",
       "      <td>10</td>\n",
       "      <td>female</td>\n",
       "      <td>UK</td>\n",
       "      <td>1950-2000</td>\n",
       "    </tr>\n",
       "    <tr>\n",
       "      <th>3</th>\n",
       "      <td>276847</td>\n",
       "      <td>3</td>\n",
       "      <td>10</td>\n",
       "      <td>female</td>\n",
       "      <td>UK</td>\n",
       "      <td>1950-2000</td>\n",
       "    </tr>\n",
       "    <tr>\n",
       "      <th>4</th>\n",
       "      <td>276847</td>\n",
       "      <td>4</td>\n",
       "      <td>10</td>\n",
       "      <td>female</td>\n",
       "      <td>UK</td>\n",
       "      <td>1950-2000</td>\n",
       "    </tr>\n",
       "    <tr>\n",
       "      <th>...</th>\n",
       "      <td>...</td>\n",
       "      <td>...</td>\n",
       "      <td>...</td>\n",
       "      <td>...</td>\n",
       "      <td>...</td>\n",
       "      <td>...</td>\n",
       "    </tr>\n",
       "    <tr>\n",
       "      <th>88617</th>\n",
       "      <td>276688</td>\n",
       "      <td>6837</td>\n",
       "      <td>7</td>\n",
       "      <td>female</td>\n",
       "      <td>USA</td>\n",
       "      <td>1900-1950</td>\n",
       "    </tr>\n",
       "    <tr>\n",
       "      <th>88618</th>\n",
       "      <td>276688</td>\n",
       "      <td>1628</td>\n",
       "      <td>6</td>\n",
       "      <td>female</td>\n",
       "      <td>USA</td>\n",
       "      <td>1900-1950</td>\n",
       "    </tr>\n",
       "    <tr>\n",
       "      <th>88619</th>\n",
       "      <td>276688</td>\n",
       "      <td>4464</td>\n",
       "      <td>8</td>\n",
       "      <td>female</td>\n",
       "      <td>USA</td>\n",
       "      <td>1950-2000</td>\n",
       "    </tr>\n",
       "    <tr>\n",
       "      <th>88620</th>\n",
       "      <td>276688</td>\n",
       "      <td>5236</td>\n",
       "      <td>10</td>\n",
       "      <td>male</td>\n",
       "      <td>USA</td>\n",
       "      <td>1950-2000</td>\n",
       "    </tr>\n",
       "    <tr>\n",
       "      <th>88621</th>\n",
       "      <td>276688</td>\n",
       "      <td>117</td>\n",
       "      <td>10</td>\n",
       "      <td>male</td>\n",
       "      <td>USA</td>\n",
       "      <td>1950-2000</td>\n",
       "    </tr>\n",
       "  </tbody>\n",
       "</table>\n",
       "<p>88622 rows × 6 columns</p>\n",
       "</div>"
      ],
      "text/plain": [
       "       User-ID  ISBN  Book-Rating   gender  country  birthyear\n",
       "0       276847     0            8  unknown  unknown    unknown\n",
       "1       276847     1           10   female       UK  1950-2000\n",
       "2       276847     2           10   female       UK  1950-2000\n",
       "3       276847     3           10   female       UK  1950-2000\n",
       "4       276847     4           10   female       UK  1950-2000\n",
       "...        ...   ...          ...      ...      ...        ...\n",
       "88617   276688  6837            7   female      USA  1900-1950\n",
       "88618   276688  1628            6   female      USA  1900-1950\n",
       "88619   276688  4464            8   female      USA  1950-2000\n",
       "88620   276688  5236           10     male      USA  1950-2000\n",
       "88621   276688   117           10     male      USA  1950-2000\n",
       "\n",
       "[88622 rows x 6 columns]"
      ]
     },
     "execution_count": 12,
     "metadata": {},
     "output_type": "execute_result"
    }
   ],
   "source": [
    "mapped_ratings_with_properties"
   ]
  },
  {
   "cell_type": "code",
   "execution_count": 13,
   "id": "64c5e124",
   "metadata": {},
   "outputs": [],
   "source": [
    "gender_dict = {}\n",
    "country_dict = {}\n",
    "birthyear_dict = {}\n",
    "for isbn in mapped_ratings_with_properties.ISBN.unique():\n",
    "    gender_dict[isbn] = mapped_ratings_with_properties.gender[mapped_ratings_with_properties.ISBN == isbn].iloc[0]\n",
    "    country_dict[isbn] = mapped_ratings_with_properties.country[mapped_ratings_with_properties.ISBN == isbn].iloc[0]\n",
    "    birthyear_dict[isbn] = mapped_ratings_with_properties.birthyear[mapped_ratings_with_properties.ISBN == isbn].iloc[0]"
   ]
  },
  {
   "cell_type": "markdown",
   "id": "2b456180",
   "metadata": {},
   "source": [
    "# D. Compare properties with 'popular' items"
   ]
  },
  {
   "cell_type": "code",
   "execution_count": 14,
   "id": "f49d7113",
   "metadata": {},
   "outputs": [],
   "source": [
    "df_item_dist[\"gender\"] = \"\"\n",
    "df_item_dist[\"country\"] = \"\"\n",
    "df_item_dist[\"birthyear\"] = \"\"\n",
    "\n",
    "for index, row in df_item_dist.iterrows():\n",
    "    gender = gender_dict[index]\n",
    "    country = country_dict[index]\n",
    "    birthyear = birthyear_dict[index]\n",
    "    df_item_dist.at[index, \"gender\"] = gender\n",
    "    df_item_dist.at[index, \"country\"] = country\n",
    "    df_item_dist.at[index, \"birthyear\"] = birthyear"
   ]
  },
  {
   "cell_type": "code",
   "execution_count": 15,
   "id": "e0ce11ce",
   "metadata": {},
   "outputs": [],
   "source": [
    "num_pop_items = int(top_fraction_items * len(df_item_dist))\n"
   ]
  },
  {
   "cell_type": "markdown",
   "id": "f263bab9",
   "metadata": {},
   "source": [
    "The items that are considered popular:"
   ]
  },
  {
   "cell_type": "code",
   "execution_count": 16,
   "id": "772c0cc6",
   "metadata": {},
   "outputs": [],
   "source": [
    "pop_item_dist = df_item_dist.iloc[:num_pop_items]"
   ]
  },
  {
   "cell_type": "markdown",
   "id": "d3220848",
   "metadata": {},
   "source": [
    "### D1. Gender"
   ]
  },
  {
   "cell_type": "code",
   "execution_count": 17,
   "id": "33d08e11",
   "metadata": {},
   "outputs": [
    {
     "data": {
      "image/png": "[encoded data removed]",
      "text/plain": [
       "<Figure size 432x288 with 1 Axes>"
      ]
     },
     "metadata": {},
     "output_type": "display_data"
    }
   ],
   "source": [
    "fig, ax = plt.subplots()\n",
    "pop_item_dist.gender.value_counts().plot(kind=\"pie\",autopct='%.2f%%', shadow=True\n",
    "                                      , startangle=30)\n",
    "ax.tick_params(labelrotation=0)\n",
    "ax.title.set_text(\"Gender Distribution in popular items\")\n",
    "fig.tight_layout()"
   ]
  },
  {
   "cell_type": "code",
   "execution_count": 36,
   "id": "8c7cc681",
   "metadata": {},
   "outputs": [],
   "source": [
    "pop_ratings = mapped_ratings_with_properties[mapped_ratings_with_properties.ISBN.isin(list(pop_item_dist.index))]"
   ]
  },
  {
   "cell_type": "code",
   "execution_count": 37,
   "id": "aa964dcb",
   "metadata": {
    "scrolled": true
   },
   "outputs": [
    {
     "data": {
      "image/png": "[encoded data removed]",
      "text/plain": [
       "<Figure size 432x288 with 1 Axes>"
      ]
     },
     "metadata": {},
     "output_type": "display_data"
    }
   ],
   "source": [
    "fig, ax = plt.subplots()\n",
    "pop_ratings.gender.value_counts().plot(kind=\"pie\",autopct='%.2f%%', shadow=True\n",
    "                                      , startangle=30)\n",
    "ax.tick_params(labelrotation=0)\n",
    "ax.title.set_text(\"Gender Distribution in popular ratings\")\n",
    "fig.tight_layout()"
   ]
  },
  {
   "cell_type": "markdown",
   "id": "c3b47319",
   "metadata": {},
   "source": [
    "### D2. Country"
   ]
  },
  {
   "cell_type": "code",
   "execution_count": 41,
   "id": "309ca516",
   "metadata": {},
   "outputs": [],
   "source": [
    "colors={'USA':'#1f77b4', \n",
    "        'UK':'#d62728',\n",
    "       \"Ireland\":\"#8c564b\",\n",
    "       \"unknown\":\"#ff7f0e\",\n",
    "       \"Canada\":\"#9467bd\",\n",
    "       \"other\":\"#2ca02c\"}"
   ]
  },
  {
   "cell_type": "code",
   "execution_count": 42,
   "id": "97613cc6",
   "metadata": {
    "scrolled": true
   },
   "outputs": [
    {
     "data": {
      "image/png": "[encoded data removed]",
      "text/plain": [
       "<Figure size 432x288 with 1 Axes>"
      ]
     },
     "metadata": {},
     "output_type": "display_data"
    }
   ],
   "source": [
    "fig, ax = plt.subplots()\n",
    "pop_item_dist.country.value_counts().plot(kind=\"pie\",autopct='%.2f%%', shadow=True\n",
    "                                      , startangle=30,\n",
    "                                          colors=[colors[v] for v in pop_item_dist['country'].value_counts().keys()])\n",
    "ax.tick_params(labelrotation=0)\n",
    "ax.title.set_text(\"Country Distribution in popular items\")\n",
    "fig.tight_layout()"
   ]
  },
  {
   "cell_type": "code",
   "execution_count": 43,
   "id": "b414ffe6",
   "metadata": {},
   "outputs": [
    {
     "data": {
      "image/png": "[encoded data removed]",
      "text/plain": [
       "<Figure size 432x288 with 1 Axes>"
      ]
     },
     "metadata": {},
     "output_type": "display_data"
    }
   ],
   "source": [
    "fig, ax = plt.subplots()\n",
    "pop_ratings.country.value_counts().plot(kind=\"pie\",autopct='%.2f%%', shadow=True\n",
    "                                      , startangle=30,\n",
    "                                          colors=[colors[v] for v in pop_ratings['country'].value_counts().keys()])\n",
    "ax.tick_params(labelrotation=0)\n",
    "ax.title.set_text(\"Country Distribution in popular ratings\")\n",
    "fig.tight_layout()"
   ]
  },
  {
   "cell_type": "code",
   "execution_count": 46,
   "id": "0b21637c",
   "metadata": {},
   "outputs": [
    {
     "data": {
      "image/png": "[encoded data removed]",
      "text/plain": [
       "<Figure size 432x288 with 1 Axes>"
      ]
     },
     "metadata": {},
     "output_type": "display_data"
    }
   ],
   "source": [
    "fig, ax = plt.subplots()\n",
    "mapped_ratings_with_properties.country.value_counts().plot(kind=\"pie\",autopct='%.2f%%', shadow=True\n",
    "                                      , startangle=30,\n",
    "                                          colors=[colors[v] for v in pop_ratings['country'].value_counts().keys()])\n",
    "ax.tick_params(labelrotation=0)\n",
    "ax.title.set_text(\"Country Distribution in all ratings\")\n",
    "fig.tight_layout()"
   ]
  },
  {
   "cell_type": "code",
   "execution_count": 44,
   "id": "3c9511db",
   "metadata": {},
   "outputs": [
    {
     "data": {
      "image/png": "[encoded data removed]",
      "text/plain": [
       "<Figure size 432x288 with 1 Axes>"
      ]
     },
     "metadata": {},
     "output_type": "display_data"
    }
   ],
   "source": [
    "fig, ax = plt.subplots()\n",
    "df_item_dist.country.value_counts().plot(kind=\"pie\",autopct='%.2f%%', shadow=True\n",
    "                                      , startangle=30,\n",
    "                                          colors=[colors[v] for v in df_item_dist['country'].value_counts().keys()])\n",
    "ax.tick_params(labelrotation=0)\n",
    "ax.title.set_text(\"Country Distribution in all items\")\n",
    "fig.tight_layout()"
   ]
  },
  {
   "cell_type": "code",
   "execution_count": 39,
   "id": "adbef046",
   "metadata": {},
   "outputs": [
    {
     "data": {
      "text/plain": [
       "array(['USA', 'unknown', 'UK', 'other', 'Canada', 'Ireland'], dtype=object)"
      ]
     },
     "execution_count": 39,
     "metadata": {},
     "output_type": "execute_result"
    }
   ],
   "source": [
    "df_item_dist.country.unique()"
   ]
  },
  {
   "cell_type": "markdown",
   "id": "c2b95b45",
   "metadata": {},
   "source": [
    "### D3. Birthyear"
   ]
  },
  {
   "cell_type": "code",
   "execution_count": 20,
   "id": "71ea9017",
   "metadata": {
    "scrolled": true
   },
   "outputs": [
    {
     "data": {
      "image/png": "[encoded data removed]",
      "text/plain": [
       "<Figure size 432x288 with 1 Axes>"
      ]
     },
     "metadata": {},
     "output_type": "display_data"
    }
   ],
   "source": [
    "fig, ax = plt.subplots()\n",
    "pop_item_dist.birthyear.value_counts().plot(kind=\"pie\",autopct='%.2f%%', shadow=True\n",
    "                                      , startangle=30)\n",
    "ax.tick_params(labelrotation=0)\n",
    "ax.title.set_text(\"Birthyear Distribution in popular items\")\n",
    "fig.tight_layout()"
   ]
  },
  {
   "cell_type": "markdown",
   "id": "effc8635",
   "metadata": {},
   "source": [
    "# E. Compare properties with popularity for items"
   ]
  },
  {
   "cell_type": "markdown",
   "id": "82b39c95",
   "metadata": {},
   "source": [
    "Point biserial correlation"
   ]
  },
  {
   "cell_type": "markdown",
   "id": "77fe8c5d",
   "metadata": {},
   "source": [
    "### E.1 Gender"
   ]
  },
  {
   "cell_type": "code",
   "execution_count": 21,
   "id": "87a5039b",
   "metadata": {},
   "outputs": [],
   "source": [
    "df_item_dist_test = df_item_dist.copy()"
   ]
  },
  {
   "cell_type": "code",
   "execution_count": 22,
   "id": "b734eaed",
   "metadata": {},
   "outputs": [],
   "source": [
    "df_item_dist_test.gender = df_item_dist_test.gender.apply(lambda x: 1 if x == \"male\" else 0)"
   ]
  },
  {
   "cell_type": "code",
   "execution_count": 23,
   "id": "f8574b93",
   "metadata": {
    "scrolled": true
   },
   "outputs": [
    {
     "data": {
      "text/plain": [
       "PointbiserialrResult(correlation=0.02858858067481108, pvalue=0.017387322049614615)"
      ]
     },
     "execution_count": 23,
     "metadata": {},
     "output_type": "execute_result"
    }
   ],
   "source": [
    "stats.pointbiserialr(df_item_dist_test.gender.values, df_item_dist_test[\"count\"].values)"
   ]
  },
  {
   "cell_type": "markdown",
   "id": "45d0cd24",
   "metadata": {},
   "source": [
    "### E.2 Country"
   ]
  },
  {
   "cell_type": "code",
   "execution_count": 24,
   "id": "5c60f8f1",
   "metadata": {},
   "outputs": [],
   "source": [
    "df_item_dist_test = df_item_dist.copy()"
   ]
  },
  {
   "cell_type": "code",
   "execution_count": 25,
   "id": "291131a4",
   "metadata": {},
   "outputs": [],
   "source": [
    "df_item_dist_test.country = df_item_dist_test.country.apply(lambda x: 1 if x == \"USA\" else 0)"
   ]
  },
  {
   "cell_type": "code",
   "execution_count": 26,
   "id": "869ce425",
   "metadata": {},
   "outputs": [
    {
     "data": {
      "text/plain": [
       "PointbiserialrResult(correlation=0.0935562786416678, pvalue=6.245466526952818e-15)"
      ]
     },
     "execution_count": 26,
     "metadata": {},
     "output_type": "execute_result"
    }
   ],
   "source": [
    "stats.pointbiserialr(df_item_dist_test.country.values, df_item_dist_test[\"count\"].values)"
   ]
  },
  {
   "cell_type": "markdown",
   "id": "a182d21a",
   "metadata": {},
   "source": [
    "### E.3 Birthyear"
   ]
  },
  {
   "cell_type": "code",
   "execution_count": 27,
   "id": "df4ff3b6",
   "metadata": {},
   "outputs": [],
   "source": [
    "df_item_dist_test = df_item_dist.copy()"
   ]
  },
  {
   "cell_type": "code",
   "execution_count": 28,
   "id": "bf7e8ebb",
   "metadata": {},
   "outputs": [],
   "source": [
    "df_item_dist_test.birthyear = df_item_dist_test.birthyear.apply(lambda x: 1 if x == \"1900-1950\" else 0)"
   ]
  },
  {
   "cell_type": "code",
   "execution_count": 29,
   "id": "e3b2b78c",
   "metadata": {},
   "outputs": [
    {
     "data": {
      "text/plain": [
       "PointbiserialrResult(correlation=-0.01653306912509111, pvalue=0.16904660852433248)"
      ]
     },
     "execution_count": 29,
     "metadata": {},
     "output_type": "execute_result"
    }
   ],
   "source": [
    "stats.pointbiserialr(df_item_dist_test.birthyear.values, df_item_dist_test[\"count\"].values)"
   ]
  },
  {
   "cell_type": "markdown",
   "id": "4a56c597",
   "metadata": {},
   "source": [
    "### E.3 T test"
   ]
  },
  {
   "cell_type": "code",
   "execution_count": 40,
   "id": "e4b40047",
   "metadata": {},
   "outputs": [],
   "source": [
    "df_non_unknowns = df_item_dist[df_item_dist.country!=\"unknown\"]"
   ]
  },
  {
   "cell_type": "markdown",
   "id": "550746c7",
   "metadata": {},
   "source": [
    "#### E.3.a Gender"
   ]
  },
  {
   "cell_type": "code",
   "execution_count": 32,
   "id": "eb61d07b",
   "metadata": {},
   "outputs": [],
   "source": [
    "female_popularity = df_item_dist[\"count\"][df_item_dist.gender == \"female\"].values\n",
    "male_popularity = df_item_dist[\"count\"][df_item_dist.gender == \"male\"].values"
   ]
  },
  {
   "cell_type": "code",
   "execution_count": 33,
   "id": "6e4c2cba",
   "metadata": {},
   "outputs": [
    {
     "data": {
      "text/plain": [
       "(0.0020779274065102996, 0.0020882984394199598)"
      ]
     },
     "execution_count": 33,
     "metadata": {},
     "output_type": "execute_result"
    }
   ],
   "source": [
    "female_popularity.mean(), male_popularity.mean()"
   ]
  },
  {
   "cell_type": "code",
   "execution_count": 34,
   "id": "bf4a0de0",
   "metadata": {
    "scrolled": false
   },
   "outputs": [
    {
     "data": {
      "text/plain": [
       "Ttest_indResult(statistic=-0.15934491198808048, pvalue=0.873402260673265)"
      ]
     },
     "execution_count": 34,
     "metadata": {},
     "output_type": "execute_result"
    }
   ],
   "source": [
    "stats.ttest_ind(female_popularity, male_popularity)"
   ]
  },
  {
   "cell_type": "markdown",
   "id": "c6718a70",
   "metadata": {},
   "source": [
    "#### E.3.b Country"
   ]
  },
  {
   "cell_type": "code",
   "execution_count": 41,
   "id": "13baa3c8",
   "metadata": {},
   "outputs": [],
   "source": [
    "USA_popularity = df_item_dist[\"count\"][df_item_dist.country == \"USA\"].values\n",
    "nonUSA_popularity = df_item_dist[\"count\"][df_item_dist.country != \"USA\"].values"
   ]
  },
  {
   "cell_type": "code",
   "execution_count": 42,
   "id": "00f2a0ff",
   "metadata": {},
   "outputs": [
    {
     "data": {
      "text/plain": [
       "(0.002174479783855462, 0.0016756250130251888)"
      ]
     },
     "execution_count": 42,
     "metadata": {},
     "output_type": "execute_result"
    }
   ],
   "source": [
    "USA_popularity.mean(), nonUSA_popularity.mean()"
   ]
  },
  {
   "cell_type": "code",
   "execution_count": 43,
   "id": "d23bdc81",
   "metadata": {},
   "outputs": [
    {
     "data": {
      "text/plain": [
       "Ttest_indResult(statistic=7.816343057746824, pvalue=6.245466526884114e-15)"
      ]
     },
     "execution_count": 43,
     "metadata": {},
     "output_type": "execute_result"
    }
   ],
   "source": [
    "stats.ttest_ind(USA_popularity, nonUSA_popularity)"
   ]
  },
  {
   "cell_type": "code",
   "execution_count": 44,
   "id": "1ca6f61b",
   "metadata": {},
   "outputs": [],
   "source": [
    "USA_popularity = df_non_unknowns[\"count\"][df_non_unknowns.country == \"USA\"].values\n",
    "nonUSA_popularity = df_non_unknowns[\"count\"][df_non_unknowns.country != \"USA\"].values"
   ]
  },
  {
   "cell_type": "code",
   "execution_count": 45,
   "id": "8dc89ea2",
   "metadata": {},
   "outputs": [
    {
     "data": {
      "text/plain": [
       "(0.002174479783855462, 0.0018308222992811094)"
      ]
     },
     "execution_count": 45,
     "metadata": {},
     "output_type": "execute_result"
    }
   ],
   "source": [
    "USA_popularity.mean(), nonUSA_popularity.mean()"
   ]
  },
  {
   "cell_type": "code",
   "execution_count": 46,
   "id": "6ec2dd0c",
   "metadata": {},
   "outputs": [
    {
     "data": {
      "text/plain": [
       "Ttest_indResult(statistic=4.500952223525034, pvalue=6.888817733677745e-06)"
      ]
     },
     "execution_count": 46,
     "metadata": {},
     "output_type": "execute_result"
    }
   ],
   "source": [
    "stats.ttest_ind(USA_popularity, nonUSA_popularity)"
   ]
  },
  {
   "cell_type": "markdown",
   "id": "494b6fca",
   "metadata": {},
   "source": [
    "#### E.3.c Birthyear"
   ]
  },
  {
   "cell_type": "code",
   "execution_count": 38,
   "id": "7ae02983",
   "metadata": {},
   "outputs": [],
   "source": [
    "popularity_1950 = df_item_dist[\"count\"][df_item_dist.birthyear == \"1900-1950\"].values\n",
    "popularity_non1950 = df_item_dist[\"count\"][df_item_dist.birthyear != \"1900-1950\"].values"
   ]
  },
  {
   "cell_type": "code",
   "execution_count": 39,
   "id": "ba455ab9",
   "metadata": {},
   "outputs": [
    {
     "data": {
      "text/plain": [
       "(0.0019716730789394515, 0.0020542590728199624)"
      ]
     },
     "execution_count": 39,
     "metadata": {},
     "output_type": "execute_result"
    }
   ],
   "source": [
    "popularity_1950.mean(), popularity_non1950.mean()"
   ]
  },
  {
   "cell_type": "code",
   "execution_count": 40,
   "id": "d479b31c",
   "metadata": {},
   "outputs": [
    {
     "data": {
      "text/plain": [
       "Ttest_indResult(statistic=-1.3754173883722816, pvalue=0.16904660852205414)"
      ]
     },
     "execution_count": 40,
     "metadata": {},
     "output_type": "execute_result"
    }
   ],
   "source": [
    "stats.ttest_ind(popularity_1950, popularity_non1950)"
   ]
  },
  {
   "cell_type": "markdown",
   "id": "0d56670b",
   "metadata": {},
   "source": [
    "# E. Compare properties with average popularity for users"
   ]
  },
  {
   "cell_type": "code",
   "execution_count": 40,
   "id": "ac9b6206",
   "metadata": {},
   "outputs": [],
   "source": [
    "full_gender_df = pd.concat([low_mp, med_mp, high_mp])\n",
    "full_country_df = pd.concat([low_Up, med_Up, high_Up])\n",
    "full_pop_df = pd.concat([low_popularity, med_popularity, high_popularity])"
   ]
  },
  {
   "cell_type": "code",
   "execution_count": 41,
   "id": "9b9e443a",
   "metadata": {
    "scrolled": true
   },
   "outputs": [],
   "source": [
    "final_df = pd.merge(pd.merge(full_gender_df.male_female_difference, full_country_df.ratio_USA, left_index=True, right_index=True), full_pop_df, left_index=True, right_index=True)"
   ]
  },
  {
   "cell_type": "code",
   "execution_count": 42,
   "id": "7c3d4434",
   "metadata": {},
   "outputs": [
    {
     "data": {
      "text/html": [
       "<div>\n",
       "<style scoped>\n",
       "    .dataframe tbody tr th:only-of-type {\n",
       "        vertical-align: middle;\n",
       "    }\n",
       "\n",
       "    .dataframe tbody tr th {\n",
       "        vertical-align: top;\n",
       "    }\n",
       "\n",
       "    .dataframe thead th {\n",
       "        text-align: right;\n",
       "    }\n",
       "</style>\n",
       "<table border=\"1\" class=\"dataframe\">\n",
       "  <thead>\n",
       "    <tr style=\"text-align: right;\">\n",
       "      <th></th>\n",
       "      <th>male_female_difference</th>\n",
       "      <th>ratio_USA</th>\n",
       "      <th>count</th>\n",
       "      <th>pop_count</th>\n",
       "      <th>user_hist</th>\n",
       "      <th>pop_fraq</th>\n",
       "      <th>pop_item_fraq</th>\n",
       "    </tr>\n",
       "  </thead>\n",
       "  <tbody>\n",
       "    <tr>\n",
       "      <th>258107</th>\n",
       "      <td>-1.0</td>\n",
       "      <td>0.666667</td>\n",
       "      <td>6</td>\n",
       "      <td>2</td>\n",
       "      <td>6</td>\n",
       "      <td>0.333333</td>\n",
       "      <td>0.002621</td>\n",
       "    </tr>\n",
       "    <tr>\n",
       "      <th>177876</th>\n",
       "      <td>-1.0</td>\n",
       "      <td>0.800000</td>\n",
       "      <td>5</td>\n",
       "      <td>2</td>\n",
       "      <td>5</td>\n",
       "      <td>0.400000</td>\n",
       "      <td>0.002737</td>\n",
       "    </tr>\n",
       "    <tr>\n",
       "      <th>178458</th>\n",
       "      <td>-1.0</td>\n",
       "      <td>0.800000</td>\n",
       "      <td>5</td>\n",
       "      <td>5</td>\n",
       "      <td>5</td>\n",
       "      <td>1.000000</td>\n",
       "      <td>0.004561</td>\n",
       "    </tr>\n",
       "    <tr>\n",
       "      <th>86170</th>\n",
       "      <td>-1.0</td>\n",
       "      <td>0.833333</td>\n",
       "      <td>6</td>\n",
       "      <td>1</td>\n",
       "      <td>6</td>\n",
       "      <td>0.166667</td>\n",
       "      <td>0.001494</td>\n",
       "    </tr>\n",
       "    <tr>\n",
       "      <th>179321</th>\n",
       "      <td>-1.0</td>\n",
       "      <td>0.600000</td>\n",
       "      <td>5</td>\n",
       "      <td>3</td>\n",
       "      <td>5</td>\n",
       "      <td>0.600000</td>\n",
       "      <td>0.007455</td>\n",
       "    </tr>\n",
       "  </tbody>\n",
       "</table>\n",
       "</div>"
      ],
      "text/plain": [
       "        male_female_difference  ratio_USA  count  pop_count  user_hist  \\\n",
       "258107                    -1.0   0.666667      6          2          6   \n",
       "177876                    -1.0   0.800000      5          2          5   \n",
       "178458                    -1.0   0.800000      5          5          5   \n",
       "86170                     -1.0   0.833333      6          1          6   \n",
       "179321                    -1.0   0.600000      5          3          5   \n",
       "\n",
       "        pop_fraq  pop_item_fraq  \n",
       "258107  0.333333       0.002621  \n",
       "177876  0.400000       0.002737  \n",
       "178458  1.000000       0.004561  \n",
       "86170   0.166667       0.001494  \n",
       "179321  0.600000       0.007455  "
      ]
     },
     "execution_count": 42,
     "metadata": {},
     "output_type": "execute_result"
    }
   ],
   "source": [
    "final_df.head()"
   ]
  },
  {
   "cell_type": "markdown",
   "id": "f61b1e87",
   "metadata": {},
   "source": [
    "### E.1 Country"
   ]
  },
  {
   "cell_type": "code",
   "execution_count": 48,
   "id": "69c8b839",
   "metadata": {
    "scrolled": false
   },
   "outputs": [
    {
     "data": {
      "text/plain": [
       "<matplotlib.collections.PathCollection at 0x7f93e196d8b0>"
      ]
     },
     "execution_count": 48,
     "metadata": {},
     "output_type": "execute_result"
    },
    {
     "data": {
      "image/png": "[encoded data removed]",
      "text/plain": [
       "<Figure size 432x288 with 1 Axes>"
      ]
     },
     "metadata": {
      "needs_background": "light"
     },
     "output_type": "display_data"
    }
   ],
   "source": [
    "plt.scatter(final_df.pop_item_fraq.values, final_df.ratio_USA.values)"
   ]
  },
  {
   "cell_type": "code",
   "execution_count": 45,
   "id": "aeadd291",
   "metadata": {
    "scrolled": true
   },
   "outputs": [
    {
     "data": {
      "text/plain": [
       "0.17476558921723792"
      ]
     },
     "execution_count": 45,
     "metadata": {},
     "output_type": "execute_result"
    }
   ],
   "source": [
    "stats.pearsonr(final_df.pop_fraq.values, final_df.ratio_USA.values)[0]"
   ]
  },
  {
   "cell_type": "markdown",
   "id": "0aa8aae0",
   "metadata": {},
   "source": [
    "### E.2 Gender"
   ]
  },
  {
   "cell_type": "code",
   "execution_count": 46,
   "id": "e82678ca",
   "metadata": {
    "scrolled": true
   },
   "outputs": [
    {
     "data": {
      "text/plain": [
       "<matplotlib.collections.PathCollection at 0x7f93e22bfcd0>"
      ]
     },
     "execution_count": 46,
     "metadata": {},
     "output_type": "execute_result"
    },
    {
     "data": {
      "image/png": "[encoded data removed]",
      "text/plain": [
       "<Figure size 432x288 with 1 Axes>"
      ]
     },
     "metadata": {
      "needs_background": "light"
     },
     "output_type": "display_data"
    }
   ],
   "source": [
    "plt.scatter(final_df.pop_fraq.values, final_df.male_female_difference.values)"
   ]
  },
  {
   "cell_type": "code",
   "execution_count": 47,
   "id": "e57dcfc1",
   "metadata": {},
   "outputs": [
    {
     "data": {
      "text/plain": [
       "0.014316413968774644"
      ]
     },
     "execution_count": 47,
     "metadata": {},
     "output_type": "execute_result"
    }
   ],
   "source": [
    "stats.pearsonr(final_df.pop_fraq.values, final_df.male_female_difference.values)[0]"
   ]
  },
  {
   "cell_type": "markdown",
   "id": "8d5d03db",
   "metadata": {},
   "source": [
    "# F. Analyze properties for every popularity user group"
   ]
  },
  {
   "cell_type": "code",
   "execution_count": 152,
   "id": "13c2836c",
   "metadata": {},
   "outputs": [],
   "source": [
    "low_popularity[\"male_female_difference\"] = \"\"\n",
    "low_popularity[\"ratio_USA\"] = \"\"\n",
    "med_popularity[\"male_female_difference\"] = \"\"\n",
    "med_popularity[\"ratio_USA\"] = \"\"\n",
    "high_popularity[\"male_female_difference\"] = \"\"\n",
    "high_popularity[\"ratio_USA\"] = \"\""
   ]
  },
  {
   "cell_type": "code",
   "execution_count": 153,
   "id": "ba2c695d",
   "metadata": {},
   "outputs": [],
   "source": [
    "for index, row in low_popularity.iterrows():\n",
    "    mfd = full_gender_df.loc[index].male_female_difference\n",
    "    rU = full_country_df.loc[index].ratio_USA\n",
    "    \n",
    "    low_popularity.at[index, \"male_female_difference\"] = mfd\n",
    "    low_popularity.at[index, \"ratio_USA\"] = rU"
   ]
  },
  {
   "cell_type": "code",
   "execution_count": 155,
   "id": "6bd0d6ef",
   "metadata": {},
   "outputs": [],
   "source": [
    "for index, row in med_popularity.iterrows():\n",
    "    mfd = full_gender_df.loc[index].male_female_difference\n",
    "    rU = full_country_df.loc[index].ratio_USA\n",
    "    \n",
    "    med_popularity.at[index, \"male_female_difference\"] = mfd\n",
    "    med_popularity.at[index, \"ratio_USA\"] = rU"
   ]
  },
  {
   "cell_type": "code",
   "execution_count": 154,
   "id": "e547748b",
   "metadata": {},
   "outputs": [],
   "source": [
    "for index, row in high_popularity.iterrows():\n",
    "    mfd = full_gender_df.loc[index].male_female_difference\n",
    "    rU = full_country_df.loc[index].ratio_USA\n",
    "    \n",
    "    high_popularity.at[index, \"male_female_difference\"] = mfd\n",
    "    high_popularity.at[index, \"ratio_USA\"] = rU"
   ]
  },
  {
   "cell_type": "markdown",
   "id": "8ec8fd46",
   "metadata": {},
   "source": [
    "Let's see!"
   ]
  },
  {
   "cell_type": "code",
   "execution_count": 163,
   "id": "c4a672eb",
   "metadata": {},
   "outputs": [
    {
     "data": {
      "image/png": "[encoded data removed]",
      "text/plain": [
       "<Figure size 432x288 with 1 Axes>"
      ]
     },
     "metadata": {
      "needs_background": "light"
     },
     "output_type": "display_data"
    }
   ],
   "source": [
    "plt.figure()\n",
    "ax = plt.axes()\n",
    "ax.spines['bottom'].set_color('w')\n",
    "ax.spines['top'].set_color('w')\n",
    "ax.spines['right'].set_color('w')\n",
    "ax.spines['left'].set_color('w')\n",
    "ax.spines['left'].set_zorder(0)\n",
    "ax.xaxis.set_ticks_position('none') \n",
    "ax.yaxis.set_ticks_position('none') \n",
    "plt.xticks(np.arange(3), ['LowMS', 'MedMS', 'HighMS'])\n",
    "ax.set_facecolor(\"aliceblue\")\n",
    "ylabel = 'Average male-female difference'\n",
    "plt.ylabel(ylabel)\n",
    "plt.bar(np.arange(3), [low_popularity.male_female_difference.mean(),med_popularity.male_female_difference.mean(),high_popularity.male_female_difference.mean()])\n",
    "plt.title(\"Male female difference across popularity user groups\")\n",
    "plt.show()"
   ]
  },
  {
   "cell_type": "code",
   "execution_count": 164,
   "id": "261f0a3a",
   "metadata": {},
   "outputs": [
    {
     "data": {
      "image/png": "[encoded data removed]",
      "text/plain": [
       "<Figure size 432x288 with 1 Axes>"
      ]
     },
     "metadata": {
      "needs_background": "light"
     },
     "output_type": "display_data"
    }
   ],
   "source": [
    "plt.figure()\n",
    "ax = plt.axes()\n",
    "ax.spines['bottom'].set_color('w')\n",
    "ax.spines['top'].set_color('w')\n",
    "ax.spines['right'].set_color('w')\n",
    "ax.spines['left'].set_color('w')\n",
    "ax.spines['left'].set_zorder(0)\n",
    "ax.xaxis.set_ticks_position('none') \n",
    "ax.yaxis.set_ticks_position('none') \n",
    "plt.xticks(np.arange(3), ['LowMS', 'MedMS', 'HighMS'])\n",
    "ax.set_facecolor(\"aliceblue\")\n",
    "ylabel = 'Average USA ratio'\n",
    "plt.ylabel(ylabel)\n",
    "plt.bar(np.arange(3), [low_popularity.ratio_USA.mean(),med_popularity.ratio_USA.mean(),high_popularity.ratio_USA.mean()])\n",
    "plt.title(\"USA ratio across popularity user groups\")\n",
    "plt.show()"
   ]
  }
 ],
 "metadata": {
  "kernelspec": {
   "display_name": "Python 3 (ipykernel)",
   "language": "python",
   "name": "python3"
  },
  "language_info": {
   "codemirror_mode": {
    "name": "ipython",
    "version": 3
   },
   "file_extension": ".py",
   "mimetype": "text/x-python",
   "name": "python",
   "nbconvert_exporter": "python",
   "pygments_lexer": "ipython3",
   "version": "3.8.12"
  }
 },
 "nbformat": 4,
 "nbformat_minor": 5
}
